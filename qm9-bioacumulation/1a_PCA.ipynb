{
 "cells": [
  {
   "cell_type": "markdown",
   "id": "2a752723-6912-4454-8d9b-604bfd1153f3",
   "metadata": {
    "tags": []
   },
   "source": [
    "# Import"
   ]
  },
  {
   "cell_type": "code",
   "execution_count": 1,
   "id": "4878e3cb-af69-481f-a67d-fb439ee2a0d5",
   "metadata": {},
   "outputs": [],
   "source": [
    "import numpy as np\n",
    "import pandas as pd\n",
    "from rdkit import Chem\n",
    "from scipy import stats\n",
    "\n",
    "import pathlib\n",
    "\n",
    "import matplotlib.pyplot as plt\n",
    "import seaborn as sns"
   ]
  },
  {
   "cell_type": "code",
   "execution_count": 2,
   "id": "c9a14d92-f900-45ac-9967-ea0fd847b7c6",
   "metadata": {},
   "outputs": [],
   "source": [
    "from matplotlib import rcParams\n",
    "rcParams[\"font.size\"] = 20"
   ]
  },
  {
   "cell_type": "markdown",
   "id": "3ddede74-79d1-4b07-b789-cf1939fc74e6",
   "metadata": {
    "tags": []
   },
   "source": [
    "# Read Data"
   ]
  },
  {
   "cell_type": "code",
   "execution_count": 3,
   "id": "cb9dd4ba-0a2b-4076-9ce2-10c6edd8168d",
   "metadata": {},
   "outputs": [],
   "source": [
    "qm9 = pd.read_csv(\"notqm_ext_plus.csv\")\n",
    "qm9.index = qm9[\"Unnamed: 0\"]\n",
    "qm9.drop(columns=[\"Unnamed: 0\"], inplace=True)\n",
    "qm9[\"mol\"] = qm9[\"smiles\"].apply(Chem.MolFromSmiles)"
   ]
  },
  {
   "cell_type": "code",
   "execution_count": 4,
   "id": "d197fa41-f126-4fdd-9cbb-2928ff9a8789",
   "metadata": {},
   "outputs": [
    {
     "data": {
      "text/html": [
       "<div>\n",
       "<style scoped>\n",
       "    .dataframe tbody tr th:only-of-type {\n",
       "        vertical-align: middle;\n",
       "    }\n",
       "\n",
       "    .dataframe tbody tr th {\n",
       "        vertical-align: top;\n",
       "    }\n",
       "\n",
       "    .dataframe thead th {\n",
       "        text-align: right;\n",
       "    }\n",
       "</style>\n",
       "<table border=\"1\" class=\"dataframe\">\n",
       "  <thead>\n",
       "    <tr style=\"text-align: right;\">\n",
       "      <th></th>\n",
       "      <th>smiles</th>\n",
       "      <th>mu</th>\n",
       "      <th>alpha</th>\n",
       "      <th>homo</th>\n",
       "      <th>lumo</th>\n",
       "      <th>gap</th>\n",
       "      <th>zpve</th>\n",
       "      <th>cv</th>\n",
       "      <th>u0</th>\n",
       "      <th>u298</th>\n",
       "      <th>h298</th>\n",
       "      <th>g298</th>\n",
       "      <th>num_atoms</th>\n",
       "      <th>mol</th>\n",
       "    </tr>\n",
       "    <tr>\n",
       "      <th>Unnamed: 0</th>\n",
       "      <th></th>\n",
       "      <th></th>\n",
       "      <th></th>\n",
       "      <th></th>\n",
       "      <th></th>\n",
       "      <th></th>\n",
       "      <th></th>\n",
       "      <th></th>\n",
       "      <th></th>\n",
       "      <th></th>\n",
       "      <th></th>\n",
       "      <th></th>\n",
       "      <th></th>\n",
       "      <th></th>\n",
       "    </tr>\n",
       "  </thead>\n",
       "  <tbody>\n",
       "    <tr>\n",
       "      <th>0</th>\n",
       "      <td>C</td>\n",
       "      <td>0.0000</td>\n",
       "      <td>13.210000</td>\n",
       "      <td>-0.387700</td>\n",
       "      <td>0.117100</td>\n",
       "      <td>0.504800</td>\n",
       "      <td>0.044749</td>\n",
       "      <td>6.469</td>\n",
       "      <td>-40.478930</td>\n",
       "      <td>-40.476062</td>\n",
       "      <td>-40.475117</td>\n",
       "      <td>-40.498597</td>\n",
       "      <td>1</td>\n",
       "      <td>&lt;rdkit.Chem.rdchem.Mol object at 0x7f8efd72a5c0&gt;</td>\n",
       "    </tr>\n",
       "    <tr>\n",
       "      <th>1</th>\n",
       "      <td>N</td>\n",
       "      <td>1.6256</td>\n",
       "      <td>9.460000</td>\n",
       "      <td>-0.257000</td>\n",
       "      <td>0.082900</td>\n",
       "      <td>0.339900</td>\n",
       "      <td>0.034358</td>\n",
       "      <td>6.316</td>\n",
       "      <td>-56.525887</td>\n",
       "      <td>-56.523026</td>\n",
       "      <td>-56.522082</td>\n",
       "      <td>-56.544961</td>\n",
       "      <td>1</td>\n",
       "      <td>&lt;rdkit.Chem.rdchem.Mol object at 0x7f8efd72a6e0&gt;</td>\n",
       "    </tr>\n",
       "    <tr>\n",
       "      <th>2</th>\n",
       "      <td>O</td>\n",
       "      <td>1.8511</td>\n",
       "      <td>6.310000</td>\n",
       "      <td>-0.292800</td>\n",
       "      <td>0.068700</td>\n",
       "      <td>0.361500</td>\n",
       "      <td>0.021375</td>\n",
       "      <td>6.002</td>\n",
       "      <td>-76.404702</td>\n",
       "      <td>-76.401867</td>\n",
       "      <td>-76.400922</td>\n",
       "      <td>-76.422349</td>\n",
       "      <td>1</td>\n",
       "      <td>&lt;rdkit.Chem.rdchem.Mol object at 0x7f8efd72a860&gt;</td>\n",
       "    </tr>\n",
       "    <tr>\n",
       "      <th>3</th>\n",
       "      <td>C#C</td>\n",
       "      <td>0.0000</td>\n",
       "      <td>16.280000</td>\n",
       "      <td>-0.284500</td>\n",
       "      <td>0.050600</td>\n",
       "      <td>0.335100</td>\n",
       "      <td>0.026841</td>\n",
       "      <td>8.574</td>\n",
       "      <td>-77.308427</td>\n",
       "      <td>-77.305527</td>\n",
       "      <td>-77.304583</td>\n",
       "      <td>-77.327429</td>\n",
       "      <td>2</td>\n",
       "      <td>&lt;rdkit.Chem.rdchem.Mol object at 0x7f8efd72a2c0&gt;</td>\n",
       "    </tr>\n",
       "    <tr>\n",
       "      <th>4</th>\n",
       "      <td>C#N</td>\n",
       "      <td>2.8937</td>\n",
       "      <td>12.990000</td>\n",
       "      <td>-0.360400</td>\n",
       "      <td>0.019100</td>\n",
       "      <td>0.379600</td>\n",
       "      <td>0.016601</td>\n",
       "      <td>6.278</td>\n",
       "      <td>-93.411888</td>\n",
       "      <td>-93.409370</td>\n",
       "      <td>-93.408425</td>\n",
       "      <td>-93.431246</td>\n",
       "      <td>2</td>\n",
       "      <td>&lt;rdkit.Chem.rdchem.Mol object at 0x7f8efd729f60&gt;</td>\n",
       "    </tr>\n",
       "    <tr>\n",
       "      <th>...</th>\n",
       "      <td>...</td>\n",
       "      <td>...</td>\n",
       "      <td>...</td>\n",
       "      <td>...</td>\n",
       "      <td>...</td>\n",
       "      <td>...</td>\n",
       "      <td>...</td>\n",
       "      <td>...</td>\n",
       "      <td>...</td>\n",
       "      <td>...</td>\n",
       "      <td>...</td>\n",
       "      <td>...</td>\n",
       "      <td>...</td>\n",
       "      <td>...</td>\n",
       "    </tr>\n",
       "    <tr>\n",
       "      <th>155584</th>\n",
       "      <td>CCCCCC(Cl)(Cl)Cl</td>\n",
       "      <td>1.6998</td>\n",
       "      <td>91.438949</td>\n",
       "      <td>-0.437290</td>\n",
       "      <td>0.151861</td>\n",
       "      <td>0.589151</td>\n",
       "      <td>0.160407</td>\n",
       "      <td>39.627</td>\n",
       "      <td>-1612.899018</td>\n",
       "      <td>-1615.123029</td>\n",
       "      <td>-1612.726294</td>\n",
       "      <td>-1612.777780</td>\n",
       "      <td>9</td>\n",
       "      <td>&lt;rdkit.Chem.rdchem.Mol object at 0x7f8efbcf2860&gt;</td>\n",
       "    </tr>\n",
       "    <tr>\n",
       "      <th>155585</th>\n",
       "      <td>CCCNCC(Cl)(Cl)Cl</td>\n",
       "      <td>1.0758</td>\n",
       "      <td>88.241518</td>\n",
       "      <td>-0.375428</td>\n",
       "      <td>0.153217</td>\n",
       "      <td>0.528645</td>\n",
       "      <td>0.149152</td>\n",
       "      <td>39.102</td>\n",
       "      <td>-1628.886186</td>\n",
       "      <td>-1631.151460</td>\n",
       "      <td>-1628.724865</td>\n",
       "      <td>-1628.775694</td>\n",
       "      <td>9</td>\n",
       "      <td>&lt;rdkit.Chem.rdchem.Mol object at 0x7f8efbcf28c0&gt;</td>\n",
       "    </tr>\n",
       "    <tr>\n",
       "      <th>155586</th>\n",
       "      <td>CCCOCC(Cl)(Cl)Cl</td>\n",
       "      <td>5.6070</td>\n",
       "      <td>83.982178</td>\n",
       "      <td>-0.429966</td>\n",
       "      <td>0.153852</td>\n",
       "      <td>0.583818</td>\n",
       "      <td>0.136714</td>\n",
       "      <td>37.858</td>\n",
       "      <td>-1648.698216</td>\n",
       "      <td>-1651.009167</td>\n",
       "      <td>-1648.549519</td>\n",
       "      <td>-1648.600105</td>\n",
       "      <td>9</td>\n",
       "      <td>&lt;rdkit.Chem.rdchem.Mol object at 0x7f8efbcf2920&gt;</td>\n",
       "    </tr>\n",
       "    <tr>\n",
       "      <th>155587</th>\n",
       "      <td>CCOCCC(Cl)(Cl)Cl</td>\n",
       "      <td>2.3204</td>\n",
       "      <td>84.138259</td>\n",
       "      <td>-0.422295</td>\n",
       "      <td>0.154023</td>\n",
       "      <td>0.576318</td>\n",
       "      <td>0.136364</td>\n",
       "      <td>37.923</td>\n",
       "      <td>-1648.697812</td>\n",
       "      <td>-1651.009802</td>\n",
       "      <td>-1648.549344</td>\n",
       "      <td>-1648.600651</td>\n",
       "      <td>9</td>\n",
       "      <td>&lt;rdkit.Chem.rdchem.Mol object at 0x7f8efbcf2980&gt;</td>\n",
       "    </tr>\n",
       "    <tr>\n",
       "      <th>155588</th>\n",
       "      <td>COCCCC(Cl)(Cl)Cl</td>\n",
       "      <td>1.2436</td>\n",
       "      <td>84.161490</td>\n",
       "      <td>-0.423938</td>\n",
       "      <td>0.149230</td>\n",
       "      <td>0.573168</td>\n",
       "      <td>0.136824</td>\n",
       "      <td>37.796</td>\n",
       "      <td>-1648.694048</td>\n",
       "      <td>-1651.004804</td>\n",
       "      <td>-1648.545188</td>\n",
       "      <td>-1648.595878</td>\n",
       "      <td>9</td>\n",
       "      <td>&lt;rdkit.Chem.rdchem.Mol object at 0x7f8efbcf29e0&gt;</td>\n",
       "    </tr>\n",
       "  </tbody>\n",
       "</table>\n",
       "<p>155468 rows × 14 columns</p>\n",
       "</div>"
      ],
      "text/plain": [
       "                      smiles      mu      alpha      homo      lumo       gap  \\\n",
       "Unnamed: 0                                                                      \n",
       "0                          C  0.0000  13.210000 -0.387700  0.117100  0.504800   \n",
       "1                          N  1.6256   9.460000 -0.257000  0.082900  0.339900   \n",
       "2                          O  1.8511   6.310000 -0.292800  0.068700  0.361500   \n",
       "3                        C#C  0.0000  16.280000 -0.284500  0.050600  0.335100   \n",
       "4                        C#N  2.8937  12.990000 -0.360400  0.019100  0.379600   \n",
       "...                      ...     ...        ...       ...       ...       ...   \n",
       "155584      CCCCCC(Cl)(Cl)Cl  1.6998  91.438949 -0.437290  0.151861  0.589151   \n",
       "155585      CCCNCC(Cl)(Cl)Cl  1.0758  88.241518 -0.375428  0.153217  0.528645   \n",
       "155586      CCCOCC(Cl)(Cl)Cl  5.6070  83.982178 -0.429966  0.153852  0.583818   \n",
       "155587      CCOCCC(Cl)(Cl)Cl  2.3204  84.138259 -0.422295  0.154023  0.576318   \n",
       "155588      COCCCC(Cl)(Cl)Cl  1.2436  84.161490 -0.423938  0.149230  0.573168   \n",
       "\n",
       "                zpve      cv           u0         u298         h298  \\\n",
       "Unnamed: 0                                                            \n",
       "0           0.044749   6.469   -40.478930   -40.476062   -40.475117   \n",
       "1           0.034358   6.316   -56.525887   -56.523026   -56.522082   \n",
       "2           0.021375   6.002   -76.404702   -76.401867   -76.400922   \n",
       "3           0.026841   8.574   -77.308427   -77.305527   -77.304583   \n",
       "4           0.016601   6.278   -93.411888   -93.409370   -93.408425   \n",
       "...              ...     ...          ...          ...          ...   \n",
       "155584      0.160407  39.627 -1612.899018 -1615.123029 -1612.726294   \n",
       "155585      0.149152  39.102 -1628.886186 -1631.151460 -1628.724865   \n",
       "155586      0.136714  37.858 -1648.698216 -1651.009167 -1648.549519   \n",
       "155587      0.136364  37.923 -1648.697812 -1651.009802 -1648.549344   \n",
       "155588      0.136824  37.796 -1648.694048 -1651.004804 -1648.545188   \n",
       "\n",
       "                   g298  num_atoms  \\\n",
       "Unnamed: 0                           \n",
       "0            -40.498597          1   \n",
       "1            -56.544961          1   \n",
       "2            -76.422349          1   \n",
       "3            -77.327429          2   \n",
       "4            -93.431246          2   \n",
       "...                 ...        ...   \n",
       "155584     -1612.777780          9   \n",
       "155585     -1628.775694          9   \n",
       "155586     -1648.600105          9   \n",
       "155587     -1648.600651          9   \n",
       "155588     -1648.595878          9   \n",
       "\n",
       "                                                         mol  \n",
       "Unnamed: 0                                                    \n",
       "0           <rdkit.Chem.rdchem.Mol object at 0x7f8efd72a5c0>  \n",
       "1           <rdkit.Chem.rdchem.Mol object at 0x7f8efd72a6e0>  \n",
       "2           <rdkit.Chem.rdchem.Mol object at 0x7f8efd72a860>  \n",
       "3           <rdkit.Chem.rdchem.Mol object at 0x7f8efd72a2c0>  \n",
       "4           <rdkit.Chem.rdchem.Mol object at 0x7f8efd729f60>  \n",
       "...                                                      ...  \n",
       "155584      <rdkit.Chem.rdchem.Mol object at 0x7f8efbcf2860>  \n",
       "155585      <rdkit.Chem.rdchem.Mol object at 0x7f8efbcf28c0>  \n",
       "155586      <rdkit.Chem.rdchem.Mol object at 0x7f8efbcf2920>  \n",
       "155587      <rdkit.Chem.rdchem.Mol object at 0x7f8efbcf2980>  \n",
       "155588      <rdkit.Chem.rdchem.Mol object at 0x7f8efbcf29e0>  \n",
       "\n",
       "[155468 rows x 14 columns]"
      ]
     },
     "execution_count": 4,
     "metadata": {},
     "output_type": "execute_result"
    }
   ],
   "source": [
    "qm9.dropna()"
   ]
  },
  {
   "cell_type": "code",
   "execution_count": 5,
   "id": "54451fb4-f601-4536-ba54-e3d5e871b345",
   "metadata": {
    "tags": []
   },
   "outputs": [],
   "source": [
    "db_conf = pd.read_parquet(\"db_conf.parquet\")\n",
    "db_conf.index = db_conf[\"db_idx\"]\n",
    "db_conf.drop(columns=[\"Unnamed: 0\", \"db_idx\"], inplace=True)\n",
    "db_conf[\"mol\"] = db_conf[\"smiles\"].apply(Chem.MolFromSmiles)\n",
    "# db_conf.drop(columns=[\"CONF\", \"CONFCl\", \"CONFClBr\", \"CONFClBrI\"], inplace=True)\n",
    "db_conf = db_conf.reset_index(drop=True)"
   ]
  },
  {
   "cell_type": "code",
   "execution_count": 6,
   "id": "e26c1eab-4278-4703-8275-f02c74c07d55",
   "metadata": {},
   "outputs": [],
   "source": [
    "na_ind = db_conf[db_conf.iloc[:,4:-1].isna().all(axis=1)].index"
   ]
  },
  {
   "cell_type": "code",
   "execution_count": 7,
   "id": "64652019-dd3b-48af-b515-3b9094e424e9",
   "metadata": {},
   "outputs": [],
   "source": [
    "db_conf = db_conf.drop(index=na_ind)\n",
    "db_conf = db_conf.reset_index(drop=True)"
   ]
  },
  {
   "cell_type": "markdown",
   "id": "cad7b5a8-2e7b-4bde-842a-99336bc0774c",
   "metadata": {},
   "source": [
    "# Labels Encoding"
   ]
  },
  {
   "cell_type": "code",
   "execution_count": 8,
   "id": "fb7a7b4c-94d6-43c8-ae18-d83924fb9418",
   "metadata": {},
   "outputs": [],
   "source": [
    "from sklearn import preprocessing"
   ]
  },
  {
   "cell_type": "code",
   "execution_count": 9,
   "id": "e198ea3f-a926-4cfe-988e-aa8c382deaba",
   "metadata": {},
   "outputs": [],
   "source": [
    "le = preprocessing.LabelEncoder()\n",
    "le.fit([\"nB\", \"B\"])\n",
    "db_conf[\"class_encoded\"] = le.transform(db_conf[\"Experimental BCF class\"])"
   ]
  },
  {
   "cell_type": "code",
   "execution_count": 10,
   "id": "06b1a0bc-4176-475a-912a-48d56f350dff",
   "metadata": {},
   "outputs": [],
   "source": [
    "db_conf[\"class_encoded\"] = db_conf[\"class_encoded\"].replace({1:0, 0:1})"
   ]
  },
  {
   "cell_type": "code",
   "execution_count": 11,
   "id": "850f57a5-0c9b-4948-860e-0010de7e7ddc",
   "metadata": {},
   "outputs": [
    {
     "data": {
      "text/html": [
       "<div>\n",
       "<style scoped>\n",
       "    .dataframe tbody tr th:only-of-type {\n",
       "        vertical-align: middle;\n",
       "    }\n",
       "\n",
       "    .dataframe tbody tr th {\n",
       "        vertical-align: top;\n",
       "    }\n",
       "\n",
       "    .dataframe thead th {\n",
       "        text-align: right;\n",
       "    }\n",
       "</style>\n",
       "<table border=\"1\" class=\"dataframe\">\n",
       "  <thead>\n",
       "    <tr style=\"text-align: right;\">\n",
       "      <th></th>\n",
       "      <th>smiles</th>\n",
       "      <th>Experimental logarithmic BCF</th>\n",
       "      <th>Experimental BCF class</th>\n",
       "      <th>FQD_2</th>\n",
       "      <th>FQD_3</th>\n",
       "      <th>FQD_4</th>\n",
       "      <th>FQD_5</th>\n",
       "      <th>FQD_6</th>\n",
       "      <th>FQD_7</th>\n",
       "      <th>FQD_8</th>\n",
       "      <th>FQD_9</th>\n",
       "      <th>mol</th>\n",
       "      <th>class_encoded</th>\n",
       "    </tr>\n",
       "  </thead>\n",
       "  <tbody>\n",
       "    <tr>\n",
       "      <th>0</th>\n",
       "      <td>CNc1cccc(C)c1</td>\n",
       "      <td>0.849</td>\n",
       "      <td>nB</td>\n",
       "      <td>[6]</td>\n",
       "      <td>None</td>\n",
       "      <td>None</td>\n",
       "      <td>None</td>\n",
       "      <td>[213]</td>\n",
       "      <td>[929, 939]</td>\n",
       "      <td>[4340, 5388]</td>\n",
       "      <td>[32107]</td>\n",
       "      <td>&lt;rdkit.Chem.rdchem.Mol object at 0x7f8ef9c507c0&gt;</td>\n",
       "      <td>0</td>\n",
       "    </tr>\n",
       "    <tr>\n",
       "      <th>1</th>\n",
       "      <td>CC(COc1ccc(Oc2ccccc2)cc1)Oc1ccccn1</td>\n",
       "      <td>3.140</td>\n",
       "      <td>B</td>\n",
       "      <td>[6, 7]</td>\n",
       "      <td>[12, 13, 14]</td>\n",
       "      <td>[21, 39, 40, 41]</td>\n",
       "      <td>[81, 84, 134, 136]</td>\n",
       "      <td>[213, 214, 277, 395, 548]</td>\n",
       "      <td>[948, 953, 1578]</td>\n",
       "      <td>[4590, 5397, 5402]</td>\n",
       "      <td>[31844, 33001, 33006]</td>\n",
       "      <td>&lt;rdkit.Chem.rdchem.Mol object at 0x7f8ef9c50820&gt;</td>\n",
       "      <td>1</td>\n",
       "    </tr>\n",
       "    <tr>\n",
       "      <th>2</th>\n",
       "      <td>CCCCCCCC/C=C\\CCCCCCCCCCCCC</td>\n",
       "      <td>1.176</td>\n",
       "      <td>nB</td>\n",
       "      <td>[6]</td>\n",
       "      <td>[12]</td>\n",
       "      <td>[38]</td>\n",
       "      <td>[132]</td>\n",
       "      <td>[542]</td>\n",
       "      <td>[2719]</td>\n",
       "      <td>[14787]</td>\n",
       "      <td>[123245]</td>\n",
       "      <td>&lt;rdkit.Chem.rdchem.Mol object at 0x7f8ef8c43700&gt;</td>\n",
       "      <td>0</td>\n",
       "    </tr>\n",
       "    <tr>\n",
       "      <th>3</th>\n",
       "      <td>Clc1ccccc1Cl</td>\n",
       "      <td>2.500</td>\n",
       "      <td>nB</td>\n",
       "      <td>None</td>\n",
       "      <td>None</td>\n",
       "      <td>None</td>\n",
       "      <td>None</td>\n",
       "      <td>[213]</td>\n",
       "      <td>[134076]</td>\n",
       "      <td>[135441]</td>\n",
       "      <td>None</td>\n",
       "      <td>&lt;rdkit.Chem.rdchem.Mol object at 0x7f8ef8c435e0&gt;</td>\n",
       "      <td>0</td>\n",
       "    </tr>\n",
       "    <tr>\n",
       "      <th>4</th>\n",
       "      <td>Nc1cccc([N+](=O)[O-])c1</td>\n",
       "      <td>0.522</td>\n",
       "      <td>nB</td>\n",
       "      <td>None</td>\n",
       "      <td>None</td>\n",
       "      <td>None</td>\n",
       "      <td>None</td>\n",
       "      <td>[213]</td>\n",
       "      <td>[939]</td>\n",
       "      <td>[4360]</td>\n",
       "      <td>[131914]</td>\n",
       "      <td>&lt;rdkit.Chem.rdchem.Mol object at 0x7f8ef8c43580&gt;</td>\n",
       "      <td>0</td>\n",
       "    </tr>\n",
       "    <tr>\n",
       "      <th>...</th>\n",
       "      <td>...</td>\n",
       "      <td>...</td>\n",
       "      <td>...</td>\n",
       "      <td>...</td>\n",
       "      <td>...</td>\n",
       "      <td>...</td>\n",
       "      <td>...</td>\n",
       "      <td>...</td>\n",
       "      <td>...</td>\n",
       "      <td>...</td>\n",
       "      <td>...</td>\n",
       "      <td>...</td>\n",
       "      <td>...</td>\n",
       "    </tr>\n",
       "    <tr>\n",
       "      <th>834</th>\n",
       "      <td>CC1=C(C)S(=O)(=O)CCS1(=O)=O</td>\n",
       "      <td>0.633</td>\n",
       "      <td>nB</td>\n",
       "      <td>[6]</td>\n",
       "      <td>None</td>\n",
       "      <td>None</td>\n",
       "      <td>None</td>\n",
       "      <td>[133896, 133900]</td>\n",
       "      <td>[134043, 134044, 134066, 134068]</td>\n",
       "      <td>[135086, 135404, 135405]</td>\n",
       "      <td>[145115]</td>\n",
       "      <td>&lt;rdkit.Chem.rdchem.Mol object at 0x7f8ef8c2fc40&gt;</td>\n",
       "      <td>0</td>\n",
       "    </tr>\n",
       "    <tr>\n",
       "      <th>835</th>\n",
       "      <td>FC(F)(F)c1ccc(Cl)c(Cl)c1</td>\n",
       "      <td>3.176</td>\n",
       "      <td>B</td>\n",
       "      <td>[6]</td>\n",
       "      <td>None</td>\n",
       "      <td>None</td>\n",
       "      <td>None</td>\n",
       "      <td>[213]</td>\n",
       "      <td>[929, 134076]</td>\n",
       "      <td>[134378, 134382, 135441]</td>\n",
       "      <td>[137748]</td>\n",
       "      <td>&lt;rdkit.Chem.rdchem.Mol object at 0x7f8ef8c2fca0&gt;</td>\n",
       "      <td>1</td>\n",
       "    </tr>\n",
       "    <tr>\n",
       "      <th>836</th>\n",
       "      <td>CN(C)[C@@H]1C(=O)C(C(=N)O)=C(O)[C@@]2(O)C(=O)C...</td>\n",
       "      <td>-0.222</td>\n",
       "      <td>nB</td>\n",
       "      <td>[5, 6, 7]</td>\n",
       "      <td>[10, 12, 13]</td>\n",
       "      <td>[17, 20, 21, 34, 37, 38, 39, 41]</td>\n",
       "      <td>[54, 67, 68, 70, 71, 80, 81, 82, 83, 127, 131,...</td>\n",
       "      <td>[213, 224, 226, 228, 254, 258, 259, 260, 271, ...</td>\n",
       "      <td>[929, 948, 1092, 1094, 1099, 1104, 1119, 1129,...</td>\n",
       "      <td>[4341, 4957, 4959, 5378, 5407, 5809, 5841, 584...</td>\n",
       "      <td>[26263, 26273, 28867, 32083, 32170, 32193, 322...</td>\n",
       "      <td>&lt;rdkit.Chem.rdchem.Mol object at 0x7f8ef8c2fd00&gt;</td>\n",
       "      <td>0</td>\n",
       "    </tr>\n",
       "    <tr>\n",
       "      <th>837</th>\n",
       "      <td>CC(C)N(C(=O)CCl)c1ccccc1</td>\n",
       "      <td>1.568</td>\n",
       "      <td>nB</td>\n",
       "      <td>[5, 6]</td>\n",
       "      <td>[10, 11, 12]</td>\n",
       "      <td>[18, 35]</td>\n",
       "      <td>[69, 73, 128]</td>\n",
       "      <td>[213, 255, 262, 288, 386]</td>\n",
       "      <td>[939, 1121, 1626, 1677]</td>\n",
       "      <td>[5388, 7443]</td>\n",
       "      <td>[25503, 26283, 32992]</td>\n",
       "      <td>&lt;rdkit.Chem.rdchem.Mol object at 0x7f8ef8c2fd60&gt;</td>\n",
       "      <td>0</td>\n",
       "    </tr>\n",
       "    <tr>\n",
       "      <th>838</th>\n",
       "      <td>Cc1cc(Cc2cc(C)cc(C(C)(C)C)c2O)c(O)c(C(C)(C)C)c1</td>\n",
       "      <td>2.595</td>\n",
       "      <td>nB</td>\n",
       "      <td>[6, 7]</td>\n",
       "      <td>[12]</td>\n",
       "      <td>[20]</td>\n",
       "      <td>[53]</td>\n",
       "      <td>[213]</td>\n",
       "      <td>[929, 948]</td>\n",
       "      <td>[4335, 4564, 4959, 5378]</td>\n",
       "      <td>[26263, 27871, 28436, 28900, 32080, 32203]</td>\n",
       "      <td>&lt;rdkit.Chem.rdchem.Mol object at 0x7f8ef8c2fdc0&gt;</td>\n",
       "      <td>0</td>\n",
       "    </tr>\n",
       "  </tbody>\n",
       "</table>\n",
       "<p>839 rows × 13 columns</p>\n",
       "</div>"
      ],
      "text/plain": [
       "                                                smiles  \\\n",
       "0                                        CNc1cccc(C)c1   \n",
       "1                   CC(COc1ccc(Oc2ccccc2)cc1)Oc1ccccn1   \n",
       "2                           CCCCCCCC/C=C\\CCCCCCCCCCCCC   \n",
       "3                                         Clc1ccccc1Cl   \n",
       "4                              Nc1cccc([N+](=O)[O-])c1   \n",
       "..                                                 ...   \n",
       "834                        CC1=C(C)S(=O)(=O)CCS1(=O)=O   \n",
       "835                           FC(F)(F)c1ccc(Cl)c(Cl)c1   \n",
       "836  CN(C)[C@@H]1C(=O)C(C(=N)O)=C(O)[C@@]2(O)C(=O)C...   \n",
       "837                           CC(C)N(C(=O)CCl)c1ccccc1   \n",
       "838    Cc1cc(Cc2cc(C)cc(C(C)(C)C)c2O)c(O)c(C(C)(C)C)c1   \n",
       "\n",
       "     Experimental logarithmic BCF Experimental BCF class      FQD_2  \\\n",
       "0                           0.849                     nB        [6]   \n",
       "1                           3.140                      B     [6, 7]   \n",
       "2                           1.176                     nB        [6]   \n",
       "3                           2.500                     nB       None   \n",
       "4                           0.522                     nB       None   \n",
       "..                            ...                    ...        ...   \n",
       "834                         0.633                     nB        [6]   \n",
       "835                         3.176                      B        [6]   \n",
       "836                        -0.222                     nB  [5, 6, 7]   \n",
       "837                         1.568                     nB     [5, 6]   \n",
       "838                         2.595                     nB     [6, 7]   \n",
       "\n",
       "            FQD_3                             FQD_4  \\\n",
       "0            None                              None   \n",
       "1    [12, 13, 14]                  [21, 39, 40, 41]   \n",
       "2            [12]                              [38]   \n",
       "3            None                              None   \n",
       "4            None                              None   \n",
       "..            ...                               ...   \n",
       "834          None                              None   \n",
       "835          None                              None   \n",
       "836  [10, 12, 13]  [17, 20, 21, 34, 37, 38, 39, 41]   \n",
       "837  [10, 11, 12]                          [18, 35]   \n",
       "838          [12]                              [20]   \n",
       "\n",
       "                                                 FQD_5  \\\n",
       "0                                                 None   \n",
       "1                                   [81, 84, 134, 136]   \n",
       "2                                                [132]   \n",
       "3                                                 None   \n",
       "4                                                 None   \n",
       "..                                                 ...   \n",
       "834                                               None   \n",
       "835                                               None   \n",
       "836  [54, 67, 68, 70, 71, 80, 81, 82, 83, 127, 131,...   \n",
       "837                                      [69, 73, 128]   \n",
       "838                                               [53]   \n",
       "\n",
       "                                                 FQD_6  \\\n",
       "0                                                [213]   \n",
       "1                            [213, 214, 277, 395, 548]   \n",
       "2                                                [542]   \n",
       "3                                                [213]   \n",
       "4                                                [213]   \n",
       "..                                                 ...   \n",
       "834                                   [133896, 133900]   \n",
       "835                                              [213]   \n",
       "836  [213, 224, 226, 228, 254, 258, 259, 260, 271, ...   \n",
       "837                          [213, 255, 262, 288, 386]   \n",
       "838                                              [213]   \n",
       "\n",
       "                                                 FQD_7  \\\n",
       "0                                           [929, 939]   \n",
       "1                                     [948, 953, 1578]   \n",
       "2                                               [2719]   \n",
       "3                                             [134076]   \n",
       "4                                                [939]   \n",
       "..                                                 ...   \n",
       "834                   [134043, 134044, 134066, 134068]   \n",
       "835                                      [929, 134076]   \n",
       "836  [929, 948, 1092, 1094, 1099, 1104, 1119, 1129,...   \n",
       "837                            [939, 1121, 1626, 1677]   \n",
       "838                                         [929, 948]   \n",
       "\n",
       "                                                 FQD_8  \\\n",
       "0                                         [4340, 5388]   \n",
       "1                                   [4590, 5397, 5402]   \n",
       "2                                              [14787]   \n",
       "3                                             [135441]   \n",
       "4                                               [4360]   \n",
       "..                                                 ...   \n",
       "834                           [135086, 135404, 135405]   \n",
       "835                           [134378, 134382, 135441]   \n",
       "836  [4341, 4957, 4959, 5378, 5407, 5809, 5841, 584...   \n",
       "837                                       [5388, 7443]   \n",
       "838                           [4335, 4564, 4959, 5378]   \n",
       "\n",
       "                                                 FQD_9  \\\n",
       "0                                              [32107]   \n",
       "1                                [31844, 33001, 33006]   \n",
       "2                                             [123245]   \n",
       "3                                                 None   \n",
       "4                                             [131914]   \n",
       "..                                                 ...   \n",
       "834                                           [145115]   \n",
       "835                                           [137748]   \n",
       "836  [26263, 26273, 28867, 32083, 32170, 32193, 322...   \n",
       "837                              [25503, 26283, 32992]   \n",
       "838         [26263, 27871, 28436, 28900, 32080, 32203]   \n",
       "\n",
       "                                                  mol  class_encoded  \n",
       "0    <rdkit.Chem.rdchem.Mol object at 0x7f8ef9c507c0>              0  \n",
       "1    <rdkit.Chem.rdchem.Mol object at 0x7f8ef9c50820>              1  \n",
       "2    <rdkit.Chem.rdchem.Mol object at 0x7f8ef8c43700>              0  \n",
       "3    <rdkit.Chem.rdchem.Mol object at 0x7f8ef8c435e0>              0  \n",
       "4    <rdkit.Chem.rdchem.Mol object at 0x7f8ef8c43580>              0  \n",
       "..                                                ...            ...  \n",
       "834  <rdkit.Chem.rdchem.Mol object at 0x7f8ef8c2fc40>              0  \n",
       "835  <rdkit.Chem.rdchem.Mol object at 0x7f8ef8c2fca0>              1  \n",
       "836  <rdkit.Chem.rdchem.Mol object at 0x7f8ef8c2fd00>              0  \n",
       "837  <rdkit.Chem.rdchem.Mol object at 0x7f8ef8c2fd60>              0  \n",
       "838  <rdkit.Chem.rdchem.Mol object at 0x7f8ef8c2fdc0>              0  \n",
       "\n",
       "[839 rows x 13 columns]"
      ]
     },
     "execution_count": 11,
     "metadata": {},
     "output_type": "execute_result"
    }
   ],
   "source": [
    "db_conf"
   ]
  },
  {
   "cell_type": "code",
   "execution_count": 12,
   "id": "0b72d381-5fe4-4a4d-90d0-2e3caefdd12d",
   "metadata": {},
   "outputs": [],
   "source": [
    "db_conf[\"mol\"] = db_conf[\"smiles\"].apply(Chem.MolFromSmiles)\n",
    "db_conf[\"num_atoms\"] = db_conf[\"mol\"].apply(lambda x: x.GetNumAtoms())"
   ]
  },
  {
   "cell_type": "markdown",
   "id": "e9fd2d61-83e2-4c52-85aa-acf3ac513353",
   "metadata": {},
   "source": [
    "# Calculate FQDs"
   ]
  },
  {
   "cell_type": "code",
   "execution_count": 13,
   "id": "8067f502-5dc7-4722-9602-1b362eb4bca9",
   "metadata": {},
   "outputs": [],
   "source": [
    "db_conf_filled = db_conf.copy()"
   ]
  },
  {
   "cell_type": "code",
   "execution_count": 14,
   "id": "3e477cff-468a-493b-83e2-48e253e9d3d8",
   "metadata": {},
   "outputs": [],
   "source": [
    "qprops = \"mu,alpha,homo,lumo,gap,zpve,u0,u298,h298,g298,cv\".split(\",\")"
   ]
  },
  {
   "cell_type": "code",
   "execution_count": 15,
   "id": "56bb78ca-d787-4b85-9fea-fe662a25df2d",
   "metadata": {},
   "outputs": [],
   "source": [
    "import statistics\n",
    "def calculate_FQDs(indices, patterns_db, quantum_property):\n",
    "    if isinstance(indices, int) and indices == 0:\n",
    "        return np.NaN\n",
    "    if indices is None:\n",
    "        return np.NaN\n",
    "    ret = []\n",
    "    for i in indices:\n",
    "        ret.append(patterns_db[quantum_property][i])\n",
    "    return statistics.mean(ret)\n",
    "\n",
    "def calculate_FQDs_quant(mol, indices, patterns_db, quantum_property):\n",
    "    if isinstance(indices, int) and indices == 0:\n",
    "        return np.NaN\n",
    "    if indices is None:\n",
    "        return np.NaN\n",
    "    ret = []\n",
    "    for i in indices:\n",
    "        n_occurences = len(list(mol.GetSubstructMatch(patterns_db[\"mol\"][i])))\n",
    "        ret.append(patterns_db[quantum_property][i] * n_occurences)\n",
    "    return statistics.mean(ret)"
   ]
  },
  {
   "cell_type": "code",
   "execution_count": 16,
   "id": "37b595c6-a2ad-4ab3-9227-688be633248c",
   "metadata": {},
   "outputs": [],
   "source": [
    "# for prop in qprops:\n",
    "#     for num in range(2, 10):\n",
    "#         db_conf_filled[f\"FQD_{num}_{prop}\"] = db_conf_filled[f\"FQD_{num}\"].apply(calculate_FQDs, patterns_db=qm9, quantum_property=prop)"
   ]
  },
  {
   "cell_type": "code",
   "execution_count": 17,
   "id": "c7cb8f24-ebd9-478d-8b02-7baef4d0366f",
   "metadata": {
    "tags": []
   },
   "outputs": [],
   "source": [
    "# for prop in qprops:\n",
    "#     for num in range(2, 10):\n",
    "#         db_conf_filled[f\"FQD_{num}_{prop}_per_atom\"] = db_conf_filled[f\"FQD_{num}_{prop}\"] / db_conf_filled[\"num_atoms\"]"
   ]
  },
  {
   "cell_type": "markdown",
   "id": "8d354e11-3c14-4aff-ac5b-05d6d6e11c8d",
   "metadata": {},
   "source": [
    "# Quant FQDs"
   ]
  },
  {
   "cell_type": "code",
   "execution_count": 18,
   "id": "a0266f16-ee39-4510-a708-a69e93075d98",
   "metadata": {},
   "outputs": [],
   "source": [
    "for prop in qprops:\n",
    "    for num in range(2, 10):\n",
    "        db_conf_filled[f\"quant_FQD_{num}_{prop}\"] = db_conf_filled[\"mol\"].apply(lambda x: calculate_FQDs_quant(x,\n",
    "                                                                          indices=db_conf_filled[db_conf_filled[\"mol\"]==x][f\"FQD_{num}\"].iloc[0],\n",
    "                                                                          patterns_db=qm9,\n",
    "                                                                          quantum_property=prop)\n",
    "                                                                         )"
   ]
  },
  {
   "cell_type": "code",
   "execution_count": 19,
   "id": "82ccff4a-f10f-4b0b-9c33-db43738efe47",
   "metadata": {},
   "outputs": [],
   "source": [
    "for prop in qprops:\n",
    "    for num in range(2, 10):\n",
    "        db_conf_filled[f\"quant_FQD_{num}_{prop}_per_atom\"] = db_conf_filled[f\"quant_FQD_{num}_{prop}\"] / db_conf_filled[\"num_atoms\"]"
   ]
  },
  {
   "cell_type": "code",
   "execution_count": 20,
   "id": "cf573b4a-27b1-43f5-a4a7-cbb969bc7e73",
   "metadata": {},
   "outputs": [],
   "source": [
    "import itertools\n",
    "fqd_cols_qual = []\n",
    "for num, prop in itertools.product(range(2,10), qprops):\n",
    "    fqd_cols_qual.append(f\"FQD_{num}_{prop}\")\n",
    "fqd_cols_qual_per_atom = [f\"{x}_per_atom\" for x in fqd_cols_qual]\n",
    "quant_fqd_cols = [f\"quant_{x}\" for x in fqd_cols_qual]\n",
    "quant_fqd_cols_per_atom = [f\"quant_{x}\" for x in fqd_cols_qual_per_atom]"
   ]
  },
  {
   "cell_type": "code",
   "execution_count": 21,
   "id": "6abc708f-5c22-450c-8e4c-77c2fe18882a",
   "metadata": {
    "tags": []
   },
   "outputs": [
    {
     "data": {
      "text/plain": [
       "Index(['quant_FQD_2_mu', 'quant_FQD_3_mu', 'quant_FQD_4_mu', 'quant_FQD_5_mu',\n",
       "       'quant_FQD_6_mu', 'quant_FQD_7_mu', 'quant_FQD_8_mu', 'quant_FQD_9_mu',\n",
       "       'quant_FQD_2_alpha', 'quant_FQD_3_alpha',\n",
       "       ...\n",
       "       'quant_FQD_8_g298_per_atom', 'quant_FQD_9_g298_per_atom',\n",
       "       'quant_FQD_2_cv_per_atom', 'quant_FQD_3_cv_per_atom',\n",
       "       'quant_FQD_4_cv_per_atom', 'quant_FQD_5_cv_per_atom',\n",
       "       'quant_FQD_6_cv_per_atom', 'quant_FQD_7_cv_per_atom',\n",
       "       'quant_FQD_8_cv_per_atom', 'quant_FQD_9_cv_per_atom'],\n",
       "      dtype='object', length=176)"
      ]
     },
     "execution_count": 21,
     "metadata": {},
     "output_type": "execute_result"
    }
   ],
   "source": [
    "db_conf_filled.columns[14:]"
   ]
  },
  {
   "cell_type": "code",
   "execution_count": 22,
   "id": "a5b9c5f7-a3c5-474d-adf4-f4d6c895c809",
   "metadata": {
    "tags": []
   },
   "outputs": [],
   "source": [
    "cols = db_conf_filled.columns[14:]"
   ]
  },
  {
   "cell_type": "markdown",
   "id": "b09630b9-12fe-4d01-bad9-5cdc36b4cdd0",
   "metadata": {},
   "source": [
    "# Fill with zeros"
   ]
  },
  {
   "cell_type": "code",
   "execution_count": 23,
   "id": "a4eb2966-2709-4ca8-a513-864bba562569",
   "metadata": {},
   "outputs": [],
   "source": [
    "nan_cols = db_conf.iloc[:,3:11].isna()"
   ]
  },
  {
   "cell_type": "code",
   "execution_count": 24,
   "id": "dd7e1bfa-da9e-479c-951a-550874d94708",
   "metadata": {},
   "outputs": [],
   "source": [
    "x = db_conf_filled[cols].fillna(0)\n",
    "y = db_conf_filled[\"class_encoded\"]"
   ]
  },
  {
   "cell_type": "code",
   "execution_count": 25,
   "id": "258f0a25-57e1-478b-af6c-62c46ebe4516",
   "metadata": {},
   "outputs": [
    {
     "data": {
      "text/html": [
       "<div>\n",
       "<style scoped>\n",
       "    .dataframe tbody tr th:only-of-type {\n",
       "        vertical-align: middle;\n",
       "    }\n",
       "\n",
       "    .dataframe tbody tr th {\n",
       "        vertical-align: top;\n",
       "    }\n",
       "\n",
       "    .dataframe thead th {\n",
       "        text-align: right;\n",
       "    }\n",
       "</style>\n",
       "<table border=\"1\" class=\"dataframe\">\n",
       "  <thead>\n",
       "    <tr style=\"text-align: right;\">\n",
       "      <th></th>\n",
       "      <th>FQD_2_nan</th>\n",
       "      <th>FQD_3_nan</th>\n",
       "      <th>FQD_4_nan</th>\n",
       "      <th>FQD_5_nan</th>\n",
       "      <th>FQD_6_nan</th>\n",
       "      <th>FQD_7_nan</th>\n",
       "      <th>FQD_8_nan</th>\n",
       "      <th>FQD_9_nan</th>\n",
       "    </tr>\n",
       "  </thead>\n",
       "  <tbody>\n",
       "    <tr>\n",
       "      <th>0</th>\n",
       "      <td>False</td>\n",
       "      <td>True</td>\n",
       "      <td>True</td>\n",
       "      <td>True</td>\n",
       "      <td>False</td>\n",
       "      <td>False</td>\n",
       "      <td>False</td>\n",
       "      <td>False</td>\n",
       "    </tr>\n",
       "    <tr>\n",
       "      <th>1</th>\n",
       "      <td>False</td>\n",
       "      <td>False</td>\n",
       "      <td>False</td>\n",
       "      <td>False</td>\n",
       "      <td>False</td>\n",
       "      <td>False</td>\n",
       "      <td>False</td>\n",
       "      <td>False</td>\n",
       "    </tr>\n",
       "    <tr>\n",
       "      <th>2</th>\n",
       "      <td>False</td>\n",
       "      <td>False</td>\n",
       "      <td>False</td>\n",
       "      <td>False</td>\n",
       "      <td>False</td>\n",
       "      <td>False</td>\n",
       "      <td>False</td>\n",
       "      <td>False</td>\n",
       "    </tr>\n",
       "    <tr>\n",
       "      <th>3</th>\n",
       "      <td>True</td>\n",
       "      <td>True</td>\n",
       "      <td>True</td>\n",
       "      <td>True</td>\n",
       "      <td>False</td>\n",
       "      <td>False</td>\n",
       "      <td>False</td>\n",
       "      <td>True</td>\n",
       "    </tr>\n",
       "    <tr>\n",
       "      <th>4</th>\n",
       "      <td>True</td>\n",
       "      <td>True</td>\n",
       "      <td>True</td>\n",
       "      <td>True</td>\n",
       "      <td>False</td>\n",
       "      <td>False</td>\n",
       "      <td>False</td>\n",
       "      <td>False</td>\n",
       "    </tr>\n",
       "    <tr>\n",
       "      <th>...</th>\n",
       "      <td>...</td>\n",
       "      <td>...</td>\n",
       "      <td>...</td>\n",
       "      <td>...</td>\n",
       "      <td>...</td>\n",
       "      <td>...</td>\n",
       "      <td>...</td>\n",
       "      <td>...</td>\n",
       "    </tr>\n",
       "    <tr>\n",
       "      <th>834</th>\n",
       "      <td>False</td>\n",
       "      <td>True</td>\n",
       "      <td>True</td>\n",
       "      <td>True</td>\n",
       "      <td>False</td>\n",
       "      <td>False</td>\n",
       "      <td>False</td>\n",
       "      <td>False</td>\n",
       "    </tr>\n",
       "    <tr>\n",
       "      <th>835</th>\n",
       "      <td>False</td>\n",
       "      <td>True</td>\n",
       "      <td>True</td>\n",
       "      <td>True</td>\n",
       "      <td>False</td>\n",
       "      <td>False</td>\n",
       "      <td>False</td>\n",
       "      <td>False</td>\n",
       "    </tr>\n",
       "    <tr>\n",
       "      <th>836</th>\n",
       "      <td>False</td>\n",
       "      <td>False</td>\n",
       "      <td>False</td>\n",
       "      <td>False</td>\n",
       "      <td>False</td>\n",
       "      <td>False</td>\n",
       "      <td>False</td>\n",
       "      <td>False</td>\n",
       "    </tr>\n",
       "    <tr>\n",
       "      <th>837</th>\n",
       "      <td>False</td>\n",
       "      <td>False</td>\n",
       "      <td>False</td>\n",
       "      <td>False</td>\n",
       "      <td>False</td>\n",
       "      <td>False</td>\n",
       "      <td>False</td>\n",
       "      <td>False</td>\n",
       "    </tr>\n",
       "    <tr>\n",
       "      <th>838</th>\n",
       "      <td>False</td>\n",
       "      <td>False</td>\n",
       "      <td>False</td>\n",
       "      <td>False</td>\n",
       "      <td>False</td>\n",
       "      <td>False</td>\n",
       "      <td>False</td>\n",
       "      <td>False</td>\n",
       "    </tr>\n",
       "  </tbody>\n",
       "</table>\n",
       "<p>839 rows × 8 columns</p>\n",
       "</div>"
      ],
      "text/plain": [
       "     FQD_2_nan  FQD_3_nan  FQD_4_nan  FQD_5_nan  FQD_6_nan  FQD_7_nan  \\\n",
       "0        False       True       True       True      False      False   \n",
       "1        False      False      False      False      False      False   \n",
       "2        False      False      False      False      False      False   \n",
       "3         True       True       True       True      False      False   \n",
       "4         True       True       True       True      False      False   \n",
       "..         ...        ...        ...        ...        ...        ...   \n",
       "834      False       True       True       True      False      False   \n",
       "835      False       True       True       True      False      False   \n",
       "836      False      False      False      False      False      False   \n",
       "837      False      False      False      False      False      False   \n",
       "838      False      False      False      False      False      False   \n",
       "\n",
       "     FQD_8_nan  FQD_9_nan  \n",
       "0        False      False  \n",
       "1        False      False  \n",
       "2        False      False  \n",
       "3        False       True  \n",
       "4        False      False  \n",
       "..         ...        ...  \n",
       "834      False      False  \n",
       "835      False      False  \n",
       "836      False      False  \n",
       "837      False      False  \n",
       "838      False      False  \n",
       "\n",
       "[839 rows x 8 columns]"
      ]
     },
     "execution_count": 25,
     "metadata": {},
     "output_type": "execute_result"
    }
   ],
   "source": [
    "nan_cols_colnames = [f\"{x}_nan\" for x in nan_cols]\n",
    "nan_cols.columns = nan_cols_colnames\n",
    "nan_cols"
   ]
  },
  {
   "cell_type": "code",
   "execution_count": 26,
   "id": "d3df27d3-abe0-411b-9b25-be18174bd458",
   "metadata": {
    "tags": []
   },
   "outputs": [
    {
     "data": {
      "text/html": [
       "<div>\n",
       "<style scoped>\n",
       "    .dataframe tbody tr th:only-of-type {\n",
       "        vertical-align: middle;\n",
       "    }\n",
       "\n",
       "    .dataframe tbody tr th {\n",
       "        vertical-align: top;\n",
       "    }\n",
       "\n",
       "    .dataframe thead th {\n",
       "        text-align: right;\n",
       "    }\n",
       "</style>\n",
       "<table border=\"1\" class=\"dataframe\">\n",
       "  <thead>\n",
       "    <tr style=\"text-align: right;\">\n",
       "      <th></th>\n",
       "      <th>quant_FQD_2_mu</th>\n",
       "      <th>quant_FQD_3_mu</th>\n",
       "      <th>quant_FQD_4_mu</th>\n",
       "      <th>quant_FQD_5_mu</th>\n",
       "      <th>quant_FQD_6_mu</th>\n",
       "      <th>quant_FQD_7_mu</th>\n",
       "      <th>quant_FQD_8_mu</th>\n",
       "      <th>quant_FQD_9_mu</th>\n",
       "      <th>quant_FQD_2_alpha</th>\n",
       "      <th>quant_FQD_3_alpha</th>\n",
       "      <th>...</th>\n",
       "      <th>quant_FQD_8_cv_per_atom</th>\n",
       "      <th>quant_FQD_9_cv_per_atom</th>\n",
       "      <th>FQD_2_nan</th>\n",
       "      <th>FQD_3_nan</th>\n",
       "      <th>FQD_4_nan</th>\n",
       "      <th>FQD_5_nan</th>\n",
       "      <th>FQD_6_nan</th>\n",
       "      <th>FQD_7_nan</th>\n",
       "      <th>FQD_8_nan</th>\n",
       "      <th>FQD_9_nan</th>\n",
       "    </tr>\n",
       "  </thead>\n",
       "  <tbody>\n",
       "    <tr>\n",
       "      <th>0</th>\n",
       "      <td>0.000000</td>\n",
       "      <td>0.0000</td>\n",
       "      <td>0.00000</td>\n",
       "      <td>0.000000</td>\n",
       "      <td>0.000000</td>\n",
       "      <td>6.848800</td>\n",
       "      <td>13.020800</td>\n",
       "      <td>14.40630</td>\n",
       "      <td>47.900000</td>\n",
       "      <td>0.00</td>\n",
       "      <td>...</td>\n",
       "      <td>25.429333</td>\n",
       "      <td>34.071000</td>\n",
       "      <td>False</td>\n",
       "      <td>True</td>\n",
       "      <td>True</td>\n",
       "      <td>True</td>\n",
       "      <td>False</td>\n",
       "      <td>False</td>\n",
       "      <td>False</td>\n",
       "      <td>False</td>\n",
       "    </tr>\n",
       "    <tr>\n",
       "      <th>1</th>\n",
       "      <td>1.525800</td>\n",
       "      <td>2.6230</td>\n",
       "      <td>3.80990</td>\n",
       "      <td>8.173250</td>\n",
       "      <td>7.871760</td>\n",
       "      <td>5.880933</td>\n",
       "      <td>4.931733</td>\n",
       "      <td>12.29910</td>\n",
       "      <td>40.920000</td>\n",
       "      <td>90.75</td>\n",
       "      <td>...</td>\n",
       "      <td>8.696556</td>\n",
       "      <td>11.601875</td>\n",
       "      <td>False</td>\n",
       "      <td>False</td>\n",
       "      <td>False</td>\n",
       "      <td>False</td>\n",
       "      <td>False</td>\n",
       "      <td>False</td>\n",
       "      <td>False</td>\n",
       "      <td>False</td>\n",
       "    </tr>\n",
       "    <tr>\n",
       "      <th>2</th>\n",
       "      <td>0.000000</td>\n",
       "      <td>0.1791</td>\n",
       "      <td>0.00000</td>\n",
       "      <td>0.301500</td>\n",
       "      <td>0.000000</td>\n",
       "      <td>0.422100</td>\n",
       "      <td>0.000000</td>\n",
       "      <td>0.54180</td>\n",
       "      <td>47.900000</td>\n",
       "      <td>104.25</td>\n",
       "      <td>...</td>\n",
       "      <td>13.616348</td>\n",
       "      <td>17.217000</td>\n",
       "      <td>False</td>\n",
       "      <td>False</td>\n",
       "      <td>False</td>\n",
       "      <td>False</td>\n",
       "      <td>False</td>\n",
       "      <td>False</td>\n",
       "      <td>False</td>\n",
       "      <td>False</td>\n",
       "    </tr>\n",
       "    <tr>\n",
       "      <th>3</th>\n",
       "      <td>0.000000</td>\n",
       "      <td>0.0000</td>\n",
       "      <td>0.00000</td>\n",
       "      <td>0.000000</td>\n",
       "      <td>0.000000</td>\n",
       "      <td>-0.000700</td>\n",
       "      <td>-21.363200</td>\n",
       "      <td>0.00000</td>\n",
       "      <td>0.000000</td>\n",
       "      <td>0.00</td>\n",
       "      <td>...</td>\n",
       "      <td>24.767000</td>\n",
       "      <td>0.000000</td>\n",
       "      <td>True</td>\n",
       "      <td>True</td>\n",
       "      <td>True</td>\n",
       "      <td>True</td>\n",
       "      <td>False</td>\n",
       "      <td>False</td>\n",
       "      <td>False</td>\n",
       "      <td>True</td>\n",
       "    </tr>\n",
       "    <tr>\n",
       "      <th>4</th>\n",
       "      <td>0.000000</td>\n",
       "      <td>0.0000</td>\n",
       "      <td>0.00000</td>\n",
       "      <td>0.000000</td>\n",
       "      <td>0.000000</td>\n",
       "      <td>11.422600</td>\n",
       "      <td>9.324000</td>\n",
       "      <td>39.49380</td>\n",
       "      <td>0.000000</td>\n",
       "      <td>0.00</td>\n",
       "      <td>...</td>\n",
       "      <td>23.248000</td>\n",
       "      <td>23.053500</td>\n",
       "      <td>True</td>\n",
       "      <td>True</td>\n",
       "      <td>True</td>\n",
       "      <td>True</td>\n",
       "      <td>False</td>\n",
       "      <td>False</td>\n",
       "      <td>False</td>\n",
       "      <td>False</td>\n",
       "    </tr>\n",
       "    <tr>\n",
       "      <th>...</th>\n",
       "      <td>...</td>\n",
       "      <td>...</td>\n",
       "      <td>...</td>\n",
       "      <td>...</td>\n",
       "      <td>...</td>\n",
       "      <td>...</td>\n",
       "      <td>...</td>\n",
       "      <td>...</td>\n",
       "      <td>...</td>\n",
       "      <td>...</td>\n",
       "      <td>...</td>\n",
       "      <td>...</td>\n",
       "      <td>...</td>\n",
       "      <td>...</td>\n",
       "      <td>...</td>\n",
       "      <td>...</td>\n",
       "      <td>...</td>\n",
       "      <td>...</td>\n",
       "      <td>...</td>\n",
       "      <td>...</td>\n",
       "      <td>...</td>\n",
       "    </tr>\n",
       "    <tr>\n",
       "      <th>834</th>\n",
       "      <td>0.000000</td>\n",
       "      <td>0.0000</td>\n",
       "      <td>0.00000</td>\n",
       "      <td>0.000000</td>\n",
       "      <td>-3.479100</td>\n",
       "      <td>-10.527475</td>\n",
       "      <td>-11.717333</td>\n",
       "      <td>16.39350</td>\n",
       "      <td>47.900000</td>\n",
       "      <td>0.00</td>\n",
       "      <td>...</td>\n",
       "      <td>23.407333</td>\n",
       "      <td>30.375750</td>\n",
       "      <td>False</td>\n",
       "      <td>True</td>\n",
       "      <td>True</td>\n",
       "      <td>True</td>\n",
       "      <td>False</td>\n",
       "      <td>False</td>\n",
       "      <td>False</td>\n",
       "      <td>False</td>\n",
       "    </tr>\n",
       "    <tr>\n",
       "      <th>835</th>\n",
       "      <td>0.000000</td>\n",
       "      <td>0.0000</td>\n",
       "      <td>0.00000</td>\n",
       "      <td>0.000000</td>\n",
       "      <td>0.000000</td>\n",
       "      <td>1.137150</td>\n",
       "      <td>-18.736800</td>\n",
       "      <td>-27.43740</td>\n",
       "      <td>47.900000</td>\n",
       "      <td>0.00</td>\n",
       "      <td>...</td>\n",
       "      <td>16.680667</td>\n",
       "      <td>21.668250</td>\n",
       "      <td>False</td>\n",
       "      <td>True</td>\n",
       "      <td>True</td>\n",
       "      <td>True</td>\n",
       "      <td>False</td>\n",
       "      <td>False</td>\n",
       "      <td>False</td>\n",
       "      <td>False</td>\n",
       "    </tr>\n",
       "    <tr>\n",
       "      <th>836</th>\n",
       "      <td>2.423133</td>\n",
       "      <td>4.0410</td>\n",
       "      <td>5.00385</td>\n",
       "      <td>9.239357</td>\n",
       "      <td>9.384406</td>\n",
       "      <td>12.560830</td>\n",
       "      <td>15.701759</td>\n",
       "      <td>18.30079</td>\n",
       "      <td>36.733333</td>\n",
       "      <td>87.73</td>\n",
       "      <td>...</td>\n",
       "      <td>8.633506</td>\n",
       "      <td>10.959239</td>\n",
       "      <td>False</td>\n",
       "      <td>False</td>\n",
       "      <td>False</td>\n",
       "      <td>False</td>\n",
       "      <td>False</td>\n",
       "      <td>False</td>\n",
       "      <td>False</td>\n",
       "      <td>False</td>\n",
       "    </tr>\n",
       "    <tr>\n",
       "      <th>837</th>\n",
       "      <td>2.108900</td>\n",
       "      <td>6.3565</td>\n",
       "      <td>14.68760</td>\n",
       "      <td>18.250833</td>\n",
       "      <td>17.415000</td>\n",
       "      <td>21.800975</td>\n",
       "      <td>20.810000</td>\n",
       "      <td>21.11280</td>\n",
       "      <td>38.130000</td>\n",
       "      <td>81.43</td>\n",
       "      <td>...</td>\n",
       "      <td>18.348571</td>\n",
       "      <td>20.109643</td>\n",
       "      <td>False</td>\n",
       "      <td>False</td>\n",
       "      <td>False</td>\n",
       "      <td>False</td>\n",
       "      <td>False</td>\n",
       "      <td>False</td>\n",
       "      <td>False</td>\n",
       "      <td>False</td>\n",
       "    </tr>\n",
       "    <tr>\n",
       "      <th>838</th>\n",
       "      <td>1.525800</td>\n",
       "      <td>0.1791</td>\n",
       "      <td>0.35880</td>\n",
       "      <td>0.001500</td>\n",
       "      <td>0.000000</td>\n",
       "      <td>5.530000</td>\n",
       "      <td>6.785800</td>\n",
       "      <td>7.66275</td>\n",
       "      <td>40.920000</td>\n",
       "      <td>104.25</td>\n",
       "      <td>...</td>\n",
       "      <td>9.052960</td>\n",
       "      <td>12.213000</td>\n",
       "      <td>False</td>\n",
       "      <td>False</td>\n",
       "      <td>False</td>\n",
       "      <td>False</td>\n",
       "      <td>False</td>\n",
       "      <td>False</td>\n",
       "      <td>False</td>\n",
       "      <td>False</td>\n",
       "    </tr>\n",
       "  </tbody>\n",
       "</table>\n",
       "<p>839 rows × 184 columns</p>\n",
       "</div>"
      ],
      "text/plain": [
       "     quant_FQD_2_mu  quant_FQD_3_mu  quant_FQD_4_mu  quant_FQD_5_mu  \\\n",
       "0          0.000000          0.0000         0.00000        0.000000   \n",
       "1          1.525800          2.6230         3.80990        8.173250   \n",
       "2          0.000000          0.1791         0.00000        0.301500   \n",
       "3          0.000000          0.0000         0.00000        0.000000   \n",
       "4          0.000000          0.0000         0.00000        0.000000   \n",
       "..              ...             ...             ...             ...   \n",
       "834        0.000000          0.0000         0.00000        0.000000   \n",
       "835        0.000000          0.0000         0.00000        0.000000   \n",
       "836        2.423133          4.0410         5.00385        9.239357   \n",
       "837        2.108900          6.3565        14.68760       18.250833   \n",
       "838        1.525800          0.1791         0.35880        0.001500   \n",
       "\n",
       "     quant_FQD_6_mu  quant_FQD_7_mu  quant_FQD_8_mu  quant_FQD_9_mu  \\\n",
       "0          0.000000        6.848800       13.020800        14.40630   \n",
       "1          7.871760        5.880933        4.931733        12.29910   \n",
       "2          0.000000        0.422100        0.000000         0.54180   \n",
       "3          0.000000       -0.000700      -21.363200         0.00000   \n",
       "4          0.000000       11.422600        9.324000        39.49380   \n",
       "..              ...             ...             ...             ...   \n",
       "834       -3.479100      -10.527475      -11.717333        16.39350   \n",
       "835        0.000000        1.137150      -18.736800       -27.43740   \n",
       "836        9.384406       12.560830       15.701759        18.30079   \n",
       "837       17.415000       21.800975       20.810000        21.11280   \n",
       "838        0.000000        5.530000        6.785800         7.66275   \n",
       "\n",
       "     quant_FQD_2_alpha  quant_FQD_3_alpha  ...  quant_FQD_8_cv_per_atom  \\\n",
       "0            47.900000               0.00  ...                25.429333   \n",
       "1            40.920000              90.75  ...                 8.696556   \n",
       "2            47.900000             104.25  ...                13.616348   \n",
       "3             0.000000               0.00  ...                24.767000   \n",
       "4             0.000000               0.00  ...                23.248000   \n",
       "..                 ...                ...  ...                      ...   \n",
       "834          47.900000               0.00  ...                23.407333   \n",
       "835          47.900000               0.00  ...                16.680667   \n",
       "836          36.733333              87.73  ...                 8.633506   \n",
       "837          38.130000              81.43  ...                18.348571   \n",
       "838          40.920000             104.25  ...                 9.052960   \n",
       "\n",
       "     quant_FQD_9_cv_per_atom  FQD_2_nan  FQD_3_nan  FQD_4_nan  FQD_5_nan  \\\n",
       "0                  34.071000      False       True       True       True   \n",
       "1                  11.601875      False      False      False      False   \n",
       "2                  17.217000      False      False      False      False   \n",
       "3                   0.000000       True       True       True       True   \n",
       "4                  23.053500       True       True       True       True   \n",
       "..                       ...        ...        ...        ...        ...   \n",
       "834                30.375750      False       True       True       True   \n",
       "835                21.668250      False       True       True       True   \n",
       "836                10.959239      False      False      False      False   \n",
       "837                20.109643      False      False      False      False   \n",
       "838                12.213000      False      False      False      False   \n",
       "\n",
       "     FQD_6_nan  FQD_7_nan  FQD_8_nan  FQD_9_nan  \n",
       "0        False      False      False      False  \n",
       "1        False      False      False      False  \n",
       "2        False      False      False      False  \n",
       "3        False      False      False       True  \n",
       "4        False      False      False      False  \n",
       "..         ...        ...        ...        ...  \n",
       "834      False      False      False      False  \n",
       "835      False      False      False      False  \n",
       "836      False      False      False      False  \n",
       "837      False      False      False      False  \n",
       "838      False      False      False      False  \n",
       "\n",
       "[839 rows x 184 columns]"
      ]
     },
     "execution_count": 26,
     "metadata": {},
     "output_type": "execute_result"
    }
   ],
   "source": [
    "x = pd.concat([x, nan_cols], axis=1)\n",
    "x"
   ]
  },
  {
   "cell_type": "code",
   "execution_count": 27,
   "id": "f26b53cb-046d-42b1-8a60-00568bda255e",
   "metadata": {},
   "outputs": [],
   "source": [
    "dat3, dat3_y = x.copy(), y.copy()"
   ]
  },
  {
   "cell_type": "markdown",
   "id": "6c5646ef-5cf3-41b0-b8c2-32c389d044aa",
   "metadata": {},
   "source": [
    "# OOB dataset creation"
   ]
  },
  {
   "cell_type": "code",
   "execution_count": 28,
   "id": "f6a10904-93bc-4ead-ab49-f67f0c8b0eb9",
   "metadata": {
    "tags": []
   },
   "outputs": [],
   "source": [
    "oob_idx = np.loadtxt(\"oob_idx\").astype(int)\n",
    "train_idx = np.loadtxt(\"train_idx\").astype(int)"
   ]
  },
  {
   "cell_type": "code",
   "execution_count": 29,
   "id": "e0d31e59-0dd6-4f4c-8ed6-2e199e4e6e5a",
   "metadata": {},
   "outputs": [],
   "source": [
    "res_x, res_y = x.loc[list(train_idx.astype(int))], y.loc[list(train_idx.astype(int))]"
   ]
  },
  {
   "cell_type": "code",
   "execution_count": 30,
   "id": "2cd506ca-2eca-48f2-8f13-7cfcdfdde6dc",
   "metadata": {
    "tags": []
   },
   "outputs": [],
   "source": [
    "oob_x, oob_y = x.loc[list(oob_idx)], y.loc[list(oob_idx)]"
   ]
  },
  {
   "cell_type": "code",
   "execution_count": 31,
   "id": "e7d1895a-cfdb-4f7a-ac75-4f93946d4c66",
   "metadata": {},
   "outputs": [],
   "source": [
    "x, y = res_x, res_y"
   ]
  },
  {
   "cell_type": "code",
   "execution_count": 32,
   "id": "6fae8657-9bbc-4715-a4d5-d67f3af71761",
   "metadata": {},
   "outputs": [
    {
     "data": {
      "text/plain": [
       "0    409\n",
       "1    117\n",
       "Name: class_encoded, dtype: int64"
      ]
     },
     "execution_count": 32,
     "metadata": {},
     "output_type": "execute_result"
    }
   ],
   "source": [
    "y.value_counts()"
   ]
  },
  {
   "cell_type": "markdown",
   "id": "4b14c650-6aaa-4cb2-947b-ecd08ff92119",
   "metadata": {},
   "source": [
    "# Modelling"
   ]
  },
  {
   "cell_type": "markdown",
   "id": "8cec4d91-4185-418c-8a82-1c56d31c57a5",
   "metadata": {},
   "source": [
    "# Pipeline creation"
   ]
  },
  {
   "cell_type": "code",
   "execution_count": 36,
   "id": "2ced5b3a-d260-4bed-9f70-ad012e547d7c",
   "metadata": {},
   "outputs": [],
   "source": [
    "from sklearn.preprocessing import StandardScaler\n",
    "from sklearn.pipeline import Pipeline\n",
    "from sklearn.decomposition import PCA\n",
    "from sklearn.compose import ColumnTransformer\n",
    "from imblearn.over_sampling import RandomOverSampler"
   ]
  },
  {
   "cell_type": "code",
   "execution_count": 38,
   "id": "deb8dc61-6434-47f6-8772-ea9e005ba403",
   "metadata": {},
   "outputs": [],
   "source": [
    "from sklearn.linear_model import LogisticRegression\n",
    "from sklearn.model_selection import cross_val_score\n",
    "from sklearn.metrics import f1_score, balanced_accuracy_score\n",
    "from sklearn.ensemble import RandomForestClassifier, GradientBoostingClassifier, HistGradientBoostingClassifier\n",
    "from sklearn.svm import SVC\n",
    "from sklearn.neighbors import KNeighborsClassifier\n",
    "from sklearn.dummy import DummyClassifier\n",
    "import xgboost as xgb\n",
    "import lightgbm as lgb"
   ]
  },
  {
   "cell_type": "code",
   "execution_count": 39,
   "id": "c480c62a-ef83-4fb2-ba55-e44114d34748",
   "metadata": {},
   "outputs": [],
   "source": [
    "scor_dict = {\"algorithm\": [],\n",
    "            \"balanced_accuracy\": [],\n",
    "            \"f1 score\": []}"
   ]
  },
  {
   "cell_type": "code",
   "execution_count": 37,
   "id": "dcaa13c3-c85f-4f38-85d4-930624e99ac4",
   "metadata": {
    "tags": []
   },
   "outputs": [],
   "source": [
    "pca = PCA(n_components=0.95)"
   ]
  },
  {
   "cell_type": "code",
   "execution_count": 40,
   "id": "c3575cb0-cf38-4b99-8932-07b1e6e57d6f",
   "metadata": {},
   "outputs": [],
   "source": [
    "from sklearn.model_selection import StratifiedKFold\n",
    "\n",
    "def my_score(model, n_folds, scoring_callable, X, Y):\n",
    "    scores = [],[]\n",
    "    cv = StratifiedKFold(n_folds)\n",
    "    oversampler = RandomOverSampler(random_state=1)\n",
    "    preprocessor = ColumnTransformer(\n",
    "        [(\"prep\", Pipeline([\n",
    "            (\"scaler\", StandardScaler()),\n",
    "            (\"pca_cont_data\", pca)\n",
    "        ]),\n",
    "                                     cols)], remainder=\"passthrough\")\n",
    "\n",
    "    for train_index, validation_index in cv.split(X, Y):\n",
    "        x, y = X.iloc[train_index], Y.iloc[train_index]\n",
    "        xx, yy = oversampler.fit_resample(x, y)\n",
    "        xx = preprocessor.fit_transform(xx)\n",
    "        model.fit(xx, yy)\n",
    "        x_val = X.iloc[validation_index]\n",
    "        x_val = preprocessor.transform(x_val)\n",
    "        score_bac = scoring_callable[0](Y.iloc[validation_index], model.predict(x_val))\n",
    "        score_f = scoring_callable[1](Y.iloc[validation_index], model.predict(x_val))\n",
    "        \n",
    "        print(f\"bac: {score_bac}, f1: {score_f}\")\n",
    "        scores[0].append(score_bac)\n",
    "        scores[1].append(score_f)\n",
    "    \n",
    "    return scores"
   ]
  },
  {
   "cell_type": "markdown",
   "id": "d494a30f-7f71-4867-a892-14d1257d4280",
   "metadata": {
    "tags": []
   },
   "source": [
    "### Baseline"
   ]
  },
  {
   "cell_type": "code",
   "execution_count": 40,
   "id": "82314f90-66c6-4866-8ae9-3ebc08f394b6",
   "metadata": {},
   "outputs": [],
   "source": [
    "scor_dict[\"algorithm\"].extend([\"Baseline\"]*5)"
   ]
  },
  {
   "cell_type": "code",
   "execution_count": 41,
   "id": "c4776462-f935-43b9-b549-c03c3855d9f5",
   "metadata": {},
   "outputs": [],
   "source": [
    "dum = DummyClassifier(strategy=\"uniform\", random_state=1)"
   ]
  },
  {
   "cell_type": "code",
   "execution_count": 42,
   "id": "e012c479-804b-42cf-96be-aa4ab04c6d82",
   "metadata": {},
   "outputs": [
    {
     "name": "stdout",
     "output_type": "stream",
     "text": [
      "bac: 0.41565040650406504, f1: 0.2439024390243903\n",
      "bac: 0.46604938271604934, f1: 0.2926829268292683\n",
      "bac: 0.5082184517497349, f1: 0.32098765432098764\n",
      "bac: 0.4247083775185578, f1: 0.24691358024691357\n",
      "bac: 0.591728525980912, f1: 0.3950617283950617\n"
     ]
    }
   ],
   "source": [
    "scores = my_score(dum, 5, [balanced_accuracy_score, f1_score], x, y)"
   ]
  },
  {
   "cell_type": "code",
   "execution_count": 43,
   "id": "575ef84b-4656-4b01-9556-b15da393a6dd",
   "metadata": {},
   "outputs": [],
   "source": [
    "scor_dict[\"balanced_accuracy\"].extend(list(scores[0]))"
   ]
  },
  {
   "cell_type": "code",
   "execution_count": 44,
   "id": "66a4960c-17da-46e2-9ab0-49cee843e76d",
   "metadata": {},
   "outputs": [],
   "source": [
    "scor_dict[\"f1 score\"].extend(list(scores[1]))"
   ]
  },
  {
   "cell_type": "markdown",
   "id": "63e7272c-bdb3-4d81-ad20-194dc702c855",
   "metadata": {},
   "source": [
    "### LogClf"
   ]
  },
  {
   "cell_type": "code",
   "execution_count": 45,
   "id": "2316c9a4-79cc-4899-a465-7b98017e062d",
   "metadata": {},
   "outputs": [],
   "source": [
    "scor_dict[\"algorithm\"].extend([\"Logistic Regression\"]*5)"
   ]
  },
  {
   "cell_type": "code",
   "execution_count": 46,
   "id": "091609c8-6234-4240-8174-c5fa0784f9ff",
   "metadata": {},
   "outputs": [],
   "source": [
    "reg = LogisticRegression(max_iter=100000)"
   ]
  },
  {
   "cell_type": "code",
   "execution_count": 47,
   "id": "1928e599-0927-40f2-b5ef-f37adf04870e",
   "metadata": {},
   "outputs": [
    {
     "name": "stdout",
     "output_type": "stream",
     "text": [
      "bac: 0.7433943089430894, f1: 0.5588235294117647\n",
      "bac: 0.8510802469135803, f1: 0.711864406779661\n",
      "bac: 0.7232237539766702, f1: 0.53125\n",
      "bac: 0.7319724284199364, f1: 0.5517241379310345\n",
      "bac: 0.7372746553552492, f1: 0.5833333333333334\n"
     ]
    }
   ],
   "source": [
    "scores = my_score(reg, 5, [balanced_accuracy_score, f1_score], x, y)"
   ]
  },
  {
   "cell_type": "code",
   "execution_count": 48,
   "id": "a3c0aa61-c281-4f2b-880f-a03e4c93e786",
   "metadata": {},
   "outputs": [],
   "source": [
    "scor_dict[\"balanced_accuracy\"].extend(list(scores[0]))"
   ]
  },
  {
   "cell_type": "code",
   "execution_count": 49,
   "id": "41cadb28-f9e6-4890-8340-3194173ac4f4",
   "metadata": {},
   "outputs": [],
   "source": [
    "scor_dict[\"f1 score\"].extend(list(scores[1]))"
   ]
  },
  {
   "cell_type": "markdown",
   "id": "a37845c7-9f1b-4e05-91a9-10611683d9e2",
   "metadata": {
    "tags": []
   },
   "source": [
    "### Rand Forest"
   ]
  },
  {
   "cell_type": "code",
   "execution_count": 50,
   "id": "4eea2ee3-4bd2-4673-aa6a-1fb480d79868",
   "metadata": {},
   "outputs": [],
   "source": [
    "scor_dict[\"algorithm\"].extend([\"Random Forest\"]*5)"
   ]
  },
  {
   "cell_type": "code",
   "execution_count": 51,
   "id": "d9c07b2f-e383-425e-9962-fe14b91b3bf1",
   "metadata": {},
   "outputs": [],
   "source": [
    "clf = RandomForestClassifier(\n",
    "            n_estimators=1000,\n",
    "            max_features=0.3,\n",
    "            random_state=1\n",
    ")"
   ]
  },
  {
   "cell_type": "code",
   "execution_count": 52,
   "id": "62bc5fbd-06dc-40b9-a3e8-de0dad6d783d",
   "metadata": {},
   "outputs": [
    {
     "name": "stdout",
     "output_type": "stream",
     "text": [
      "bac: 0.7540650406504065, f1: 0.6037735849056604\n",
      "bac: 0.8294753086419753, f1: 0.7555555555555556\n",
      "bac: 0.7494697773064687, f1: 0.6086956521739131\n",
      "bac: 0.7059915164369035, f1: 0.5454545454545454\n",
      "bac: 0.5999469777306469, f1: 0.3529411764705882\n"
     ]
    }
   ],
   "source": [
    "scores = my_score(clf, 5, [balanced_accuracy_score, f1_score], x, y)"
   ]
  },
  {
   "cell_type": "code",
   "execution_count": 53,
   "id": "1ac25116-4767-4ea8-9906-019837d4c22e",
   "metadata": {},
   "outputs": [],
   "source": [
    "scor_dict[\"balanced_accuracy\"].extend(list(scores[0]))"
   ]
  },
  {
   "cell_type": "code",
   "execution_count": 54,
   "id": "4b83d996-59c3-4364-ba95-031a2015a48c",
   "metadata": {},
   "outputs": [],
   "source": [
    "scor_dict[\"f1 score\"].extend(list(scores[1]))"
   ]
  },
  {
   "cell_type": "markdown",
   "id": "a3a3b253-154c-457e-a884-d685a48b69eb",
   "metadata": {
    "tags": []
   },
   "source": [
    "### Grad Boosting"
   ]
  },
  {
   "cell_type": "code",
   "execution_count": 55,
   "id": "232a20db-f12a-4d63-a5a9-e5a097edd623",
   "metadata": {},
   "outputs": [],
   "source": [
    "scor_dict[\"algorithm\"].extend([\"Gradient Boosting\"]*5)"
   ]
  },
  {
   "cell_type": "code",
   "execution_count": 56,
   "id": "e37e1fb6-14c9-4b14-97dd-eb16024a9989",
   "metadata": {},
   "outputs": [],
   "source": [
    "gbc = GradientBoostingClassifier(\n",
    "            n_estimators=1000,\n",
    "            max_features=0.3,\n",
    "            random_state = 1,\n",
    ")"
   ]
  },
  {
   "cell_type": "code",
   "execution_count": 57,
   "id": "8c4beb15-9067-4dce-ab6d-c98a3af38c21",
   "metadata": {},
   "outputs": [
    {
     "name": "stdout",
     "output_type": "stream",
     "text": [
      "bac: 0.7271341463414633, f1: 0.5660377358490567\n",
      "bac: 0.8171296296296297, f1: 0.723404255319149\n",
      "bac: 0.7712089077412514, f1: 0.6382978723404256\n",
      "bac: 0.6876988335100742, f1: 0.5106382978723404\n",
      "bac: 0.6468716861081655, f1: 0.45\n"
     ]
    }
   ],
   "source": [
    "scores = my_score(gbc, 5, [balanced_accuracy_score, f1_score], x, y)"
   ]
  },
  {
   "cell_type": "code",
   "execution_count": 58,
   "id": "50b7b0d1-b5e2-4b46-8ca5-e533d24def18",
   "metadata": {},
   "outputs": [],
   "source": [
    "scor_dict[\"balanced_accuracy\"].extend(list(scores[0]))"
   ]
  },
  {
   "cell_type": "code",
   "execution_count": 59,
   "id": "e123b435-2530-4b5e-824b-7603173adb8a",
   "metadata": {
    "tags": []
   },
   "outputs": [],
   "source": [
    "scor_dict[\"f1 score\"].extend(list(scores[1]))"
   ]
  },
  {
   "cell_type": "markdown",
   "id": "7137528c-534b-4019-a855-ec71f388f854",
   "metadata": {},
   "source": [
    "### KNN"
   ]
  },
  {
   "cell_type": "code",
   "execution_count": 60,
   "id": "cf2a3ec9-28f6-4afd-ae7d-236a4f46d2d6",
   "metadata": {},
   "outputs": [],
   "source": [
    "scor_dict[\"algorithm\"].extend([\"KNN\"]*5)"
   ]
  },
  {
   "cell_type": "code",
   "execution_count": 61,
   "id": "8088ebaf-90e7-4a34-bedb-377dba6ee70b",
   "metadata": {},
   "outputs": [],
   "source": [
    "from sklearn.neighbors import KNeighborsClassifier"
   ]
  },
  {
   "cell_type": "code",
   "execution_count": 62,
   "id": "7563f18e-c389-4d79-9770-3ee71551f6d3",
   "metadata": {},
   "outputs": [],
   "source": [
    "knc = KNeighborsClassifier()"
   ]
  },
  {
   "cell_type": "code",
   "execution_count": 63,
   "id": "659ec682-154f-41d8-9ccc-4569bc4282fc",
   "metadata": {},
   "outputs": [
    {
     "name": "stdout",
     "output_type": "stream",
     "text": [
      "bac: 0.7215447154471545, f1: 0.5263157894736842\n",
      "bac: 0.7662037037037037, f1: 0.5937499999999999\n",
      "bac: 0.6988335100742311, f1: 0.5\n",
      "bac: 0.6770943796394486, f1: 0.4776119402985074\n",
      "bac: 0.6519088016967126, f1: 0.45161290322580644\n"
     ]
    }
   ],
   "source": [
    "scores = my_score(knc, 5, [balanced_accuracy_score, f1_score], x, y)"
   ]
  },
  {
   "cell_type": "code",
   "execution_count": 64,
   "id": "51f9f37e-6ae4-45cd-a916-6bb2c4a5116c",
   "metadata": {},
   "outputs": [],
   "source": [
    "scor_dict[\"balanced_accuracy\"].extend(list(scores[0]))"
   ]
  },
  {
   "cell_type": "code",
   "execution_count": 65,
   "id": "df106e1c-43d2-48f7-995e-b0d4b377d607",
   "metadata": {},
   "outputs": [],
   "source": [
    "scor_dict[\"f1 score\"].extend(list(scores[1]))"
   ]
  },
  {
   "cell_type": "markdown",
   "id": "d0a47cfc-415f-411d-8156-76c00e22aa32",
   "metadata": {},
   "source": [
    "### SVC"
   ]
  },
  {
   "cell_type": "code",
   "execution_count": 66,
   "id": "e7655334-2b5e-47b4-acc8-e6cc986c5888",
   "metadata": {},
   "outputs": [],
   "source": [
    "scor_dict[\"algorithm\"].extend([\"SVC\"]*5)"
   ]
  },
  {
   "cell_type": "code",
   "execution_count": 67,
   "id": "00e0ce76-c813-4be5-8f80-9e589cce72c8",
   "metadata": {},
   "outputs": [],
   "source": [
    "from sklearn.svm import SVC"
   ]
  },
  {
   "cell_type": "code",
   "execution_count": 68,
   "id": "757612ab-09d5-4a7b-b4de-b13b3fd4d862",
   "metadata": {},
   "outputs": [],
   "source": [
    "svc = SVC(kernel=\"poly\", degree=4)"
   ]
  },
  {
   "cell_type": "code",
   "execution_count": 69,
   "id": "e7348477-822c-422b-92ff-c241f545b77f",
   "metadata": {},
   "outputs": [
    {
     "name": "stdout",
     "output_type": "stream",
     "text": [
      "bac: 0.6768292682926829, f1: 0.5\n",
      "bac: 0.7569444444444444, f1: 0.625\n",
      "bac: 0.7494697773064687, f1: 0.6086956521739131\n",
      "bac: 0.634676564156946, f1: 0.42857142857142855\n",
      "bac: 0.634676564156946, f1: 0.42857142857142855\n"
     ]
    }
   ],
   "source": [
    "scores = my_score(svc, 5, [balanced_accuracy_score, f1_score], x, y)"
   ]
  },
  {
   "cell_type": "code",
   "execution_count": 70,
   "id": "ad27d385-b170-44aa-a543-4cc08b534c73",
   "metadata": {},
   "outputs": [],
   "source": [
    "scor_dict[\"balanced_accuracy\"].extend(list(scores[0]))"
   ]
  },
  {
   "cell_type": "code",
   "execution_count": 71,
   "id": "f1f441e5-381a-4797-94e0-0710d4495754",
   "metadata": {},
   "outputs": [],
   "source": [
    "scor_dict[\"f1 score\"].extend(list(scores[1]))"
   ]
  },
  {
   "cell_type": "markdown",
   "id": "80b7cf58-ddd3-416a-bff5-07a39bcb4e79",
   "metadata": {},
   "source": [
    "### XGBoost"
   ]
  },
  {
   "cell_type": "code",
   "execution_count": 72,
   "id": "7597f22d-7674-4c01-b7cb-2764476e6a74",
   "metadata": {},
   "outputs": [],
   "source": [
    "scor_dict[\"algorithm\"].extend([\"XGBoost\"]*5)"
   ]
  },
  {
   "cell_type": "code",
   "execution_count": 73,
   "id": "cff549b3-9d6d-43ea-adbe-4de1413b04b4",
   "metadata": {},
   "outputs": [],
   "source": [
    "xgbc = xgb.XGBClassifier(n_estimators=1000, random_state=1)"
   ]
  },
  {
   "cell_type": "code",
   "execution_count": 74,
   "id": "f8402a53-ef4c-4fa1-bbfa-4313ea189951",
   "metadata": {},
   "outputs": [
    {
     "name": "stdout",
     "output_type": "stream",
     "text": [
      "bac: 0.7540650406504065, f1: 0.6037735849056604\n",
      "bac: 0.7962962962962963, f1: 0.6956521739130435\n",
      "bac: 0.7433722163308589, f1: 0.5957446808510638\n",
      "bac: 0.6781548250265111, f1: 0.5\n",
      "bac: 0.6529692470837752, f1: 0.46153846153846156\n"
     ]
    }
   ],
   "source": [
    "scores = my_score(xgbc, 5, [balanced_accuracy_score, f1_score], x, y)"
   ]
  },
  {
   "cell_type": "code",
   "execution_count": 75,
   "id": "98adaf09-175f-4b69-bda3-a5677142b632",
   "metadata": {},
   "outputs": [],
   "source": [
    "scor_dict[\"balanced_accuracy\"].extend(list(scores[0]))"
   ]
  },
  {
   "cell_type": "code",
   "execution_count": 76,
   "id": "8fc887c3-27c2-4d8b-99fb-cfaade72c86a",
   "metadata": {},
   "outputs": [],
   "source": [
    "scor_dict[\"f1 score\"].extend(list(scores[1]))"
   ]
  },
  {
   "cell_type": "markdown",
   "id": "cc6de682-14b4-4a2f-873a-e5b4015679c0",
   "metadata": {},
   "source": [
    "### Light GBM"
   ]
  },
  {
   "cell_type": "code",
   "execution_count": 77,
   "id": "e17d89f9-0077-4a9e-bff7-61649a8df65f",
   "metadata": {},
   "outputs": [],
   "source": [
    "scor_dict[\"algorithm\"].extend([\"Light GBM\"]*5)"
   ]
  },
  {
   "cell_type": "code",
   "execution_count": 78,
   "id": "8c6bba0f-2a9d-4c16-84c9-4f974aca456c",
   "metadata": {},
   "outputs": [],
   "source": [
    "lgbc = lgb.LGBMClassifier(n_estimators=1000, random_state=1)"
   ]
  },
  {
   "cell_type": "code",
   "execution_count": 79,
   "id": "4f5f9675-2363-42c3-8fb0-1ff29a718dd0",
   "metadata": {},
   "outputs": [
    {
     "name": "stdout",
     "output_type": "stream",
     "text": [
      "bac: 0.7393292682926829, f1: 0.5882352941176471\n",
      "bac: 0.7816358024691358, f1: 0.6818181818181818\n",
      "bac: 0.7616648992576882, f1: 0.6363636363636365\n",
      "bac: 0.6903499469777307, f1: 0.5238095238095238\n",
      "bac: 0.6216861081654295, f1: 0.4\n"
     ]
    }
   ],
   "source": [
    "scores = my_score(lgbc, 5, [balanced_accuracy_score, f1_score], x, y)"
   ]
  },
  {
   "cell_type": "code",
   "execution_count": 80,
   "id": "d7be22ac-d534-4c0c-a6b2-405b716ab7e2",
   "metadata": {},
   "outputs": [],
   "source": [
    "scor_dict[\"balanced_accuracy\"].extend(list(scores[0]))"
   ]
  },
  {
   "cell_type": "code",
   "execution_count": 81,
   "id": "31c5e1e6-72ac-48e3-8986-f1937a3329e0",
   "metadata": {},
   "outputs": [],
   "source": [
    "scor_dict[\"f1 score\"].extend(list(scores[1]))"
   ]
  },
  {
   "cell_type": "markdown",
   "id": "9b95284a-3713-4c1d-b21f-d7ab8e78ef89",
   "metadata": {},
   "source": [
    "### Scores vis"
   ]
  },
  {
   "cell_type": "code",
   "execution_count": 82,
   "id": "30eb88c3-f39a-47dc-a883-fc00900b8ba0",
   "metadata": {
    "tags": []
   },
   "outputs": [
    {
     "data": {
      "text/html": [
       "<div>\n",
       "<style scoped>\n",
       "    .dataframe tbody tr th:only-of-type {\n",
       "        vertical-align: middle;\n",
       "    }\n",
       "\n",
       "    .dataframe tbody tr th {\n",
       "        vertical-align: top;\n",
       "    }\n",
       "\n",
       "    .dataframe thead th {\n",
       "        text-align: right;\n",
       "    }\n",
       "</style>\n",
       "<table border=\"1\" class=\"dataframe\">\n",
       "  <thead>\n",
       "    <tr style=\"text-align: right;\">\n",
       "      <th></th>\n",
       "      <th>algorithm</th>\n",
       "      <th>balanced_accuracy</th>\n",
       "      <th>f1 score</th>\n",
       "    </tr>\n",
       "  </thead>\n",
       "  <tbody>\n",
       "    <tr>\n",
       "      <th>0</th>\n",
       "      <td>Baseline</td>\n",
       "      <td>0.415650</td>\n",
       "      <td>0.243902</td>\n",
       "    </tr>\n",
       "    <tr>\n",
       "      <th>1</th>\n",
       "      <td>Baseline</td>\n",
       "      <td>0.466049</td>\n",
       "      <td>0.292683</td>\n",
       "    </tr>\n",
       "    <tr>\n",
       "      <th>2</th>\n",
       "      <td>Baseline</td>\n",
       "      <td>0.508218</td>\n",
       "      <td>0.320988</td>\n",
       "    </tr>\n",
       "    <tr>\n",
       "      <th>3</th>\n",
       "      <td>Baseline</td>\n",
       "      <td>0.424708</td>\n",
       "      <td>0.246914</td>\n",
       "    </tr>\n",
       "    <tr>\n",
       "      <th>4</th>\n",
       "      <td>Baseline</td>\n",
       "      <td>0.591729</td>\n",
       "      <td>0.395062</td>\n",
       "    </tr>\n",
       "    <tr>\n",
       "      <th>5</th>\n",
       "      <td>Logistic Regression</td>\n",
       "      <td>0.743394</td>\n",
       "      <td>0.558824</td>\n",
       "    </tr>\n",
       "    <tr>\n",
       "      <th>6</th>\n",
       "      <td>Logistic Regression</td>\n",
       "      <td>0.851080</td>\n",
       "      <td>0.711864</td>\n",
       "    </tr>\n",
       "    <tr>\n",
       "      <th>7</th>\n",
       "      <td>Logistic Regression</td>\n",
       "      <td>0.723224</td>\n",
       "      <td>0.531250</td>\n",
       "    </tr>\n",
       "    <tr>\n",
       "      <th>8</th>\n",
       "      <td>Logistic Regression</td>\n",
       "      <td>0.731972</td>\n",
       "      <td>0.551724</td>\n",
       "    </tr>\n",
       "    <tr>\n",
       "      <th>9</th>\n",
       "      <td>Logistic Regression</td>\n",
       "      <td>0.737275</td>\n",
       "      <td>0.583333</td>\n",
       "    </tr>\n",
       "    <tr>\n",
       "      <th>10</th>\n",
       "      <td>Random Forest</td>\n",
       "      <td>0.754065</td>\n",
       "      <td>0.603774</td>\n",
       "    </tr>\n",
       "    <tr>\n",
       "      <th>11</th>\n",
       "      <td>Random Forest</td>\n",
       "      <td>0.829475</td>\n",
       "      <td>0.755556</td>\n",
       "    </tr>\n",
       "    <tr>\n",
       "      <th>12</th>\n",
       "      <td>Random Forest</td>\n",
       "      <td>0.749470</td>\n",
       "      <td>0.608696</td>\n",
       "    </tr>\n",
       "    <tr>\n",
       "      <th>13</th>\n",
       "      <td>Random Forest</td>\n",
       "      <td>0.705992</td>\n",
       "      <td>0.545455</td>\n",
       "    </tr>\n",
       "    <tr>\n",
       "      <th>14</th>\n",
       "      <td>Random Forest</td>\n",
       "      <td>0.599947</td>\n",
       "      <td>0.352941</td>\n",
       "    </tr>\n",
       "    <tr>\n",
       "      <th>15</th>\n",
       "      <td>Gradient Boosting</td>\n",
       "      <td>0.727134</td>\n",
       "      <td>0.566038</td>\n",
       "    </tr>\n",
       "    <tr>\n",
       "      <th>16</th>\n",
       "      <td>Gradient Boosting</td>\n",
       "      <td>0.817130</td>\n",
       "      <td>0.723404</td>\n",
       "    </tr>\n",
       "    <tr>\n",
       "      <th>17</th>\n",
       "      <td>Gradient Boosting</td>\n",
       "      <td>0.771209</td>\n",
       "      <td>0.638298</td>\n",
       "    </tr>\n",
       "    <tr>\n",
       "      <th>18</th>\n",
       "      <td>Gradient Boosting</td>\n",
       "      <td>0.687699</td>\n",
       "      <td>0.510638</td>\n",
       "    </tr>\n",
       "    <tr>\n",
       "      <th>19</th>\n",
       "      <td>Gradient Boosting</td>\n",
       "      <td>0.646872</td>\n",
       "      <td>0.450000</td>\n",
       "    </tr>\n",
       "    <tr>\n",
       "      <th>20</th>\n",
       "      <td>KNN</td>\n",
       "      <td>0.721545</td>\n",
       "      <td>0.526316</td>\n",
       "    </tr>\n",
       "    <tr>\n",
       "      <th>21</th>\n",
       "      <td>KNN</td>\n",
       "      <td>0.766204</td>\n",
       "      <td>0.593750</td>\n",
       "    </tr>\n",
       "    <tr>\n",
       "      <th>22</th>\n",
       "      <td>KNN</td>\n",
       "      <td>0.698834</td>\n",
       "      <td>0.500000</td>\n",
       "    </tr>\n",
       "    <tr>\n",
       "      <th>23</th>\n",
       "      <td>KNN</td>\n",
       "      <td>0.677094</td>\n",
       "      <td>0.477612</td>\n",
       "    </tr>\n",
       "    <tr>\n",
       "      <th>24</th>\n",
       "      <td>KNN</td>\n",
       "      <td>0.651909</td>\n",
       "      <td>0.451613</td>\n",
       "    </tr>\n",
       "    <tr>\n",
       "      <th>25</th>\n",
       "      <td>SVC</td>\n",
       "      <td>0.676829</td>\n",
       "      <td>0.500000</td>\n",
       "    </tr>\n",
       "    <tr>\n",
       "      <th>26</th>\n",
       "      <td>SVC</td>\n",
       "      <td>0.756944</td>\n",
       "      <td>0.625000</td>\n",
       "    </tr>\n",
       "    <tr>\n",
       "      <th>27</th>\n",
       "      <td>SVC</td>\n",
       "      <td>0.749470</td>\n",
       "      <td>0.608696</td>\n",
       "    </tr>\n",
       "    <tr>\n",
       "      <th>28</th>\n",
       "      <td>SVC</td>\n",
       "      <td>0.634677</td>\n",
       "      <td>0.428571</td>\n",
       "    </tr>\n",
       "    <tr>\n",
       "      <th>29</th>\n",
       "      <td>SVC</td>\n",
       "      <td>0.634677</td>\n",
       "      <td>0.428571</td>\n",
       "    </tr>\n",
       "    <tr>\n",
       "      <th>30</th>\n",
       "      <td>XGBoost</td>\n",
       "      <td>0.754065</td>\n",
       "      <td>0.603774</td>\n",
       "    </tr>\n",
       "    <tr>\n",
       "      <th>31</th>\n",
       "      <td>XGBoost</td>\n",
       "      <td>0.796296</td>\n",
       "      <td>0.695652</td>\n",
       "    </tr>\n",
       "    <tr>\n",
       "      <th>32</th>\n",
       "      <td>XGBoost</td>\n",
       "      <td>0.743372</td>\n",
       "      <td>0.595745</td>\n",
       "    </tr>\n",
       "    <tr>\n",
       "      <th>33</th>\n",
       "      <td>XGBoost</td>\n",
       "      <td>0.678155</td>\n",
       "      <td>0.500000</td>\n",
       "    </tr>\n",
       "    <tr>\n",
       "      <th>34</th>\n",
       "      <td>XGBoost</td>\n",
       "      <td>0.652969</td>\n",
       "      <td>0.461538</td>\n",
       "    </tr>\n",
       "    <tr>\n",
       "      <th>35</th>\n",
       "      <td>Light GBM</td>\n",
       "      <td>0.739329</td>\n",
       "      <td>0.588235</td>\n",
       "    </tr>\n",
       "    <tr>\n",
       "      <th>36</th>\n",
       "      <td>Light GBM</td>\n",
       "      <td>0.781636</td>\n",
       "      <td>0.681818</td>\n",
       "    </tr>\n",
       "    <tr>\n",
       "      <th>37</th>\n",
       "      <td>Light GBM</td>\n",
       "      <td>0.761665</td>\n",
       "      <td>0.636364</td>\n",
       "    </tr>\n",
       "    <tr>\n",
       "      <th>38</th>\n",
       "      <td>Light GBM</td>\n",
       "      <td>0.690350</td>\n",
       "      <td>0.523810</td>\n",
       "    </tr>\n",
       "    <tr>\n",
       "      <th>39</th>\n",
       "      <td>Light GBM</td>\n",
       "      <td>0.621686</td>\n",
       "      <td>0.400000</td>\n",
       "    </tr>\n",
       "  </tbody>\n",
       "</table>\n",
       "</div>"
      ],
      "text/plain": [
       "              algorithm  balanced_accuracy  f1 score\n",
       "0              Baseline           0.415650  0.243902\n",
       "1              Baseline           0.466049  0.292683\n",
       "2              Baseline           0.508218  0.320988\n",
       "3              Baseline           0.424708  0.246914\n",
       "4              Baseline           0.591729  0.395062\n",
       "5   Logistic Regression           0.743394  0.558824\n",
       "6   Logistic Regression           0.851080  0.711864\n",
       "7   Logistic Regression           0.723224  0.531250\n",
       "8   Logistic Regression           0.731972  0.551724\n",
       "9   Logistic Regression           0.737275  0.583333\n",
       "10        Random Forest           0.754065  0.603774\n",
       "11        Random Forest           0.829475  0.755556\n",
       "12        Random Forest           0.749470  0.608696\n",
       "13        Random Forest           0.705992  0.545455\n",
       "14        Random Forest           0.599947  0.352941\n",
       "15    Gradient Boosting           0.727134  0.566038\n",
       "16    Gradient Boosting           0.817130  0.723404\n",
       "17    Gradient Boosting           0.771209  0.638298\n",
       "18    Gradient Boosting           0.687699  0.510638\n",
       "19    Gradient Boosting           0.646872  0.450000\n",
       "20                  KNN           0.721545  0.526316\n",
       "21                  KNN           0.766204  0.593750\n",
       "22                  KNN           0.698834  0.500000\n",
       "23                  KNN           0.677094  0.477612\n",
       "24                  KNN           0.651909  0.451613\n",
       "25                  SVC           0.676829  0.500000\n",
       "26                  SVC           0.756944  0.625000\n",
       "27                  SVC           0.749470  0.608696\n",
       "28                  SVC           0.634677  0.428571\n",
       "29                  SVC           0.634677  0.428571\n",
       "30              XGBoost           0.754065  0.603774\n",
       "31              XGBoost           0.796296  0.695652\n",
       "32              XGBoost           0.743372  0.595745\n",
       "33              XGBoost           0.678155  0.500000\n",
       "34              XGBoost           0.652969  0.461538\n",
       "35            Light GBM           0.739329  0.588235\n",
       "36            Light GBM           0.781636  0.681818\n",
       "37            Light GBM           0.761665  0.636364\n",
       "38            Light GBM           0.690350  0.523810\n",
       "39            Light GBM           0.621686  0.400000"
      ]
     },
     "execution_count": 82,
     "metadata": {},
     "output_type": "execute_result"
    }
   ],
   "source": [
    "scors = pd.DataFrame(scor_dict)\n",
    "scors"
   ]
  },
  {
   "cell_type": "code",
   "execution_count": 83,
   "id": "c5397292-aa7e-4cd5-964d-dbfc49eb75cb",
   "metadata": {},
   "outputs": [],
   "source": [
    "scors.to_csv(\"scors_zeros_imp_pca.csv\")"
   ]
  },
  {
   "cell_type": "code",
   "execution_count": 84,
   "id": "72afcaca-7b91-449f-8031-04e97a1ad893",
   "metadata": {},
   "outputs": [],
   "source": [
    "scors.groupby([\"algorithm\"]).mean().to_csv(\"groupby_zeros_marked2_pca.csv\")"
   ]
  },
  {
   "cell_type": "code",
   "execution_count": 85,
   "id": "032e1149-3deb-4528-bbb7-51bc20b9e2c1",
   "metadata": {},
   "outputs": [
    {
     "data": {
      "text/html": [
       "<div>\n",
       "<style scoped>\n",
       "    .dataframe tbody tr th:only-of-type {\n",
       "        vertical-align: middle;\n",
       "    }\n",
       "\n",
       "    .dataframe tbody tr th {\n",
       "        vertical-align: top;\n",
       "    }\n",
       "\n",
       "    .dataframe thead th {\n",
       "        text-align: right;\n",
       "    }\n",
       "</style>\n",
       "<table border=\"1\" class=\"dataframe\">\n",
       "  <thead>\n",
       "    <tr style=\"text-align: right;\">\n",
       "      <th></th>\n",
       "      <th>balanced_accuracy</th>\n",
       "      <th>f1 score</th>\n",
       "    </tr>\n",
       "    <tr>\n",
       "      <th>algorithm</th>\n",
       "      <th></th>\n",
       "      <th></th>\n",
       "    </tr>\n",
       "  </thead>\n",
       "  <tbody>\n",
       "    <tr>\n",
       "      <th>Baseline</th>\n",
       "      <td>0.481271</td>\n",
       "      <td>0.299910</td>\n",
       "    </tr>\n",
       "    <tr>\n",
       "      <th>Gradient Boosting</th>\n",
       "      <td>0.730009</td>\n",
       "      <td>0.577676</td>\n",
       "    </tr>\n",
       "    <tr>\n",
       "      <th>KNN</th>\n",
       "      <td>0.703117</td>\n",
       "      <td>0.509858</td>\n",
       "    </tr>\n",
       "    <tr>\n",
       "      <th>Light GBM</th>\n",
       "      <td>0.718933</td>\n",
       "      <td>0.566045</td>\n",
       "    </tr>\n",
       "    <tr>\n",
       "      <th>Logistic Regression</th>\n",
       "      <td>0.757389</td>\n",
       "      <td>0.587399</td>\n",
       "    </tr>\n",
       "    <tr>\n",
       "      <th>Random Forest</th>\n",
       "      <td>0.727790</td>\n",
       "      <td>0.573284</td>\n",
       "    </tr>\n",
       "    <tr>\n",
       "      <th>SVC</th>\n",
       "      <td>0.690519</td>\n",
       "      <td>0.518168</td>\n",
       "    </tr>\n",
       "    <tr>\n",
       "      <th>XGBoost</th>\n",
       "      <td>0.724972</td>\n",
       "      <td>0.571342</td>\n",
       "    </tr>\n",
       "  </tbody>\n",
       "</table>\n",
       "</div>"
      ],
      "text/plain": [
       "                     balanced_accuracy  f1 score\n",
       "algorithm                                       \n",
       "Baseline                      0.481271  0.299910\n",
       "Gradient Boosting             0.730009  0.577676\n",
       "KNN                           0.703117  0.509858\n",
       "Light GBM                     0.718933  0.566045\n",
       "Logistic Regression           0.757389  0.587399\n",
       "Random Forest                 0.727790  0.573284\n",
       "SVC                           0.690519  0.518168\n",
       "XGBoost                       0.724972  0.571342"
      ]
     },
     "execution_count": 85,
     "metadata": {},
     "output_type": "execute_result"
    }
   ],
   "source": [
    "scors.groupby([\"algorithm\"]).mean()"
   ]
  },
  {
   "cell_type": "code",
   "execution_count": 86,
   "id": "2023a301-2509-48b2-be44-4d22daca82e4",
   "metadata": {},
   "outputs": [
    {
     "data": {
      "text/html": [
       "<div>\n",
       "<style scoped>\n",
       "    .dataframe tbody tr th:only-of-type {\n",
       "        vertical-align: middle;\n",
       "    }\n",
       "\n",
       "    .dataframe tbody tr th {\n",
       "        vertical-align: top;\n",
       "    }\n",
       "\n",
       "    .dataframe thead th {\n",
       "        text-align: right;\n",
       "    }\n",
       "</style>\n",
       "<table border=\"1\" class=\"dataframe\">\n",
       "  <thead>\n",
       "    <tr style=\"text-align: right;\">\n",
       "      <th></th>\n",
       "      <th>balanced_accuracy</th>\n",
       "      <th>f1 score</th>\n",
       "    </tr>\n",
       "    <tr>\n",
       "      <th>algorithm</th>\n",
       "      <th></th>\n",
       "      <th></th>\n",
       "    </tr>\n",
       "  </thead>\n",
       "  <tbody>\n",
       "    <tr>\n",
       "      <th>Baseline</th>\n",
       "      <td>0.466049</td>\n",
       "      <td>0.292683</td>\n",
       "    </tr>\n",
       "    <tr>\n",
       "      <th>Gradient Boosting</th>\n",
       "      <td>0.727134</td>\n",
       "      <td>0.566038</td>\n",
       "    </tr>\n",
       "    <tr>\n",
       "      <th>KNN</th>\n",
       "      <td>0.698834</td>\n",
       "      <td>0.500000</td>\n",
       "    </tr>\n",
       "    <tr>\n",
       "      <th>Light GBM</th>\n",
       "      <td>0.739329</td>\n",
       "      <td>0.588235</td>\n",
       "    </tr>\n",
       "    <tr>\n",
       "      <th>Logistic Regression</th>\n",
       "      <td>0.737275</td>\n",
       "      <td>0.558824</td>\n",
       "    </tr>\n",
       "    <tr>\n",
       "      <th>Random Forest</th>\n",
       "      <td>0.749470</td>\n",
       "      <td>0.603774</td>\n",
       "    </tr>\n",
       "    <tr>\n",
       "      <th>SVC</th>\n",
       "      <td>0.676829</td>\n",
       "      <td>0.500000</td>\n",
       "    </tr>\n",
       "    <tr>\n",
       "      <th>XGBoost</th>\n",
       "      <td>0.743372</td>\n",
       "      <td>0.595745</td>\n",
       "    </tr>\n",
       "  </tbody>\n",
       "</table>\n",
       "</div>"
      ],
      "text/plain": [
       "                     balanced_accuracy  f1 score\n",
       "algorithm                                       \n",
       "Baseline                      0.466049  0.292683\n",
       "Gradient Boosting             0.727134  0.566038\n",
       "KNN                           0.698834  0.500000\n",
       "Light GBM                     0.739329  0.588235\n",
       "Logistic Regression           0.737275  0.558824\n",
       "Random Forest                 0.749470  0.603774\n",
       "SVC                           0.676829  0.500000\n",
       "XGBoost                       0.743372  0.595745"
      ]
     },
     "execution_count": 86,
     "metadata": {},
     "output_type": "execute_result"
    }
   ],
   "source": [
    "scors.groupby([\"algorithm\"]).median()"
   ]
  },
  {
   "cell_type": "code",
   "execution_count": 87,
   "id": "e62e3572-f925-41c5-b25d-c0b640fff0e7",
   "metadata": {
    "tags": []
   },
   "outputs": [
    {
     "data": {
      "text/html": [
       "<div>\n",
       "<style scoped>\n",
       "    .dataframe tbody tr th:only-of-type {\n",
       "        vertical-align: middle;\n",
       "    }\n",
       "\n",
       "    .dataframe tbody tr th {\n",
       "        vertical-align: top;\n",
       "    }\n",
       "\n",
       "    .dataframe thead th {\n",
       "        text-align: right;\n",
       "    }\n",
       "</style>\n",
       "<table border=\"1\" class=\"dataframe\">\n",
       "  <thead>\n",
       "    <tr style=\"text-align: right;\">\n",
       "      <th></th>\n",
       "      <th>algorithm</th>\n",
       "      <th>metric</th>\n",
       "      <th>value</th>\n",
       "    </tr>\n",
       "  </thead>\n",
       "  <tbody>\n",
       "    <tr>\n",
       "      <th>0</th>\n",
       "      <td>Baseline</td>\n",
       "      <td>balanced_accuracy</td>\n",
       "      <td>0.415650</td>\n",
       "    </tr>\n",
       "    <tr>\n",
       "      <th>1</th>\n",
       "      <td>Baseline</td>\n",
       "      <td>balanced_accuracy</td>\n",
       "      <td>0.466049</td>\n",
       "    </tr>\n",
       "    <tr>\n",
       "      <th>2</th>\n",
       "      <td>Baseline</td>\n",
       "      <td>balanced_accuracy</td>\n",
       "      <td>0.508218</td>\n",
       "    </tr>\n",
       "    <tr>\n",
       "      <th>3</th>\n",
       "      <td>Baseline</td>\n",
       "      <td>balanced_accuracy</td>\n",
       "      <td>0.424708</td>\n",
       "    </tr>\n",
       "    <tr>\n",
       "      <th>4</th>\n",
       "      <td>Baseline</td>\n",
       "      <td>balanced_accuracy</td>\n",
       "      <td>0.591729</td>\n",
       "    </tr>\n",
       "    <tr>\n",
       "      <th>...</th>\n",
       "      <td>...</td>\n",
       "      <td>...</td>\n",
       "      <td>...</td>\n",
       "    </tr>\n",
       "    <tr>\n",
       "      <th>75</th>\n",
       "      <td>Light GBM</td>\n",
       "      <td>f1 score</td>\n",
       "      <td>0.588235</td>\n",
       "    </tr>\n",
       "    <tr>\n",
       "      <th>76</th>\n",
       "      <td>Light GBM</td>\n",
       "      <td>f1 score</td>\n",
       "      <td>0.681818</td>\n",
       "    </tr>\n",
       "    <tr>\n",
       "      <th>77</th>\n",
       "      <td>Light GBM</td>\n",
       "      <td>f1 score</td>\n",
       "      <td>0.636364</td>\n",
       "    </tr>\n",
       "    <tr>\n",
       "      <th>78</th>\n",
       "      <td>Light GBM</td>\n",
       "      <td>f1 score</td>\n",
       "      <td>0.523810</td>\n",
       "    </tr>\n",
       "    <tr>\n",
       "      <th>79</th>\n",
       "      <td>Light GBM</td>\n",
       "      <td>f1 score</td>\n",
       "      <td>0.400000</td>\n",
       "    </tr>\n",
       "  </tbody>\n",
       "</table>\n",
       "<p>80 rows × 3 columns</p>\n",
       "</div>"
      ],
      "text/plain": [
       "    algorithm             metric     value\n",
       "0    Baseline  balanced_accuracy  0.415650\n",
       "1    Baseline  balanced_accuracy  0.466049\n",
       "2    Baseline  balanced_accuracy  0.508218\n",
       "3    Baseline  balanced_accuracy  0.424708\n",
       "4    Baseline  balanced_accuracy  0.591729\n",
       "..        ...                ...       ...\n",
       "75  Light GBM           f1 score  0.588235\n",
       "76  Light GBM           f1 score  0.681818\n",
       "77  Light GBM           f1 score  0.636364\n",
       "78  Light GBM           f1 score  0.523810\n",
       "79  Light GBM           f1 score  0.400000\n",
       "\n",
       "[80 rows x 3 columns]"
      ]
     },
     "execution_count": 87,
     "metadata": {},
     "output_type": "execute_result"
    }
   ],
   "source": [
    "melted = scors.melt(id_vars=\"algorithm\", var_name=\"metric\")\n",
    "melted"
   ]
  },
  {
   "cell_type": "code",
   "execution_count": 88,
   "id": "a07ce54a-245a-4531-8639-de871e75da9f",
   "metadata": {
    "tags": []
   },
   "outputs": [
    {
     "data": {
      "text/plain": [
       "algorithm            metric           \n",
       "Baseline             balanced_accuracy    0.466325\n",
       "                     f1 score             0.286861\n",
       "Gradient Boosting    balanced_accuracy    0.728681\n",
       "                     f1 score             0.571658\n",
       "KNN                  balanced_accuracy    0.699158\n",
       "                     f1 score             0.501309\n",
       "Light GBM            balanced_accuracy    0.730448\n",
       "                     f1 score             0.582803\n",
       "Logistic Regression  balanced_accuracy    0.737547\n",
       "                     f1 score             0.564627\n",
       "Random Forest        balanced_accuracy    0.736509\n",
       "                     f1 score             0.585975\n",
       "SVC                  balanced_accuracy    0.686992\n",
       "                     f1 score             0.512422\n",
       "XGBoost              balanced_accuracy    0.725197\n",
       "                     f1 score             0.566506\n",
       "dtype: float64"
      ]
     },
     "execution_count": 88,
     "metadata": {},
     "output_type": "execute_result"
    }
   ],
   "source": [
    "melted.groupby(by=[\"algorithm\",\"metric\"]).apply(lambda x: np.percentile(x, [75, 50, 25]).sum()/3)"
   ]
  },
  {
   "cell_type": "code",
   "execution_count": 89,
   "id": "4afc33a8-877d-4c76-bf14-9c0abe40cca2",
   "metadata": {},
   "outputs": [
    {
     "data": {
      "text/plain": [
       "<AxesSubplot:xlabel='algorithm', ylabel='value'>"
      ]
     },
     "execution_count": 89,
     "metadata": {},
     "output_type": "execute_result"
    },
    {
     "data": {
      "image/png": "[encoded data removed]",
      "text/plain": [
       "<Figure size 2500x1500 with 1 Axes>"
      ]
     },
     "metadata": {},
     "output_type": "display_data"
    }
   ],
   "source": [
    "fig, ax = plt.subplots(figsize=(25,15))\n",
    "sns.boxplot(x=\"algorithm\", y=\"value\", data=melted, hue=\"metric\", ax=ax, meanline=True)"
   ]
  },
  {
   "cell_type": "code",
   "execution_count": 90,
   "id": "e0c73148-e8d7-49f9-aa65-437cc3dbc9a4",
   "metadata": {},
   "outputs": [
    {
     "data": {
      "text/plain": [
       "Text(0, 0.5, '')"
      ]
     },
     "execution_count": 90,
     "metadata": {},
     "output_type": "execute_result"
    },
    {
     "data": {
      "image/png": "[encoded data removed]",
      "text/plain": [
       "<Figure size 2500x1500 with 1 Axes>"
      ]
     },
     "metadata": {},
     "output_type": "display_data"
    }
   ],
   "source": [
    "rcParams[\"font.size\"] = 30\n",
    "fig, ax = plt.subplots(figsize=(25,15))\n",
    "sns.boxplot(x=\"metric\", y=\"value\", data=melted, hue=\"algorithm\", ax=ax, palette=\"colorblind\")\n",
    "sns.swarmplot(x=\"metric\", y=\"value\", data=melted, hue=\"algorithm\", ax=ax, dodge=True, color=\"k\")\n",
    "handles, labels = ax.get_legend_handles_labels()\n",
    "ax.legend(handles[:8], labels[:8], fontsize=20)\n",
    "ax.set_ylabel(None)"
   ]
  },
  {
   "cell_type": "code",
   "execution_count": 91,
   "id": "ead5a192-fdb3-4c89-ace7-002f05dabe2d",
   "metadata": {},
   "outputs": [],
   "source": [
    "fig.savefig(\"cv_res_fqd_pca.pdf\")"
   ]
  },
  {
   "cell_type": "markdown",
   "id": "01b4db91-168d-4aba-b6d6-ad5028cdae1e",
   "metadata": {
    "tags": []
   },
   "source": [
    "# PCA features analysis"
   ]
  },
  {
   "cell_type": "code",
   "execution_count": 41,
   "id": "e15b6436-228b-4687-852f-46a6bb70767c",
   "metadata": {},
   "outputs": [],
   "source": [
    "xx = x[cols]\n",
    "yy = y"
   ]
  },
  {
   "cell_type": "code",
   "execution_count": 42,
   "id": "67fb00dc-7b65-451b-8e8d-db83daf99bfa",
   "metadata": {},
   "outputs": [],
   "source": [
    "rcParams[\"font.size\"] = 40"
   ]
  },
  {
   "cell_type": "code",
   "execution_count": 43,
   "id": "37054345-e116-4479-9221-21df1b4b0f37",
   "metadata": {},
   "outputs": [],
   "source": [
    "scaler = StandardScaler()\n",
    "xx = scaler.fit_transform(xx)\n",
    "oob_x = scaler.transform(oob_x[cols])"
   ]
  },
  {
   "cell_type": "code",
   "execution_count": 44,
   "id": "e488952b-fec8-498c-b984-2bc5ebe3baca",
   "metadata": {},
   "outputs": [],
   "source": [
    "xx = pca.fit_transform(xx)\n",
    "oob_x = pca.transform(oob_x)"
   ]
  },
  {
   "cell_type": "code",
   "execution_count": 45,
   "id": "8c6c9744-5a76-4245-9856-6f70335acd4c",
   "metadata": {
    "tags": []
   },
   "outputs": [
    {
     "name": "stdout",
     "output_type": "stream",
     "text": [
      "quant_FQD_4_gap               0.129750\n",
      "quant_FQD_4_zpve              0.129245\n",
      "quant_FQD_4_alpha             0.129209\n",
      "quant_FQD_4_cv                0.129000\n",
      "quant_FQD_4_g298_per_atom     0.128967\n",
      "quant_FQD_4_u0_per_atom       0.128967\n",
      "quant_FQD_4_u298_per_atom     0.128967\n",
      "quant_FQD_4_h298_per_atom     0.128967\n",
      "quant_FQD_4_homo              0.128902\n",
      "quant_FQD_4_cv_per_atom       0.128383\n",
      "quant_FQD_4_homo_per_atom     0.128065\n",
      "quant_FQD_4_alpha_per_atom    0.127556\n",
      "quant_FQD_4_gap_per_atom      0.127343\n",
      "quant_FQD_4_zpve_per_atom     0.126045\n",
      "quant_FQD_4_lumo              0.124204\n",
      "quant_FQD_4_g298              0.123272\n",
      "quant_FQD_4_u0                0.123271\n",
      "quant_FQD_4_u298              0.123271\n",
      "quant_FQD_4_h298              0.123271\n",
      "quant_FQD_5_zpve              0.121819\n",
      "quant_FQD_3_cv                0.120632\n",
      "quant_FQD_3_alpha             0.120503\n",
      "quant_FQD_4_lumo_per_atom     0.120299\n",
      "quant_FQD_3_homo              0.120074\n",
      "quant_FQD_3_gap               0.119990\n",
      "quant_FQD_5_cv                0.119968\n",
      "quant_FQD_3_zpve              0.119729\n",
      "quant_FQD_5_gap               0.118557\n",
      "quant_FQD_5_lumo              0.118329\n",
      "quant_FQD_5_zpve_per_atom     0.118237\n",
      "quant_FQD_5_alpha             0.117016\n",
      "quant_FQD_5_cv_per_atom       0.116060\n",
      "quant_FQD_5_homo              0.115550\n",
      "quant_FQD_3_g298              0.112463\n",
      "quant_FQD_3_u0                0.112462\n",
      "quant_FQD_3_u298              0.112461\n",
      "quant_FQD_3_h298              0.112461\n",
      "quant_FQD_3_lumo              0.109597\n",
      "quant_FQD_5_alpha_per_atom    0.109331\n",
      "quant_FQD_5_lumo_per_atom     0.109020\n",
      "dtype: float64\n"
     ]
    }
   ],
   "source": [
    "loading_scores = pd.Series(pca.components_[0], index=cols)\n",
    "sorted_loading_scores = loading_scores.abs().sort_values(ascending=False)\n",
    "print(sorted_loading_scores[:40])"
   ]
  },
  {
   "cell_type": "code",
   "execution_count": 46,
   "id": "ade44565-1f5e-4042-aedc-77fe5eadad73",
   "metadata": {
    "tags": []
   },
   "outputs": [
    {
     "name": "stdout",
     "output_type": "stream",
     "text": [
      "quant_FQD_8_homo_per_atom     0.150824\n",
      "quant_FQD_8_gap_per_atom      0.145281\n",
      "quant_FQD_8_alpha_per_atom    0.145278\n",
      "quant_FQD_8_cv_per_atom       0.142841\n",
      "quant_FQD_7_g298              0.135449\n",
      "quant_FQD_7_u0                0.135446\n",
      "quant_FQD_7_h298              0.135446\n",
      "quant_FQD_7_u298              0.135434\n",
      "quant_FQD_8_homo              0.135360\n",
      "quant_FQD_7_g298_per_atom     0.134771\n",
      "quant_FQD_7_u0_per_atom       0.134769\n",
      "quant_FQD_7_h298_per_atom     0.134769\n",
      "quant_FQD_7_u298_per_atom     0.134761\n",
      "quant_FQD_7_homo_per_atom     0.134062\n",
      "quant_FQD_7_homo              0.131274\n",
      "quant_FQD_8_gap               0.130308\n",
      "quant_FQD_8_alpha             0.130057\n",
      "quant_FQD_7_gap_per_atom      0.130029\n",
      "quant_FQD_8_g298              0.129476\n",
      "quant_FQD_8_u0                0.129474\n",
      "quant_FQD_8_h298              0.129473\n",
      "quant_FQD_8_u298              0.129462\n",
      "quant_FQD_9_homo_per_atom     0.127814\n",
      "quant_FQD_7_alpha_per_atom    0.126645\n",
      "quant_FQD_9_alpha_per_atom    0.126346\n",
      "quant_FQD_9_gap_per_atom      0.126277\n",
      "quant_FQD_8_g298_per_atom     0.126106\n",
      "quant_FQD_8_u0_per_atom       0.126104\n",
      "quant_FQD_8_h298_per_atom     0.126103\n",
      "quant_FQD_8_u298_per_atom     0.126076\n",
      "quant_FQD_7_alpha             0.125705\n",
      "quant_FQD_9_u298_per_atom     0.124348\n",
      "quant_FQD_9_g298_per_atom     0.124341\n",
      "quant_FQD_9_u0_per_atom       0.124340\n",
      "quant_FQD_9_h298_per_atom     0.124339\n",
      "quant_FQD_7_gap               0.124146\n",
      "quant_FQD_7_cv_per_atom       0.123266\n",
      "quant_FQD_9_cv_per_atom       0.122847\n",
      "quant_FQD_8_zpve_per_atom     0.122057\n",
      "quant_FQD_8_cv                0.121553\n",
      "dtype: float64\n"
     ]
    }
   ],
   "source": [
    "loading_scores = pd.Series(pca.components_[1], index=cols)\n",
    "sorted_loading_scores = loading_scores.abs().sort_values(ascending=False)\n",
    "print(sorted_loading_scores[:40])"
   ]
  },
  {
   "cell_type": "code",
   "execution_count": 47,
   "id": "5c5c26a5-6d2b-47de-97cd-f2aed5072c3d",
   "metadata": {
    "tags": []
   },
   "outputs": [
    {
     "name": "stdout",
     "output_type": "stream",
     "text": [
      "quant_FQD_2_gap_per_atom      0.198516\n",
      "quant_FQD_2_cv_per_atom       0.198030\n",
      "quant_FQD_2_zpve_per_atom     0.197706\n",
      "quant_FQD_2_lumo_per_atom     0.196865\n",
      "quant_FQD_2_alpha_per_atom    0.196634\n",
      "quant_FQD_2_homo_per_atom     0.195073\n",
      "quant_FQD_2_g298_per_atom     0.178868\n",
      "quant_FQD_2_u0_per_atom       0.178863\n",
      "quant_FQD_2_u298_per_atom     0.178862\n",
      "quant_FQD_2_h298_per_atom     0.178861\n",
      "quant_FQD_2_lumo              0.114464\n",
      "quant_FQD_6_homo_per_atom     0.112750\n",
      "quant_FQD_3_zpve_per_atom     0.112161\n",
      "quant_FQD_3_alpha_per_atom    0.110677\n",
      "quant_FQD_3_gap_per_atom      0.110603\n",
      "quant_FQD_3_homo_per_atom     0.109210\n",
      "quant_FQD_3_cv_per_atom       0.109011\n",
      "quant_FQD_6_alpha_per_atom    0.108815\n",
      "quant_FQD_6_gap_per_atom      0.107688\n",
      "quant_FQD_5_mu                0.107156\n",
      "quant_FQD_3_lumo_per_atom     0.106004\n",
      "quant_FQD_4_mu                0.102905\n",
      "quant_FQD_9_cv                0.101929\n",
      "quant_FQD_5_g298              0.100299\n",
      "quant_FQD_5_u0                0.100297\n",
      "quant_FQD_5_h298              0.100297\n",
      "quant_FQD_5_u298              0.100278\n",
      "quant_FQD_6_mu                0.098239\n",
      "quant_FQD_9_alpha             0.096314\n",
      "quant_FQD_3_g298_per_atom     0.095608\n",
      "quant_FQD_3_u0_per_atom       0.095605\n",
      "quant_FQD_3_u298_per_atom     0.095605\n",
      "quant_FQD_3_h298_per_atom     0.095605\n",
      "quant_FQD_9_zpve              0.095593\n",
      "quant_FQD_9_homo              0.095399\n",
      "quant_FQD_2_zpve              0.094998\n",
      "quant_FQD_9_gap               0.093633\n",
      "quant_FQD_6_cv_per_atom       0.093200\n",
      "quant_FQD_5_homo              0.093010\n",
      "quant_FQD_6_zpve_per_atom     0.089579\n",
      "dtype: float64\n"
     ]
    }
   ],
   "source": [
    "loading_scores = pd.Series(pca.components_[2], index=cols)\n",
    "sorted_loading_scores = loading_scores.abs().sort_values(ascending=False)\n",
    "print(sorted_loading_scores[:40])"
   ]
  },
  {
   "cell_type": "code",
   "execution_count": 48,
   "id": "6887b24f-f68f-4aed-a989-449292326463",
   "metadata": {
    "tags": []
   },
   "outputs": [
    {
     "name": "stdout",
     "output_type": "stream",
     "text": [
      "quant_FQD_6_gap_per_atom      0.152787\n",
      "quant_FQD_6_cv_per_atom       0.149413\n",
      "quant_FQD_2_h298              0.148075\n",
      "quant_FQD_2_u298              0.148075\n",
      "quant_FQD_2_u0                0.148074\n",
      "quant_FQD_2_g298              0.148073\n",
      "quant_FQD_6_zpve_per_atom     0.145038\n",
      "quant_FQD_6_homo_per_atom     0.136692\n",
      "quant_FQD_6_alpha_per_atom    0.133761\n",
      "quant_FQD_6_lumo_per_atom     0.132863\n",
      "quant_FQD_7_lumo_per_atom     0.121223\n",
      "quant_FQD_2_homo              0.119506\n",
      "quant_FQD_2_mu                0.117034\n",
      "quant_FQD_2_cv                0.116495\n",
      "quant_FQD_3_h298              0.111452\n",
      "quant_FQD_3_u298              0.111452\n",
      "quant_FQD_3_u0                0.111452\n",
      "quant_FQD_3_g298              0.111450\n",
      "quant_FQD_6_gap               0.109623\n",
      "quant_FQD_3_mu                0.108227\n",
      "quant_FQD_6_g298_per_atom     0.108089\n",
      "quant_FQD_6_u0_per_atom       0.108084\n",
      "quant_FQD_6_h298_per_atom     0.108084\n",
      "quant_FQD_6_u298_per_atom     0.108043\n",
      "quant_FQD_5_gap_per_atom      0.108023\n",
      "quant_FQD_2_gap               0.107912\n",
      "quant_FQD_5_homo_per_atom     0.107523\n",
      "quant_FQD_6_lumo              0.106619\n",
      "quant_FQD_5_alpha_per_atom    0.104973\n",
      "quant_FQD_9_alpha             0.103846\n",
      "quant_FQD_2_alpha             0.103685\n",
      "quant_FQD_7_gap_per_atom      0.100156\n",
      "quant_FQD_7_lumo              0.099765\n",
      "quant_FQD_9_homo              0.099627\n",
      "quant_FQD_5_lumo_per_atom     0.099285\n",
      "quant_FQD_7_zpve_per_atom     0.097795\n",
      "quant_FQD_5_cv_per_atom       0.097709\n",
      "quant_FQD_6_zpve              0.096938\n",
      "quant_FQD_5_zpve_per_atom     0.095307\n",
      "quant_FQD_3_mu_per_atom       0.094051\n",
      "dtype: float64\n"
     ]
    }
   ],
   "source": [
    "loading_scores = pd.Series(pca.components_[3], index=cols)\n",
    "sorted_loading_scores = loading_scores.abs().sort_values(ascending=False)\n",
    "print(sorted_loading_scores[:40])"
   ]
  },
  {
   "cell_type": "markdown",
   "id": "2021ff4c-36b7-4d96-abaa-25aa65e98cab",
   "metadata": {},
   "source": [
    "## Check which fragments are most important by atoms count"
   ]
  },
  {
   "cell_type": "code",
   "execution_count": 49,
   "id": "d994c6fe-c8fe-49aa-a86f-4bd68f8f2ae6",
   "metadata": {},
   "outputs": [
    {
     "data": {
      "text/plain": [
       "{'PC1': Counter({'4': 20, '5': 10, '3': 10}),\n",
       " 'PC2': Counter({'8': 17, '7': 15, '9': 8}),\n",
       " 'PC3': Counter({'2': 12, '6': 6, '3': 10, '5': 6, '4': 1, '9': 5}),\n",
       " 'PC4': Counter({'6': 13, '2': 9, '7': 4, '3': 6, '5': 6, '9': 2}),\n",
       " 'PC5': Counter({'6': 9, '9': 8, '5': 6, '7': 5, '2': 7, '8': 5}),\n",
       " 'PC6': Counter({'6': 10,\n",
       "          '3': 3,\n",
       "          '9': 7,\n",
       "          '2': 3,\n",
       "          '8': 3,\n",
       "          '7': 10,\n",
       "          '5': 2,\n",
       "          '4': 2}),\n",
       " 'PC7': Counter({'7': 2,\n",
       "          '8': 5,\n",
       "          '9': 2,\n",
       "          '5': 10,\n",
       "          '2': 6,\n",
       "          '6': 2,\n",
       "          '3': 9,\n",
       "          '4': 4})}"
      ]
     },
     "execution_count": 49,
     "metadata": {},
     "output_type": "execute_result"
    }
   ],
   "source": [
    "import itertools\n",
    "from collections import Counter\n",
    "keys = [f\"PC{i}\" for i in range(1,8)]\n",
    "pc_dict = {k: None for k in keys}\n",
    "pc_props_whole = []\n",
    "for i in range(7):\n",
    "    loading_scores = pd.Series(pca.components_[i], index=cols)\n",
    "    sorted_loading_scores = loading_scores.abs().sort_values(ascending=False)\n",
    "    splitted_names = itertools.chain.from_iterable([x.split(\"_\") for x in sorted_loading_scores.index[:40]])\n",
    "    PC_props = [x for x in splitted_names if x in [f\"{j}\" for j in range(1,10)]]\n",
    "    pc_dict[f\"PC{i+1}\"] = Counter(PC_props)\n",
    "    pc_props_whole += PC_props\n",
    "\n",
    "pc_dict"
   ]
  },
  {
   "cell_type": "code",
   "execution_count": 50,
   "id": "1c5cfe26-ebaf-43db-bd9c-921eb755cdb5",
   "metadata": {},
   "outputs": [
    {
     "data": {
      "text/plain": [
       "[('5', 40), ('6', 40), ('3', 38), ('2', 37), ('7', 36)]"
      ]
     },
     "execution_count": 50,
     "metadata": {},
     "output_type": "execute_result"
    }
   ],
   "source": [
    "Counter(pc_props_whole).most_common(5)"
   ]
  },
  {
   "cell_type": "markdown",
   "id": "c73e1d25-de38-42cd-845f-071a3d17c098",
   "metadata": {},
   "source": [
    "## Check which fragments are most important by quantum feature"
   ]
  },
  {
   "cell_type": "code",
   "execution_count": 108,
   "id": "7a181028-479e-487f-a099-5bb876df275c",
   "metadata": {
    "tags": []
   },
   "outputs": [
    {
     "data": {
      "text/plain": [
       "{'PC1': [('zpve', 5), ('alpha', 5), ('cv', 5), ('lumo', 5), ('gap', 4)],\n",
       " 'PC2': [('homo', 5), ('gap', 5), ('alpha', 5), ('g298', 5), ('u0', 5)],\n",
       " 'PC3': [('zpve', 5), ('homo', 5), ('gap', 4), ('cv', 4), ('alpha', 4)],\n",
       " 'PC4': [('gap', 5), ('lumo', 5), ('zpve', 4), ('homo', 4), ('alpha', 4)],\n",
       " 'PC5': [('g298', 6), ('h298', 5), ('u0', 5), ('u298', 5), ('homo', 4)],\n",
       " 'PC6': [('mu', 10), ('zpve', 6), ('h298', 5), ('u298', 4), ('u0', 4)],\n",
       " 'PC7': [('mu', 16), ('lumo', 4), ('u298', 4), ('h298', 3), ('u0', 3)]}"
      ]
     },
     "execution_count": 108,
     "metadata": {},
     "output_type": "execute_result"
    }
   ],
   "source": [
    "pc_dict2 = {k: None for k in keys}\n",
    "pc_props_whole2 = []\n",
    "for i in range(7):\n",
    "    loading_scores = pd.Series(pca.components_[i], index=cols)\n",
    "    sorted_loading_scores = loading_scores.abs().sort_values(ascending=False)\n",
    "    splitted_names = itertools.chain.from_iterable([x.split(\"_\") for x in sorted_loading_scores.index[:40]])\n",
    "    PC_props = [x for x in splitted_names if x in qprops]\n",
    "    pc_dict2[f\"PC{i+1}\"] = Counter(PC_props).most_common(5)\n",
    "    pc_props_whole2 += PC_props\n",
    "\n",
    "\n",
    "pc_dict2"
   ]
  },
  {
   "cell_type": "code",
   "execution_count": 109,
   "id": "840f6347-8e0a-4a50-901e-14fbf4d406da",
   "metadata": {
    "tags": []
   },
   "outputs": [
    {
     "data": {
      "text/plain": [
       "[('mu', 33),\n",
       " ('zpve', 27),\n",
       " ('g298', 27),\n",
       " ('u298', 27),\n",
       " ('h298', 27),\n",
       " ('u0', 26),\n",
       " ('gap', 24),\n",
       " ('cv', 24),\n",
       " ('alpha', 23),\n",
       " ('homo', 23)]"
      ]
     },
     "execution_count": 109,
     "metadata": {},
     "output_type": "execute_result"
    }
   ],
   "source": [
    "Counter(pc_props_whole2).most_common(10)"
   ]
  },
  {
   "cell_type": "code",
   "execution_count": 53,
   "id": "5003cf65-aca0-41a6-ae05-505b12d9526a",
   "metadata": {},
   "outputs": [
    {
     "data": {
      "text/plain": [
       "(526, 18)"
      ]
     },
     "execution_count": 53,
     "metadata": {},
     "output_type": "execute_result"
    }
   ],
   "source": [
    "xx.shape"
   ]
  },
  {
   "cell_type": "code",
   "execution_count": 54,
   "id": "0a3ba8f0-3ab3-48ca-90bd-38da5724e2ed",
   "metadata": {},
   "outputs": [],
   "source": [
    "pca_df = pd.DataFrame(xx, columns=[f\"PC{n}\" for n in range(1, xx.shape[1]+1)])"
   ]
  },
  {
   "cell_type": "code",
   "execution_count": 55,
   "id": "a4c3223c-30b3-4fcb-b555-a5b65a0fcabd",
   "metadata": {
    "tags": []
   },
   "outputs": [
    {
     "data": {
      "text/html": [
       "<div>\n",
       "<style scoped>\n",
       "    .dataframe tbody tr th:only-of-type {\n",
       "        vertical-align: middle;\n",
       "    }\n",
       "\n",
       "    .dataframe tbody tr th {\n",
       "        vertical-align: top;\n",
       "    }\n",
       "\n",
       "    .dataframe thead th {\n",
       "        text-align: right;\n",
       "    }\n",
       "</style>\n",
       "<table border=\"1\" class=\"dataframe\">\n",
       "  <thead>\n",
       "    <tr style=\"text-align: right;\">\n",
       "      <th></th>\n",
       "      <th>PC1</th>\n",
       "      <th>PC2</th>\n",
       "      <th>PC3</th>\n",
       "      <th>PC4</th>\n",
       "      <th>PC5</th>\n",
       "      <th>PC6</th>\n",
       "      <th>PC7</th>\n",
       "      <th>PC8</th>\n",
       "      <th>PC9</th>\n",
       "      <th>PC10</th>\n",
       "      <th>PC11</th>\n",
       "      <th>PC12</th>\n",
       "      <th>PC13</th>\n",
       "      <th>PC14</th>\n",
       "      <th>PC15</th>\n",
       "      <th>PC16</th>\n",
       "      <th>PC17</th>\n",
       "      <th>PC18</th>\n",
       "    </tr>\n",
       "  </thead>\n",
       "  <tbody>\n",
       "    <tr>\n",
       "      <th>0</th>\n",
       "      <td>4.284421</td>\n",
       "      <td>-1.872287</td>\n",
       "      <td>-4.796424</td>\n",
       "      <td>-0.626301</td>\n",
       "      <td>-1.359081</td>\n",
       "      <td>0.597452</td>\n",
       "      <td>-0.352307</td>\n",
       "      <td>0.429814</td>\n",
       "      <td>0.351305</td>\n",
       "      <td>-0.376277</td>\n",
       "      <td>-0.595309</td>\n",
       "      <td>-1.019267</td>\n",
       "      <td>-0.601788</td>\n",
       "      <td>0.429571</td>\n",
       "      <td>0.506501</td>\n",
       "      <td>-0.469198</td>\n",
       "      <td>0.618595</td>\n",
       "      <td>0.620515</td>\n",
       "    </tr>\n",
       "    <tr>\n",
       "      <th>1</th>\n",
       "      <td>-5.934656</td>\n",
       "      <td>4.200080</td>\n",
       "      <td>3.749729</td>\n",
       "      <td>-1.543506</td>\n",
       "      <td>-1.480642</td>\n",
       "      <td>-1.369324</td>\n",
       "      <td>6.436511</td>\n",
       "      <td>-0.565176</td>\n",
       "      <td>0.331875</td>\n",
       "      <td>-2.412641</td>\n",
       "      <td>1.059431</td>\n",
       "      <td>1.070739</td>\n",
       "      <td>-1.863934</td>\n",
       "      <td>1.144334</td>\n",
       "      <td>3.453451</td>\n",
       "      <td>-0.362942</td>\n",
       "      <td>2.399716</td>\n",
       "      <td>1.483245</td>\n",
       "    </tr>\n",
       "    <tr>\n",
       "      <th>2</th>\n",
       "      <td>4.931752</td>\n",
       "      <td>-1.607893</td>\n",
       "      <td>-2.490060</td>\n",
       "      <td>-1.036759</td>\n",
       "      <td>0.158460</td>\n",
       "      <td>-1.215622</td>\n",
       "      <td>-0.946162</td>\n",
       "      <td>0.653389</td>\n",
       "      <td>-0.087209</td>\n",
       "      <td>-0.263871</td>\n",
       "      <td>-0.519242</td>\n",
       "      <td>0.753271</td>\n",
       "      <td>-1.252579</td>\n",
       "      <td>1.017350</td>\n",
       "      <td>0.389626</td>\n",
       "      <td>-1.513313</td>\n",
       "      <td>-0.244670</td>\n",
       "      <td>-0.901949</td>\n",
       "    </tr>\n",
       "    <tr>\n",
       "      <th>3</th>\n",
       "      <td>5.241121</td>\n",
       "      <td>0.131047</td>\n",
       "      <td>-4.819501</td>\n",
       "      <td>-1.832958</td>\n",
       "      <td>-1.139428</td>\n",
       "      <td>2.351874</td>\n",
       "      <td>3.987138</td>\n",
       "      <td>-0.696143</td>\n",
       "      <td>-1.396787</td>\n",
       "      <td>-0.278453</td>\n",
       "      <td>1.484445</td>\n",
       "      <td>0.393015</td>\n",
       "      <td>1.381625</td>\n",
       "      <td>-1.675737</td>\n",
       "      <td>-0.777835</td>\n",
       "      <td>0.606899</td>\n",
       "      <td>-0.636689</td>\n",
       "      <td>0.559179</td>\n",
       "    </tr>\n",
       "    <tr>\n",
       "      <th>4</th>\n",
       "      <td>-2.459377</td>\n",
       "      <td>6.422610</td>\n",
       "      <td>4.054392</td>\n",
       "      <td>-4.615230</td>\n",
       "      <td>2.854621</td>\n",
       "      <td>1.751078</td>\n",
       "      <td>-0.100034</td>\n",
       "      <td>-1.549084</td>\n",
       "      <td>1.812420</td>\n",
       "      <td>1.629034</td>\n",
       "      <td>-2.920104</td>\n",
       "      <td>-2.169199</td>\n",
       "      <td>0.218244</td>\n",
       "      <td>0.588438</td>\n",
       "      <td>-0.092901</td>\n",
       "      <td>-0.384228</td>\n",
       "      <td>0.053616</td>\n",
       "      <td>0.100555</td>\n",
       "    </tr>\n",
       "    <tr>\n",
       "      <th>...</th>\n",
       "      <td>...</td>\n",
       "      <td>...</td>\n",
       "      <td>...</td>\n",
       "      <td>...</td>\n",
       "      <td>...</td>\n",
       "      <td>...</td>\n",
       "      <td>...</td>\n",
       "      <td>...</td>\n",
       "      <td>...</td>\n",
       "      <td>...</td>\n",
       "      <td>...</td>\n",
       "      <td>...</td>\n",
       "      <td>...</td>\n",
       "      <td>...</td>\n",
       "      <td>...</td>\n",
       "      <td>...</td>\n",
       "      <td>...</td>\n",
       "      <td>...</td>\n",
       "    </tr>\n",
       "    <tr>\n",
       "      <th>521</th>\n",
       "      <td>-0.785645</td>\n",
       "      <td>8.021462</td>\n",
       "      <td>7.295669</td>\n",
       "      <td>-4.493426</td>\n",
       "      <td>2.861271</td>\n",
       "      <td>0.856178</td>\n",
       "      <td>0.548230</td>\n",
       "      <td>-2.691541</td>\n",
       "      <td>1.847405</td>\n",
       "      <td>2.407315</td>\n",
       "      <td>-2.562164</td>\n",
       "      <td>-0.461806</td>\n",
       "      <td>0.215905</td>\n",
       "      <td>-0.048461</td>\n",
       "      <td>-0.947505</td>\n",
       "      <td>-1.607721</td>\n",
       "      <td>0.228696</td>\n",
       "      <td>1.036117</td>\n",
       "    </tr>\n",
       "    <tr>\n",
       "      <th>522</th>\n",
       "      <td>-6.484270</td>\n",
       "      <td>-0.847586</td>\n",
       "      <td>-0.595806</td>\n",
       "      <td>-0.721909</td>\n",
       "      <td>-3.273953</td>\n",
       "      <td>-3.538038</td>\n",
       "      <td>0.333427</td>\n",
       "      <td>1.399467</td>\n",
       "      <td>1.056271</td>\n",
       "      <td>-0.604382</td>\n",
       "      <td>1.912079</td>\n",
       "      <td>0.575568</td>\n",
       "      <td>0.807749</td>\n",
       "      <td>0.532406</td>\n",
       "      <td>-0.646239</td>\n",
       "      <td>0.655993</td>\n",
       "      <td>0.991255</td>\n",
       "      <td>-1.474448</td>\n",
       "    </tr>\n",
       "    <tr>\n",
       "      <th>523</th>\n",
       "      <td>5.236440</td>\n",
       "      <td>-0.123007</td>\n",
       "      <td>-3.886146</td>\n",
       "      <td>-0.969934</td>\n",
       "      <td>-0.305438</td>\n",
       "      <td>1.989422</td>\n",
       "      <td>3.365753</td>\n",
       "      <td>-0.745064</td>\n",
       "      <td>-1.512514</td>\n",
       "      <td>-0.776636</td>\n",
       "      <td>0.367656</td>\n",
       "      <td>-1.028963</td>\n",
       "      <td>0.835922</td>\n",
       "      <td>-0.358225</td>\n",
       "      <td>-1.902275</td>\n",
       "      <td>-0.122700</td>\n",
       "      <td>-0.099579</td>\n",
       "      <td>-0.302770</td>\n",
       "    </tr>\n",
       "    <tr>\n",
       "      <th>524</th>\n",
       "      <td>4.093970</td>\n",
       "      <td>-2.279732</td>\n",
       "      <td>-3.343239</td>\n",
       "      <td>-1.677733</td>\n",
       "      <td>-0.028353</td>\n",
       "      <td>-0.468242</td>\n",
       "      <td>-1.116615</td>\n",
       "      <td>0.920831</td>\n",
       "      <td>-0.295945</td>\n",
       "      <td>-0.483407</td>\n",
       "      <td>-0.310595</td>\n",
       "      <td>1.367286</td>\n",
       "      <td>-1.417990</td>\n",
       "      <td>0.464533</td>\n",
       "      <td>0.545493</td>\n",
       "      <td>-1.524802</td>\n",
       "      <td>-0.837315</td>\n",
       "      <td>-1.033522</td>\n",
       "    </tr>\n",
       "    <tr>\n",
       "      <th>525</th>\n",
       "      <td>-7.343037</td>\n",
       "      <td>10.610834</td>\n",
       "      <td>4.574086</td>\n",
       "      <td>-1.714691</td>\n",
       "      <td>4.577446</td>\n",
       "      <td>-0.255319</td>\n",
       "      <td>1.304854</td>\n",
       "      <td>3.781456</td>\n",
       "      <td>1.648772</td>\n",
       "      <td>-4.179260</td>\n",
       "      <td>-1.284394</td>\n",
       "      <td>-2.678695</td>\n",
       "      <td>-0.804431</td>\n",
       "      <td>0.558175</td>\n",
       "      <td>1.724525</td>\n",
       "      <td>-0.487093</td>\n",
       "      <td>-2.449179</td>\n",
       "      <td>0.780672</td>\n",
       "    </tr>\n",
       "  </tbody>\n",
       "</table>\n",
       "<p>526 rows × 18 columns</p>\n",
       "</div>"
      ],
      "text/plain": [
       "          PC1        PC2       PC3       PC4       PC5       PC6       PC7  \\\n",
       "0    4.284421  -1.872287 -4.796424 -0.626301 -1.359081  0.597452 -0.352307   \n",
       "1   -5.934656   4.200080  3.749729 -1.543506 -1.480642 -1.369324  6.436511   \n",
       "2    4.931752  -1.607893 -2.490060 -1.036759  0.158460 -1.215622 -0.946162   \n",
       "3    5.241121   0.131047 -4.819501 -1.832958 -1.139428  2.351874  3.987138   \n",
       "4   -2.459377   6.422610  4.054392 -4.615230  2.854621  1.751078 -0.100034   \n",
       "..        ...        ...       ...       ...       ...       ...       ...   \n",
       "521 -0.785645   8.021462  7.295669 -4.493426  2.861271  0.856178  0.548230   \n",
       "522 -6.484270  -0.847586 -0.595806 -0.721909 -3.273953 -3.538038  0.333427   \n",
       "523  5.236440  -0.123007 -3.886146 -0.969934 -0.305438  1.989422  3.365753   \n",
       "524  4.093970  -2.279732 -3.343239 -1.677733 -0.028353 -0.468242 -1.116615   \n",
       "525 -7.343037  10.610834  4.574086 -1.714691  4.577446 -0.255319  1.304854   \n",
       "\n",
       "          PC8       PC9      PC10      PC11      PC12      PC13      PC14  \\\n",
       "0    0.429814  0.351305 -0.376277 -0.595309 -1.019267 -0.601788  0.429571   \n",
       "1   -0.565176  0.331875 -2.412641  1.059431  1.070739 -1.863934  1.144334   \n",
       "2    0.653389 -0.087209 -0.263871 -0.519242  0.753271 -1.252579  1.017350   \n",
       "3   -0.696143 -1.396787 -0.278453  1.484445  0.393015  1.381625 -1.675737   \n",
       "4   -1.549084  1.812420  1.629034 -2.920104 -2.169199  0.218244  0.588438   \n",
       "..        ...       ...       ...       ...       ...       ...       ...   \n",
       "521 -2.691541  1.847405  2.407315 -2.562164 -0.461806  0.215905 -0.048461   \n",
       "522  1.399467  1.056271 -0.604382  1.912079  0.575568  0.807749  0.532406   \n",
       "523 -0.745064 -1.512514 -0.776636  0.367656 -1.028963  0.835922 -0.358225   \n",
       "524  0.920831 -0.295945 -0.483407 -0.310595  1.367286 -1.417990  0.464533   \n",
       "525  3.781456  1.648772 -4.179260 -1.284394 -2.678695 -0.804431  0.558175   \n",
       "\n",
       "         PC15      PC16      PC17      PC18  \n",
       "0    0.506501 -0.469198  0.618595  0.620515  \n",
       "1    3.453451 -0.362942  2.399716  1.483245  \n",
       "2    0.389626 -1.513313 -0.244670 -0.901949  \n",
       "3   -0.777835  0.606899 -0.636689  0.559179  \n",
       "4   -0.092901 -0.384228  0.053616  0.100555  \n",
       "..        ...       ...       ...       ...  \n",
       "521 -0.947505 -1.607721  0.228696  1.036117  \n",
       "522 -0.646239  0.655993  0.991255 -1.474448  \n",
       "523 -1.902275 -0.122700 -0.099579 -0.302770  \n",
       "524  0.545493 -1.524802 -0.837315 -1.033522  \n",
       "525  1.724525 -0.487093 -2.449179  0.780672  \n",
       "\n",
       "[526 rows x 18 columns]"
      ]
     },
     "execution_count": 55,
     "metadata": {},
     "output_type": "execute_result"
    }
   ],
   "source": [
    "pca_df"
   ]
  },
  {
   "cell_type": "markdown",
   "id": "3b87f366-8638-4ff4-bd39-73beffe12beb",
   "metadata": {},
   "source": [
    "### Visualize PCA"
   ]
  },
  {
   "cell_type": "code",
   "execution_count": 56,
   "id": "7bbc2a7a-c39f-43fd-9dcd-49e5d06f7822",
   "metadata": {},
   "outputs": [],
   "source": [
    "rcParams[\"font.size\"] = 25"
   ]
  },
  {
   "cell_type": "code",
   "execution_count": 57,
   "id": "1f15befa-d863-4e53-8777-4f119d50ec92",
   "metadata": {},
   "outputs": [
    {
     "name": "stdout",
     "output_type": "stream",
     "text": [
      "0 25.9\n",
      "1 43.3\n",
      "2 54.1\n",
      "3 62.9\n",
      "4 68.6\n",
      "5 73.5\n",
      "6 77.4\n",
      "7 80.8\n",
      "8 83.4\n",
      "9 86.0\n",
      "10 88.3\n",
      "11 90.2\n",
      "12 91.5\n",
      "13 92.6\n",
      "14 93.5\n",
      "15 94.2\n",
      "16 94.8\n",
      "17 95.5\n"
     ]
    }
   ],
   "source": [
    "for i, v in enumerate((pca.explained_variance_ratio_*100).cumsum()):\n",
    "    print(i, f\"{v:.3}\")"
   ]
  },
  {
   "cell_type": "code",
   "execution_count": 58,
   "id": "a17e6e4c-b069-482e-8848-3e99bd65c674",
   "metadata": {},
   "outputs": [
    {
     "data": {
      "text/plain": [
       "Text(0, 0.5, 'summary % variance explained')"
      ]
     },
     "execution_count": 58,
     "metadata": {},
     "output_type": "execute_result"
    },
    {
     "data": {
      "image/png": "[encoded data removed]",
      "text/plain": [
       "<Figure size 2500x1000 with 2 Axes>"
      ]
     },
     "metadata": {},
     "output_type": "display_data"
    }
   ],
   "source": [
    "pcs = [f\"PC{n}\" for n in range(1, xx.shape[1]+1)]\n",
    "fig, ax = plt.subplots(figsize=(25,10))\n",
    "ax.bar(pcs, pca.explained_variance_ratio_*100)\n",
    "ax2 = ax.twinx()\n",
    "ax2.plot(pcs, (pca.explained_variance_ratio_*100).cumsum(), c=\"r\")\n",
    "ax.set_ylabel(\"% variance explained\", color=\"b\")\n",
    "ax2.set_ylabel(\"summary % variance explained\", color=\"r\")"
   ]
  },
  {
   "cell_type": "code",
   "execution_count": 59,
   "id": "74975a6d-831f-418e-80c3-bf9abe8a0f08",
   "metadata": {},
   "outputs": [],
   "source": [
    "fig.savefig(\"scree_plot_fqd_pca.pdf\")"
   ]
  },
  {
   "cell_type": "markdown",
   "id": "407f0dcf-f209-45ee-8cf5-02b70d94460e",
   "metadata": {},
   "source": [
    "### 2D"
   ]
  },
  {
   "cell_type": "code",
   "execution_count": 60,
   "id": "4f9013b8-b359-4ac6-8353-e6fbef570c46",
   "metadata": {},
   "outputs": [
    {
     "data": {
      "text/plain": [
       "<matplotlib.collections.PathCollection at 0x7f8ed81ac700>"
      ]
     },
     "execution_count": 60,
     "metadata": {},
     "output_type": "execute_result"
    },
    {
     "data": {
      "image/png": "[encoded data removed]",
      "text/plain": [
       "<Figure size 640x480 with 1 Axes>"
      ]
     },
     "metadata": {},
     "output_type": "display_data"
    }
   ],
   "source": [
    "fig, ax = plt.subplots()\n",
    "pca_df_ones = pca_df[(yy==1).values]\n",
    "pca_df_zeros = pca_df[(yy==0).values]\n",
    "ax.scatter(pca_df_ones[\"PC1\"], pca_df_ones[\"PC2\"])\n",
    "ax.scatter(pca_df_zeros[\"PC1\"], pca_df_zeros[\"PC2\"], c=\"r\")"
   ]
  },
  {
   "cell_type": "markdown",
   "id": "f7915770-1154-4410-8930-09523ff150de",
   "metadata": {},
   "source": [
    "### 3D"
   ]
  },
  {
   "cell_type": "code",
   "execution_count": 61,
   "id": "d007eb53-00ab-4aec-badc-0feadf0d62fb",
   "metadata": {
    "tags": []
   },
   "outputs": [
    {
     "data": {
      "text/plain": [
       "<mpl_toolkits.mplot3d.art3d.Path3DCollection at 0x7f8eb0f13eb0>"
      ]
     },
     "execution_count": 61,
     "metadata": {},
     "output_type": "execute_result"
    },
    {
     "data": {
      "image/png": "[encoded data removed]",
      "text/plain": [
       "<Figure size 640x480 with 1 Axes>"
      ]
     },
     "metadata": {},
     "output_type": "display_data"
    }
   ],
   "source": [
    "from mpl_toolkits.mplot3d import Axes3D\n",
    "fig, ax = plt.subplots(subplot_kw={\"projection\":\"3d\"})\n",
    "ax.scatter(pca_df_ones[\"PC1\"], pca_df_ones[\"PC2\"], pca_df_ones[\"PC3\"], s=1)\n",
    "ax.scatter(pca_df_zeros[\"PC1\"], pca_df_zeros[\"PC2\"], pca_df_zeros[\"PC3\"], c=\"r\", s=1)"
   ]
  },
  {
   "cell_type": "code",
   "execution_count": 62,
   "id": "2ca85f8a-e7c5-49f6-9de7-7422d7d6f9d0",
   "metadata": {
    "tags": []
   },
   "outputs": [
    {
     "data": {
      "text/html": [
       "<div>\n",
       "<style scoped>\n",
       "    .dataframe tbody tr th:only-of-type {\n",
       "        vertical-align: middle;\n",
       "    }\n",
       "\n",
       "    .dataframe tbody tr th {\n",
       "        vertical-align: top;\n",
       "    }\n",
       "\n",
       "    .dataframe thead th {\n",
       "        text-align: right;\n",
       "    }\n",
       "</style>\n",
       "<table border=\"1\" class=\"dataframe\">\n",
       "  <thead>\n",
       "    <tr style=\"text-align: right;\">\n",
       "      <th></th>\n",
       "      <th>PC1</th>\n",
       "      <th>PC2</th>\n",
       "      <th>PC3</th>\n",
       "      <th>PC4</th>\n",
       "      <th>PC5</th>\n",
       "      <th>PC6</th>\n",
       "      <th>PC7</th>\n",
       "      <th>PC8</th>\n",
       "      <th>PC9</th>\n",
       "      <th>PC10</th>\n",
       "      <th>PC11</th>\n",
       "      <th>PC12</th>\n",
       "      <th>PC13</th>\n",
       "      <th>PC14</th>\n",
       "      <th>PC15</th>\n",
       "      <th>PC16</th>\n",
       "      <th>PC17</th>\n",
       "      <th>PC18</th>\n",
       "    </tr>\n",
       "  </thead>\n",
       "  <tbody>\n",
       "    <tr>\n",
       "      <th>0</th>\n",
       "      <td>4.284421</td>\n",
       "      <td>-1.872287</td>\n",
       "      <td>-4.796424</td>\n",
       "      <td>-0.626301</td>\n",
       "      <td>-1.359081</td>\n",
       "      <td>0.597452</td>\n",
       "      <td>-0.352307</td>\n",
       "      <td>0.429814</td>\n",
       "      <td>0.351305</td>\n",
       "      <td>-0.376277</td>\n",
       "      <td>-0.595309</td>\n",
       "      <td>-1.019267</td>\n",
       "      <td>-0.601788</td>\n",
       "      <td>0.429571</td>\n",
       "      <td>0.506501</td>\n",
       "      <td>-0.469198</td>\n",
       "      <td>0.618595</td>\n",
       "      <td>0.620515</td>\n",
       "    </tr>\n",
       "    <tr>\n",
       "      <th>1</th>\n",
       "      <td>-5.934656</td>\n",
       "      <td>4.200080</td>\n",
       "      <td>3.749729</td>\n",
       "      <td>-1.543506</td>\n",
       "      <td>-1.480642</td>\n",
       "      <td>-1.369324</td>\n",
       "      <td>6.436511</td>\n",
       "      <td>-0.565176</td>\n",
       "      <td>0.331875</td>\n",
       "      <td>-2.412641</td>\n",
       "      <td>1.059431</td>\n",
       "      <td>1.070739</td>\n",
       "      <td>-1.863934</td>\n",
       "      <td>1.144334</td>\n",
       "      <td>3.453451</td>\n",
       "      <td>-0.362942</td>\n",
       "      <td>2.399716</td>\n",
       "      <td>1.483245</td>\n",
       "    </tr>\n",
       "    <tr>\n",
       "      <th>2</th>\n",
       "      <td>4.931752</td>\n",
       "      <td>-1.607893</td>\n",
       "      <td>-2.490060</td>\n",
       "      <td>-1.036759</td>\n",
       "      <td>0.158460</td>\n",
       "      <td>-1.215622</td>\n",
       "      <td>-0.946162</td>\n",
       "      <td>0.653389</td>\n",
       "      <td>-0.087209</td>\n",
       "      <td>-0.263871</td>\n",
       "      <td>-0.519242</td>\n",
       "      <td>0.753271</td>\n",
       "      <td>-1.252579</td>\n",
       "      <td>1.017350</td>\n",
       "      <td>0.389626</td>\n",
       "      <td>-1.513313</td>\n",
       "      <td>-0.244670</td>\n",
       "      <td>-0.901949</td>\n",
       "    </tr>\n",
       "    <tr>\n",
       "      <th>3</th>\n",
       "      <td>5.241121</td>\n",
       "      <td>0.131047</td>\n",
       "      <td>-4.819501</td>\n",
       "      <td>-1.832958</td>\n",
       "      <td>-1.139428</td>\n",
       "      <td>2.351874</td>\n",
       "      <td>3.987138</td>\n",
       "      <td>-0.696143</td>\n",
       "      <td>-1.396787</td>\n",
       "      <td>-0.278453</td>\n",
       "      <td>1.484445</td>\n",
       "      <td>0.393015</td>\n",
       "      <td>1.381625</td>\n",
       "      <td>-1.675737</td>\n",
       "      <td>-0.777835</td>\n",
       "      <td>0.606899</td>\n",
       "      <td>-0.636689</td>\n",
       "      <td>0.559179</td>\n",
       "    </tr>\n",
       "    <tr>\n",
       "      <th>4</th>\n",
       "      <td>-2.459377</td>\n",
       "      <td>6.422610</td>\n",
       "      <td>4.054392</td>\n",
       "      <td>-4.615230</td>\n",
       "      <td>2.854621</td>\n",
       "      <td>1.751078</td>\n",
       "      <td>-0.100034</td>\n",
       "      <td>-1.549084</td>\n",
       "      <td>1.812420</td>\n",
       "      <td>1.629034</td>\n",
       "      <td>-2.920104</td>\n",
       "      <td>-2.169199</td>\n",
       "      <td>0.218244</td>\n",
       "      <td>0.588438</td>\n",
       "      <td>-0.092901</td>\n",
       "      <td>-0.384228</td>\n",
       "      <td>0.053616</td>\n",
       "      <td>0.100555</td>\n",
       "    </tr>\n",
       "    <tr>\n",
       "      <th>...</th>\n",
       "      <td>...</td>\n",
       "      <td>...</td>\n",
       "      <td>...</td>\n",
       "      <td>...</td>\n",
       "      <td>...</td>\n",
       "      <td>...</td>\n",
       "      <td>...</td>\n",
       "      <td>...</td>\n",
       "      <td>...</td>\n",
       "      <td>...</td>\n",
       "      <td>...</td>\n",
       "      <td>...</td>\n",
       "      <td>...</td>\n",
       "      <td>...</td>\n",
       "      <td>...</td>\n",
       "      <td>...</td>\n",
       "      <td>...</td>\n",
       "      <td>...</td>\n",
       "    </tr>\n",
       "    <tr>\n",
       "      <th>521</th>\n",
       "      <td>-0.785645</td>\n",
       "      <td>8.021462</td>\n",
       "      <td>7.295669</td>\n",
       "      <td>-4.493426</td>\n",
       "      <td>2.861271</td>\n",
       "      <td>0.856178</td>\n",
       "      <td>0.548230</td>\n",
       "      <td>-2.691541</td>\n",
       "      <td>1.847405</td>\n",
       "      <td>2.407315</td>\n",
       "      <td>-2.562164</td>\n",
       "      <td>-0.461806</td>\n",
       "      <td>0.215905</td>\n",
       "      <td>-0.048461</td>\n",
       "      <td>-0.947505</td>\n",
       "      <td>-1.607721</td>\n",
       "      <td>0.228696</td>\n",
       "      <td>1.036117</td>\n",
       "    </tr>\n",
       "    <tr>\n",
       "      <th>522</th>\n",
       "      <td>-6.484270</td>\n",
       "      <td>-0.847586</td>\n",
       "      <td>-0.595806</td>\n",
       "      <td>-0.721909</td>\n",
       "      <td>-3.273953</td>\n",
       "      <td>-3.538038</td>\n",
       "      <td>0.333427</td>\n",
       "      <td>1.399467</td>\n",
       "      <td>1.056271</td>\n",
       "      <td>-0.604382</td>\n",
       "      <td>1.912079</td>\n",
       "      <td>0.575568</td>\n",
       "      <td>0.807749</td>\n",
       "      <td>0.532406</td>\n",
       "      <td>-0.646239</td>\n",
       "      <td>0.655993</td>\n",
       "      <td>0.991255</td>\n",
       "      <td>-1.474448</td>\n",
       "    </tr>\n",
       "    <tr>\n",
       "      <th>523</th>\n",
       "      <td>5.236440</td>\n",
       "      <td>-0.123007</td>\n",
       "      <td>-3.886146</td>\n",
       "      <td>-0.969934</td>\n",
       "      <td>-0.305438</td>\n",
       "      <td>1.989422</td>\n",
       "      <td>3.365753</td>\n",
       "      <td>-0.745064</td>\n",
       "      <td>-1.512514</td>\n",
       "      <td>-0.776636</td>\n",
       "      <td>0.367656</td>\n",
       "      <td>-1.028963</td>\n",
       "      <td>0.835922</td>\n",
       "      <td>-0.358225</td>\n",
       "      <td>-1.902275</td>\n",
       "      <td>-0.122700</td>\n",
       "      <td>-0.099579</td>\n",
       "      <td>-0.302770</td>\n",
       "    </tr>\n",
       "    <tr>\n",
       "      <th>524</th>\n",
       "      <td>4.093970</td>\n",
       "      <td>-2.279732</td>\n",
       "      <td>-3.343239</td>\n",
       "      <td>-1.677733</td>\n",
       "      <td>-0.028353</td>\n",
       "      <td>-0.468242</td>\n",
       "      <td>-1.116615</td>\n",
       "      <td>0.920831</td>\n",
       "      <td>-0.295945</td>\n",
       "      <td>-0.483407</td>\n",
       "      <td>-0.310595</td>\n",
       "      <td>1.367286</td>\n",
       "      <td>-1.417990</td>\n",
       "      <td>0.464533</td>\n",
       "      <td>0.545493</td>\n",
       "      <td>-1.524802</td>\n",
       "      <td>-0.837315</td>\n",
       "      <td>-1.033522</td>\n",
       "    </tr>\n",
       "    <tr>\n",
       "      <th>525</th>\n",
       "      <td>-7.343037</td>\n",
       "      <td>10.610834</td>\n",
       "      <td>4.574086</td>\n",
       "      <td>-1.714691</td>\n",
       "      <td>4.577446</td>\n",
       "      <td>-0.255319</td>\n",
       "      <td>1.304854</td>\n",
       "      <td>3.781456</td>\n",
       "      <td>1.648772</td>\n",
       "      <td>-4.179260</td>\n",
       "      <td>-1.284394</td>\n",
       "      <td>-2.678695</td>\n",
       "      <td>-0.804431</td>\n",
       "      <td>0.558175</td>\n",
       "      <td>1.724525</td>\n",
       "      <td>-0.487093</td>\n",
       "      <td>-2.449179</td>\n",
       "      <td>0.780672</td>\n",
       "    </tr>\n",
       "  </tbody>\n",
       "</table>\n",
       "<p>526 rows × 18 columns</p>\n",
       "</div>"
      ],
      "text/plain": [
       "          PC1        PC2       PC3       PC4       PC5       PC6       PC7  \\\n",
       "0    4.284421  -1.872287 -4.796424 -0.626301 -1.359081  0.597452 -0.352307   \n",
       "1   -5.934656   4.200080  3.749729 -1.543506 -1.480642 -1.369324  6.436511   \n",
       "2    4.931752  -1.607893 -2.490060 -1.036759  0.158460 -1.215622 -0.946162   \n",
       "3    5.241121   0.131047 -4.819501 -1.832958 -1.139428  2.351874  3.987138   \n",
       "4   -2.459377   6.422610  4.054392 -4.615230  2.854621  1.751078 -0.100034   \n",
       "..        ...        ...       ...       ...       ...       ...       ...   \n",
       "521 -0.785645   8.021462  7.295669 -4.493426  2.861271  0.856178  0.548230   \n",
       "522 -6.484270  -0.847586 -0.595806 -0.721909 -3.273953 -3.538038  0.333427   \n",
       "523  5.236440  -0.123007 -3.886146 -0.969934 -0.305438  1.989422  3.365753   \n",
       "524  4.093970  -2.279732 -3.343239 -1.677733 -0.028353 -0.468242 -1.116615   \n",
       "525 -7.343037  10.610834  4.574086 -1.714691  4.577446 -0.255319  1.304854   \n",
       "\n",
       "          PC8       PC9      PC10      PC11      PC12      PC13      PC14  \\\n",
       "0    0.429814  0.351305 -0.376277 -0.595309 -1.019267 -0.601788  0.429571   \n",
       "1   -0.565176  0.331875 -2.412641  1.059431  1.070739 -1.863934  1.144334   \n",
       "2    0.653389 -0.087209 -0.263871 -0.519242  0.753271 -1.252579  1.017350   \n",
       "3   -0.696143 -1.396787 -0.278453  1.484445  0.393015  1.381625 -1.675737   \n",
       "4   -1.549084  1.812420  1.629034 -2.920104 -2.169199  0.218244  0.588438   \n",
       "..        ...       ...       ...       ...       ...       ...       ...   \n",
       "521 -2.691541  1.847405  2.407315 -2.562164 -0.461806  0.215905 -0.048461   \n",
       "522  1.399467  1.056271 -0.604382  1.912079  0.575568  0.807749  0.532406   \n",
       "523 -0.745064 -1.512514 -0.776636  0.367656 -1.028963  0.835922 -0.358225   \n",
       "524  0.920831 -0.295945 -0.483407 -0.310595  1.367286 -1.417990  0.464533   \n",
       "525  3.781456  1.648772 -4.179260 -1.284394 -2.678695 -0.804431  0.558175   \n",
       "\n",
       "         PC15      PC16      PC17      PC18  \n",
       "0    0.506501 -0.469198  0.618595  0.620515  \n",
       "1    3.453451 -0.362942  2.399716  1.483245  \n",
       "2    0.389626 -1.513313 -0.244670 -0.901949  \n",
       "3   -0.777835  0.606899 -0.636689  0.559179  \n",
       "4   -0.092901 -0.384228  0.053616  0.100555  \n",
       "..        ...       ...       ...       ...  \n",
       "521 -0.947505 -1.607721  0.228696  1.036117  \n",
       "522 -0.646239  0.655993  0.991255 -1.474448  \n",
       "523 -1.902275 -0.122700 -0.099579 -0.302770  \n",
       "524  0.545493 -1.524802 -0.837315 -1.033522  \n",
       "525  1.724525 -0.487093 -2.449179  0.780672  \n",
       "\n",
       "[526 rows x 18 columns]"
      ]
     },
     "execution_count": 62,
     "metadata": {},
     "output_type": "execute_result"
    }
   ],
   "source": [
    "pca_df"
   ]
  },
  {
   "cell_type": "code",
   "execution_count": 63,
   "id": "e366e2b9-74f0-4428-88c3-52eaa972881b",
   "metadata": {},
   "outputs": [
    {
     "data": {
      "text/plain": [
       "586    1\n",
       "579    0\n",
       "305    0\n",
       "383    0\n",
       "434    0\n",
       "      ..\n",
       "454    0\n",
       "115    1\n",
       "534    0\n",
       "817    0\n",
       "368    0\n",
       "Name: class_encoded, Length: 526, dtype: int64"
      ]
     },
     "execution_count": 63,
     "metadata": {},
     "output_type": "execute_result"
    }
   ],
   "source": [
    "yy"
   ]
  },
  {
   "cell_type": "code",
   "execution_count": 83,
   "id": "fe2abe75-19d9-4e97-9147-ac6a1894c155",
   "metadata": {
    "tags": []
   },
   "outputs": [],
   "source": [
    "pd.concat([pca_df, yy.reset_index(drop=True)], axis=1).to_csv(\"pca_df.csv\")"
   ]
  },
  {
   "cell_type": "markdown",
   "id": "3eb8d539-eff6-4a9d-b378-723eef2e4cee",
   "metadata": {},
   "source": [
    "# Mutual information"
   ]
  },
  {
   "cell_type": "markdown",
   "id": "71d51e83-4466-41d9-ae42-85e94b347fc3",
   "metadata": {},
   "source": [
    "## No PCA"
   ]
  },
  {
   "cell_type": "code",
   "execution_count": 65,
   "id": "d4b1631e-6196-4f52-8a91-afd0bd579f07",
   "metadata": {
    "tags": []
   },
   "outputs": [],
   "source": [
    "from sklearn.feature_selection import mutual_info_classif"
   ]
  },
  {
   "cell_type": "code",
   "execution_count": 66,
   "id": "406e916a-6324-425e-ba4b-9b7a54a1913c",
   "metadata": {},
   "outputs": [],
   "source": [
    "minf = mutual_info_classif(dat3[cols], dat3_y, random_state=1, n_neighbors=3)"
   ]
  },
  {
   "cell_type": "code",
   "execution_count": 67,
   "id": "bbcdfc03-5c21-4d34-b8f5-470ea7c7ad28",
   "metadata": {
    "tags": []
   },
   "outputs": [],
   "source": [
    "minf = pd.Series(minf, index=cols)"
   ]
  },
  {
   "cell_type": "code",
   "execution_count": 68,
   "id": "9414c6e5-5bf6-44de-82d9-fcff5deadfd6",
   "metadata": {
    "tags": []
   },
   "outputs": [
    {
     "data": {
      "text/plain": [
       "quant_FQD_7_mu_per_atom       0.146264\n",
       "quant_FQD_8_g298              0.128036\n",
       "quant_FQD_8_u298              0.124797\n",
       "quant_FQD_2_homo_per_atom     0.124427\n",
       "quant_FQD_8_h298              0.124315\n",
       "quant_FQD_8_u0                0.122509\n",
       "quant_FQD_8_zpve              0.121353\n",
       "quant_FQD_9_zpve              0.121104\n",
       "quant_FQD_2_g298_per_atom     0.116160\n",
       "quant_FQD_9_u298              0.114176\n",
       "quant_FQD_9_u0                0.114136\n",
       "quant_FQD_9_h298              0.111369\n",
       "quant_FQD_9_g298              0.110898\n",
       "quant_FQD_2_h298_per_atom     0.110079\n",
       "quant_FQD_9_mu_per_atom       0.109268\n",
       "quant_FQD_9_alpha             0.109015\n",
       "quant_FQD_7_lumo_per_atom     0.108897\n",
       "quant_FQD_2_alpha_per_atom    0.106519\n",
       "quant_FQD_2_u298_per_atom     0.105628\n",
       "quant_FQD_8_alpha             0.104974\n",
       "quant_FQD_8_gap               0.104119\n",
       "quant_FQD_8_lumo              0.103860\n",
       "quant_FQD_7_alpha_per_atom    0.103012\n",
       "quant_FQD_7_u0                0.102692\n",
       "quant_FQD_7_u298_per_atom     0.099185\n",
       "quant_FQD_7_homo_per_atom     0.098342\n",
       "quant_FQD_7_g298_per_atom     0.096721\n",
       "quant_FQD_7_u0_per_atom       0.096369\n",
       "quant_FQD_2_lumo_per_atom     0.095585\n",
       "quant_FQD_8_homo              0.095500\n",
       "quant_FQD_2_cv_per_atom       0.095341\n",
       "quant_FQD_9_lumo              0.092982\n",
       "quant_FQD_7_h298_per_atom     0.092010\n",
       "quant_FQD_2_gap_per_atom      0.091610\n",
       "quant_FQD_7_cv                0.090095\n",
       "quant_FQD_8_mu_per_atom       0.088914\n",
       "quant_FQD_2_u0_per_atom       0.087280\n",
       "quant_FQD_7_gap_per_atom      0.086268\n",
       "quant_FQD_7_zpve_per_atom     0.085972\n",
       "quant_FQD_2_zpve_per_atom     0.085945\n",
       "dtype: float64"
      ]
     },
     "execution_count": 68,
     "metadata": {},
     "output_type": "execute_result"
    }
   ],
   "source": [
    "minf.sort_values(ascending=False).head(40)"
   ]
  },
  {
   "cell_type": "code",
   "execution_count": 69,
   "id": "6643f242-59f4-456b-b114-d416b2ded156",
   "metadata": {
    "tags": []
   },
   "outputs": [],
   "source": [
    "splitted_names = [x.split(\"_\") for x in minf.sort_values(ascending=False).index[:40]]\n",
    "minf_len = [x[2] for x in splitted_names]\n",
    "len_counter = Counter(minf_len)\n",
    "minf_prop = [x[3] for x in splitted_names]\n",
    "prop_counter = Counter(minf_prop)"
   ]
  },
  {
   "cell_type": "code",
   "execution_count": 70,
   "id": "c632326a-ee6f-4c94-b1e3-3f9415e3385d",
   "metadata": {
    "tags": []
   },
   "outputs": [
    {
     "data": {
      "text/plain": [
       "Counter({'7': 12, '8': 10, '2': 10, '9': 8})"
      ]
     },
     "execution_count": 70,
     "metadata": {},
     "output_type": "execute_result"
    }
   ],
   "source": [
    "len_counter"
   ]
  },
  {
   "cell_type": "code",
   "execution_count": 71,
   "id": "7640fe09-7a4d-4c48-ac31-e71c6d22d58f",
   "metadata": {
    "tags": []
   },
   "outputs": [
    {
     "data": {
      "text/plain": [
       "Counter({'mu': 3,\n",
       "         'g298': 4,\n",
       "         'u298': 4,\n",
       "         'homo': 3,\n",
       "         'h298': 4,\n",
       "         'u0': 5,\n",
       "         'zpve': 4,\n",
       "         'alpha': 4,\n",
       "         'lumo': 4,\n",
       "         'gap': 3,\n",
       "         'cv': 2})"
      ]
     },
     "execution_count": 71,
     "metadata": {},
     "output_type": "execute_result"
    }
   ],
   "source": [
    "prop_counter"
   ]
  },
  {
   "cell_type": "markdown",
   "id": "04d816b1-ddb1-404c-9ca4-3208aa8d85fa",
   "metadata": {},
   "source": [
    "## PCA"
   ]
  },
  {
   "cell_type": "code",
   "execution_count": 78,
   "id": "e9b692d3-2ee7-4cde-91bd-49aaf88b4d0b",
   "metadata": {},
   "outputs": [],
   "source": [
    "minf = mutual_info_classif(pca_df, y, random_state=1, n_neighbors=3)"
   ]
  },
  {
   "cell_type": "code",
   "execution_count": 79,
   "id": "b8d1a1f4-c05b-4fb0-9a43-4f63834baa74",
   "metadata": {
    "tags": []
   },
   "outputs": [],
   "source": [
    "minf = pd.Series(minf, index=pca_df.columns)"
   ]
  },
  {
   "cell_type": "code",
   "execution_count": 80,
   "id": "42e5c903-bc45-4e26-be76-65ac57b624d8",
   "metadata": {
    "tags": []
   },
   "outputs": [
    {
     "data": {
      "text/plain": [
       "PC7     0.114592\n",
       "PC14    0.100533\n",
       "PC8     0.094578\n",
       "PC1     0.091715\n",
       "PC10    0.058274\n",
       "PC3     0.056031\n",
       "PC12    0.056023\n",
       "PC2     0.039162\n",
       "PC11    0.038526\n",
       "PC13    0.034756\n",
       "PC17    0.026143\n",
       "PC6     0.025232\n",
       "PC15    0.023253\n",
       "PC4     0.022361\n",
       "PC18    0.013703\n",
       "PC9     0.012765\n",
       "PC16    0.008810\n",
       "PC5     0.001206\n",
       "dtype: float64"
      ]
     },
     "execution_count": 80,
     "metadata": {},
     "output_type": "execute_result"
    }
   ],
   "source": [
    "minf.sort_values(ascending=False).head(40)"
   ]
  },
  {
   "cell_type": "code",
   "execution_count": null,
   "id": "6ed6cb7d-29d2-4a7f-8cdd-7bc13c5430c5",
   "metadata": {},
   "outputs": [],
   "source": []
  }
 ],
 "metadata": {
  "kernelspec": {
   "display_name": "chemin_kernel",
   "language": "python",
   "name": "chemin_kernel"
  },
  "language_info": {
   "codemirror_mode": {
    "name": "ipython",
    "version": 3
   },
   "file_extension": ".py",
   "mimetype": "text/x-python",
   "name": "python",
   "nbconvert_exporter": "python",
   "pygments_lexer": "ipython3",
   "version": "3.10.6"
  }
 },
 "nbformat": 4,
 "nbformat_minor": 5
}
