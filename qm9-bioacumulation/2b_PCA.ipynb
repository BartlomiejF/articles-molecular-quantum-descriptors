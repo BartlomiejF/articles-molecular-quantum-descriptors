{
 "cells": [
  {
   "cell_type": "code",
   "execution_count": 1,
   "id": "46d07bb7-7c92-4c26-879f-8bf606217d15",
   "metadata": {
    "tags": []
   },
   "outputs": [],
   "source": [
    "import numpy as np\n",
    "import pandas as pd\n",
    "from rdkit import Chem\n",
    "from rdkit.Chem import AllChem\n",
    "from rdkit import DataStructs\n",
    "from rdkit.ML.Descriptors import MoleculeDescriptors\n",
    "from rdkit.Chem import MACCSkeys\n",
    "from rdkit.Chem import Descriptors\n",
    "\n",
    "import pathlib\n",
    "\n",
    "import matplotlib.pyplot as plt\n",
    "import seaborn as sns"
   ]
  },
  {
   "cell_type": "code",
   "execution_count": 2,
   "id": "bd13b057-b475-4e39-94af-f53ffd5fd00f",
   "metadata": {},
   "outputs": [],
   "source": [
    "from matplotlib import rcParams\n",
    "rcParams[\"font.size\"] = 20"
   ]
  },
  {
   "cell_type": "markdown",
   "id": "7faac42b-56e1-4be1-b781-7f2863d9a7a3",
   "metadata": {
    "tags": []
   },
   "source": [
    "# Read Data"
   ]
  },
  {
   "cell_type": "code",
   "execution_count": 3,
   "id": "34eb089c-b211-44c6-984e-ef77af37a9ac",
   "metadata": {
    "tags": []
   },
   "outputs": [],
   "source": [
    "db_conf = pd.read_parquet(\"db_conf.parquet\")\n",
    "db_conf.index = db_conf[\"db_idx\"]\n",
    "db_conf.drop(columns=[\"Unnamed: 0\", \"db_idx\"], inplace=True)\n",
    "db_conf[\"mol\"] = db_conf[\"smiles\"].apply(Chem.MolFromSmiles)\n",
    "# db_conf.drop(columns=[\"CONF\", \"CONFCl\", \"CONFClBr\", \"CONFClBrI\"], inplace=True)\n",
    "db_conf = db_conf.reset_index(drop=True)"
   ]
  },
  {
   "cell_type": "code",
   "execution_count": 4,
   "id": "346795d2-1f6d-41f4-946d-30874862e1aa",
   "metadata": {},
   "outputs": [],
   "source": [
    "na_ind = db_conf[db_conf.iloc[:,4:-1].isna().all(axis=1)].index"
   ]
  },
  {
   "cell_type": "code",
   "execution_count": 5,
   "id": "3b8c77ee-aa18-45c9-b197-8f7ba349f3a8",
   "metadata": {},
   "outputs": [],
   "source": [
    "db_conf = db_conf.drop(index=na_ind)\n",
    "db_conf = db_conf.reset_index(drop=True)"
   ]
  },
  {
   "cell_type": "markdown",
   "id": "1ba003c7-3832-4415-8ca9-1b4d13f2d51e",
   "metadata": {
    "tags": []
   },
   "source": [
    "# Labels Encoding"
   ]
  },
  {
   "cell_type": "code",
   "execution_count": 6,
   "id": "e3014755-079e-414d-a11f-bee7f0c29fc0",
   "metadata": {},
   "outputs": [],
   "source": [
    "from sklearn import preprocessing"
   ]
  },
  {
   "cell_type": "code",
   "execution_count": 7,
   "id": "022453ca-64d4-4e4b-8625-395892cb028f",
   "metadata": {},
   "outputs": [],
   "source": [
    "le = preprocessing.LabelEncoder()\n",
    "le.fit([\"nB\", \"B\"])\n",
    "db_conf[\"class_encoded\"] = le.transform(db_conf[\"Experimental BCF class\"])"
   ]
  },
  {
   "cell_type": "code",
   "execution_count": 8,
   "id": "d3f63318-afdd-4274-870f-8ad2c8d0695a",
   "metadata": {},
   "outputs": [],
   "source": [
    "db_conf[\"class_encoded\"] = db_conf[\"class_encoded\"].replace({1:0, 0:1})"
   ]
  },
  {
   "cell_type": "code",
   "execution_count": 9,
   "id": "df9ce493-4611-43a0-bad5-5dac7f36a16f",
   "metadata": {
    "tags": []
   },
   "outputs": [
    {
     "data": {
      "text/html": [
       "<div>\n",
       "<style scoped>\n",
       "    .dataframe tbody tr th:only-of-type {\n",
       "        vertical-align: middle;\n",
       "    }\n",
       "\n",
       "    .dataframe tbody tr th {\n",
       "        vertical-align: top;\n",
       "    }\n",
       "\n",
       "    .dataframe thead th {\n",
       "        text-align: right;\n",
       "    }\n",
       "</style>\n",
       "<table border=\"1\" class=\"dataframe\">\n",
       "  <thead>\n",
       "    <tr style=\"text-align: right;\">\n",
       "      <th></th>\n",
       "      <th>smiles</th>\n",
       "      <th>Experimental logarithmic BCF</th>\n",
       "      <th>Experimental BCF class</th>\n",
       "      <th>FQD_2</th>\n",
       "      <th>FQD_3</th>\n",
       "      <th>FQD_4</th>\n",
       "      <th>FQD_5</th>\n",
       "      <th>FQD_6</th>\n",
       "      <th>FQD_7</th>\n",
       "      <th>FQD_8</th>\n",
       "      <th>FQD_9</th>\n",
       "      <th>mol</th>\n",
       "      <th>class_encoded</th>\n",
       "    </tr>\n",
       "  </thead>\n",
       "  <tbody>\n",
       "    <tr>\n",
       "      <th>0</th>\n",
       "      <td>CNc1cccc(C)c1</td>\n",
       "      <td>0.849</td>\n",
       "      <td>nB</td>\n",
       "      <td>[6]</td>\n",
       "      <td>None</td>\n",
       "      <td>None</td>\n",
       "      <td>None</td>\n",
       "      <td>[213]</td>\n",
       "      <td>[929, 939]</td>\n",
       "      <td>[4340, 5388]</td>\n",
       "      <td>[32107]</td>\n",
       "      <td>&lt;rdkit.Chem.rdchem.Mol object at 0x7fa0ee8c9240&gt;</td>\n",
       "      <td>0</td>\n",
       "    </tr>\n",
       "    <tr>\n",
       "      <th>1</th>\n",
       "      <td>CC(COc1ccc(Oc2ccccc2)cc1)Oc1ccccn1</td>\n",
       "      <td>3.140</td>\n",
       "      <td>B</td>\n",
       "      <td>[6, 7]</td>\n",
       "      <td>[12, 13, 14]</td>\n",
       "      <td>[21, 39, 40, 41]</td>\n",
       "      <td>[81, 84, 134, 136]</td>\n",
       "      <td>[213, 214, 277, 395, 548]</td>\n",
       "      <td>[948, 953, 1578]</td>\n",
       "      <td>[4590, 5397, 5402]</td>\n",
       "      <td>[31844, 33001, 33006]</td>\n",
       "      <td>&lt;rdkit.Chem.rdchem.Mol object at 0x7fa0ee8c9180&gt;</td>\n",
       "      <td>1</td>\n",
       "    </tr>\n",
       "    <tr>\n",
       "      <th>2</th>\n",
       "      <td>CCCCCCCC/C=C\\CCCCCCCCCCCCC</td>\n",
       "      <td>1.176</td>\n",
       "      <td>nB</td>\n",
       "      <td>[6]</td>\n",
       "      <td>[12]</td>\n",
       "      <td>[38]</td>\n",
       "      <td>[132]</td>\n",
       "      <td>[542]</td>\n",
       "      <td>[2719]</td>\n",
       "      <td>[14787]</td>\n",
       "      <td>[123245]</td>\n",
       "      <td>&lt;rdkit.Chem.rdchem.Mol object at 0x7fa0ee8db1c0&gt;</td>\n",
       "      <td>0</td>\n",
       "    </tr>\n",
       "    <tr>\n",
       "      <th>3</th>\n",
       "      <td>Clc1ccccc1Cl</td>\n",
       "      <td>2.500</td>\n",
       "      <td>nB</td>\n",
       "      <td>None</td>\n",
       "      <td>None</td>\n",
       "      <td>None</td>\n",
       "      <td>None</td>\n",
       "      <td>[213]</td>\n",
       "      <td>[134076]</td>\n",
       "      <td>[135441]</td>\n",
       "      <td>None</td>\n",
       "      <td>&lt;rdkit.Chem.rdchem.Mol object at 0x7fa0ee8db0a0&gt;</td>\n",
       "      <td>0</td>\n",
       "    </tr>\n",
       "    <tr>\n",
       "      <th>4</th>\n",
       "      <td>Nc1cccc([N+](=O)[O-])c1</td>\n",
       "      <td>0.522</td>\n",
       "      <td>nB</td>\n",
       "      <td>None</td>\n",
       "      <td>None</td>\n",
       "      <td>None</td>\n",
       "      <td>None</td>\n",
       "      <td>[213]</td>\n",
       "      <td>[939]</td>\n",
       "      <td>[4360]</td>\n",
       "      <td>[131914]</td>\n",
       "      <td>&lt;rdkit.Chem.rdchem.Mol object at 0x7fa0ee8db040&gt;</td>\n",
       "      <td>0</td>\n",
       "    </tr>\n",
       "    <tr>\n",
       "      <th>...</th>\n",
       "      <td>...</td>\n",
       "      <td>...</td>\n",
       "      <td>...</td>\n",
       "      <td>...</td>\n",
       "      <td>...</td>\n",
       "      <td>...</td>\n",
       "      <td>...</td>\n",
       "      <td>...</td>\n",
       "      <td>...</td>\n",
       "      <td>...</td>\n",
       "      <td>...</td>\n",
       "      <td>...</td>\n",
       "      <td>...</td>\n",
       "    </tr>\n",
       "    <tr>\n",
       "      <th>834</th>\n",
       "      <td>CC1=C(C)S(=O)(=O)CCS1(=O)=O</td>\n",
       "      <td>0.633</td>\n",
       "      <td>nB</td>\n",
       "      <td>[6]</td>\n",
       "      <td>None</td>\n",
       "      <td>None</td>\n",
       "      <td>None</td>\n",
       "      <td>[133896, 133900]</td>\n",
       "      <td>[134043, 134044, 134066, 134068]</td>\n",
       "      <td>[135086, 135404, 135405]</td>\n",
       "      <td>[145115]</td>\n",
       "      <td>&lt;rdkit.Chem.rdchem.Mol object at 0x7fa0ee903760&gt;</td>\n",
       "      <td>0</td>\n",
       "    </tr>\n",
       "    <tr>\n",
       "      <th>835</th>\n",
       "      <td>FC(F)(F)c1ccc(Cl)c(Cl)c1</td>\n",
       "      <td>3.176</td>\n",
       "      <td>B</td>\n",
       "      <td>[6]</td>\n",
       "      <td>None</td>\n",
       "      <td>None</td>\n",
       "      <td>None</td>\n",
       "      <td>[213]</td>\n",
       "      <td>[929, 134076]</td>\n",
       "      <td>[134378, 134382, 135441]</td>\n",
       "      <td>[137748]</td>\n",
       "      <td>&lt;rdkit.Chem.rdchem.Mol object at 0x7fa0ee9037c0&gt;</td>\n",
       "      <td>1</td>\n",
       "    </tr>\n",
       "    <tr>\n",
       "      <th>836</th>\n",
       "      <td>CN(C)[C@@H]1C(=O)C(C(=N)O)=C(O)[C@@]2(O)C(=O)C...</td>\n",
       "      <td>-0.222</td>\n",
       "      <td>nB</td>\n",
       "      <td>[5, 6, 7]</td>\n",
       "      <td>[10, 12, 13]</td>\n",
       "      <td>[17, 20, 21, 34, 37, 38, 39, 41]</td>\n",
       "      <td>[54, 67, 68, 70, 71, 80, 81, 82, 83, 127, 131,...</td>\n",
       "      <td>[213, 224, 226, 228, 254, 258, 259, 260, 271, ...</td>\n",
       "      <td>[929, 948, 1092, 1094, 1099, 1104, 1119, 1129,...</td>\n",
       "      <td>[4341, 4957, 4959, 5378, 5407, 5809, 5841, 584...</td>\n",
       "      <td>[26263, 26273, 28867, 32083, 32170, 32193, 322...</td>\n",
       "      <td>&lt;rdkit.Chem.rdchem.Mol object at 0x7fa0ee903820&gt;</td>\n",
       "      <td>0</td>\n",
       "    </tr>\n",
       "    <tr>\n",
       "      <th>837</th>\n",
       "      <td>CC(C)N(C(=O)CCl)c1ccccc1</td>\n",
       "      <td>1.568</td>\n",
       "      <td>nB</td>\n",
       "      <td>[5, 6]</td>\n",
       "      <td>[10, 11, 12]</td>\n",
       "      <td>[18, 35]</td>\n",
       "      <td>[69, 73, 128]</td>\n",
       "      <td>[213, 255, 262, 288, 386]</td>\n",
       "      <td>[939, 1121, 1626, 1677]</td>\n",
       "      <td>[5388, 7443]</td>\n",
       "      <td>[25503, 26283, 32992]</td>\n",
       "      <td>&lt;rdkit.Chem.rdchem.Mol object at 0x7fa0ee903880&gt;</td>\n",
       "      <td>0</td>\n",
       "    </tr>\n",
       "    <tr>\n",
       "      <th>838</th>\n",
       "      <td>Cc1cc(Cc2cc(C)cc(C(C)(C)C)c2O)c(O)c(C(C)(C)C)c1</td>\n",
       "      <td>2.595</td>\n",
       "      <td>nB</td>\n",
       "      <td>[6, 7]</td>\n",
       "      <td>[12]</td>\n",
       "      <td>[20]</td>\n",
       "      <td>[53]</td>\n",
       "      <td>[213]</td>\n",
       "      <td>[929, 948]</td>\n",
       "      <td>[4335, 4564, 4959, 5378]</td>\n",
       "      <td>[26263, 27871, 28436, 28900, 32080, 32203]</td>\n",
       "      <td>&lt;rdkit.Chem.rdchem.Mol object at 0x7fa0ee9038e0&gt;</td>\n",
       "      <td>0</td>\n",
       "    </tr>\n",
       "  </tbody>\n",
       "</table>\n",
       "<p>839 rows × 13 columns</p>\n",
       "</div>"
      ],
      "text/plain": [
       "                                                smiles  \\\n",
       "0                                        CNc1cccc(C)c1   \n",
       "1                   CC(COc1ccc(Oc2ccccc2)cc1)Oc1ccccn1   \n",
       "2                           CCCCCCCC/C=C\\CCCCCCCCCCCCC   \n",
       "3                                         Clc1ccccc1Cl   \n",
       "4                              Nc1cccc([N+](=O)[O-])c1   \n",
       "..                                                 ...   \n",
       "834                        CC1=C(C)S(=O)(=O)CCS1(=O)=O   \n",
       "835                           FC(F)(F)c1ccc(Cl)c(Cl)c1   \n",
       "836  CN(C)[C@@H]1C(=O)C(C(=N)O)=C(O)[C@@]2(O)C(=O)C...   \n",
       "837                           CC(C)N(C(=O)CCl)c1ccccc1   \n",
       "838    Cc1cc(Cc2cc(C)cc(C(C)(C)C)c2O)c(O)c(C(C)(C)C)c1   \n",
       "\n",
       "     Experimental logarithmic BCF Experimental BCF class      FQD_2  \\\n",
       "0                           0.849                     nB        [6]   \n",
       "1                           3.140                      B     [6, 7]   \n",
       "2                           1.176                     nB        [6]   \n",
       "3                           2.500                     nB       None   \n",
       "4                           0.522                     nB       None   \n",
       "..                            ...                    ...        ...   \n",
       "834                         0.633                     nB        [6]   \n",
       "835                         3.176                      B        [6]   \n",
       "836                        -0.222                     nB  [5, 6, 7]   \n",
       "837                         1.568                     nB     [5, 6]   \n",
       "838                         2.595                     nB     [6, 7]   \n",
       "\n",
       "            FQD_3                             FQD_4  \\\n",
       "0            None                              None   \n",
       "1    [12, 13, 14]                  [21, 39, 40, 41]   \n",
       "2            [12]                              [38]   \n",
       "3            None                              None   \n",
       "4            None                              None   \n",
       "..            ...                               ...   \n",
       "834          None                              None   \n",
       "835          None                              None   \n",
       "836  [10, 12, 13]  [17, 20, 21, 34, 37, 38, 39, 41]   \n",
       "837  [10, 11, 12]                          [18, 35]   \n",
       "838          [12]                              [20]   \n",
       "\n",
       "                                                 FQD_5  \\\n",
       "0                                                 None   \n",
       "1                                   [81, 84, 134, 136]   \n",
       "2                                                [132]   \n",
       "3                                                 None   \n",
       "4                                                 None   \n",
       "..                                                 ...   \n",
       "834                                               None   \n",
       "835                                               None   \n",
       "836  [54, 67, 68, 70, 71, 80, 81, 82, 83, 127, 131,...   \n",
       "837                                      [69, 73, 128]   \n",
       "838                                               [53]   \n",
       "\n",
       "                                                 FQD_6  \\\n",
       "0                                                [213]   \n",
       "1                            [213, 214, 277, 395, 548]   \n",
       "2                                                [542]   \n",
       "3                                                [213]   \n",
       "4                                                [213]   \n",
       "..                                                 ...   \n",
       "834                                   [133896, 133900]   \n",
       "835                                              [213]   \n",
       "836  [213, 224, 226, 228, 254, 258, 259, 260, 271, ...   \n",
       "837                          [213, 255, 262, 288, 386]   \n",
       "838                                              [213]   \n",
       "\n",
       "                                                 FQD_7  \\\n",
       "0                                           [929, 939]   \n",
       "1                                     [948, 953, 1578]   \n",
       "2                                               [2719]   \n",
       "3                                             [134076]   \n",
       "4                                                [939]   \n",
       "..                                                 ...   \n",
       "834                   [134043, 134044, 134066, 134068]   \n",
       "835                                      [929, 134076]   \n",
       "836  [929, 948, 1092, 1094, 1099, 1104, 1119, 1129,...   \n",
       "837                            [939, 1121, 1626, 1677]   \n",
       "838                                         [929, 948]   \n",
       "\n",
       "                                                 FQD_8  \\\n",
       "0                                         [4340, 5388]   \n",
       "1                                   [4590, 5397, 5402]   \n",
       "2                                              [14787]   \n",
       "3                                             [135441]   \n",
       "4                                               [4360]   \n",
       "..                                                 ...   \n",
       "834                           [135086, 135404, 135405]   \n",
       "835                           [134378, 134382, 135441]   \n",
       "836  [4341, 4957, 4959, 5378, 5407, 5809, 5841, 584...   \n",
       "837                                       [5388, 7443]   \n",
       "838                           [4335, 4564, 4959, 5378]   \n",
       "\n",
       "                                                 FQD_9  \\\n",
       "0                                              [32107]   \n",
       "1                                [31844, 33001, 33006]   \n",
       "2                                             [123245]   \n",
       "3                                                 None   \n",
       "4                                             [131914]   \n",
       "..                                                 ...   \n",
       "834                                           [145115]   \n",
       "835                                           [137748]   \n",
       "836  [26263, 26273, 28867, 32083, 32170, 32193, 322...   \n",
       "837                              [25503, 26283, 32992]   \n",
       "838         [26263, 27871, 28436, 28900, 32080, 32203]   \n",
       "\n",
       "                                                  mol  class_encoded  \n",
       "0    <rdkit.Chem.rdchem.Mol object at 0x7fa0ee8c9240>              0  \n",
       "1    <rdkit.Chem.rdchem.Mol object at 0x7fa0ee8c9180>              1  \n",
       "2    <rdkit.Chem.rdchem.Mol object at 0x7fa0ee8db1c0>              0  \n",
       "3    <rdkit.Chem.rdchem.Mol object at 0x7fa0ee8db0a0>              0  \n",
       "4    <rdkit.Chem.rdchem.Mol object at 0x7fa0ee8db040>              0  \n",
       "..                                                ...            ...  \n",
       "834  <rdkit.Chem.rdchem.Mol object at 0x7fa0ee903760>              0  \n",
       "835  <rdkit.Chem.rdchem.Mol object at 0x7fa0ee9037c0>              1  \n",
       "836  <rdkit.Chem.rdchem.Mol object at 0x7fa0ee903820>              0  \n",
       "837  <rdkit.Chem.rdchem.Mol object at 0x7fa0ee903880>              0  \n",
       "838  <rdkit.Chem.rdchem.Mol object at 0x7fa0ee9038e0>              0  \n",
       "\n",
       "[839 rows x 13 columns]"
      ]
     },
     "execution_count": 9,
     "metadata": {},
     "output_type": "execute_result"
    }
   ],
   "source": [
    "db_conf"
   ]
  },
  {
   "cell_type": "markdown",
   "id": "1169d3c1-018c-477d-8a78-6a9c5cea0d00",
   "metadata": {},
   "source": [
    "# RDKit descriptors"
   ]
  },
  {
   "cell_type": "code",
   "execution_count": 10,
   "id": "1d6491ea-ef10-45f8-aa11-a0de1b8794cd",
   "metadata": {
    "tags": []
   },
   "outputs": [],
   "source": [
    "descriptors_names = [ x[0] for x in Descriptors._descList ] #list of all RDKit Descriptors\n",
    "calculator = MoleculeDescriptors.MolecularDescriptorCalculator( descriptors_names )\n",
    "descriptors = []\n",
    "maccs_keys = []\n",
    "morgan_fp = []\n",
    "for mol in db_conf[\"mol\"]:\n",
    "    descriptors.append(calculator.CalcDescriptors(mol))\n",
    "    maccs_keys.append(pd.Series(np.asarray(MACCSkeys.GenMACCSKeys(mol))))\n",
    "    fp = AllChem.GetMorganFingerprintAsBitVect(mol, 4, nBits=2048)\n",
    "    fp_vect = np.zeros((1,))\n",
    "    AllChem.DataStructs.ConvertToNumpyArray(fp, fp_vect)\n",
    "    morgan_fp.append(pd.Series(fp_vect))\n",
    "cols_rdkit = descriptors_names + [f\"MACCS_key{x}\" for x in range(len(maccs_keys[0]))] + [f\"MorganFP_bit_{x}\" for x in range(2048)]\n",
    "cols = list(db_conf.columns) + cols_rdkit\n",
    "dat3 = pd.concat([db_conf.reset_index(drop=True), pd.DataFrame(descriptors), pd.DataFrame(maccs_keys), pd.DataFrame(morgan_fp)], axis=1)\n",
    "dat3.columns = cols\n"
   ]
  },
  {
   "cell_type": "code",
   "execution_count": 11,
   "id": "a3a891c6-d3d0-4bcf-a4ae-1e27b0876b09",
   "metadata": {
    "tags": []
   },
   "outputs": [
    {
     "data": {
      "text/html": [
       "<div>\n",
       "<style scoped>\n",
       "    .dataframe tbody tr th:only-of-type {\n",
       "        vertical-align: middle;\n",
       "    }\n",
       "\n",
       "    .dataframe tbody tr th {\n",
       "        vertical-align: top;\n",
       "    }\n",
       "\n",
       "    .dataframe thead th {\n",
       "        text-align: right;\n",
       "    }\n",
       "</style>\n",
       "<table border=\"1\" class=\"dataframe\">\n",
       "  <thead>\n",
       "    <tr style=\"text-align: right;\">\n",
       "      <th></th>\n",
       "      <th>smiles</th>\n",
       "      <th>Experimental logarithmic BCF</th>\n",
       "      <th>Experimental BCF class</th>\n",
       "      <th>FQD_2</th>\n",
       "      <th>FQD_3</th>\n",
       "      <th>FQD_4</th>\n",
       "      <th>FQD_5</th>\n",
       "      <th>FQD_6</th>\n",
       "      <th>FQD_7</th>\n",
       "      <th>FQD_8</th>\n",
       "      <th>...</th>\n",
       "      <th>MorganFP_bit_2038</th>\n",
       "      <th>MorganFP_bit_2039</th>\n",
       "      <th>MorganFP_bit_2040</th>\n",
       "      <th>MorganFP_bit_2041</th>\n",
       "      <th>MorganFP_bit_2042</th>\n",
       "      <th>MorganFP_bit_2043</th>\n",
       "      <th>MorganFP_bit_2044</th>\n",
       "      <th>MorganFP_bit_2045</th>\n",
       "      <th>MorganFP_bit_2046</th>\n",
       "      <th>MorganFP_bit_2047</th>\n",
       "    </tr>\n",
       "  </thead>\n",
       "  <tbody>\n",
       "    <tr>\n",
       "      <th>0</th>\n",
       "      <td>CNc1cccc(C)c1</td>\n",
       "      <td>0.849</td>\n",
       "      <td>nB</td>\n",
       "      <td>[6]</td>\n",
       "      <td>None</td>\n",
       "      <td>None</td>\n",
       "      <td>None</td>\n",
       "      <td>[213]</td>\n",
       "      <td>[929, 939]</td>\n",
       "      <td>[4340, 5388]</td>\n",
       "      <td>...</td>\n",
       "      <td>0.0</td>\n",
       "      <td>0.0</td>\n",
       "      <td>0.0</td>\n",
       "      <td>0.0</td>\n",
       "      <td>0.0</td>\n",
       "      <td>0.0</td>\n",
       "      <td>0.0</td>\n",
       "      <td>0.0</td>\n",
       "      <td>0.0</td>\n",
       "      <td>0.0</td>\n",
       "    </tr>\n",
       "    <tr>\n",
       "      <th>1</th>\n",
       "      <td>CC(COc1ccc(Oc2ccccc2)cc1)Oc1ccccn1</td>\n",
       "      <td>3.140</td>\n",
       "      <td>B</td>\n",
       "      <td>[6, 7]</td>\n",
       "      <td>[12, 13, 14]</td>\n",
       "      <td>[21, 39, 40, 41]</td>\n",
       "      <td>[81, 84, 134, 136]</td>\n",
       "      <td>[213, 214, 277, 395, 548]</td>\n",
       "      <td>[948, 953, 1578]</td>\n",
       "      <td>[4590, 5397, 5402]</td>\n",
       "      <td>...</td>\n",
       "      <td>0.0</td>\n",
       "      <td>0.0</td>\n",
       "      <td>0.0</td>\n",
       "      <td>0.0</td>\n",
       "      <td>0.0</td>\n",
       "      <td>0.0</td>\n",
       "      <td>0.0</td>\n",
       "      <td>0.0</td>\n",
       "      <td>0.0</td>\n",
       "      <td>0.0</td>\n",
       "    </tr>\n",
       "    <tr>\n",
       "      <th>2</th>\n",
       "      <td>CCCCCCCC/C=C\\CCCCCCCCCCCCC</td>\n",
       "      <td>1.176</td>\n",
       "      <td>nB</td>\n",
       "      <td>[6]</td>\n",
       "      <td>[12]</td>\n",
       "      <td>[38]</td>\n",
       "      <td>[132]</td>\n",
       "      <td>[542]</td>\n",
       "      <td>[2719]</td>\n",
       "      <td>[14787]</td>\n",
       "      <td>...</td>\n",
       "      <td>0.0</td>\n",
       "      <td>0.0</td>\n",
       "      <td>0.0</td>\n",
       "      <td>0.0</td>\n",
       "      <td>0.0</td>\n",
       "      <td>0.0</td>\n",
       "      <td>0.0</td>\n",
       "      <td>0.0</td>\n",
       "      <td>0.0</td>\n",
       "      <td>0.0</td>\n",
       "    </tr>\n",
       "    <tr>\n",
       "      <th>3</th>\n",
       "      <td>Clc1ccccc1Cl</td>\n",
       "      <td>2.500</td>\n",
       "      <td>nB</td>\n",
       "      <td>None</td>\n",
       "      <td>None</td>\n",
       "      <td>None</td>\n",
       "      <td>None</td>\n",
       "      <td>[213]</td>\n",
       "      <td>[134076]</td>\n",
       "      <td>[135441]</td>\n",
       "      <td>...</td>\n",
       "      <td>0.0</td>\n",
       "      <td>0.0</td>\n",
       "      <td>0.0</td>\n",
       "      <td>0.0</td>\n",
       "      <td>0.0</td>\n",
       "      <td>0.0</td>\n",
       "      <td>0.0</td>\n",
       "      <td>0.0</td>\n",
       "      <td>0.0</td>\n",
       "      <td>0.0</td>\n",
       "    </tr>\n",
       "    <tr>\n",
       "      <th>4</th>\n",
       "      <td>Nc1cccc([N+](=O)[O-])c1</td>\n",
       "      <td>0.522</td>\n",
       "      <td>nB</td>\n",
       "      <td>None</td>\n",
       "      <td>None</td>\n",
       "      <td>None</td>\n",
       "      <td>None</td>\n",
       "      <td>[213]</td>\n",
       "      <td>[939]</td>\n",
       "      <td>[4360]</td>\n",
       "      <td>...</td>\n",
       "      <td>0.0</td>\n",
       "      <td>0.0</td>\n",
       "      <td>0.0</td>\n",
       "      <td>0.0</td>\n",
       "      <td>0.0</td>\n",
       "      <td>0.0</td>\n",
       "      <td>0.0</td>\n",
       "      <td>0.0</td>\n",
       "      <td>0.0</td>\n",
       "      <td>0.0</td>\n",
       "    </tr>\n",
       "    <tr>\n",
       "      <th>...</th>\n",
       "      <td>...</td>\n",
       "      <td>...</td>\n",
       "      <td>...</td>\n",
       "      <td>...</td>\n",
       "      <td>...</td>\n",
       "      <td>...</td>\n",
       "      <td>...</td>\n",
       "      <td>...</td>\n",
       "      <td>...</td>\n",
       "      <td>...</td>\n",
       "      <td>...</td>\n",
       "      <td>...</td>\n",
       "      <td>...</td>\n",
       "      <td>...</td>\n",
       "      <td>...</td>\n",
       "      <td>...</td>\n",
       "      <td>...</td>\n",
       "      <td>...</td>\n",
       "      <td>...</td>\n",
       "      <td>...</td>\n",
       "      <td>...</td>\n",
       "    </tr>\n",
       "    <tr>\n",
       "      <th>834</th>\n",
       "      <td>CC1=C(C)S(=O)(=O)CCS1(=O)=O</td>\n",
       "      <td>0.633</td>\n",
       "      <td>nB</td>\n",
       "      <td>[6]</td>\n",
       "      <td>None</td>\n",
       "      <td>None</td>\n",
       "      <td>None</td>\n",
       "      <td>[133896, 133900]</td>\n",
       "      <td>[134043, 134044, 134066, 134068]</td>\n",
       "      <td>[135086, 135404, 135405]</td>\n",
       "      <td>...</td>\n",
       "      <td>0.0</td>\n",
       "      <td>0.0</td>\n",
       "      <td>0.0</td>\n",
       "      <td>0.0</td>\n",
       "      <td>0.0</td>\n",
       "      <td>0.0</td>\n",
       "      <td>0.0</td>\n",
       "      <td>0.0</td>\n",
       "      <td>0.0</td>\n",
       "      <td>0.0</td>\n",
       "    </tr>\n",
       "    <tr>\n",
       "      <th>835</th>\n",
       "      <td>FC(F)(F)c1ccc(Cl)c(Cl)c1</td>\n",
       "      <td>3.176</td>\n",
       "      <td>B</td>\n",
       "      <td>[6]</td>\n",
       "      <td>None</td>\n",
       "      <td>None</td>\n",
       "      <td>None</td>\n",
       "      <td>[213]</td>\n",
       "      <td>[929, 134076]</td>\n",
       "      <td>[134378, 134382, 135441]</td>\n",
       "      <td>...</td>\n",
       "      <td>0.0</td>\n",
       "      <td>0.0</td>\n",
       "      <td>0.0</td>\n",
       "      <td>0.0</td>\n",
       "      <td>0.0</td>\n",
       "      <td>0.0</td>\n",
       "      <td>0.0</td>\n",
       "      <td>0.0</td>\n",
       "      <td>0.0</td>\n",
       "      <td>0.0</td>\n",
       "    </tr>\n",
       "    <tr>\n",
       "      <th>836</th>\n",
       "      <td>CN(C)[C@@H]1C(=O)C(C(=N)O)=C(O)[C@@]2(O)C(=O)C...</td>\n",
       "      <td>-0.222</td>\n",
       "      <td>nB</td>\n",
       "      <td>[5, 6, 7]</td>\n",
       "      <td>[10, 12, 13]</td>\n",
       "      <td>[17, 20, 21, 34, 37, 38, 39, 41]</td>\n",
       "      <td>[54, 67, 68, 70, 71, 80, 81, 82, 83, 127, 131,...</td>\n",
       "      <td>[213, 224, 226, 228, 254, 258, 259, 260, 271, ...</td>\n",
       "      <td>[929, 948, 1092, 1094, 1099, 1104, 1119, 1129,...</td>\n",
       "      <td>[4341, 4957, 4959, 5378, 5407, 5809, 5841, 584...</td>\n",
       "      <td>...</td>\n",
       "      <td>0.0</td>\n",
       "      <td>0.0</td>\n",
       "      <td>0.0</td>\n",
       "      <td>0.0</td>\n",
       "      <td>0.0</td>\n",
       "      <td>0.0</td>\n",
       "      <td>0.0</td>\n",
       "      <td>0.0</td>\n",
       "      <td>0.0</td>\n",
       "      <td>0.0</td>\n",
       "    </tr>\n",
       "    <tr>\n",
       "      <th>837</th>\n",
       "      <td>CC(C)N(C(=O)CCl)c1ccccc1</td>\n",
       "      <td>1.568</td>\n",
       "      <td>nB</td>\n",
       "      <td>[5, 6]</td>\n",
       "      <td>[10, 11, 12]</td>\n",
       "      <td>[18, 35]</td>\n",
       "      <td>[69, 73, 128]</td>\n",
       "      <td>[213, 255, 262, 288, 386]</td>\n",
       "      <td>[939, 1121, 1626, 1677]</td>\n",
       "      <td>[5388, 7443]</td>\n",
       "      <td>...</td>\n",
       "      <td>0.0</td>\n",
       "      <td>0.0</td>\n",
       "      <td>0.0</td>\n",
       "      <td>0.0</td>\n",
       "      <td>0.0</td>\n",
       "      <td>0.0</td>\n",
       "      <td>0.0</td>\n",
       "      <td>0.0</td>\n",
       "      <td>0.0</td>\n",
       "      <td>0.0</td>\n",
       "    </tr>\n",
       "    <tr>\n",
       "      <th>838</th>\n",
       "      <td>Cc1cc(Cc2cc(C)cc(C(C)(C)C)c2O)c(O)c(C(C)(C)C)c1</td>\n",
       "      <td>2.595</td>\n",
       "      <td>nB</td>\n",
       "      <td>[6, 7]</td>\n",
       "      <td>[12]</td>\n",
       "      <td>[20]</td>\n",
       "      <td>[53]</td>\n",
       "      <td>[213]</td>\n",
       "      <td>[929, 948]</td>\n",
       "      <td>[4335, 4564, 4959, 5378]</td>\n",
       "      <td>...</td>\n",
       "      <td>0.0</td>\n",
       "      <td>0.0</td>\n",
       "      <td>0.0</td>\n",
       "      <td>0.0</td>\n",
       "      <td>0.0</td>\n",
       "      <td>0.0</td>\n",
       "      <td>0.0</td>\n",
       "      <td>0.0</td>\n",
       "      <td>0.0</td>\n",
       "      <td>0.0</td>\n",
       "    </tr>\n",
       "  </tbody>\n",
       "</table>\n",
       "<p>839 rows × 2436 columns</p>\n",
       "</div>"
      ],
      "text/plain": [
       "                                                smiles  \\\n",
       "0                                        CNc1cccc(C)c1   \n",
       "1                   CC(COc1ccc(Oc2ccccc2)cc1)Oc1ccccn1   \n",
       "2                           CCCCCCCC/C=C\\CCCCCCCCCCCCC   \n",
       "3                                         Clc1ccccc1Cl   \n",
       "4                              Nc1cccc([N+](=O)[O-])c1   \n",
       "..                                                 ...   \n",
       "834                        CC1=C(C)S(=O)(=O)CCS1(=O)=O   \n",
       "835                           FC(F)(F)c1ccc(Cl)c(Cl)c1   \n",
       "836  CN(C)[C@@H]1C(=O)C(C(=N)O)=C(O)[C@@]2(O)C(=O)C...   \n",
       "837                           CC(C)N(C(=O)CCl)c1ccccc1   \n",
       "838    Cc1cc(Cc2cc(C)cc(C(C)(C)C)c2O)c(O)c(C(C)(C)C)c1   \n",
       "\n",
       "     Experimental logarithmic BCF Experimental BCF class      FQD_2  \\\n",
       "0                           0.849                     nB        [6]   \n",
       "1                           3.140                      B     [6, 7]   \n",
       "2                           1.176                     nB        [6]   \n",
       "3                           2.500                     nB       None   \n",
       "4                           0.522                     nB       None   \n",
       "..                            ...                    ...        ...   \n",
       "834                         0.633                     nB        [6]   \n",
       "835                         3.176                      B        [6]   \n",
       "836                        -0.222                     nB  [5, 6, 7]   \n",
       "837                         1.568                     nB     [5, 6]   \n",
       "838                         2.595                     nB     [6, 7]   \n",
       "\n",
       "            FQD_3                             FQD_4  \\\n",
       "0            None                              None   \n",
       "1    [12, 13, 14]                  [21, 39, 40, 41]   \n",
       "2            [12]                              [38]   \n",
       "3            None                              None   \n",
       "4            None                              None   \n",
       "..            ...                               ...   \n",
       "834          None                              None   \n",
       "835          None                              None   \n",
       "836  [10, 12, 13]  [17, 20, 21, 34, 37, 38, 39, 41]   \n",
       "837  [10, 11, 12]                          [18, 35]   \n",
       "838          [12]                              [20]   \n",
       "\n",
       "                                                 FQD_5  \\\n",
       "0                                                 None   \n",
       "1                                   [81, 84, 134, 136]   \n",
       "2                                                [132]   \n",
       "3                                                 None   \n",
       "4                                                 None   \n",
       "..                                                 ...   \n",
       "834                                               None   \n",
       "835                                               None   \n",
       "836  [54, 67, 68, 70, 71, 80, 81, 82, 83, 127, 131,...   \n",
       "837                                      [69, 73, 128]   \n",
       "838                                               [53]   \n",
       "\n",
       "                                                 FQD_6  \\\n",
       "0                                                [213]   \n",
       "1                            [213, 214, 277, 395, 548]   \n",
       "2                                                [542]   \n",
       "3                                                [213]   \n",
       "4                                                [213]   \n",
       "..                                                 ...   \n",
       "834                                   [133896, 133900]   \n",
       "835                                              [213]   \n",
       "836  [213, 224, 226, 228, 254, 258, 259, 260, 271, ...   \n",
       "837                          [213, 255, 262, 288, 386]   \n",
       "838                                              [213]   \n",
       "\n",
       "                                                 FQD_7  \\\n",
       "0                                           [929, 939]   \n",
       "1                                     [948, 953, 1578]   \n",
       "2                                               [2719]   \n",
       "3                                             [134076]   \n",
       "4                                                [939]   \n",
       "..                                                 ...   \n",
       "834                   [134043, 134044, 134066, 134068]   \n",
       "835                                      [929, 134076]   \n",
       "836  [929, 948, 1092, 1094, 1099, 1104, 1119, 1129,...   \n",
       "837                            [939, 1121, 1626, 1677]   \n",
       "838                                         [929, 948]   \n",
       "\n",
       "                                                 FQD_8  ... MorganFP_bit_2038  \\\n",
       "0                                         [4340, 5388]  ...               0.0   \n",
       "1                                   [4590, 5397, 5402]  ...               0.0   \n",
       "2                                              [14787]  ...               0.0   \n",
       "3                                             [135441]  ...               0.0   \n",
       "4                                               [4360]  ...               0.0   \n",
       "..                                                 ...  ...               ...   \n",
       "834                           [135086, 135404, 135405]  ...               0.0   \n",
       "835                           [134378, 134382, 135441]  ...               0.0   \n",
       "836  [4341, 4957, 4959, 5378, 5407, 5809, 5841, 584...  ...               0.0   \n",
       "837                                       [5388, 7443]  ...               0.0   \n",
       "838                           [4335, 4564, 4959, 5378]  ...               0.0   \n",
       "\n",
       "    MorganFP_bit_2039  MorganFP_bit_2040  MorganFP_bit_2041  \\\n",
       "0                 0.0                0.0                0.0   \n",
       "1                 0.0                0.0                0.0   \n",
       "2                 0.0                0.0                0.0   \n",
       "3                 0.0                0.0                0.0   \n",
       "4                 0.0                0.0                0.0   \n",
       "..                ...                ...                ...   \n",
       "834               0.0                0.0                0.0   \n",
       "835               0.0                0.0                0.0   \n",
       "836               0.0                0.0                0.0   \n",
       "837               0.0                0.0                0.0   \n",
       "838               0.0                0.0                0.0   \n",
       "\n",
       "     MorganFP_bit_2042  MorganFP_bit_2043  MorganFP_bit_2044  \\\n",
       "0                  0.0                0.0                0.0   \n",
       "1                  0.0                0.0                0.0   \n",
       "2                  0.0                0.0                0.0   \n",
       "3                  0.0                0.0                0.0   \n",
       "4                  0.0                0.0                0.0   \n",
       "..                 ...                ...                ...   \n",
       "834                0.0                0.0                0.0   \n",
       "835                0.0                0.0                0.0   \n",
       "836                0.0                0.0                0.0   \n",
       "837                0.0                0.0                0.0   \n",
       "838                0.0                0.0                0.0   \n",
       "\n",
       "     MorganFP_bit_2045  MorganFP_bit_2046  MorganFP_bit_2047  \n",
       "0                  0.0                0.0                0.0  \n",
       "1                  0.0                0.0                0.0  \n",
       "2                  0.0                0.0                0.0  \n",
       "3                  0.0                0.0                0.0  \n",
       "4                  0.0                0.0                0.0  \n",
       "..                 ...                ...                ...  \n",
       "834                0.0                0.0                0.0  \n",
       "835                0.0                0.0                0.0  \n",
       "836                0.0                0.0                0.0  \n",
       "837                0.0                0.0                0.0  \n",
       "838                0.0                0.0                0.0  \n",
       "\n",
       "[839 rows x 2436 columns]"
      ]
     },
     "execution_count": 11,
     "metadata": {},
     "output_type": "execute_result"
    }
   ],
   "source": [
    "dat3"
   ]
  },
  {
   "cell_type": "code",
   "execution_count": 12,
   "id": "80fef3b8-78c1-4916-a043-24d8e4b0d605",
   "metadata": {},
   "outputs": [],
   "source": [
    "bin_cols = [f\"MACCS_key{x}\" for x in range(len(maccs_keys[0]))] + [f\"MorganFP_bit_{x}\" for x in range(2048)]"
   ]
  },
  {
   "cell_type": "code",
   "execution_count": 13,
   "id": "54664468-4313-4749-9846-3da128c8c2c2",
   "metadata": {},
   "outputs": [],
   "source": [
    "x = dat3.iloc[:, 13:]\n",
    "y = dat3[\"class_encoded\"]"
   ]
  },
  {
   "cell_type": "markdown",
   "id": "21fb3d11-6d0f-4557-977c-0ac2338768ca",
   "metadata": {},
   "source": [
    "# Fill data"
   ]
  },
  {
   "cell_type": "code",
   "execution_count": 14,
   "id": "c5d4b1c2-5b07-4ade-89df-02f754d96073",
   "metadata": {},
   "outputs": [],
   "source": [
    "x = x.fillna(0)"
   ]
  },
  {
   "cell_type": "markdown",
   "id": "fb13336b-9028-4bc8-aaa1-7541a43deb1e",
   "metadata": {},
   "source": [
    "# OOB dataset creation"
   ]
  },
  {
   "cell_type": "code",
   "execution_count": 15,
   "id": "f669adb3-58b6-4344-97ff-eaec8496bf21",
   "metadata": {
    "tags": []
   },
   "outputs": [],
   "source": [
    "oob_idx = np.loadtxt(\"oob_idx\").astype(int)\n",
    "train_idx = np.loadtxt(\"train_idx\").astype(int)"
   ]
  },
  {
   "cell_type": "code",
   "execution_count": 16,
   "id": "483b5fd0-8f83-4736-b974-819313e08db0",
   "metadata": {},
   "outputs": [],
   "source": [
    "res_x, res_y = x.loc[list(train_idx.astype(int))], y.loc[list(train_idx.astype(int))]"
   ]
  },
  {
   "cell_type": "code",
   "execution_count": 17,
   "id": "31f482a0-76c0-4443-8f71-2f6442b5dee1",
   "metadata": {
    "tags": []
   },
   "outputs": [],
   "source": [
    "oob_x, oob_y = x.loc[list(oob_idx)], y.loc[list(oob_idx)]"
   ]
  },
  {
   "cell_type": "code",
   "execution_count": 18,
   "id": "3920c38b-17a5-44c2-b0fe-0edeb86c1af0",
   "metadata": {},
   "outputs": [],
   "source": [
    "x, y = res_x, res_y"
   ]
  },
  {
   "cell_type": "code",
   "execution_count": 19,
   "id": "29a8617f-d587-445d-a512-4581df9a3ef3",
   "metadata": {},
   "outputs": [
    {
     "data": {
      "text/plain": [
       "0    409\n",
       "1    117\n",
       "Name: class_encoded, dtype: int64"
      ]
     },
     "execution_count": 19,
     "metadata": {},
     "output_type": "execute_result"
    }
   ],
   "source": [
    "y.value_counts()"
   ]
  },
  {
   "cell_type": "markdown",
   "id": "697c32e6-4484-4126-b657-2dfceb3f756a",
   "metadata": {
    "tags": []
   },
   "source": [
    "# Hyperparameters tuning with GridSearchCV"
   ]
  },
  {
   "cell_type": "markdown",
   "id": "ee427a75-7de7-4327-808b-446580615aa6",
   "metadata": {
    "tags": []
   },
   "source": [
    "# Pipeline creation"
   ]
  },
  {
   "cell_type": "code",
   "execution_count": 24,
   "id": "b4b2ccf2-281a-49d6-913c-032bd601fe37",
   "metadata": {},
   "outputs": [],
   "source": [
    "from sklearn.preprocessing import StandardScaler\n",
    "from sklearn.pipeline import Pipeline\n",
    "from sklearn.decomposition import PCA\n",
    "from sklearn.compose import ColumnTransformer\n",
    "from imblearn.over_sampling import RandomOverSampler"
   ]
  },
  {
   "cell_type": "code",
   "execution_count": 25,
   "id": "058e27e4-ed5c-4ef1-8fde-30e41749a57a",
   "metadata": {
    "tags": []
   },
   "outputs": [],
   "source": [
    "pca = PCA(n_components=0.95)"
   ]
  },
  {
   "cell_type": "code",
   "execution_count": 27,
   "id": "0b2767b3-aa78-42f4-ae0f-9842273c76d7",
   "metadata": {},
   "outputs": [],
   "source": [
    "from sklearn.metrics import f1_score, balanced_accuracy_score\n",
    "import xgboost as xgb\n",
    "from sklearn.ensemble import RandomForestClassifier"
   ]
  },
  {
   "cell_type": "code",
   "execution_count": 28,
   "id": "b1f50fdd-3ede-42c6-8df2-9d9ae1fc83c2",
   "metadata": {},
   "outputs": [],
   "source": [
    "from sklearn.model_selection import StratifiedKFold\n",
    "\n",
    "def my_score(model, n_folds, scoring_callable, X, Y):\n",
    "    scores = []\n",
    "    cv = StratifiedKFold(n_folds)\n",
    "    oversampler = RandomOverSampler(random_state=1)\n",
    "    preprocessor = ColumnTransformer(\n",
    "        [(\"prep\", Pipeline([\n",
    "            (\"scaler\", StandardScaler()),\n",
    "            (\"pca_cont_data\", pca)\n",
    "        ]),\n",
    "                                     descriptors_names)], remainder=\"passthrough\")\n",
    "\n",
    "    for train_index, validation_index in cv.split(X, Y):\n",
    "        x, y = X.iloc[train_index], Y.iloc[train_index]\n",
    "        xx, yy = oversampler.fit_resample(x, y)\n",
    "        xx = preprocessor.fit_transform(xx)\n",
    "        model.fit(xx, yy)\n",
    "        x_val = X.iloc[validation_index]\n",
    "        x_val = preprocessor.transform(x_val)\n",
    "        score = scoring_callable(Y.iloc[validation_index], model.predict(x_val))\n",
    "        scores.append(score)\n",
    "    \n",
    "    return np.array(scores).mean()"
   ]
  },
  {
   "cell_type": "code",
   "execution_count": 29,
   "id": "b4fed700-3a8b-4c89-8344-58db7400670d",
   "metadata": {},
   "outputs": [],
   "source": [
    "import itertools\n",
    "params = list(itertools.product(range(3, 12),\n",
    "        [200, 350, 500, 1000],\n",
    "        [0.25, 0.3, 0.35, 0.4],\n",
    "        ))\n",
    "result = pd.DataFrame(params)\n",
    "result.columns = \"max_depth,n_estimators,max_features\".split(\",\")"
   ]
  },
  {
   "cell_type": "code",
   "execution_count": 30,
   "id": "4c7f4ecb-b3e9-4a4f-a4d2-4a3b957579c2",
   "metadata": {
    "tags": []
   },
   "outputs": [],
   "source": [
    "scores = []\n",
    "for max_depth, n_estimators, max_features in params:\n",
    "    model = RandomForestClassifier(\n",
    "        max_depth=max_depth,\n",
    "        n_estimators=n_estimators,\n",
    "        max_features=max_features,\n",
    "        random_state=1\n",
    "        )\n",
    "    scores.append(my_score(model, 5, f1_score, x, y))\n",
    "\n",
    "result[\"f_score\"] = scores"
   ]
  },
  {
   "cell_type": "code",
   "execution_count": 31,
   "id": "1644532b-63ea-4d17-b236-816feec6d5c0",
   "metadata": {},
   "outputs": [],
   "source": [
    "result.to_csv(\"hyperparams_rdkit_results_pca.csv\")\n",
    "# result = pd.read_csv(\"hyperparams_rdkit_results.csv\")"
   ]
  },
  {
   "cell_type": "code",
   "execution_count": 34,
   "id": "8ce2b173-541f-478c-9621-bcae000f64bc",
   "metadata": {
    "tags": []
   },
   "outputs": [
    {
     "data": {
      "text/html": [
       "<div>\n",
       "<style scoped>\n",
       "    .dataframe tbody tr th:only-of-type {\n",
       "        vertical-align: middle;\n",
       "    }\n",
       "\n",
       "    .dataframe tbody tr th {\n",
       "        vertical-align: top;\n",
       "    }\n",
       "\n",
       "    .dataframe thead th {\n",
       "        text-align: right;\n",
       "    }\n",
       "</style>\n",
       "<table border=\"1\" class=\"dataframe\">\n",
       "  <thead>\n",
       "    <tr style=\"text-align: right;\">\n",
       "      <th></th>\n",
       "      <th>max_depth</th>\n",
       "      <th>n_estimators</th>\n",
       "      <th>max_features</th>\n",
       "      <th>f_score</th>\n",
       "    </tr>\n",
       "  </thead>\n",
       "  <tbody>\n",
       "    <tr>\n",
       "      <th>49</th>\n",
       "      <td>6</td>\n",
       "      <td>200</td>\n",
       "      <td>0.3</td>\n",
       "      <td>0.739972</td>\n",
       "    </tr>\n",
       "  </tbody>\n",
       "</table>\n",
       "</div>"
      ],
      "text/plain": [
       "    max_depth  n_estimators  max_features   f_score\n",
       "49          6           200           0.3  0.739972"
      ]
     },
     "execution_count": 34,
     "metadata": {},
     "output_type": "execute_result"
    }
   ],
   "source": [
    "result[result[\"f_score\"]==result[\"f_score\"].max()]"
   ]
  },
  {
   "cell_type": "markdown",
   "id": "ebdbc13f-174a-4bea-9ef1-a6edf013a04c",
   "metadata": {},
   "source": [
    "# OOB test"
   ]
  },
  {
   "cell_type": "markdown",
   "id": "23b1988f-80d2-46e2-ad9b-3c2db82863ad",
   "metadata": {},
   "source": [
    "## Scale and apply PCA to training dataset"
   ]
  },
  {
   "cell_type": "code",
   "execution_count": 35,
   "id": "faa7f548-d712-45f9-9f44-9ea39f069d53",
   "metadata": {
    "tags": []
   },
   "outputs": [],
   "source": [
    "oversampler = RandomOverSampler(random_state=1)\n",
    "preprocessor = ColumnTransformer(\n",
    "        [(\"prep\", Pipeline([\n",
    "            (\"scaler\", StandardScaler()),\n",
    "            (\"pca_cont_data\", pca)\n",
    "        ]),\n",
    "                                     descriptors_names)], remainder=\"passthrough\")\n",
    "\n",
    "oob_scores = []\n",
    "bal_acc_scores = []\n",
    "preds = []\n",
    "xx, yy = oversampler.fit_resample(x, y)\n",
    "xx = preprocessor.fit_transform(xx)\n",
    "for i in range(5):\n",
    "    model = RandomForestClassifier(\n",
    "        max_depth=6,\n",
    "        n_estimators=200,\n",
    "        max_features=0.3,\n",
    "        random_state=60+i\n",
    "        )\n",
    "    model.fit(xx, yy)\n",
    "    x_val = oob_x\n",
    "    x_val = preprocessor.transform(x_val)\n",
    "    pred = model.predict(x_val)\n",
    "    score = f1_score(oob_y, pred)\n",
    "    preds.append(pred)\n",
    "    oob_scores.append(score)\n",
    "    score = balanced_accuracy_score(oob_y, pred)\n",
    "    bal_acc_scores.append(score)\n",
    "    "
   ]
  },
  {
   "cell_type": "code",
   "execution_count": 36,
   "id": "2c52910e-2911-438c-8b7a-25f13284412a",
   "metadata": {},
   "outputs": [
    {
     "data": {
      "text/plain": [
       "[0.7114093959731543,\n",
       " 0.7248322147651006,\n",
       " 0.72,\n",
       " 0.7346938775510203,\n",
       " 0.7152317880794703]"
      ]
     },
     "execution_count": 36,
     "metadata": {},
     "output_type": "execute_result"
    }
   ],
   "source": [
    "oob_scores"
   ]
  },
  {
   "cell_type": "code",
   "execution_count": 39,
   "id": "8dd98cce-d132-4432-bf2c-6f7312fcc7cd",
   "metadata": {
    "tags": []
   },
   "outputs": [
    {
     "data": {
      "text/plain": [
       "[0.8287301021620337,\n",
       " 0.8380256593014968,\n",
       " 0.8359764789736279,\n",
       " 0.8421240199572345,\n",
       " 0.8339272986457591]"
      ]
     },
     "execution_count": 39,
     "metadata": {},
     "output_type": "execute_result"
    }
   ],
   "source": [
    "bal_acc_scores"
   ]
  },
  {
   "cell_type": "markdown",
   "id": "15e91893-5088-4ea8-aa4e-73feda1ddd11",
   "metadata": {},
   "source": [
    "## LGBMC\n",
    "With tuned hyperparameters"
   ]
  },
  {
   "cell_type": "code",
   "execution_count": 40,
   "id": "f5322103-d54f-4d5d-9c16-605bfd343309",
   "metadata": {},
   "outputs": [
    {
     "data": {
      "text/plain": [
       "[array([[217,  27],\n",
       "        [ 16,  53]]),\n",
       " array([[218,  26],\n",
       "        [ 15,  54]]),\n",
       " array([[217,  27],\n",
       "        [ 15,  54]]),\n",
       " array([[220,  24],\n",
       "        [ 15,  54]]),\n",
       " array([[216,  28],\n",
       "        [ 15,  54]])]"
      ]
     },
     "execution_count": 40,
     "metadata": {},
     "output_type": "execute_result"
    }
   ],
   "source": [
    "from sklearn.metrics import confusion_matrix\n",
    "conf_mats = [confusion_matrix(le.inverse_transform(oob_y), le.inverse_transform(pred)) for pred in preds]\n",
    "conf_mats"
   ]
  },
  {
   "cell_type": "code",
   "execution_count": 41,
   "id": "d3b21894-eee1-42a5-bdfa-0fee57e2112f",
   "metadata": {
    "collapsed": true,
    "jupyter": {
     "outputs_hidden": true
    },
    "tags": []
   },
   "outputs": [
    {
     "data": {
      "image/png": "[encoded data removed]",
      "text/plain": [
       "<Figure size 1500x1500 with 1 Axes>"
      ]
     },
     "metadata": {},
     "output_type": "display_data"
    },
    {
     "data": {
      "image/png": "[encoded data removed]",
      "text/plain": [
       "<Figure size 1500x1500 with 1 Axes>"
      ]
     },
     "metadata": {},
     "output_type": "display_data"
    },
    {
     "data": {
      "image/png": "[encoded data removed]",
      "text/plain": [
       "<Figure size 1500x1500 with 1 Axes>"
      ]
     },
     "metadata": {},
     "output_type": "display_data"
    },
    {
     "data": {
      "image/png": "[encoded data removed]",
      "text/plain": [
       "<Figure size 1500x1500 with 1 Axes>"
      ]
     },
     "metadata": {},
     "output_type": "display_data"
    },
    {
     "data": {
      "image/png": "[encoded data removed]",
      "text/plain": [
       "<Figure size 1500x1500 with 1 Axes>"
      ]
     },
     "metadata": {},
     "output_type": "display_data"
    }
   ],
   "source": [
    "for conf_mat in conf_mats:\n",
    "    rcParams[\"font.size\"] = 30\n",
    "    fig, ax = plt.subplots(figsize=(15,15))\n",
    "    sns.heatmap(\n",
    "        conf_mat.ravel()[::-1].reshape((2,2)).T,\n",
    "        annot=True,\n",
    "        fmt=\".3g\",\n",
    "        xticklabels=[\"B\", \"nB\"],\n",
    "        yticklabels=[\"B\", \"nB\"],\n",
    "        ax = ax,\n",
    "        cbar = False,\n",
    "        annot_kws={\"fontsize\": 40},\n",
    "        cmap=\"icefire\"\n",
    "    )\n",
    "    ax.set(\n",
    "        ylabel=\"Predicted\",\n",
    "        xlabel=\"Actual\"\n",
    "    )\n",
    "    plt.tight_layout()\n",
    "    plt.show()"
   ]
  },
  {
   "cell_type": "code",
   "execution_count": 42,
   "id": "cfef0d12-fc99-439c-bcba-db4e00da4f74",
   "metadata": {
    "tags": []
   },
   "outputs": [
    {
     "name": "stdout",
     "output_type": "stream",
     "text": [
      "Specificity: 0.889  Sensitivity: 0.768 Accuracy 0.863 Precision 0.662\n",
      "Specificity: 0.893  Sensitivity: 0.783 Accuracy 0.869 Precision 0.675\n",
      "Specificity: 0.889  Sensitivity: 0.783 Accuracy 0.866 Precision 0.667\n",
      "Specificity: 0.902  Sensitivity: 0.783 Accuracy 0.875 Precision 0.692\n",
      "Specificity: 0.885  Sensitivity: 0.783 Accuracy 0.863 Precision 0.659\n"
     ]
    }
   ],
   "source": [
    "for conf_mat in conf_mats:\n",
    "    tn, fp, fn, tp = conf_mat.ravel()\n",
    "    specificity = tn / (tn+fp)\n",
    "    sensitivity = tp/(tp+fn)\n",
    "    accuracy = (tp+tn)/(tp+tn+fp+fn)\n",
    "    precision = tp/(tp+fp)\n",
    "    print(\"Specificity:\", f\"{specificity:.3}\",\" Sensitivity:\", f\"{sensitivity:.3}\", \"Accuracy\", f\"{accuracy:.3}\", \"Precision\", f\"{precision:.3}\")\n"
   ]
  }
 ],
 "metadata": {
  "kernelspec": {
   "display_name": "chemin_kernel",
   "language": "python",
   "name": "chemin_kernel"
  },
  "language_info": {
   "codemirror_mode": {
    "name": "ipython",
    "version": 3
   },
   "file_extension": ".py",
   "mimetype": "text/x-python",
   "name": "python",
   "nbconvert_exporter": "python",
   "pygments_lexer": "ipython3",
   "version": "3.10.6"
  }
 },
 "nbformat": 4,
 "nbformat_minor": 5
}
