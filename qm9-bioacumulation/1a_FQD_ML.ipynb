{
 "cells": [
  {
   "cell_type": "markdown",
   "id": "19841a59-2dfb-4176-8720-7b08fff04566",
   "metadata": {
    "tags": []
   },
   "source": [
    "# Import"
   ]
  },
  {
   "cell_type": "code",
   "execution_count": 1,
   "id": "00cc765c-f4fc-4927-8845-5af146864e08",
   "metadata": {},
   "outputs": [],
   "source": [
    "import numpy as np\n",
    "import pandas as pd\n",
    "from rdkit import Chem\n",
    "from scipy import stats\n",
    "\n",
    "import pathlib\n",
    "\n",
    "import matplotlib.pyplot as plt\n",
    "import seaborn as sns"
   ]
  },
  {
   "cell_type": "code",
   "execution_count": 2,
   "id": "3a632fad-1fec-4540-87df-a44d4564b185",
   "metadata": {},
   "outputs": [],
   "source": [
    "from matplotlib import rcParams\n",
    "rcParams[\"font.size\"] = 20"
   ]
  },
  {
   "cell_type": "markdown",
   "id": "5a9f2a1b-b55e-4555-afd7-5d4c51e1fd2e",
   "metadata": {
    "tags": []
   },
   "source": [
    "# Read Data"
   ]
  },
  {
   "cell_type": "code",
   "execution_count": 3,
   "id": "b9087223-7ec3-44cc-87b8-3915f6b540eb",
   "metadata": {},
   "outputs": [],
   "source": [
    "qm9 = pd.read_csv(\"qm_ext_plus.csv\")\n",
    "qm9[\"mol\"] = qm9[\"smiles\"].apply(Chem.MolFromSmiles)"
   ]
  },
  {
   "cell_type": "code",
   "execution_count": 4,
   "id": "df38094f-1ee3-47ae-99fd-e03998eac783",
   "metadata": {},
   "outputs": [
    {
     "data": {
      "text/html": [
       "<div>\n",
       "<style scoped>\n",
       "    .dataframe tbody tr th:only-of-type {\n",
       "        vertical-align: middle;\n",
       "    }\n",
       "\n",
       "    .dataframe tbody tr th {\n",
       "        vertical-align: top;\n",
       "    }\n",
       "\n",
       "    .dataframe thead th {\n",
       "        text-align: right;\n",
       "    }\n",
       "</style>\n",
       "<table border=\"1\" class=\"dataframe\">\n",
       "  <thead>\n",
       "    <tr style=\"text-align: right;\">\n",
       "      <th></th>\n",
       "      <th>Unnamed: 0</th>\n",
       "      <th>smiles</th>\n",
       "      <th>mu</th>\n",
       "      <th>alpha</th>\n",
       "      <th>homo</th>\n",
       "      <th>lumo</th>\n",
       "      <th>gap</th>\n",
       "      <th>zpve</th>\n",
       "      <th>cv</th>\n",
       "      <th>u0</th>\n",
       "      <th>u298</th>\n",
       "      <th>h298</th>\n",
       "      <th>g298</th>\n",
       "      <th>num_atoms</th>\n",
       "      <th>mol</th>\n",
       "    </tr>\n",
       "  </thead>\n",
       "  <tbody>\n",
       "    <tr>\n",
       "      <th>0</th>\n",
       "      <td>0</td>\n",
       "      <td>C</td>\n",
       "      <td>0.0000</td>\n",
       "      <td>13.210000</td>\n",
       "      <td>-0.387700</td>\n",
       "      <td>0.117100</td>\n",
       "      <td>0.504800</td>\n",
       "      <td>0.044749</td>\n",
       "      <td>6.469</td>\n",
       "      <td>-40.478930</td>\n",
       "      <td>-40.476062</td>\n",
       "      <td>-40.475117</td>\n",
       "      <td>-40.498597</td>\n",
       "      <td>1</td>\n",
       "      <td>&lt;rdkit.Chem.rdchem.Mol object at 0x7f726fa75540&gt;</td>\n",
       "    </tr>\n",
       "    <tr>\n",
       "      <th>1</th>\n",
       "      <td>1</td>\n",
       "      <td>N</td>\n",
       "      <td>1.6256</td>\n",
       "      <td>9.460000</td>\n",
       "      <td>-0.257000</td>\n",
       "      <td>0.082900</td>\n",
       "      <td>0.339900</td>\n",
       "      <td>0.034358</td>\n",
       "      <td>6.316</td>\n",
       "      <td>-56.525887</td>\n",
       "      <td>-56.523026</td>\n",
       "      <td>-56.522082</td>\n",
       "      <td>-56.544961</td>\n",
       "      <td>1</td>\n",
       "      <td>&lt;rdkit.Chem.rdchem.Mol object at 0x7f726fa75420&gt;</td>\n",
       "    </tr>\n",
       "    <tr>\n",
       "      <th>2</th>\n",
       "      <td>2</td>\n",
       "      <td>O</td>\n",
       "      <td>1.8511</td>\n",
       "      <td>6.310000</td>\n",
       "      <td>-0.292800</td>\n",
       "      <td>0.068700</td>\n",
       "      <td>0.361500</td>\n",
       "      <td>0.021375</td>\n",
       "      <td>6.002</td>\n",
       "      <td>-76.404702</td>\n",
       "      <td>-76.401867</td>\n",
       "      <td>-76.400922</td>\n",
       "      <td>-76.422349</td>\n",
       "      <td>1</td>\n",
       "      <td>&lt;rdkit.Chem.rdchem.Mol object at 0x7f726fa753c0&gt;</td>\n",
       "    </tr>\n",
       "    <tr>\n",
       "      <th>3</th>\n",
       "      <td>3</td>\n",
       "      <td>C#C</td>\n",
       "      <td>0.0000</td>\n",
       "      <td>16.280000</td>\n",
       "      <td>-0.284500</td>\n",
       "      <td>0.050600</td>\n",
       "      <td>0.335100</td>\n",
       "      <td>0.026841</td>\n",
       "      <td>8.574</td>\n",
       "      <td>-77.308427</td>\n",
       "      <td>-77.305527</td>\n",
       "      <td>-77.304583</td>\n",
       "      <td>-77.327429</td>\n",
       "      <td>2</td>\n",
       "      <td>&lt;rdkit.Chem.rdchem.Mol object at 0x7f726fa75360&gt;</td>\n",
       "    </tr>\n",
       "    <tr>\n",
       "      <th>4</th>\n",
       "      <td>4</td>\n",
       "      <td>C#N</td>\n",
       "      <td>2.8937</td>\n",
       "      <td>12.990000</td>\n",
       "      <td>-0.360400</td>\n",
       "      <td>0.019100</td>\n",
       "      <td>0.379600</td>\n",
       "      <td>0.016601</td>\n",
       "      <td>6.278</td>\n",
       "      <td>-93.411888</td>\n",
       "      <td>-93.409370</td>\n",
       "      <td>-93.408425</td>\n",
       "      <td>-93.431246</td>\n",
       "      <td>2</td>\n",
       "      <td>&lt;rdkit.Chem.rdchem.Mol object at 0x7f726fa75300&gt;</td>\n",
       "    </tr>\n",
       "    <tr>\n",
       "      <th>...</th>\n",
       "      <td>...</td>\n",
       "      <td>...</td>\n",
       "      <td>...</td>\n",
       "      <td>...</td>\n",
       "      <td>...</td>\n",
       "      <td>...</td>\n",
       "      <td>...</td>\n",
       "      <td>...</td>\n",
       "      <td>...</td>\n",
       "      <td>...</td>\n",
       "      <td>...</td>\n",
       "      <td>...</td>\n",
       "      <td>...</td>\n",
       "      <td>...</td>\n",
       "      <td>...</td>\n",
       "    </tr>\n",
       "    <tr>\n",
       "      <th>155318</th>\n",
       "      <td>155584</td>\n",
       "      <td>CCCCCC(Cl)(Cl)Cl</td>\n",
       "      <td>1.6998</td>\n",
       "      <td>91.438949</td>\n",
       "      <td>-0.437290</td>\n",
       "      <td>0.151861</td>\n",
       "      <td>0.589151</td>\n",
       "      <td>0.160407</td>\n",
       "      <td>39.627</td>\n",
       "      <td>-1615.134404</td>\n",
       "      <td>-1615.123029</td>\n",
       "      <td>-1615.122085</td>\n",
       "      <td>-1615.173678</td>\n",
       "      <td>9</td>\n",
       "      <td>&lt;rdkit.Chem.rdchem.Mol object at 0x7f726cff3e20&gt;</td>\n",
       "    </tr>\n",
       "    <tr>\n",
       "      <th>155319</th>\n",
       "      <td>155585</td>\n",
       "      <td>CCCNCC(Cl)(Cl)Cl</td>\n",
       "      <td>1.0758</td>\n",
       "      <td>88.241518</td>\n",
       "      <td>-0.375428</td>\n",
       "      <td>0.153217</td>\n",
       "      <td>0.528645</td>\n",
       "      <td>0.149152</td>\n",
       "      <td>39.102</td>\n",
       "      <td>-1631.162686</td>\n",
       "      <td>-1631.151460</td>\n",
       "      <td>-1631.150516</td>\n",
       "      <td>-1631.201471</td>\n",
       "      <td>9</td>\n",
       "      <td>&lt;rdkit.Chem.rdchem.Mol object at 0x7f726cff3e80&gt;</td>\n",
       "    </tr>\n",
       "    <tr>\n",
       "      <th>155320</th>\n",
       "      <td>155586</td>\n",
       "      <td>CCCOCC(Cl)(Cl)Cl</td>\n",
       "      <td>1.9364</td>\n",
       "      <td>83.988712</td>\n",
       "      <td>-0.429957</td>\n",
       "      <td>0.153811</td>\n",
       "      <td>0.583768</td>\n",
       "      <td>0.136716</td>\n",
       "      <td>37.857</td>\n",
       "      <td>-1651.020205</td>\n",
       "      <td>-1651.009166</td>\n",
       "      <td>-1651.008222</td>\n",
       "      <td>-1651.058816</td>\n",
       "      <td>9</td>\n",
       "      <td>&lt;rdkit.Chem.rdchem.Mol object at 0x7f726cff3ee0&gt;</td>\n",
       "    </tr>\n",
       "    <tr>\n",
       "      <th>155321</th>\n",
       "      <td>155587</td>\n",
       "      <td>CCOCCC(Cl)(Cl)Cl</td>\n",
       "      <td>2.3204</td>\n",
       "      <td>84.138259</td>\n",
       "      <td>-0.422295</td>\n",
       "      <td>0.154023</td>\n",
       "      <td>0.576318</td>\n",
       "      <td>0.136364</td>\n",
       "      <td>37.923</td>\n",
       "      <td>-1651.020962</td>\n",
       "      <td>-1651.009802</td>\n",
       "      <td>-1651.008857</td>\n",
       "      <td>-1651.060263</td>\n",
       "      <td>9</td>\n",
       "      <td>&lt;rdkit.Chem.rdchem.Mol object at 0x7f726cff3f40&gt;</td>\n",
       "    </tr>\n",
       "    <tr>\n",
       "      <th>155322</th>\n",
       "      <td>155588</td>\n",
       "      <td>COCCCC(Cl)(Cl)Cl</td>\n",
       "      <td>1.2436</td>\n",
       "      <td>84.161490</td>\n",
       "      <td>-0.423938</td>\n",
       "      <td>0.149230</td>\n",
       "      <td>0.573168</td>\n",
       "      <td>0.136824</td>\n",
       "      <td>37.796</td>\n",
       "      <td>-1651.015898</td>\n",
       "      <td>-1651.004804</td>\n",
       "      <td>-1651.003860</td>\n",
       "      <td>-1651.054641</td>\n",
       "      <td>9</td>\n",
       "      <td>&lt;rdkit.Chem.rdchem.Mol object at 0x7f726cff3fa0&gt;</td>\n",
       "    </tr>\n",
       "  </tbody>\n",
       "</table>\n",
       "<p>155323 rows × 15 columns</p>\n",
       "</div>"
      ],
      "text/plain": [
       "        Unnamed: 0            smiles      mu      alpha      homo      lumo  \\\n",
       "0                0                 C  0.0000  13.210000 -0.387700  0.117100   \n",
       "1                1                 N  1.6256   9.460000 -0.257000  0.082900   \n",
       "2                2                 O  1.8511   6.310000 -0.292800  0.068700   \n",
       "3                3               C#C  0.0000  16.280000 -0.284500  0.050600   \n",
       "4                4               C#N  2.8937  12.990000 -0.360400  0.019100   \n",
       "...            ...               ...     ...        ...       ...       ...   \n",
       "155318      155584  CCCCCC(Cl)(Cl)Cl  1.6998  91.438949 -0.437290  0.151861   \n",
       "155319      155585  CCCNCC(Cl)(Cl)Cl  1.0758  88.241518 -0.375428  0.153217   \n",
       "155320      155586  CCCOCC(Cl)(Cl)Cl  1.9364  83.988712 -0.429957  0.153811   \n",
       "155321      155587  CCOCCC(Cl)(Cl)Cl  2.3204  84.138259 -0.422295  0.154023   \n",
       "155322      155588  COCCCC(Cl)(Cl)Cl  1.2436  84.161490 -0.423938  0.149230   \n",
       "\n",
       "             gap      zpve      cv           u0         u298         h298  \\\n",
       "0       0.504800  0.044749   6.469   -40.478930   -40.476062   -40.475117   \n",
       "1       0.339900  0.034358   6.316   -56.525887   -56.523026   -56.522082   \n",
       "2       0.361500  0.021375   6.002   -76.404702   -76.401867   -76.400922   \n",
       "3       0.335100  0.026841   8.574   -77.308427   -77.305527   -77.304583   \n",
       "4       0.379600  0.016601   6.278   -93.411888   -93.409370   -93.408425   \n",
       "...          ...       ...     ...          ...          ...          ...   \n",
       "155318  0.589151  0.160407  39.627 -1615.134404 -1615.123029 -1615.122085   \n",
       "155319  0.528645  0.149152  39.102 -1631.162686 -1631.151460 -1631.150516   \n",
       "155320  0.583768  0.136716  37.857 -1651.020205 -1651.009166 -1651.008222   \n",
       "155321  0.576318  0.136364  37.923 -1651.020962 -1651.009802 -1651.008857   \n",
       "155322  0.573168  0.136824  37.796 -1651.015898 -1651.004804 -1651.003860   \n",
       "\n",
       "               g298  num_atoms  \\\n",
       "0        -40.498597          1   \n",
       "1        -56.544961          1   \n",
       "2        -76.422349          1   \n",
       "3        -77.327429          2   \n",
       "4        -93.431246          2   \n",
       "...             ...        ...   \n",
       "155318 -1615.173678          9   \n",
       "155319 -1631.201471          9   \n",
       "155320 -1651.058816          9   \n",
       "155321 -1651.060263          9   \n",
       "155322 -1651.054641          9   \n",
       "\n",
       "                                                     mol  \n",
       "0       <rdkit.Chem.rdchem.Mol object at 0x7f726fa75540>  \n",
       "1       <rdkit.Chem.rdchem.Mol object at 0x7f726fa75420>  \n",
       "2       <rdkit.Chem.rdchem.Mol object at 0x7f726fa753c0>  \n",
       "3       <rdkit.Chem.rdchem.Mol object at 0x7f726fa75360>  \n",
       "4       <rdkit.Chem.rdchem.Mol object at 0x7f726fa75300>  \n",
       "...                                                  ...  \n",
       "155318  <rdkit.Chem.rdchem.Mol object at 0x7f726cff3e20>  \n",
       "155319  <rdkit.Chem.rdchem.Mol object at 0x7f726cff3e80>  \n",
       "155320  <rdkit.Chem.rdchem.Mol object at 0x7f726cff3ee0>  \n",
       "155321  <rdkit.Chem.rdchem.Mol object at 0x7f726cff3f40>  \n",
       "155322  <rdkit.Chem.rdchem.Mol object at 0x7f726cff3fa0>  \n",
       "\n",
       "[155323 rows x 15 columns]"
      ]
     },
     "execution_count": 4,
     "metadata": {},
     "output_type": "execute_result"
    }
   ],
   "source": [
    "qm9.dropna()"
   ]
  },
  {
   "cell_type": "code",
   "execution_count": 5,
   "id": "6f478695-5f87-4f7a-b3df-97f4d6fef3a0",
   "metadata": {
    "tags": []
   },
   "outputs": [
    {
     "data": {
      "text/html": [
       "<div>\n",
       "<style scoped>\n",
       "    .dataframe tbody tr th:only-of-type {\n",
       "        vertical-align: middle;\n",
       "    }\n",
       "\n",
       "    .dataframe tbody tr th {\n",
       "        vertical-align: top;\n",
       "    }\n",
       "\n",
       "    .dataframe thead th {\n",
       "        text-align: right;\n",
       "    }\n",
       "</style>\n",
       "<table border=\"1\" class=\"dataframe\">\n",
       "  <thead>\n",
       "    <tr style=\"text-align: right;\">\n",
       "      <th></th>\n",
       "      <th>db_idx</th>\n",
       "      <th>smiles</th>\n",
       "      <th>Experimental logarithmic BCF</th>\n",
       "      <th>Experimental BCF class</th>\n",
       "      <th>FQD_2</th>\n",
       "      <th>FQD_3</th>\n",
       "      <th>FQD_4</th>\n",
       "      <th>FQD_5</th>\n",
       "      <th>FQD_6</th>\n",
       "      <th>FQD_7</th>\n",
       "      <th>FQD_8</th>\n",
       "      <th>FQD_9</th>\n",
       "      <th>mol</th>\n",
       "    </tr>\n",
       "  </thead>\n",
       "  <tbody>\n",
       "    <tr>\n",
       "      <th>0</th>\n",
       "      <td>162</td>\n",
       "      <td>CNc1cccc(C)c1</td>\n",
       "      <td>0.849</td>\n",
       "      <td>nB</td>\n",
       "      <td>[6]</td>\n",
       "      <td>None</td>\n",
       "      <td>None</td>\n",
       "      <td>None</td>\n",
       "      <td>[213]</td>\n",
       "      <td>[929, 939]</td>\n",
       "      <td>[4340, 5388]</td>\n",
       "      <td>[32107]</td>\n",
       "      <td>&lt;rdkit.Chem.rdchem.Mol object at 0x7f726c178d60&gt;</td>\n",
       "    </tr>\n",
       "    <tr>\n",
       "      <th>1</th>\n",
       "      <td>480</td>\n",
       "      <td>CC(COc1ccc(Oc2ccccc2)cc1)Oc1ccccn1</td>\n",
       "      <td>3.140</td>\n",
       "      <td>B</td>\n",
       "      <td>[6, 7]</td>\n",
       "      <td>[12, 13, 14]</td>\n",
       "      <td>[21, 39, 40, 41]</td>\n",
       "      <td>[81, 84, 134, 136]</td>\n",
       "      <td>[213, 214, 277, 395, 548]</td>\n",
       "      <td>[948, 953, 1578]</td>\n",
       "      <td>[4590, 5397, 5402]</td>\n",
       "      <td>[31844, 33001, 33006]</td>\n",
       "      <td>&lt;rdkit.Chem.rdchem.Mol object at 0x7f726c178e80&gt;</td>\n",
       "    </tr>\n",
       "    <tr>\n",
       "      <th>2</th>\n",
       "      <td>375</td>\n",
       "      <td>CCCCCCCC/C=C\\CCCCCCCCCCCCC</td>\n",
       "      <td>1.176</td>\n",
       "      <td>nB</td>\n",
       "      <td>[6]</td>\n",
       "      <td>[12]</td>\n",
       "      <td>[38]</td>\n",
       "      <td>[132]</td>\n",
       "      <td>[542]</td>\n",
       "      <td>[2719]</td>\n",
       "      <td>[14787]</td>\n",
       "      <td>[123245]</td>\n",
       "      <td>&lt;rdkit.Chem.rdchem.Mol object at 0x7f726c178ee0&gt;</td>\n",
       "    </tr>\n",
       "    <tr>\n",
       "      <th>3</th>\n",
       "      <td>540</td>\n",
       "      <td>Clc1ccccc1Cl</td>\n",
       "      <td>2.500</td>\n",
       "      <td>nB</td>\n",
       "      <td>None</td>\n",
       "      <td>None</td>\n",
       "      <td>None</td>\n",
       "      <td>None</td>\n",
       "      <td>[213]</td>\n",
       "      <td>[134076]</td>\n",
       "      <td>[135440]</td>\n",
       "      <td>None</td>\n",
       "      <td>&lt;rdkit.Chem.rdchem.Mol object at 0x7f726c178f40&gt;</td>\n",
       "    </tr>\n",
       "    <tr>\n",
       "      <th>4</th>\n",
       "      <td>74</td>\n",
       "      <td>Nc1cccc([N+](=O)[O-])c1</td>\n",
       "      <td>0.522</td>\n",
       "      <td>nB</td>\n",
       "      <td>None</td>\n",
       "      <td>None</td>\n",
       "      <td>None</td>\n",
       "      <td>None</td>\n",
       "      <td>[213]</td>\n",
       "      <td>[939]</td>\n",
       "      <td>[4360]</td>\n",
       "      <td>[131914]</td>\n",
       "      <td>&lt;rdkit.Chem.rdchem.Mol object at 0x7f726c178fa0&gt;</td>\n",
       "    </tr>\n",
       "    <tr>\n",
       "      <th>...</th>\n",
       "      <td>...</td>\n",
       "      <td>...</td>\n",
       "      <td>...</td>\n",
       "      <td>...</td>\n",
       "      <td>...</td>\n",
       "      <td>...</td>\n",
       "      <td>...</td>\n",
       "      <td>...</td>\n",
       "      <td>...</td>\n",
       "      <td>...</td>\n",
       "      <td>...</td>\n",
       "      <td>...</td>\n",
       "      <td>...</td>\n",
       "    </tr>\n",
       "    <tr>\n",
       "      <th>1001</th>\n",
       "      <td>920</td>\n",
       "      <td>CC1=C(C)S(=O)(=O)CCS1(=O)=O</td>\n",
       "      <td>0.633</td>\n",
       "      <td>nB</td>\n",
       "      <td>[6]</td>\n",
       "      <td>None</td>\n",
       "      <td>None</td>\n",
       "      <td>None</td>\n",
       "      <td>[133896, 133900]</td>\n",
       "      <td>[134043, 134044, 134066, 134068]</td>\n",
       "      <td>[135085, 135403, 135404]</td>\n",
       "      <td>[145103]</td>\n",
       "      <td>&lt;rdkit.Chem.rdchem.Mol object at 0x7f726c191300&gt;</td>\n",
       "    </tr>\n",
       "    <tr>\n",
       "      <th>1002</th>\n",
       "      <td>599</td>\n",
       "      <td>FC(F)(F)c1ccc(Cl)c(Cl)c1</td>\n",
       "      <td>3.176</td>\n",
       "      <td>B</td>\n",
       "      <td>[6]</td>\n",
       "      <td>None</td>\n",
       "      <td>None</td>\n",
       "      <td>None</td>\n",
       "      <td>[213]</td>\n",
       "      <td>[929, 134076]</td>\n",
       "      <td>[134377, 134381, 135440]</td>\n",
       "      <td>[137743]</td>\n",
       "      <td>&lt;rdkit.Chem.rdchem.Mol object at 0x7f726c191360&gt;</td>\n",
       "    </tr>\n",
       "    <tr>\n",
       "      <th>1003</th>\n",
       "      <td>457</td>\n",
       "      <td>CN(C)[C@@H]1C(=O)C(C(=N)O)=C(O)[C@@]2(O)C(=O)C...</td>\n",
       "      <td>-0.222</td>\n",
       "      <td>nB</td>\n",
       "      <td>[5, 6, 7]</td>\n",
       "      <td>[10, 12, 13]</td>\n",
       "      <td>[17, 20, 21, 34, 37, 38, 39, 41]</td>\n",
       "      <td>[54, 67, 68, 70, 71, 80, 81, 82, 83, 127, 131,...</td>\n",
       "      <td>[213, 224, 226, 228, 254, 258, 259, 260, 271, ...</td>\n",
       "      <td>[929, 948, 1092, 1094, 1099, 1104, 1119, 1129,...</td>\n",
       "      <td>[4341, 4957, 4959, 5378, 5407, 5809, 5841, 584...</td>\n",
       "      <td>[26263, 26273, 28867, 32083, 32170, 32193, 322...</td>\n",
       "      <td>&lt;rdkit.Chem.rdchem.Mol object at 0x7f726c1913c0&gt;</td>\n",
       "    </tr>\n",
       "    <tr>\n",
       "      <th>1004</th>\n",
       "      <td>347</td>\n",
       "      <td>CC(C)N(C(=O)CCl)c1ccccc1</td>\n",
       "      <td>1.568</td>\n",
       "      <td>nB</td>\n",
       "      <td>[5, 6]</td>\n",
       "      <td>[10, 11, 12]</td>\n",
       "      <td>[18, 35]</td>\n",
       "      <td>[69, 73, 128]</td>\n",
       "      <td>[213, 255, 262, 288, 386]</td>\n",
       "      <td>[939, 1121, 1626, 1677]</td>\n",
       "      <td>[5388, 7443]</td>\n",
       "      <td>[25503, 26283, 32992]</td>\n",
       "      <td>&lt;rdkit.Chem.rdchem.Mol object at 0x7f726c191420&gt;</td>\n",
       "    </tr>\n",
       "    <tr>\n",
       "      <th>1006</th>\n",
       "      <td>111</td>\n",
       "      <td>Cc1cc(Cc2cc(C)cc(C(C)(C)C)c2O)c(O)c(C(C)(C)C)c1</td>\n",
       "      <td>2.595</td>\n",
       "      <td>nB</td>\n",
       "      <td>[6, 7]</td>\n",
       "      <td>[12]</td>\n",
       "      <td>[20]</td>\n",
       "      <td>[53]</td>\n",
       "      <td>[213]</td>\n",
       "      <td>[929, 948]</td>\n",
       "      <td>[4335, 4564, 4959, 5378]</td>\n",
       "      <td>[26263, 27871, 28436, 28900, 32080, 32203]</td>\n",
       "      <td>&lt;rdkit.Chem.rdchem.Mol object at 0x7f726c191480&gt;</td>\n",
       "    </tr>\n",
       "  </tbody>\n",
       "</table>\n",
       "<p>868 rows × 13 columns</p>\n",
       "</div>"
      ],
      "text/plain": [
       "      db_idx                                             smiles  \\\n",
       "0        162                                      CNc1cccc(C)c1   \n",
       "1        480                 CC(COc1ccc(Oc2ccccc2)cc1)Oc1ccccn1   \n",
       "2        375                         CCCCCCCC/C=C\\CCCCCCCCCCCCC   \n",
       "3        540                                       Clc1ccccc1Cl   \n",
       "4         74                            Nc1cccc([N+](=O)[O-])c1   \n",
       "...      ...                                                ...   \n",
       "1001     920                        CC1=C(C)S(=O)(=O)CCS1(=O)=O   \n",
       "1002     599                           FC(F)(F)c1ccc(Cl)c(Cl)c1   \n",
       "1003     457  CN(C)[C@@H]1C(=O)C(C(=N)O)=C(O)[C@@]2(O)C(=O)C...   \n",
       "1004     347                           CC(C)N(C(=O)CCl)c1ccccc1   \n",
       "1006     111    Cc1cc(Cc2cc(C)cc(C(C)(C)C)c2O)c(O)c(C(C)(C)C)c1   \n",
       "\n",
       "      Experimental logarithmic BCF Experimental BCF class      FQD_2  \\\n",
       "0                            0.849                     nB        [6]   \n",
       "1                            3.140                      B     [6, 7]   \n",
       "2                            1.176                     nB        [6]   \n",
       "3                            2.500                     nB       None   \n",
       "4                            0.522                     nB       None   \n",
       "...                            ...                    ...        ...   \n",
       "1001                         0.633                     nB        [6]   \n",
       "1002                         3.176                      B        [6]   \n",
       "1003                        -0.222                     nB  [5, 6, 7]   \n",
       "1004                         1.568                     nB     [5, 6]   \n",
       "1006                         2.595                     nB     [6, 7]   \n",
       "\n",
       "             FQD_3                             FQD_4  \\\n",
       "0             None                              None   \n",
       "1     [12, 13, 14]                  [21, 39, 40, 41]   \n",
       "2             [12]                              [38]   \n",
       "3             None                              None   \n",
       "4             None                              None   \n",
       "...            ...                               ...   \n",
       "1001          None                              None   \n",
       "1002          None                              None   \n",
       "1003  [10, 12, 13]  [17, 20, 21, 34, 37, 38, 39, 41]   \n",
       "1004  [10, 11, 12]                          [18, 35]   \n",
       "1006          [12]                              [20]   \n",
       "\n",
       "                                                  FQD_5  \\\n",
       "0                                                  None   \n",
       "1                                    [81, 84, 134, 136]   \n",
       "2                                                 [132]   \n",
       "3                                                  None   \n",
       "4                                                  None   \n",
       "...                                                 ...   \n",
       "1001                                               None   \n",
       "1002                                               None   \n",
       "1003  [54, 67, 68, 70, 71, 80, 81, 82, 83, 127, 131,...   \n",
       "1004                                      [69, 73, 128]   \n",
       "1006                                               [53]   \n",
       "\n",
       "                                                  FQD_6  \\\n",
       "0                                                 [213]   \n",
       "1                             [213, 214, 277, 395, 548]   \n",
       "2                                                 [542]   \n",
       "3                                                 [213]   \n",
       "4                                                 [213]   \n",
       "...                                                 ...   \n",
       "1001                                   [133896, 133900]   \n",
       "1002                                              [213]   \n",
       "1003  [213, 224, 226, 228, 254, 258, 259, 260, 271, ...   \n",
       "1004                          [213, 255, 262, 288, 386]   \n",
       "1006                                              [213]   \n",
       "\n",
       "                                                  FQD_7  \\\n",
       "0                                            [929, 939]   \n",
       "1                                      [948, 953, 1578]   \n",
       "2                                                [2719]   \n",
       "3                                              [134076]   \n",
       "4                                                 [939]   \n",
       "...                                                 ...   \n",
       "1001                   [134043, 134044, 134066, 134068]   \n",
       "1002                                      [929, 134076]   \n",
       "1003  [929, 948, 1092, 1094, 1099, 1104, 1119, 1129,...   \n",
       "1004                            [939, 1121, 1626, 1677]   \n",
       "1006                                         [929, 948]   \n",
       "\n",
       "                                                  FQD_8  \\\n",
       "0                                          [4340, 5388]   \n",
       "1                                    [4590, 5397, 5402]   \n",
       "2                                               [14787]   \n",
       "3                                              [135440]   \n",
       "4                                                [4360]   \n",
       "...                                                 ...   \n",
       "1001                           [135085, 135403, 135404]   \n",
       "1002                           [134377, 134381, 135440]   \n",
       "1003  [4341, 4957, 4959, 5378, 5407, 5809, 5841, 584...   \n",
       "1004                                       [5388, 7443]   \n",
       "1006                           [4335, 4564, 4959, 5378]   \n",
       "\n",
       "                                                  FQD_9  \\\n",
       "0                                               [32107]   \n",
       "1                                 [31844, 33001, 33006]   \n",
       "2                                              [123245]   \n",
       "3                                                  None   \n",
       "4                                              [131914]   \n",
       "...                                                 ...   \n",
       "1001                                           [145103]   \n",
       "1002                                           [137743]   \n",
       "1003  [26263, 26273, 28867, 32083, 32170, 32193, 322...   \n",
       "1004                              [25503, 26283, 32992]   \n",
       "1006         [26263, 27871, 28436, 28900, 32080, 32203]   \n",
       "\n",
       "                                                   mol  \n",
       "0     <rdkit.Chem.rdchem.Mol object at 0x7f726c178d60>  \n",
       "1     <rdkit.Chem.rdchem.Mol object at 0x7f726c178e80>  \n",
       "2     <rdkit.Chem.rdchem.Mol object at 0x7f726c178ee0>  \n",
       "3     <rdkit.Chem.rdchem.Mol object at 0x7f726c178f40>  \n",
       "4     <rdkit.Chem.rdchem.Mol object at 0x7f726c178fa0>  \n",
       "...                                                ...  \n",
       "1001  <rdkit.Chem.rdchem.Mol object at 0x7f726c191300>  \n",
       "1002  <rdkit.Chem.rdchem.Mol object at 0x7f726c191360>  \n",
       "1003  <rdkit.Chem.rdchem.Mol object at 0x7f726c1913c0>  \n",
       "1004  <rdkit.Chem.rdchem.Mol object at 0x7f726c191420>  \n",
       "1006  <rdkit.Chem.rdchem.Mol object at 0x7f726c191480>  \n",
       "\n",
       "[868 rows x 13 columns]"
      ]
     },
     "execution_count": 5,
     "metadata": {},
     "output_type": "execute_result"
    }
   ],
   "source": [
    "db_conf = pd.read_parquet(\"db_conf.parquet\")\n",
    "db_conf[\"mol\"] = db_conf[\"smiles\"].apply(Chem.MolFromSmiles)\n",
    "# db_conf.drop(columns=[\"CONF\", \"CONFCl\", \"CONFClBr\", \"CONFClBrI\"], inplace=True)\n",
    "db_conf"
   ]
  },
  {
   "cell_type": "code",
   "execution_count": 6,
   "id": "ffd759ae-c2e8-4180-bbdc-b974ef405b10",
   "metadata": {},
   "outputs": [],
   "source": [
    "na_ind = db_conf[db_conf.iloc[:,4:-1].isna().all(axis=1)].index"
   ]
  },
  {
   "cell_type": "code",
   "execution_count": 7,
   "id": "6c0d8512-488a-434b-9bb3-4cff7a7bbcb9",
   "metadata": {},
   "outputs": [],
   "source": [
    "db_conf = db_conf.drop(index=na_ind)"
   ]
  },
  {
   "cell_type": "markdown",
   "id": "12cc550b-4d62-4f31-843d-87bdae9fab4a",
   "metadata": {},
   "source": [
    "# Labels Encoding"
   ]
  },
  {
   "cell_type": "code",
   "execution_count": 8,
   "id": "259bc015-397b-459a-9cb2-c72aa7bfdc95",
   "metadata": {},
   "outputs": [],
   "source": [
    "from sklearn import preprocessing"
   ]
  },
  {
   "cell_type": "code",
   "execution_count": 9,
   "id": "3043d737-acff-409b-8476-360b614b3a4c",
   "metadata": {},
   "outputs": [],
   "source": [
    "le = preprocessing.LabelEncoder()\n",
    "le.fit([\"nB\", \"B\"])\n",
    "db_conf[\"class_encoded\"] = le.transform(db_conf[\"Experimental BCF class\"])"
   ]
  },
  {
   "cell_type": "code",
   "execution_count": 10,
   "id": "4e811681-9153-4329-8eb5-4152dccef870",
   "metadata": {},
   "outputs": [],
   "source": [
    "db_conf[\"class_encoded\"] = db_conf[\"class_encoded\"].replace({1:0, 0:1})"
   ]
  },
  {
   "cell_type": "code",
   "execution_count": 11,
   "id": "a560818a-61a7-4bc9-b684-a47b7f744082",
   "metadata": {},
   "outputs": [
    {
     "data": {
      "text/html": [
       "<div>\n",
       "<style scoped>\n",
       "    .dataframe tbody tr th:only-of-type {\n",
       "        vertical-align: middle;\n",
       "    }\n",
       "\n",
       "    .dataframe tbody tr th {\n",
       "        vertical-align: top;\n",
       "    }\n",
       "\n",
       "    .dataframe thead th {\n",
       "        text-align: right;\n",
       "    }\n",
       "</style>\n",
       "<table border=\"1\" class=\"dataframe\">\n",
       "  <thead>\n",
       "    <tr style=\"text-align: right;\">\n",
       "      <th></th>\n",
       "      <th>db_idx</th>\n",
       "      <th>smiles</th>\n",
       "      <th>Experimental logarithmic BCF</th>\n",
       "      <th>Experimental BCF class</th>\n",
       "      <th>FQD_2</th>\n",
       "      <th>FQD_3</th>\n",
       "      <th>FQD_4</th>\n",
       "      <th>FQD_5</th>\n",
       "      <th>FQD_6</th>\n",
       "      <th>FQD_7</th>\n",
       "      <th>FQD_8</th>\n",
       "      <th>FQD_9</th>\n",
       "      <th>mol</th>\n",
       "      <th>class_encoded</th>\n",
       "    </tr>\n",
       "  </thead>\n",
       "  <tbody>\n",
       "    <tr>\n",
       "      <th>0</th>\n",
       "      <td>162</td>\n",
       "      <td>CNc1cccc(C)c1</td>\n",
       "      <td>0.849</td>\n",
       "      <td>nB</td>\n",
       "      <td>[6]</td>\n",
       "      <td>None</td>\n",
       "      <td>None</td>\n",
       "      <td>None</td>\n",
       "      <td>[213]</td>\n",
       "      <td>[929, 939]</td>\n",
       "      <td>[4340, 5388]</td>\n",
       "      <td>[32107]</td>\n",
       "      <td>&lt;rdkit.Chem.rdchem.Mol object at 0x7f726c178d60&gt;</td>\n",
       "      <td>0</td>\n",
       "    </tr>\n",
       "    <tr>\n",
       "      <th>1</th>\n",
       "      <td>480</td>\n",
       "      <td>CC(COc1ccc(Oc2ccccc2)cc1)Oc1ccccn1</td>\n",
       "      <td>3.140</td>\n",
       "      <td>B</td>\n",
       "      <td>[6, 7]</td>\n",
       "      <td>[12, 13, 14]</td>\n",
       "      <td>[21, 39, 40, 41]</td>\n",
       "      <td>[81, 84, 134, 136]</td>\n",
       "      <td>[213, 214, 277, 395, 548]</td>\n",
       "      <td>[948, 953, 1578]</td>\n",
       "      <td>[4590, 5397, 5402]</td>\n",
       "      <td>[31844, 33001, 33006]</td>\n",
       "      <td>&lt;rdkit.Chem.rdchem.Mol object at 0x7f726c178e80&gt;</td>\n",
       "      <td>1</td>\n",
       "    </tr>\n",
       "    <tr>\n",
       "      <th>2</th>\n",
       "      <td>375</td>\n",
       "      <td>CCCCCCCC/C=C\\CCCCCCCCCCCCC</td>\n",
       "      <td>1.176</td>\n",
       "      <td>nB</td>\n",
       "      <td>[6]</td>\n",
       "      <td>[12]</td>\n",
       "      <td>[38]</td>\n",
       "      <td>[132]</td>\n",
       "      <td>[542]</td>\n",
       "      <td>[2719]</td>\n",
       "      <td>[14787]</td>\n",
       "      <td>[123245]</td>\n",
       "      <td>&lt;rdkit.Chem.rdchem.Mol object at 0x7f726c178ee0&gt;</td>\n",
       "      <td>0</td>\n",
       "    </tr>\n",
       "    <tr>\n",
       "      <th>3</th>\n",
       "      <td>540</td>\n",
       "      <td>Clc1ccccc1Cl</td>\n",
       "      <td>2.500</td>\n",
       "      <td>nB</td>\n",
       "      <td>None</td>\n",
       "      <td>None</td>\n",
       "      <td>None</td>\n",
       "      <td>None</td>\n",
       "      <td>[213]</td>\n",
       "      <td>[134076]</td>\n",
       "      <td>[135440]</td>\n",
       "      <td>None</td>\n",
       "      <td>&lt;rdkit.Chem.rdchem.Mol object at 0x7f726c178f40&gt;</td>\n",
       "      <td>0</td>\n",
       "    </tr>\n",
       "    <tr>\n",
       "      <th>4</th>\n",
       "      <td>74</td>\n",
       "      <td>Nc1cccc([N+](=O)[O-])c1</td>\n",
       "      <td>0.522</td>\n",
       "      <td>nB</td>\n",
       "      <td>None</td>\n",
       "      <td>None</td>\n",
       "      <td>None</td>\n",
       "      <td>None</td>\n",
       "      <td>[213]</td>\n",
       "      <td>[939]</td>\n",
       "      <td>[4360]</td>\n",
       "      <td>[131914]</td>\n",
       "      <td>&lt;rdkit.Chem.rdchem.Mol object at 0x7f726c178fa0&gt;</td>\n",
       "      <td>0</td>\n",
       "    </tr>\n",
       "    <tr>\n",
       "      <th>...</th>\n",
       "      <td>...</td>\n",
       "      <td>...</td>\n",
       "      <td>...</td>\n",
       "      <td>...</td>\n",
       "      <td>...</td>\n",
       "      <td>...</td>\n",
       "      <td>...</td>\n",
       "      <td>...</td>\n",
       "      <td>...</td>\n",
       "      <td>...</td>\n",
       "      <td>...</td>\n",
       "      <td>...</td>\n",
       "      <td>...</td>\n",
       "      <td>...</td>\n",
       "    </tr>\n",
       "    <tr>\n",
       "      <th>1001</th>\n",
       "      <td>920</td>\n",
       "      <td>CC1=C(C)S(=O)(=O)CCS1(=O)=O</td>\n",
       "      <td>0.633</td>\n",
       "      <td>nB</td>\n",
       "      <td>[6]</td>\n",
       "      <td>None</td>\n",
       "      <td>None</td>\n",
       "      <td>None</td>\n",
       "      <td>[133896, 133900]</td>\n",
       "      <td>[134043, 134044, 134066, 134068]</td>\n",
       "      <td>[135085, 135403, 135404]</td>\n",
       "      <td>[145103]</td>\n",
       "      <td>&lt;rdkit.Chem.rdchem.Mol object at 0x7f726c191300&gt;</td>\n",
       "      <td>0</td>\n",
       "    </tr>\n",
       "    <tr>\n",
       "      <th>1002</th>\n",
       "      <td>599</td>\n",
       "      <td>FC(F)(F)c1ccc(Cl)c(Cl)c1</td>\n",
       "      <td>3.176</td>\n",
       "      <td>B</td>\n",
       "      <td>[6]</td>\n",
       "      <td>None</td>\n",
       "      <td>None</td>\n",
       "      <td>None</td>\n",
       "      <td>[213]</td>\n",
       "      <td>[929, 134076]</td>\n",
       "      <td>[134377, 134381, 135440]</td>\n",
       "      <td>[137743]</td>\n",
       "      <td>&lt;rdkit.Chem.rdchem.Mol object at 0x7f726c191360&gt;</td>\n",
       "      <td>1</td>\n",
       "    </tr>\n",
       "    <tr>\n",
       "      <th>1003</th>\n",
       "      <td>457</td>\n",
       "      <td>CN(C)[C@@H]1C(=O)C(C(=N)O)=C(O)[C@@]2(O)C(=O)C...</td>\n",
       "      <td>-0.222</td>\n",
       "      <td>nB</td>\n",
       "      <td>[5, 6, 7]</td>\n",
       "      <td>[10, 12, 13]</td>\n",
       "      <td>[17, 20, 21, 34, 37, 38, 39, 41]</td>\n",
       "      <td>[54, 67, 68, 70, 71, 80, 81, 82, 83, 127, 131,...</td>\n",
       "      <td>[213, 224, 226, 228, 254, 258, 259, 260, 271, ...</td>\n",
       "      <td>[929, 948, 1092, 1094, 1099, 1104, 1119, 1129,...</td>\n",
       "      <td>[4341, 4957, 4959, 5378, 5407, 5809, 5841, 584...</td>\n",
       "      <td>[26263, 26273, 28867, 32083, 32170, 32193, 322...</td>\n",
       "      <td>&lt;rdkit.Chem.rdchem.Mol object at 0x7f726c1913c0&gt;</td>\n",
       "      <td>0</td>\n",
       "    </tr>\n",
       "    <tr>\n",
       "      <th>1004</th>\n",
       "      <td>347</td>\n",
       "      <td>CC(C)N(C(=O)CCl)c1ccccc1</td>\n",
       "      <td>1.568</td>\n",
       "      <td>nB</td>\n",
       "      <td>[5, 6]</td>\n",
       "      <td>[10, 11, 12]</td>\n",
       "      <td>[18, 35]</td>\n",
       "      <td>[69, 73, 128]</td>\n",
       "      <td>[213, 255, 262, 288, 386]</td>\n",
       "      <td>[939, 1121, 1626, 1677]</td>\n",
       "      <td>[5388, 7443]</td>\n",
       "      <td>[25503, 26283, 32992]</td>\n",
       "      <td>&lt;rdkit.Chem.rdchem.Mol object at 0x7f726c191420&gt;</td>\n",
       "      <td>0</td>\n",
       "    </tr>\n",
       "    <tr>\n",
       "      <th>1006</th>\n",
       "      <td>111</td>\n",
       "      <td>Cc1cc(Cc2cc(C)cc(C(C)(C)C)c2O)c(O)c(C(C)(C)C)c1</td>\n",
       "      <td>2.595</td>\n",
       "      <td>nB</td>\n",
       "      <td>[6, 7]</td>\n",
       "      <td>[12]</td>\n",
       "      <td>[20]</td>\n",
       "      <td>[53]</td>\n",
       "      <td>[213]</td>\n",
       "      <td>[929, 948]</td>\n",
       "      <td>[4335, 4564, 4959, 5378]</td>\n",
       "      <td>[26263, 27871, 28436, 28900, 32080, 32203]</td>\n",
       "      <td>&lt;rdkit.Chem.rdchem.Mol object at 0x7f726c191480&gt;</td>\n",
       "      <td>0</td>\n",
       "    </tr>\n",
       "  </tbody>\n",
       "</table>\n",
       "<p>856 rows × 14 columns</p>\n",
       "</div>"
      ],
      "text/plain": [
       "      db_idx                                             smiles  \\\n",
       "0        162                                      CNc1cccc(C)c1   \n",
       "1        480                 CC(COc1ccc(Oc2ccccc2)cc1)Oc1ccccn1   \n",
       "2        375                         CCCCCCCC/C=C\\CCCCCCCCCCCCC   \n",
       "3        540                                       Clc1ccccc1Cl   \n",
       "4         74                            Nc1cccc([N+](=O)[O-])c1   \n",
       "...      ...                                                ...   \n",
       "1001     920                        CC1=C(C)S(=O)(=O)CCS1(=O)=O   \n",
       "1002     599                           FC(F)(F)c1ccc(Cl)c(Cl)c1   \n",
       "1003     457  CN(C)[C@@H]1C(=O)C(C(=N)O)=C(O)[C@@]2(O)C(=O)C...   \n",
       "1004     347                           CC(C)N(C(=O)CCl)c1ccccc1   \n",
       "1006     111    Cc1cc(Cc2cc(C)cc(C(C)(C)C)c2O)c(O)c(C(C)(C)C)c1   \n",
       "\n",
       "      Experimental logarithmic BCF Experimental BCF class      FQD_2  \\\n",
       "0                            0.849                     nB        [6]   \n",
       "1                            3.140                      B     [6, 7]   \n",
       "2                            1.176                     nB        [6]   \n",
       "3                            2.500                     nB       None   \n",
       "4                            0.522                     nB       None   \n",
       "...                            ...                    ...        ...   \n",
       "1001                         0.633                     nB        [6]   \n",
       "1002                         3.176                      B        [6]   \n",
       "1003                        -0.222                     nB  [5, 6, 7]   \n",
       "1004                         1.568                     nB     [5, 6]   \n",
       "1006                         2.595                     nB     [6, 7]   \n",
       "\n",
       "             FQD_3                             FQD_4  \\\n",
       "0             None                              None   \n",
       "1     [12, 13, 14]                  [21, 39, 40, 41]   \n",
       "2             [12]                              [38]   \n",
       "3             None                              None   \n",
       "4             None                              None   \n",
       "...            ...                               ...   \n",
       "1001          None                              None   \n",
       "1002          None                              None   \n",
       "1003  [10, 12, 13]  [17, 20, 21, 34, 37, 38, 39, 41]   \n",
       "1004  [10, 11, 12]                          [18, 35]   \n",
       "1006          [12]                              [20]   \n",
       "\n",
       "                                                  FQD_5  \\\n",
       "0                                                  None   \n",
       "1                                    [81, 84, 134, 136]   \n",
       "2                                                 [132]   \n",
       "3                                                  None   \n",
       "4                                                  None   \n",
       "...                                                 ...   \n",
       "1001                                               None   \n",
       "1002                                               None   \n",
       "1003  [54, 67, 68, 70, 71, 80, 81, 82, 83, 127, 131,...   \n",
       "1004                                      [69, 73, 128]   \n",
       "1006                                               [53]   \n",
       "\n",
       "                                                  FQD_6  \\\n",
       "0                                                 [213]   \n",
       "1                             [213, 214, 277, 395, 548]   \n",
       "2                                                 [542]   \n",
       "3                                                 [213]   \n",
       "4                                                 [213]   \n",
       "...                                                 ...   \n",
       "1001                                   [133896, 133900]   \n",
       "1002                                              [213]   \n",
       "1003  [213, 224, 226, 228, 254, 258, 259, 260, 271, ...   \n",
       "1004                          [213, 255, 262, 288, 386]   \n",
       "1006                                              [213]   \n",
       "\n",
       "                                                  FQD_7  \\\n",
       "0                                            [929, 939]   \n",
       "1                                      [948, 953, 1578]   \n",
       "2                                                [2719]   \n",
       "3                                              [134076]   \n",
       "4                                                 [939]   \n",
       "...                                                 ...   \n",
       "1001                   [134043, 134044, 134066, 134068]   \n",
       "1002                                      [929, 134076]   \n",
       "1003  [929, 948, 1092, 1094, 1099, 1104, 1119, 1129,...   \n",
       "1004                            [939, 1121, 1626, 1677]   \n",
       "1006                                         [929, 948]   \n",
       "\n",
       "                                                  FQD_8  \\\n",
       "0                                          [4340, 5388]   \n",
       "1                                    [4590, 5397, 5402]   \n",
       "2                                               [14787]   \n",
       "3                                              [135440]   \n",
       "4                                                [4360]   \n",
       "...                                                 ...   \n",
       "1001                           [135085, 135403, 135404]   \n",
       "1002                           [134377, 134381, 135440]   \n",
       "1003  [4341, 4957, 4959, 5378, 5407, 5809, 5841, 584...   \n",
       "1004                                       [5388, 7443]   \n",
       "1006                           [4335, 4564, 4959, 5378]   \n",
       "\n",
       "                                                  FQD_9  \\\n",
       "0                                               [32107]   \n",
       "1                                 [31844, 33001, 33006]   \n",
       "2                                              [123245]   \n",
       "3                                                  None   \n",
       "4                                              [131914]   \n",
       "...                                                 ...   \n",
       "1001                                           [145103]   \n",
       "1002                                           [137743]   \n",
       "1003  [26263, 26273, 28867, 32083, 32170, 32193, 322...   \n",
       "1004                              [25503, 26283, 32992]   \n",
       "1006         [26263, 27871, 28436, 28900, 32080, 32203]   \n",
       "\n",
       "                                                   mol  class_encoded  \n",
       "0     <rdkit.Chem.rdchem.Mol object at 0x7f726c178d60>              0  \n",
       "1     <rdkit.Chem.rdchem.Mol object at 0x7f726c178e80>              1  \n",
       "2     <rdkit.Chem.rdchem.Mol object at 0x7f726c178ee0>              0  \n",
       "3     <rdkit.Chem.rdchem.Mol object at 0x7f726c178f40>              0  \n",
       "4     <rdkit.Chem.rdchem.Mol object at 0x7f726c178fa0>              0  \n",
       "...                                                ...            ...  \n",
       "1001  <rdkit.Chem.rdchem.Mol object at 0x7f726c191300>              0  \n",
       "1002  <rdkit.Chem.rdchem.Mol object at 0x7f726c191360>              1  \n",
       "1003  <rdkit.Chem.rdchem.Mol object at 0x7f726c1913c0>              0  \n",
       "1004  <rdkit.Chem.rdchem.Mol object at 0x7f726c191420>              0  \n",
       "1006  <rdkit.Chem.rdchem.Mol object at 0x7f726c191480>              0  \n",
       "\n",
       "[856 rows x 14 columns]"
      ]
     },
     "execution_count": 11,
     "metadata": {},
     "output_type": "execute_result"
    }
   ],
   "source": [
    "db_conf"
   ]
  },
  {
   "cell_type": "code",
   "execution_count": 12,
   "id": "2e15cbc0-bcee-4f66-964e-74645fde63a2",
   "metadata": {},
   "outputs": [],
   "source": [
    "db_conf[\"mol\"] = db_conf[\"smiles\"].apply(Chem.MolFromSmiles)\n",
    "db_conf[\"num_atoms\"] = db_conf[\"mol\"].apply(lambda x: x.GetNumAtoms())"
   ]
  },
  {
   "cell_type": "markdown",
   "id": "d77992ae-a714-4a09-86e9-a04aa703f37a",
   "metadata": {},
   "source": [
    "# Calculate FQDs"
   ]
  },
  {
   "cell_type": "code",
   "execution_count": 13,
   "id": "5affd9d9-25ce-49a5-90a4-2e6794cb51f9",
   "metadata": {},
   "outputs": [],
   "source": [
    "db_conf_filled = db_conf.copy()"
   ]
  },
  {
   "cell_type": "code",
   "execution_count": 14,
   "id": "884fc480-5123-4a99-abb9-5a6fa3c676bc",
   "metadata": {},
   "outputs": [],
   "source": [
    "qprops = \"mu,alpha,homo,lumo,gap,zpve,u0,u298,h298,g298,cv\".split(\",\")"
   ]
  },
  {
   "cell_type": "code",
   "execution_count": 15,
   "id": "1cffdcff-73fa-4628-8549-cc68576cb709",
   "metadata": {},
   "outputs": [],
   "source": [
    "import statistics\n",
    "def calculate_FQDs(indices, patterns_db, quantum_property):\n",
    "    if isinstance(indices, int) and indices == 0:\n",
    "        return np.NaN\n",
    "    if indices is None:\n",
    "        return np.NaN\n",
    "    ret = []\n",
    "    for i in indices:\n",
    "        ret.append(patterns_db[quantum_property][i])\n",
    "    return statistics.mean(ret)\n",
    "\n",
    "def calculate_FQDs_quant(mol, indices, patterns_db, quantum_property):\n",
    "    if isinstance(indices, int) and indices == 0:\n",
    "        return np.NaN\n",
    "    if indices is None:\n",
    "        return np.NaN\n",
    "    ret = []\n",
    "    for i in indices:\n",
    "        n_occurences = len(list(mol.GetSubstructMatch(patterns_db[\"mol\"][i])))\n",
    "        ret.append(patterns_db[quantum_property][i] * n_occurences)\n",
    "    return statistics.mean(ret)"
   ]
  },
  {
   "cell_type": "code",
   "execution_count": 16,
   "id": "752e47a2-1d84-4ccc-95a4-881b2ffadfbe",
   "metadata": {},
   "outputs": [],
   "source": [
    "# for prop in qprops:\n",
    "#     for num in range(2, 10):\n",
    "#         db_conf_filled[f\"FQD_{num}_{prop}\"] = db_conf_filled[f\"FQD_{num}\"].apply(calculate_FQDs, patterns_db=qm9, quantum_property=prop)"
   ]
  },
  {
   "cell_type": "code",
   "execution_count": 17,
   "id": "9148b920-4dc5-4bb6-8548-13b3db188905",
   "metadata": {
    "tags": []
   },
   "outputs": [
    {
     "name": "stderr",
     "output_type": "stream",
     "text": [
      "/tmp/ipykernel_4936/404896553.py:3: PerformanceWarning: DataFrame is highly fragmented.  This is usually the result of calling `frame.insert` many times, which has poor performance.  Consider joining all columns at once using pd.concat(axis=1) instead. To get a de-fragmented frame, use `newframe = frame.copy()`\n",
      "  db_conf_filled[f\"FQD_{num}_{prop}_per_atom\"] = db_conf_filled[f\"FQD_{num}_{prop}\"] / db_conf_filled[\"num_atoms\"]\n",
      "/tmp/ipykernel_4936/404896553.py:3: PerformanceWarning: DataFrame is highly fragmented.  This is usually the result of calling `frame.insert` many times, which has poor performance.  Consider joining all columns at once using pd.concat(axis=1) instead. To get a de-fragmented frame, use `newframe = frame.copy()`\n",
      "  db_conf_filled[f\"FQD_{num}_{prop}_per_atom\"] = db_conf_filled[f\"FQD_{num}_{prop}\"] / db_conf_filled[\"num_atoms\"]\n",
      "/tmp/ipykernel_4936/404896553.py:3: PerformanceWarning: DataFrame is highly fragmented.  This is usually the result of calling `frame.insert` many times, which has poor performance.  Consider joining all columns at once using pd.concat(axis=1) instead. To get a de-fragmented frame, use `newframe = frame.copy()`\n",
      "  db_conf_filled[f\"FQD_{num}_{prop}_per_atom\"] = db_conf_filled[f\"FQD_{num}_{prop}\"] / db_conf_filled[\"num_atoms\"]\n",
      "/tmp/ipykernel_4936/404896553.py:3: PerformanceWarning: DataFrame is highly fragmented.  This is usually the result of calling `frame.insert` many times, which has poor performance.  Consider joining all columns at once using pd.concat(axis=1) instead. To get a de-fragmented frame, use `newframe = frame.copy()`\n",
      "  db_conf_filled[f\"FQD_{num}_{prop}_per_atom\"] = db_conf_filled[f\"FQD_{num}_{prop}\"] / db_conf_filled[\"num_atoms\"]\n",
      "/tmp/ipykernel_4936/404896553.py:3: PerformanceWarning: DataFrame is highly fragmented.  This is usually the result of calling `frame.insert` many times, which has poor performance.  Consider joining all columns at once using pd.concat(axis=1) instead. To get a de-fragmented frame, use `newframe = frame.copy()`\n",
      "  db_conf_filled[f\"FQD_{num}_{prop}_per_atom\"] = db_conf_filled[f\"FQD_{num}_{prop}\"] / db_conf_filled[\"num_atoms\"]\n",
      "/tmp/ipykernel_4936/404896553.py:3: PerformanceWarning: DataFrame is highly fragmented.  This is usually the result of calling `frame.insert` many times, which has poor performance.  Consider joining all columns at once using pd.concat(axis=1) instead. To get a de-fragmented frame, use `newframe = frame.copy()`\n",
      "  db_conf_filled[f\"FQD_{num}_{prop}_per_atom\"] = db_conf_filled[f\"FQD_{num}_{prop}\"] / db_conf_filled[\"num_atoms\"]\n",
      "/tmp/ipykernel_4936/404896553.py:3: PerformanceWarning: DataFrame is highly fragmented.  This is usually the result of calling `frame.insert` many times, which has poor performance.  Consider joining all columns at once using pd.concat(axis=1) instead. To get a de-fragmented frame, use `newframe = frame.copy()`\n",
      "  db_conf_filled[f\"FQD_{num}_{prop}_per_atom\"] = db_conf_filled[f\"FQD_{num}_{prop}\"] / db_conf_filled[\"num_atoms\"]\n",
      "/tmp/ipykernel_4936/404896553.py:3: PerformanceWarning: DataFrame is highly fragmented.  This is usually the result of calling `frame.insert` many times, which has poor performance.  Consider joining all columns at once using pd.concat(axis=1) instead. To get a de-fragmented frame, use `newframe = frame.copy()`\n",
      "  db_conf_filled[f\"FQD_{num}_{prop}_per_atom\"] = db_conf_filled[f\"FQD_{num}_{prop}\"] / db_conf_filled[\"num_atoms\"]\n",
      "/tmp/ipykernel_4936/404896553.py:3: PerformanceWarning: DataFrame is highly fragmented.  This is usually the result of calling `frame.insert` many times, which has poor performance.  Consider joining all columns at once using pd.concat(axis=1) instead. To get a de-fragmented frame, use `newframe = frame.copy()`\n",
      "  db_conf_filled[f\"FQD_{num}_{prop}_per_atom\"] = db_conf_filled[f\"FQD_{num}_{prop}\"] / db_conf_filled[\"num_atoms\"]\n",
      "/tmp/ipykernel_4936/404896553.py:3: PerformanceWarning: DataFrame is highly fragmented.  This is usually the result of calling `frame.insert` many times, which has poor performance.  Consider joining all columns at once using pd.concat(axis=1) instead. To get a de-fragmented frame, use `newframe = frame.copy()`\n",
      "  db_conf_filled[f\"FQD_{num}_{prop}_per_atom\"] = db_conf_filled[f\"FQD_{num}_{prop}\"] / db_conf_filled[\"num_atoms\"]\n",
      "/tmp/ipykernel_4936/404896553.py:3: PerformanceWarning: DataFrame is highly fragmented.  This is usually the result of calling `frame.insert` many times, which has poor performance.  Consider joining all columns at once using pd.concat(axis=1) instead. To get a de-fragmented frame, use `newframe = frame.copy()`\n",
      "  db_conf_filled[f\"FQD_{num}_{prop}_per_atom\"] = db_conf_filled[f\"FQD_{num}_{prop}\"] / db_conf_filled[\"num_atoms\"]\n",
      "/tmp/ipykernel_4936/404896553.py:3: PerformanceWarning: DataFrame is highly fragmented.  This is usually the result of calling `frame.insert` many times, which has poor performance.  Consider joining all columns at once using pd.concat(axis=1) instead. To get a de-fragmented frame, use `newframe = frame.copy()`\n",
      "  db_conf_filled[f\"FQD_{num}_{prop}_per_atom\"] = db_conf_filled[f\"FQD_{num}_{prop}\"] / db_conf_filled[\"num_atoms\"]\n",
      "/tmp/ipykernel_4936/404896553.py:3: PerformanceWarning: DataFrame is highly fragmented.  This is usually the result of calling `frame.insert` many times, which has poor performance.  Consider joining all columns at once using pd.concat(axis=1) instead. To get a de-fragmented frame, use `newframe = frame.copy()`\n",
      "  db_conf_filled[f\"FQD_{num}_{prop}_per_atom\"] = db_conf_filled[f\"FQD_{num}_{prop}\"] / db_conf_filled[\"num_atoms\"]\n",
      "/tmp/ipykernel_4936/404896553.py:3: PerformanceWarning: DataFrame is highly fragmented.  This is usually the result of calling `frame.insert` many times, which has poor performance.  Consider joining all columns at once using pd.concat(axis=1) instead. To get a de-fragmented frame, use `newframe = frame.copy()`\n",
      "  db_conf_filled[f\"FQD_{num}_{prop}_per_atom\"] = db_conf_filled[f\"FQD_{num}_{prop}\"] / db_conf_filled[\"num_atoms\"]\n",
      "/tmp/ipykernel_4936/404896553.py:3: PerformanceWarning: DataFrame is highly fragmented.  This is usually the result of calling `frame.insert` many times, which has poor performance.  Consider joining all columns at once using pd.concat(axis=1) instead. To get a de-fragmented frame, use `newframe = frame.copy()`\n",
      "  db_conf_filled[f\"FQD_{num}_{prop}_per_atom\"] = db_conf_filled[f\"FQD_{num}_{prop}\"] / db_conf_filled[\"num_atoms\"]\n",
      "/tmp/ipykernel_4936/404896553.py:3: PerformanceWarning: DataFrame is highly fragmented.  This is usually the result of calling `frame.insert` many times, which has poor performance.  Consider joining all columns at once using pd.concat(axis=1) instead. To get a de-fragmented frame, use `newframe = frame.copy()`\n",
      "  db_conf_filled[f\"FQD_{num}_{prop}_per_atom\"] = db_conf_filled[f\"FQD_{num}_{prop}\"] / db_conf_filled[\"num_atoms\"]\n",
      "/tmp/ipykernel_4936/404896553.py:3: PerformanceWarning: DataFrame is highly fragmented.  This is usually the result of calling `frame.insert` many times, which has poor performance.  Consider joining all columns at once using pd.concat(axis=1) instead. To get a de-fragmented frame, use `newframe = frame.copy()`\n",
      "  db_conf_filled[f\"FQD_{num}_{prop}_per_atom\"] = db_conf_filled[f\"FQD_{num}_{prop}\"] / db_conf_filled[\"num_atoms\"]\n",
      "/tmp/ipykernel_4936/404896553.py:3: PerformanceWarning: DataFrame is highly fragmented.  This is usually the result of calling `frame.insert` many times, which has poor performance.  Consider joining all columns at once using pd.concat(axis=1) instead. To get a de-fragmented frame, use `newframe = frame.copy()`\n",
      "  db_conf_filled[f\"FQD_{num}_{prop}_per_atom\"] = db_conf_filled[f\"FQD_{num}_{prop}\"] / db_conf_filled[\"num_atoms\"]\n",
      "/tmp/ipykernel_4936/404896553.py:3: PerformanceWarning: DataFrame is highly fragmented.  This is usually the result of calling `frame.insert` many times, which has poor performance.  Consider joining all columns at once using pd.concat(axis=1) instead. To get a de-fragmented frame, use `newframe = frame.copy()`\n",
      "  db_conf_filled[f\"FQD_{num}_{prop}_per_atom\"] = db_conf_filled[f\"FQD_{num}_{prop}\"] / db_conf_filled[\"num_atoms\"]\n",
      "/tmp/ipykernel_4936/404896553.py:3: PerformanceWarning: DataFrame is highly fragmented.  This is usually the result of calling `frame.insert` many times, which has poor performance.  Consider joining all columns at once using pd.concat(axis=1) instead. To get a de-fragmented frame, use `newframe = frame.copy()`\n",
      "  db_conf_filled[f\"FQD_{num}_{prop}_per_atom\"] = db_conf_filled[f\"FQD_{num}_{prop}\"] / db_conf_filled[\"num_atoms\"]\n",
      "/tmp/ipykernel_4936/404896553.py:3: PerformanceWarning: DataFrame is highly fragmented.  This is usually the result of calling `frame.insert` many times, which has poor performance.  Consider joining all columns at once using pd.concat(axis=1) instead. To get a de-fragmented frame, use `newframe = frame.copy()`\n",
      "  db_conf_filled[f\"FQD_{num}_{prop}_per_atom\"] = db_conf_filled[f\"FQD_{num}_{prop}\"] / db_conf_filled[\"num_atoms\"]\n",
      "/tmp/ipykernel_4936/404896553.py:3: PerformanceWarning: DataFrame is highly fragmented.  This is usually the result of calling `frame.insert` many times, which has poor performance.  Consider joining all columns at once using pd.concat(axis=1) instead. To get a de-fragmented frame, use `newframe = frame.copy()`\n",
      "  db_conf_filled[f\"FQD_{num}_{prop}_per_atom\"] = db_conf_filled[f\"FQD_{num}_{prop}\"] / db_conf_filled[\"num_atoms\"]\n",
      "/tmp/ipykernel_4936/404896553.py:3: PerformanceWarning: DataFrame is highly fragmented.  This is usually the result of calling `frame.insert` many times, which has poor performance.  Consider joining all columns at once using pd.concat(axis=1) instead. To get a de-fragmented frame, use `newframe = frame.copy()`\n",
      "  db_conf_filled[f\"FQD_{num}_{prop}_per_atom\"] = db_conf_filled[f\"FQD_{num}_{prop}\"] / db_conf_filled[\"num_atoms\"]\n",
      "/tmp/ipykernel_4936/404896553.py:3: PerformanceWarning: DataFrame is highly fragmented.  This is usually the result of calling `frame.insert` many times, which has poor performance.  Consider joining all columns at once using pd.concat(axis=1) instead. To get a de-fragmented frame, use `newframe = frame.copy()`\n",
      "  db_conf_filled[f\"FQD_{num}_{prop}_per_atom\"] = db_conf_filled[f\"FQD_{num}_{prop}\"] / db_conf_filled[\"num_atoms\"]\n",
      "/tmp/ipykernel_4936/404896553.py:3: PerformanceWarning: DataFrame is highly fragmented.  This is usually the result of calling `frame.insert` many times, which has poor performance.  Consider joining all columns at once using pd.concat(axis=1) instead. To get a de-fragmented frame, use `newframe = frame.copy()`\n",
      "  db_conf_filled[f\"FQD_{num}_{prop}_per_atom\"] = db_conf_filled[f\"FQD_{num}_{prop}\"] / db_conf_filled[\"num_atoms\"]\n",
      "/tmp/ipykernel_4936/404896553.py:3: PerformanceWarning: DataFrame is highly fragmented.  This is usually the result of calling `frame.insert` many times, which has poor performance.  Consider joining all columns at once using pd.concat(axis=1) instead. To get a de-fragmented frame, use `newframe = frame.copy()`\n",
      "  db_conf_filled[f\"FQD_{num}_{prop}_per_atom\"] = db_conf_filled[f\"FQD_{num}_{prop}\"] / db_conf_filled[\"num_atoms\"]\n",
      "/tmp/ipykernel_4936/404896553.py:3: PerformanceWarning: DataFrame is highly fragmented.  This is usually the result of calling `frame.insert` many times, which has poor performance.  Consider joining all columns at once using pd.concat(axis=1) instead. To get a de-fragmented frame, use `newframe = frame.copy()`\n",
      "  db_conf_filled[f\"FQD_{num}_{prop}_per_atom\"] = db_conf_filled[f\"FQD_{num}_{prop}\"] / db_conf_filled[\"num_atoms\"]\n",
      "/tmp/ipykernel_4936/404896553.py:3: PerformanceWarning: DataFrame is highly fragmented.  This is usually the result of calling `frame.insert` many times, which has poor performance.  Consider joining all columns at once using pd.concat(axis=1) instead. To get a de-fragmented frame, use `newframe = frame.copy()`\n",
      "  db_conf_filled[f\"FQD_{num}_{prop}_per_atom\"] = db_conf_filled[f\"FQD_{num}_{prop}\"] / db_conf_filled[\"num_atoms\"]\n",
      "/tmp/ipykernel_4936/404896553.py:3: PerformanceWarning: DataFrame is highly fragmented.  This is usually the result of calling `frame.insert` many times, which has poor performance.  Consider joining all columns at once using pd.concat(axis=1) instead. To get a de-fragmented frame, use `newframe = frame.copy()`\n",
      "  db_conf_filled[f\"FQD_{num}_{prop}_per_atom\"] = db_conf_filled[f\"FQD_{num}_{prop}\"] / db_conf_filled[\"num_atoms\"]\n",
      "/tmp/ipykernel_4936/404896553.py:3: PerformanceWarning: DataFrame is highly fragmented.  This is usually the result of calling `frame.insert` many times, which has poor performance.  Consider joining all columns at once using pd.concat(axis=1) instead. To get a de-fragmented frame, use `newframe = frame.copy()`\n",
      "  db_conf_filled[f\"FQD_{num}_{prop}_per_atom\"] = db_conf_filled[f\"FQD_{num}_{prop}\"] / db_conf_filled[\"num_atoms\"]\n",
      "/tmp/ipykernel_4936/404896553.py:3: PerformanceWarning: DataFrame is highly fragmented.  This is usually the result of calling `frame.insert` many times, which has poor performance.  Consider joining all columns at once using pd.concat(axis=1) instead. To get a de-fragmented frame, use `newframe = frame.copy()`\n",
      "  db_conf_filled[f\"FQD_{num}_{prop}_per_atom\"] = db_conf_filled[f\"FQD_{num}_{prop}\"] / db_conf_filled[\"num_atoms\"]\n",
      "/tmp/ipykernel_4936/404896553.py:3: PerformanceWarning: DataFrame is highly fragmented.  This is usually the result of calling `frame.insert` many times, which has poor performance.  Consider joining all columns at once using pd.concat(axis=1) instead. To get a de-fragmented frame, use `newframe = frame.copy()`\n",
      "  db_conf_filled[f\"FQD_{num}_{prop}_per_atom\"] = db_conf_filled[f\"FQD_{num}_{prop}\"] / db_conf_filled[\"num_atoms\"]\n",
      "/tmp/ipykernel_4936/404896553.py:3: PerformanceWarning: DataFrame is highly fragmented.  This is usually the result of calling `frame.insert` many times, which has poor performance.  Consider joining all columns at once using pd.concat(axis=1) instead. To get a de-fragmented frame, use `newframe = frame.copy()`\n",
      "  db_conf_filled[f\"FQD_{num}_{prop}_per_atom\"] = db_conf_filled[f\"FQD_{num}_{prop}\"] / db_conf_filled[\"num_atoms\"]\n",
      "/tmp/ipykernel_4936/404896553.py:3: PerformanceWarning: DataFrame is highly fragmented.  This is usually the result of calling `frame.insert` many times, which has poor performance.  Consider joining all columns at once using pd.concat(axis=1) instead. To get a de-fragmented frame, use `newframe = frame.copy()`\n",
      "  db_conf_filled[f\"FQD_{num}_{prop}_per_atom\"] = db_conf_filled[f\"FQD_{num}_{prop}\"] / db_conf_filled[\"num_atoms\"]\n",
      "/tmp/ipykernel_4936/404896553.py:3: PerformanceWarning: DataFrame is highly fragmented.  This is usually the result of calling `frame.insert` many times, which has poor performance.  Consider joining all columns at once using pd.concat(axis=1) instead. To get a de-fragmented frame, use `newframe = frame.copy()`\n",
      "  db_conf_filled[f\"FQD_{num}_{prop}_per_atom\"] = db_conf_filled[f\"FQD_{num}_{prop}\"] / db_conf_filled[\"num_atoms\"]\n",
      "/tmp/ipykernel_4936/404896553.py:3: PerformanceWarning: DataFrame is highly fragmented.  This is usually the result of calling `frame.insert` many times, which has poor performance.  Consider joining all columns at once using pd.concat(axis=1) instead. To get a de-fragmented frame, use `newframe = frame.copy()`\n",
      "  db_conf_filled[f\"FQD_{num}_{prop}_per_atom\"] = db_conf_filled[f\"FQD_{num}_{prop}\"] / db_conf_filled[\"num_atoms\"]\n",
      "/tmp/ipykernel_4936/404896553.py:3: PerformanceWarning: DataFrame is highly fragmented.  This is usually the result of calling `frame.insert` many times, which has poor performance.  Consider joining all columns at once using pd.concat(axis=1) instead. To get a de-fragmented frame, use `newframe = frame.copy()`\n",
      "  db_conf_filled[f\"FQD_{num}_{prop}_per_atom\"] = db_conf_filled[f\"FQD_{num}_{prop}\"] / db_conf_filled[\"num_atoms\"]\n",
      "/tmp/ipykernel_4936/404896553.py:3: PerformanceWarning: DataFrame is highly fragmented.  This is usually the result of calling `frame.insert` many times, which has poor performance.  Consider joining all columns at once using pd.concat(axis=1) instead. To get a de-fragmented frame, use `newframe = frame.copy()`\n",
      "  db_conf_filled[f\"FQD_{num}_{prop}_per_atom\"] = db_conf_filled[f\"FQD_{num}_{prop}\"] / db_conf_filled[\"num_atoms\"]\n",
      "/tmp/ipykernel_4936/404896553.py:3: PerformanceWarning: DataFrame is highly fragmented.  This is usually the result of calling `frame.insert` many times, which has poor performance.  Consider joining all columns at once using pd.concat(axis=1) instead. To get a de-fragmented frame, use `newframe = frame.copy()`\n",
      "  db_conf_filled[f\"FQD_{num}_{prop}_per_atom\"] = db_conf_filled[f\"FQD_{num}_{prop}\"] / db_conf_filled[\"num_atoms\"]\n",
      "/tmp/ipykernel_4936/404896553.py:3: PerformanceWarning: DataFrame is highly fragmented.  This is usually the result of calling `frame.insert` many times, which has poor performance.  Consider joining all columns at once using pd.concat(axis=1) instead. To get a de-fragmented frame, use `newframe = frame.copy()`\n",
      "  db_conf_filled[f\"FQD_{num}_{prop}_per_atom\"] = db_conf_filled[f\"FQD_{num}_{prop}\"] / db_conf_filled[\"num_atoms\"]\n",
      "/tmp/ipykernel_4936/404896553.py:3: PerformanceWarning: DataFrame is highly fragmented.  This is usually the result of calling `frame.insert` many times, which has poor performance.  Consider joining all columns at once using pd.concat(axis=1) instead. To get a de-fragmented frame, use `newframe = frame.copy()`\n",
      "  db_conf_filled[f\"FQD_{num}_{prop}_per_atom\"] = db_conf_filled[f\"FQD_{num}_{prop}\"] / db_conf_filled[\"num_atoms\"]\n",
      "/tmp/ipykernel_4936/404896553.py:3: PerformanceWarning: DataFrame is highly fragmented.  This is usually the result of calling `frame.insert` many times, which has poor performance.  Consider joining all columns at once using pd.concat(axis=1) instead. To get a de-fragmented frame, use `newframe = frame.copy()`\n",
      "  db_conf_filled[f\"FQD_{num}_{prop}_per_atom\"] = db_conf_filled[f\"FQD_{num}_{prop}\"] / db_conf_filled[\"num_atoms\"]\n",
      "/tmp/ipykernel_4936/404896553.py:3: PerformanceWarning: DataFrame is highly fragmented.  This is usually the result of calling `frame.insert` many times, which has poor performance.  Consider joining all columns at once using pd.concat(axis=1) instead. To get a de-fragmented frame, use `newframe = frame.copy()`\n",
      "  db_conf_filled[f\"FQD_{num}_{prop}_per_atom\"] = db_conf_filled[f\"FQD_{num}_{prop}\"] / db_conf_filled[\"num_atoms\"]\n",
      "/tmp/ipykernel_4936/404896553.py:3: PerformanceWarning: DataFrame is highly fragmented.  This is usually the result of calling `frame.insert` many times, which has poor performance.  Consider joining all columns at once using pd.concat(axis=1) instead. To get a de-fragmented frame, use `newframe = frame.copy()`\n",
      "  db_conf_filled[f\"FQD_{num}_{prop}_per_atom\"] = db_conf_filled[f\"FQD_{num}_{prop}\"] / db_conf_filled[\"num_atoms\"]\n",
      "/tmp/ipykernel_4936/404896553.py:3: PerformanceWarning: DataFrame is highly fragmented.  This is usually the result of calling `frame.insert` many times, which has poor performance.  Consider joining all columns at once using pd.concat(axis=1) instead. To get a de-fragmented frame, use `newframe = frame.copy()`\n",
      "  db_conf_filled[f\"FQD_{num}_{prop}_per_atom\"] = db_conf_filled[f\"FQD_{num}_{prop}\"] / db_conf_filled[\"num_atoms\"]\n",
      "/tmp/ipykernel_4936/404896553.py:3: PerformanceWarning: DataFrame is highly fragmented.  This is usually the result of calling `frame.insert` many times, which has poor performance.  Consider joining all columns at once using pd.concat(axis=1) instead. To get a de-fragmented frame, use `newframe = frame.copy()`\n",
      "  db_conf_filled[f\"FQD_{num}_{prop}_per_atom\"] = db_conf_filled[f\"FQD_{num}_{prop}\"] / db_conf_filled[\"num_atoms\"]\n",
      "/tmp/ipykernel_4936/404896553.py:3: PerformanceWarning: DataFrame is highly fragmented.  This is usually the result of calling `frame.insert` many times, which has poor performance.  Consider joining all columns at once using pd.concat(axis=1) instead. To get a de-fragmented frame, use `newframe = frame.copy()`\n",
      "  db_conf_filled[f\"FQD_{num}_{prop}_per_atom\"] = db_conf_filled[f\"FQD_{num}_{prop}\"] / db_conf_filled[\"num_atoms\"]\n",
      "/tmp/ipykernel_4936/404896553.py:3: PerformanceWarning: DataFrame is highly fragmented.  This is usually the result of calling `frame.insert` many times, which has poor performance.  Consider joining all columns at once using pd.concat(axis=1) instead. To get a de-fragmented frame, use `newframe = frame.copy()`\n",
      "  db_conf_filled[f\"FQD_{num}_{prop}_per_atom\"] = db_conf_filled[f\"FQD_{num}_{prop}\"] / db_conf_filled[\"num_atoms\"]\n",
      "/tmp/ipykernel_4936/404896553.py:3: PerformanceWarning: DataFrame is highly fragmented.  This is usually the result of calling `frame.insert` many times, which has poor performance.  Consider joining all columns at once using pd.concat(axis=1) instead. To get a de-fragmented frame, use `newframe = frame.copy()`\n",
      "  db_conf_filled[f\"FQD_{num}_{prop}_per_atom\"] = db_conf_filled[f\"FQD_{num}_{prop}\"] / db_conf_filled[\"num_atoms\"]\n",
      "/tmp/ipykernel_4936/404896553.py:3: PerformanceWarning: DataFrame is highly fragmented.  This is usually the result of calling `frame.insert` many times, which has poor performance.  Consider joining all columns at once using pd.concat(axis=1) instead. To get a de-fragmented frame, use `newframe = frame.copy()`\n",
      "  db_conf_filled[f\"FQD_{num}_{prop}_per_atom\"] = db_conf_filled[f\"FQD_{num}_{prop}\"] / db_conf_filled[\"num_atoms\"]\n",
      "/tmp/ipykernel_4936/404896553.py:3: PerformanceWarning: DataFrame is highly fragmented.  This is usually the result of calling `frame.insert` many times, which has poor performance.  Consider joining all columns at once using pd.concat(axis=1) instead. To get a de-fragmented frame, use `newframe = frame.copy()`\n",
      "  db_conf_filled[f\"FQD_{num}_{prop}_per_atom\"] = db_conf_filled[f\"FQD_{num}_{prop}\"] / db_conf_filled[\"num_atoms\"]\n",
      "/tmp/ipykernel_4936/404896553.py:3: PerformanceWarning: DataFrame is highly fragmented.  This is usually the result of calling `frame.insert` many times, which has poor performance.  Consider joining all columns at once using pd.concat(axis=1) instead. To get a de-fragmented frame, use `newframe = frame.copy()`\n",
      "  db_conf_filled[f\"FQD_{num}_{prop}_per_atom\"] = db_conf_filled[f\"FQD_{num}_{prop}\"] / db_conf_filled[\"num_atoms\"]\n",
      "/tmp/ipykernel_4936/404896553.py:3: PerformanceWarning: DataFrame is highly fragmented.  This is usually the result of calling `frame.insert` many times, which has poor performance.  Consider joining all columns at once using pd.concat(axis=1) instead. To get a de-fragmented frame, use `newframe = frame.copy()`\n",
      "  db_conf_filled[f\"FQD_{num}_{prop}_per_atom\"] = db_conf_filled[f\"FQD_{num}_{prop}\"] / db_conf_filled[\"num_atoms\"]\n",
      "/tmp/ipykernel_4936/404896553.py:3: PerformanceWarning: DataFrame is highly fragmented.  This is usually the result of calling `frame.insert` many times, which has poor performance.  Consider joining all columns at once using pd.concat(axis=1) instead. To get a de-fragmented frame, use `newframe = frame.copy()`\n",
      "  db_conf_filled[f\"FQD_{num}_{prop}_per_atom\"] = db_conf_filled[f\"FQD_{num}_{prop}\"] / db_conf_filled[\"num_atoms\"]\n",
      "/tmp/ipykernel_4936/404896553.py:3: PerformanceWarning: DataFrame is highly fragmented.  This is usually the result of calling `frame.insert` many times, which has poor performance.  Consider joining all columns at once using pd.concat(axis=1) instead. To get a de-fragmented frame, use `newframe = frame.copy()`\n",
      "  db_conf_filled[f\"FQD_{num}_{prop}_per_atom\"] = db_conf_filled[f\"FQD_{num}_{prop}\"] / db_conf_filled[\"num_atoms\"]\n",
      "/tmp/ipykernel_4936/404896553.py:3: PerformanceWarning: DataFrame is highly fragmented.  This is usually the result of calling `frame.insert` many times, which has poor performance.  Consider joining all columns at once using pd.concat(axis=1) instead. To get a de-fragmented frame, use `newframe = frame.copy()`\n",
      "  db_conf_filled[f\"FQD_{num}_{prop}_per_atom\"] = db_conf_filled[f\"FQD_{num}_{prop}\"] / db_conf_filled[\"num_atoms\"]\n",
      "/tmp/ipykernel_4936/404896553.py:3: PerformanceWarning: DataFrame is highly fragmented.  This is usually the result of calling `frame.insert` many times, which has poor performance.  Consider joining all columns at once using pd.concat(axis=1) instead. To get a de-fragmented frame, use `newframe = frame.copy()`\n",
      "  db_conf_filled[f\"FQD_{num}_{prop}_per_atom\"] = db_conf_filled[f\"FQD_{num}_{prop}\"] / db_conf_filled[\"num_atoms\"]\n",
      "/tmp/ipykernel_4936/404896553.py:3: PerformanceWarning: DataFrame is highly fragmented.  This is usually the result of calling `frame.insert` many times, which has poor performance.  Consider joining all columns at once using pd.concat(axis=1) instead. To get a de-fragmented frame, use `newframe = frame.copy()`\n",
      "  db_conf_filled[f\"FQD_{num}_{prop}_per_atom\"] = db_conf_filled[f\"FQD_{num}_{prop}\"] / db_conf_filled[\"num_atoms\"]\n",
      "/tmp/ipykernel_4936/404896553.py:3: PerformanceWarning: DataFrame is highly fragmented.  This is usually the result of calling `frame.insert` many times, which has poor performance.  Consider joining all columns at once using pd.concat(axis=1) instead. To get a de-fragmented frame, use `newframe = frame.copy()`\n",
      "  db_conf_filled[f\"FQD_{num}_{prop}_per_atom\"] = db_conf_filled[f\"FQD_{num}_{prop}\"] / db_conf_filled[\"num_atoms\"]\n",
      "/tmp/ipykernel_4936/404896553.py:3: PerformanceWarning: DataFrame is highly fragmented.  This is usually the result of calling `frame.insert` many times, which has poor performance.  Consider joining all columns at once using pd.concat(axis=1) instead. To get a de-fragmented frame, use `newframe = frame.copy()`\n",
      "  db_conf_filled[f\"FQD_{num}_{prop}_per_atom\"] = db_conf_filled[f\"FQD_{num}_{prop}\"] / db_conf_filled[\"num_atoms\"]\n",
      "/tmp/ipykernel_4936/404896553.py:3: PerformanceWarning: DataFrame is highly fragmented.  This is usually the result of calling `frame.insert` many times, which has poor performance.  Consider joining all columns at once using pd.concat(axis=1) instead. To get a de-fragmented frame, use `newframe = frame.copy()`\n",
      "  db_conf_filled[f\"FQD_{num}_{prop}_per_atom\"] = db_conf_filled[f\"FQD_{num}_{prop}\"] / db_conf_filled[\"num_atoms\"]\n",
      "/tmp/ipykernel_4936/404896553.py:3: PerformanceWarning: DataFrame is highly fragmented.  This is usually the result of calling `frame.insert` many times, which has poor performance.  Consider joining all columns at once using pd.concat(axis=1) instead. To get a de-fragmented frame, use `newframe = frame.copy()`\n",
      "  db_conf_filled[f\"FQD_{num}_{prop}_per_atom\"] = db_conf_filled[f\"FQD_{num}_{prop}\"] / db_conf_filled[\"num_atoms\"]\n",
      "/tmp/ipykernel_4936/404896553.py:3: PerformanceWarning: DataFrame is highly fragmented.  This is usually the result of calling `frame.insert` many times, which has poor performance.  Consider joining all columns at once using pd.concat(axis=1) instead. To get a de-fragmented frame, use `newframe = frame.copy()`\n",
      "  db_conf_filled[f\"FQD_{num}_{prop}_per_atom\"] = db_conf_filled[f\"FQD_{num}_{prop}\"] / db_conf_filled[\"num_atoms\"]\n",
      "/tmp/ipykernel_4936/404896553.py:3: PerformanceWarning: DataFrame is highly fragmented.  This is usually the result of calling `frame.insert` many times, which has poor performance.  Consider joining all columns at once using pd.concat(axis=1) instead. To get a de-fragmented frame, use `newframe = frame.copy()`\n",
      "  db_conf_filled[f\"FQD_{num}_{prop}_per_atom\"] = db_conf_filled[f\"FQD_{num}_{prop}\"] / db_conf_filled[\"num_atoms\"]\n",
      "/tmp/ipykernel_4936/404896553.py:3: PerformanceWarning: DataFrame is highly fragmented.  This is usually the result of calling `frame.insert` many times, which has poor performance.  Consider joining all columns at once using pd.concat(axis=1) instead. To get a de-fragmented frame, use `newframe = frame.copy()`\n",
      "  db_conf_filled[f\"FQD_{num}_{prop}_per_atom\"] = db_conf_filled[f\"FQD_{num}_{prop}\"] / db_conf_filled[\"num_atoms\"]\n",
      "/tmp/ipykernel_4936/404896553.py:3: PerformanceWarning: DataFrame is highly fragmented.  This is usually the result of calling `frame.insert` many times, which has poor performance.  Consider joining all columns at once using pd.concat(axis=1) instead. To get a de-fragmented frame, use `newframe = frame.copy()`\n",
      "  db_conf_filled[f\"FQD_{num}_{prop}_per_atom\"] = db_conf_filled[f\"FQD_{num}_{prop}\"] / db_conf_filled[\"num_atoms\"]\n",
      "/tmp/ipykernel_4936/404896553.py:3: PerformanceWarning: DataFrame is highly fragmented.  This is usually the result of calling `frame.insert` many times, which has poor performance.  Consider joining all columns at once using pd.concat(axis=1) instead. To get a de-fragmented frame, use `newframe = frame.copy()`\n",
      "  db_conf_filled[f\"FQD_{num}_{prop}_per_atom\"] = db_conf_filled[f\"FQD_{num}_{prop}\"] / db_conf_filled[\"num_atoms\"]\n",
      "/tmp/ipykernel_4936/404896553.py:3: PerformanceWarning: DataFrame is highly fragmented.  This is usually the result of calling `frame.insert` many times, which has poor performance.  Consider joining all columns at once using pd.concat(axis=1) instead. To get a de-fragmented frame, use `newframe = frame.copy()`\n",
      "  db_conf_filled[f\"FQD_{num}_{prop}_per_atom\"] = db_conf_filled[f\"FQD_{num}_{prop}\"] / db_conf_filled[\"num_atoms\"]\n",
      "/tmp/ipykernel_4936/404896553.py:3: PerformanceWarning: DataFrame is highly fragmented.  This is usually the result of calling `frame.insert` many times, which has poor performance.  Consider joining all columns at once using pd.concat(axis=1) instead. To get a de-fragmented frame, use `newframe = frame.copy()`\n",
      "  db_conf_filled[f\"FQD_{num}_{prop}_per_atom\"] = db_conf_filled[f\"FQD_{num}_{prop}\"] / db_conf_filled[\"num_atoms\"]\n",
      "/tmp/ipykernel_4936/404896553.py:3: PerformanceWarning: DataFrame is highly fragmented.  This is usually the result of calling `frame.insert` many times, which has poor performance.  Consider joining all columns at once using pd.concat(axis=1) instead. To get a de-fragmented frame, use `newframe = frame.copy()`\n",
      "  db_conf_filled[f\"FQD_{num}_{prop}_per_atom\"] = db_conf_filled[f\"FQD_{num}_{prop}\"] / db_conf_filled[\"num_atoms\"]\n",
      "/tmp/ipykernel_4936/404896553.py:3: PerformanceWarning: DataFrame is highly fragmented.  This is usually the result of calling `frame.insert` many times, which has poor performance.  Consider joining all columns at once using pd.concat(axis=1) instead. To get a de-fragmented frame, use `newframe = frame.copy()`\n",
      "  db_conf_filled[f\"FQD_{num}_{prop}_per_atom\"] = db_conf_filled[f\"FQD_{num}_{prop}\"] / db_conf_filled[\"num_atoms\"]\n",
      "/tmp/ipykernel_4936/404896553.py:3: PerformanceWarning: DataFrame is highly fragmented.  This is usually the result of calling `frame.insert` many times, which has poor performance.  Consider joining all columns at once using pd.concat(axis=1) instead. To get a de-fragmented frame, use `newframe = frame.copy()`\n",
      "  db_conf_filled[f\"FQD_{num}_{prop}_per_atom\"] = db_conf_filled[f\"FQD_{num}_{prop}\"] / db_conf_filled[\"num_atoms\"]\n",
      "/tmp/ipykernel_4936/404896553.py:3: PerformanceWarning: DataFrame is highly fragmented.  This is usually the result of calling `frame.insert` many times, which has poor performance.  Consider joining all columns at once using pd.concat(axis=1) instead. To get a de-fragmented frame, use `newframe = frame.copy()`\n",
      "  db_conf_filled[f\"FQD_{num}_{prop}_per_atom\"] = db_conf_filled[f\"FQD_{num}_{prop}\"] / db_conf_filled[\"num_atoms\"]\n",
      "/tmp/ipykernel_4936/404896553.py:3: PerformanceWarning: DataFrame is highly fragmented.  This is usually the result of calling `frame.insert` many times, which has poor performance.  Consider joining all columns at once using pd.concat(axis=1) instead. To get a de-fragmented frame, use `newframe = frame.copy()`\n",
      "  db_conf_filled[f\"FQD_{num}_{prop}_per_atom\"] = db_conf_filled[f\"FQD_{num}_{prop}\"] / db_conf_filled[\"num_atoms\"]\n",
      "/tmp/ipykernel_4936/404896553.py:3: PerformanceWarning: DataFrame is highly fragmented.  This is usually the result of calling `frame.insert` many times, which has poor performance.  Consider joining all columns at once using pd.concat(axis=1) instead. To get a de-fragmented frame, use `newframe = frame.copy()`\n",
      "  db_conf_filled[f\"FQD_{num}_{prop}_per_atom\"] = db_conf_filled[f\"FQD_{num}_{prop}\"] / db_conf_filled[\"num_atoms\"]\n",
      "/tmp/ipykernel_4936/404896553.py:3: PerformanceWarning: DataFrame is highly fragmented.  This is usually the result of calling `frame.insert` many times, which has poor performance.  Consider joining all columns at once using pd.concat(axis=1) instead. To get a de-fragmented frame, use `newframe = frame.copy()`\n",
      "  db_conf_filled[f\"FQD_{num}_{prop}_per_atom\"] = db_conf_filled[f\"FQD_{num}_{prop}\"] / db_conf_filled[\"num_atoms\"]\n",
      "/tmp/ipykernel_4936/404896553.py:3: PerformanceWarning: DataFrame is highly fragmented.  This is usually the result of calling `frame.insert` many times, which has poor performance.  Consider joining all columns at once using pd.concat(axis=1) instead. To get a de-fragmented frame, use `newframe = frame.copy()`\n",
      "  db_conf_filled[f\"FQD_{num}_{prop}_per_atom\"] = db_conf_filled[f\"FQD_{num}_{prop}\"] / db_conf_filled[\"num_atoms\"]\n",
      "/tmp/ipykernel_4936/404896553.py:3: PerformanceWarning: DataFrame is highly fragmented.  This is usually the result of calling `frame.insert` many times, which has poor performance.  Consider joining all columns at once using pd.concat(axis=1) instead. To get a de-fragmented frame, use `newframe = frame.copy()`\n",
      "  db_conf_filled[f\"FQD_{num}_{prop}_per_atom\"] = db_conf_filled[f\"FQD_{num}_{prop}\"] / db_conf_filled[\"num_atoms\"]\n",
      "/tmp/ipykernel_4936/404896553.py:3: PerformanceWarning: DataFrame is highly fragmented.  This is usually the result of calling `frame.insert` many times, which has poor performance.  Consider joining all columns at once using pd.concat(axis=1) instead. To get a de-fragmented frame, use `newframe = frame.copy()`\n",
      "  db_conf_filled[f\"FQD_{num}_{prop}_per_atom\"] = db_conf_filled[f\"FQD_{num}_{prop}\"] / db_conf_filled[\"num_atoms\"]\n"
     ]
    }
   ],
   "source": [
    "# for prop in qprops:\n",
    "#     for num in range(2, 10):\n",
    "#         db_conf_filled[f\"FQD_{num}_{prop}_per_atom\"] = db_conf_filled[f\"FQD_{num}_{prop}\"] / db_conf_filled[\"num_atoms\"]"
   ]
  },
  {
   "cell_type": "markdown",
   "id": "17372345-9e6c-4beb-94c8-7e9fd9aaf8a9",
   "metadata": {},
   "source": [
    "# Quant FQDs"
   ]
  },
  {
   "cell_type": "code",
   "execution_count": 18,
   "id": "2578151c-6e06-4816-94ae-74922b9a86c4",
   "metadata": {
    "tags": []
   },
   "outputs": [],
   "source": [
    "for prop in qprops:\n",
    "    for num in range(2, 10):\n",
    "        db_conf_filled[f\"quant_FQD_{num}_{prop}\"] = db_conf_filled[\"mol\"].apply(lambda x: calculate_FQDs_quant(x,\n",
    "                                                                          indices=db_conf_filled[db_conf_filled[\"mol\"]==x][f\"FQD_{num}\"].iloc[0],\n",
    "                                                                          patterns_db=qm9,\n",
    "                                                                          quantum_property=prop)\n",
    "                                                                         )"
   ]
  },
  {
   "cell_type": "code",
   "execution_count": 19,
   "id": "0769735f-14c6-4c2d-9928-e10cdc74c650",
   "metadata": {},
   "outputs": [],
   "source": [
    "for prop in qprops:\n",
    "    for num in range(2, 10):\n",
    "        db_conf_filled[f\"quant_FQD_{num}_{prop}_per_atom\"] = db_conf_filled[f\"quant_FQD_{num}_{prop}\"] / db_conf_filled[\"num_atoms\"]"
   ]
  },
  {
   "cell_type": "code",
   "execution_count": 20,
   "id": "cee89f57-00e7-4db4-a18c-dc567f04e035",
   "metadata": {},
   "outputs": [],
   "source": [
    "import itertools\n",
    "fqd_cols_qual = []\n",
    "for num, prop in itertools.product(range(2,10), qprops):\n",
    "    fqd_cols_qual.append(f\"FQD_{num}_{prop}\")\n",
    "fqd_cols_qual_per_atom = [f\"{x}_per_atom\" for x in fqd_cols_qual]\n",
    "quant_fqd_cols = [f\"quant_{x}\" for x in fqd_cols_qual]\n",
    "quant_fqd_cols_per_atom = [f\"quant_{x}\" for x in fqd_cols_qual_per_atom]"
   ]
  },
  {
   "cell_type": "code",
   "execution_count": 21,
   "id": "76d25f24-5022-478a-bc72-9a4897ae9c27",
   "metadata": {
    "tags": []
   },
   "outputs": [
    {
     "data": {
      "text/plain": [
       "Index(['FQD_2_mu', 'FQD_3_mu', 'FQD_4_mu', 'FQD_5_mu', 'FQD_6_mu', 'FQD_7_mu',\n",
       "       'FQD_8_mu', 'FQD_9_mu', 'FQD_2_alpha', 'FQD_3_alpha',\n",
       "       ...\n",
       "       'quant_FQD_8_g298_per_atom', 'quant_FQD_9_g298_per_atom',\n",
       "       'quant_FQD_2_cv_per_atom', 'quant_FQD_3_cv_per_atom',\n",
       "       'quant_FQD_4_cv_per_atom', 'quant_FQD_5_cv_per_atom',\n",
       "       'quant_FQD_6_cv_per_atom', 'quant_FQD_7_cv_per_atom',\n",
       "       'quant_FQD_8_cv_per_atom', 'quant_FQD_9_cv_per_atom'],\n",
       "      dtype='object', length=352)"
      ]
     },
     "execution_count": 21,
     "metadata": {},
     "output_type": "execute_result"
    }
   ],
   "source": [
    "db_conf_filled.columns[15:]"
   ]
  },
  {
   "cell_type": "code",
   "execution_count": 22,
   "id": "ed370073-4daf-465f-a272-cbd42e734f87",
   "metadata": {
    "tags": []
   },
   "outputs": [],
   "source": [
    "cols = db_conf_filled.columns[15:]"
   ]
  },
  {
   "cell_type": "markdown",
   "id": "68ec8520-5c31-463d-ba50-1d3224e94a5f",
   "metadata": {},
   "source": [
    "# Fill with zeros"
   ]
  },
  {
   "cell_type": "code",
   "execution_count": 23,
   "id": "89870941-3e76-4b3b-9943-de0bfbfad8cd",
   "metadata": {},
   "outputs": [],
   "source": [
    "# x = db_conf_filled[cols].fillna(0)\n",
    "# y = db_conf_filled[\"class_encoded\"]"
   ]
  },
  {
   "cell_type": "code",
   "execution_count": 24,
   "id": "47456db1-9c31-42f9-a59e-1666868cf34c",
   "metadata": {},
   "outputs": [],
   "source": [
    "x = db_conf_filled[cols]\n",
    "y = db_conf_filled[\"class_encoded\"]"
   ]
  },
  {
   "cell_type": "markdown",
   "id": "2a6cf454-0177-4d0d-90b6-64793ef5a9e3",
   "metadata": {},
   "source": [
    "# OOB dataset creation"
   ]
  },
  {
   "cell_type": "code",
   "execution_count": 25,
   "id": "2652cea4-d4d0-44d1-8d44-cf0bd0ba3e6e",
   "metadata": {
    "tags": []
   },
   "outputs": [],
   "source": [
    "from sklearn.utils import resample"
   ]
  },
  {
   "cell_type": "code",
   "execution_count": 26,
   "id": "8b7493c9-baf9-4662-b176-d61c2bc2cfc3",
   "metadata": {
    "tags": []
   },
   "outputs": [],
   "source": [
    "res_x, res_y = resample(x, y, replace=False, n_samples=526, stratify=y, random_state=1)\n",
    "oob_idx = set(x.index).difference(set(res_x.index))"
   ]
  },
  {
   "cell_type": "code",
   "execution_count": 27,
   "id": "a1f9c903-f6e4-4a6e-9f2f-96d4123cadd0",
   "metadata": {
    "tags": []
   },
   "outputs": [
    {
     "data": {
      "text/plain": [
       "330"
      ]
     },
     "execution_count": 27,
     "metadata": {},
     "output_type": "execute_result"
    }
   ],
   "source": [
    "len(oob_idx)"
   ]
  },
  {
   "cell_type": "code",
   "execution_count": 28,
   "id": "d3554046-b608-4e98-86ee-53f1e2a62bcd",
   "metadata": {
    "tags": []
   },
   "outputs": [],
   "source": [
    "oob_x, oob_y = x.loc[list(oob_idx)], y.loc[list(oob_idx)]"
   ]
  },
  {
   "cell_type": "code",
   "execution_count": 29,
   "id": "99cce0c7-1372-4974-9245-1a92c3e8eeb5",
   "metadata": {},
   "outputs": [],
   "source": [
    "x, y = res_x, res_y"
   ]
  },
  {
   "cell_type": "code",
   "execution_count": 30,
   "id": "75f96167-71f2-4f52-ac39-997ef9b9dbed",
   "metadata": {},
   "outputs": [
    {
     "data": {
      "text/plain": [
       "0    411\n",
       "1    115\n",
       "Name: class_encoded, dtype: int64"
      ]
     },
     "execution_count": 30,
     "metadata": {},
     "output_type": "execute_result"
    }
   ],
   "source": [
    "y.value_counts()"
   ]
  },
  {
   "cell_type": "code",
   "execution_count": 31,
   "id": "fa93a4ec-d911-4bc4-861c-91fc202c7641",
   "metadata": {},
   "outputs": [
    {
     "data": {
      "text/plain": [
       "0    258\n",
       "1     72\n",
       "Name: class_encoded, dtype: int64"
      ]
     },
     "execution_count": 31,
     "metadata": {},
     "output_type": "execute_result"
    }
   ],
   "source": [
    "oob_y.value_counts()"
   ]
  },
  {
   "cell_type": "markdown",
   "id": "7836d48b-b2e1-40d2-85e7-0e01391b1a4f",
   "metadata": {},
   "source": [
    "## Balancing data"
   ]
  },
  {
   "cell_type": "code",
   "execution_count": 32,
   "id": "16b9a2fe-c940-49fa-94a8-648af4cd8fe4",
   "metadata": {},
   "outputs": [],
   "source": [
    "from imblearn.over_sampling import SMOTE, RandomOverSampler"
   ]
  },
  {
   "cell_type": "code",
   "execution_count": 33,
   "id": "9e3f301f-5562-4994-951d-2e2b7d844475",
   "metadata": {
    "tags": []
   },
   "outputs": [],
   "source": [
    "# oversample = SMOTE(random_state=1)\n",
    "# oversample = RandomOverSampler(random_state=1)\n",
    "# xx, yy = oversample.fit_resample(x, y)\n",
    "# xx, yy = xx.sample(frac=1, random_state=1), yy.sample(frac=1, random_state=1)"
   ]
  },
  {
   "cell_type": "code",
   "execution_count": 34,
   "id": "33b5afc4-c7aa-4af0-99af-a72189176c0e",
   "metadata": {},
   "outputs": [],
   "source": [
    "# yy.value_counts()"
   ]
  },
  {
   "cell_type": "markdown",
   "id": "9c1eab12-38e1-4269-9bd8-5f332cc04143",
   "metadata": {},
   "source": [
    "# Modelling"
   ]
  },
  {
   "cell_type": "markdown",
   "id": "81538f8a-d493-45f9-9a5b-68d22bf2dbb0",
   "metadata": {},
   "source": [
    "# Pipeline creation"
   ]
  },
  {
   "cell_type": "code",
   "execution_count": 35,
   "id": "d2d89e82-6364-4f84-bba9-3f7986de8ed8",
   "metadata": {},
   "outputs": [],
   "source": [
    "from sklearn.preprocessing import StandardScaler\n",
    "from sklearn.pipeline import Pipeline\n",
    "from sklearn.decomposition import PCA"
   ]
  },
  {
   "cell_type": "code",
   "execution_count": 36,
   "id": "c19191bd-2155-427c-8f31-9be2eef607d5",
   "metadata": {
    "tags": []
   },
   "outputs": [],
   "source": [
    "pca = PCA(n_components=0.95)"
   ]
  },
  {
   "cell_type": "code",
   "execution_count": 37,
   "id": "0a5bacbb-500a-445c-b21b-0e31fc95cbc3",
   "metadata": {},
   "outputs": [],
   "source": [
    "def get_pipeline(name: str, calla):\n",
    "    return Pipeline([\n",
    "        (\"std_scaler\", StandardScaler()),\n",
    "        # (\"pca\", pca),\n",
    "        (name, calla)\n",
    "    ])"
   ]
  },
  {
   "cell_type": "code",
   "execution_count": 38,
   "id": "8ee99023-e533-49d7-9fbe-9d09617908b2",
   "metadata": {},
   "outputs": [],
   "source": [
    "from sklearn.linear_model import LogisticRegression\n",
    "from sklearn.model_selection import cross_val_score\n",
    "from sklearn.metrics import f1_score, balanced_accuracy_score\n",
    "from sklearn.ensemble import RandomForestClassifier, GradientBoostingClassifier, HistGradientBoostingClassifier\n",
    "from sklearn.svm import SVC\n",
    "from sklearn.neighbors import KNeighborsClassifier\n",
    "from sklearn.dummy import DummyClassifier\n",
    "import xgboost as xgb\n",
    "import lightgbm as lgb"
   ]
  },
  {
   "cell_type": "code",
   "execution_count": 39,
   "id": "5be6fcd4-0230-4537-a000-181a33b3506b",
   "metadata": {},
   "outputs": [],
   "source": [
    "scor_dict = {\"algorithm\": [],\n",
    "            \"balanced_accuracy\": [],\n",
    "            \"f1 score\": []}"
   ]
  },
  {
   "cell_type": "code",
   "execution_count": 40,
   "id": "8a8814c8-2dbe-4c6f-b419-ad9c8d87fbbc",
   "metadata": {},
   "outputs": [],
   "source": [
    "from sklearn.model_selection import StratifiedKFold\n",
    "\n",
    "def my_score(model, n_folds, scoring_callable, X, Y):\n",
    "    scores = []\n",
    "    cv = StratifiedKFold(n_folds)\n",
    "    oversampler = RandomOverSampler(random_state=1)\n",
    "    scaler = StandardScaler()\n",
    "    \n",
    "\n",
    "    for train_index, validation_index in cv.split(X, Y):\n",
    "        x, y = X.iloc[train_index], Y.iloc[train_index]\n",
    "        xx, yy = oversampler.fit_resample(x, y)\n",
    "        xx, yy = xx.sample(frac=1, random_state=1), yy.sample(frac=1, random_state=1)\n",
    "        xx = scaler.fit_transform(xx)\n",
    "        model.fit(xx, yy)\n",
    "        x_val = scaler.transform(X.iloc[validation_index])\n",
    "        score = scoring_callable(Y.iloc[validation_index], model.predict(x_val))\n",
    "        print(score)\n",
    "        scores.append(score)\n",
    "    \n",
    "    return scores"
   ]
  },
  {
   "cell_type": "markdown",
   "id": "53ee1392-1884-47c4-b0c9-0dac1f69b3ff",
   "metadata": {
    "tags": []
   },
   "source": [
    "### Baseline"
   ]
  },
  {
   "cell_type": "code",
   "execution_count": 41,
   "id": "62c115c2-e917-466b-be21-b4e59e4ae54e",
   "metadata": {},
   "outputs": [],
   "source": [
    "scor_dict[\"algorithm\"].extend([\"Baseline\"]*5)"
   ]
  },
  {
   "cell_type": "code",
   "execution_count": 42,
   "id": "a6045197-97e5-420f-8d4c-5ca12262c168",
   "metadata": {},
   "outputs": [],
   "source": [
    "dum = DummyClassifier(strategy=\"uniform\", random_state=1)"
   ]
  },
  {
   "cell_type": "code",
   "execution_count": 43,
   "id": "5d827d92-e7ca-490e-b8bf-f1a0531de7fa",
   "metadata": {},
   "outputs": [
    {
     "name": "stdout",
     "output_type": "stream",
     "text": [
      "0.48376113148245153\n",
      "0.5082184517497349\n",
      "0.5082184517497349\n",
      "0.4247083775185578\n",
      "0.5082184517497349\n"
     ]
    }
   ],
   "source": [
    "scores = my_score(dum, 5, balanced_accuracy_score, x, y)"
   ]
  },
  {
   "cell_type": "code",
   "execution_count": 44,
   "id": "523de756-cba8-48d0-8f94-e6e2371633da",
   "metadata": {},
   "outputs": [],
   "source": [
    "scor_dict[\"balanced_accuracy\"].extend(list(scores))"
   ]
  },
  {
   "cell_type": "code",
   "execution_count": 45,
   "id": "cd0b5475-9c90-4042-9f52-d9138eeb3c45",
   "metadata": {},
   "outputs": [
    {
     "name": "stdout",
     "output_type": "stream",
     "text": [
      "0.2962962962962963\n",
      "0.32098765432098764\n",
      "0.32098765432098764\n",
      "0.24691358024691357\n",
      "0.32098765432098764\n"
     ]
    }
   ],
   "source": [
    "scores = my_score(dum, 5, f1_score, x, y)"
   ]
  },
  {
   "cell_type": "code",
   "execution_count": 46,
   "id": "082cd8ee-2b41-44df-93b7-b9e69a47761d",
   "metadata": {},
   "outputs": [],
   "source": [
    "scor_dict[\"f1 score\"].extend(list(scores))"
   ]
  },
  {
   "cell_type": "markdown",
   "id": "c5263e5c-a039-4f13-80ce-3966dde98b30",
   "metadata": {},
   "source": [
    "### XGBoost"
   ]
  },
  {
   "cell_type": "code",
   "execution_count": 47,
   "id": "54bdb2eb-3ed4-4a17-8de1-7b65ed1f8174",
   "metadata": {},
   "outputs": [],
   "source": [
    "scor_dict[\"algorithm\"].extend([\"XGBoost\"]*5)"
   ]
  },
  {
   "cell_type": "code",
   "execution_count": 48,
   "id": "aed1a031-f634-4639-b77c-a41586b06722",
   "metadata": {},
   "outputs": [],
   "source": [
    "xgbc = xgb.XGBClassifier(n_estimators=1000, random_state=1)"
   ]
  },
  {
   "cell_type": "code",
   "execution_count": 49,
   "id": "6ec4dc20-9f92-4827-8ffa-559ec7c381df",
   "metadata": {},
   "outputs": [
    {
     "name": "stdout",
     "output_type": "stream",
     "text": [
      "0.7778941854374017\n",
      "0.8112407211028632\n",
      "0.7059915164369035\n",
      "0.6903499469777307\n",
      "0.7216330858960763\n"
     ]
    }
   ],
   "source": [
    "scores = my_score(xgbc, 5, balanced_accuracy_score, x, y)"
   ]
  },
  {
   "cell_type": "code",
   "execution_count": 50,
   "id": "1f0759ca-01e4-4ab7-94b3-08bad6a1a240",
   "metadata": {},
   "outputs": [],
   "source": [
    "scor_dict[\"balanced_accuracy\"].extend(list(scores))"
   ]
  },
  {
   "cell_type": "code",
   "execution_count": 51,
   "id": "986aaac3-2eec-48ec-841f-62c3cc8d61f9",
   "metadata": {},
   "outputs": [
    {
     "name": "stdout",
     "output_type": "stream",
     "text": [
      "0.6521739130434783\n",
      "0.711111111111111\n",
      "0.5454545454545454\n",
      "0.5238095238095238\n",
      "0.5652173913043478\n"
     ]
    }
   ],
   "source": [
    "scores = my_score(xgbc, 5, f1_score, x, y)"
   ]
  },
  {
   "cell_type": "code",
   "execution_count": 52,
   "id": "7964a520-75e0-4b60-b6a2-1efd388f7483",
   "metadata": {},
   "outputs": [],
   "source": [
    "scor_dict[\"f1 score\"].extend(list(scores))"
   ]
  },
  {
   "cell_type": "markdown",
   "id": "a90c0f96-71df-40ba-9740-2384ec870634",
   "metadata": {},
   "source": [
    "### Light GBM"
   ]
  },
  {
   "cell_type": "code",
   "execution_count": 53,
   "id": "a7c2603c-534f-47ce-a472-6264600432ba",
   "metadata": {},
   "outputs": [],
   "source": [
    "scor_dict[\"algorithm\"].extend([\"Light GBM\"]*5)"
   ]
  },
  {
   "cell_type": "code",
   "execution_count": 54,
   "id": "6f2896f6-e248-40be-9a6d-461911d2f18c",
   "metadata": {},
   "outputs": [],
   "source": [
    "lgbc = lgb.LGBMClassifier(n_estimators=1000, random_state=1)"
   ]
  },
  {
   "cell_type": "code",
   "execution_count": 55,
   "id": "a8345ede-ee33-4589-8efb-833a0119ab80",
   "metadata": {},
   "outputs": [
    {
     "name": "stdout",
     "output_type": "stream",
     "text": [
      "0.7682032477737035\n",
      "0.8329798515376459\n",
      "0.6468716861081655\n",
      "0.6686108165429481\n",
      "0.718186638388123\n"
     ]
    }
   ],
   "source": [
    "scores = my_score(lgbc, 5, balanced_accuracy_score, x, y)"
   ]
  },
  {
   "cell_type": "code",
   "execution_count": 56,
   "id": "5fa84829-60ce-4dcc-8e30-d7bdbc6beef9",
   "metadata": {},
   "outputs": [],
   "source": [
    "scor_dict[\"balanced_accuracy\"].extend(list(scores))"
   ]
  },
  {
   "cell_type": "code",
   "execution_count": 57,
   "id": "fc5320ae-b050-43d6-aae4-3f3aadae547c",
   "metadata": {},
   "outputs": [
    {
     "name": "stdout",
     "output_type": "stream",
     "text": [
      "0.6511627906976744\n",
      "0.7391304347826085\n",
      "0.45\n",
      "0.4878048780487805\n",
      "0.5714285714285715\n"
     ]
    }
   ],
   "source": [
    "scores = my_score(lgbc, 5, f1_score, x, y)"
   ]
  },
  {
   "cell_type": "code",
   "execution_count": 58,
   "id": "dceb8187-c492-4d97-bcbe-3a8294c575df",
   "metadata": {},
   "outputs": [],
   "source": [
    "scor_dict[\"f1 score\"].extend(list(scores))"
   ]
  },
  {
   "cell_type": "markdown",
   "id": "d8368385-be6a-4e84-839f-1ac0b721a912",
   "metadata": {},
   "source": [
    "### HistGBC"
   ]
  },
  {
   "cell_type": "code",
   "execution_count": 59,
   "id": "76dbfe5c-0a1e-47eb-916a-d573f5e86187",
   "metadata": {},
   "outputs": [],
   "source": [
    "scor_dict[\"algorithm\"].extend([\"HGBC\"]*5)"
   ]
  },
  {
   "cell_type": "code",
   "execution_count": 60,
   "id": "347ac234-26a7-4c55-a603-0a7ae5b4f1cc",
   "metadata": {},
   "outputs": [],
   "source": [
    "hgbc = HistGradientBoostingClassifier(random_state=1)"
   ]
  },
  {
   "cell_type": "code",
   "execution_count": 61,
   "id": "d9f1a9fc-e78f-4eb0-904a-792d6c14ab3e",
   "metadata": {},
   "outputs": [
    {
     "name": "stdout",
     "output_type": "stream",
     "text": [
      "0.7561550550026193\n",
      "0.8112407211028632\n",
      "0.7025450689289502\n",
      "0.7059915164369035\n",
      "0.7059915164369035\n"
     ]
    }
   ],
   "source": [
    "scores = my_score(hgbc, 5, balanced_accuracy_score, x, y)"
   ]
  },
  {
   "cell_type": "code",
   "execution_count": 62,
   "id": "1ac0987c-b702-4c82-b3ef-6eb3b53f29a4",
   "metadata": {},
   "outputs": [],
   "source": [
    "scor_dict[\"balanced_accuracy\"].extend(list(scores))"
   ]
  },
  {
   "cell_type": "code",
   "execution_count": 63,
   "id": "d8ef3e6a-7846-45f1-bc2b-1730055a3a45",
   "metadata": {},
   "outputs": [
    {
     "name": "stdout",
     "output_type": "stream",
     "text": [
      "0.6222222222222223\n",
      "0.711111111111111\n",
      "0.55\n",
      "0.5454545454545454\n",
      "0.5454545454545454\n"
     ]
    }
   ],
   "source": [
    "scores = my_score(hgbc, 5, f1_score, x, y)"
   ]
  },
  {
   "cell_type": "code",
   "execution_count": 64,
   "id": "d7ba6ea6-d503-429e-9d88-57c0a8fca536",
   "metadata": {},
   "outputs": [],
   "source": [
    "scor_dict[\"f1 score\"].extend(list(scores))"
   ]
  },
  {
   "cell_type": "markdown",
   "id": "3410e6a1-e82b-4447-ae60-0c8359498dfa",
   "metadata": {},
   "source": [
    "### Scores vis"
   ]
  },
  {
   "cell_type": "code",
   "execution_count": 65,
   "id": "faee80a1-076b-4539-a936-d83b94ad283a",
   "metadata": {
    "tags": []
   },
   "outputs": [
    {
     "data": {
      "text/html": [
       "<div>\n",
       "<style scoped>\n",
       "    .dataframe tbody tr th:only-of-type {\n",
       "        vertical-align: middle;\n",
       "    }\n",
       "\n",
       "    .dataframe tbody tr th {\n",
       "        vertical-align: top;\n",
       "    }\n",
       "\n",
       "    .dataframe thead th {\n",
       "        text-align: right;\n",
       "    }\n",
       "</style>\n",
       "<table border=\"1\" class=\"dataframe\">\n",
       "  <thead>\n",
       "    <tr style=\"text-align: right;\">\n",
       "      <th></th>\n",
       "      <th>algorithm</th>\n",
       "      <th>balanced_accuracy</th>\n",
       "      <th>f1 score</th>\n",
       "    </tr>\n",
       "  </thead>\n",
       "  <tbody>\n",
       "    <tr>\n",
       "      <th>0</th>\n",
       "      <td>Baseline</td>\n",
       "      <td>0.483761</td>\n",
       "      <td>0.296296</td>\n",
       "    </tr>\n",
       "    <tr>\n",
       "      <th>1</th>\n",
       "      <td>Baseline</td>\n",
       "      <td>0.508218</td>\n",
       "      <td>0.320988</td>\n",
       "    </tr>\n",
       "    <tr>\n",
       "      <th>2</th>\n",
       "      <td>Baseline</td>\n",
       "      <td>0.508218</td>\n",
       "      <td>0.320988</td>\n",
       "    </tr>\n",
       "    <tr>\n",
       "      <th>3</th>\n",
       "      <td>Baseline</td>\n",
       "      <td>0.424708</td>\n",
       "      <td>0.246914</td>\n",
       "    </tr>\n",
       "    <tr>\n",
       "      <th>4</th>\n",
       "      <td>Baseline</td>\n",
       "      <td>0.508218</td>\n",
       "      <td>0.320988</td>\n",
       "    </tr>\n",
       "    <tr>\n",
       "      <th>5</th>\n",
       "      <td>XGBoost</td>\n",
       "      <td>0.777894</td>\n",
       "      <td>0.652174</td>\n",
       "    </tr>\n",
       "    <tr>\n",
       "      <th>6</th>\n",
       "      <td>XGBoost</td>\n",
       "      <td>0.811241</td>\n",
       "      <td>0.711111</td>\n",
       "    </tr>\n",
       "    <tr>\n",
       "      <th>7</th>\n",
       "      <td>XGBoost</td>\n",
       "      <td>0.705992</td>\n",
       "      <td>0.545455</td>\n",
       "    </tr>\n",
       "    <tr>\n",
       "      <th>8</th>\n",
       "      <td>XGBoost</td>\n",
       "      <td>0.690350</td>\n",
       "      <td>0.523810</td>\n",
       "    </tr>\n",
       "    <tr>\n",
       "      <th>9</th>\n",
       "      <td>XGBoost</td>\n",
       "      <td>0.721633</td>\n",
       "      <td>0.565217</td>\n",
       "    </tr>\n",
       "    <tr>\n",
       "      <th>10</th>\n",
       "      <td>Light GBM</td>\n",
       "      <td>0.768203</td>\n",
       "      <td>0.651163</td>\n",
       "    </tr>\n",
       "    <tr>\n",
       "      <th>11</th>\n",
       "      <td>Light GBM</td>\n",
       "      <td>0.832980</td>\n",
       "      <td>0.739130</td>\n",
       "    </tr>\n",
       "    <tr>\n",
       "      <th>12</th>\n",
       "      <td>Light GBM</td>\n",
       "      <td>0.646872</td>\n",
       "      <td>0.450000</td>\n",
       "    </tr>\n",
       "    <tr>\n",
       "      <th>13</th>\n",
       "      <td>Light GBM</td>\n",
       "      <td>0.668611</td>\n",
       "      <td>0.487805</td>\n",
       "    </tr>\n",
       "    <tr>\n",
       "      <th>14</th>\n",
       "      <td>Light GBM</td>\n",
       "      <td>0.718187</td>\n",
       "      <td>0.571429</td>\n",
       "    </tr>\n",
       "    <tr>\n",
       "      <th>15</th>\n",
       "      <td>HGBC</td>\n",
       "      <td>0.756155</td>\n",
       "      <td>0.622222</td>\n",
       "    </tr>\n",
       "    <tr>\n",
       "      <th>16</th>\n",
       "      <td>HGBC</td>\n",
       "      <td>0.811241</td>\n",
       "      <td>0.711111</td>\n",
       "    </tr>\n",
       "    <tr>\n",
       "      <th>17</th>\n",
       "      <td>HGBC</td>\n",
       "      <td>0.702545</td>\n",
       "      <td>0.550000</td>\n",
       "    </tr>\n",
       "    <tr>\n",
       "      <th>18</th>\n",
       "      <td>HGBC</td>\n",
       "      <td>0.705992</td>\n",
       "      <td>0.545455</td>\n",
       "    </tr>\n",
       "    <tr>\n",
       "      <th>19</th>\n",
       "      <td>HGBC</td>\n",
       "      <td>0.705992</td>\n",
       "      <td>0.545455</td>\n",
       "    </tr>\n",
       "  </tbody>\n",
       "</table>\n",
       "</div>"
      ],
      "text/plain": [
       "    algorithm  balanced_accuracy  f1 score\n",
       "0    Baseline           0.483761  0.296296\n",
       "1    Baseline           0.508218  0.320988\n",
       "2    Baseline           0.508218  0.320988\n",
       "3    Baseline           0.424708  0.246914\n",
       "4    Baseline           0.508218  0.320988\n",
       "5     XGBoost           0.777894  0.652174\n",
       "6     XGBoost           0.811241  0.711111\n",
       "7     XGBoost           0.705992  0.545455\n",
       "8     XGBoost           0.690350  0.523810\n",
       "9     XGBoost           0.721633  0.565217\n",
       "10  Light GBM           0.768203  0.651163\n",
       "11  Light GBM           0.832980  0.739130\n",
       "12  Light GBM           0.646872  0.450000\n",
       "13  Light GBM           0.668611  0.487805\n",
       "14  Light GBM           0.718187  0.571429\n",
       "15       HGBC           0.756155  0.622222\n",
       "16       HGBC           0.811241  0.711111\n",
       "17       HGBC           0.702545  0.550000\n",
       "18       HGBC           0.705992  0.545455\n",
       "19       HGBC           0.705992  0.545455"
      ]
     },
     "execution_count": 65,
     "metadata": {},
     "output_type": "execute_result"
    }
   ],
   "source": [
    "scors = pd.DataFrame(scor_dict)\n",
    "scors"
   ]
  },
  {
   "cell_type": "code",
   "execution_count": 66,
   "id": "e40fd41a-8792-499d-a2bf-7535642aee38",
   "metadata": {
    "tags": []
   },
   "outputs": [
    {
     "data": {
      "text/html": [
       "<div>\n",
       "<style scoped>\n",
       "    .dataframe tbody tr th:only-of-type {\n",
       "        vertical-align: middle;\n",
       "    }\n",
       "\n",
       "    .dataframe tbody tr th {\n",
       "        vertical-align: top;\n",
       "    }\n",
       "\n",
       "    .dataframe thead th {\n",
       "        text-align: right;\n",
       "    }\n",
       "</style>\n",
       "<table border=\"1\" class=\"dataframe\">\n",
       "  <thead>\n",
       "    <tr style=\"text-align: right;\">\n",
       "      <th></th>\n",
       "      <th>algorithm</th>\n",
       "      <th>metric</th>\n",
       "      <th>value</th>\n",
       "    </tr>\n",
       "  </thead>\n",
       "  <tbody>\n",
       "    <tr>\n",
       "      <th>0</th>\n",
       "      <td>Baseline</td>\n",
       "      <td>balanced_accuracy</td>\n",
       "      <td>0.483761</td>\n",
       "    </tr>\n",
       "    <tr>\n",
       "      <th>1</th>\n",
       "      <td>Baseline</td>\n",
       "      <td>balanced_accuracy</td>\n",
       "      <td>0.508218</td>\n",
       "    </tr>\n",
       "    <tr>\n",
       "      <th>2</th>\n",
       "      <td>Baseline</td>\n",
       "      <td>balanced_accuracy</td>\n",
       "      <td>0.508218</td>\n",
       "    </tr>\n",
       "    <tr>\n",
       "      <th>3</th>\n",
       "      <td>Baseline</td>\n",
       "      <td>balanced_accuracy</td>\n",
       "      <td>0.424708</td>\n",
       "    </tr>\n",
       "    <tr>\n",
       "      <th>4</th>\n",
       "      <td>Baseline</td>\n",
       "      <td>balanced_accuracy</td>\n",
       "      <td>0.508218</td>\n",
       "    </tr>\n",
       "    <tr>\n",
       "      <th>5</th>\n",
       "      <td>XGBoost</td>\n",
       "      <td>balanced_accuracy</td>\n",
       "      <td>0.777894</td>\n",
       "    </tr>\n",
       "    <tr>\n",
       "      <th>6</th>\n",
       "      <td>XGBoost</td>\n",
       "      <td>balanced_accuracy</td>\n",
       "      <td>0.811241</td>\n",
       "    </tr>\n",
       "    <tr>\n",
       "      <th>7</th>\n",
       "      <td>XGBoost</td>\n",
       "      <td>balanced_accuracy</td>\n",
       "      <td>0.705992</td>\n",
       "    </tr>\n",
       "    <tr>\n",
       "      <th>8</th>\n",
       "      <td>XGBoost</td>\n",
       "      <td>balanced_accuracy</td>\n",
       "      <td>0.690350</td>\n",
       "    </tr>\n",
       "    <tr>\n",
       "      <th>9</th>\n",
       "      <td>XGBoost</td>\n",
       "      <td>balanced_accuracy</td>\n",
       "      <td>0.721633</td>\n",
       "    </tr>\n",
       "    <tr>\n",
       "      <th>10</th>\n",
       "      <td>Light GBM</td>\n",
       "      <td>balanced_accuracy</td>\n",
       "      <td>0.768203</td>\n",
       "    </tr>\n",
       "    <tr>\n",
       "      <th>11</th>\n",
       "      <td>Light GBM</td>\n",
       "      <td>balanced_accuracy</td>\n",
       "      <td>0.832980</td>\n",
       "    </tr>\n",
       "    <tr>\n",
       "      <th>12</th>\n",
       "      <td>Light GBM</td>\n",
       "      <td>balanced_accuracy</td>\n",
       "      <td>0.646872</td>\n",
       "    </tr>\n",
       "    <tr>\n",
       "      <th>13</th>\n",
       "      <td>Light GBM</td>\n",
       "      <td>balanced_accuracy</td>\n",
       "      <td>0.668611</td>\n",
       "    </tr>\n",
       "    <tr>\n",
       "      <th>14</th>\n",
       "      <td>Light GBM</td>\n",
       "      <td>balanced_accuracy</td>\n",
       "      <td>0.718187</td>\n",
       "    </tr>\n",
       "    <tr>\n",
       "      <th>15</th>\n",
       "      <td>HGBC</td>\n",
       "      <td>balanced_accuracy</td>\n",
       "      <td>0.756155</td>\n",
       "    </tr>\n",
       "    <tr>\n",
       "      <th>16</th>\n",
       "      <td>HGBC</td>\n",
       "      <td>balanced_accuracy</td>\n",
       "      <td>0.811241</td>\n",
       "    </tr>\n",
       "    <tr>\n",
       "      <th>17</th>\n",
       "      <td>HGBC</td>\n",
       "      <td>balanced_accuracy</td>\n",
       "      <td>0.702545</td>\n",
       "    </tr>\n",
       "    <tr>\n",
       "      <th>18</th>\n",
       "      <td>HGBC</td>\n",
       "      <td>balanced_accuracy</td>\n",
       "      <td>0.705992</td>\n",
       "    </tr>\n",
       "    <tr>\n",
       "      <th>19</th>\n",
       "      <td>HGBC</td>\n",
       "      <td>balanced_accuracy</td>\n",
       "      <td>0.705992</td>\n",
       "    </tr>\n",
       "    <tr>\n",
       "      <th>20</th>\n",
       "      <td>Baseline</td>\n",
       "      <td>f1 score</td>\n",
       "      <td>0.296296</td>\n",
       "    </tr>\n",
       "    <tr>\n",
       "      <th>21</th>\n",
       "      <td>Baseline</td>\n",
       "      <td>f1 score</td>\n",
       "      <td>0.320988</td>\n",
       "    </tr>\n",
       "    <tr>\n",
       "      <th>22</th>\n",
       "      <td>Baseline</td>\n",
       "      <td>f1 score</td>\n",
       "      <td>0.320988</td>\n",
       "    </tr>\n",
       "    <tr>\n",
       "      <th>23</th>\n",
       "      <td>Baseline</td>\n",
       "      <td>f1 score</td>\n",
       "      <td>0.246914</td>\n",
       "    </tr>\n",
       "    <tr>\n",
       "      <th>24</th>\n",
       "      <td>Baseline</td>\n",
       "      <td>f1 score</td>\n",
       "      <td>0.320988</td>\n",
       "    </tr>\n",
       "    <tr>\n",
       "      <th>25</th>\n",
       "      <td>XGBoost</td>\n",
       "      <td>f1 score</td>\n",
       "      <td>0.652174</td>\n",
       "    </tr>\n",
       "    <tr>\n",
       "      <th>26</th>\n",
       "      <td>XGBoost</td>\n",
       "      <td>f1 score</td>\n",
       "      <td>0.711111</td>\n",
       "    </tr>\n",
       "    <tr>\n",
       "      <th>27</th>\n",
       "      <td>XGBoost</td>\n",
       "      <td>f1 score</td>\n",
       "      <td>0.545455</td>\n",
       "    </tr>\n",
       "    <tr>\n",
       "      <th>28</th>\n",
       "      <td>XGBoost</td>\n",
       "      <td>f1 score</td>\n",
       "      <td>0.523810</td>\n",
       "    </tr>\n",
       "    <tr>\n",
       "      <th>29</th>\n",
       "      <td>XGBoost</td>\n",
       "      <td>f1 score</td>\n",
       "      <td>0.565217</td>\n",
       "    </tr>\n",
       "    <tr>\n",
       "      <th>30</th>\n",
       "      <td>Light GBM</td>\n",
       "      <td>f1 score</td>\n",
       "      <td>0.651163</td>\n",
       "    </tr>\n",
       "    <tr>\n",
       "      <th>31</th>\n",
       "      <td>Light GBM</td>\n",
       "      <td>f1 score</td>\n",
       "      <td>0.739130</td>\n",
       "    </tr>\n",
       "    <tr>\n",
       "      <th>32</th>\n",
       "      <td>Light GBM</td>\n",
       "      <td>f1 score</td>\n",
       "      <td>0.450000</td>\n",
       "    </tr>\n",
       "    <tr>\n",
       "      <th>33</th>\n",
       "      <td>Light GBM</td>\n",
       "      <td>f1 score</td>\n",
       "      <td>0.487805</td>\n",
       "    </tr>\n",
       "    <tr>\n",
       "      <th>34</th>\n",
       "      <td>Light GBM</td>\n",
       "      <td>f1 score</td>\n",
       "      <td>0.571429</td>\n",
       "    </tr>\n",
       "    <tr>\n",
       "      <th>35</th>\n",
       "      <td>HGBC</td>\n",
       "      <td>f1 score</td>\n",
       "      <td>0.622222</td>\n",
       "    </tr>\n",
       "    <tr>\n",
       "      <th>36</th>\n",
       "      <td>HGBC</td>\n",
       "      <td>f1 score</td>\n",
       "      <td>0.711111</td>\n",
       "    </tr>\n",
       "    <tr>\n",
       "      <th>37</th>\n",
       "      <td>HGBC</td>\n",
       "      <td>f1 score</td>\n",
       "      <td>0.550000</td>\n",
       "    </tr>\n",
       "    <tr>\n",
       "      <th>38</th>\n",
       "      <td>HGBC</td>\n",
       "      <td>f1 score</td>\n",
       "      <td>0.545455</td>\n",
       "    </tr>\n",
       "    <tr>\n",
       "      <th>39</th>\n",
       "      <td>HGBC</td>\n",
       "      <td>f1 score</td>\n",
       "      <td>0.545455</td>\n",
       "    </tr>\n",
       "  </tbody>\n",
       "</table>\n",
       "</div>"
      ],
      "text/plain": [
       "    algorithm             metric     value\n",
       "0    Baseline  balanced_accuracy  0.483761\n",
       "1    Baseline  balanced_accuracy  0.508218\n",
       "2    Baseline  balanced_accuracy  0.508218\n",
       "3    Baseline  balanced_accuracy  0.424708\n",
       "4    Baseline  balanced_accuracy  0.508218\n",
       "5     XGBoost  balanced_accuracy  0.777894\n",
       "6     XGBoost  balanced_accuracy  0.811241\n",
       "7     XGBoost  balanced_accuracy  0.705992\n",
       "8     XGBoost  balanced_accuracy  0.690350\n",
       "9     XGBoost  balanced_accuracy  0.721633\n",
       "10  Light GBM  balanced_accuracy  0.768203\n",
       "11  Light GBM  balanced_accuracy  0.832980\n",
       "12  Light GBM  balanced_accuracy  0.646872\n",
       "13  Light GBM  balanced_accuracy  0.668611\n",
       "14  Light GBM  balanced_accuracy  0.718187\n",
       "15       HGBC  balanced_accuracy  0.756155\n",
       "16       HGBC  balanced_accuracy  0.811241\n",
       "17       HGBC  balanced_accuracy  0.702545\n",
       "18       HGBC  balanced_accuracy  0.705992\n",
       "19       HGBC  balanced_accuracy  0.705992\n",
       "20   Baseline           f1 score  0.296296\n",
       "21   Baseline           f1 score  0.320988\n",
       "22   Baseline           f1 score  0.320988\n",
       "23   Baseline           f1 score  0.246914\n",
       "24   Baseline           f1 score  0.320988\n",
       "25    XGBoost           f1 score  0.652174\n",
       "26    XGBoost           f1 score  0.711111\n",
       "27    XGBoost           f1 score  0.545455\n",
       "28    XGBoost           f1 score  0.523810\n",
       "29    XGBoost           f1 score  0.565217\n",
       "30  Light GBM           f1 score  0.651163\n",
       "31  Light GBM           f1 score  0.739130\n",
       "32  Light GBM           f1 score  0.450000\n",
       "33  Light GBM           f1 score  0.487805\n",
       "34  Light GBM           f1 score  0.571429\n",
       "35       HGBC           f1 score  0.622222\n",
       "36       HGBC           f1 score  0.711111\n",
       "37       HGBC           f1 score  0.550000\n",
       "38       HGBC           f1 score  0.545455\n",
       "39       HGBC           f1 score  0.545455"
      ]
     },
     "execution_count": 66,
     "metadata": {},
     "output_type": "execute_result"
    }
   ],
   "source": [
    "melted = scors.melt(id_vars=\"algorithm\", var_name=\"metric\")\n",
    "melted"
   ]
  },
  {
   "cell_type": "code",
   "execution_count": 67,
   "id": "c2588999-60c6-415c-a431-d8edddf6584f",
   "metadata": {},
   "outputs": [
    {
     "data": {
      "text/plain": [
       "<AxesSubplot:xlabel='algorithm', ylabel='value'>"
      ]
     },
     "execution_count": 67,
     "metadata": {},
     "output_type": "execute_result"
    },
    {
     "data": {
      "image/png": "[encoded data removed]",
      "text/plain": [
       "<Figure size 2500x1500 with 1 Axes>"
      ]
     },
     "metadata": {},
     "output_type": "display_data"
    }
   ],
   "source": [
    "fig, ax = plt.subplots(figsize=(25,15))\n",
    "sns.boxplot(x=\"algorithm\", y=\"value\", data=melted, hue=\"metric\", ax=ax, meanline=True)"
   ]
  },
  {
   "cell_type": "code",
   "execution_count": 68,
   "id": "f0c3bada-9f8f-4d76-bf66-4d44e4d3e92c",
   "metadata": {},
   "outputs": [
    {
     "data": {
      "text/plain": [
       "Text(0, 0.5, '')"
      ]
     },
     "execution_count": 68,
     "metadata": {},
     "output_type": "execute_result"
    },
    {
     "data": {
      "image/png": "[encoded data removed]",
      "text/plain": [
       "<Figure size 2500x1500 with 1 Axes>"
      ]
     },
     "metadata": {},
     "output_type": "display_data"
    }
   ],
   "source": [
    "rcParams[\"font.size\"] = 30\n",
    "fig, ax = plt.subplots(figsize=(25,15))\n",
    "sns.boxplot(x=\"metric\", y=\"value\", data=melted, hue=\"algorithm\", ax=ax, palette=\"colorblind\")\n",
    "sns.swarmplot(x=\"metric\", y=\"value\", data=melted, hue=\"algorithm\", ax=ax, dodge=True, color=\"k\")\n",
    "handles, labels = ax.get_legend_handles_labels()\n",
    "ax.legend(handles[:8], labels[:8], fontsize=20)\n",
    "ax.set_ylabel(None)"
   ]
  },
  {
   "cell_type": "code",
   "execution_count": 69,
   "id": "c268acbd-674e-4041-a068-fe5306bbbd23",
   "metadata": {},
   "outputs": [],
   "source": [
    "fig.savefig(\"cv_res_fqd.pdf\")"
   ]
  },
  {
   "cell_type": "code",
   "execution_count": 70,
   "id": "25497220-3da8-41c7-999c-30d903f1bc25",
   "metadata": {},
   "outputs": [
    {
     "data": {
      "text/plain": [
       "Text(0, 0.5, '')"
      ]
     },
     "execution_count": 70,
     "metadata": {},
     "output_type": "execute_result"
    },
    {
     "data": {
      "image/png": "[encoded data removed]",
      "text/plain": [
       "<Figure size 2500x1500 with 1 Axes>"
      ]
     },
     "metadata": {},
     "output_type": "display_data"
    }
   ],
   "source": [
    "fig, ax = plt.subplots(figsize=(25,15))\n",
    "sns.lineplot(x=\"algorithm\", y=\"value\", data=melted, hue=\"metric\", ax=ax, lw=5)\n",
    "ax.set_ylabel(\"\")"
   ]
  },
  {
   "cell_type": "markdown",
   "id": "6d6675e4-90b7-4e69-885f-50c4a7fe1ccb",
   "metadata": {
    "tags": []
   },
   "source": [
    "# PCA features analysis"
   ]
  },
  {
   "cell_type": "code",
   "execution_count": 168,
   "id": "9d6fbbca-8402-4a34-ba60-4558621c6ff7",
   "metadata": {},
   "outputs": [],
   "source": [
    "rcParams[\"font.size\"] = 40"
   ]
  },
  {
   "cell_type": "code",
   "execution_count": 169,
   "id": "bee7af96-59cf-456c-81b1-772f9cef176f",
   "metadata": {},
   "outputs": [],
   "source": [
    "scaler = StandardScaler()\n",
    "xx = scaler.fit_transform(xx)\n",
    "oob_x = scaler.transform(oob_x)"
   ]
  },
  {
   "cell_type": "code",
   "execution_count": 170,
   "id": "1561e195-f5c3-44f4-992e-d666b0cd69e0",
   "metadata": {},
   "outputs": [],
   "source": [
    "xx = pca.fit_transform(xx)\n",
    "oob_x = pca.transform(oob_x)"
   ]
  },
  {
   "cell_type": "code",
   "execution_count": 171,
   "id": "ddc65727-b638-4b2a-94eb-8402f2afc7da",
   "metadata": {
    "tags": []
   },
   "outputs": [
    {
     "name": "stdout",
     "output_type": "stream",
     "text": [
      "FQD_4_gap                     0.088298\n",
      "quant_FQD_4_gap               0.088298\n",
      "quant_FQD_4_zpve              0.088201\n",
      "FQD_4_zpve                    0.088201\n",
      "quant_FQD_4_alpha             0.088101\n",
      "FQD_4_alpha                   0.088101\n",
      "FQD_4_cv_per_atom             0.087949\n",
      "quant_FQD_4_cv_per_atom       0.087949\n",
      "quant_FQD_4_homo              0.087916\n",
      "FQD_4_homo                    0.087916\n",
      "quant_FQD_4_homo_per_atom     0.087851\n",
      "FQD_4_homo_per_atom           0.087851\n",
      "FQD_4_cv                      0.087850\n",
      "quant_FQD_4_cv                0.087850\n",
      "FQD_4_alpha_per_atom          0.087637\n",
      "quant_FQD_4_alpha_per_atom    0.087637\n",
      "FQD_4_gap_per_atom            0.087539\n",
      "quant_FQD_4_gap_per_atom      0.087539\n",
      "quant_FQD_4_g298_per_atom     0.087448\n",
      "FQD_4_g298_per_atom           0.087448\n",
      "FQD_4_u0_per_atom             0.087447\n",
      "quant_FQD_4_u0_per_atom       0.087447\n",
      "quant_FQD_4_u298_per_atom     0.087447\n",
      "FQD_4_u298_per_atom           0.087447\n",
      "quant_FQD_4_h298_per_atom     0.087447\n",
      "FQD_4_h298_per_atom           0.087447\n",
      "quant_FQD_4_zpve_per_atom     0.086930\n",
      "FQD_4_zpve_per_atom           0.086930\n",
      "quant_FQD_5_zpve              0.085759\n",
      "FQD_5_zpve                    0.085759\n",
      "FQD_4_lumo                    0.085367\n",
      "quant_FQD_4_lumo              0.085367\n",
      "FQD_5_cv                      0.084578\n",
      "quant_FQD_5_cv                0.084578\n",
      "FQD_5_zpve_per_atom           0.084462\n",
      "quant_FQD_5_zpve_per_atom     0.084462\n",
      "FQD_5_lumo                    0.084198\n",
      "quant_FQD_5_lumo              0.084198\n",
      "FQD_5_gap                     0.084128\n",
      "quant_FQD_5_gap               0.084128\n",
      "dtype: float64\n"
     ]
    }
   ],
   "source": [
    "loading_scores = pd.Series(pca.components_[0], index=x.columns)\n",
    "sorted_loading_scores = loading_scores.abs().sort_values(ascending=False)\n",
    "print(sorted_loading_scores[:40])"
   ]
  },
  {
   "cell_type": "code",
   "execution_count": 172,
   "id": "9f1fa390-c72f-4e4f-942b-96dff60d270b",
   "metadata": {
    "tags": []
   },
   "outputs": [
    {
     "name": "stdout",
     "output_type": "stream",
     "text": [
      "quant_FQD_8_homo_per_atom     0.104183\n",
      "FQD_8_homo_per_atom           0.104183\n",
      "quant_FQD_8_g298_per_atom     0.099942\n",
      "FQD_8_g298_per_atom           0.099942\n",
      "FQD_8_u0_per_atom             0.099941\n",
      "quant_FQD_8_u0_per_atom       0.099941\n",
      "quant_FQD_8_u298_per_atom     0.099941\n",
      "FQD_8_u298_per_atom           0.099941\n",
      "quant_FQD_8_h298_per_atom     0.099941\n",
      "FQD_8_h298_per_atom           0.099941\n",
      "FQD_8_gap_per_atom            0.099646\n",
      "quant_FQD_8_gap_per_atom      0.099646\n",
      "FQD_8_alpha_per_atom          0.098842\n",
      "quant_FQD_8_alpha_per_atom    0.098842\n",
      "quant_FQD_8_g298              0.095627\n",
      "FQD_8_g298                    0.095627\n",
      "quant_FQD_8_u0                0.095626\n",
      "FQD_8_u0                      0.095626\n",
      "FQD_8_u298                    0.095626\n",
      "quant_FQD_8_u298              0.095626\n",
      "FQD_8_h298                    0.095626\n",
      "quant_FQD_8_h298              0.095626\n",
      "FQD_7_g298_per_atom           0.095002\n",
      "quant_FQD_7_g298_per_atom     0.095002\n",
      "FQD_7_u0_per_atom             0.095002\n",
      "quant_FQD_7_u0_per_atom       0.095002\n",
      "quant_FQD_7_u298_per_atom     0.095001\n",
      "FQD_7_u298_per_atom           0.095001\n",
      "quant_FQD_7_h298_per_atom     0.095001\n",
      "FQD_7_h298_per_atom           0.095001\n",
      "quant_FQD_7_g298              0.094622\n",
      "FQD_7_g298                    0.094622\n",
      "FQD_7_u0                      0.094621\n",
      "quant_FQD_7_u0                0.094621\n",
      "FQD_7_u298                    0.094620\n",
      "quant_FQD_7_u298              0.094620\n",
      "FQD_7_h298                    0.094620\n",
      "quant_FQD_7_h298              0.094620\n",
      "quant_FQD_8_cv_per_atom       0.094471\n",
      "FQD_8_cv_per_atom             0.094471\n",
      "dtype: float64\n"
     ]
    }
   ],
   "source": [
    "loading_scores = pd.Series(pca.components_[1], index=x.columns)\n",
    "sorted_loading_scores = loading_scores.abs().sort_values(ascending=False)\n",
    "print(sorted_loading_scores[:40])"
   ]
  },
  {
   "cell_type": "code",
   "execution_count": 173,
   "id": "c7f91957-6b59-42ab-8ab8-4f8b53851e59",
   "metadata": {
    "tags": []
   },
   "outputs": [
    {
     "name": "stdout",
     "output_type": "stream",
     "text": [
      "quant_FQD_2_cv_per_atom       0.145806\n",
      "FQD_2_cv_per_atom             0.145806\n",
      "FQD_2_gap_per_atom            0.145522\n",
      "quant_FQD_2_gap_per_atom      0.145522\n",
      "quant_FQD_2_zpve_per_atom     0.144860\n",
      "FQD_2_zpve_per_atom           0.144860\n",
      "FQD_2_alpha_per_atom          0.144199\n",
      "quant_FQD_2_alpha_per_atom    0.144199\n",
      "FQD_2_homo_per_atom           0.143330\n",
      "quant_FQD_2_homo_per_atom     0.143330\n",
      "quant_FQD_2_lumo_per_atom     0.142893\n",
      "FQD_2_lumo_per_atom           0.142893\n",
      "FQD_2_g298_per_atom           0.133667\n",
      "quant_FQD_2_g298_per_atom     0.133667\n",
      "FQD_2_u0_per_atom             0.133663\n",
      "quant_FQD_2_u0_per_atom       0.133663\n",
      "quant_FQD_2_u298_per_atom     0.133663\n",
      "FQD_2_u298_per_atom           0.133663\n",
      "FQD_2_h298_per_atom           0.133662\n",
      "quant_FQD_2_h298_per_atom     0.133662\n",
      "FQD_2_lumo                    0.083263\n",
      "quant_FQD_2_lumo              0.083263\n",
      "quant_FQD_5_mu                0.078624\n",
      "FQD_5_mu                      0.078624\n",
      "FQD_4_mu                      0.076984\n",
      "quant_FQD_4_mu                0.076984\n",
      "FQD_6_alpha_per_atom          0.075443\n",
      "quant_FQD_6_alpha_per_atom    0.075443\n",
      "FQD_6_homo_per_atom           0.074122\n",
      "quant_FQD_6_homo_per_atom     0.074122\n",
      "quant_FQD_6_mu                0.073149\n",
      "FQD_6_mu                      0.073149\n",
      "quant_FQD_6_gap_per_atom      0.072676\n",
      "FQD_6_gap_per_atom            0.072676\n",
      "FQD_3_zpve_per_atom           0.071775\n",
      "quant_FQD_3_zpve_per_atom     0.071775\n",
      "quant_FQD_2_zpve              0.071389\n",
      "FQD_2_zpve                    0.071389\n",
      "quant_FQD_3_alpha_per_atom    0.070856\n",
      "FQD_3_alpha_per_atom          0.070856\n",
      "dtype: float64\n"
     ]
    }
   ],
   "source": [
    "loading_scores = pd.Series(pca.components_[2], index=x.columns)\n",
    "sorted_loading_scores = loading_scores.abs().sort_values(ascending=False)\n",
    "print(sorted_loading_scores[:40])"
   ]
  },
  {
   "cell_type": "code",
   "execution_count": 174,
   "id": "bf3b826a-ff7b-4bf5-977f-d9c412ec0786",
   "metadata": {
    "tags": []
   },
   "outputs": [
    {
     "name": "stdout",
     "output_type": "stream",
     "text": [
      "quant_FQD_2_h298              0.118418\n",
      "FQD_2_h298                    0.118418\n",
      "quant_FQD_2_u298              0.118418\n",
      "FQD_2_u298                    0.118418\n",
      "FQD_2_u0                      0.118418\n",
      "quant_FQD_2_u0                0.118418\n",
      "quant_FQD_2_g298              0.118416\n",
      "FQD_2_g298                    0.118416\n",
      "quant_FQD_6_gap_per_atom      0.098066\n",
      "FQD_6_gap_per_atom            0.098066\n",
      "FQD_6_cv_per_atom             0.097157\n",
      "quant_FQD_6_cv_per_atom       0.097157\n",
      "quant_FQD_6_zpve_per_atom     0.095868\n",
      "FQD_6_zpve_per_atom           0.095868\n",
      "quant_FQD_6_homo_per_atom     0.093824\n",
      "FQD_6_homo_per_atom           0.093824\n",
      "quant_FQD_2_mu                0.093608\n",
      "FQD_2_mu                      0.093608\n",
      "quant_FQD_6_alpha_per_atom    0.093226\n",
      "FQD_6_alpha_per_atom          0.093226\n",
      "quant_FQD_2_cv                0.088598\n",
      "FQD_2_cv                      0.088598\n",
      "FQD_3_mu                      0.088515\n",
      "quant_FQD_3_mu                0.088515\n",
      "quant_FQD_2_homo              0.087889\n",
      "FQD_2_homo                    0.087889\n",
      "quant_FQD_9_alpha             0.087629\n",
      "FQD_9_alpha                   0.087629\n",
      "FQD_3_h298                    0.084204\n",
      "quant_FQD_3_h298              0.084204\n",
      "FQD_3_u298                    0.084204\n",
      "quant_FQD_3_u298              0.084204\n",
      "quant_FQD_3_u0                0.084204\n",
      "FQD_3_u0                      0.084204\n",
      "FQD_3_g298                    0.084202\n",
      "quant_FQD_3_g298              0.084202\n",
      "FQD_9_homo                    0.082321\n",
      "quant_FQD_9_homo              0.082321\n",
      "quant_FQD_2_gap               0.080267\n",
      "FQD_2_gap                     0.080267\n",
      "dtype: float64\n"
     ]
    }
   ],
   "source": [
    "loading_scores = pd.Series(pca.components_[3], index=x.columns)\n",
    "sorted_loading_scores = loading_scores.abs().sort_values(ascending=False)\n",
    "print(sorted_loading_scores[:40])"
   ]
  },
  {
   "cell_type": "markdown",
   "id": "2db208e4-8412-4d6a-b655-6b14d7722b93",
   "metadata": {},
   "source": [
    "## Check which fragments are most important by atoms count"
   ]
  },
  {
   "cell_type": "code",
   "execution_count": 175,
   "id": "da9ba6d6-482e-44ff-b7de-6233e1ecb6b5",
   "metadata": {},
   "outputs": [
    {
     "data": {
      "text/plain": [
       "{'PC1': Counter({'4': 30, '5': 10}),\n",
       " 'PC2': Counter({'8': 24, '7': 16}),\n",
       " 'PC3': Counter({'2': 24, '5': 2, '4': 2, '6': 8, '3': 4}),\n",
       " 'PC4': Counter({'2': 16, '6': 10, '3': 10, '9': 4}),\n",
       " 'PC5': Counter({'2': 14, '3': 12, '7': 6, '5': 4, '4': 2, '8': 2}),\n",
       " 'PC6': Counter({'6': 20, '7': 4, '8': 4, '9': 10, '2': 2}),\n",
       " 'PC7': Counter({'9': 12, '7': 12, '8': 10, '2': 4, '5': 2})}"
      ]
     },
     "execution_count": 175,
     "metadata": {},
     "output_type": "execute_result"
    }
   ],
   "source": [
    "import itertools\n",
    "from collections import Counter\n",
    "keys = [f\"PC{i}\" for i in range(1,8)]\n",
    "pc_dict = {k: None for k in keys}\n",
    "pc_props_whole = []\n",
    "for i in range(7):\n",
    "    loading_scores = pd.Series(pca.components_[i], index=x.columns)\n",
    "    sorted_loading_scores = loading_scores.abs().sort_values(ascending=False)\n",
    "    splitted_names = itertools.chain.from_iterable([x.split(\"_\") for x in sorted_loading_scores.index[:40]])\n",
    "    PC_props = [x for x in splitted_names if x in [f\"{j}\" for j in range(1,10)]]\n",
    "    pc_dict[f\"PC{i+1}\"] = Counter(PC_props)\n",
    "    pc_props_whole += PC_props\n",
    "\n",
    "pc_dict"
   ]
  },
  {
   "cell_type": "code",
   "execution_count": 176,
   "id": "e5dde7b1-4fab-45b4-bc11-08b385818a00",
   "metadata": {},
   "outputs": [
    {
     "data": {
      "text/plain": [
       "[('2', 60), ('8', 40), ('7', 38), ('6', 38), ('4', 34)]"
      ]
     },
     "execution_count": 176,
     "metadata": {},
     "output_type": "execute_result"
    }
   ],
   "source": [
    "Counter(pc_props_whole).most_common(5)"
   ]
  },
  {
   "cell_type": "markdown",
   "id": "b43b82da-3a73-49ed-93fe-70c76c8b056b",
   "metadata": {},
   "source": [
    "## Check which fragments are most important by quantum feature"
   ]
  },
  {
   "cell_type": "code",
   "execution_count": 177,
   "id": "9e3aeb39-1816-48fc-9ca5-bcad1d16ad30",
   "metadata": {
    "tags": []
   },
   "outputs": [
    {
     "data": {
      "text/plain": [
       "{'PC1': Counter({'gap': 6,\n",
       "          'zpve': 8,\n",
       "          'alpha': 4,\n",
       "          'cv': 6,\n",
       "          'homo': 4,\n",
       "          'g298': 2,\n",
       "          'u0': 2,\n",
       "          'u298': 2,\n",
       "          'h298': 2,\n",
       "          'lumo': 4}),\n",
       " 'PC2': Counter({'homo': 2,\n",
       "          'g298': 8,\n",
       "          'u0': 8,\n",
       "          'u298': 8,\n",
       "          'h298': 8,\n",
       "          'gap': 2,\n",
       "          'alpha': 2,\n",
       "          'cv': 2}),\n",
       " 'PC3': Counter({'cv': 2,\n",
       "          'gap': 4,\n",
       "          'zpve': 6,\n",
       "          'alpha': 6,\n",
       "          'homo': 4,\n",
       "          'lumo': 4,\n",
       "          'g298': 2,\n",
       "          'u0': 2,\n",
       "          'u298': 2,\n",
       "          'h298': 2,\n",
       "          'mu': 6}),\n",
       " 'PC4': Counter({'h298': 4,\n",
       "          'u298': 4,\n",
       "          'u0': 4,\n",
       "          'g298': 4,\n",
       "          'gap': 4,\n",
       "          'cv': 4,\n",
       "          'zpve': 2,\n",
       "          'homo': 6,\n",
       "          'mu': 4,\n",
       "          'alpha': 4}),\n",
       " 'PC5': Counter({'lumo': 2,\n",
       "          'zpve': 6,\n",
       "          'mu': 10,\n",
       "          'alpha': 4,\n",
       "          'gap': 2,\n",
       "          'cv': 4,\n",
       "          'homo': 2,\n",
       "          'h298': 2,\n",
       "          'u298': 2,\n",
       "          'u0': 2,\n",
       "          'g298': 4}),\n",
       " 'PC6': Counter({'u298': 4,\n",
       "          'h298': 4,\n",
       "          'u0': 6,\n",
       "          'g298': 6,\n",
       "          'mu': 12,\n",
       "          'homo': 4,\n",
       "          'alpha': 2,\n",
       "          'cv': 2}),\n",
       " 'PC7': Counter({'mu': 16,\n",
       "          'zpve': 4,\n",
       "          'cv': 4,\n",
       "          'lumo': 2,\n",
       "          'h298': 2,\n",
       "          'u298': 2,\n",
       "          'u0': 2,\n",
       "          'g298': 2,\n",
       "          'homo': 2,\n",
       "          'alpha': 4})}"
      ]
     },
     "execution_count": 177,
     "metadata": {},
     "output_type": "execute_result"
    }
   ],
   "source": [
    "pc_dict2 = {k: None for k in keys}\n",
    "pc_props_whole2 = []\n",
    "for i in range(7):\n",
    "    loading_scores = pd.Series(pca.components_[i], index=x.columns)\n",
    "    sorted_loading_scores = loading_scores.abs().sort_values(ascending=False)\n",
    "    splitted_names = itertools.chain.from_iterable([x.split(\"_\") for x in sorted_loading_scores.index[:40]])\n",
    "    PC_props = [x for x in splitted_names if x in qprops]\n",
    "    pc_dict2[f\"PC{i+1}\"] = Counter(PC_props)\n",
    "    pc_props_whole2 += PC_props\n",
    "\n",
    "\n",
    "pc_dict2"
   ]
  },
  {
   "cell_type": "code",
   "execution_count": 178,
   "id": "9e7ab695-bb11-45cd-897d-352605904da0",
   "metadata": {
    "tags": []
   },
   "outputs": [
    {
     "data": {
      "text/plain": [
       "[('mu', 48),\n",
       " ('g298', 28),\n",
       " ('zpve', 26),\n",
       " ('alpha', 26),\n",
       " ('u0', 26),\n",
       " ('cv', 24),\n",
       " ('homo', 24),\n",
       " ('u298', 24),\n",
       " ('h298', 24),\n",
       " ('gap', 18)]"
      ]
     },
     "execution_count": 178,
     "metadata": {},
     "output_type": "execute_result"
    }
   ],
   "source": [
    "Counter(pc_props_whole2).most_common(10)"
   ]
  },
  {
   "cell_type": "code",
   "execution_count": 179,
   "id": "01eb4165-0121-46a9-be54-cc489d1c5afc",
   "metadata": {},
   "outputs": [
    {
     "data": {
      "text/plain": [
       "(822, 17)"
      ]
     },
     "execution_count": 179,
     "metadata": {},
     "output_type": "execute_result"
    }
   ],
   "source": [
    "xx.shape"
   ]
  },
  {
   "cell_type": "code",
   "execution_count": 180,
   "id": "abb09431-15f0-4961-979b-4d36aa80faa4",
   "metadata": {},
   "outputs": [],
   "source": [
    "pca_df = pd.DataFrame(xx, columns=[f\"PC{n}\" for n in range(1, xx.shape[1]+1)])"
   ]
  },
  {
   "cell_type": "code",
   "execution_count": 181,
   "id": "f5fbbfaa-cedd-4fea-bc3a-c5f571d777f3",
   "metadata": {
    "tags": []
   },
   "outputs": [
    {
     "data": {
      "text/html": [
       "<div>\n",
       "<style scoped>\n",
       "    .dataframe tbody tr th:only-of-type {\n",
       "        vertical-align: middle;\n",
       "    }\n",
       "\n",
       "    .dataframe tbody tr th {\n",
       "        vertical-align: top;\n",
       "    }\n",
       "\n",
       "    .dataframe thead th {\n",
       "        text-align: right;\n",
       "    }\n",
       "</style>\n",
       "<table border=\"1\" class=\"dataframe\">\n",
       "  <thead>\n",
       "    <tr style=\"text-align: right;\">\n",
       "      <th></th>\n",
       "      <th>PC1</th>\n",
       "      <th>PC2</th>\n",
       "      <th>PC3</th>\n",
       "      <th>PC4</th>\n",
       "      <th>PC5</th>\n",
       "      <th>PC6</th>\n",
       "      <th>PC7</th>\n",
       "      <th>PC8</th>\n",
       "      <th>PC9</th>\n",
       "      <th>PC10</th>\n",
       "      <th>PC11</th>\n",
       "      <th>PC12</th>\n",
       "      <th>PC13</th>\n",
       "      <th>PC14</th>\n",
       "      <th>PC15</th>\n",
       "      <th>PC16</th>\n",
       "      <th>PC17</th>\n",
       "    </tr>\n",
       "  </thead>\n",
       "  <tbody>\n",
       "    <tr>\n",
       "      <th>0</th>\n",
       "      <td>-11.541937</td>\n",
       "      <td>5.530202</td>\n",
       "      <td>0.666972</td>\n",
       "      <td>-2.984621</td>\n",
       "      <td>-2.258518</td>\n",
       "      <td>-3.732466</td>\n",
       "      <td>3.672526</td>\n",
       "      <td>3.878444</td>\n",
       "      <td>-0.783795</td>\n",
       "      <td>0.122371</td>\n",
       "      <td>-1.302233</td>\n",
       "      <td>-0.571411</td>\n",
       "      <td>0.563440</td>\n",
       "      <td>-1.294069</td>\n",
       "      <td>1.823382</td>\n",
       "      <td>-0.824487</td>\n",
       "      <td>1.348012</td>\n",
       "    </tr>\n",
       "    <tr>\n",
       "      <th>1</th>\n",
       "      <td>1.107438</td>\n",
       "      <td>-3.789625</td>\n",
       "      <td>-9.587601</td>\n",
       "      <td>-4.296775</td>\n",
       "      <td>0.340259</td>\n",
       "      <td>-0.001007</td>\n",
       "      <td>3.810066</td>\n",
       "      <td>1.730619</td>\n",
       "      <td>-0.136042</td>\n",
       "      <td>-1.873050</td>\n",
       "      <td>-0.423039</td>\n",
       "      <td>-1.148322</td>\n",
       "      <td>0.948198</td>\n",
       "      <td>0.552990</td>\n",
       "      <td>-0.052309</td>\n",
       "      <td>1.256020</td>\n",
       "      <td>-0.415219</td>\n",
       "    </tr>\n",
       "    <tr>\n",
       "      <th>2</th>\n",
       "      <td>-3.239642</td>\n",
       "      <td>-1.299366</td>\n",
       "      <td>-1.095145</td>\n",
       "      <td>-6.446164</td>\n",
       "      <td>-0.337334</td>\n",
       "      <td>3.370148</td>\n",
       "      <td>-0.244201</td>\n",
       "      <td>-2.752099</td>\n",
       "      <td>1.832215</td>\n",
       "      <td>-0.825379</td>\n",
       "      <td>0.275779</td>\n",
       "      <td>0.851201</td>\n",
       "      <td>-0.366408</td>\n",
       "      <td>-0.071948</td>\n",
       "      <td>0.399376</td>\n",
       "      <td>-1.419748</td>\n",
       "      <td>-0.602077</td>\n",
       "    </tr>\n",
       "    <tr>\n",
       "      <th>3</th>\n",
       "      <td>-9.450706</td>\n",
       "      <td>-7.099975</td>\n",
       "      <td>6.618473</td>\n",
       "      <td>6.488813</td>\n",
       "      <td>-5.200453</td>\n",
       "      <td>4.421515</td>\n",
       "      <td>0.615500</td>\n",
       "      <td>3.283119</td>\n",
       "      <td>-0.560984</td>\n",
       "      <td>-1.510246</td>\n",
       "      <td>-3.539296</td>\n",
       "      <td>-0.569688</td>\n",
       "      <td>-2.117981</td>\n",
       "      <td>0.990247</td>\n",
       "      <td>1.128411</td>\n",
       "      <td>1.074399</td>\n",
       "      <td>-0.099426</td>\n",
       "    </tr>\n",
       "    <tr>\n",
       "      <th>4</th>\n",
       "      <td>11.113878</td>\n",
       "      <td>2.345731</td>\n",
       "      <td>-4.589641</td>\n",
       "      <td>1.773616</td>\n",
       "      <td>-8.033341</td>\n",
       "      <td>-2.948051</td>\n",
       "      <td>2.539527</td>\n",
       "      <td>-1.069423</td>\n",
       "      <td>2.656882</td>\n",
       "      <td>1.163501</td>\n",
       "      <td>0.795553</td>\n",
       "      <td>-2.188701</td>\n",
       "      <td>-1.052350</td>\n",
       "      <td>0.230873</td>\n",
       "      <td>-0.810729</td>\n",
       "      <td>0.518523</td>\n",
       "      <td>0.056533</td>\n",
       "    </tr>\n",
       "    <tr>\n",
       "      <th>...</th>\n",
       "      <td>...</td>\n",
       "      <td>...</td>\n",
       "      <td>...</td>\n",
       "      <td>...</td>\n",
       "      <td>...</td>\n",
       "      <td>...</td>\n",
       "      <td>...</td>\n",
       "      <td>...</td>\n",
       "      <td>...</td>\n",
       "      <td>...</td>\n",
       "      <td>...</td>\n",
       "      <td>...</td>\n",
       "      <td>...</td>\n",
       "      <td>...</td>\n",
       "      <td>...</td>\n",
       "      <td>...</td>\n",
       "      <td>...</td>\n",
       "    </tr>\n",
       "    <tr>\n",
       "      <th>817</th>\n",
       "      <td>2.381609</td>\n",
       "      <td>-2.678942</td>\n",
       "      <td>-7.102515</td>\n",
       "      <td>-4.460411</td>\n",
       "      <td>0.606529</td>\n",
       "      <td>1.234653</td>\n",
       "      <td>3.410725</td>\n",
       "      <td>0.523475</td>\n",
       "      <td>-1.389062</td>\n",
       "      <td>-0.484993</td>\n",
       "      <td>-0.153245</td>\n",
       "      <td>-0.469106</td>\n",
       "      <td>0.950373</td>\n",
       "      <td>0.771526</td>\n",
       "      <td>0.687671</td>\n",
       "      <td>0.162110</td>\n",
       "      <td>-0.552238</td>\n",
       "    </tr>\n",
       "    <tr>\n",
       "      <th>818</th>\n",
       "      <td>8.310031</td>\n",
       "      <td>-0.894222</td>\n",
       "      <td>-5.483010</td>\n",
       "      <td>-0.538906</td>\n",
       "      <td>-2.594091</td>\n",
       "      <td>-0.408040</td>\n",
       "      <td>0.381239</td>\n",
       "      <td>-0.170334</td>\n",
       "      <td>0.838072</td>\n",
       "      <td>-0.665359</td>\n",
       "      <td>-0.428536</td>\n",
       "      <td>-1.748456</td>\n",
       "      <td>0.831549</td>\n",
       "      <td>1.612438</td>\n",
       "      <td>-1.317487</td>\n",
       "      <td>-0.402955</td>\n",
       "      <td>0.241355</td>\n",
       "    </tr>\n",
       "    <tr>\n",
       "      <th>819</th>\n",
       "      <td>-2.091300</td>\n",
       "      <td>0.761913</td>\n",
       "      <td>4.524891</td>\n",
       "      <td>-3.905706</td>\n",
       "      <td>-4.060434</td>\n",
       "      <td>0.304759</td>\n",
       "      <td>-0.664535</td>\n",
       "      <td>-4.812213</td>\n",
       "      <td>4.404881</td>\n",
       "      <td>1.241310</td>\n",
       "      <td>0.133611</td>\n",
       "      <td>1.358117</td>\n",
       "      <td>-0.347369</td>\n",
       "      <td>-1.118874</td>\n",
       "      <td>2.531303</td>\n",
       "      <td>3.102123</td>\n",
       "      <td>-0.253205</td>\n",
       "    </tr>\n",
       "    <tr>\n",
       "      <th>820</th>\n",
       "      <td>-9.565656</td>\n",
       "      <td>-19.772232</td>\n",
       "      <td>-6.237476</td>\n",
       "      <td>9.850233</td>\n",
       "      <td>8.071114</td>\n",
       "      <td>-12.149438</td>\n",
       "      <td>-1.943585</td>\n",
       "      <td>1.863238</td>\n",
       "      <td>4.309275</td>\n",
       "      <td>1.782302</td>\n",
       "      <td>4.520071</td>\n",
       "      <td>0.411125</td>\n",
       "      <td>-1.618365</td>\n",
       "      <td>-1.075076</td>\n",
       "      <td>-1.515010</td>\n",
       "      <td>-0.703502</td>\n",
       "      <td>0.500437</td>\n",
       "    </tr>\n",
       "    <tr>\n",
       "      <th>821</th>\n",
       "      <td>-16.561441</td>\n",
       "      <td>15.815244</td>\n",
       "      <td>-3.953276</td>\n",
       "      <td>3.159722</td>\n",
       "      <td>8.394559</td>\n",
       "      <td>-7.125263</td>\n",
       "      <td>2.733451</td>\n",
       "      <td>-3.404707</td>\n",
       "      <td>-2.548058</td>\n",
       "      <td>-0.094960</td>\n",
       "      <td>-0.660352</td>\n",
       "      <td>-0.303608</td>\n",
       "      <td>0.130602</td>\n",
       "      <td>-0.681650</td>\n",
       "      <td>-1.033224</td>\n",
       "      <td>0.474329</td>\n",
       "      <td>0.092513</td>\n",
       "    </tr>\n",
       "  </tbody>\n",
       "</table>\n",
       "<p>822 rows × 17 columns</p>\n",
       "</div>"
      ],
      "text/plain": [
       "           PC1        PC2       PC3       PC4       PC5        PC6       PC7  \\\n",
       "0   -11.541937   5.530202  0.666972 -2.984621 -2.258518  -3.732466  3.672526   \n",
       "1     1.107438  -3.789625 -9.587601 -4.296775  0.340259  -0.001007  3.810066   \n",
       "2    -3.239642  -1.299366 -1.095145 -6.446164 -0.337334   3.370148 -0.244201   \n",
       "3    -9.450706  -7.099975  6.618473  6.488813 -5.200453   4.421515  0.615500   \n",
       "4    11.113878   2.345731 -4.589641  1.773616 -8.033341  -2.948051  2.539527   \n",
       "..         ...        ...       ...       ...       ...        ...       ...   \n",
       "817   2.381609  -2.678942 -7.102515 -4.460411  0.606529   1.234653  3.410725   \n",
       "818   8.310031  -0.894222 -5.483010 -0.538906 -2.594091  -0.408040  0.381239   \n",
       "819  -2.091300   0.761913  4.524891 -3.905706 -4.060434   0.304759 -0.664535   \n",
       "820  -9.565656 -19.772232 -6.237476  9.850233  8.071114 -12.149438 -1.943585   \n",
       "821 -16.561441  15.815244 -3.953276  3.159722  8.394559  -7.125263  2.733451   \n",
       "\n",
       "          PC8       PC9      PC10      PC11      PC12      PC13      PC14  \\\n",
       "0    3.878444 -0.783795  0.122371 -1.302233 -0.571411  0.563440 -1.294069   \n",
       "1    1.730619 -0.136042 -1.873050 -0.423039 -1.148322  0.948198  0.552990   \n",
       "2   -2.752099  1.832215 -0.825379  0.275779  0.851201 -0.366408 -0.071948   \n",
       "3    3.283119 -0.560984 -1.510246 -3.539296 -0.569688 -2.117981  0.990247   \n",
       "4   -1.069423  2.656882  1.163501  0.795553 -2.188701 -1.052350  0.230873   \n",
       "..        ...       ...       ...       ...       ...       ...       ...   \n",
       "817  0.523475 -1.389062 -0.484993 -0.153245 -0.469106  0.950373  0.771526   \n",
       "818 -0.170334  0.838072 -0.665359 -0.428536 -1.748456  0.831549  1.612438   \n",
       "819 -4.812213  4.404881  1.241310  0.133611  1.358117 -0.347369 -1.118874   \n",
       "820  1.863238  4.309275  1.782302  4.520071  0.411125 -1.618365 -1.075076   \n",
       "821 -3.404707 -2.548058 -0.094960 -0.660352 -0.303608  0.130602 -0.681650   \n",
       "\n",
       "         PC15      PC16      PC17  \n",
       "0    1.823382 -0.824487  1.348012  \n",
       "1   -0.052309  1.256020 -0.415219  \n",
       "2    0.399376 -1.419748 -0.602077  \n",
       "3    1.128411  1.074399 -0.099426  \n",
       "4   -0.810729  0.518523  0.056533  \n",
       "..        ...       ...       ...  \n",
       "817  0.687671  0.162110 -0.552238  \n",
       "818 -1.317487 -0.402955  0.241355  \n",
       "819  2.531303  3.102123 -0.253205  \n",
       "820 -1.515010 -0.703502  0.500437  \n",
       "821 -1.033224  0.474329  0.092513  \n",
       "\n",
       "[822 rows x 17 columns]"
      ]
     },
     "execution_count": 181,
     "metadata": {},
     "output_type": "execute_result"
    }
   ],
   "source": [
    "pca_df"
   ]
  },
  {
   "cell_type": "markdown",
   "id": "f01db704-1a65-47b2-8e2d-be5d267dba11",
   "metadata": {},
   "source": [
    "### Visualize PCA"
   ]
  },
  {
   "cell_type": "code",
   "execution_count": 182,
   "id": "c8bdef80-9d9e-4100-bc72-9827722a531c",
   "metadata": {},
   "outputs": [],
   "source": [
    "rcParams[\"font.size\"] = 25"
   ]
  },
  {
   "cell_type": "code",
   "execution_count": 183,
   "id": "7f0f3309-1867-4674-96f0-6948cecb260a",
   "metadata": {},
   "outputs": [
    {
     "name": "stdout",
     "output_type": "stream",
     "text": [
      "0 28.8\n",
      "1 47.0\n",
      "2 57.2\n",
      "3 66.4\n",
      "4 71.5\n",
      "5 76.3\n",
      "6 79.9\n",
      "7 83.4\n",
      "8 85.7\n",
      "9 87.9\n",
      "10 89.7\n",
      "11 91.3\n",
      "12 92.6\n",
      "13 93.4\n",
      "14 94.2\n",
      "15 94.9\n",
      "16 95.5\n"
     ]
    }
   ],
   "source": [
    "for i, v in enumerate((pca.explained_variance_ratio_*100).cumsum()):\n",
    "    print(i, f\"{v:.3}\")"
   ]
  },
  {
   "cell_type": "code",
   "execution_count": 184,
   "id": "2cac9a90-7725-4254-bee8-51b4928475cf",
   "metadata": {},
   "outputs": [
    {
     "data": {
      "text/plain": [
       "Text(0, 0.5, 'summary % variance explained')"
      ]
     },
     "execution_count": 184,
     "metadata": {},
     "output_type": "execute_result"
    },
    {
     "data": {
      "image/png": "[encoded data removed]",
      "text/plain": [
       "<Figure size 2500x1000 with 2 Axes>"
      ]
     },
     "metadata": {},
     "output_type": "display_data"
    }
   ],
   "source": [
    "pcs = [f\"PC{n}\" for n in range(1, xx.shape[1]+1)]\n",
    "fig, ax = plt.subplots(figsize=(25,10))\n",
    "ax.bar(pcs, pca.explained_variance_ratio_*100)\n",
    "ax2 = ax.twinx()\n",
    "ax2.plot(pcs, (pca.explained_variance_ratio_*100).cumsum(), c=\"r\")\n",
    "ax.set_ylabel(\"% variance explained\", color=\"b\")\n",
    "ax2.set_ylabel(\"summary % variance explained\", color=\"r\")"
   ]
  },
  {
   "cell_type": "code",
   "execution_count": 185,
   "id": "0602a856-f119-4952-b0eb-dd910c5b9b98",
   "metadata": {},
   "outputs": [],
   "source": [
    "fig.savefig(\"scree_plot_fqd.pdf\")"
   ]
  },
  {
   "cell_type": "markdown",
   "id": "fde64ac4-c39d-4812-a737-3bffced5cd96",
   "metadata": {},
   "source": [
    "### 2D"
   ]
  },
  {
   "cell_type": "code",
   "execution_count": 186,
   "id": "65aeac97-3a3a-4045-ab60-4dd36ed17178",
   "metadata": {},
   "outputs": [
    {
     "data": {
      "text/plain": [
       "<matplotlib.collections.PathCollection at 0x7f6346f7e5f0>"
      ]
     },
     "execution_count": 186,
     "metadata": {},
     "output_type": "execute_result"
    },
    {
     "data": {
      "image/png": "[encoded data removed]",
      "text/plain": [
       "<Figure size 640x480 with 1 Axes>"
      ]
     },
     "metadata": {},
     "output_type": "display_data"
    }
   ],
   "source": [
    "fig, ax = plt.subplots()\n",
    "ax.scatter(pca_df[\"PC1\"][yy==1], pca_df[\"PC2\"][yy==1])\n",
    "ax.scatter(pca_df[\"PC1\"][yy==0], pca_df[\"PC2\"][yy==0], c=\"r\")"
   ]
  },
  {
   "cell_type": "markdown",
   "id": "04905493-2e5e-4b8e-ab1e-c02197ace364",
   "metadata": {},
   "source": [
    "### 3D"
   ]
  },
  {
   "cell_type": "code",
   "execution_count": 187,
   "id": "14d3124d-4ff7-494a-a71f-04f8d9317fe1",
   "metadata": {
    "tags": []
   },
   "outputs": [
    {
     "data": {
      "text/plain": [
       "<mpl_toolkits.mplot3d.art3d.Path3DCollection at 0x7f6346fdd3f0>"
      ]
     },
     "execution_count": 187,
     "metadata": {},
     "output_type": "execute_result"
    },
    {
     "data": {
      "image/png": "[encoded data removed]",
      "text/plain": [
       "<Figure size 640x480 with 1 Axes>"
      ]
     },
     "metadata": {},
     "output_type": "display_data"
    }
   ],
   "source": [
    "from mpl_toolkits.mplot3d import Axes3D\n",
    "fig, ax = plt.subplots(subplot_kw={\"projection\":\"3d\"})\n",
    "ax.scatter(pca_df[\"PC1\"][yy==1], pca_df[\"PC2\"][yy==1], pca_df[\"PC3\"][yy==1], s=1)\n",
    "ax.scatter(pca_df[\"PC1\"][yy==0], pca_df[\"PC2\"][yy==0], pca_df[\"PC3\"][yy==0], c=\"r\", s=1)"
   ]
  }
 ],
 "metadata": {
  "kernelspec": {
   "display_name": "chemin_kernel",
   "language": "python",
   "name": "chemin_kernel"
  },
  "language_info": {
   "codemirror_mode": {
    "name": "ipython",
    "version": 3
   },
   "file_extension": ".py",
   "mimetype": "text/x-python",
   "name": "python",
   "nbconvert_exporter": "python",
   "pygments_lexer": "ipython3",
   "version": "3.10.6"
  },
  "toc-autonumbering": false
 },
 "nbformat": 4,
 "nbformat_minor": 5
}
