{
 "cells": [
  {
   "cell_type": "markdown",
   "id": "19841a59-2dfb-4176-8720-7b08fff04566",
   "metadata": {
    "tags": []
   },
   "source": [
    "# Import"
   ]
  },
  {
   "cell_type": "code",
   "execution_count": 1,
   "id": "00cc765c-f4fc-4927-8845-5af146864e08",
   "metadata": {},
   "outputs": [],
   "source": [
    "import numpy as np\n",
    "import pandas as pd\n",
    "from rdkit import Chem\n",
    "from scipy import stats\n",
    "\n",
    "import pathlib\n",
    "\n",
    "import matplotlib.pyplot as plt\n",
    "import seaborn as sns"
   ]
  },
  {
   "cell_type": "code",
   "execution_count": 2,
   "id": "3a632fad-1fec-4540-87df-a44d4564b185",
   "metadata": {},
   "outputs": [],
   "source": [
    "from matplotlib import rcParams\n",
    "rcParams[\"font.size\"] = 20"
   ]
  },
  {
   "cell_type": "markdown",
   "id": "5a9f2a1b-b55e-4555-afd7-5d4c51e1fd2e",
   "metadata": {
    "tags": []
   },
   "source": [
    "# Read Data"
   ]
  },
  {
   "cell_type": "code",
   "execution_count": 3,
   "id": "dffd0fe3-64ac-46be-952b-c83d9d1f8af8",
   "metadata": {},
   "outputs": [],
   "source": [
    "qm9 = pd.read_csv(\"qm_ext_plus.csv\")\n",
    "qm9.index = qm9[\"Unnamed: 0\"]\n",
    "qm9.drop(columns=[\"Unnamed: 0\"], inplace=True)\n",
    "qm9[\"mol\"] = qm9[\"smiles\"].apply(Chem.MolFromSmiles)"
   ]
  },
  {
   "cell_type": "code",
   "execution_count": 4,
   "id": "5dca2d65-b6e7-4672-961d-3d621331c544",
   "metadata": {},
   "outputs": [
    {
     "data": {
      "text/html": [
       "<div>\n",
       "<style scoped>\n",
       "    .dataframe tbody tr th:only-of-type {\n",
       "        vertical-align: middle;\n",
       "    }\n",
       "\n",
       "    .dataframe tbody tr th {\n",
       "        vertical-align: top;\n",
       "    }\n",
       "\n",
       "    .dataframe thead th {\n",
       "        text-align: right;\n",
       "    }\n",
       "</style>\n",
       "<table border=\"1\" class=\"dataframe\">\n",
       "  <thead>\n",
       "    <tr style=\"text-align: right;\">\n",
       "      <th></th>\n",
       "      <th>smiles</th>\n",
       "      <th>mu</th>\n",
       "      <th>alpha</th>\n",
       "      <th>homo</th>\n",
       "      <th>lumo</th>\n",
       "      <th>gap</th>\n",
       "      <th>zpve</th>\n",
       "      <th>cv</th>\n",
       "      <th>u0</th>\n",
       "      <th>u298</th>\n",
       "      <th>h298</th>\n",
       "      <th>g298</th>\n",
       "      <th>num_atoms</th>\n",
       "      <th>mol</th>\n",
       "    </tr>\n",
       "    <tr>\n",
       "      <th>Unnamed: 0</th>\n",
       "      <th></th>\n",
       "      <th></th>\n",
       "      <th></th>\n",
       "      <th></th>\n",
       "      <th></th>\n",
       "      <th></th>\n",
       "      <th></th>\n",
       "      <th></th>\n",
       "      <th></th>\n",
       "      <th></th>\n",
       "      <th></th>\n",
       "      <th></th>\n",
       "      <th></th>\n",
       "      <th></th>\n",
       "    </tr>\n",
       "  </thead>\n",
       "  <tbody>\n",
       "    <tr>\n",
       "      <th>0</th>\n",
       "      <td>C</td>\n",
       "      <td>0.0000</td>\n",
       "      <td>13.210000</td>\n",
       "      <td>-0.387700</td>\n",
       "      <td>0.117100</td>\n",
       "      <td>0.504800</td>\n",
       "      <td>0.044749</td>\n",
       "      <td>6.469</td>\n",
       "      <td>-40.478930</td>\n",
       "      <td>-40.476062</td>\n",
       "      <td>-40.475117</td>\n",
       "      <td>-40.498597</td>\n",
       "      <td>1</td>\n",
       "      <td>&lt;rdkit.Chem.rdchem.Mol object at 0x7f34e34925c0&gt;</td>\n",
       "    </tr>\n",
       "    <tr>\n",
       "      <th>1</th>\n",
       "      <td>N</td>\n",
       "      <td>1.6256</td>\n",
       "      <td>9.460000</td>\n",
       "      <td>-0.257000</td>\n",
       "      <td>0.082900</td>\n",
       "      <td>0.339900</td>\n",
       "      <td>0.034358</td>\n",
       "      <td>6.316</td>\n",
       "      <td>-56.525887</td>\n",
       "      <td>-56.523026</td>\n",
       "      <td>-56.522082</td>\n",
       "      <td>-56.544961</td>\n",
       "      <td>1</td>\n",
       "      <td>&lt;rdkit.Chem.rdchem.Mol object at 0x7f34e34926e0&gt;</td>\n",
       "    </tr>\n",
       "    <tr>\n",
       "      <th>2</th>\n",
       "      <td>O</td>\n",
       "      <td>1.8511</td>\n",
       "      <td>6.310000</td>\n",
       "      <td>-0.292800</td>\n",
       "      <td>0.068700</td>\n",
       "      <td>0.361500</td>\n",
       "      <td>0.021375</td>\n",
       "      <td>6.002</td>\n",
       "      <td>-76.404702</td>\n",
       "      <td>-76.401867</td>\n",
       "      <td>-76.400922</td>\n",
       "      <td>-76.422349</td>\n",
       "      <td>1</td>\n",
       "      <td>&lt;rdkit.Chem.rdchem.Mol object at 0x7f34e3492860&gt;</td>\n",
       "    </tr>\n",
       "    <tr>\n",
       "      <th>3</th>\n",
       "      <td>C#C</td>\n",
       "      <td>0.0000</td>\n",
       "      <td>16.280000</td>\n",
       "      <td>-0.284500</td>\n",
       "      <td>0.050600</td>\n",
       "      <td>0.335100</td>\n",
       "      <td>0.026841</td>\n",
       "      <td>8.574</td>\n",
       "      <td>-77.308427</td>\n",
       "      <td>-77.305527</td>\n",
       "      <td>-77.304583</td>\n",
       "      <td>-77.327429</td>\n",
       "      <td>2</td>\n",
       "      <td>&lt;rdkit.Chem.rdchem.Mol object at 0x7f34e34922c0&gt;</td>\n",
       "    </tr>\n",
       "    <tr>\n",
       "      <th>4</th>\n",
       "      <td>C#N</td>\n",
       "      <td>2.8937</td>\n",
       "      <td>12.990000</td>\n",
       "      <td>-0.360400</td>\n",
       "      <td>0.019100</td>\n",
       "      <td>0.379600</td>\n",
       "      <td>0.016601</td>\n",
       "      <td>6.278</td>\n",
       "      <td>-93.411888</td>\n",
       "      <td>-93.409370</td>\n",
       "      <td>-93.408425</td>\n",
       "      <td>-93.431246</td>\n",
       "      <td>2</td>\n",
       "      <td>&lt;rdkit.Chem.rdchem.Mol object at 0x7f34e3491f60&gt;</td>\n",
       "    </tr>\n",
       "    <tr>\n",
       "      <th>...</th>\n",
       "      <td>...</td>\n",
       "      <td>...</td>\n",
       "      <td>...</td>\n",
       "      <td>...</td>\n",
       "      <td>...</td>\n",
       "      <td>...</td>\n",
       "      <td>...</td>\n",
       "      <td>...</td>\n",
       "      <td>...</td>\n",
       "      <td>...</td>\n",
       "      <td>...</td>\n",
       "      <td>...</td>\n",
       "      <td>...</td>\n",
       "      <td>...</td>\n",
       "    </tr>\n",
       "    <tr>\n",
       "      <th>155584</th>\n",
       "      <td>CCCCCC(Cl)(Cl)Cl</td>\n",
       "      <td>1.6998</td>\n",
       "      <td>91.438949</td>\n",
       "      <td>-0.437290</td>\n",
       "      <td>0.151861</td>\n",
       "      <td>0.589151</td>\n",
       "      <td>0.160407</td>\n",
       "      <td>39.627</td>\n",
       "      <td>-1612.899018</td>\n",
       "      <td>-1615.123029</td>\n",
       "      <td>-1612.726294</td>\n",
       "      <td>-1612.777780</td>\n",
       "      <td>9</td>\n",
       "      <td>&lt;rdkit.Chem.rdchem.Mol object at 0x7f34e1a42860&gt;</td>\n",
       "    </tr>\n",
       "    <tr>\n",
       "      <th>155585</th>\n",
       "      <td>CCCNCC(Cl)(Cl)Cl</td>\n",
       "      <td>1.0758</td>\n",
       "      <td>88.241518</td>\n",
       "      <td>-0.375428</td>\n",
       "      <td>0.153217</td>\n",
       "      <td>0.528645</td>\n",
       "      <td>0.149152</td>\n",
       "      <td>39.102</td>\n",
       "      <td>-1628.886186</td>\n",
       "      <td>-1631.151460</td>\n",
       "      <td>-1628.724865</td>\n",
       "      <td>-1628.775694</td>\n",
       "      <td>9</td>\n",
       "      <td>&lt;rdkit.Chem.rdchem.Mol object at 0x7f34e1a428c0&gt;</td>\n",
       "    </tr>\n",
       "    <tr>\n",
       "      <th>155586</th>\n",
       "      <td>CCCOCC(Cl)(Cl)Cl</td>\n",
       "      <td>5.6070</td>\n",
       "      <td>83.982178</td>\n",
       "      <td>-0.429966</td>\n",
       "      <td>0.153852</td>\n",
       "      <td>0.583818</td>\n",
       "      <td>0.136714</td>\n",
       "      <td>37.858</td>\n",
       "      <td>-1648.698216</td>\n",
       "      <td>-1651.009167</td>\n",
       "      <td>-1648.549519</td>\n",
       "      <td>-1648.600105</td>\n",
       "      <td>9</td>\n",
       "      <td>&lt;rdkit.Chem.rdchem.Mol object at 0x7f34e1a42920&gt;</td>\n",
       "    </tr>\n",
       "    <tr>\n",
       "      <th>155587</th>\n",
       "      <td>CCOCCC(Cl)(Cl)Cl</td>\n",
       "      <td>2.3204</td>\n",
       "      <td>84.138259</td>\n",
       "      <td>-0.422295</td>\n",
       "      <td>0.154023</td>\n",
       "      <td>0.576318</td>\n",
       "      <td>0.136364</td>\n",
       "      <td>37.923</td>\n",
       "      <td>-1648.697812</td>\n",
       "      <td>-1651.009802</td>\n",
       "      <td>-1648.549344</td>\n",
       "      <td>-1648.600651</td>\n",
       "      <td>9</td>\n",
       "      <td>&lt;rdkit.Chem.rdchem.Mol object at 0x7f34e1a42980&gt;</td>\n",
       "    </tr>\n",
       "    <tr>\n",
       "      <th>155588</th>\n",
       "      <td>COCCCC(Cl)(Cl)Cl</td>\n",
       "      <td>1.2436</td>\n",
       "      <td>84.161490</td>\n",
       "      <td>-0.423938</td>\n",
       "      <td>0.149230</td>\n",
       "      <td>0.573168</td>\n",
       "      <td>0.136824</td>\n",
       "      <td>37.796</td>\n",
       "      <td>-1648.694048</td>\n",
       "      <td>-1651.004804</td>\n",
       "      <td>-1648.545188</td>\n",
       "      <td>-1648.595878</td>\n",
       "      <td>9</td>\n",
       "      <td>&lt;rdkit.Chem.rdchem.Mol object at 0x7f34e1a429e0&gt;</td>\n",
       "    </tr>\n",
       "  </tbody>\n",
       "</table>\n",
       "<p>155468 rows × 14 columns</p>\n",
       "</div>"
      ],
      "text/plain": [
       "                      smiles      mu      alpha      homo      lumo       gap  \\\n",
       "Unnamed: 0                                                                      \n",
       "0                          C  0.0000  13.210000 -0.387700  0.117100  0.504800   \n",
       "1                          N  1.6256   9.460000 -0.257000  0.082900  0.339900   \n",
       "2                          O  1.8511   6.310000 -0.292800  0.068700  0.361500   \n",
       "3                        C#C  0.0000  16.280000 -0.284500  0.050600  0.335100   \n",
       "4                        C#N  2.8937  12.990000 -0.360400  0.019100  0.379600   \n",
       "...                      ...     ...        ...       ...       ...       ...   \n",
       "155584      CCCCCC(Cl)(Cl)Cl  1.6998  91.438949 -0.437290  0.151861  0.589151   \n",
       "155585      CCCNCC(Cl)(Cl)Cl  1.0758  88.241518 -0.375428  0.153217  0.528645   \n",
       "155586      CCCOCC(Cl)(Cl)Cl  5.6070  83.982178 -0.429966  0.153852  0.583818   \n",
       "155587      CCOCCC(Cl)(Cl)Cl  2.3204  84.138259 -0.422295  0.154023  0.576318   \n",
       "155588      COCCCC(Cl)(Cl)Cl  1.2436  84.161490 -0.423938  0.149230  0.573168   \n",
       "\n",
       "                zpve      cv           u0         u298         h298  \\\n",
       "Unnamed: 0                                                            \n",
       "0           0.044749   6.469   -40.478930   -40.476062   -40.475117   \n",
       "1           0.034358   6.316   -56.525887   -56.523026   -56.522082   \n",
       "2           0.021375   6.002   -76.404702   -76.401867   -76.400922   \n",
       "3           0.026841   8.574   -77.308427   -77.305527   -77.304583   \n",
       "4           0.016601   6.278   -93.411888   -93.409370   -93.408425   \n",
       "...              ...     ...          ...          ...          ...   \n",
       "155584      0.160407  39.627 -1612.899018 -1615.123029 -1612.726294   \n",
       "155585      0.149152  39.102 -1628.886186 -1631.151460 -1628.724865   \n",
       "155586      0.136714  37.858 -1648.698216 -1651.009167 -1648.549519   \n",
       "155587      0.136364  37.923 -1648.697812 -1651.009802 -1648.549344   \n",
       "155588      0.136824  37.796 -1648.694048 -1651.004804 -1648.545188   \n",
       "\n",
       "                   g298  num_atoms  \\\n",
       "Unnamed: 0                           \n",
       "0            -40.498597          1   \n",
       "1            -56.544961          1   \n",
       "2            -76.422349          1   \n",
       "3            -77.327429          2   \n",
       "4            -93.431246          2   \n",
       "...                 ...        ...   \n",
       "155584     -1612.777780          9   \n",
       "155585     -1628.775694          9   \n",
       "155586     -1648.600105          9   \n",
       "155587     -1648.600651          9   \n",
       "155588     -1648.595878          9   \n",
       "\n",
       "                                                         mol  \n",
       "Unnamed: 0                                                    \n",
       "0           <rdkit.Chem.rdchem.Mol object at 0x7f34e34925c0>  \n",
       "1           <rdkit.Chem.rdchem.Mol object at 0x7f34e34926e0>  \n",
       "2           <rdkit.Chem.rdchem.Mol object at 0x7f34e3492860>  \n",
       "3           <rdkit.Chem.rdchem.Mol object at 0x7f34e34922c0>  \n",
       "4           <rdkit.Chem.rdchem.Mol object at 0x7f34e3491f60>  \n",
       "...                                                      ...  \n",
       "155584      <rdkit.Chem.rdchem.Mol object at 0x7f34e1a42860>  \n",
       "155585      <rdkit.Chem.rdchem.Mol object at 0x7f34e1a428c0>  \n",
       "155586      <rdkit.Chem.rdchem.Mol object at 0x7f34e1a42920>  \n",
       "155587      <rdkit.Chem.rdchem.Mol object at 0x7f34e1a42980>  \n",
       "155588      <rdkit.Chem.rdchem.Mol object at 0x7f34e1a429e0>  \n",
       "\n",
       "[155468 rows x 14 columns]"
      ]
     },
     "execution_count": 4,
     "metadata": {},
     "output_type": "execute_result"
    }
   ],
   "source": [
    "qm9.dropna()"
   ]
  },
  {
   "cell_type": "code",
   "execution_count": 5,
   "id": "75971d63-3142-466e-aab2-9f601c8a871b",
   "metadata": {
    "tags": []
   },
   "outputs": [],
   "source": [
    "db_conf = pd.read_parquet(\"db_conf.parquet\")\n",
    "db_conf.index = db_conf[\"db_idx\"]\n",
    "db_conf.drop(columns=[\"Unnamed: 0\", \"db_idx\"], inplace=True)\n",
    "db_conf[\"mol\"] = db_conf[\"smiles\"].apply(Chem.MolFromSmiles)\n",
    "# db_conf.drop(columns=[\"CONF\", \"CONFCl\", \"CONFClBr\", \"CONFClBrI\"], inplace=True)"
   ]
  },
  {
   "cell_type": "code",
   "execution_count": 6,
   "id": "69caca8d-c028-4915-ae5b-efbe57bef523",
   "metadata": {},
   "outputs": [],
   "source": [
    "na_ind = db_conf[db_conf.iloc[:,4:-1].isna().all(axis=1)].index"
   ]
  },
  {
   "cell_type": "code",
   "execution_count": 7,
   "id": "b0d6313b-d14a-4079-b44b-ceb8092a9899",
   "metadata": {},
   "outputs": [],
   "source": [
    "db_conf = db_conf.drop(index=na_ind)\n",
    "db_conf = db_conf.reset_index(drop=True)"
   ]
  },
  {
   "cell_type": "markdown",
   "id": "12cc550b-4d62-4f31-843d-87bdae9fab4a",
   "metadata": {},
   "source": [
    "# Labels Encoding"
   ]
  },
  {
   "cell_type": "code",
   "execution_count": 8,
   "id": "259bc015-397b-459a-9cb2-c72aa7bfdc95",
   "metadata": {},
   "outputs": [],
   "source": [
    "from sklearn import preprocessing"
   ]
  },
  {
   "cell_type": "code",
   "execution_count": 9,
   "id": "3043d737-acff-409b-8476-360b614b3a4c",
   "metadata": {},
   "outputs": [],
   "source": [
    "le = preprocessing.LabelEncoder()\n",
    "le.fit([\"nB\", \"B\"])\n",
    "db_conf[\"class_encoded\"] = le.transform(db_conf[\"Experimental BCF class\"])"
   ]
  },
  {
   "cell_type": "code",
   "execution_count": 10,
   "id": "4e811681-9153-4329-8eb5-4152dccef870",
   "metadata": {},
   "outputs": [],
   "source": [
    "db_conf[\"class_encoded\"] = db_conf[\"class_encoded\"].replace({1:0, 0:1})"
   ]
  },
  {
   "cell_type": "code",
   "execution_count": 11,
   "id": "a560818a-61a7-4bc9-b684-a47b7f744082",
   "metadata": {},
   "outputs": [
    {
     "data": {
      "text/html": [
       "<div>\n",
       "<style scoped>\n",
       "    .dataframe tbody tr th:only-of-type {\n",
       "        vertical-align: middle;\n",
       "    }\n",
       "\n",
       "    .dataframe tbody tr th {\n",
       "        vertical-align: top;\n",
       "    }\n",
       "\n",
       "    .dataframe thead th {\n",
       "        text-align: right;\n",
       "    }\n",
       "</style>\n",
       "<table border=\"1\" class=\"dataframe\">\n",
       "  <thead>\n",
       "    <tr style=\"text-align: right;\">\n",
       "      <th></th>\n",
       "      <th>smiles</th>\n",
       "      <th>Experimental logarithmic BCF</th>\n",
       "      <th>Experimental BCF class</th>\n",
       "      <th>FQD_2</th>\n",
       "      <th>FQD_3</th>\n",
       "      <th>FQD_4</th>\n",
       "      <th>FQD_5</th>\n",
       "      <th>FQD_6</th>\n",
       "      <th>FQD_7</th>\n",
       "      <th>FQD_8</th>\n",
       "      <th>FQD_9</th>\n",
       "      <th>mol</th>\n",
       "      <th>class_encoded</th>\n",
       "    </tr>\n",
       "  </thead>\n",
       "  <tbody>\n",
       "    <tr>\n",
       "      <th>0</th>\n",
       "      <td>CNc1cccc(C)c1</td>\n",
       "      <td>0.849</td>\n",
       "      <td>nB</td>\n",
       "      <td>[6]</td>\n",
       "      <td>None</td>\n",
       "      <td>None</td>\n",
       "      <td>None</td>\n",
       "      <td>[213]</td>\n",
       "      <td>[929, 939]</td>\n",
       "      <td>[4340, 5388]</td>\n",
       "      <td>[32107]</td>\n",
       "      <td>&lt;rdkit.Chem.rdchem.Mol object at 0x7f34e1a6c6a0&gt;</td>\n",
       "      <td>0</td>\n",
       "    </tr>\n",
       "    <tr>\n",
       "      <th>1</th>\n",
       "      <td>CC(COc1ccc(Oc2ccccc2)cc1)Oc1ccccn1</td>\n",
       "      <td>3.140</td>\n",
       "      <td>B</td>\n",
       "      <td>[6, 7]</td>\n",
       "      <td>[12, 13, 14]</td>\n",
       "      <td>[21, 39, 40, 41]</td>\n",
       "      <td>[81, 84, 134, 136]</td>\n",
       "      <td>[213, 214, 277, 395, 548]</td>\n",
       "      <td>[948, 953, 1578]</td>\n",
       "      <td>[4590, 5397, 5402]</td>\n",
       "      <td>[31844, 33001, 33006]</td>\n",
       "      <td>&lt;rdkit.Chem.rdchem.Mol object at 0x7f34e1a6c700&gt;</td>\n",
       "      <td>1</td>\n",
       "    </tr>\n",
       "    <tr>\n",
       "      <th>2</th>\n",
       "      <td>CCCCCCCC/C=C\\CCCCCCCCCCCCC</td>\n",
       "      <td>1.176</td>\n",
       "      <td>nB</td>\n",
       "      <td>[6]</td>\n",
       "      <td>[12]</td>\n",
       "      <td>[38]</td>\n",
       "      <td>[132]</td>\n",
       "      <td>[542]</td>\n",
       "      <td>[2719]</td>\n",
       "      <td>[14787]</td>\n",
       "      <td>[123245]</td>\n",
       "      <td>&lt;rdkit.Chem.rdchem.Mol object at 0x7f34ded535e0&gt;</td>\n",
       "      <td>0</td>\n",
       "    </tr>\n",
       "    <tr>\n",
       "      <th>3</th>\n",
       "      <td>Clc1ccccc1Cl</td>\n",
       "      <td>2.500</td>\n",
       "      <td>nB</td>\n",
       "      <td>None</td>\n",
       "      <td>None</td>\n",
       "      <td>None</td>\n",
       "      <td>None</td>\n",
       "      <td>[213]</td>\n",
       "      <td>[134076]</td>\n",
       "      <td>[135441]</td>\n",
       "      <td>None</td>\n",
       "      <td>&lt;rdkit.Chem.rdchem.Mol object at 0x7f34ded534c0&gt;</td>\n",
       "      <td>0</td>\n",
       "    </tr>\n",
       "    <tr>\n",
       "      <th>4</th>\n",
       "      <td>Nc1cccc([N+](=O)[O-])c1</td>\n",
       "      <td>0.522</td>\n",
       "      <td>nB</td>\n",
       "      <td>None</td>\n",
       "      <td>None</td>\n",
       "      <td>None</td>\n",
       "      <td>None</td>\n",
       "      <td>[213]</td>\n",
       "      <td>[939]</td>\n",
       "      <td>[4360]</td>\n",
       "      <td>[131914]</td>\n",
       "      <td>&lt;rdkit.Chem.rdchem.Mol object at 0x7f34ded53460&gt;</td>\n",
       "      <td>0</td>\n",
       "    </tr>\n",
       "    <tr>\n",
       "      <th>...</th>\n",
       "      <td>...</td>\n",
       "      <td>...</td>\n",
       "      <td>...</td>\n",
       "      <td>...</td>\n",
       "      <td>...</td>\n",
       "      <td>...</td>\n",
       "      <td>...</td>\n",
       "      <td>...</td>\n",
       "      <td>...</td>\n",
       "      <td>...</td>\n",
       "      <td>...</td>\n",
       "      <td>...</td>\n",
       "      <td>...</td>\n",
       "    </tr>\n",
       "    <tr>\n",
       "      <th>834</th>\n",
       "      <td>CC1=C(C)S(=O)(=O)CCS1(=O)=O</td>\n",
       "      <td>0.633</td>\n",
       "      <td>nB</td>\n",
       "      <td>[6]</td>\n",
       "      <td>None</td>\n",
       "      <td>None</td>\n",
       "      <td>None</td>\n",
       "      <td>[133896, 133900]</td>\n",
       "      <td>[134043, 134044, 134066, 134068]</td>\n",
       "      <td>[135086, 135404, 135405]</td>\n",
       "      <td>[145115]</td>\n",
       "      <td>&lt;rdkit.Chem.rdchem.Mol object at 0x7f34ded3fb20&gt;</td>\n",
       "      <td>0</td>\n",
       "    </tr>\n",
       "    <tr>\n",
       "      <th>835</th>\n",
       "      <td>FC(F)(F)c1ccc(Cl)c(Cl)c1</td>\n",
       "      <td>3.176</td>\n",
       "      <td>B</td>\n",
       "      <td>[6]</td>\n",
       "      <td>None</td>\n",
       "      <td>None</td>\n",
       "      <td>None</td>\n",
       "      <td>[213]</td>\n",
       "      <td>[929, 134076]</td>\n",
       "      <td>[134378, 134382, 135441]</td>\n",
       "      <td>[137748]</td>\n",
       "      <td>&lt;rdkit.Chem.rdchem.Mol object at 0x7f34ded3fb80&gt;</td>\n",
       "      <td>1</td>\n",
       "    </tr>\n",
       "    <tr>\n",
       "      <th>836</th>\n",
       "      <td>CN(C)[C@@H]1C(=O)C(C(=N)O)=C(O)[C@@]2(O)C(=O)C...</td>\n",
       "      <td>-0.222</td>\n",
       "      <td>nB</td>\n",
       "      <td>[5, 6, 7]</td>\n",
       "      <td>[10, 12, 13]</td>\n",
       "      <td>[17, 20, 21, 34, 37, 38, 39, 41]</td>\n",
       "      <td>[54, 67, 68, 70, 71, 80, 81, 82, 83, 127, 131,...</td>\n",
       "      <td>[213, 224, 226, 228, 254, 258, 259, 260, 271, ...</td>\n",
       "      <td>[929, 948, 1092, 1094, 1099, 1104, 1119, 1129,...</td>\n",
       "      <td>[4341, 4957, 4959, 5378, 5407, 5809, 5841, 584...</td>\n",
       "      <td>[26263, 26273, 28867, 32083, 32170, 32193, 322...</td>\n",
       "      <td>&lt;rdkit.Chem.rdchem.Mol object at 0x7f34ded3fbe0&gt;</td>\n",
       "      <td>0</td>\n",
       "    </tr>\n",
       "    <tr>\n",
       "      <th>837</th>\n",
       "      <td>CC(C)N(C(=O)CCl)c1ccccc1</td>\n",
       "      <td>1.568</td>\n",
       "      <td>nB</td>\n",
       "      <td>[5, 6]</td>\n",
       "      <td>[10, 11, 12]</td>\n",
       "      <td>[18, 35]</td>\n",
       "      <td>[69, 73, 128]</td>\n",
       "      <td>[213, 255, 262, 288, 386]</td>\n",
       "      <td>[939, 1121, 1626, 1677]</td>\n",
       "      <td>[5388, 7443]</td>\n",
       "      <td>[25503, 26283, 32992]</td>\n",
       "      <td>&lt;rdkit.Chem.rdchem.Mol object at 0x7f34ded3fc40&gt;</td>\n",
       "      <td>0</td>\n",
       "    </tr>\n",
       "    <tr>\n",
       "      <th>838</th>\n",
       "      <td>Cc1cc(Cc2cc(C)cc(C(C)(C)C)c2O)c(O)c(C(C)(C)C)c1</td>\n",
       "      <td>2.595</td>\n",
       "      <td>nB</td>\n",
       "      <td>[6, 7]</td>\n",
       "      <td>[12]</td>\n",
       "      <td>[20]</td>\n",
       "      <td>[53]</td>\n",
       "      <td>[213]</td>\n",
       "      <td>[929, 948]</td>\n",
       "      <td>[4335, 4564, 4959, 5378]</td>\n",
       "      <td>[26263, 27871, 28436, 28900, 32080, 32203]</td>\n",
       "      <td>&lt;rdkit.Chem.rdchem.Mol object at 0x7f34ded3fca0&gt;</td>\n",
       "      <td>0</td>\n",
       "    </tr>\n",
       "  </tbody>\n",
       "</table>\n",
       "<p>839 rows × 13 columns</p>\n",
       "</div>"
      ],
      "text/plain": [
       "                                                smiles  \\\n",
       "0                                        CNc1cccc(C)c1   \n",
       "1                   CC(COc1ccc(Oc2ccccc2)cc1)Oc1ccccn1   \n",
       "2                           CCCCCCCC/C=C\\CCCCCCCCCCCCC   \n",
       "3                                         Clc1ccccc1Cl   \n",
       "4                              Nc1cccc([N+](=O)[O-])c1   \n",
       "..                                                 ...   \n",
       "834                        CC1=C(C)S(=O)(=O)CCS1(=O)=O   \n",
       "835                           FC(F)(F)c1ccc(Cl)c(Cl)c1   \n",
       "836  CN(C)[C@@H]1C(=O)C(C(=N)O)=C(O)[C@@]2(O)C(=O)C...   \n",
       "837                           CC(C)N(C(=O)CCl)c1ccccc1   \n",
       "838    Cc1cc(Cc2cc(C)cc(C(C)(C)C)c2O)c(O)c(C(C)(C)C)c1   \n",
       "\n",
       "     Experimental logarithmic BCF Experimental BCF class      FQD_2  \\\n",
       "0                           0.849                     nB        [6]   \n",
       "1                           3.140                      B     [6, 7]   \n",
       "2                           1.176                     nB        [6]   \n",
       "3                           2.500                     nB       None   \n",
       "4                           0.522                     nB       None   \n",
       "..                            ...                    ...        ...   \n",
       "834                         0.633                     nB        [6]   \n",
       "835                         3.176                      B        [6]   \n",
       "836                        -0.222                     nB  [5, 6, 7]   \n",
       "837                         1.568                     nB     [5, 6]   \n",
       "838                         2.595                     nB     [6, 7]   \n",
       "\n",
       "            FQD_3                             FQD_4  \\\n",
       "0            None                              None   \n",
       "1    [12, 13, 14]                  [21, 39, 40, 41]   \n",
       "2            [12]                              [38]   \n",
       "3            None                              None   \n",
       "4            None                              None   \n",
       "..            ...                               ...   \n",
       "834          None                              None   \n",
       "835          None                              None   \n",
       "836  [10, 12, 13]  [17, 20, 21, 34, 37, 38, 39, 41]   \n",
       "837  [10, 11, 12]                          [18, 35]   \n",
       "838          [12]                              [20]   \n",
       "\n",
       "                                                 FQD_5  \\\n",
       "0                                                 None   \n",
       "1                                   [81, 84, 134, 136]   \n",
       "2                                                [132]   \n",
       "3                                                 None   \n",
       "4                                                 None   \n",
       "..                                                 ...   \n",
       "834                                               None   \n",
       "835                                               None   \n",
       "836  [54, 67, 68, 70, 71, 80, 81, 82, 83, 127, 131,...   \n",
       "837                                      [69, 73, 128]   \n",
       "838                                               [53]   \n",
       "\n",
       "                                                 FQD_6  \\\n",
       "0                                                [213]   \n",
       "1                            [213, 214, 277, 395, 548]   \n",
       "2                                                [542]   \n",
       "3                                                [213]   \n",
       "4                                                [213]   \n",
       "..                                                 ...   \n",
       "834                                   [133896, 133900]   \n",
       "835                                              [213]   \n",
       "836  [213, 224, 226, 228, 254, 258, 259, 260, 271, ...   \n",
       "837                          [213, 255, 262, 288, 386]   \n",
       "838                                              [213]   \n",
       "\n",
       "                                                 FQD_7  \\\n",
       "0                                           [929, 939]   \n",
       "1                                     [948, 953, 1578]   \n",
       "2                                               [2719]   \n",
       "3                                             [134076]   \n",
       "4                                                [939]   \n",
       "..                                                 ...   \n",
       "834                   [134043, 134044, 134066, 134068]   \n",
       "835                                      [929, 134076]   \n",
       "836  [929, 948, 1092, 1094, 1099, 1104, 1119, 1129,...   \n",
       "837                            [939, 1121, 1626, 1677]   \n",
       "838                                         [929, 948]   \n",
       "\n",
       "                                                 FQD_8  \\\n",
       "0                                         [4340, 5388]   \n",
       "1                                   [4590, 5397, 5402]   \n",
       "2                                              [14787]   \n",
       "3                                             [135441]   \n",
       "4                                               [4360]   \n",
       "..                                                 ...   \n",
       "834                           [135086, 135404, 135405]   \n",
       "835                           [134378, 134382, 135441]   \n",
       "836  [4341, 4957, 4959, 5378, 5407, 5809, 5841, 584...   \n",
       "837                                       [5388, 7443]   \n",
       "838                           [4335, 4564, 4959, 5378]   \n",
       "\n",
       "                                                 FQD_9  \\\n",
       "0                                              [32107]   \n",
       "1                                [31844, 33001, 33006]   \n",
       "2                                             [123245]   \n",
       "3                                                 None   \n",
       "4                                             [131914]   \n",
       "..                                                 ...   \n",
       "834                                           [145115]   \n",
       "835                                           [137748]   \n",
       "836  [26263, 26273, 28867, 32083, 32170, 32193, 322...   \n",
       "837                              [25503, 26283, 32992]   \n",
       "838         [26263, 27871, 28436, 28900, 32080, 32203]   \n",
       "\n",
       "                                                  mol  class_encoded  \n",
       "0    <rdkit.Chem.rdchem.Mol object at 0x7f34e1a6c6a0>              0  \n",
       "1    <rdkit.Chem.rdchem.Mol object at 0x7f34e1a6c700>              1  \n",
       "2    <rdkit.Chem.rdchem.Mol object at 0x7f34ded535e0>              0  \n",
       "3    <rdkit.Chem.rdchem.Mol object at 0x7f34ded534c0>              0  \n",
       "4    <rdkit.Chem.rdchem.Mol object at 0x7f34ded53460>              0  \n",
       "..                                                ...            ...  \n",
       "834  <rdkit.Chem.rdchem.Mol object at 0x7f34ded3fb20>              0  \n",
       "835  <rdkit.Chem.rdchem.Mol object at 0x7f34ded3fb80>              1  \n",
       "836  <rdkit.Chem.rdchem.Mol object at 0x7f34ded3fbe0>              0  \n",
       "837  <rdkit.Chem.rdchem.Mol object at 0x7f34ded3fc40>              0  \n",
       "838  <rdkit.Chem.rdchem.Mol object at 0x7f34ded3fca0>              0  \n",
       "\n",
       "[839 rows x 13 columns]"
      ]
     },
     "execution_count": 11,
     "metadata": {},
     "output_type": "execute_result"
    }
   ],
   "source": [
    "db_conf"
   ]
  },
  {
   "cell_type": "code",
   "execution_count": 12,
   "id": "2e15cbc0-bcee-4f66-964e-74645fde63a2",
   "metadata": {},
   "outputs": [],
   "source": [
    "db_conf[\"mol\"] = db_conf[\"smiles\"].apply(Chem.MolFromSmiles)\n",
    "db_conf[\"num_atoms\"] = db_conf[\"mol\"].apply(lambda x: x.GetNumAtoms())"
   ]
  },
  {
   "cell_type": "markdown",
   "id": "d77992ae-a714-4a09-86e9-a04aa703f37a",
   "metadata": {},
   "source": [
    "# Calculate FQDs"
   ]
  },
  {
   "cell_type": "code",
   "execution_count": 13,
   "id": "5affd9d9-25ce-49a5-90a4-2e6794cb51f9",
   "metadata": {},
   "outputs": [],
   "source": [
    "db_conf_filled = db_conf.copy()"
   ]
  },
  {
   "cell_type": "code",
   "execution_count": 14,
   "id": "884fc480-5123-4a99-abb9-5a6fa3c676bc",
   "metadata": {},
   "outputs": [],
   "source": [
    "qprops = \"mu,alpha,homo,lumo,gap,zpve,u0,u298,h298,g298,cv\".split(\",\")"
   ]
  },
  {
   "cell_type": "code",
   "execution_count": 15,
   "id": "1cffdcff-73fa-4628-8549-cc68576cb709",
   "metadata": {},
   "outputs": [],
   "source": [
    "import statistics\n",
    "def calculate_FQDs(indices, patterns_db, quantum_property):\n",
    "    if isinstance(indices, int) and indices == 0:\n",
    "        return np.NaN\n",
    "    if indices is None:\n",
    "        return np.NaN\n",
    "    ret = []\n",
    "    for i in indices:\n",
    "        ret.append(patterns_db[quantum_property][i])\n",
    "    return statistics.mean(ret)\n",
    "\n",
    "def calculate_FQDs_quant(mol, indices, patterns_db, quantum_property):\n",
    "    if isinstance(indices, int) and indices == 0:\n",
    "        return np.NaN\n",
    "    if indices is None:\n",
    "        return np.NaN\n",
    "    ret = []\n",
    "    for i in indices:\n",
    "        n_occurences = len(list(mol.GetSubstructMatch(patterns_db[\"mol\"][i])))\n",
    "        ret.append(patterns_db[quantum_property][i] * n_occurences)\n",
    "    return statistics.mean(ret)"
   ]
  },
  {
   "cell_type": "code",
   "execution_count": 16,
   "id": "752e47a2-1d84-4ccc-95a4-881b2ffadfbe",
   "metadata": {},
   "outputs": [],
   "source": [
    "# for prop in qprops:\n",
    "#     for num in range(2, 10):\n",
    "#         db_conf_filled[f\"FQD_{num}_{prop}\"] = db_conf_filled[f\"FQD_{num}\"].apply(calculate_FQDs, patterns_db=qm9, quantum_property=prop)"
   ]
  },
  {
   "cell_type": "code",
   "execution_count": 17,
   "id": "9148b920-4dc5-4bb6-8548-13b3db188905",
   "metadata": {
    "tags": []
   },
   "outputs": [],
   "source": [
    "# for prop in qprops:\n",
    "#     for num in range(2, 10):\n",
    "#         db_conf_filled[f\"FQD_{num}_{prop}_per_atom\"] = db_conf_filled[f\"FQD_{num}_{prop}\"] / db_conf_filled[\"num_atoms\"]"
   ]
  },
  {
   "cell_type": "markdown",
   "id": "17372345-9e6c-4beb-94c8-7e9fd9aaf8a9",
   "metadata": {},
   "source": [
    "# Quant FQDs"
   ]
  },
  {
   "cell_type": "code",
   "execution_count": 18,
   "id": "2578151c-6e06-4816-94ae-74922b9a86c4",
   "metadata": {},
   "outputs": [],
   "source": [
    "for prop in qprops:\n",
    "    for num in range(2, 10):\n",
    "        db_conf_filled[f\"quant_FQD_{num}_{prop}\"] = db_conf_filled[\"mol\"].apply(lambda x: calculate_FQDs_quant(x,\n",
    "                                                                          indices=db_conf_filled[db_conf_filled[\"mol\"]==x][f\"FQD_{num}\"].iloc[0],\n",
    "                                                                          patterns_db=qm9,\n",
    "                                                                          quantum_property=prop)\n",
    "                                                                         )"
   ]
  },
  {
   "cell_type": "code",
   "execution_count": 19,
   "id": "0769735f-14c6-4c2d-9928-e10cdc74c650",
   "metadata": {},
   "outputs": [],
   "source": [
    "for prop in qprops:\n",
    "    for num in range(2, 10):\n",
    "        db_conf_filled[f\"quant_FQD_{num}_{prop}_per_atom\"] = db_conf_filled[f\"quant_FQD_{num}_{prop}\"] / db_conf_filled[\"num_atoms\"]"
   ]
  },
  {
   "cell_type": "code",
   "execution_count": 20,
   "id": "cee89f57-00e7-4db4-a18c-dc567f04e035",
   "metadata": {},
   "outputs": [],
   "source": [
    "import itertools\n",
    "fqd_cols_qual = []\n",
    "for num, prop in itertools.product(range(2,10), qprops):\n",
    "    fqd_cols_qual.append(f\"FQD_{num}_{prop}\")\n",
    "fqd_cols_qual_per_atom = [f\"{x}_per_atom\" for x in fqd_cols_qual]\n",
    "quant_fqd_cols = [f\"quant_{x}\" for x in fqd_cols_qual]\n",
    "quant_fqd_cols_per_atom = [f\"quant_{x}\" for x in fqd_cols_qual_per_atom]"
   ]
  },
  {
   "cell_type": "code",
   "execution_count": 21,
   "id": "76d25f24-5022-478a-bc72-9a4897ae9c27",
   "metadata": {
    "tags": []
   },
   "outputs": [
    {
     "data": {
      "text/plain": [
       "Index(['quant_FQD_3_mu', 'quant_FQD_4_mu', 'quant_FQD_5_mu', 'quant_FQD_6_mu',\n",
       "       'quant_FQD_7_mu', 'quant_FQD_8_mu', 'quant_FQD_9_mu',\n",
       "       'quant_FQD_2_alpha', 'quant_FQD_3_alpha', 'quant_FQD_4_alpha',\n",
       "       ...\n",
       "       'quant_FQD_8_g298_per_atom', 'quant_FQD_9_g298_per_atom',\n",
       "       'quant_FQD_2_cv_per_atom', 'quant_FQD_3_cv_per_atom',\n",
       "       'quant_FQD_4_cv_per_atom', 'quant_FQD_5_cv_per_atom',\n",
       "       'quant_FQD_6_cv_per_atom', 'quant_FQD_7_cv_per_atom',\n",
       "       'quant_FQD_8_cv_per_atom', 'quant_FQD_9_cv_per_atom'],\n",
       "      dtype='object', length=175)"
      ]
     },
     "execution_count": 21,
     "metadata": {},
     "output_type": "execute_result"
    }
   ],
   "source": [
    "db_conf_filled.columns[15:]"
   ]
  },
  {
   "cell_type": "code",
   "execution_count": 22,
   "id": "ed370073-4daf-465f-a272-cbd42e734f87",
   "metadata": {
    "tags": []
   },
   "outputs": [],
   "source": [
    "cols = db_conf_filled.columns[15:]"
   ]
  },
  {
   "cell_type": "markdown",
   "id": "68ec8520-5c31-463d-ba50-1d3224e94a5f",
   "metadata": {},
   "source": [
    "# Fill with zeros"
   ]
  },
  {
   "cell_type": "code",
   "execution_count": 23,
   "id": "89870941-3e76-4b3b-9943-de0bfbfad8cd",
   "metadata": {},
   "outputs": [],
   "source": [
    "# x = db_conf_filled[cols].fillna(0)\n",
    "# y = db_conf_filled[\"class_encoded\"]"
   ]
  },
  {
   "cell_type": "code",
   "execution_count": 24,
   "id": "47456db1-9c31-42f9-a59e-1666868cf34c",
   "metadata": {},
   "outputs": [],
   "source": [
    "x = db_conf_filled[cols]\n",
    "y = db_conf_filled[\"class_encoded\"]"
   ]
  },
  {
   "cell_type": "markdown",
   "id": "2a6cf454-0177-4d0d-90b6-64793ef5a9e3",
   "metadata": {},
   "source": [
    "# OOB dataset creation"
   ]
  },
  {
   "cell_type": "code",
   "execution_count": 25,
   "id": "8d6959d4-b03b-44a1-a09c-6737c119fdd3",
   "metadata": {
    "tags": []
   },
   "outputs": [],
   "source": [
    "oob_idx = np.loadtxt(\"oob_idx\").astype(int)\n",
    "train_idx = np.loadtxt(\"train_idx\").astype(int)"
   ]
  },
  {
   "cell_type": "code",
   "execution_count": 26,
   "id": "1a19d7e3-0192-4fac-8385-1fb5cb2dc41c",
   "metadata": {},
   "outputs": [],
   "source": [
    "res_x, res_y = x.loc[list(train_idx.astype(int))], y.loc[list(train_idx.astype(int))]"
   ]
  },
  {
   "cell_type": "code",
   "execution_count": 27,
   "id": "ea44b0e9-12cd-4653-9bef-44b0b071a981",
   "metadata": {
    "tags": []
   },
   "outputs": [],
   "source": [
    "oob_x, oob_y = x.loc[list(oob_idx)], y.loc[list(oob_idx)]"
   ]
  },
  {
   "cell_type": "code",
   "execution_count": 28,
   "id": "bbbc935a-c557-4c98-a564-ba06c1f6a248",
   "metadata": {},
   "outputs": [],
   "source": [
    "x, y = res_x, res_y"
   ]
  },
  {
   "cell_type": "code",
   "execution_count": 29,
   "id": "771325c8-ed63-45d7-bc6d-140741213ba4",
   "metadata": {},
   "outputs": [
    {
     "data": {
      "text/plain": [
       "0    409\n",
       "1    117\n",
       "Name: class_encoded, dtype: int64"
      ]
     },
     "execution_count": 29,
     "metadata": {},
     "output_type": "execute_result"
    }
   ],
   "source": [
    "y.value_counts()"
   ]
  },
  {
   "cell_type": "markdown",
   "id": "9c1eab12-38e1-4269-9bd8-5f332cc04143",
   "metadata": {},
   "source": [
    "# Modelling"
   ]
  },
  {
   "cell_type": "markdown",
   "id": "81538f8a-d493-45f9-9a5b-68d22bf2dbb0",
   "metadata": {},
   "source": [
    "# Pipeline creation"
   ]
  },
  {
   "cell_type": "code",
   "execution_count": 33,
   "id": "d2d89e82-6364-4f84-bba9-3f7986de8ed8",
   "metadata": {},
   "outputs": [],
   "source": [
    "from sklearn.preprocessing import StandardScaler\n",
    "from sklearn.pipeline import Pipeline\n",
    "from sklearn.decomposition import PCA\n",
    "from sklearn.impute import KNNImputer\n",
    "from sklearn.compose import ColumnTransformer\n",
    "from imblearn.over_sampling import SMOTE, RandomOverSampler"
   ]
  },
  {
   "cell_type": "code",
   "execution_count": 34,
   "id": "039765b8-0c74-49e7-b5f8-8a0ede9304b2",
   "metadata": {},
   "outputs": [],
   "source": [
    "from sklearn.linear_model import LogisticRegression\n",
    "from sklearn.model_selection import cross_val_score\n",
    "from sklearn.metrics import f1_score, balanced_accuracy_score\n",
    "from sklearn.ensemble import RandomForestClassifier, GradientBoostingClassifier, HistGradientBoostingClassifier\n",
    "from sklearn.svm import SVC\n",
    "from sklearn.neighbors import KNeighborsClassifier\n",
    "from sklearn.dummy import DummyClassifier\n",
    "import xgboost as xgb\n",
    "import lightgbm as lgb"
   ]
  },
  {
   "cell_type": "code",
   "execution_count": 35,
   "id": "3c2b37ef-d6e9-4d35-b5d5-9b36e6cc24ad",
   "metadata": {},
   "outputs": [],
   "source": [
    "scor_dict = {\"algorithm\": [],\n",
    "            \"balanced_accuracy\": [],\n",
    "            \"f1 score\": []}"
   ]
  },
  {
   "cell_type": "code",
   "execution_count": 36,
   "id": "c0e94faa-a28a-4b49-94ae-e0164e14acae",
   "metadata": {},
   "outputs": [],
   "source": [
    "from sklearn.model_selection import StratifiedKFold\n",
    "\n",
    "def my_score(model, n_folds, scoring_callable, X, Y):\n",
    "    scores = [],[]\n",
    "    cv = StratifiedKFold(n_folds)\n",
    "    oversampler = RandomOverSampler(random_state=1)\n",
    "    preprocessor = ColumnTransformer(\n",
    "        [(\"prep\", Pipeline([\n",
    "            (\"scaler\", StandardScaler()),\n",
    "            (\"imputer\", KNNImputer())\n",
    "        ]),\n",
    "                                     cols)], remainder=\"passthrough\")\n",
    "\n",
    "    for train_index, validation_index in cv.split(X, Y):\n",
    "        x, y = X.iloc[train_index], Y.iloc[train_index]\n",
    "        xx, yy = oversampler.fit_resample(x, y)\n",
    "        xx = preprocessor.fit_transform(xx)\n",
    "        model.fit(xx, yy)\n",
    "        x_val = X.iloc[validation_index]\n",
    "        x_val = preprocessor.transform(x_val)\n",
    "        score_bac = scoring_callable[0](Y.iloc[validation_index], model.predict(x_val))\n",
    "        score_f = scoring_callable[1](Y.iloc[validation_index], model.predict(x_val))\n",
    "        \n",
    "        print(f\"bac: {score_bac}, f1: {score_f}\")\n",
    "        scores[0].append(score_bac)\n",
    "        scores[1].append(score_f)\n",
    "    \n",
    "    return scores"
   ]
  },
  {
   "cell_type": "markdown",
   "id": "c97de813-faf2-4e96-a371-2ae70af70344",
   "metadata": {
    "tags": []
   },
   "source": [
    "### Baseline"
   ]
  },
  {
   "cell_type": "code",
   "execution_count": 37,
   "id": "b6cd570c-f9dc-44c9-8ce4-c0a4503a6e02",
   "metadata": {},
   "outputs": [],
   "source": [
    "scor_dict[\"algorithm\"].extend([\"Baseline\"]*5)"
   ]
  },
  {
   "cell_type": "code",
   "execution_count": 38,
   "id": "a1a7b963-1b49-4eaf-9e1d-d6ef04670a3a",
   "metadata": {},
   "outputs": [],
   "source": [
    "dum = DummyClassifier(strategy=\"uniform\", random_state=1)"
   ]
  },
  {
   "cell_type": "code",
   "execution_count": 39,
   "id": "e44c2686-d82d-42a5-bf45-adfa283f2ac0",
   "metadata": {},
   "outputs": [
    {
     "name": "stdout",
     "output_type": "stream",
     "text": [
      "bac: 0.41565040650406504, f1: 0.2439024390243903\n",
      "bac: 0.46604938271604934, f1: 0.2926829268292683\n",
      "bac: 0.5082184517497349, f1: 0.32098765432098764\n",
      "bac: 0.4247083775185578, f1: 0.24691358024691357\n",
      "bac: 0.591728525980912, f1: 0.3950617283950617\n"
     ]
    }
   ],
   "source": [
    "scores = my_score(dum, 5, [balanced_accuracy_score, f1_score], x, y)"
   ]
  },
  {
   "cell_type": "code",
   "execution_count": 40,
   "id": "c97a0e18-b882-497d-971d-ea85f879af0c",
   "metadata": {},
   "outputs": [],
   "source": [
    "scor_dict[\"balanced_accuracy\"].extend(list(scores[0]))"
   ]
  },
  {
   "cell_type": "code",
   "execution_count": 41,
   "id": "587fcbbf-4268-4e6d-8697-0149cd982d34",
   "metadata": {},
   "outputs": [],
   "source": [
    "scor_dict[\"f1 score\"].extend(list(scores[1]))"
   ]
  },
  {
   "cell_type": "markdown",
   "id": "c27ab7ec-c6c4-49e2-bf4b-a18f0b0eb8d7",
   "metadata": {},
   "source": [
    "### LogClf"
   ]
  },
  {
   "cell_type": "code",
   "execution_count": 42,
   "id": "14929043-3652-46f2-aa2d-0e740f86bdf3",
   "metadata": {},
   "outputs": [],
   "source": [
    "scor_dict[\"algorithm\"].extend([\"Logistic Regression\"]*5)"
   ]
  },
  {
   "cell_type": "code",
   "execution_count": 43,
   "id": "d93aa8d4-5b23-4286-bf42-85702aa1d8c1",
   "metadata": {},
   "outputs": [],
   "source": [
    "reg = LogisticRegression(max_iter=100000)"
   ]
  },
  {
   "cell_type": "code",
   "execution_count": 44,
   "id": "b43b5cca-1a57-4f1b-be35-2e67ffcac68b",
   "metadata": {},
   "outputs": [
    {
     "name": "stdout",
     "output_type": "stream",
     "text": [
      "bac: 0.7677845528455285, f1: 0.5937499999999999\n",
      "bac: 0.853395061728395, f1: 0.6984126984126983\n",
      "bac: 0.7163308589607635, f1: 0.5357142857142857\n",
      "bac: 0.7502651113467657, f1: 0.5818181818181818\n",
      "bac: 0.8215800636267232, f1: 0.6666666666666667\n"
     ]
    }
   ],
   "source": [
    "scores = my_score(reg, 5, [balanced_accuracy_score, f1_score], x, y)"
   ]
  },
  {
   "cell_type": "code",
   "execution_count": 45,
   "id": "d133daa4-80fc-43d6-b5b6-3be3259d9f24",
   "metadata": {},
   "outputs": [],
   "source": [
    "scor_dict[\"balanced_accuracy\"].extend(list(scores[0]))"
   ]
  },
  {
   "cell_type": "code",
   "execution_count": 46,
   "id": "a1102159-d94c-44b7-b6bd-0eecc259d6f7",
   "metadata": {},
   "outputs": [],
   "source": [
    "scor_dict[\"f1 score\"].extend(list(scores[1]))"
   ]
  },
  {
   "cell_type": "markdown",
   "id": "4a650ebc-8d1f-48f5-b6c3-840df563398e",
   "metadata": {
    "tags": []
   },
   "source": [
    "### Rand Forest"
   ]
  },
  {
   "cell_type": "code",
   "execution_count": 47,
   "id": "b367d8dc-0508-4802-aa21-9a256599471b",
   "metadata": {},
   "outputs": [],
   "source": [
    "scor_dict[\"algorithm\"].extend([\"Random Forest\"]*5)"
   ]
  },
  {
   "cell_type": "code",
   "execution_count": 48,
   "id": "0e596afc-cc2d-469c-956f-3bb0c1d3ff43",
   "metadata": {},
   "outputs": [],
   "source": [
    "clf = RandomForestClassifier(\n",
    "            n_estimators=1000,\n",
    "            max_features=0.3,\n",
    "            random_state=1\n",
    ")"
   ]
  },
  {
   "cell_type": "code",
   "execution_count": 49,
   "id": "afe67bf6-bd50-4923-8fe8-fc1b7be7f1cd",
   "metadata": {},
   "outputs": [
    {
     "name": "stdout",
     "output_type": "stream",
     "text": [
      "bac: 0.7809959349593496, f1: 0.6415094339622641\n",
      "bac: 0.8194444444444444, f1: 0.7058823529411765\n",
      "bac: 0.7963944856839873, f1: 0.6538461538461539\n",
      "bac: 0.693796394485684, f1: 0.5217391304347826\n",
      "bac: 0.6869034994697772, f1: 0.5263157894736841\n"
     ]
    }
   ],
   "source": [
    "scores = my_score(clf, 5, [balanced_accuracy_score, f1_score], x, y)"
   ]
  },
  {
   "cell_type": "code",
   "execution_count": 50,
   "id": "19a8d8f5-456c-494f-9b23-2e39a6e68c89",
   "metadata": {},
   "outputs": [],
   "source": [
    "scor_dict[\"balanced_accuracy\"].extend(list(scores[0]))"
   ]
  },
  {
   "cell_type": "code",
   "execution_count": 51,
   "id": "5ca798a6-751e-4b31-b4df-9b437a172b33",
   "metadata": {},
   "outputs": [],
   "source": [
    "scor_dict[\"f1 score\"].extend(list(scores[1]))"
   ]
  },
  {
   "cell_type": "markdown",
   "id": "7c512b96-af52-4cff-96e4-6af37a9544de",
   "metadata": {
    "tags": []
   },
   "source": [
    "### Grad Boosting"
   ]
  },
  {
   "cell_type": "code",
   "execution_count": 52,
   "id": "e5378d9a-54d6-49d4-9a51-5f5f5b519a9f",
   "metadata": {},
   "outputs": [],
   "source": [
    "scor_dict[\"algorithm\"].extend([\"Gradient Boosting\"]*5)"
   ]
  },
  {
   "cell_type": "code",
   "execution_count": 53,
   "id": "d079a4ab-804e-43bc-b88f-f494b2fa62de",
   "metadata": {},
   "outputs": [],
   "source": [
    "gbc = GradientBoostingClassifier(\n",
    "            n_estimators=1000,\n",
    "            max_features=0.3,\n",
    "            random_state = 1,\n",
    ")"
   ]
  },
  {
   "cell_type": "code",
   "execution_count": 54,
   "id": "343b86be-d191-439d-bbe4-df6a6479e11d",
   "metadata": {},
   "outputs": [
    {
     "name": "stdout",
     "output_type": "stream",
     "text": [
      "bac: 0.8262195121951219, f1: 0.7199999999999999\n",
      "bac: 0.8356481481481481, f1: 0.7727272727272727\n",
      "bac: 0.7868504772004241, f1: 0.6530612244897959\n",
      "bac: 0.7059915164369035, f1: 0.5454545454545454\n",
      "bac: 0.6373276776246024, f1: 0.4324324324324324\n"
     ]
    }
   ],
   "source": [
    "scores = my_score(gbc, 5, [balanced_accuracy_score, f1_score], x, y)"
   ]
  },
  {
   "cell_type": "code",
   "execution_count": 55,
   "id": "6622974c-102d-440d-98be-640895546b4b",
   "metadata": {},
   "outputs": [],
   "source": [
    "scor_dict[\"balanced_accuracy\"].extend(list(scores[0]))"
   ]
  },
  {
   "cell_type": "code",
   "execution_count": 56,
   "id": "b87d6e3e-7d48-4258-8c9b-1e889c25578a",
   "metadata": {
    "tags": []
   },
   "outputs": [],
   "source": [
    "scor_dict[\"f1 score\"].extend(list(scores[1]))"
   ]
  },
  {
   "cell_type": "markdown",
   "id": "fbfc6f2b-5860-4a73-a73b-b0a1808235b1",
   "metadata": {},
   "source": [
    "### KNN"
   ]
  },
  {
   "cell_type": "code",
   "execution_count": 57,
   "id": "05c96b31-caf1-4784-b1f9-73df47b12631",
   "metadata": {},
   "outputs": [],
   "source": [
    "scor_dict[\"algorithm\"].extend([\"KNN\"]*5)"
   ]
  },
  {
   "cell_type": "code",
   "execution_count": 58,
   "id": "1acc3314-623d-4e5b-b10e-e8b4965740ee",
   "metadata": {},
   "outputs": [],
   "source": [
    "from sklearn.neighbors import KNeighborsClassifier"
   ]
  },
  {
   "cell_type": "code",
   "execution_count": 59,
   "id": "8c641262-74e7-4b32-86d8-f30851d47fef",
   "metadata": {},
   "outputs": [],
   "source": [
    "knc = KNeighborsClassifier()"
   ]
  },
  {
   "cell_type": "code",
   "execution_count": 60,
   "id": "86c1b86a-d146-41e6-be18-50163108536a",
   "metadata": {},
   "outputs": [
    {
     "name": "stdout",
     "output_type": "stream",
     "text": [
      "bac: 0.709349593495935, f1: 0.5128205128205128\n",
      "bac: 0.7662037037037037, f1: 0.5937499999999999\n",
      "bac: 0.7171261930010604, f1: 0.523076923076923\n",
      "bac: 0.8006362672322376, f1: 0.6153846153846153\n",
      "bac: 0.7224284199363733, f1: 0.5454545454545454\n"
     ]
    }
   ],
   "source": [
    "scores = my_score(knc, 5, [balanced_accuracy_score, f1_score], x, y)"
   ]
  },
  {
   "cell_type": "code",
   "execution_count": 61,
   "id": "e09ed0ec-cc4d-47b3-91fc-442e11fdd7b0",
   "metadata": {},
   "outputs": [],
   "source": [
    "scor_dict[\"balanced_accuracy\"].extend(list(scores[0]))"
   ]
  },
  {
   "cell_type": "code",
   "execution_count": 62,
   "id": "75379c5b-7bbf-4fda-af09-d251b2345257",
   "metadata": {},
   "outputs": [],
   "source": [
    "scor_dict[\"f1 score\"].extend(list(scores[1]))"
   ]
  },
  {
   "cell_type": "markdown",
   "id": "cbed3191-2f39-4379-acba-95d881bd9189",
   "metadata": {},
   "source": [
    "### SVC"
   ]
  },
  {
   "cell_type": "code",
   "execution_count": 63,
   "id": "a3b3355d-ef0c-463a-92a3-500ebca56a28",
   "metadata": {},
   "outputs": [],
   "source": [
    "scor_dict[\"algorithm\"].extend([\"SVC\"]*5)"
   ]
  },
  {
   "cell_type": "code",
   "execution_count": 64,
   "id": "9542c211-7a22-471d-a8de-27f03c3abfad",
   "metadata": {},
   "outputs": [],
   "source": [
    "from sklearn.svm import SVC"
   ]
  },
  {
   "cell_type": "code",
   "execution_count": 65,
   "id": "052149b5-1794-4af1-9bbd-5efb6c185ac8",
   "metadata": {},
   "outputs": [],
   "source": [
    "svc = SVC(kernel=\"poly\", degree=4)"
   ]
  },
  {
   "cell_type": "code",
   "execution_count": 66,
   "id": "625bc729-e786-4578-86e8-9a977b7a459f",
   "metadata": {},
   "outputs": [
    {
     "name": "stdout",
     "output_type": "stream",
     "text": [
      "bac: 0.7723577235772358, f1: 0.64\n",
      "bac: 0.7800925925925926, f1: 0.6415094339622641\n",
      "bac: 0.7433722163308589, f1: 0.5957446808510638\n",
      "bac: 0.7902969247083775, f1: 0.6415094339622641\n",
      "bac: 0.6876988335100742, f1: 0.5106382978723404\n"
     ]
    }
   ],
   "source": [
    "scores = my_score(svc, 5, [balanced_accuracy_score, f1_score], x, y)"
   ]
  },
  {
   "cell_type": "code",
   "execution_count": 67,
   "id": "0ecfcd04-0864-4d70-9ca1-2f29a0b96956",
   "metadata": {},
   "outputs": [],
   "source": [
    "scor_dict[\"balanced_accuracy\"].extend(list(scores[0]))"
   ]
  },
  {
   "cell_type": "code",
   "execution_count": 68,
   "id": "da472be5-b0c8-4167-b88f-e5494b5a6f74",
   "metadata": {},
   "outputs": [],
   "source": [
    "scor_dict[\"f1 score\"].extend(list(scores[1]))"
   ]
  },
  {
   "cell_type": "markdown",
   "id": "36c8bb59-a3f0-49f8-b4d9-ee8960903055",
   "metadata": {},
   "source": [
    "### XGBoost"
   ]
  },
  {
   "cell_type": "code",
   "execution_count": 69,
   "id": "ea1a94ff-f399-46b3-bea0-74cdcc6ac210",
   "metadata": {},
   "outputs": [],
   "source": [
    "scor_dict[\"algorithm\"].extend([\"XGBoost\"]*5)"
   ]
  },
  {
   "cell_type": "code",
   "execution_count": 70,
   "id": "71dca2ab-5fcd-4323-8bc9-cb2b2f23a3a6",
   "metadata": {},
   "outputs": [],
   "source": [
    "xgbc = xgb.XGBClassifier(n_estimators=1000, random_state=1)"
   ]
  },
  {
   "cell_type": "code",
   "execution_count": 71,
   "id": "4144aa31-5048-4479-868f-4f1d1488d808",
   "metadata": {},
   "outputs": [
    {
     "name": "stdout",
     "output_type": "stream",
     "text": [
      "bac: 0.7515243902439024, f1: 0.6122448979591836\n",
      "bac: 0.8233024691358024, f1: 0.7391304347826088\n",
      "bac: 0.7807529162248144, f1: 0.6399999999999999\n",
      "bac: 0.7025450689289502, f1: 0.55\n",
      "bac: 0.718186638388123, f1: 0.5714285714285715\n"
     ]
    }
   ],
   "source": [
    "scores = my_score(xgbc, 5, [balanced_accuracy_score, f1_score], x, y)"
   ]
  },
  {
   "cell_type": "code",
   "execution_count": 72,
   "id": "fdcd08bb-f985-4903-bff0-4a7abbbe64e7",
   "metadata": {},
   "outputs": [],
   "source": [
    "scor_dict[\"balanced_accuracy\"].extend(list(scores[0]))"
   ]
  },
  {
   "cell_type": "code",
   "execution_count": 73,
   "id": "97b8f4ce-65a8-4fda-9a57-f62bd56cb706",
   "metadata": {},
   "outputs": [],
   "source": [
    "scor_dict[\"f1 score\"].extend(list(scores[1]))"
   ]
  },
  {
   "cell_type": "markdown",
   "id": "5005e90f-fa65-4971-9c16-f87435295913",
   "metadata": {},
   "source": [
    "### Light GBM"
   ]
  },
  {
   "cell_type": "code",
   "execution_count": 74,
   "id": "a5d990cd-775f-47a9-8d63-a6aa2d9b0cba",
   "metadata": {},
   "outputs": [],
   "source": [
    "scor_dict[\"algorithm\"].extend([\"Light GBM\"]*5)"
   ]
  },
  {
   "cell_type": "code",
   "execution_count": 75,
   "id": "3a420002-5bb1-46e3-a43c-1bcf995ab339",
   "metadata": {},
   "outputs": [],
   "source": [
    "lgbc = lgb.LGBMClassifier(n_estimators=1000, random_state=1)"
   ]
  },
  {
   "cell_type": "code",
   "execution_count": 76,
   "id": "61a2f872-f775-4267-94bc-77672f929e39",
   "metadata": {},
   "outputs": [
    {
     "name": "stdout",
     "output_type": "stream",
     "text": [
      "bac: 0.7601626016260162, f1: 0.6153846153846153\n",
      "bac: 0.8294753086419753, f1: 0.7555555555555556\n",
      "bac: 0.7712089077412514, f1: 0.6382978723404256\n",
      "bac: 0.7460233297985154, f1: 0.6190476190476191\n",
      "bac: 0.7025450689289502, f1: 0.55\n"
     ]
    }
   ],
   "source": [
    "scores = my_score(lgbc, 5, [balanced_accuracy_score, f1_score], x, y)"
   ]
  },
  {
   "cell_type": "code",
   "execution_count": 77,
   "id": "1bb2c2c2-44b5-4ce3-884f-5eedaae8bcfc",
   "metadata": {},
   "outputs": [],
   "source": [
    "scor_dict[\"balanced_accuracy\"].extend(list(scores[0]))"
   ]
  },
  {
   "cell_type": "code",
   "execution_count": 78,
   "id": "94c4e2b2-3d52-4913-9461-3d300647bcd2",
   "metadata": {},
   "outputs": [],
   "source": [
    "scor_dict[\"f1 score\"].extend(list(scores[1]))"
   ]
  },
  {
   "cell_type": "markdown",
   "id": "8c7e1ca5-05db-4797-bbfb-b0115af1144f",
   "metadata": {},
   "source": [
    "### Scores vis"
   ]
  },
  {
   "cell_type": "code",
   "execution_count": 79,
   "id": "8e1411b5-a446-49d8-b53d-07ce2d3cd56a",
   "metadata": {
    "tags": []
   },
   "outputs": [
    {
     "data": {
      "text/html": [
       "<div>\n",
       "<style scoped>\n",
       "    .dataframe tbody tr th:only-of-type {\n",
       "        vertical-align: middle;\n",
       "    }\n",
       "\n",
       "    .dataframe tbody tr th {\n",
       "        vertical-align: top;\n",
       "    }\n",
       "\n",
       "    .dataframe thead th {\n",
       "        text-align: right;\n",
       "    }\n",
       "</style>\n",
       "<table border=\"1\" class=\"dataframe\">\n",
       "  <thead>\n",
       "    <tr style=\"text-align: right;\">\n",
       "      <th></th>\n",
       "      <th>algorithm</th>\n",
       "      <th>balanced_accuracy</th>\n",
       "      <th>f1 score</th>\n",
       "    </tr>\n",
       "  </thead>\n",
       "  <tbody>\n",
       "    <tr>\n",
       "      <th>0</th>\n",
       "      <td>Baseline</td>\n",
       "      <td>0.415650</td>\n",
       "      <td>0.243902</td>\n",
       "    </tr>\n",
       "    <tr>\n",
       "      <th>1</th>\n",
       "      <td>Baseline</td>\n",
       "      <td>0.466049</td>\n",
       "      <td>0.292683</td>\n",
       "    </tr>\n",
       "    <tr>\n",
       "      <th>2</th>\n",
       "      <td>Baseline</td>\n",
       "      <td>0.508218</td>\n",
       "      <td>0.320988</td>\n",
       "    </tr>\n",
       "    <tr>\n",
       "      <th>3</th>\n",
       "      <td>Baseline</td>\n",
       "      <td>0.424708</td>\n",
       "      <td>0.246914</td>\n",
       "    </tr>\n",
       "    <tr>\n",
       "      <th>4</th>\n",
       "      <td>Baseline</td>\n",
       "      <td>0.591729</td>\n",
       "      <td>0.395062</td>\n",
       "    </tr>\n",
       "    <tr>\n",
       "      <th>5</th>\n",
       "      <td>Logistic Regression</td>\n",
       "      <td>0.767785</td>\n",
       "      <td>0.593750</td>\n",
       "    </tr>\n",
       "    <tr>\n",
       "      <th>6</th>\n",
       "      <td>Logistic Regression</td>\n",
       "      <td>0.853395</td>\n",
       "      <td>0.698413</td>\n",
       "    </tr>\n",
       "    <tr>\n",
       "      <th>7</th>\n",
       "      <td>Logistic Regression</td>\n",
       "      <td>0.716331</td>\n",
       "      <td>0.535714</td>\n",
       "    </tr>\n",
       "    <tr>\n",
       "      <th>8</th>\n",
       "      <td>Logistic Regression</td>\n",
       "      <td>0.750265</td>\n",
       "      <td>0.581818</td>\n",
       "    </tr>\n",
       "    <tr>\n",
       "      <th>9</th>\n",
       "      <td>Logistic Regression</td>\n",
       "      <td>0.821580</td>\n",
       "      <td>0.666667</td>\n",
       "    </tr>\n",
       "    <tr>\n",
       "      <th>10</th>\n",
       "      <td>Random Forest</td>\n",
       "      <td>0.780996</td>\n",
       "      <td>0.641509</td>\n",
       "    </tr>\n",
       "    <tr>\n",
       "      <th>11</th>\n",
       "      <td>Random Forest</td>\n",
       "      <td>0.819444</td>\n",
       "      <td>0.705882</td>\n",
       "    </tr>\n",
       "    <tr>\n",
       "      <th>12</th>\n",
       "      <td>Random Forest</td>\n",
       "      <td>0.796394</td>\n",
       "      <td>0.653846</td>\n",
       "    </tr>\n",
       "    <tr>\n",
       "      <th>13</th>\n",
       "      <td>Random Forest</td>\n",
       "      <td>0.693796</td>\n",
       "      <td>0.521739</td>\n",
       "    </tr>\n",
       "    <tr>\n",
       "      <th>14</th>\n",
       "      <td>Random Forest</td>\n",
       "      <td>0.686903</td>\n",
       "      <td>0.526316</td>\n",
       "    </tr>\n",
       "    <tr>\n",
       "      <th>15</th>\n",
       "      <td>Gradient Boosting</td>\n",
       "      <td>0.826220</td>\n",
       "      <td>0.720000</td>\n",
       "    </tr>\n",
       "    <tr>\n",
       "      <th>16</th>\n",
       "      <td>Gradient Boosting</td>\n",
       "      <td>0.835648</td>\n",
       "      <td>0.772727</td>\n",
       "    </tr>\n",
       "    <tr>\n",
       "      <th>17</th>\n",
       "      <td>Gradient Boosting</td>\n",
       "      <td>0.786850</td>\n",
       "      <td>0.653061</td>\n",
       "    </tr>\n",
       "    <tr>\n",
       "      <th>18</th>\n",
       "      <td>Gradient Boosting</td>\n",
       "      <td>0.705992</td>\n",
       "      <td>0.545455</td>\n",
       "    </tr>\n",
       "    <tr>\n",
       "      <th>19</th>\n",
       "      <td>Gradient Boosting</td>\n",
       "      <td>0.637328</td>\n",
       "      <td>0.432432</td>\n",
       "    </tr>\n",
       "    <tr>\n",
       "      <th>20</th>\n",
       "      <td>KNN</td>\n",
       "      <td>0.709350</td>\n",
       "      <td>0.512821</td>\n",
       "    </tr>\n",
       "    <tr>\n",
       "      <th>21</th>\n",
       "      <td>KNN</td>\n",
       "      <td>0.766204</td>\n",
       "      <td>0.593750</td>\n",
       "    </tr>\n",
       "    <tr>\n",
       "      <th>22</th>\n",
       "      <td>KNN</td>\n",
       "      <td>0.717126</td>\n",
       "      <td>0.523077</td>\n",
       "    </tr>\n",
       "    <tr>\n",
       "      <th>23</th>\n",
       "      <td>KNN</td>\n",
       "      <td>0.800636</td>\n",
       "      <td>0.615385</td>\n",
       "    </tr>\n",
       "    <tr>\n",
       "      <th>24</th>\n",
       "      <td>KNN</td>\n",
       "      <td>0.722428</td>\n",
       "      <td>0.545455</td>\n",
       "    </tr>\n",
       "    <tr>\n",
       "      <th>25</th>\n",
       "      <td>SVC</td>\n",
       "      <td>0.772358</td>\n",
       "      <td>0.640000</td>\n",
       "    </tr>\n",
       "    <tr>\n",
       "      <th>26</th>\n",
       "      <td>SVC</td>\n",
       "      <td>0.780093</td>\n",
       "      <td>0.641509</td>\n",
       "    </tr>\n",
       "    <tr>\n",
       "      <th>27</th>\n",
       "      <td>SVC</td>\n",
       "      <td>0.743372</td>\n",
       "      <td>0.595745</td>\n",
       "    </tr>\n",
       "    <tr>\n",
       "      <th>28</th>\n",
       "      <td>SVC</td>\n",
       "      <td>0.790297</td>\n",
       "      <td>0.641509</td>\n",
       "    </tr>\n",
       "    <tr>\n",
       "      <th>29</th>\n",
       "      <td>SVC</td>\n",
       "      <td>0.687699</td>\n",
       "      <td>0.510638</td>\n",
       "    </tr>\n",
       "    <tr>\n",
       "      <th>30</th>\n",
       "      <td>XGBoost</td>\n",
       "      <td>0.751524</td>\n",
       "      <td>0.612245</td>\n",
       "    </tr>\n",
       "    <tr>\n",
       "      <th>31</th>\n",
       "      <td>XGBoost</td>\n",
       "      <td>0.823302</td>\n",
       "      <td>0.739130</td>\n",
       "    </tr>\n",
       "    <tr>\n",
       "      <th>32</th>\n",
       "      <td>XGBoost</td>\n",
       "      <td>0.780753</td>\n",
       "      <td>0.640000</td>\n",
       "    </tr>\n",
       "    <tr>\n",
       "      <th>33</th>\n",
       "      <td>XGBoost</td>\n",
       "      <td>0.702545</td>\n",
       "      <td>0.550000</td>\n",
       "    </tr>\n",
       "    <tr>\n",
       "      <th>34</th>\n",
       "      <td>XGBoost</td>\n",
       "      <td>0.718187</td>\n",
       "      <td>0.571429</td>\n",
       "    </tr>\n",
       "    <tr>\n",
       "      <th>35</th>\n",
       "      <td>Light GBM</td>\n",
       "      <td>0.760163</td>\n",
       "      <td>0.615385</td>\n",
       "    </tr>\n",
       "    <tr>\n",
       "      <th>36</th>\n",
       "      <td>Light GBM</td>\n",
       "      <td>0.829475</td>\n",
       "      <td>0.755556</td>\n",
       "    </tr>\n",
       "    <tr>\n",
       "      <th>37</th>\n",
       "      <td>Light GBM</td>\n",
       "      <td>0.771209</td>\n",
       "      <td>0.638298</td>\n",
       "    </tr>\n",
       "    <tr>\n",
       "      <th>38</th>\n",
       "      <td>Light GBM</td>\n",
       "      <td>0.746023</td>\n",
       "      <td>0.619048</td>\n",
       "    </tr>\n",
       "    <tr>\n",
       "      <th>39</th>\n",
       "      <td>Light GBM</td>\n",
       "      <td>0.702545</td>\n",
       "      <td>0.550000</td>\n",
       "    </tr>\n",
       "  </tbody>\n",
       "</table>\n",
       "</div>"
      ],
      "text/plain": [
       "              algorithm  balanced_accuracy  f1 score\n",
       "0              Baseline           0.415650  0.243902\n",
       "1              Baseline           0.466049  0.292683\n",
       "2              Baseline           0.508218  0.320988\n",
       "3              Baseline           0.424708  0.246914\n",
       "4              Baseline           0.591729  0.395062\n",
       "5   Logistic Regression           0.767785  0.593750\n",
       "6   Logistic Regression           0.853395  0.698413\n",
       "7   Logistic Regression           0.716331  0.535714\n",
       "8   Logistic Regression           0.750265  0.581818\n",
       "9   Logistic Regression           0.821580  0.666667\n",
       "10        Random Forest           0.780996  0.641509\n",
       "11        Random Forest           0.819444  0.705882\n",
       "12        Random Forest           0.796394  0.653846\n",
       "13        Random Forest           0.693796  0.521739\n",
       "14        Random Forest           0.686903  0.526316\n",
       "15    Gradient Boosting           0.826220  0.720000\n",
       "16    Gradient Boosting           0.835648  0.772727\n",
       "17    Gradient Boosting           0.786850  0.653061\n",
       "18    Gradient Boosting           0.705992  0.545455\n",
       "19    Gradient Boosting           0.637328  0.432432\n",
       "20                  KNN           0.709350  0.512821\n",
       "21                  KNN           0.766204  0.593750\n",
       "22                  KNN           0.717126  0.523077\n",
       "23                  KNN           0.800636  0.615385\n",
       "24                  KNN           0.722428  0.545455\n",
       "25                  SVC           0.772358  0.640000\n",
       "26                  SVC           0.780093  0.641509\n",
       "27                  SVC           0.743372  0.595745\n",
       "28                  SVC           0.790297  0.641509\n",
       "29                  SVC           0.687699  0.510638\n",
       "30              XGBoost           0.751524  0.612245\n",
       "31              XGBoost           0.823302  0.739130\n",
       "32              XGBoost           0.780753  0.640000\n",
       "33              XGBoost           0.702545  0.550000\n",
       "34              XGBoost           0.718187  0.571429\n",
       "35            Light GBM           0.760163  0.615385\n",
       "36            Light GBM           0.829475  0.755556\n",
       "37            Light GBM           0.771209  0.638298\n",
       "38            Light GBM           0.746023  0.619048\n",
       "39            Light GBM           0.702545  0.550000"
      ]
     },
     "execution_count": 79,
     "metadata": {},
     "output_type": "execute_result"
    }
   ],
   "source": [
    "scors = pd.DataFrame(scor_dict)\n",
    "scors"
   ]
  },
  {
   "cell_type": "code",
   "execution_count": 80,
   "id": "879e64c6-33bc-4f27-9d2c-777e479dda89",
   "metadata": {},
   "outputs": [],
   "source": [
    "scors.to_csv(\"scors_knn_imp.csv\")"
   ]
  },
  {
   "cell_type": "code",
   "execution_count": 81,
   "id": "35d09e40-9127-439b-8b9a-beec4795d20c",
   "metadata": {},
   "outputs": [],
   "source": [
    "scors.groupby([\"algorithm\"]).mean().to_csv(\"groupby_knn.csv\")"
   ]
  },
  {
   "cell_type": "code",
   "execution_count": 82,
   "id": "f377d07e-ffc9-4bab-a118-51e063260cc7",
   "metadata": {},
   "outputs": [
    {
     "data": {
      "text/html": [
       "<div>\n",
       "<style scoped>\n",
       "    .dataframe tbody tr th:only-of-type {\n",
       "        vertical-align: middle;\n",
       "    }\n",
       "\n",
       "    .dataframe tbody tr th {\n",
       "        vertical-align: top;\n",
       "    }\n",
       "\n",
       "    .dataframe thead th {\n",
       "        text-align: right;\n",
       "    }\n",
       "</style>\n",
       "<table border=\"1\" class=\"dataframe\">\n",
       "  <thead>\n",
       "    <tr style=\"text-align: right;\">\n",
       "      <th></th>\n",
       "      <th>balanced_accuracy</th>\n",
       "      <th>f1 score</th>\n",
       "    </tr>\n",
       "    <tr>\n",
       "      <th>algorithm</th>\n",
       "      <th></th>\n",
       "      <th></th>\n",
       "    </tr>\n",
       "  </thead>\n",
       "  <tbody>\n",
       "    <tr>\n",
       "      <th>Baseline</th>\n",
       "      <td>0.481271</td>\n",
       "      <td>0.299910</td>\n",
       "    </tr>\n",
       "    <tr>\n",
       "      <th>Gradient Boosting</th>\n",
       "      <td>0.758407</td>\n",
       "      <td>0.624735</td>\n",
       "    </tr>\n",
       "    <tr>\n",
       "      <th>KNN</th>\n",
       "      <td>0.743149</td>\n",
       "      <td>0.558097</td>\n",
       "    </tr>\n",
       "    <tr>\n",
       "      <th>Light GBM</th>\n",
       "      <td>0.761883</td>\n",
       "      <td>0.635657</td>\n",
       "    </tr>\n",
       "    <tr>\n",
       "      <th>Logistic Regression</th>\n",
       "      <td>0.781871</td>\n",
       "      <td>0.615272</td>\n",
       "    </tr>\n",
       "    <tr>\n",
       "      <th>Random Forest</th>\n",
       "      <td>0.755507</td>\n",
       "      <td>0.609859</td>\n",
       "    </tr>\n",
       "    <tr>\n",
       "      <th>SVC</th>\n",
       "      <td>0.754764</td>\n",
       "      <td>0.605880</td>\n",
       "    </tr>\n",
       "    <tr>\n",
       "      <th>XGBoost</th>\n",
       "      <td>0.755262</td>\n",
       "      <td>0.622561</td>\n",
       "    </tr>\n",
       "  </tbody>\n",
       "</table>\n",
       "</div>"
      ],
      "text/plain": [
       "                     balanced_accuracy  f1 score\n",
       "algorithm                                       \n",
       "Baseline                      0.481271  0.299910\n",
       "Gradient Boosting             0.758407  0.624735\n",
       "KNN                           0.743149  0.558097\n",
       "Light GBM                     0.761883  0.635657\n",
       "Logistic Regression           0.781871  0.615272\n",
       "Random Forest                 0.755507  0.609859\n",
       "SVC                           0.754764  0.605880\n",
       "XGBoost                       0.755262  0.622561"
      ]
     },
     "execution_count": 82,
     "metadata": {},
     "output_type": "execute_result"
    }
   ],
   "source": [
    "scors.groupby([\"algorithm\"]).mean()"
   ]
  },
  {
   "cell_type": "code",
   "execution_count": 83,
   "id": "77b944e1-487e-4e16-810a-1aa843d9b5ac",
   "metadata": {},
   "outputs": [
    {
     "data": {
      "text/html": [
       "<div>\n",
       "<style scoped>\n",
       "    .dataframe tbody tr th:only-of-type {\n",
       "        vertical-align: middle;\n",
       "    }\n",
       "\n",
       "    .dataframe tbody tr th {\n",
       "        vertical-align: top;\n",
       "    }\n",
       "\n",
       "    .dataframe thead th {\n",
       "        text-align: right;\n",
       "    }\n",
       "</style>\n",
       "<table border=\"1\" class=\"dataframe\">\n",
       "  <thead>\n",
       "    <tr style=\"text-align: right;\">\n",
       "      <th></th>\n",
       "      <th>balanced_accuracy</th>\n",
       "      <th>f1 score</th>\n",
       "    </tr>\n",
       "    <tr>\n",
       "      <th>algorithm</th>\n",
       "      <th></th>\n",
       "      <th></th>\n",
       "    </tr>\n",
       "  </thead>\n",
       "  <tbody>\n",
       "    <tr>\n",
       "      <th>Baseline</th>\n",
       "      <td>0.466049</td>\n",
       "      <td>0.292683</td>\n",
       "    </tr>\n",
       "    <tr>\n",
       "      <th>Gradient Boosting</th>\n",
       "      <td>0.786850</td>\n",
       "      <td>0.653061</td>\n",
       "    </tr>\n",
       "    <tr>\n",
       "      <th>KNN</th>\n",
       "      <td>0.722428</td>\n",
       "      <td>0.545455</td>\n",
       "    </tr>\n",
       "    <tr>\n",
       "      <th>Light GBM</th>\n",
       "      <td>0.760163</td>\n",
       "      <td>0.619048</td>\n",
       "    </tr>\n",
       "    <tr>\n",
       "      <th>Logistic Regression</th>\n",
       "      <td>0.767785</td>\n",
       "      <td>0.593750</td>\n",
       "    </tr>\n",
       "    <tr>\n",
       "      <th>Random Forest</th>\n",
       "      <td>0.780996</td>\n",
       "      <td>0.641509</td>\n",
       "    </tr>\n",
       "    <tr>\n",
       "      <th>SVC</th>\n",
       "      <td>0.772358</td>\n",
       "      <td>0.640000</td>\n",
       "    </tr>\n",
       "    <tr>\n",
       "      <th>XGBoost</th>\n",
       "      <td>0.751524</td>\n",
       "      <td>0.612245</td>\n",
       "    </tr>\n",
       "  </tbody>\n",
       "</table>\n",
       "</div>"
      ],
      "text/plain": [
       "                     balanced_accuracy  f1 score\n",
       "algorithm                                       \n",
       "Baseline                      0.466049  0.292683\n",
       "Gradient Boosting             0.786850  0.653061\n",
       "KNN                           0.722428  0.545455\n",
       "Light GBM                     0.760163  0.619048\n",
       "Logistic Regression           0.767785  0.593750\n",
       "Random Forest                 0.780996  0.641509\n",
       "SVC                           0.772358  0.640000\n",
       "XGBoost                       0.751524  0.612245"
      ]
     },
     "execution_count": 83,
     "metadata": {},
     "output_type": "execute_result"
    }
   ],
   "source": [
    "scors.groupby([\"algorithm\"]).median()"
   ]
  },
  {
   "cell_type": "code",
   "execution_count": 84,
   "id": "7984e1be-33a6-42b2-a5d8-fd0e5e1ef08e",
   "metadata": {
    "tags": []
   },
   "outputs": [
    {
     "data": {
      "text/html": [
       "<div>\n",
       "<style scoped>\n",
       "    .dataframe tbody tr th:only-of-type {\n",
       "        vertical-align: middle;\n",
       "    }\n",
       "\n",
       "    .dataframe tbody tr th {\n",
       "        vertical-align: top;\n",
       "    }\n",
       "\n",
       "    .dataframe thead th {\n",
       "        text-align: right;\n",
       "    }\n",
       "</style>\n",
       "<table border=\"1\" class=\"dataframe\">\n",
       "  <thead>\n",
       "    <tr style=\"text-align: right;\">\n",
       "      <th></th>\n",
       "      <th>algorithm</th>\n",
       "      <th>metric</th>\n",
       "      <th>value</th>\n",
       "    </tr>\n",
       "  </thead>\n",
       "  <tbody>\n",
       "    <tr>\n",
       "      <th>0</th>\n",
       "      <td>Baseline</td>\n",
       "      <td>balanced_accuracy</td>\n",
       "      <td>0.415650</td>\n",
       "    </tr>\n",
       "    <tr>\n",
       "      <th>1</th>\n",
       "      <td>Baseline</td>\n",
       "      <td>balanced_accuracy</td>\n",
       "      <td>0.466049</td>\n",
       "    </tr>\n",
       "    <tr>\n",
       "      <th>2</th>\n",
       "      <td>Baseline</td>\n",
       "      <td>balanced_accuracy</td>\n",
       "      <td>0.508218</td>\n",
       "    </tr>\n",
       "    <tr>\n",
       "      <th>3</th>\n",
       "      <td>Baseline</td>\n",
       "      <td>balanced_accuracy</td>\n",
       "      <td>0.424708</td>\n",
       "    </tr>\n",
       "    <tr>\n",
       "      <th>4</th>\n",
       "      <td>Baseline</td>\n",
       "      <td>balanced_accuracy</td>\n",
       "      <td>0.591729</td>\n",
       "    </tr>\n",
       "    <tr>\n",
       "      <th>...</th>\n",
       "      <td>...</td>\n",
       "      <td>...</td>\n",
       "      <td>...</td>\n",
       "    </tr>\n",
       "    <tr>\n",
       "      <th>75</th>\n",
       "      <td>Light GBM</td>\n",
       "      <td>f1 score</td>\n",
       "      <td>0.615385</td>\n",
       "    </tr>\n",
       "    <tr>\n",
       "      <th>76</th>\n",
       "      <td>Light GBM</td>\n",
       "      <td>f1 score</td>\n",
       "      <td>0.755556</td>\n",
       "    </tr>\n",
       "    <tr>\n",
       "      <th>77</th>\n",
       "      <td>Light GBM</td>\n",
       "      <td>f1 score</td>\n",
       "      <td>0.638298</td>\n",
       "    </tr>\n",
       "    <tr>\n",
       "      <th>78</th>\n",
       "      <td>Light GBM</td>\n",
       "      <td>f1 score</td>\n",
       "      <td>0.619048</td>\n",
       "    </tr>\n",
       "    <tr>\n",
       "      <th>79</th>\n",
       "      <td>Light GBM</td>\n",
       "      <td>f1 score</td>\n",
       "      <td>0.550000</td>\n",
       "    </tr>\n",
       "  </tbody>\n",
       "</table>\n",
       "<p>80 rows × 3 columns</p>\n",
       "</div>"
      ],
      "text/plain": [
       "    algorithm             metric     value\n",
       "0    Baseline  balanced_accuracy  0.415650\n",
       "1    Baseline  balanced_accuracy  0.466049\n",
       "2    Baseline  balanced_accuracy  0.508218\n",
       "3    Baseline  balanced_accuracy  0.424708\n",
       "4    Baseline  balanced_accuracy  0.591729\n",
       "..        ...                ...       ...\n",
       "75  Light GBM           f1 score  0.615385\n",
       "76  Light GBM           f1 score  0.755556\n",
       "77  Light GBM           f1 score  0.638298\n",
       "78  Light GBM           f1 score  0.619048\n",
       "79  Light GBM           f1 score  0.550000\n",
       "\n",
       "[80 rows x 3 columns]"
      ]
     },
     "execution_count": 84,
     "metadata": {},
     "output_type": "execute_result"
    }
   ],
   "source": [
    "melted = scors.melt(id_vars=\"algorithm\", var_name=\"metric\")\n",
    "melted"
   ]
  },
  {
   "cell_type": "code",
   "execution_count": 85,
   "id": "5f1d9a3a-38d4-45b3-a98e-15b68ed7dbb8",
   "metadata": {
    "tags": []
   },
   "outputs": [
    {
     "data": {
      "text/plain": [
       "algorithm            metric           \n",
       "Baseline             balanced_accuracy    0.466325\n",
       "                     f1 score             0.286861\n",
       "Gradient Boosting    balanced_accuracy    0.773021\n",
       "                     f1 score             0.639505\n",
       "KNN                  balanced_accuracy    0.735253\n",
       "                     f1 score             0.554094\n",
       "Light GBM            balanced_accuracy    0.759132\n",
       "                     f1 score             0.624243\n",
       "Logistic Regression  balanced_accuracy    0.779877\n",
       "                     f1 score             0.614078\n",
       "Random Forest        balanced_accuracy    0.757062\n",
       "                     f1 score             0.607224\n",
       "SVC                  balanced_accuracy    0.765274\n",
       "                     f1 score             0.625751\n",
       "XGBoost              balanced_accuracy    0.750155\n",
       "                     f1 score             0.607891\n",
       "dtype: float64"
      ]
     },
     "execution_count": 85,
     "metadata": {},
     "output_type": "execute_result"
    }
   ],
   "source": [
    "melted.groupby(by=[\"algorithm\",\"metric\"]).apply(lambda x: np.percentile(x, [75, 50, 25]).sum()/3)"
   ]
  },
  {
   "cell_type": "code",
   "execution_count": 88,
   "id": "9991ac7f-e488-403b-aea0-230b9e0b4b96",
   "metadata": {
    "collapsed": true,
    "jupyter": {
     "outputs_hidden": true
    },
    "tags": []
   },
   "outputs": [
    {
     "ename": "KeyError",
     "evalue": "'metric'",
     "output_type": "error",
     "traceback": [
      "\u001b[0;31m---------------------------------------------------------------------------\u001b[0m",
      "\u001b[0;31mKeyError\u001b[0m                                  Traceback (most recent call last)",
      "File \u001b[0;32m~/programming/python_projects/jpy/jpy_venv/lib/python3.10/site-packages/pandas/core/indexes/base.py:3629\u001b[0m, in \u001b[0;36mIndex.get_loc\u001b[0;34m(self, key, method, tolerance)\u001b[0m\n\u001b[1;32m   3628\u001b[0m \u001b[38;5;28;01mtry\u001b[39;00m:\n\u001b[0;32m-> 3629\u001b[0m     \u001b[38;5;28;01mreturn\u001b[39;00m \u001b[38;5;28;43mself\u001b[39;49m\u001b[38;5;241;43m.\u001b[39;49m\u001b[43m_engine\u001b[49m\u001b[38;5;241;43m.\u001b[39;49m\u001b[43mget_loc\u001b[49m\u001b[43m(\u001b[49m\u001b[43mcasted_key\u001b[49m\u001b[43m)\u001b[49m\n\u001b[1;32m   3630\u001b[0m \u001b[38;5;28;01mexcept\u001b[39;00m \u001b[38;5;167;01mKeyError\u001b[39;00m \u001b[38;5;28;01mas\u001b[39;00m err:\n",
      "File \u001b[0;32m~/programming/python_projects/jpy/jpy_venv/lib/python3.10/site-packages/pandas/_libs/index.pyx:136\u001b[0m, in \u001b[0;36mpandas._libs.index.IndexEngine.get_loc\u001b[0;34m()\u001b[0m\n",
      "File \u001b[0;32m~/programming/python_projects/jpy/jpy_venv/lib/python3.10/site-packages/pandas/_libs/index.pyx:163\u001b[0m, in \u001b[0;36mpandas._libs.index.IndexEngine.get_loc\u001b[0;34m()\u001b[0m\n",
      "File \u001b[0;32mpandas/_libs/hashtable_class_helper.pxi:5198\u001b[0m, in \u001b[0;36mpandas._libs.hashtable.PyObjectHashTable.get_item\u001b[0;34m()\u001b[0m\n",
      "File \u001b[0;32mpandas/_libs/hashtable_class_helper.pxi:5206\u001b[0m, in \u001b[0;36mpandas._libs.hashtable.PyObjectHashTable.get_item\u001b[0;34m()\u001b[0m\n",
      "\u001b[0;31mKeyError\u001b[0m: 'metric'",
      "\nThe above exception was the direct cause of the following exception:\n",
      "\u001b[0;31mKeyError\u001b[0m                                  Traceback (most recent call last)",
      "Input \u001b[0;32mIn [88]\u001b[0m, in \u001b[0;36m<cell line: 2>\u001b[0;34m()\u001b[0m\n\u001b[1;32m      1\u001b[0m iqr_mean \u001b[38;5;241m=\u001b[39m melted\u001b[38;5;241m.\u001b[39mgroupby(by\u001b[38;5;241m=\u001b[39m[\u001b[38;5;124m\"\u001b[39m\u001b[38;5;124malgorithm\u001b[39m\u001b[38;5;124m\"\u001b[39m,\u001b[38;5;124m\"\u001b[39m\u001b[38;5;124mmetric\u001b[39m\u001b[38;5;124m\"\u001b[39m])\u001b[38;5;241m.\u001b[39mapply(\u001b[38;5;28;01mlambda\u001b[39;00m x: np\u001b[38;5;241m.\u001b[39mpercentile(x, [\u001b[38;5;241m75\u001b[39m, \u001b[38;5;241m50\u001b[39m, \u001b[38;5;241m25\u001b[39m])\u001b[38;5;241m.\u001b[39msum()\u001b[38;5;241m/\u001b[39m\u001b[38;5;241m3\u001b[39m)\n\u001b[0;32m----> 2\u001b[0m iqr_mean[\u001b[43miqr_mean\u001b[49m\u001b[43m[\u001b[49m\u001b[38;5;124;43m\"\u001b[39;49m\u001b[38;5;124;43mmetric\u001b[39;49m\u001b[38;5;124;43m\"\u001b[39;49m\u001b[43m]\u001b[49m\u001b[38;5;241m==\u001b[39m\u001b[38;5;124m\"\u001b[39m\u001b[38;5;124mf1 score\u001b[39m\u001b[38;5;124m\"\u001b[39m]\n",
      "File \u001b[0;32m~/programming/python_projects/jpy/jpy_venv/lib/python3.10/site-packages/pandas/core/series.py:958\u001b[0m, in \u001b[0;36mSeries.__getitem__\u001b[0;34m(self, key)\u001b[0m\n\u001b[1;32m    955\u001b[0m     \u001b[38;5;28;01mreturn\u001b[39;00m \u001b[38;5;28mself\u001b[39m\u001b[38;5;241m.\u001b[39m_values[key]\n\u001b[1;32m    957\u001b[0m \u001b[38;5;28;01melif\u001b[39;00m key_is_scalar:\n\u001b[0;32m--> 958\u001b[0m     \u001b[38;5;28;01mreturn\u001b[39;00m \u001b[38;5;28;43mself\u001b[39;49m\u001b[38;5;241;43m.\u001b[39;49m\u001b[43m_get_value\u001b[49m\u001b[43m(\u001b[49m\u001b[43mkey\u001b[49m\u001b[43m)\u001b[49m\n\u001b[1;32m    960\u001b[0m \u001b[38;5;28;01mif\u001b[39;00m is_hashable(key):\n\u001b[1;32m    961\u001b[0m     \u001b[38;5;66;03m# Otherwise index.get_value will raise InvalidIndexError\u001b[39;00m\n\u001b[1;32m    962\u001b[0m     \u001b[38;5;28;01mtry\u001b[39;00m:\n\u001b[1;32m    963\u001b[0m         \u001b[38;5;66;03m# For labels that don't resolve as scalars like tuples and frozensets\u001b[39;00m\n",
      "File \u001b[0;32m~/programming/python_projects/jpy/jpy_venv/lib/python3.10/site-packages/pandas/core/series.py:1069\u001b[0m, in \u001b[0;36mSeries._get_value\u001b[0;34m(self, label, takeable)\u001b[0m\n\u001b[1;32m   1066\u001b[0m     \u001b[38;5;28;01mreturn\u001b[39;00m \u001b[38;5;28mself\u001b[39m\u001b[38;5;241m.\u001b[39m_values[label]\n\u001b[1;32m   1068\u001b[0m \u001b[38;5;66;03m# Similar to Index.get_value, but we do not fall back to positional\u001b[39;00m\n\u001b[0;32m-> 1069\u001b[0m loc \u001b[38;5;241m=\u001b[39m \u001b[38;5;28;43mself\u001b[39;49m\u001b[38;5;241;43m.\u001b[39;49m\u001b[43mindex\u001b[49m\u001b[38;5;241;43m.\u001b[39;49m\u001b[43mget_loc\u001b[49m\u001b[43m(\u001b[49m\u001b[43mlabel\u001b[49m\u001b[43m)\u001b[49m\n\u001b[1;32m   1070\u001b[0m \u001b[38;5;28;01mreturn\u001b[39;00m \u001b[38;5;28mself\u001b[39m\u001b[38;5;241m.\u001b[39mindex\u001b[38;5;241m.\u001b[39m_get_values_for_loc(\u001b[38;5;28mself\u001b[39m, loc, label)\n",
      "File \u001b[0;32m~/programming/python_projects/jpy/jpy_venv/lib/python3.10/site-packages/pandas/core/indexes/multi.py:2869\u001b[0m, in \u001b[0;36mMultiIndex.get_loc\u001b[0;34m(self, key, method)\u001b[0m\n\u001b[1;32m   2866\u001b[0m     \u001b[38;5;28;01mreturn\u001b[39;00m mask\n\u001b[1;32m   2868\u001b[0m \u001b[38;5;28;01mif\u001b[39;00m \u001b[38;5;129;01mnot\u001b[39;00m \u001b[38;5;28misinstance\u001b[39m(key, \u001b[38;5;28mtuple\u001b[39m):\n\u001b[0;32m-> 2869\u001b[0m     loc \u001b[38;5;241m=\u001b[39m \u001b[38;5;28;43mself\u001b[39;49m\u001b[38;5;241;43m.\u001b[39;49m\u001b[43m_get_level_indexer\u001b[49m\u001b[43m(\u001b[49m\u001b[43mkey\u001b[49m\u001b[43m,\u001b[49m\u001b[43m \u001b[49m\u001b[43mlevel\u001b[49m\u001b[38;5;241;43m=\u001b[39;49m\u001b[38;5;241;43m0\u001b[39;49m\u001b[43m)\u001b[49m\n\u001b[1;32m   2870\u001b[0m     \u001b[38;5;28;01mreturn\u001b[39;00m _maybe_to_slice(loc)\n\u001b[1;32m   2872\u001b[0m keylen \u001b[38;5;241m=\u001b[39m \u001b[38;5;28mlen\u001b[39m(key)\n",
      "File \u001b[0;32m~/programming/python_projects/jpy/jpy_venv/lib/python3.10/site-packages/pandas/core/indexes/multi.py:3222\u001b[0m, in \u001b[0;36mMultiIndex._get_level_indexer\u001b[0;34m(self, key, level, indexer)\u001b[0m\n\u001b[1;32m   3218\u001b[0m         \u001b[38;5;28;01mreturn\u001b[39;00m \u001b[38;5;28mslice\u001b[39m(i, j, step)\n\u001b[1;32m   3220\u001b[0m \u001b[38;5;28;01melse\u001b[39;00m:\n\u001b[0;32m-> 3222\u001b[0m     idx \u001b[38;5;241m=\u001b[39m \u001b[38;5;28;43mself\u001b[39;49m\u001b[38;5;241;43m.\u001b[39;49m\u001b[43m_get_loc_single_level_index\u001b[49m\u001b[43m(\u001b[49m\u001b[43mlevel_index\u001b[49m\u001b[43m,\u001b[49m\u001b[43m \u001b[49m\u001b[43mkey\u001b[49m\u001b[43m)\u001b[49m\n\u001b[1;32m   3224\u001b[0m     \u001b[38;5;28;01mif\u001b[39;00m level \u001b[38;5;241m>\u001b[39m \u001b[38;5;241m0\u001b[39m \u001b[38;5;129;01mor\u001b[39;00m \u001b[38;5;28mself\u001b[39m\u001b[38;5;241m.\u001b[39m_lexsort_depth \u001b[38;5;241m==\u001b[39m \u001b[38;5;241m0\u001b[39m:\n\u001b[1;32m   3225\u001b[0m         \u001b[38;5;66;03m# Desired level is not sorted\u001b[39;00m\n\u001b[1;32m   3226\u001b[0m         \u001b[38;5;28;01mif\u001b[39;00m \u001b[38;5;28misinstance\u001b[39m(idx, \u001b[38;5;28mslice\u001b[39m):\n\u001b[1;32m   3227\u001b[0m             \u001b[38;5;66;03m# test_get_loc_partial_timestamp_multiindex\u001b[39;00m\n",
      "File \u001b[0;32m~/programming/python_projects/jpy/jpy_venv/lib/python3.10/site-packages/pandas/core/indexes/multi.py:2802\u001b[0m, in \u001b[0;36mMultiIndex._get_loc_single_level_index\u001b[0;34m(self, level_index, key)\u001b[0m\n\u001b[1;32m   2800\u001b[0m     \u001b[38;5;28;01mreturn\u001b[39;00m \u001b[38;5;241m-\u001b[39m\u001b[38;5;241m1\u001b[39m\n\u001b[1;32m   2801\u001b[0m \u001b[38;5;28;01melse\u001b[39;00m:\n\u001b[0;32m-> 2802\u001b[0m     \u001b[38;5;28;01mreturn\u001b[39;00m \u001b[43mlevel_index\u001b[49m\u001b[38;5;241;43m.\u001b[39;49m\u001b[43mget_loc\u001b[49m\u001b[43m(\u001b[49m\u001b[43mkey\u001b[49m\u001b[43m)\u001b[49m\n",
      "File \u001b[0;32m~/programming/python_projects/jpy/jpy_venv/lib/python3.10/site-packages/pandas/core/indexes/base.py:3631\u001b[0m, in \u001b[0;36mIndex.get_loc\u001b[0;34m(self, key, method, tolerance)\u001b[0m\n\u001b[1;32m   3629\u001b[0m     \u001b[38;5;28;01mreturn\u001b[39;00m \u001b[38;5;28mself\u001b[39m\u001b[38;5;241m.\u001b[39m_engine\u001b[38;5;241m.\u001b[39mget_loc(casted_key)\n\u001b[1;32m   3630\u001b[0m \u001b[38;5;28;01mexcept\u001b[39;00m \u001b[38;5;167;01mKeyError\u001b[39;00m \u001b[38;5;28;01mas\u001b[39;00m err:\n\u001b[0;32m-> 3631\u001b[0m     \u001b[38;5;28;01mraise\u001b[39;00m \u001b[38;5;167;01mKeyError\u001b[39;00m(key) \u001b[38;5;28;01mfrom\u001b[39;00m \u001b[38;5;21;01merr\u001b[39;00m\n\u001b[1;32m   3632\u001b[0m \u001b[38;5;28;01mexcept\u001b[39;00m \u001b[38;5;167;01mTypeError\u001b[39;00m:\n\u001b[1;32m   3633\u001b[0m     \u001b[38;5;66;03m# If we have a listlike key, _check_indexing_error will raise\u001b[39;00m\n\u001b[1;32m   3634\u001b[0m     \u001b[38;5;66;03m#  InvalidIndexError. Otherwise we fall through and re-raise\u001b[39;00m\n\u001b[1;32m   3635\u001b[0m     \u001b[38;5;66;03m#  the TypeError.\u001b[39;00m\n\u001b[1;32m   3636\u001b[0m     \u001b[38;5;28mself\u001b[39m\u001b[38;5;241m.\u001b[39m_check_indexing_error(key)\n",
      "\u001b[0;31mKeyError\u001b[0m: 'metric'"
     ]
    }
   ],
   "source": [
    "iqr_mean = melted.groupby(by=[\"algorithm\",\"metric\"]).apply(lambda x: np.percentile(x, [75, 50, 25]).sum()/3)\n"
   ]
  },
  {
   "cell_type": "code",
   "execution_count": 95,
   "id": "25641bcf-ef41-418f-9ce0-02665d349141",
   "metadata": {
    "tags": []
   },
   "outputs": [
    {
     "data": {
      "text/plain": [
       "algorithm\n",
       "Baseline               0.286861\n",
       "Gradient Boosting      0.639505\n",
       "KNN                    0.554094\n",
       "Light GBM              0.624243\n",
       "Logistic Regression    0.614078\n",
       "Random Forest          0.607224\n",
       "SVC                    0.625751\n",
       "XGBoost                0.607891\n",
       "dtype: float64"
      ]
     },
     "execution_count": 95,
     "metadata": {},
     "output_type": "execute_result"
    }
   ],
   "source": [
    "iqr_mean.loc[:,\"f1 score\"]"
   ]
  },
  {
   "cell_type": "code",
   "execution_count": 86,
   "id": "c2588999-60c6-415c-a431-d8edddf6584f",
   "metadata": {},
   "outputs": [
    {
     "data": {
      "text/plain": [
       "<AxesSubplot:xlabel='algorithm', ylabel='value'>"
      ]
     },
     "execution_count": 86,
     "metadata": {},
     "output_type": "execute_result"
    },
    {
     "data": {
      "image/png": "[encoded data removed]",
      "text/plain": [
       "<Figure size 2500x1500 with 1 Axes>"
      ]
     },
     "metadata": {},
     "output_type": "display_data"
    }
   ],
   "source": [
    "fig, ax = plt.subplots(figsize=(25,15))\n",
    "sns.boxplot(x=\"algorithm\", y=\"value\", data=melted, hue=\"metric\", ax=ax, meanline=True)"
   ]
  },
  {
   "cell_type": "code",
   "execution_count": 87,
   "id": "f0c3bada-9f8f-4d76-bf66-4d44e4d3e92c",
   "metadata": {
    "tags": []
   },
   "outputs": [
    {
     "data": {
      "text/plain": [
       "Text(0, 0.5, '')"
      ]
     },
     "execution_count": 87,
     "metadata": {},
     "output_type": "execute_result"
    },
    {
     "data": {
      "image/png": "[encoded data removed]",
      "text/plain": [
       "<Figure size 2500x1500 with 1 Axes>"
      ]
     },
     "metadata": {},
     "output_type": "display_data"
    }
   ],
   "source": [
    "rcParams[\"font.size\"] = 30\n",
    "fig, ax = plt.subplots(figsize=(25,15))\n",
    "sns.boxplot(x=\"metric\", y=\"value\", data=melted, hue=\"algorithm\", ax=ax, palette=\"colorblind\")\n",
    "sns.swarmplot(x=\"metric\", y=\"value\", data=melted, hue=\"algorithm\", ax=ax, dodge=True, color=\"k\")\n",
    "handles, labels = ax.get_legend_handles_labels()\n",
    "ax.legend(handles[:9], labels[:9], fontsize=20)\n",
    "ax.set_ylabel(None)"
   ]
  },
  {
   "cell_type": "code",
   "execution_count": 102,
   "id": "c268acbd-674e-4041-a068-fe5306bbbd23",
   "metadata": {},
   "outputs": [],
   "source": [
    "fig.savefig(\"cv_res_fqd.pdf\")"
   ]
  },
  {
   "cell_type": "markdown",
   "id": "6d6675e4-90b7-4e69-885f-50c4a7fe1ccb",
   "metadata": {
    "tags": []
   },
   "source": [
    "# PCA features analysis"
   ]
  },
  {
   "cell_type": "code",
   "execution_count": 184,
   "id": "9d6fbbca-8402-4a34-ba60-4558621c6ff7",
   "metadata": {},
   "outputs": [],
   "source": [
    "rcParams[\"font.size\"] = 40"
   ]
  },
  {
   "cell_type": "code",
   "execution_count": 185,
   "id": "bee7af96-59cf-456c-81b1-772f9cef176f",
   "metadata": {},
   "outputs": [],
   "source": [
    "scaler = StandardScaler()\n",
    "xx = scaler.fit_transform(xx)\n",
    "oob_x = scaler.transform(oob_x)"
   ]
  },
  {
   "cell_type": "code",
   "execution_count": 186,
   "id": "ae7488f1-4e89-4a75-b844-232897ab1ca0",
   "metadata": {},
   "outputs": [],
   "source": [
    "imputer = KNNImputer()\n",
    "xx = imputer.fit_transform(xx)\n",
    "oob_x = imputer.transform(oob_x)"
   ]
  },
  {
   "cell_type": "code",
   "execution_count": 187,
   "id": "1561e195-f5c3-44f4-992e-d666b0cd69e0",
   "metadata": {},
   "outputs": [],
   "source": [
    "xx = pca.fit_transform(xx)\n",
    "oob_x = pca.transform(oob_x)"
   ]
  },
  {
   "cell_type": "code",
   "execution_count": 188,
   "id": "ddc65727-b638-4b2a-94eb-8402f2afc7da",
   "metadata": {
    "tags": []
   },
   "outputs": [
    {
     "name": "stdout",
     "output_type": "stream",
     "text": [
      "FQD_6_gap_per_atom            0.092775\n",
      "quant_FQD_6_gap_per_atom      0.092775\n",
      "FQD_9_cv_per_atom             0.092488\n",
      "quant_FQD_9_cv_per_atom       0.092488\n",
      "FQD_6_cv_per_atom             0.091903\n",
      "quant_FQD_6_cv_per_atom       0.091903\n",
      "FQD_7_gap_per_atom            0.091728\n",
      "quant_FQD_7_gap_per_atom      0.091728\n",
      "FQD_6_zpve_per_atom           0.090369\n",
      "quant_FQD_6_zpve_per_atom     0.090369\n",
      "FQD_7_cv_per_atom             0.090355\n",
      "quant_FQD_7_cv_per_atom       0.090355\n",
      "FQD_9_gap_per_atom            0.090074\n",
      "quant_FQD_9_gap_per_atom      0.090074\n",
      "quant_FQD_7_homo_per_atom     0.088869\n",
      "FQD_7_homo_per_atom           0.088869\n",
      "FQD_9_zpve_per_atom           0.088410\n",
      "quant_FQD_9_zpve_per_atom     0.088410\n",
      "quant_FQD_7_zpve_per_atom     0.088202\n",
      "FQD_7_zpve_per_atom           0.088202\n",
      "FQD_6_homo_per_atom           0.088183\n",
      "quant_FQD_6_homo_per_atom     0.088183\n",
      "quant_FQD_8_gap_per_atom      0.087948\n",
      "FQD_8_gap_per_atom            0.087948\n",
      "quant_FQD_8_cv_per_atom       0.087724\n",
      "FQD_8_cv_per_atom             0.087724\n",
      "quant_FQD_6_alpha_per_atom    0.086973\n",
      "FQD_6_alpha_per_atom          0.086973\n",
      "quant_FQD_8_homo_per_atom     0.084626\n",
      "FQD_8_homo_per_atom           0.084626\n",
      "FQD_7_alpha_per_atom          0.083583\n",
      "quant_FQD_7_alpha_per_atom    0.083583\n",
      "quant_FQD_8_zpve_per_atom     0.083520\n",
      "FQD_8_zpve_per_atom           0.083520\n",
      "quant_FQD_9_alpha_per_atom    0.082787\n",
      "FQD_9_alpha_per_atom          0.082787\n",
      "quant_FQD_3_zpve_per_atom     0.081381\n",
      "FQD_3_zpve_per_atom           0.081381\n",
      "FQD_9_homo_per_atom           0.081261\n",
      "quant_FQD_9_homo_per_atom     0.081261\n",
      "dtype: float64\n"
     ]
    }
   ],
   "source": [
    "loading_scores = pd.Series(pca.components_[0], index=x.columns)\n",
    "sorted_loading_scores = loading_scores.abs().sort_values(ascending=False)\n",
    "print(sorted_loading_scores[:40])"
   ]
  },
  {
   "cell_type": "code",
   "execution_count": 189,
   "id": "9f1fa390-c72f-4e4f-942b-96dff60d270b",
   "metadata": {
    "tags": []
   },
   "outputs": [
    {
     "name": "stdout",
     "output_type": "stream",
     "text": [
      "FQD_5_u298                   0.122745\n",
      "quant_FQD_5_u298             0.122745\n",
      "quant_FQD_5_h298             0.122745\n",
      "FQD_5_h298                   0.122745\n",
      "FQD_5_u0                     0.122744\n",
      "quant_FQD_5_u0               0.122744\n",
      "FQD_5_g298                   0.122744\n",
      "quant_FQD_5_g298             0.122744\n",
      "FQD_5_lumo                   0.106551\n",
      "quant_FQD_5_lumo             0.106551\n",
      "quant_FQD_5_zpve             0.105523\n",
      "FQD_5_zpve                   0.105523\n",
      "FQD_5_cv                     0.101937\n",
      "quant_FQD_5_cv               0.101937\n",
      "FQD_5_gap                    0.101803\n",
      "quant_FQD_5_gap              0.101803\n",
      "FQD_9_zpve                   0.086446\n",
      "quant_FQD_9_zpve             0.086446\n",
      "quant_FQD_9_u298_per_atom    0.083827\n",
      "FQD_9_u298_per_atom          0.083827\n",
      "quant_FQD_9_h298_per_atom    0.083827\n",
      "FQD_9_h298_per_atom          0.083827\n",
      "FQD_9_u0_per_atom            0.083827\n",
      "quant_FQD_9_u0_per_atom      0.083827\n",
      "FQD_9_g298_per_atom          0.083827\n",
      "quant_FQD_9_g298_per_atom    0.083827\n",
      "FQD_8_h298_per_atom          0.082701\n",
      "quant_FQD_8_h298_per_atom    0.082701\n",
      "quant_FQD_8_u298_per_atom    0.082701\n",
      "FQD_8_u298_per_atom          0.082701\n",
      "quant_FQD_8_u0_per_atom      0.082701\n",
      "FQD_8_u0_per_atom            0.082701\n",
      "quant_FQD_8_g298_per_atom    0.082700\n",
      "FQD_8_g298_per_atom          0.082700\n",
      "FQD_8_zpve                   0.080191\n",
      "quant_FQD_8_zpve             0.080191\n",
      "FQD_5_homo                   0.078529\n",
      "quant_FQD_5_homo             0.078529\n",
      "FQD_9_cv                     0.075307\n",
      "quant_FQD_9_cv               0.075307\n",
      "dtype: float64\n"
     ]
    }
   ],
   "source": [
    "loading_scores = pd.Series(pca.components_[1], index=x.columns)\n",
    "sorted_loading_scores = loading_scores.abs().sort_values(ascending=False)\n",
    "print(sorted_loading_scores[:40])"
   ]
  },
  {
   "cell_type": "code",
   "execution_count": 190,
   "id": "c7f91957-6b59-42ab-8ab8-4f8b53851e59",
   "metadata": {
    "tags": []
   },
   "outputs": [
    {
     "name": "stdout",
     "output_type": "stream",
     "text": [
      "quant_FQD_5_u298     0.098735\n",
      "FQD_5_u298           0.098735\n",
      "quant_FQD_5_h298     0.098735\n",
      "FQD_5_h298           0.098735\n",
      "quant_FQD_5_u0       0.098734\n",
      "FQD_5_u0             0.098734\n",
      "quant_FQD_5_g298     0.098733\n",
      "FQD_5_g298           0.098733\n",
      "quant_FQD_3_alpha    0.095094\n",
      "FQD_3_alpha          0.095094\n",
      "quant_FQD_3_gap      0.093749\n",
      "FQD_3_gap            0.093749\n",
      "FQD_3_zpve           0.092832\n",
      "quant_FQD_3_zpve     0.092832\n",
      "FQD_2_gap            0.091408\n",
      "quant_FQD_2_gap      0.091408\n",
      "quant_FQD_4_alpha    0.089545\n",
      "FQD_4_alpha          0.089545\n",
      "quant_FQD_3_cv       0.089417\n",
      "FQD_3_cv             0.089417\n",
      "FQD_2_cv             0.089163\n",
      "quant_FQD_2_cv       0.089163\n",
      "quant_FQD_3_mu       0.089149\n",
      "FQD_3_mu             0.089149\n",
      "quant_FQD_2_zpve     0.088959\n",
      "FQD_2_zpve           0.088959\n",
      "quant_FQD_3_h298     0.088755\n",
      "FQD_3_h298           0.088755\n",
      "quant_FQD_3_u298     0.088755\n",
      "FQD_3_u298           0.088755\n",
      "FQD_3_u0             0.088754\n",
      "quant_FQD_3_u0       0.088754\n",
      "FQD_3_g298           0.088754\n",
      "quant_FQD_3_g298     0.088754\n",
      "quant_FQD_4_u298     0.088117\n",
      "FQD_4_u298           0.088117\n",
      "quant_FQD_4_h298     0.088117\n",
      "FQD_4_h298           0.088117\n",
      "FQD_4_u0             0.088117\n",
      "quant_FQD_4_u0       0.088117\n",
      "dtype: float64\n"
     ]
    }
   ],
   "source": [
    "loading_scores = pd.Series(pca.components_[2], index=x.columns)\n",
    "sorted_loading_scores = loading_scores.abs().sort_values(ascending=False)\n",
    "print(sorted_loading_scores[:40])"
   ]
  },
  {
   "cell_type": "code",
   "execution_count": 191,
   "id": "bf3b826a-ff7b-4bf5-977f-d9c412ec0786",
   "metadata": {
    "tags": []
   },
   "outputs": [
    {
     "name": "stdout",
     "output_type": "stream",
     "text": [
      "quant_FQD_7_g298    0.141370\n",
      "FQD_7_g298          0.141370\n",
      "quant_FQD_7_u0      0.141369\n",
      "FQD_7_u0            0.141369\n",
      "quant_FQD_7_h298    0.141369\n",
      "FQD_7_h298          0.141369\n",
      "FQD_7_u298          0.141369\n",
      "quant_FQD_7_u298    0.141369\n",
      "quant_FQD_7_homo    0.124958\n",
      "FQD_7_homo          0.124958\n",
      "quant_FQD_8_homo    0.122804\n",
      "FQD_8_homo          0.122804\n",
      "quant_FQD_6_g298    0.119136\n",
      "FQD_6_g298          0.119136\n",
      "quant_FQD_6_u0      0.119135\n",
      "FQD_6_u0            0.119135\n",
      "FQD_6_u298          0.119135\n",
      "quant_FQD_6_u298    0.119135\n",
      "quant_FQD_6_h298    0.119135\n",
      "FQD_6_h298          0.119135\n",
      "FQD_8_g298          0.109532\n",
      "quant_FQD_8_g298    0.109532\n",
      "quant_FQD_8_u0      0.109531\n",
      "FQD_8_u0            0.109531\n",
      "quant_FQD_8_u298    0.109531\n",
      "FQD_8_u298          0.109531\n",
      "quant_FQD_8_h298    0.109531\n",
      "FQD_8_h298          0.109531\n",
      "FQD_6_homo          0.106720\n",
      "quant_FQD_6_homo    0.106720\n",
      "quant_FQD_7_gap     0.103125\n",
      "FQD_7_gap           0.103125\n",
      "FQD_6_gap           0.099056\n",
      "quant_FQD_6_gap     0.099056\n",
      "FQD_8_gap           0.095379\n",
      "quant_FQD_8_gap     0.095379\n",
      "quant_FQD_9_homo    0.093534\n",
      "FQD_9_homo          0.093534\n",
      "quant_FQD_9_g298    0.084852\n",
      "FQD_9_g298          0.084852\n",
      "dtype: float64\n"
     ]
    }
   ],
   "source": [
    "loading_scores = pd.Series(pca.components_[3], index=x.columns)\n",
    "sorted_loading_scores = loading_scores.abs().sort_values(ascending=False)\n",
    "print(sorted_loading_scores[:40])"
   ]
  },
  {
   "cell_type": "markdown",
   "id": "2db208e4-8412-4d6a-b655-6b14d7722b93",
   "metadata": {},
   "source": [
    "## Check which fragments are most important by atoms count"
   ]
  },
  {
   "cell_type": "code",
   "execution_count": 192,
   "id": "da9ba6d6-482e-44ff-b7de-6233e1ecb6b5",
   "metadata": {},
   "outputs": [
    {
     "data": {
      "text/plain": [
       "{'PC1': Counter({'6': 10, '9': 10, '7': 10, '8': 8, '3': 2}),\n",
       " 'PC2': Counter({'5': 18, '9': 12, '8': 10}),\n",
       " 'PC3': Counter({'5': 8, '3': 18, '2': 6, '4': 8}),\n",
       " 'PC4': Counter({'7': 12, '8': 12, '6': 12, '9': 4}),\n",
       " 'PC5': Counter({'6': 20, '7': 8, '8': 2, '9': 2, '5': 8}),\n",
       " 'PC6': Counter({'5': 20, '8': 8, '6': 10, '9': 2}),\n",
       " 'PC7': Counter({'6': 4, '2': 10, '9': 6, '3': 2, '5': 14, '8': 2, '7': 2})}"
      ]
     },
     "execution_count": 192,
     "metadata": {},
     "output_type": "execute_result"
    }
   ],
   "source": [
    "import itertools\n",
    "from collections import Counter\n",
    "keys = [f\"PC{i}\" for i in range(1,8)]\n",
    "pc_dict = {k: None for k in keys}\n",
    "pc_props_whole = []\n",
    "for i in range(7):\n",
    "    loading_scores = pd.Series(pca.components_[i], index=x.columns)\n",
    "    sorted_loading_scores = loading_scores.abs().sort_values(ascending=False)\n",
    "    splitted_names = itertools.chain.from_iterable([x.split(\"_\") for x in sorted_loading_scores.index[:40]])\n",
    "    PC_props = [x for x in splitted_names if x in [f\"{j}\" for j in range(1,10)]]\n",
    "    pc_dict[f\"PC{i+1}\"] = Counter(PC_props)\n",
    "    pc_props_whole += PC_props\n",
    "\n",
    "pc_dict"
   ]
  },
  {
   "cell_type": "code",
   "execution_count": 193,
   "id": "e5dde7b1-4fab-45b4-bc11-08b385818a00",
   "metadata": {},
   "outputs": [
    {
     "data": {
      "text/plain": [
       "[('5', 68), ('6', 56), ('8', 42), ('9', 36), ('7', 32)]"
      ]
     },
     "execution_count": 193,
     "metadata": {},
     "output_type": "execute_result"
    }
   ],
   "source": [
    "Counter(pc_props_whole).most_common(5)"
   ]
  },
  {
   "cell_type": "markdown",
   "id": "b43b82da-3a73-49ed-93fe-70c76c8b056b",
   "metadata": {},
   "source": [
    "## Check which fragments are most important by quantum feature"
   ]
  },
  {
   "cell_type": "code",
   "execution_count": 194,
   "id": "9e3aeb39-1816-48fc-9ca5-bcad1d16ad30",
   "metadata": {
    "tags": []
   },
   "outputs": [
    {
     "data": {
      "text/plain": [
       "{'PC1': Counter({'gap': 8, 'cv': 8, 'zpve': 10, 'homo': 8, 'alpha': 6}),\n",
       " 'PC2': Counter({'u298': 6,\n",
       "          'h298': 6,\n",
       "          'u0': 6,\n",
       "          'g298': 6,\n",
       "          'lumo': 2,\n",
       "          'zpve': 6,\n",
       "          'cv': 4,\n",
       "          'gap': 2,\n",
       "          'homo': 2}),\n",
       " 'PC3': Counter({'u298': 6,\n",
       "          'h298': 6,\n",
       "          'u0': 6,\n",
       "          'g298': 4,\n",
       "          'alpha': 4,\n",
       "          'gap': 4,\n",
       "          'zpve': 4,\n",
       "          'cv': 4,\n",
       "          'mu': 2}),\n",
       " 'PC4': Counter({'g298': 8,\n",
       "          'u0': 6,\n",
       "          'h298': 6,\n",
       "          'u298': 6,\n",
       "          'homo': 8,\n",
       "          'gap': 6}),\n",
       " 'PC5': Counter({'alpha': 8,\n",
       "          'h298': 6,\n",
       "          'u298': 6,\n",
       "          'u0': 6,\n",
       "          'g298': 6,\n",
       "          'mu': 4,\n",
       "          'zpve': 4}),\n",
       " 'PC6': Counter({'u298': 6,\n",
       "          'h298': 6,\n",
       "          'u0': 6,\n",
       "          'g298': 6,\n",
       "          'mu': 6,\n",
       "          'zpve': 2,\n",
       "          'homo': 2,\n",
       "          'lumo': 4,\n",
       "          'cv': 2}),\n",
       " 'PC7': Counter({'mu': 12,\n",
       "          'homo': 8,\n",
       "          'g298': 2,\n",
       "          'u0': 2,\n",
       "          'h298': 2,\n",
       "          'u298': 2,\n",
       "          'lumo': 4,\n",
       "          'cv': 2,\n",
       "          'gap': 2,\n",
       "          'alpha': 2,\n",
       "          'zpve': 2})}"
      ]
     },
     "execution_count": 194,
     "metadata": {},
     "output_type": "execute_result"
    }
   ],
   "source": [
    "pc_dict2 = {k: None for k in keys}\n",
    "pc_props_whole2 = []\n",
    "for i in range(7):\n",
    "    loading_scores = pd.Series(pca.components_[i], index=x.columns)\n",
    "    sorted_loading_scores = loading_scores.abs().sort_values(ascending=False)\n",
    "    splitted_names = itertools.chain.from_iterable([x.split(\"_\") for x in sorted_loading_scores.index[:40]])\n",
    "    PC_props = [x for x in splitted_names if x in qprops]\n",
    "    pc_dict2[f\"PC{i+1}\"] = Counter(PC_props)\n",
    "    pc_props_whole2 += PC_props\n",
    "\n",
    "\n",
    "pc_dict2"
   ]
  },
  {
   "cell_type": "code",
   "execution_count": 195,
   "id": "9e7ab695-bb11-45cd-897d-352605904da0",
   "metadata": {
    "tags": []
   },
   "outputs": [
    {
     "data": {
      "text/plain": [
       "[('u298', 32),\n",
       " ('h298', 32),\n",
       " ('u0', 32),\n",
       " ('g298', 32),\n",
       " ('zpve', 28),\n",
       " ('homo', 28),\n",
       " ('mu', 24),\n",
       " ('gap', 22),\n",
       " ('cv', 20),\n",
       " ('alpha', 20)]"
      ]
     },
     "execution_count": 195,
     "metadata": {},
     "output_type": "execute_result"
    }
   ],
   "source": [
    "Counter(pc_props_whole2).most_common(10)"
   ]
  },
  {
   "cell_type": "code",
   "execution_count": 196,
   "id": "01eb4165-0121-46a9-be54-cc489d1c5afc",
   "metadata": {},
   "outputs": [
    {
     "data": {
      "text/plain": [
       "(822, 14)"
      ]
     },
     "execution_count": 196,
     "metadata": {},
     "output_type": "execute_result"
    }
   ],
   "source": [
    "xx.shape"
   ]
  },
  {
   "cell_type": "code",
   "execution_count": 197,
   "id": "abb09431-15f0-4961-979b-4d36aa80faa4",
   "metadata": {},
   "outputs": [],
   "source": [
    "pca_df = pd.DataFrame(xx, columns=[f\"PC{n}\" for n in range(1, xx.shape[1]+1)])"
   ]
  },
  {
   "cell_type": "code",
   "execution_count": 198,
   "id": "f5fbbfaa-cedd-4fea-bc3a-c5f571d777f3",
   "metadata": {
    "tags": []
   },
   "outputs": [
    {
     "data": {
      "text/html": [
       "<div>\n",
       "<style scoped>\n",
       "    .dataframe tbody tr th:only-of-type {\n",
       "        vertical-align: middle;\n",
       "    }\n",
       "\n",
       "    .dataframe tbody tr th {\n",
       "        vertical-align: top;\n",
       "    }\n",
       "\n",
       "    .dataframe thead th {\n",
       "        text-align: right;\n",
       "    }\n",
       "</style>\n",
       "<table border=\"1\" class=\"dataframe\">\n",
       "  <thead>\n",
       "    <tr style=\"text-align: right;\">\n",
       "      <th></th>\n",
       "      <th>PC1</th>\n",
       "      <th>PC2</th>\n",
       "      <th>PC3</th>\n",
       "      <th>PC4</th>\n",
       "      <th>PC5</th>\n",
       "      <th>PC6</th>\n",
       "      <th>PC7</th>\n",
       "      <th>PC8</th>\n",
       "      <th>PC9</th>\n",
       "      <th>PC10</th>\n",
       "      <th>PC11</th>\n",
       "      <th>PC12</th>\n",
       "      <th>PC13</th>\n",
       "      <th>PC14</th>\n",
       "    </tr>\n",
       "  </thead>\n",
       "  <tbody>\n",
       "    <tr>\n",
       "      <th>0</th>\n",
       "      <td>3.301145</td>\n",
       "      <td>18.597217</td>\n",
       "      <td>-5.699404</td>\n",
       "      <td>7.300771</td>\n",
       "      <td>-3.068009</td>\n",
       "      <td>-3.896532</td>\n",
       "      <td>-3.870439</td>\n",
       "      <td>0.909340</td>\n",
       "      <td>-0.032121</td>\n",
       "      <td>0.055126</td>\n",
       "      <td>2.849040</td>\n",
       "      <td>1.734469</td>\n",
       "      <td>3.298933</td>\n",
       "      <td>0.539144</td>\n",
       "    </tr>\n",
       "    <tr>\n",
       "      <th>1</th>\n",
       "      <td>-17.418838</td>\n",
       "      <td>-3.729869</td>\n",
       "      <td>-0.161246</td>\n",
       "      <td>2.495813</td>\n",
       "      <td>-1.220451</td>\n",
       "      <td>-2.972221</td>\n",
       "      <td>0.637023</td>\n",
       "      <td>2.292576</td>\n",
       "      <td>-1.285674</td>\n",
       "      <td>1.448527</td>\n",
       "      <td>-1.571840</td>\n",
       "      <td>0.480203</td>\n",
       "      <td>-1.368605</td>\n",
       "      <td>-0.186338</td>\n",
       "    </tr>\n",
       "    <tr>\n",
       "      <th>2</th>\n",
       "      <td>23.050517</td>\n",
       "      <td>-11.612594</td>\n",
       "      <td>3.593912</td>\n",
       "      <td>0.867255</td>\n",
       "      <td>-5.838128</td>\n",
       "      <td>0.261825</td>\n",
       "      <td>-0.577465</td>\n",
       "      <td>-0.132476</td>\n",
       "      <td>-1.034804</td>\n",
       "      <td>-0.889480</td>\n",
       "      <td>0.504457</td>\n",
       "      <td>0.451571</td>\n",
       "      <td>-0.631453</td>\n",
       "      <td>-1.009808</td>\n",
       "    </tr>\n",
       "    <tr>\n",
       "      <th>3</th>\n",
       "      <td>6.399043</td>\n",
       "      <td>0.309787</td>\n",
       "      <td>-8.705321</td>\n",
       "      <td>-6.138663</td>\n",
       "      <td>1.199078</td>\n",
       "      <td>4.232694</td>\n",
       "      <td>-1.201968</td>\n",
       "      <td>0.906276</td>\n",
       "      <td>-2.931570</td>\n",
       "      <td>-1.236345</td>\n",
       "      <td>-1.330748</td>\n",
       "      <td>-1.119965</td>\n",
       "      <td>0.213240</td>\n",
       "      <td>0.482570</td>\n",
       "    </tr>\n",
       "    <tr>\n",
       "      <th>4</th>\n",
       "      <td>3.333785</td>\n",
       "      <td>-18.535907</td>\n",
       "      <td>-1.862124</td>\n",
       "      <td>5.513450</td>\n",
       "      <td>-6.641124</td>\n",
       "      <td>0.902618</td>\n",
       "      <td>-0.087619</td>\n",
       "      <td>0.120712</td>\n",
       "      <td>-0.493651</td>\n",
       "      <td>1.709890</td>\n",
       "      <td>0.525538</td>\n",
       "      <td>-1.026081</td>\n",
       "      <td>2.177598</td>\n",
       "      <td>0.625767</td>\n",
       "    </tr>\n",
       "    <tr>\n",
       "      <th>...</th>\n",
       "      <td>...</td>\n",
       "      <td>...</td>\n",
       "      <td>...</td>\n",
       "      <td>...</td>\n",
       "      <td>...</td>\n",
       "      <td>...</td>\n",
       "      <td>...</td>\n",
       "      <td>...</td>\n",
       "      <td>...</td>\n",
       "      <td>...</td>\n",
       "      <td>...</td>\n",
       "      <td>...</td>\n",
       "      <td>...</td>\n",
       "      <td>...</td>\n",
       "    </tr>\n",
       "    <tr>\n",
       "      <th>817</th>\n",
       "      <td>-9.383370</td>\n",
       "      <td>-3.927239</td>\n",
       "      <td>7.573920</td>\n",
       "      <td>1.525022</td>\n",
       "      <td>-1.013338</td>\n",
       "      <td>0.693454</td>\n",
       "      <td>-1.363682</td>\n",
       "      <td>-0.052042</td>\n",
       "      <td>1.148487</td>\n",
       "      <td>-0.095530</td>\n",
       "      <td>-1.243011</td>\n",
       "      <td>-0.149612</td>\n",
       "      <td>-0.200715</td>\n",
       "      <td>0.076711</td>\n",
       "    </tr>\n",
       "    <tr>\n",
       "      <th>818</th>\n",
       "      <td>-8.724795</td>\n",
       "      <td>11.167387</td>\n",
       "      <td>0.777470</td>\n",
       "      <td>0.860009</td>\n",
       "      <td>-4.622237</td>\n",
       "      <td>1.763553</td>\n",
       "      <td>3.461143</td>\n",
       "      <td>0.448984</td>\n",
       "      <td>1.150631</td>\n",
       "      <td>-2.018194</td>\n",
       "      <td>-0.913379</td>\n",
       "      <td>0.131517</td>\n",
       "      <td>-1.579748</td>\n",
       "      <td>-1.969542</td>\n",
       "    </tr>\n",
       "    <tr>\n",
       "      <th>819</th>\n",
       "      <td>3.449799</td>\n",
       "      <td>-2.849884</td>\n",
       "      <td>-9.301823</td>\n",
       "      <td>-4.625415</td>\n",
       "      <td>-0.371217</td>\n",
       "      <td>3.820994</td>\n",
       "      <td>0.050862</td>\n",
       "      <td>1.847267</td>\n",
       "      <td>-1.340670</td>\n",
       "      <td>-0.106665</td>\n",
       "      <td>-1.233350</td>\n",
       "      <td>0.372555</td>\n",
       "      <td>-0.058324</td>\n",
       "      <td>-0.678977</td>\n",
       "    </tr>\n",
       "    <tr>\n",
       "      <th>820</th>\n",
       "      <td>15.986464</td>\n",
       "      <td>9.116201</td>\n",
       "      <td>9.282931</td>\n",
       "      <td>4.434643</td>\n",
       "      <td>7.685569</td>\n",
       "      <td>3.907155</td>\n",
       "      <td>-0.220644</td>\n",
       "      <td>2.651799</td>\n",
       "      <td>-0.644347</td>\n",
       "      <td>-4.027709</td>\n",
       "      <td>-2.222251</td>\n",
       "      <td>1.123176</td>\n",
       "      <td>-2.788006</td>\n",
       "      <td>1.264660</td>\n",
       "    </tr>\n",
       "    <tr>\n",
       "      <th>821</th>\n",
       "      <td>3.301145</td>\n",
       "      <td>18.597217</td>\n",
       "      <td>-5.699404</td>\n",
       "      <td>7.300771</td>\n",
       "      <td>-3.068009</td>\n",
       "      <td>-3.896532</td>\n",
       "      <td>-3.870439</td>\n",
       "      <td>0.909340</td>\n",
       "      <td>-0.032121</td>\n",
       "      <td>0.055126</td>\n",
       "      <td>2.849040</td>\n",
       "      <td>1.734469</td>\n",
       "      <td>3.298933</td>\n",
       "      <td>0.539144</td>\n",
       "    </tr>\n",
       "  </tbody>\n",
       "</table>\n",
       "<p>822 rows × 14 columns</p>\n",
       "</div>"
      ],
      "text/plain": [
       "           PC1        PC2       PC3       PC4       PC5       PC6       PC7  \\\n",
       "0     3.301145  18.597217 -5.699404  7.300771 -3.068009 -3.896532 -3.870439   \n",
       "1   -17.418838  -3.729869 -0.161246  2.495813 -1.220451 -2.972221  0.637023   \n",
       "2    23.050517 -11.612594  3.593912  0.867255 -5.838128  0.261825 -0.577465   \n",
       "3     6.399043   0.309787 -8.705321 -6.138663  1.199078  4.232694 -1.201968   \n",
       "4     3.333785 -18.535907 -1.862124  5.513450 -6.641124  0.902618 -0.087619   \n",
       "..         ...        ...       ...       ...       ...       ...       ...   \n",
       "817  -9.383370  -3.927239  7.573920  1.525022 -1.013338  0.693454 -1.363682   \n",
       "818  -8.724795  11.167387  0.777470  0.860009 -4.622237  1.763553  3.461143   \n",
       "819   3.449799  -2.849884 -9.301823 -4.625415 -0.371217  3.820994  0.050862   \n",
       "820  15.986464   9.116201  9.282931  4.434643  7.685569  3.907155 -0.220644   \n",
       "821   3.301145  18.597217 -5.699404  7.300771 -3.068009 -3.896532 -3.870439   \n",
       "\n",
       "          PC8       PC9      PC10      PC11      PC12      PC13      PC14  \n",
       "0    0.909340 -0.032121  0.055126  2.849040  1.734469  3.298933  0.539144  \n",
       "1    2.292576 -1.285674  1.448527 -1.571840  0.480203 -1.368605 -0.186338  \n",
       "2   -0.132476 -1.034804 -0.889480  0.504457  0.451571 -0.631453 -1.009808  \n",
       "3    0.906276 -2.931570 -1.236345 -1.330748 -1.119965  0.213240  0.482570  \n",
       "4    0.120712 -0.493651  1.709890  0.525538 -1.026081  2.177598  0.625767  \n",
       "..        ...       ...       ...       ...       ...       ...       ...  \n",
       "817 -0.052042  1.148487 -0.095530 -1.243011 -0.149612 -0.200715  0.076711  \n",
       "818  0.448984  1.150631 -2.018194 -0.913379  0.131517 -1.579748 -1.969542  \n",
       "819  1.847267 -1.340670 -0.106665 -1.233350  0.372555 -0.058324 -0.678977  \n",
       "820  2.651799 -0.644347 -4.027709 -2.222251  1.123176 -2.788006  1.264660  \n",
       "821  0.909340 -0.032121  0.055126  2.849040  1.734469  3.298933  0.539144  \n",
       "\n",
       "[822 rows x 14 columns]"
      ]
     },
     "execution_count": 198,
     "metadata": {},
     "output_type": "execute_result"
    }
   ],
   "source": [
    "pca_df"
   ]
  },
  {
   "cell_type": "markdown",
   "id": "f01db704-1a65-47b2-8e2d-be5d267dba11",
   "metadata": {},
   "source": [
    "### Visualize PCA"
   ]
  },
  {
   "cell_type": "code",
   "execution_count": 199,
   "id": "c8bdef80-9d9e-4100-bc72-9827722a531c",
   "metadata": {},
   "outputs": [],
   "source": [
    "rcParams[\"font.size\"] = 25"
   ]
  },
  {
   "cell_type": "code",
   "execution_count": 200,
   "id": "7f0f3309-1867-4674-96f0-6948cecb260a",
   "metadata": {},
   "outputs": [
    {
     "name": "stdout",
     "output_type": "stream",
     "text": [
      "0 32.8\n",
      "1 57.0\n",
      "2 70.2\n",
      "3 78.3\n",
      "4 83.3\n",
      "5 86.2\n",
      "6 88.0\n",
      "7 89.6\n",
      "8 91.1\n",
      "9 92.3\n",
      "10 93.3\n",
      "11 94.0\n",
      "12 94.7\n",
      "13 95.3\n"
     ]
    }
   ],
   "source": [
    "for i, v in enumerate((pca.explained_variance_ratio_*100).cumsum()):\n",
    "    print(i, f\"{v:.3}\")"
   ]
  },
  {
   "cell_type": "code",
   "execution_count": 201,
   "id": "2cac9a90-7725-4254-bee8-51b4928475cf",
   "metadata": {},
   "outputs": [
    {
     "data": {
      "text/plain": [
       "Text(0, 0.5, 'summary % variance explained')"
      ]
     },
     "execution_count": 201,
     "metadata": {},
     "output_type": "execute_result"
    },
    {
     "data": {
      "image/png": "[encoded data removed]",
      "text/plain": [
       "<Figure size 2500x1000 with 2 Axes>"
      ]
     },
     "metadata": {},
     "output_type": "display_data"
    }
   ],
   "source": [
    "pcs = [f\"PC{n}\" for n in range(1, xx.shape[1]+1)]\n",
    "fig, ax = plt.subplots(figsize=(25,10))\n",
    "ax.bar(pcs, pca.explained_variance_ratio_*100)\n",
    "ax2 = ax.twinx()\n",
    "ax2.plot(pcs, (pca.explained_variance_ratio_*100).cumsum(), c=\"r\")\n",
    "ax.set_ylabel(\"% variance explained\", color=\"b\")\n",
    "ax2.set_ylabel(\"summary % variance explained\", color=\"r\")"
   ]
  },
  {
   "cell_type": "code",
   "execution_count": 185,
   "id": "0602a856-f119-4952-b0eb-dd910c5b9b98",
   "metadata": {},
   "outputs": [],
   "source": [
    "fig.savefig(\"scree_plot_fqd.pdf\")"
   ]
  },
  {
   "cell_type": "markdown",
   "id": "fde64ac4-c39d-4812-a737-3bffced5cd96",
   "metadata": {},
   "source": [
    "### 2D"
   ]
  },
  {
   "cell_type": "code",
   "execution_count": 202,
   "id": "65aeac97-3a3a-4045-ab60-4dd36ed17178",
   "metadata": {},
   "outputs": [
    {
     "data": {
      "text/plain": [
       "<matplotlib.collections.PathCollection at 0x7f5005d50fd0>"
      ]
     },
     "execution_count": 202,
     "metadata": {},
     "output_type": "execute_result"
    },
    {
     "data": {
      "image/png": "[encoded data removed]",
      "text/plain": [
       "<Figure size 640x480 with 1 Axes>"
      ]
     },
     "metadata": {},
     "output_type": "display_data"
    }
   ],
   "source": [
    "fig, ax = plt.subplots()\n",
    "ax.scatter(pca_df[\"PC1\"][yy==1], pca_df[\"PC2\"][yy==1])\n",
    "ax.scatter(pca_df[\"PC1\"][yy==0], pca_df[\"PC2\"][yy==0], c=\"r\")"
   ]
  },
  {
   "cell_type": "markdown",
   "id": "04905493-2e5e-4b8e-ab1e-c02197ace364",
   "metadata": {},
   "source": [
    "### 3D"
   ]
  },
  {
   "cell_type": "code",
   "execution_count": 203,
   "id": "14d3124d-4ff7-494a-a71f-04f8d9317fe1",
   "metadata": {
    "tags": []
   },
   "outputs": [
    {
     "data": {
      "text/plain": [
       "<mpl_toolkits.mplot3d.art3d.Path3DCollection at 0x7f5005d74d60>"
      ]
     },
     "execution_count": 203,
     "metadata": {},
     "output_type": "execute_result"
    },
    {
     "data": {
      "image/png": "[encoded data removed]",
      "text/plain": [
       "<Figure size 640x480 with 1 Axes>"
      ]
     },
     "metadata": {},
     "output_type": "display_data"
    }
   ],
   "source": [
    "from mpl_toolkits.mplot3d import Axes3D\n",
    "fig, ax = plt.subplots(subplot_kw={\"projection\":\"3d\"})\n",
    "ax.scatter(pca_df[\"PC1\"][yy==1], pca_df[\"PC2\"][yy==1], pca_df[\"PC3\"][yy==1], s=1)\n",
    "ax.scatter(pca_df[\"PC1\"][yy==0], pca_df[\"PC2\"][yy==0], pca_df[\"PC3\"][yy==0], c=\"r\", s=1)"
   ]
  },
  {
   "cell_type": "code",
   "execution_count": 204,
   "id": "49776036-efa4-47e1-84e2-9d094426e7bf",
   "metadata": {},
   "outputs": [
    {
     "data": {
      "text/html": [
       "<div>\n",
       "<style scoped>\n",
       "    .dataframe tbody tr th:only-of-type {\n",
       "        vertical-align: middle;\n",
       "    }\n",
       "\n",
       "    .dataframe tbody tr th {\n",
       "        vertical-align: top;\n",
       "    }\n",
       "\n",
       "    .dataframe thead th {\n",
       "        text-align: right;\n",
       "    }\n",
       "</style>\n",
       "<table border=\"1\" class=\"dataframe\">\n",
       "  <thead>\n",
       "    <tr style=\"text-align: right;\">\n",
       "      <th></th>\n",
       "      <th>PC1</th>\n",
       "      <th>PC2</th>\n",
       "      <th>PC3</th>\n",
       "      <th>PC4</th>\n",
       "      <th>PC5</th>\n",
       "      <th>PC6</th>\n",
       "      <th>PC7</th>\n",
       "      <th>PC8</th>\n",
       "      <th>PC9</th>\n",
       "      <th>PC10</th>\n",
       "      <th>PC11</th>\n",
       "      <th>PC12</th>\n",
       "      <th>PC13</th>\n",
       "      <th>PC14</th>\n",
       "    </tr>\n",
       "  </thead>\n",
       "  <tbody>\n",
       "    <tr>\n",
       "      <th>0</th>\n",
       "      <td>3.301145</td>\n",
       "      <td>18.597217</td>\n",
       "      <td>-5.699404</td>\n",
       "      <td>7.300771</td>\n",
       "      <td>-3.068009</td>\n",
       "      <td>-3.896532</td>\n",
       "      <td>-3.870439</td>\n",
       "      <td>0.909340</td>\n",
       "      <td>-0.032121</td>\n",
       "      <td>0.055126</td>\n",
       "      <td>2.849040</td>\n",
       "      <td>1.734469</td>\n",
       "      <td>3.298933</td>\n",
       "      <td>0.539144</td>\n",
       "    </tr>\n",
       "    <tr>\n",
       "      <th>1</th>\n",
       "      <td>-17.418838</td>\n",
       "      <td>-3.729869</td>\n",
       "      <td>-0.161246</td>\n",
       "      <td>2.495813</td>\n",
       "      <td>-1.220451</td>\n",
       "      <td>-2.972221</td>\n",
       "      <td>0.637023</td>\n",
       "      <td>2.292576</td>\n",
       "      <td>-1.285674</td>\n",
       "      <td>1.448527</td>\n",
       "      <td>-1.571840</td>\n",
       "      <td>0.480203</td>\n",
       "      <td>-1.368605</td>\n",
       "      <td>-0.186338</td>\n",
       "    </tr>\n",
       "    <tr>\n",
       "      <th>2</th>\n",
       "      <td>23.050517</td>\n",
       "      <td>-11.612594</td>\n",
       "      <td>3.593912</td>\n",
       "      <td>0.867255</td>\n",
       "      <td>-5.838128</td>\n",
       "      <td>0.261825</td>\n",
       "      <td>-0.577465</td>\n",
       "      <td>-0.132476</td>\n",
       "      <td>-1.034804</td>\n",
       "      <td>-0.889480</td>\n",
       "      <td>0.504457</td>\n",
       "      <td>0.451571</td>\n",
       "      <td>-0.631453</td>\n",
       "      <td>-1.009808</td>\n",
       "    </tr>\n",
       "    <tr>\n",
       "      <th>3</th>\n",
       "      <td>6.399043</td>\n",
       "      <td>0.309787</td>\n",
       "      <td>-8.705321</td>\n",
       "      <td>-6.138663</td>\n",
       "      <td>1.199078</td>\n",
       "      <td>4.232694</td>\n",
       "      <td>-1.201968</td>\n",
       "      <td>0.906276</td>\n",
       "      <td>-2.931570</td>\n",
       "      <td>-1.236345</td>\n",
       "      <td>-1.330748</td>\n",
       "      <td>-1.119965</td>\n",
       "      <td>0.213240</td>\n",
       "      <td>0.482570</td>\n",
       "    </tr>\n",
       "    <tr>\n",
       "      <th>4</th>\n",
       "      <td>3.333785</td>\n",
       "      <td>-18.535907</td>\n",
       "      <td>-1.862124</td>\n",
       "      <td>5.513450</td>\n",
       "      <td>-6.641124</td>\n",
       "      <td>0.902618</td>\n",
       "      <td>-0.087619</td>\n",
       "      <td>0.120712</td>\n",
       "      <td>-0.493651</td>\n",
       "      <td>1.709890</td>\n",
       "      <td>0.525538</td>\n",
       "      <td>-1.026081</td>\n",
       "      <td>2.177598</td>\n",
       "      <td>0.625767</td>\n",
       "    </tr>\n",
       "    <tr>\n",
       "      <th>...</th>\n",
       "      <td>...</td>\n",
       "      <td>...</td>\n",
       "      <td>...</td>\n",
       "      <td>...</td>\n",
       "      <td>...</td>\n",
       "      <td>...</td>\n",
       "      <td>...</td>\n",
       "      <td>...</td>\n",
       "      <td>...</td>\n",
       "      <td>...</td>\n",
       "      <td>...</td>\n",
       "      <td>...</td>\n",
       "      <td>...</td>\n",
       "      <td>...</td>\n",
       "    </tr>\n",
       "    <tr>\n",
       "      <th>817</th>\n",
       "      <td>-9.383370</td>\n",
       "      <td>-3.927239</td>\n",
       "      <td>7.573920</td>\n",
       "      <td>1.525022</td>\n",
       "      <td>-1.013338</td>\n",
       "      <td>0.693454</td>\n",
       "      <td>-1.363682</td>\n",
       "      <td>-0.052042</td>\n",
       "      <td>1.148487</td>\n",
       "      <td>-0.095530</td>\n",
       "      <td>-1.243011</td>\n",
       "      <td>-0.149612</td>\n",
       "      <td>-0.200715</td>\n",
       "      <td>0.076711</td>\n",
       "    </tr>\n",
       "    <tr>\n",
       "      <th>818</th>\n",
       "      <td>-8.724795</td>\n",
       "      <td>11.167387</td>\n",
       "      <td>0.777470</td>\n",
       "      <td>0.860009</td>\n",
       "      <td>-4.622237</td>\n",
       "      <td>1.763553</td>\n",
       "      <td>3.461143</td>\n",
       "      <td>0.448984</td>\n",
       "      <td>1.150631</td>\n",
       "      <td>-2.018194</td>\n",
       "      <td>-0.913379</td>\n",
       "      <td>0.131517</td>\n",
       "      <td>-1.579748</td>\n",
       "      <td>-1.969542</td>\n",
       "    </tr>\n",
       "    <tr>\n",
       "      <th>819</th>\n",
       "      <td>3.449799</td>\n",
       "      <td>-2.849884</td>\n",
       "      <td>-9.301823</td>\n",
       "      <td>-4.625415</td>\n",
       "      <td>-0.371217</td>\n",
       "      <td>3.820994</td>\n",
       "      <td>0.050862</td>\n",
       "      <td>1.847267</td>\n",
       "      <td>-1.340670</td>\n",
       "      <td>-0.106665</td>\n",
       "      <td>-1.233350</td>\n",
       "      <td>0.372555</td>\n",
       "      <td>-0.058324</td>\n",
       "      <td>-0.678977</td>\n",
       "    </tr>\n",
       "    <tr>\n",
       "      <th>820</th>\n",
       "      <td>15.986464</td>\n",
       "      <td>9.116201</td>\n",
       "      <td>9.282931</td>\n",
       "      <td>4.434643</td>\n",
       "      <td>7.685569</td>\n",
       "      <td>3.907155</td>\n",
       "      <td>-0.220644</td>\n",
       "      <td>2.651799</td>\n",
       "      <td>-0.644347</td>\n",
       "      <td>-4.027709</td>\n",
       "      <td>-2.222251</td>\n",
       "      <td>1.123176</td>\n",
       "      <td>-2.788006</td>\n",
       "      <td>1.264660</td>\n",
       "    </tr>\n",
       "    <tr>\n",
       "      <th>821</th>\n",
       "      <td>3.301145</td>\n",
       "      <td>18.597217</td>\n",
       "      <td>-5.699404</td>\n",
       "      <td>7.300771</td>\n",
       "      <td>-3.068009</td>\n",
       "      <td>-3.896532</td>\n",
       "      <td>-3.870439</td>\n",
       "      <td>0.909340</td>\n",
       "      <td>-0.032121</td>\n",
       "      <td>0.055126</td>\n",
       "      <td>2.849040</td>\n",
       "      <td>1.734469</td>\n",
       "      <td>3.298933</td>\n",
       "      <td>0.539144</td>\n",
       "    </tr>\n",
       "  </tbody>\n",
       "</table>\n",
       "<p>822 rows × 14 columns</p>\n",
       "</div>"
      ],
      "text/plain": [
       "           PC1        PC2       PC3       PC4       PC5       PC6       PC7  \\\n",
       "0     3.301145  18.597217 -5.699404  7.300771 -3.068009 -3.896532 -3.870439   \n",
       "1   -17.418838  -3.729869 -0.161246  2.495813 -1.220451 -2.972221  0.637023   \n",
       "2    23.050517 -11.612594  3.593912  0.867255 -5.838128  0.261825 -0.577465   \n",
       "3     6.399043   0.309787 -8.705321 -6.138663  1.199078  4.232694 -1.201968   \n",
       "4     3.333785 -18.535907 -1.862124  5.513450 -6.641124  0.902618 -0.087619   \n",
       "..         ...        ...       ...       ...       ...       ...       ...   \n",
       "817  -9.383370  -3.927239  7.573920  1.525022 -1.013338  0.693454 -1.363682   \n",
       "818  -8.724795  11.167387  0.777470  0.860009 -4.622237  1.763553  3.461143   \n",
       "819   3.449799  -2.849884 -9.301823 -4.625415 -0.371217  3.820994  0.050862   \n",
       "820  15.986464   9.116201  9.282931  4.434643  7.685569  3.907155 -0.220644   \n",
       "821   3.301145  18.597217 -5.699404  7.300771 -3.068009 -3.896532 -3.870439   \n",
       "\n",
       "          PC8       PC9      PC10      PC11      PC12      PC13      PC14  \n",
       "0    0.909340 -0.032121  0.055126  2.849040  1.734469  3.298933  0.539144  \n",
       "1    2.292576 -1.285674  1.448527 -1.571840  0.480203 -1.368605 -0.186338  \n",
       "2   -0.132476 -1.034804 -0.889480  0.504457  0.451571 -0.631453 -1.009808  \n",
       "3    0.906276 -2.931570 -1.236345 -1.330748 -1.119965  0.213240  0.482570  \n",
       "4    0.120712 -0.493651  1.709890  0.525538 -1.026081  2.177598  0.625767  \n",
       "..        ...       ...       ...       ...       ...       ...       ...  \n",
       "817 -0.052042  1.148487 -0.095530 -1.243011 -0.149612 -0.200715  0.076711  \n",
       "818  0.448984  1.150631 -2.018194 -0.913379  0.131517 -1.579748 -1.969542  \n",
       "819  1.847267 -1.340670 -0.106665 -1.233350  0.372555 -0.058324 -0.678977  \n",
       "820  2.651799 -0.644347 -4.027709 -2.222251  1.123176 -2.788006  1.264660  \n",
       "821  0.909340 -0.032121  0.055126  2.849040  1.734469  3.298933  0.539144  \n",
       "\n",
       "[822 rows x 14 columns]"
      ]
     },
     "execution_count": 204,
     "metadata": {},
     "output_type": "execute_result"
    }
   ],
   "source": [
    "pca_df"
   ]
  },
  {
   "cell_type": "code",
   "execution_count": 205,
   "id": "b0c24812-169c-4e9d-9b59-a537247ef791",
   "metadata": {},
   "outputs": [
    {
     "data": {
      "text/plain": [
       "528    1\n",
       "331    0\n",
       "735    1\n",
       "17     0\n",
       "388    0\n",
       "      ..\n",
       "715    1\n",
       "767    1\n",
       "72     0\n",
       "235    0\n",
       "37     1\n",
       "Name: class_encoded, Length: 822, dtype: int64"
      ]
     },
     "execution_count": 205,
     "metadata": {},
     "output_type": "execute_result"
    }
   ],
   "source": [
    "yy"
   ]
  },
  {
   "cell_type": "code",
   "execution_count": 210,
   "id": "617e7482-cf75-4172-92a2-a1d3d5ca2f6b",
   "metadata": {},
   "outputs": [],
   "source": [
    "pd.concat([pca_df, yy], axis=1).to_csv(\"pca_df.csv\")"
   ]
  }
 ],
 "metadata": {
  "kernelspec": {
   "display_name": "chemin_kernel",
   "language": "python",
   "name": "chemin_kernel"
  },
  "language_info": {
   "codemirror_mode": {
    "name": "ipython",
    "version": 3
   },
   "file_extension": ".py",
   "mimetype": "text/x-python",
   "name": "python",
   "nbconvert_exporter": "python",
   "pygments_lexer": "ipython3",
   "version": "3.10.6"
  },
  "toc-autonumbering": false
 },
 "nbformat": 4,
 "nbformat_minor": 5
}
