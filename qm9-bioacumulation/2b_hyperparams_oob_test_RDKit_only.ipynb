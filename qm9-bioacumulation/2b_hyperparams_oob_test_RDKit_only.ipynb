{
 "cells": [
  {
   "cell_type": "code",
   "execution_count": 1,
   "id": "5eb459d4-b059-491f-a323-1be2ef8c0de3",
   "metadata": {
    "tags": []
   },
   "outputs": [],
   "source": [
    "import numpy as np\n",
    "import pandas as pd\n",
    "from rdkit import Chem\n",
    "from rdkit.Chem import AllChem\n",
    "from rdkit import DataStructs\n",
    "from rdkit.ML.Descriptors import MoleculeDescriptors\n",
    "from rdkit.Chem import MACCSkeys\n",
    "from rdkit.Chem import Descriptors\n",
    "\n",
    "import pathlib\n",
    "\n",
    "import matplotlib.pyplot as plt\n",
    "import seaborn as sns"
   ]
  },
  {
   "cell_type": "code",
   "execution_count": 2,
   "id": "25df2b40-2476-438b-9940-97cb5e07a200",
   "metadata": {},
   "outputs": [],
   "source": [
    "from matplotlib import rcParams\n",
    "rcParams[\"font.size\"] = 20"
   ]
  },
  {
   "cell_type": "markdown",
   "id": "a0af2a5f-77a7-47d1-a0a8-ef56934c246e",
   "metadata": {
    "tags": []
   },
   "source": [
    "# Read Data"
   ]
  },
  {
   "cell_type": "code",
   "execution_count": 3,
   "id": "2c7c94ef-c48d-425c-a3c5-194a466e2f92",
   "metadata": {
    "tags": []
   },
   "outputs": [],
   "source": [
    "db_conf = pd.read_parquet(\"../db_conf.parquet\")\n",
    "db_conf.index = db_conf[\"db_idx\"]\n",
    "db_conf.drop(columns=[\"Unnamed: 0\", \"db_idx\"], inplace=True)\n",
    "db_conf[\"mol\"] = db_conf[\"smiles\"].apply(Chem.MolFromSmiles)\n",
    "# db_conf.drop(columns=[\"CONF\", \"CONFCl\", \"CONFClBr\", \"CONFClBrI\"], inplace=True)\n",
    "db_conf = db_conf.reset_index(drop=True)"
   ]
  },
  {
   "cell_type": "code",
   "execution_count": 4,
   "id": "7ba29a00-0fed-4f7c-907c-f51a59cd0cb1",
   "metadata": {},
   "outputs": [],
   "source": [
    "na_ind = db_conf[db_conf.iloc[:,4:-1].isna().all(axis=1)].index"
   ]
  },
  {
   "cell_type": "code",
   "execution_count": 5,
   "id": "02a11eac-fc19-44b6-8ac3-12fa5f6020e8",
   "metadata": {},
   "outputs": [],
   "source": [
    "db_conf = db_conf.drop(index=na_ind)\n",
    "db_conf = db_conf.reset_index(drop=True)"
   ]
  },
  {
   "cell_type": "markdown",
   "id": "5710b60b-5fab-4ba7-8c5f-fa7c1a16afc4",
   "metadata": {
    "tags": []
   },
   "source": [
    "# Labels Encoding"
   ]
  },
  {
   "cell_type": "code",
   "execution_count": 6,
   "id": "4dfbaa79-f0e4-47a7-9169-26d86dccfdbb",
   "metadata": {},
   "outputs": [],
   "source": [
    "from sklearn import preprocessing"
   ]
  },
  {
   "cell_type": "code",
   "execution_count": 7,
   "id": "51a41cf0-2798-41dc-bf7b-af571a812fd1",
   "metadata": {},
   "outputs": [],
   "source": [
    "le = preprocessing.LabelEncoder()\n",
    "le.fit([\"nB\", \"B\"])\n",
    "db_conf[\"class_encoded\"] = le.transform(db_conf[\"Experimental BCF class\"])"
   ]
  },
  {
   "cell_type": "code",
   "execution_count": 8,
   "id": "4627ca2c-0967-4272-a46d-0350b8dcb274",
   "metadata": {},
   "outputs": [],
   "source": [
    "db_conf[\"class_encoded\"] = db_conf[\"class_encoded\"].replace({1:0, 0:1})"
   ]
  },
  {
   "cell_type": "code",
   "execution_count": 9,
   "id": "abf7898d-7c39-4906-802d-da26e22a6b88",
   "metadata": {
    "tags": []
   },
   "outputs": [
    {
     "data": {
      "text/html": [
       "<div>\n",
       "<style scoped>\n",
       "    .dataframe tbody tr th:only-of-type {\n",
       "        vertical-align: middle;\n",
       "    }\n",
       "\n",
       "    .dataframe tbody tr th {\n",
       "        vertical-align: top;\n",
       "    }\n",
       "\n",
       "    .dataframe thead th {\n",
       "        text-align: right;\n",
       "    }\n",
       "</style>\n",
       "<table border=\"1\" class=\"dataframe\">\n",
       "  <thead>\n",
       "    <tr style=\"text-align: right;\">\n",
       "      <th></th>\n",
       "      <th>smiles</th>\n",
       "      <th>Experimental logarithmic BCF</th>\n",
       "      <th>Experimental BCF class</th>\n",
       "      <th>FQD_2</th>\n",
       "      <th>FQD_3</th>\n",
       "      <th>FQD_4</th>\n",
       "      <th>FQD_5</th>\n",
       "      <th>FQD_6</th>\n",
       "      <th>FQD_7</th>\n",
       "      <th>FQD_8</th>\n",
       "      <th>FQD_9</th>\n",
       "      <th>mol</th>\n",
       "      <th>class_encoded</th>\n",
       "    </tr>\n",
       "  </thead>\n",
       "  <tbody>\n",
       "    <tr>\n",
       "      <th>0</th>\n",
       "      <td>CNc1cccc(C)c1</td>\n",
       "      <td>0.849</td>\n",
       "      <td>nB</td>\n",
       "      <td>[6]</td>\n",
       "      <td>None</td>\n",
       "      <td>None</td>\n",
       "      <td>None</td>\n",
       "      <td>[213]</td>\n",
       "      <td>[929, 939]</td>\n",
       "      <td>[4340, 5388]</td>\n",
       "      <td>[32107]</td>\n",
       "      <td>&lt;rdkit.Chem.rdchem.Mol object at 0x7fb189e8ac80&gt;</td>\n",
       "      <td>0</td>\n",
       "    </tr>\n",
       "    <tr>\n",
       "      <th>1</th>\n",
       "      <td>CC(COc1ccc(Oc2ccccc2)cc1)Oc1ccccn1</td>\n",
       "      <td>3.140</td>\n",
       "      <td>B</td>\n",
       "      <td>[6, 7]</td>\n",
       "      <td>[12, 13, 14]</td>\n",
       "      <td>[21, 39, 40, 41]</td>\n",
       "      <td>[81, 84, 134, 136]</td>\n",
       "      <td>[213, 214, 277, 395, 548]</td>\n",
       "      <td>[948, 953, 1578]</td>\n",
       "      <td>[4590, 5397, 5402]</td>\n",
       "      <td>[31844, 33001, 33006]</td>\n",
       "      <td>&lt;rdkit.Chem.rdchem.Mol object at 0x7fb189e8aaa0&gt;</td>\n",
       "      <td>1</td>\n",
       "    </tr>\n",
       "    <tr>\n",
       "      <th>2</th>\n",
       "      <td>CCCCCCCC/C=C\\CCCCCCCCCCCCC</td>\n",
       "      <td>1.176</td>\n",
       "      <td>nB</td>\n",
       "      <td>[6]</td>\n",
       "      <td>[12]</td>\n",
       "      <td>[38]</td>\n",
       "      <td>[132]</td>\n",
       "      <td>[542]</td>\n",
       "      <td>[2719]</td>\n",
       "      <td>[14787]</td>\n",
       "      <td>[123245]</td>\n",
       "      <td>&lt;rdkit.Chem.rdchem.Mol object at 0x7fb189e8ab60&gt;</td>\n",
       "      <td>0</td>\n",
       "    </tr>\n",
       "    <tr>\n",
       "      <th>3</th>\n",
       "      <td>Clc1ccccc1Cl</td>\n",
       "      <td>2.500</td>\n",
       "      <td>nB</td>\n",
       "      <td>None</td>\n",
       "      <td>None</td>\n",
       "      <td>None</td>\n",
       "      <td>None</td>\n",
       "      <td>[213]</td>\n",
       "      <td>[134076]</td>\n",
       "      <td>[135441]</td>\n",
       "      <td>None</td>\n",
       "      <td>&lt;rdkit.Chem.rdchem.Mol object at 0x7fb189e8ab00&gt;</td>\n",
       "      <td>0</td>\n",
       "    </tr>\n",
       "    <tr>\n",
       "      <th>4</th>\n",
       "      <td>Nc1cccc([N+](=O)[O-])c1</td>\n",
       "      <td>0.522</td>\n",
       "      <td>nB</td>\n",
       "      <td>None</td>\n",
       "      <td>None</td>\n",
       "      <td>None</td>\n",
       "      <td>None</td>\n",
       "      <td>[213]</td>\n",
       "      <td>[939]</td>\n",
       "      <td>[4360]</td>\n",
       "      <td>[131914]</td>\n",
       "      <td>&lt;rdkit.Chem.rdchem.Mol object at 0x7fb189e8aa40&gt;</td>\n",
       "      <td>0</td>\n",
       "    </tr>\n",
       "    <tr>\n",
       "      <th>...</th>\n",
       "      <td>...</td>\n",
       "      <td>...</td>\n",
       "      <td>...</td>\n",
       "      <td>...</td>\n",
       "      <td>...</td>\n",
       "      <td>...</td>\n",
       "      <td>...</td>\n",
       "      <td>...</td>\n",
       "      <td>...</td>\n",
       "      <td>...</td>\n",
       "      <td>...</td>\n",
       "      <td>...</td>\n",
       "      <td>...</td>\n",
       "    </tr>\n",
       "    <tr>\n",
       "      <th>834</th>\n",
       "      <td>CC1=C(C)S(=O)(=O)CCS1(=O)=O</td>\n",
       "      <td>0.633</td>\n",
       "      <td>nB</td>\n",
       "      <td>[6]</td>\n",
       "      <td>None</td>\n",
       "      <td>None</td>\n",
       "      <td>None</td>\n",
       "      <td>[133896, 133900]</td>\n",
       "      <td>[134043, 134044, 134066, 134068]</td>\n",
       "      <td>[135086, 135404, 135405]</td>\n",
       "      <td>[145115]</td>\n",
       "      <td>&lt;rdkit.Chem.rdchem.Mol object at 0x7fb189eaf220&gt;</td>\n",
       "      <td>0</td>\n",
       "    </tr>\n",
       "    <tr>\n",
       "      <th>835</th>\n",
       "      <td>FC(F)(F)c1ccc(Cl)c(Cl)c1</td>\n",
       "      <td>3.176</td>\n",
       "      <td>B</td>\n",
       "      <td>[6]</td>\n",
       "      <td>None</td>\n",
       "      <td>None</td>\n",
       "      <td>None</td>\n",
       "      <td>[213]</td>\n",
       "      <td>[929, 134076]</td>\n",
       "      <td>[134378, 134382, 135441]</td>\n",
       "      <td>[137748]</td>\n",
       "      <td>&lt;rdkit.Chem.rdchem.Mol object at 0x7fb189eaf280&gt;</td>\n",
       "      <td>1</td>\n",
       "    </tr>\n",
       "    <tr>\n",
       "      <th>836</th>\n",
       "      <td>CN(C)[C@@H]1C(=O)C(C(=N)O)=C(O)[C@@]2(O)C(=O)C...</td>\n",
       "      <td>-0.222</td>\n",
       "      <td>nB</td>\n",
       "      <td>[5, 6, 7]</td>\n",
       "      <td>[10, 12, 13]</td>\n",
       "      <td>[17, 20, 21, 34, 37, 38, 39, 41]</td>\n",
       "      <td>[54, 67, 68, 70, 71, 80, 81, 82, 83, 127, 131,...</td>\n",
       "      <td>[213, 224, 226, 228, 254, 258, 259, 260, 271, ...</td>\n",
       "      <td>[929, 948, 1092, 1094, 1099, 1104, 1119, 1129,...</td>\n",
       "      <td>[4341, 4957, 4959, 5378, 5407, 5809, 5841, 584...</td>\n",
       "      <td>[26263, 26273, 28867, 32083, 32170, 32193, 322...</td>\n",
       "      <td>&lt;rdkit.Chem.rdchem.Mol object at 0x7fb189eaf2e0&gt;</td>\n",
       "      <td>0</td>\n",
       "    </tr>\n",
       "    <tr>\n",
       "      <th>837</th>\n",
       "      <td>CC(C)N(C(=O)CCl)c1ccccc1</td>\n",
       "      <td>1.568</td>\n",
       "      <td>nB</td>\n",
       "      <td>[5, 6]</td>\n",
       "      <td>[10, 11, 12]</td>\n",
       "      <td>[18, 35]</td>\n",
       "      <td>[69, 73, 128]</td>\n",
       "      <td>[213, 255, 262, 288, 386]</td>\n",
       "      <td>[939, 1121, 1626, 1677]</td>\n",
       "      <td>[5388, 7443]</td>\n",
       "      <td>[25503, 26283, 32992]</td>\n",
       "      <td>&lt;rdkit.Chem.rdchem.Mol object at 0x7fb189eaf340&gt;</td>\n",
       "      <td>0</td>\n",
       "    </tr>\n",
       "    <tr>\n",
       "      <th>838</th>\n",
       "      <td>Cc1cc(Cc2cc(C)cc(C(C)(C)C)c2O)c(O)c(C(C)(C)C)c1</td>\n",
       "      <td>2.595</td>\n",
       "      <td>nB</td>\n",
       "      <td>[6, 7]</td>\n",
       "      <td>[12]</td>\n",
       "      <td>[20]</td>\n",
       "      <td>[53]</td>\n",
       "      <td>[213]</td>\n",
       "      <td>[929, 948]</td>\n",
       "      <td>[4335, 4564, 4959, 5378]</td>\n",
       "      <td>[26263, 27871, 28436, 28900, 32080, 32203]</td>\n",
       "      <td>&lt;rdkit.Chem.rdchem.Mol object at 0x7fb189eaf3a0&gt;</td>\n",
       "      <td>0</td>\n",
       "    </tr>\n",
       "  </tbody>\n",
       "</table>\n",
       "<p>839 rows × 13 columns</p>\n",
       "</div>"
      ],
      "text/plain": [
       "                                                smiles  \\\n",
       "0                                        CNc1cccc(C)c1   \n",
       "1                   CC(COc1ccc(Oc2ccccc2)cc1)Oc1ccccn1   \n",
       "2                           CCCCCCCC/C=C\\CCCCCCCCCCCCC   \n",
       "3                                         Clc1ccccc1Cl   \n",
       "4                              Nc1cccc([N+](=O)[O-])c1   \n",
       "..                                                 ...   \n",
       "834                        CC1=C(C)S(=O)(=O)CCS1(=O)=O   \n",
       "835                           FC(F)(F)c1ccc(Cl)c(Cl)c1   \n",
       "836  CN(C)[C@@H]1C(=O)C(C(=N)O)=C(O)[C@@]2(O)C(=O)C...   \n",
       "837                           CC(C)N(C(=O)CCl)c1ccccc1   \n",
       "838    Cc1cc(Cc2cc(C)cc(C(C)(C)C)c2O)c(O)c(C(C)(C)C)c1   \n",
       "\n",
       "     Experimental logarithmic BCF Experimental BCF class      FQD_2  \\\n",
       "0                           0.849                     nB        [6]   \n",
       "1                           3.140                      B     [6, 7]   \n",
       "2                           1.176                     nB        [6]   \n",
       "3                           2.500                     nB       None   \n",
       "4                           0.522                     nB       None   \n",
       "..                            ...                    ...        ...   \n",
       "834                         0.633                     nB        [6]   \n",
       "835                         3.176                      B        [6]   \n",
       "836                        -0.222                     nB  [5, 6, 7]   \n",
       "837                         1.568                     nB     [5, 6]   \n",
       "838                         2.595                     nB     [6, 7]   \n",
       "\n",
       "            FQD_3                             FQD_4  \\\n",
       "0            None                              None   \n",
       "1    [12, 13, 14]                  [21, 39, 40, 41]   \n",
       "2            [12]                              [38]   \n",
       "3            None                              None   \n",
       "4            None                              None   \n",
       "..            ...                               ...   \n",
       "834          None                              None   \n",
       "835          None                              None   \n",
       "836  [10, 12, 13]  [17, 20, 21, 34, 37, 38, 39, 41]   \n",
       "837  [10, 11, 12]                          [18, 35]   \n",
       "838          [12]                              [20]   \n",
       "\n",
       "                                                 FQD_5  \\\n",
       "0                                                 None   \n",
       "1                                   [81, 84, 134, 136]   \n",
       "2                                                [132]   \n",
       "3                                                 None   \n",
       "4                                                 None   \n",
       "..                                                 ...   \n",
       "834                                               None   \n",
       "835                                               None   \n",
       "836  [54, 67, 68, 70, 71, 80, 81, 82, 83, 127, 131,...   \n",
       "837                                      [69, 73, 128]   \n",
       "838                                               [53]   \n",
       "\n",
       "                                                 FQD_6  \\\n",
       "0                                                [213]   \n",
       "1                            [213, 214, 277, 395, 548]   \n",
       "2                                                [542]   \n",
       "3                                                [213]   \n",
       "4                                                [213]   \n",
       "..                                                 ...   \n",
       "834                                   [133896, 133900]   \n",
       "835                                              [213]   \n",
       "836  [213, 224, 226, 228, 254, 258, 259, 260, 271, ...   \n",
       "837                          [213, 255, 262, 288, 386]   \n",
       "838                                              [213]   \n",
       "\n",
       "                                                 FQD_7  \\\n",
       "0                                           [929, 939]   \n",
       "1                                     [948, 953, 1578]   \n",
       "2                                               [2719]   \n",
       "3                                             [134076]   \n",
       "4                                                [939]   \n",
       "..                                                 ...   \n",
       "834                   [134043, 134044, 134066, 134068]   \n",
       "835                                      [929, 134076]   \n",
       "836  [929, 948, 1092, 1094, 1099, 1104, 1119, 1129,...   \n",
       "837                            [939, 1121, 1626, 1677]   \n",
       "838                                         [929, 948]   \n",
       "\n",
       "                                                 FQD_8  \\\n",
       "0                                         [4340, 5388]   \n",
       "1                                   [4590, 5397, 5402]   \n",
       "2                                              [14787]   \n",
       "3                                             [135441]   \n",
       "4                                               [4360]   \n",
       "..                                                 ...   \n",
       "834                           [135086, 135404, 135405]   \n",
       "835                           [134378, 134382, 135441]   \n",
       "836  [4341, 4957, 4959, 5378, 5407, 5809, 5841, 584...   \n",
       "837                                       [5388, 7443]   \n",
       "838                           [4335, 4564, 4959, 5378]   \n",
       "\n",
       "                                                 FQD_9  \\\n",
       "0                                              [32107]   \n",
       "1                                [31844, 33001, 33006]   \n",
       "2                                             [123245]   \n",
       "3                                                 None   \n",
       "4                                             [131914]   \n",
       "..                                                 ...   \n",
       "834                                           [145115]   \n",
       "835                                           [137748]   \n",
       "836  [26263, 26273, 28867, 32083, 32170, 32193, 322...   \n",
       "837                              [25503, 26283, 32992]   \n",
       "838         [26263, 27871, 28436, 28900, 32080, 32203]   \n",
       "\n",
       "                                                  mol  class_encoded  \n",
       "0    <rdkit.Chem.rdchem.Mol object at 0x7fb189e8ac80>              0  \n",
       "1    <rdkit.Chem.rdchem.Mol object at 0x7fb189e8aaa0>              1  \n",
       "2    <rdkit.Chem.rdchem.Mol object at 0x7fb189e8ab60>              0  \n",
       "3    <rdkit.Chem.rdchem.Mol object at 0x7fb189e8ab00>              0  \n",
       "4    <rdkit.Chem.rdchem.Mol object at 0x7fb189e8aa40>              0  \n",
       "..                                                ...            ...  \n",
       "834  <rdkit.Chem.rdchem.Mol object at 0x7fb189eaf220>              0  \n",
       "835  <rdkit.Chem.rdchem.Mol object at 0x7fb189eaf280>              1  \n",
       "836  <rdkit.Chem.rdchem.Mol object at 0x7fb189eaf2e0>              0  \n",
       "837  <rdkit.Chem.rdchem.Mol object at 0x7fb189eaf340>              0  \n",
       "838  <rdkit.Chem.rdchem.Mol object at 0x7fb189eaf3a0>              0  \n",
       "\n",
       "[839 rows x 13 columns]"
      ]
     },
     "execution_count": 9,
     "metadata": {},
     "output_type": "execute_result"
    }
   ],
   "source": [
    "db_conf"
   ]
  },
  {
   "cell_type": "markdown",
   "id": "bd8a8431-d47e-45bc-917d-f404fdd555a8",
   "metadata": {},
   "source": [
    "# RDKit descriptors"
   ]
  },
  {
   "cell_type": "code",
   "execution_count": 10,
   "id": "423a6805-5349-4abe-918c-d30d8dc3313a",
   "metadata": {
    "tags": []
   },
   "outputs": [],
   "source": [
    "descriptors_names = [ x[0] for x in Descriptors._descList ] #list of all RDKit Descriptors\n",
    "calculator = MoleculeDescriptors.MolecularDescriptorCalculator( descriptors_names )\n",
    "descriptors = []\n",
    "maccs_keys = []\n",
    "morgan_fp = []\n",
    "for mol in db_conf[\"mol\"]:\n",
    "    descriptors.append(calculator.CalcDescriptors(mol))\n",
    "    maccs_keys.append(pd.Series(np.asarray(MACCSkeys.GenMACCSKeys(mol))))\n",
    "    fp = AllChem.GetMorganFingerprintAsBitVect(mol, 4, nBits=2048)\n",
    "    fp_vect = np.zeros((1,))\n",
    "    AllChem.DataStructs.ConvertToNumpyArray(fp, fp_vect)\n",
    "    morgan_fp.append(pd.Series(fp_vect))\n",
    "cols_rdkit = descriptors_names + [f\"MACCS_key{x}\" for x in range(len(maccs_keys[0]))] + [f\"MorganFP_bit_{x}\" for x in range(2048)]\n",
    "cols = list(db_conf.columns) + cols_rdkit\n",
    "dat3 = pd.concat([db_conf.reset_index(drop=True), pd.DataFrame(descriptors), pd.DataFrame(maccs_keys), pd.DataFrame(morgan_fp)], axis=1)\n",
    "dat3.columns = cols\n"
   ]
  },
  {
   "cell_type": "code",
   "execution_count": 11,
   "id": "93763681-24cb-494b-8207-648d3d33ed5a",
   "metadata": {
    "tags": []
   },
   "outputs": [
    {
     "data": {
      "text/html": [
       "<div>\n",
       "<style scoped>\n",
       "    .dataframe tbody tr th:only-of-type {\n",
       "        vertical-align: middle;\n",
       "    }\n",
       "\n",
       "    .dataframe tbody tr th {\n",
       "        vertical-align: top;\n",
       "    }\n",
       "\n",
       "    .dataframe thead th {\n",
       "        text-align: right;\n",
       "    }\n",
       "</style>\n",
       "<table border=\"1\" class=\"dataframe\">\n",
       "  <thead>\n",
       "    <tr style=\"text-align: right;\">\n",
       "      <th></th>\n",
       "      <th>smiles</th>\n",
       "      <th>Experimental logarithmic BCF</th>\n",
       "      <th>Experimental BCF class</th>\n",
       "      <th>FQD_2</th>\n",
       "      <th>FQD_3</th>\n",
       "      <th>FQD_4</th>\n",
       "      <th>FQD_5</th>\n",
       "      <th>FQD_6</th>\n",
       "      <th>FQD_7</th>\n",
       "      <th>FQD_8</th>\n",
       "      <th>...</th>\n",
       "      <th>MorganFP_bit_2038</th>\n",
       "      <th>MorganFP_bit_2039</th>\n",
       "      <th>MorganFP_bit_2040</th>\n",
       "      <th>MorganFP_bit_2041</th>\n",
       "      <th>MorganFP_bit_2042</th>\n",
       "      <th>MorganFP_bit_2043</th>\n",
       "      <th>MorganFP_bit_2044</th>\n",
       "      <th>MorganFP_bit_2045</th>\n",
       "      <th>MorganFP_bit_2046</th>\n",
       "      <th>MorganFP_bit_2047</th>\n",
       "    </tr>\n",
       "  </thead>\n",
       "  <tbody>\n",
       "    <tr>\n",
       "      <th>0</th>\n",
       "      <td>CNc1cccc(C)c1</td>\n",
       "      <td>0.849</td>\n",
       "      <td>nB</td>\n",
       "      <td>[6]</td>\n",
       "      <td>None</td>\n",
       "      <td>None</td>\n",
       "      <td>None</td>\n",
       "      <td>[213]</td>\n",
       "      <td>[929, 939]</td>\n",
       "      <td>[4340, 5388]</td>\n",
       "      <td>...</td>\n",
       "      <td>0.0</td>\n",
       "      <td>0.0</td>\n",
       "      <td>0.0</td>\n",
       "      <td>0.0</td>\n",
       "      <td>0.0</td>\n",
       "      <td>0.0</td>\n",
       "      <td>0.0</td>\n",
       "      <td>0.0</td>\n",
       "      <td>0.0</td>\n",
       "      <td>0.0</td>\n",
       "    </tr>\n",
       "    <tr>\n",
       "      <th>1</th>\n",
       "      <td>CC(COc1ccc(Oc2ccccc2)cc1)Oc1ccccn1</td>\n",
       "      <td>3.140</td>\n",
       "      <td>B</td>\n",
       "      <td>[6, 7]</td>\n",
       "      <td>[12, 13, 14]</td>\n",
       "      <td>[21, 39, 40, 41]</td>\n",
       "      <td>[81, 84, 134, 136]</td>\n",
       "      <td>[213, 214, 277, 395, 548]</td>\n",
       "      <td>[948, 953, 1578]</td>\n",
       "      <td>[4590, 5397, 5402]</td>\n",
       "      <td>...</td>\n",
       "      <td>0.0</td>\n",
       "      <td>0.0</td>\n",
       "      <td>0.0</td>\n",
       "      <td>0.0</td>\n",
       "      <td>0.0</td>\n",
       "      <td>0.0</td>\n",
       "      <td>0.0</td>\n",
       "      <td>0.0</td>\n",
       "      <td>0.0</td>\n",
       "      <td>0.0</td>\n",
       "    </tr>\n",
       "    <tr>\n",
       "      <th>2</th>\n",
       "      <td>CCCCCCCC/C=C\\CCCCCCCCCCCCC</td>\n",
       "      <td>1.176</td>\n",
       "      <td>nB</td>\n",
       "      <td>[6]</td>\n",
       "      <td>[12]</td>\n",
       "      <td>[38]</td>\n",
       "      <td>[132]</td>\n",
       "      <td>[542]</td>\n",
       "      <td>[2719]</td>\n",
       "      <td>[14787]</td>\n",
       "      <td>...</td>\n",
       "      <td>0.0</td>\n",
       "      <td>0.0</td>\n",
       "      <td>0.0</td>\n",
       "      <td>0.0</td>\n",
       "      <td>0.0</td>\n",
       "      <td>0.0</td>\n",
       "      <td>0.0</td>\n",
       "      <td>0.0</td>\n",
       "      <td>0.0</td>\n",
       "      <td>0.0</td>\n",
       "    </tr>\n",
       "    <tr>\n",
       "      <th>3</th>\n",
       "      <td>Clc1ccccc1Cl</td>\n",
       "      <td>2.500</td>\n",
       "      <td>nB</td>\n",
       "      <td>None</td>\n",
       "      <td>None</td>\n",
       "      <td>None</td>\n",
       "      <td>None</td>\n",
       "      <td>[213]</td>\n",
       "      <td>[134076]</td>\n",
       "      <td>[135441]</td>\n",
       "      <td>...</td>\n",
       "      <td>0.0</td>\n",
       "      <td>0.0</td>\n",
       "      <td>0.0</td>\n",
       "      <td>0.0</td>\n",
       "      <td>0.0</td>\n",
       "      <td>0.0</td>\n",
       "      <td>0.0</td>\n",
       "      <td>0.0</td>\n",
       "      <td>0.0</td>\n",
       "      <td>0.0</td>\n",
       "    </tr>\n",
       "    <tr>\n",
       "      <th>4</th>\n",
       "      <td>Nc1cccc([N+](=O)[O-])c1</td>\n",
       "      <td>0.522</td>\n",
       "      <td>nB</td>\n",
       "      <td>None</td>\n",
       "      <td>None</td>\n",
       "      <td>None</td>\n",
       "      <td>None</td>\n",
       "      <td>[213]</td>\n",
       "      <td>[939]</td>\n",
       "      <td>[4360]</td>\n",
       "      <td>...</td>\n",
       "      <td>0.0</td>\n",
       "      <td>0.0</td>\n",
       "      <td>0.0</td>\n",
       "      <td>0.0</td>\n",
       "      <td>0.0</td>\n",
       "      <td>0.0</td>\n",
       "      <td>0.0</td>\n",
       "      <td>0.0</td>\n",
       "      <td>0.0</td>\n",
       "      <td>0.0</td>\n",
       "    </tr>\n",
       "    <tr>\n",
       "      <th>...</th>\n",
       "      <td>...</td>\n",
       "      <td>...</td>\n",
       "      <td>...</td>\n",
       "      <td>...</td>\n",
       "      <td>...</td>\n",
       "      <td>...</td>\n",
       "      <td>...</td>\n",
       "      <td>...</td>\n",
       "      <td>...</td>\n",
       "      <td>...</td>\n",
       "      <td>...</td>\n",
       "      <td>...</td>\n",
       "      <td>...</td>\n",
       "      <td>...</td>\n",
       "      <td>...</td>\n",
       "      <td>...</td>\n",
       "      <td>...</td>\n",
       "      <td>...</td>\n",
       "      <td>...</td>\n",
       "      <td>...</td>\n",
       "      <td>...</td>\n",
       "    </tr>\n",
       "    <tr>\n",
       "      <th>834</th>\n",
       "      <td>CC1=C(C)S(=O)(=O)CCS1(=O)=O</td>\n",
       "      <td>0.633</td>\n",
       "      <td>nB</td>\n",
       "      <td>[6]</td>\n",
       "      <td>None</td>\n",
       "      <td>None</td>\n",
       "      <td>None</td>\n",
       "      <td>[133896, 133900]</td>\n",
       "      <td>[134043, 134044, 134066, 134068]</td>\n",
       "      <td>[135086, 135404, 135405]</td>\n",
       "      <td>...</td>\n",
       "      <td>0.0</td>\n",
       "      <td>0.0</td>\n",
       "      <td>0.0</td>\n",
       "      <td>0.0</td>\n",
       "      <td>0.0</td>\n",
       "      <td>0.0</td>\n",
       "      <td>0.0</td>\n",
       "      <td>0.0</td>\n",
       "      <td>0.0</td>\n",
       "      <td>0.0</td>\n",
       "    </tr>\n",
       "    <tr>\n",
       "      <th>835</th>\n",
       "      <td>FC(F)(F)c1ccc(Cl)c(Cl)c1</td>\n",
       "      <td>3.176</td>\n",
       "      <td>B</td>\n",
       "      <td>[6]</td>\n",
       "      <td>None</td>\n",
       "      <td>None</td>\n",
       "      <td>None</td>\n",
       "      <td>[213]</td>\n",
       "      <td>[929, 134076]</td>\n",
       "      <td>[134378, 134382, 135441]</td>\n",
       "      <td>...</td>\n",
       "      <td>0.0</td>\n",
       "      <td>0.0</td>\n",
       "      <td>0.0</td>\n",
       "      <td>0.0</td>\n",
       "      <td>0.0</td>\n",
       "      <td>0.0</td>\n",
       "      <td>0.0</td>\n",
       "      <td>0.0</td>\n",
       "      <td>0.0</td>\n",
       "      <td>0.0</td>\n",
       "    </tr>\n",
       "    <tr>\n",
       "      <th>836</th>\n",
       "      <td>CN(C)[C@@H]1C(=O)C(C(=N)O)=C(O)[C@@]2(O)C(=O)C...</td>\n",
       "      <td>-0.222</td>\n",
       "      <td>nB</td>\n",
       "      <td>[5, 6, 7]</td>\n",
       "      <td>[10, 12, 13]</td>\n",
       "      <td>[17, 20, 21, 34, 37, 38, 39, 41]</td>\n",
       "      <td>[54, 67, 68, 70, 71, 80, 81, 82, 83, 127, 131,...</td>\n",
       "      <td>[213, 224, 226, 228, 254, 258, 259, 260, 271, ...</td>\n",
       "      <td>[929, 948, 1092, 1094, 1099, 1104, 1119, 1129,...</td>\n",
       "      <td>[4341, 4957, 4959, 5378, 5407, 5809, 5841, 584...</td>\n",
       "      <td>...</td>\n",
       "      <td>0.0</td>\n",
       "      <td>0.0</td>\n",
       "      <td>0.0</td>\n",
       "      <td>0.0</td>\n",
       "      <td>0.0</td>\n",
       "      <td>0.0</td>\n",
       "      <td>0.0</td>\n",
       "      <td>0.0</td>\n",
       "      <td>0.0</td>\n",
       "      <td>0.0</td>\n",
       "    </tr>\n",
       "    <tr>\n",
       "      <th>837</th>\n",
       "      <td>CC(C)N(C(=O)CCl)c1ccccc1</td>\n",
       "      <td>1.568</td>\n",
       "      <td>nB</td>\n",
       "      <td>[5, 6]</td>\n",
       "      <td>[10, 11, 12]</td>\n",
       "      <td>[18, 35]</td>\n",
       "      <td>[69, 73, 128]</td>\n",
       "      <td>[213, 255, 262, 288, 386]</td>\n",
       "      <td>[939, 1121, 1626, 1677]</td>\n",
       "      <td>[5388, 7443]</td>\n",
       "      <td>...</td>\n",
       "      <td>0.0</td>\n",
       "      <td>0.0</td>\n",
       "      <td>0.0</td>\n",
       "      <td>0.0</td>\n",
       "      <td>0.0</td>\n",
       "      <td>0.0</td>\n",
       "      <td>0.0</td>\n",
       "      <td>0.0</td>\n",
       "      <td>0.0</td>\n",
       "      <td>0.0</td>\n",
       "    </tr>\n",
       "    <tr>\n",
       "      <th>838</th>\n",
       "      <td>Cc1cc(Cc2cc(C)cc(C(C)(C)C)c2O)c(O)c(C(C)(C)C)c1</td>\n",
       "      <td>2.595</td>\n",
       "      <td>nB</td>\n",
       "      <td>[6, 7]</td>\n",
       "      <td>[12]</td>\n",
       "      <td>[20]</td>\n",
       "      <td>[53]</td>\n",
       "      <td>[213]</td>\n",
       "      <td>[929, 948]</td>\n",
       "      <td>[4335, 4564, 4959, 5378]</td>\n",
       "      <td>...</td>\n",
       "      <td>0.0</td>\n",
       "      <td>0.0</td>\n",
       "      <td>0.0</td>\n",
       "      <td>0.0</td>\n",
       "      <td>0.0</td>\n",
       "      <td>0.0</td>\n",
       "      <td>0.0</td>\n",
       "      <td>0.0</td>\n",
       "      <td>0.0</td>\n",
       "      <td>0.0</td>\n",
       "    </tr>\n",
       "  </tbody>\n",
       "</table>\n",
       "<p>839 rows × 2436 columns</p>\n",
       "</div>"
      ],
      "text/plain": [
       "                                                smiles  \\\n",
       "0                                        CNc1cccc(C)c1   \n",
       "1                   CC(COc1ccc(Oc2ccccc2)cc1)Oc1ccccn1   \n",
       "2                           CCCCCCCC/C=C\\CCCCCCCCCCCCC   \n",
       "3                                         Clc1ccccc1Cl   \n",
       "4                              Nc1cccc([N+](=O)[O-])c1   \n",
       "..                                                 ...   \n",
       "834                        CC1=C(C)S(=O)(=O)CCS1(=O)=O   \n",
       "835                           FC(F)(F)c1ccc(Cl)c(Cl)c1   \n",
       "836  CN(C)[C@@H]1C(=O)C(C(=N)O)=C(O)[C@@]2(O)C(=O)C...   \n",
       "837                           CC(C)N(C(=O)CCl)c1ccccc1   \n",
       "838    Cc1cc(Cc2cc(C)cc(C(C)(C)C)c2O)c(O)c(C(C)(C)C)c1   \n",
       "\n",
       "     Experimental logarithmic BCF Experimental BCF class      FQD_2  \\\n",
       "0                           0.849                     nB        [6]   \n",
       "1                           3.140                      B     [6, 7]   \n",
       "2                           1.176                     nB        [6]   \n",
       "3                           2.500                     nB       None   \n",
       "4                           0.522                     nB       None   \n",
       "..                            ...                    ...        ...   \n",
       "834                         0.633                     nB        [6]   \n",
       "835                         3.176                      B        [6]   \n",
       "836                        -0.222                     nB  [5, 6, 7]   \n",
       "837                         1.568                     nB     [5, 6]   \n",
       "838                         2.595                     nB     [6, 7]   \n",
       "\n",
       "            FQD_3                             FQD_4  \\\n",
       "0            None                              None   \n",
       "1    [12, 13, 14]                  [21, 39, 40, 41]   \n",
       "2            [12]                              [38]   \n",
       "3            None                              None   \n",
       "4            None                              None   \n",
       "..            ...                               ...   \n",
       "834          None                              None   \n",
       "835          None                              None   \n",
       "836  [10, 12, 13]  [17, 20, 21, 34, 37, 38, 39, 41]   \n",
       "837  [10, 11, 12]                          [18, 35]   \n",
       "838          [12]                              [20]   \n",
       "\n",
       "                                                 FQD_5  \\\n",
       "0                                                 None   \n",
       "1                                   [81, 84, 134, 136]   \n",
       "2                                                [132]   \n",
       "3                                                 None   \n",
       "4                                                 None   \n",
       "..                                                 ...   \n",
       "834                                               None   \n",
       "835                                               None   \n",
       "836  [54, 67, 68, 70, 71, 80, 81, 82, 83, 127, 131,...   \n",
       "837                                      [69, 73, 128]   \n",
       "838                                               [53]   \n",
       "\n",
       "                                                 FQD_6  \\\n",
       "0                                                [213]   \n",
       "1                            [213, 214, 277, 395, 548]   \n",
       "2                                                [542]   \n",
       "3                                                [213]   \n",
       "4                                                [213]   \n",
       "..                                                 ...   \n",
       "834                                   [133896, 133900]   \n",
       "835                                              [213]   \n",
       "836  [213, 224, 226, 228, 254, 258, 259, 260, 271, ...   \n",
       "837                          [213, 255, 262, 288, 386]   \n",
       "838                                              [213]   \n",
       "\n",
       "                                                 FQD_7  \\\n",
       "0                                           [929, 939]   \n",
       "1                                     [948, 953, 1578]   \n",
       "2                                               [2719]   \n",
       "3                                             [134076]   \n",
       "4                                                [939]   \n",
       "..                                                 ...   \n",
       "834                   [134043, 134044, 134066, 134068]   \n",
       "835                                      [929, 134076]   \n",
       "836  [929, 948, 1092, 1094, 1099, 1104, 1119, 1129,...   \n",
       "837                            [939, 1121, 1626, 1677]   \n",
       "838                                         [929, 948]   \n",
       "\n",
       "                                                 FQD_8  ... MorganFP_bit_2038  \\\n",
       "0                                         [4340, 5388]  ...               0.0   \n",
       "1                                   [4590, 5397, 5402]  ...               0.0   \n",
       "2                                              [14787]  ...               0.0   \n",
       "3                                             [135441]  ...               0.0   \n",
       "4                                               [4360]  ...               0.0   \n",
       "..                                                 ...  ...               ...   \n",
       "834                           [135086, 135404, 135405]  ...               0.0   \n",
       "835                           [134378, 134382, 135441]  ...               0.0   \n",
       "836  [4341, 4957, 4959, 5378, 5407, 5809, 5841, 584...  ...               0.0   \n",
       "837                                       [5388, 7443]  ...               0.0   \n",
       "838                           [4335, 4564, 4959, 5378]  ...               0.0   \n",
       "\n",
       "    MorganFP_bit_2039  MorganFP_bit_2040  MorganFP_bit_2041  \\\n",
       "0                 0.0                0.0                0.0   \n",
       "1                 0.0                0.0                0.0   \n",
       "2                 0.0                0.0                0.0   \n",
       "3                 0.0                0.0                0.0   \n",
       "4                 0.0                0.0                0.0   \n",
       "..                ...                ...                ...   \n",
       "834               0.0                0.0                0.0   \n",
       "835               0.0                0.0                0.0   \n",
       "836               0.0                0.0                0.0   \n",
       "837               0.0                0.0                0.0   \n",
       "838               0.0                0.0                0.0   \n",
       "\n",
       "     MorganFP_bit_2042  MorganFP_bit_2043  MorganFP_bit_2044  \\\n",
       "0                  0.0                0.0                0.0   \n",
       "1                  0.0                0.0                0.0   \n",
       "2                  0.0                0.0                0.0   \n",
       "3                  0.0                0.0                0.0   \n",
       "4                  0.0                0.0                0.0   \n",
       "..                 ...                ...                ...   \n",
       "834                0.0                0.0                0.0   \n",
       "835                0.0                0.0                0.0   \n",
       "836                0.0                0.0                0.0   \n",
       "837                0.0                0.0                0.0   \n",
       "838                0.0                0.0                0.0   \n",
       "\n",
       "     MorganFP_bit_2045  MorganFP_bit_2046  MorganFP_bit_2047  \n",
       "0                  0.0                0.0                0.0  \n",
       "1                  0.0                0.0                0.0  \n",
       "2                  0.0                0.0                0.0  \n",
       "3                  0.0                0.0                0.0  \n",
       "4                  0.0                0.0                0.0  \n",
       "..                 ...                ...                ...  \n",
       "834                0.0                0.0                0.0  \n",
       "835                0.0                0.0                0.0  \n",
       "836                0.0                0.0                0.0  \n",
       "837                0.0                0.0                0.0  \n",
       "838                0.0                0.0                0.0  \n",
       "\n",
       "[839 rows x 2436 columns]"
      ]
     },
     "execution_count": 11,
     "metadata": {},
     "output_type": "execute_result"
    }
   ],
   "source": [
    "dat3"
   ]
  },
  {
   "cell_type": "code",
   "execution_count": 13,
   "id": "cf05a4b6-29e5-41b8-bd95-291c498fd4fe",
   "metadata": {},
   "outputs": [],
   "source": [
    "bin_cols = [f\"MACCS_key{x}\" for x in range(len(maccs_keys[0]))] + [f\"MorganFP_bit_{x}\" for x in range(2048)]"
   ]
  },
  {
   "cell_type": "code",
   "execution_count": 14,
   "id": "1bd482e5-c1de-44e4-9639-567574d12d4e",
   "metadata": {},
   "outputs": [],
   "source": [
    "x = dat3.iloc[:, 13:]\n",
    "y = dat3[\"class_encoded\"]"
   ]
  },
  {
   "cell_type": "markdown",
   "id": "60942517-f1d1-4417-8e20-875c8fe68d77",
   "metadata": {},
   "source": [
    "# Fill data"
   ]
  },
  {
   "cell_type": "code",
   "execution_count": 15,
   "id": "fb061973-8607-4601-8a3c-1b77a012e90c",
   "metadata": {},
   "outputs": [],
   "source": [
    "x = x.fillna(0)"
   ]
  },
  {
   "cell_type": "markdown",
   "id": "e18b7796-fcae-419f-85cf-13240d481cbf",
   "metadata": {},
   "source": [
    "# OOB dataset creation"
   ]
  },
  {
   "cell_type": "code",
   "execution_count": 16,
   "id": "dc841c00-f850-49a6-ad6e-fd649dd0ea01",
   "metadata": {
    "tags": []
   },
   "outputs": [],
   "source": [
    "oob_idx = np.loadtxt(\"oob_idx\").astype(int)\n",
    "train_idx = np.loadtxt(\"train_idx\").astype(int)"
   ]
  },
  {
   "cell_type": "code",
   "execution_count": 17,
   "id": "b3cba1ca-7215-4915-bf94-4354d427b960",
   "metadata": {},
   "outputs": [],
   "source": [
    "res_x, res_y = x.loc[list(train_idx.astype(int))], y.loc[list(train_idx.astype(int))]"
   ]
  },
  {
   "cell_type": "code",
   "execution_count": 18,
   "id": "f570599c-7bef-4109-acb8-529f7494df74",
   "metadata": {
    "tags": []
   },
   "outputs": [],
   "source": [
    "oob_x, oob_y = x.loc[list(oob_idx)], y.loc[list(oob_idx)]"
   ]
  },
  {
   "cell_type": "code",
   "execution_count": 19,
   "id": "9d54370c-760d-45c4-8dfd-f74a3c1f8bc7",
   "metadata": {},
   "outputs": [],
   "source": [
    "x, y = res_x, res_y"
   ]
  },
  {
   "cell_type": "code",
   "execution_count": 20,
   "id": "f197e835-c562-411b-bed6-2824e4a774ba",
   "metadata": {},
   "outputs": [
    {
     "data": {
      "text/plain": [
       "0    409\n",
       "1    117\n",
       "Name: class_encoded, dtype: int64"
      ]
     },
     "execution_count": 20,
     "metadata": {},
     "output_type": "execute_result"
    }
   ],
   "source": [
    "y.value_counts()"
   ]
  },
  {
   "cell_type": "markdown",
   "id": "3fa3ad13-e40d-456f-9cbd-6a1a2c3d04c2",
   "metadata": {
    "tags": []
   },
   "source": [
    "# Hyperparameters tuning with GridSearchCV"
   ]
  },
  {
   "cell_type": "markdown",
   "id": "fbc24ec3-387e-4374-95c1-abeff391e8b8",
   "metadata": {},
   "source": [
    "# Pipeline"
   ]
  },
  {
   "cell_type": "markdown",
   "id": "ecdb60bd-6534-429c-ab07-4e52696e8dc4",
   "metadata": {
    "tags": []
   },
   "source": [
    "# Pipeline creation"
   ]
  },
  {
   "cell_type": "code",
   "execution_count": 25,
   "id": "67e2c258-b329-4241-b328-f2a7d86af5fe",
   "metadata": {},
   "outputs": [],
   "source": [
    "from sklearn.preprocessing import StandardScaler\n",
    "from sklearn.pipeline import Pipeline\n",
    "from sklearn.compose import ColumnTransformer\n",
    "from imblearn.over_sampling import RandomOverSampler"
   ]
  },
  {
   "cell_type": "code",
   "execution_count": 28,
   "id": "42c2ffad-495a-4997-9424-07101ca8a6d5",
   "metadata": {},
   "outputs": [],
   "source": [
    "from sklearn.metrics import f1_score, balanced_accuracy_score\n",
    "import xgboost as xgb\n",
    "from sklearn.ensemble import RandomForestClassifier"
   ]
  },
  {
   "cell_type": "code",
   "execution_count": 29,
   "id": "36172d4b-8eb1-48bd-b746-5fd9d2af4e10",
   "metadata": {},
   "outputs": [],
   "source": [
    "from sklearn.model_selection import StratifiedKFold\n",
    "\n",
    "def my_score(model, n_folds, scoring_callable, X, Y):\n",
    "    scores = []\n",
    "    cv = StratifiedKFold(n_folds)\n",
    "    oversampler = RandomOverSampler(random_state=1)\n",
    "    preprocessor = ColumnTransformer(\n",
    "        [(\"prep\", Pipeline([\n",
    "            (\"scaler\", StandardScaler()),\n",
    "        ]),\n",
    "                                     descriptors_names)], remainder=\"passthrough\")\n",
    "\n",
    "    for train_index, validation_index in cv.split(X, Y):\n",
    "        x, y = X.iloc[train_index], Y.iloc[train_index]\n",
    "        xx, yy = oversampler.fit_resample(x, y)\n",
    "        xx = preprocessor.fit_transform(xx)\n",
    "        model.fit(xx, yy)\n",
    "        x_val = X.iloc[validation_index]\n",
    "        x_val = preprocessor.transform(x_val)\n",
    "        score = scoring_callable(Y.iloc[validation_index], model.predict(x_val))\n",
    "        scores.append(score)\n",
    "    \n",
    "    return np.array(scores).mean()"
   ]
  },
  {
   "cell_type": "code",
   "execution_count": 30,
   "id": "7efab0be-631d-42ca-af99-1d95d00a475e",
   "metadata": {
    "tags": []
   },
   "outputs": [],
   "source": [
    "\"\"\"\"lgb__max_depth\": range(3, 12),\n",
    "\"lgb__n_estimators\": [200, 350, 500, 1000],\n",
    "\"lgb__learning_rate\": [0.01, 0.05, 0.1, 0.15],\n",
    "\"lgb__reg_alpha\": range(0, 15),\n",
    "\"lgb__reg_lambda\": range(0,15)\"\"\"\n",
    "\n",
    "import itertools\n",
    "params = list(itertools.product(range(3, 12),\n",
    "        [200, 350, 500, 1000],\n",
    "        [0.01, 0.05, 0.1, 0.15],\n",
    "        range(0, 15),\n",
    "        range(0,15)))\n",
    "result = pd.DataFrame(params)\n",
    "result.columns = \"max_depth,n_estimators,learning_rate,reg_alpha,reg_lambda\".split(\",\")\n"
   ]
  },
  {
   "cell_type": "code",
   "execution_count": 31,
   "id": "2d5e785d-4fe5-479d-8f75-c09bb16bc191",
   "metadata": {
    "collapsed": true,
    "jupyter": {
     "outputs_hidden": true
    },
    "tags": []
   },
   "outputs": [
    {
     "ename": "KeyboardInterrupt",
     "evalue": "",
     "output_type": "error",
     "traceback": [
      "\u001b[0;31m---------------------------------------------------------------------------\u001b[0m",
      "\u001b[0;31mKeyboardInterrupt\u001b[0m                         Traceback (most recent call last)",
      "Input \u001b[0;32mIn [31]\u001b[0m, in \u001b[0;36m<cell line: 2>\u001b[0;34m()\u001b[0m\n\u001b[1;32m      2\u001b[0m \u001b[38;5;28;01mfor\u001b[39;00m max_depth, n_estimators, learning_rate, reg_alpha, reg_lambda \u001b[38;5;129;01min\u001b[39;00m params:\n\u001b[1;32m      3\u001b[0m     model \u001b[38;5;241m=\u001b[39m xgb\u001b[38;5;241m.\u001b[39mXGBClassifier(\n\u001b[1;32m      4\u001b[0m         max_depth\u001b[38;5;241m=\u001b[39mmax_depth,\n\u001b[1;32m      5\u001b[0m         n_estimators\u001b[38;5;241m=\u001b[39mn_estimators,\n\u001b[0;32m   (...)\u001b[0m\n\u001b[1;32m      9\u001b[0m         random_state\u001b[38;5;241m=\u001b[39m\u001b[38;5;241m1\u001b[39m\n\u001b[1;32m     10\u001b[0m         )\n\u001b[0;32m---> 11\u001b[0m     scores\u001b[38;5;241m.\u001b[39mappend(\u001b[43mmy_score\u001b[49m\u001b[43m(\u001b[49m\u001b[43mmodel\u001b[49m\u001b[43m,\u001b[49m\u001b[43m \u001b[49m\u001b[38;5;241;43m5\u001b[39;49m\u001b[43m,\u001b[49m\u001b[43m \u001b[49m\u001b[43mf1_score\u001b[49m\u001b[43m,\u001b[49m\u001b[43m \u001b[49m\u001b[43mx\u001b[49m\u001b[43m,\u001b[49m\u001b[43m \u001b[49m\u001b[43my\u001b[49m\u001b[43m)\u001b[49m)\n\u001b[1;32m     13\u001b[0m result[\u001b[38;5;124m\"\u001b[39m\u001b[38;5;124mf_score\u001b[39m\u001b[38;5;124m\"\u001b[39m] \u001b[38;5;241m=\u001b[39m scores\n",
      "Input \u001b[0;32mIn [29]\u001b[0m, in \u001b[0;36mmy_score\u001b[0;34m(model, n_folds, scoring_callable, X, Y)\u001b[0m\n\u001b[1;32m     14\u001b[0m xx, yy \u001b[38;5;241m=\u001b[39m oversampler\u001b[38;5;241m.\u001b[39mfit_resample(x, y)\n\u001b[1;32m     15\u001b[0m xx \u001b[38;5;241m=\u001b[39m preprocessor\u001b[38;5;241m.\u001b[39mfit_transform(xx)\n\u001b[0;32m---> 16\u001b[0m \u001b[43mmodel\u001b[49m\u001b[38;5;241;43m.\u001b[39;49m\u001b[43mfit\u001b[49m\u001b[43m(\u001b[49m\u001b[43mxx\u001b[49m\u001b[43m,\u001b[49m\u001b[43m \u001b[49m\u001b[43myy\u001b[49m\u001b[43m)\u001b[49m\n\u001b[1;32m     17\u001b[0m x_val \u001b[38;5;241m=\u001b[39m X\u001b[38;5;241m.\u001b[39miloc[validation_index]\n\u001b[1;32m     18\u001b[0m x_val \u001b[38;5;241m=\u001b[39m preprocessor\u001b[38;5;241m.\u001b[39mtransform(x_val)\n",
      "File \u001b[0;32m~/programming/python_projects/jpy/jpy_venv/lib/python3.10/site-packages/xgboost/core.py:575\u001b[0m, in \u001b[0;36m_deprecate_positional_args.<locals>.inner_f\u001b[0;34m(*args, **kwargs)\u001b[0m\n\u001b[1;32m    573\u001b[0m \u001b[38;5;28;01mfor\u001b[39;00m k, arg \u001b[38;5;129;01min\u001b[39;00m \u001b[38;5;28mzip\u001b[39m(sig\u001b[38;5;241m.\u001b[39mparameters, args):\n\u001b[1;32m    574\u001b[0m     kwargs[k] \u001b[38;5;241m=\u001b[39m arg\n\u001b[0;32m--> 575\u001b[0m \u001b[38;5;28;01mreturn\u001b[39;00m \u001b[43mf\u001b[49m\u001b[43m(\u001b[49m\u001b[38;5;241;43m*\u001b[39;49m\u001b[38;5;241;43m*\u001b[39;49m\u001b[43mkwargs\u001b[49m\u001b[43m)\u001b[49m\n",
      "File \u001b[0;32m~/programming/python_projects/jpy/jpy_venv/lib/python3.10/site-packages/xgboost/sklearn.py:1400\u001b[0m, in \u001b[0;36mXGBClassifier.fit\u001b[0;34m(self, X, y, sample_weight, base_margin, eval_set, eval_metric, early_stopping_rounds, verbose, xgb_model, sample_weight_eval_set, base_margin_eval_set, feature_weights, callbacks)\u001b[0m\n\u001b[1;32m   1379\u001b[0m model, metric, params, early_stopping_rounds, callbacks \u001b[38;5;241m=\u001b[39m \u001b[38;5;28mself\u001b[39m\u001b[38;5;241m.\u001b[39m_configure_fit(\n\u001b[1;32m   1380\u001b[0m     xgb_model, eval_metric, params, early_stopping_rounds, callbacks\n\u001b[1;32m   1381\u001b[0m )\n\u001b[1;32m   1382\u001b[0m train_dmatrix, evals \u001b[38;5;241m=\u001b[39m _wrap_evaluation_matrices(\n\u001b[1;32m   1383\u001b[0m     missing\u001b[38;5;241m=\u001b[39m\u001b[38;5;28mself\u001b[39m\u001b[38;5;241m.\u001b[39mmissing,\n\u001b[1;32m   1384\u001b[0m     X\u001b[38;5;241m=\u001b[39mX,\n\u001b[0;32m   (...)\u001b[0m\n\u001b[1;32m   1397\u001b[0m     enable_categorical\u001b[38;5;241m=\u001b[39m\u001b[38;5;28mself\u001b[39m\u001b[38;5;241m.\u001b[39menable_categorical,\n\u001b[1;32m   1398\u001b[0m )\n\u001b[0;32m-> 1400\u001b[0m \u001b[38;5;28mself\u001b[39m\u001b[38;5;241m.\u001b[39m_Booster \u001b[38;5;241m=\u001b[39m \u001b[43mtrain\u001b[49m\u001b[43m(\u001b[49m\n\u001b[1;32m   1401\u001b[0m \u001b[43m    \u001b[49m\u001b[43mparams\u001b[49m\u001b[43m,\u001b[49m\n\u001b[1;32m   1402\u001b[0m \u001b[43m    \u001b[49m\u001b[43mtrain_dmatrix\u001b[49m\u001b[43m,\u001b[49m\n\u001b[1;32m   1403\u001b[0m \u001b[43m    \u001b[49m\u001b[38;5;28;43mself\u001b[39;49m\u001b[38;5;241;43m.\u001b[39;49m\u001b[43mget_num_boosting_rounds\u001b[49m\u001b[43m(\u001b[49m\u001b[43m)\u001b[49m\u001b[43m,\u001b[49m\n\u001b[1;32m   1404\u001b[0m \u001b[43m    \u001b[49m\u001b[43mevals\u001b[49m\u001b[38;5;241;43m=\u001b[39;49m\u001b[43mevals\u001b[49m\u001b[43m,\u001b[49m\n\u001b[1;32m   1405\u001b[0m \u001b[43m    \u001b[49m\u001b[43mearly_stopping_rounds\u001b[49m\u001b[38;5;241;43m=\u001b[39;49m\u001b[43mearly_stopping_rounds\u001b[49m\u001b[43m,\u001b[49m\n\u001b[1;32m   1406\u001b[0m \u001b[43m    \u001b[49m\u001b[43mevals_result\u001b[49m\u001b[38;5;241;43m=\u001b[39;49m\u001b[43mevals_result\u001b[49m\u001b[43m,\u001b[49m\n\u001b[1;32m   1407\u001b[0m \u001b[43m    \u001b[49m\u001b[43mobj\u001b[49m\u001b[38;5;241;43m=\u001b[39;49m\u001b[43mobj\u001b[49m\u001b[43m,\u001b[49m\n\u001b[1;32m   1408\u001b[0m \u001b[43m    \u001b[49m\u001b[43mcustom_metric\u001b[49m\u001b[38;5;241;43m=\u001b[39;49m\u001b[43mmetric\u001b[49m\u001b[43m,\u001b[49m\n\u001b[1;32m   1409\u001b[0m \u001b[43m    \u001b[49m\u001b[43mverbose_eval\u001b[49m\u001b[38;5;241;43m=\u001b[39;49m\u001b[43mverbose\u001b[49m\u001b[43m,\u001b[49m\n\u001b[1;32m   1410\u001b[0m \u001b[43m    \u001b[49m\u001b[43mxgb_model\u001b[49m\u001b[38;5;241;43m=\u001b[39;49m\u001b[43mmodel\u001b[49m\u001b[43m,\u001b[49m\n\u001b[1;32m   1411\u001b[0m \u001b[43m    \u001b[49m\u001b[43mcallbacks\u001b[49m\u001b[38;5;241;43m=\u001b[39;49m\u001b[43mcallbacks\u001b[49m\u001b[43m,\u001b[49m\n\u001b[1;32m   1412\u001b[0m \u001b[43m\u001b[49m\u001b[43m)\u001b[49m\n\u001b[1;32m   1414\u001b[0m \u001b[38;5;28;01mif\u001b[39;00m \u001b[38;5;129;01mnot\u001b[39;00m callable(\u001b[38;5;28mself\u001b[39m\u001b[38;5;241m.\u001b[39mobjective):\n\u001b[1;32m   1415\u001b[0m     \u001b[38;5;28mself\u001b[39m\u001b[38;5;241m.\u001b[39mobjective \u001b[38;5;241m=\u001b[39m params[\u001b[38;5;124m\"\u001b[39m\u001b[38;5;124mobjective\u001b[39m\u001b[38;5;124m\"\u001b[39m]\n",
      "File \u001b[0;32m~/programming/python_projects/jpy/jpy_venv/lib/python3.10/site-packages/xgboost/core.py:575\u001b[0m, in \u001b[0;36m_deprecate_positional_args.<locals>.inner_f\u001b[0;34m(*args, **kwargs)\u001b[0m\n\u001b[1;32m    573\u001b[0m \u001b[38;5;28;01mfor\u001b[39;00m k, arg \u001b[38;5;129;01min\u001b[39;00m \u001b[38;5;28mzip\u001b[39m(sig\u001b[38;5;241m.\u001b[39mparameters, args):\n\u001b[1;32m    574\u001b[0m     kwargs[k] \u001b[38;5;241m=\u001b[39m arg\n\u001b[0;32m--> 575\u001b[0m \u001b[38;5;28;01mreturn\u001b[39;00m \u001b[43mf\u001b[49m\u001b[43m(\u001b[49m\u001b[38;5;241;43m*\u001b[39;49m\u001b[38;5;241;43m*\u001b[39;49m\u001b[43mkwargs\u001b[49m\u001b[43m)\u001b[49m\n",
      "File \u001b[0;32m~/programming/python_projects/jpy/jpy_venv/lib/python3.10/site-packages/xgboost/training.py:181\u001b[0m, in \u001b[0;36mtrain\u001b[0;34m(params, dtrain, num_boost_round, evals, obj, feval, maximize, early_stopping_rounds, evals_result, verbose_eval, xgb_model, callbacks, custom_metric)\u001b[0m\n\u001b[1;32m    179\u001b[0m \u001b[38;5;28;01mif\u001b[39;00m cb_container\u001b[38;5;241m.\u001b[39mbefore_iteration(bst, i, dtrain, evals):\n\u001b[1;32m    180\u001b[0m     \u001b[38;5;28;01mbreak\u001b[39;00m\n\u001b[0;32m--> 181\u001b[0m \u001b[43mbst\u001b[49m\u001b[38;5;241;43m.\u001b[39;49m\u001b[43mupdate\u001b[49m\u001b[43m(\u001b[49m\u001b[43mdtrain\u001b[49m\u001b[43m,\u001b[49m\u001b[43m \u001b[49m\u001b[43mi\u001b[49m\u001b[43m,\u001b[49m\u001b[43m \u001b[49m\u001b[43mobj\u001b[49m\u001b[43m)\u001b[49m\n\u001b[1;32m    182\u001b[0m \u001b[38;5;28;01mif\u001b[39;00m cb_container\u001b[38;5;241m.\u001b[39mafter_iteration(bst, i, dtrain, evals):\n\u001b[1;32m    183\u001b[0m     \u001b[38;5;28;01mbreak\u001b[39;00m\n",
      "File \u001b[0;32m~/programming/python_projects/jpy/jpy_venv/lib/python3.10/site-packages/xgboost/core.py:1778\u001b[0m, in \u001b[0;36mBooster.update\u001b[0;34m(self, dtrain, iteration, fobj)\u001b[0m\n\u001b[1;32m   1775\u001b[0m \u001b[38;5;28mself\u001b[39m\u001b[38;5;241m.\u001b[39m_validate_features(dtrain)\n\u001b[1;32m   1777\u001b[0m \u001b[38;5;28;01mif\u001b[39;00m fobj \u001b[38;5;129;01mis\u001b[39;00m \u001b[38;5;28;01mNone\u001b[39;00m:\n\u001b[0;32m-> 1778\u001b[0m     _check_call(\u001b[43m_LIB\u001b[49m\u001b[38;5;241;43m.\u001b[39;49m\u001b[43mXGBoosterUpdateOneIter\u001b[49m\u001b[43m(\u001b[49m\u001b[38;5;28;43mself\u001b[39;49m\u001b[38;5;241;43m.\u001b[39;49m\u001b[43mhandle\u001b[49m\u001b[43m,\u001b[49m\n\u001b[1;32m   1779\u001b[0m \u001b[43m                                            \u001b[49m\u001b[43mctypes\u001b[49m\u001b[38;5;241;43m.\u001b[39;49m\u001b[43mc_int\u001b[49m\u001b[43m(\u001b[49m\u001b[43miteration\u001b[49m\u001b[43m)\u001b[49m\u001b[43m,\u001b[49m\n\u001b[1;32m   1780\u001b[0m \u001b[43m                                            \u001b[49m\u001b[43mdtrain\u001b[49m\u001b[38;5;241;43m.\u001b[39;49m\u001b[43mhandle\u001b[49m\u001b[43m)\u001b[49m)\n\u001b[1;32m   1781\u001b[0m \u001b[38;5;28;01melse\u001b[39;00m:\n\u001b[1;32m   1782\u001b[0m     pred \u001b[38;5;241m=\u001b[39m \u001b[38;5;28mself\u001b[39m\u001b[38;5;241m.\u001b[39mpredict(dtrain, output_margin\u001b[38;5;241m=\u001b[39m\u001b[38;5;28;01mTrue\u001b[39;00m, training\u001b[38;5;241m=\u001b[39m\u001b[38;5;28;01mTrue\u001b[39;00m)\n",
      "\u001b[0;31mKeyboardInterrupt\u001b[0m: "
     ]
    }
   ],
   "source": [
    "scores = []\n",
    "for max_depth, n_estimators, learning_rate, reg_alpha, reg_lambda in params:\n",
    "    model = xgb.XGBClassifier(\n",
    "        max_depth=max_depth,\n",
    "        n_estimators=n_estimators,\n",
    "        learning_rate=learning_rate,\n",
    "        reg_alpha=reg_alpha,\n",
    "        reg_lambda=reg_lambda,\n",
    "        random_state=1\n",
    "        )\n",
    "    scores.append(my_score(model, 5, f1_score, x, y))\n",
    "\n",
    "result[\"f_score\"] = scores"
   ]
  },
  {
   "cell_type": "code",
   "execution_count": 31,
   "id": "4b3bd4f9-911b-4a6f-af4f-bd78051c93de",
   "metadata": {},
   "outputs": [],
   "source": [
    "result.to_csv(\"hyperparams_rdkit_results.csv\")\n",
    "# result = pd.read_csv(\"hyperparams_rdkit_results.csv\")"
   ]
  },
  {
   "cell_type": "code",
   "execution_count": 34,
   "id": "d54140d6-1d6d-4378-8b15-30950a9bad19",
   "metadata": {
    "tags": []
   },
   "outputs": [
    {
     "data": {
      "text/html": [
       "<div>\n",
       "<style scoped>\n",
       "    .dataframe tbody tr th:only-of-type {\n",
       "        vertical-align: middle;\n",
       "    }\n",
       "\n",
       "    .dataframe tbody tr th {\n",
       "        vertical-align: top;\n",
       "    }\n",
       "\n",
       "    .dataframe thead th {\n",
       "        text-align: right;\n",
       "    }\n",
       "</style>\n",
       "<table border=\"1\" class=\"dataframe\">\n",
       "  <thead>\n",
       "    <tr style=\"text-align: right;\">\n",
       "      <th></th>\n",
       "      <th>Unnamed: 0</th>\n",
       "      <th>max_depth</th>\n",
       "      <th>n_estimators</th>\n",
       "      <th>learning_rate</th>\n",
       "      <th>reg_alpha</th>\n",
       "      <th>reg_lambda</th>\n",
       "      <th>f_score</th>\n",
       "    </tr>\n",
       "  </thead>\n",
       "  <tbody>\n",
       "    <tr>\n",
       "      <th>4504</th>\n",
       "      <td>4504</td>\n",
       "      <td>4</td>\n",
       "      <td>350</td>\n",
       "      <td>0.01</td>\n",
       "      <td>0</td>\n",
       "      <td>4</td>\n",
       "      <td>0.777004</td>\n",
       "    </tr>\n",
       "  </tbody>\n",
       "</table>\n",
       "</div>"
      ],
      "text/plain": [
       "      Unnamed: 0  max_depth  n_estimators  learning_rate  reg_alpha  \\\n",
       "4504        4504          4           350           0.01          0   \n",
       "\n",
       "      reg_lambda   f_score  \n",
       "4504           4  0.777004  "
      ]
     },
     "execution_count": 34,
     "metadata": {},
     "output_type": "execute_result"
    }
   ],
   "source": [
    "result[result[\"f_score\"]==result[\"f_score\"].max()]"
   ]
  },
  {
   "cell_type": "markdown",
   "id": "aee73aaa-5a0b-4355-9122-f06c51db819f",
   "metadata": {},
   "source": [
    "# OOB test"
   ]
  },
  {
   "cell_type": "markdown",
   "id": "9b9b5770-f8ed-4a73-b56a-5bcd39536cff",
   "metadata": {},
   "source": [
    "## Scale and apply PCA to training dataset"
   ]
  },
  {
   "cell_type": "code",
   "execution_count": 35,
   "id": "d44d54bf-67ad-4f22-9b0e-d84742e63a82",
   "metadata": {
    "tags": []
   },
   "outputs": [],
   "source": [
    "oversampler = RandomOverSampler(random_state=1)\n",
    "preprocessor = ColumnTransformer(\n",
    "        [(\"prep\", Pipeline([\n",
    "            (\"scaler\", StandardScaler()),\n",
    "        ]),\n",
    "                                     descriptors_names)], remainder=\"passthrough\")\n",
    "\n",
    "oob_scores = []\n",
    "bal_acc_scores = []\n",
    "preds = []\n",
    "xx, yy = oversampler.fit_resample(x, y)\n",
    "xx = preprocessor.fit_transform(xx)\n",
    "for i in range(5):\n",
    "    model = xgb.XGBClassifier(\n",
    "        max_depth=4,\n",
    "        n_estimators=350,\n",
    "        learning_rate=0.01,\n",
    "        reg_alpha=0,\n",
    "        reg_lambda=4,\n",
    "        random_state=60+i\n",
    "        )\n",
    "    model.fit(xx, yy)\n",
    "    x_val = oob_x\n",
    "    x_val = preprocessor.transform(x_val)\n",
    "    pred = model.predict(x_val)\n",
    "    score = f1_score(oob_y, pred)\n",
    "    preds.append(pred)\n",
    "    oob_scores.append(score)\n",
    "    score = balanced_accuracy_score(oob_y, pred)\n",
    "    bal_acc_scores.append(score)\n",
    "    "
   ]
  },
  {
   "cell_type": "code",
   "execution_count": 36,
   "id": "1fa54c54-f67f-4220-ba36-21b7fa2284b3",
   "metadata": {},
   "outputs": [
    {
     "data": {
      "text/plain": [
       "[0.759493670886076,\n",
       " 0.759493670886076,\n",
       " 0.759493670886076,\n",
       " 0.759493670886076,\n",
       " 0.759493670886076]"
      ]
     },
     "execution_count": 36,
     "metadata": {},
     "output_type": "execute_result"
    }
   ],
   "source": [
    "oob_scores"
   ]
  },
  {
   "cell_type": "code",
   "execution_count": 39,
   "id": "368c0121-5b13-4aea-9a4c-061395369795",
   "metadata": {
    "tags": []
   },
   "outputs": [
    {
     "data": {
      "text/plain": [
       "[0.8753563791874555,\n",
       " 0.8753563791874555,\n",
       " 0.8753563791874555,\n",
       " 0.8753563791874555,\n",
       " 0.8753563791874555]"
      ]
     },
     "execution_count": 39,
     "metadata": {},
     "output_type": "execute_result"
    }
   ],
   "source": [
    "bal_acc_scores"
   ]
  },
  {
   "cell_type": "markdown",
   "id": "2ea0bed6-bfd6-44e4-b35d-9b4abd18370b",
   "metadata": {},
   "source": [
    "## LGBMC\n",
    "With tuned hyperparameters"
   ]
  },
  {
   "cell_type": "code",
   "execution_count": 40,
   "id": "eadf1a69-43eb-4b76-b2de-3326ba4ca7bc",
   "metadata": {},
   "outputs": [
    {
     "data": {
      "text/plain": [
       "[array([[215,  29],\n",
       "        [  9,  60]]),\n",
       " array([[215,  29],\n",
       "        [  9,  60]]),\n",
       " array([[215,  29],\n",
       "        [  9,  60]]),\n",
       " array([[215,  29],\n",
       "        [  9,  60]]),\n",
       " array([[215,  29],\n",
       "        [  9,  60]])]"
      ]
     },
     "execution_count": 40,
     "metadata": {},
     "output_type": "execute_result"
    }
   ],
   "source": [
    "from sklearn.metrics import confusion_matrix\n",
    "conf_mats = [confusion_matrix(le.inverse_transform(oob_y), le.inverse_transform(pred)) for pred in preds]\n",
    "conf_mats"
   ]
  },
  {
   "cell_type": "code",
   "execution_count": 41,
   "id": "c8f5a4b0-9aad-4ac7-b7f6-b5b7a9260ba7",
   "metadata": {
    "collapsed": true,
    "jupyter": {
     "outputs_hidden": true
    },
    "tags": []
   },
   "outputs": [
    {
     "data": {
      "image/png": "[encoded data removed]",
      "text/plain": [
       "<Figure size 1500x1500 with 1 Axes>"
      ]
     },
     "metadata": {},
     "output_type": "display_data"
    },
    {
     "data": {
      "image/png": "[encoded data removed]",
      "text/plain": [
       "<Figure size 1500x1500 with 1 Axes>"
      ]
     },
     "metadata": {},
     "output_type": "display_data"
    },
    {
     "data": {
      "image/png": "[encoded data removed]",
      "text/plain": [
       "<Figure size 1500x1500 with 1 Axes>"
      ]
     },
     "metadata": {},
     "output_type": "display_data"
    },
    {
     "data": {
      "image/png": "[encoded data removed]",
      "text/plain": [
       "<Figure size 1500x1500 with 1 Axes>"
      ]
     },
     "metadata": {},
     "output_type": "display_data"
    },
    {
     "data": {
      "image/png": "[encoded data removed]",
      "text/plain": [
       "<Figure size 1500x1500 with 1 Axes>"
      ]
     },
     "metadata": {},
     "output_type": "display_data"
    }
   ],
   "source": [
    "for conf_mat in conf_mats:\n",
    "    rcParams[\"font.size\"] = 30\n",
    "    fig, ax = plt.subplots(figsize=(15,15))\n",
    "    sns.heatmap(\n",
    "        conf_mat.ravel()[::-1].reshape((2,2)).T,\n",
    "        annot=True,\n",
    "        fmt=\".3g\",\n",
    "        xticklabels=[\"B\", \"nB\"],\n",
    "        yticklabels=[\"B\", \"nB\"],\n",
    "        ax = ax,\n",
    "        cbar = False,\n",
    "        annot_kws={\"fontsize\": 40},\n",
    "        cmap=\"icefire\"\n",
    "    )\n",
    "    ax.set(\n",
    "        ylabel=\"Predicted\",\n",
    "        xlabel=\"Actual\"\n",
    "    )\n",
    "    plt.tight_layout()\n",
    "    plt.show()"
   ]
  },
  {
   "cell_type": "code",
   "execution_count": 42,
   "id": "e93347e2-8d55-41f6-a6a6-b9133e26b0f3",
   "metadata": {
    "tags": []
   },
   "outputs": [
    {
     "name": "stdout",
     "output_type": "stream",
     "text": [
      "Specificity: 0.881  Sensitivity: 0.87 Accuracy 0.879 Precision 0.674\n",
      "Specificity: 0.881  Sensitivity: 0.87 Accuracy 0.879 Precision 0.674\n",
      "Specificity: 0.881  Sensitivity: 0.87 Accuracy 0.879 Precision 0.674\n",
      "Specificity: 0.881  Sensitivity: 0.87 Accuracy 0.879 Precision 0.674\n",
      "Specificity: 0.881  Sensitivity: 0.87 Accuracy 0.879 Precision 0.674\n"
     ]
    }
   ],
   "source": [
    "for conf_mat in conf_mats:\n",
    "    tn, fp, fn, tp = conf_mat.ravel()\n",
    "    specificity = tn / (tn+fp)\n",
    "    sensitivity = tp/(tp+fn)\n",
    "    accuracy = (tp+tn)/(tp+tn+fp+fn)\n",
    "    precision = tp/(tp+fp)\n",
    "    print(\"Specificity:\", f\"{specificity:.3}\",\" Sensitivity:\", f\"{sensitivity:.3}\", \"Accuracy\", f\"{accuracy:.3}\", \"Precision\", f\"{precision:.3}\")\n"
   ]
  }
 ],
 "metadata": {
  "kernelspec": {
   "display_name": "chemin_kernel",
   "language": "python",
   "name": "chemin_kernel"
  },
  "language_info": {
   "codemirror_mode": {
    "name": "ipython",
    "version": 3
   },
   "file_extension": ".py",
   "mimetype": "text/x-python",
   "name": "python",
   "nbconvert_exporter": "python",
   "pygments_lexer": "ipython3",
   "version": "3.10.6"
  }
 },
 "nbformat": 4,
 "nbformat_minor": 5
}
