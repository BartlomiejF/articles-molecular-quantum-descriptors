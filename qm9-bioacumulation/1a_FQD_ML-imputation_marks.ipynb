{
 "cells": [
  {
   "cell_type": "markdown",
   "id": "19841a59-2dfb-4176-8720-7b08fff04566",
   "metadata": {
    "tags": []
   },
   "source": [
    "# Import"
   ]
  },
  {
   "cell_type": "code",
   "execution_count": 1,
   "id": "00cc765c-f4fc-4927-8845-5af146864e08",
   "metadata": {},
   "outputs": [],
   "source": [
    "import numpy as np\n",
    "import pandas as pd\n",
    "from rdkit import Chem\n",
    "from scipy import stats\n",
    "\n",
    "import pathlib\n",
    "\n",
    "import matplotlib.pyplot as plt\n",
    "import seaborn as sns"
   ]
  },
  {
   "cell_type": "code",
   "execution_count": 2,
   "id": "3a632fad-1fec-4540-87df-a44d4564b185",
   "metadata": {},
   "outputs": [],
   "source": [
    "from matplotlib import rcParams\n",
    "rcParams[\"font.size\"] = 20"
   ]
  },
  {
   "cell_type": "markdown",
   "id": "5a9f2a1b-b55e-4555-afd7-5d4c51e1fd2e",
   "metadata": {
    "tags": []
   },
   "source": [
    "# Read Data"
   ]
  },
  {
   "cell_type": "code",
   "execution_count": 3,
   "id": "b9087223-7ec3-44cc-87b8-3915f6b540eb",
   "metadata": {},
   "outputs": [],
   "source": [
    "qm9 = pd.read_csv(\"qm_ext_plus.csv\")\n",
    "qm9.index = qm9[\"Unnamed: 0\"]\n",
    "qm9.drop(columns=[\"Unnamed: 0\"], inplace=True)\n",
    "qm9[\"mol\"] = qm9[\"smiles\"].apply(Chem.MolFromSmiles)"
   ]
  },
  {
   "cell_type": "code",
   "execution_count": 4,
   "id": "df38094f-1ee3-47ae-99fd-e03998eac783",
   "metadata": {},
   "outputs": [
    {
     "data": {
      "text/html": [
       "<div>\n",
       "<style scoped>\n",
       "    .dataframe tbody tr th:only-of-type {\n",
       "        vertical-align: middle;\n",
       "    }\n",
       "\n",
       "    .dataframe tbody tr th {\n",
       "        vertical-align: top;\n",
       "    }\n",
       "\n",
       "    .dataframe thead th {\n",
       "        text-align: right;\n",
       "    }\n",
       "</style>\n",
       "<table border=\"1\" class=\"dataframe\">\n",
       "  <thead>\n",
       "    <tr style=\"text-align: right;\">\n",
       "      <th></th>\n",
       "      <th>smiles</th>\n",
       "      <th>mu</th>\n",
       "      <th>alpha</th>\n",
       "      <th>homo</th>\n",
       "      <th>lumo</th>\n",
       "      <th>gap</th>\n",
       "      <th>zpve</th>\n",
       "      <th>cv</th>\n",
       "      <th>u0</th>\n",
       "      <th>u298</th>\n",
       "      <th>h298</th>\n",
       "      <th>g298</th>\n",
       "      <th>num_atoms</th>\n",
       "      <th>mol</th>\n",
       "    </tr>\n",
       "    <tr>\n",
       "      <th>Unnamed: 0</th>\n",
       "      <th></th>\n",
       "      <th></th>\n",
       "      <th></th>\n",
       "      <th></th>\n",
       "      <th></th>\n",
       "      <th></th>\n",
       "      <th></th>\n",
       "      <th></th>\n",
       "      <th></th>\n",
       "      <th></th>\n",
       "      <th></th>\n",
       "      <th></th>\n",
       "      <th></th>\n",
       "      <th></th>\n",
       "    </tr>\n",
       "  </thead>\n",
       "  <tbody>\n",
       "    <tr>\n",
       "      <th>0</th>\n",
       "      <td>C</td>\n",
       "      <td>0.0000</td>\n",
       "      <td>13.210000</td>\n",
       "      <td>-0.387700</td>\n",
       "      <td>0.117100</td>\n",
       "      <td>0.504800</td>\n",
       "      <td>0.044749</td>\n",
       "      <td>6.469</td>\n",
       "      <td>-40.478930</td>\n",
       "      <td>-40.476062</td>\n",
       "      <td>-40.475117</td>\n",
       "      <td>-40.498597</td>\n",
       "      <td>1</td>\n",
       "      <td>&lt;rdkit.Chem.rdchem.Mol object at 0x7f2833992560&gt;</td>\n",
       "    </tr>\n",
       "    <tr>\n",
       "      <th>1</th>\n",
       "      <td>N</td>\n",
       "      <td>1.6256</td>\n",
       "      <td>9.460000</td>\n",
       "      <td>-0.257000</td>\n",
       "      <td>0.082900</td>\n",
       "      <td>0.339900</td>\n",
       "      <td>0.034358</td>\n",
       "      <td>6.316</td>\n",
       "      <td>-56.525887</td>\n",
       "      <td>-56.523026</td>\n",
       "      <td>-56.522082</td>\n",
       "      <td>-56.544961</td>\n",
       "      <td>1</td>\n",
       "      <td>&lt;rdkit.Chem.rdchem.Mol object at 0x7f2833992680&gt;</td>\n",
       "    </tr>\n",
       "    <tr>\n",
       "      <th>2</th>\n",
       "      <td>O</td>\n",
       "      <td>1.8511</td>\n",
       "      <td>6.310000</td>\n",
       "      <td>-0.292800</td>\n",
       "      <td>0.068700</td>\n",
       "      <td>0.361500</td>\n",
       "      <td>0.021375</td>\n",
       "      <td>6.002</td>\n",
       "      <td>-76.404702</td>\n",
       "      <td>-76.401867</td>\n",
       "      <td>-76.400922</td>\n",
       "      <td>-76.422349</td>\n",
       "      <td>1</td>\n",
       "      <td>&lt;rdkit.Chem.rdchem.Mol object at 0x7f2833992800&gt;</td>\n",
       "    </tr>\n",
       "    <tr>\n",
       "      <th>3</th>\n",
       "      <td>C#C</td>\n",
       "      <td>0.0000</td>\n",
       "      <td>16.280000</td>\n",
       "      <td>-0.284500</td>\n",
       "      <td>0.050600</td>\n",
       "      <td>0.335100</td>\n",
       "      <td>0.026841</td>\n",
       "      <td>8.574</td>\n",
       "      <td>-77.308427</td>\n",
       "      <td>-77.305527</td>\n",
       "      <td>-77.304583</td>\n",
       "      <td>-77.327429</td>\n",
       "      <td>2</td>\n",
       "      <td>&lt;rdkit.Chem.rdchem.Mol object at 0x7f2833992260&gt;</td>\n",
       "    </tr>\n",
       "    <tr>\n",
       "      <th>4</th>\n",
       "      <td>C#N</td>\n",
       "      <td>2.8937</td>\n",
       "      <td>12.990000</td>\n",
       "      <td>-0.360400</td>\n",
       "      <td>0.019100</td>\n",
       "      <td>0.379600</td>\n",
       "      <td>0.016601</td>\n",
       "      <td>6.278</td>\n",
       "      <td>-93.411888</td>\n",
       "      <td>-93.409370</td>\n",
       "      <td>-93.408425</td>\n",
       "      <td>-93.431246</td>\n",
       "      <td>2</td>\n",
       "      <td>&lt;rdkit.Chem.rdchem.Mol object at 0x7f2833991f00&gt;</td>\n",
       "    </tr>\n",
       "    <tr>\n",
       "      <th>...</th>\n",
       "      <td>...</td>\n",
       "      <td>...</td>\n",
       "      <td>...</td>\n",
       "      <td>...</td>\n",
       "      <td>...</td>\n",
       "      <td>...</td>\n",
       "      <td>...</td>\n",
       "      <td>...</td>\n",
       "      <td>...</td>\n",
       "      <td>...</td>\n",
       "      <td>...</td>\n",
       "      <td>...</td>\n",
       "      <td>...</td>\n",
       "      <td>...</td>\n",
       "    </tr>\n",
       "    <tr>\n",
       "      <th>155584</th>\n",
       "      <td>CCCCCC(Cl)(Cl)Cl</td>\n",
       "      <td>1.6998</td>\n",
       "      <td>91.438949</td>\n",
       "      <td>-0.437290</td>\n",
       "      <td>0.151861</td>\n",
       "      <td>0.589151</td>\n",
       "      <td>0.160407</td>\n",
       "      <td>39.627</td>\n",
       "      <td>-1612.899018</td>\n",
       "      <td>-1615.123029</td>\n",
       "      <td>-1612.726294</td>\n",
       "      <td>-1612.777780</td>\n",
       "      <td>9</td>\n",
       "      <td>&lt;rdkit.Chem.rdchem.Mol object at 0x7f2831f66800&gt;</td>\n",
       "    </tr>\n",
       "    <tr>\n",
       "      <th>155585</th>\n",
       "      <td>CCCNCC(Cl)(Cl)Cl</td>\n",
       "      <td>1.0758</td>\n",
       "      <td>88.241518</td>\n",
       "      <td>-0.375428</td>\n",
       "      <td>0.153217</td>\n",
       "      <td>0.528645</td>\n",
       "      <td>0.149152</td>\n",
       "      <td>39.102</td>\n",
       "      <td>-1628.886186</td>\n",
       "      <td>-1631.151460</td>\n",
       "      <td>-1628.724865</td>\n",
       "      <td>-1628.775694</td>\n",
       "      <td>9</td>\n",
       "      <td>&lt;rdkit.Chem.rdchem.Mol object at 0x7f2831f66860&gt;</td>\n",
       "    </tr>\n",
       "    <tr>\n",
       "      <th>155586</th>\n",
       "      <td>CCCOCC(Cl)(Cl)Cl</td>\n",
       "      <td>5.6070</td>\n",
       "      <td>83.982178</td>\n",
       "      <td>-0.429966</td>\n",
       "      <td>0.153852</td>\n",
       "      <td>0.583818</td>\n",
       "      <td>0.136714</td>\n",
       "      <td>37.858</td>\n",
       "      <td>-1648.698216</td>\n",
       "      <td>-1651.009167</td>\n",
       "      <td>-1648.549519</td>\n",
       "      <td>-1648.600105</td>\n",
       "      <td>9</td>\n",
       "      <td>&lt;rdkit.Chem.rdchem.Mol object at 0x7f2831f668c0&gt;</td>\n",
       "    </tr>\n",
       "    <tr>\n",
       "      <th>155587</th>\n",
       "      <td>CCOCCC(Cl)(Cl)Cl</td>\n",
       "      <td>2.3204</td>\n",
       "      <td>84.138259</td>\n",
       "      <td>-0.422295</td>\n",
       "      <td>0.154023</td>\n",
       "      <td>0.576318</td>\n",
       "      <td>0.136364</td>\n",
       "      <td>37.923</td>\n",
       "      <td>-1648.697812</td>\n",
       "      <td>-1651.009802</td>\n",
       "      <td>-1648.549344</td>\n",
       "      <td>-1648.600651</td>\n",
       "      <td>9</td>\n",
       "      <td>&lt;rdkit.Chem.rdchem.Mol object at 0x7f2831f66920&gt;</td>\n",
       "    </tr>\n",
       "    <tr>\n",
       "      <th>155588</th>\n",
       "      <td>COCCCC(Cl)(Cl)Cl</td>\n",
       "      <td>1.2436</td>\n",
       "      <td>84.161490</td>\n",
       "      <td>-0.423938</td>\n",
       "      <td>0.149230</td>\n",
       "      <td>0.573168</td>\n",
       "      <td>0.136824</td>\n",
       "      <td>37.796</td>\n",
       "      <td>-1648.694048</td>\n",
       "      <td>-1651.004804</td>\n",
       "      <td>-1648.545188</td>\n",
       "      <td>-1648.595878</td>\n",
       "      <td>9</td>\n",
       "      <td>&lt;rdkit.Chem.rdchem.Mol object at 0x7f2831f66980&gt;</td>\n",
       "    </tr>\n",
       "  </tbody>\n",
       "</table>\n",
       "<p>155468 rows × 14 columns</p>\n",
       "</div>"
      ],
      "text/plain": [
       "                      smiles      mu      alpha      homo      lumo       gap  \\\n",
       "Unnamed: 0                                                                      \n",
       "0                          C  0.0000  13.210000 -0.387700  0.117100  0.504800   \n",
       "1                          N  1.6256   9.460000 -0.257000  0.082900  0.339900   \n",
       "2                          O  1.8511   6.310000 -0.292800  0.068700  0.361500   \n",
       "3                        C#C  0.0000  16.280000 -0.284500  0.050600  0.335100   \n",
       "4                        C#N  2.8937  12.990000 -0.360400  0.019100  0.379600   \n",
       "...                      ...     ...        ...       ...       ...       ...   \n",
       "155584      CCCCCC(Cl)(Cl)Cl  1.6998  91.438949 -0.437290  0.151861  0.589151   \n",
       "155585      CCCNCC(Cl)(Cl)Cl  1.0758  88.241518 -0.375428  0.153217  0.528645   \n",
       "155586      CCCOCC(Cl)(Cl)Cl  5.6070  83.982178 -0.429966  0.153852  0.583818   \n",
       "155587      CCOCCC(Cl)(Cl)Cl  2.3204  84.138259 -0.422295  0.154023  0.576318   \n",
       "155588      COCCCC(Cl)(Cl)Cl  1.2436  84.161490 -0.423938  0.149230  0.573168   \n",
       "\n",
       "                zpve      cv           u0         u298         h298  \\\n",
       "Unnamed: 0                                                            \n",
       "0           0.044749   6.469   -40.478930   -40.476062   -40.475117   \n",
       "1           0.034358   6.316   -56.525887   -56.523026   -56.522082   \n",
       "2           0.021375   6.002   -76.404702   -76.401867   -76.400922   \n",
       "3           0.026841   8.574   -77.308427   -77.305527   -77.304583   \n",
       "4           0.016601   6.278   -93.411888   -93.409370   -93.408425   \n",
       "...              ...     ...          ...          ...          ...   \n",
       "155584      0.160407  39.627 -1612.899018 -1615.123029 -1612.726294   \n",
       "155585      0.149152  39.102 -1628.886186 -1631.151460 -1628.724865   \n",
       "155586      0.136714  37.858 -1648.698216 -1651.009167 -1648.549519   \n",
       "155587      0.136364  37.923 -1648.697812 -1651.009802 -1648.549344   \n",
       "155588      0.136824  37.796 -1648.694048 -1651.004804 -1648.545188   \n",
       "\n",
       "                   g298  num_atoms  \\\n",
       "Unnamed: 0                           \n",
       "0            -40.498597          1   \n",
       "1            -56.544961          1   \n",
       "2            -76.422349          1   \n",
       "3            -77.327429          2   \n",
       "4            -93.431246          2   \n",
       "...                 ...        ...   \n",
       "155584     -1612.777780          9   \n",
       "155585     -1628.775694          9   \n",
       "155586     -1648.600105          9   \n",
       "155587     -1648.600651          9   \n",
       "155588     -1648.595878          9   \n",
       "\n",
       "                                                         mol  \n",
       "Unnamed: 0                                                    \n",
       "0           <rdkit.Chem.rdchem.Mol object at 0x7f2833992560>  \n",
       "1           <rdkit.Chem.rdchem.Mol object at 0x7f2833992680>  \n",
       "2           <rdkit.Chem.rdchem.Mol object at 0x7f2833992800>  \n",
       "3           <rdkit.Chem.rdchem.Mol object at 0x7f2833992260>  \n",
       "4           <rdkit.Chem.rdchem.Mol object at 0x7f2833991f00>  \n",
       "...                                                      ...  \n",
       "155584      <rdkit.Chem.rdchem.Mol object at 0x7f2831f66800>  \n",
       "155585      <rdkit.Chem.rdchem.Mol object at 0x7f2831f66860>  \n",
       "155586      <rdkit.Chem.rdchem.Mol object at 0x7f2831f668c0>  \n",
       "155587      <rdkit.Chem.rdchem.Mol object at 0x7f2831f66920>  \n",
       "155588      <rdkit.Chem.rdchem.Mol object at 0x7f2831f66980>  \n",
       "\n",
       "[155468 rows x 14 columns]"
      ]
     },
     "execution_count": 4,
     "metadata": {},
     "output_type": "execute_result"
    }
   ],
   "source": [
    "qm9.dropna()"
   ]
  },
  {
   "cell_type": "code",
   "execution_count": 5,
   "id": "6f478695-5f87-4f7a-b3df-97f4d6fef3a0",
   "metadata": {
    "tags": []
   },
   "outputs": [],
   "source": [
    "db_conf = pd.read_parquet(\"db_conf.parquet\")\n",
    "db_conf.index = db_conf[\"db_idx\"]\n",
    "db_conf.drop(columns=[\"Unnamed: 0\", \"db_idx\"], inplace=True)\n",
    "db_conf[\"mol\"] = db_conf[\"smiles\"].apply(Chem.MolFromSmiles)\n",
    "# db_conf.drop(columns=[\"CONF\", \"CONFCl\", \"CONFClBr\", \"CONFClBrI\"], inplace=True)"
   ]
  },
  {
   "cell_type": "code",
   "execution_count": 6,
   "id": "ffd759ae-c2e8-4180-bbdc-b974ef405b10",
   "metadata": {},
   "outputs": [],
   "source": [
    "na_ind = db_conf[db_conf.iloc[:,4:-1].isna().all(axis=1)].index"
   ]
  },
  {
   "cell_type": "code",
   "execution_count": 7,
   "id": "6c0d8512-488a-434b-9bb3-4cff7a7bbcb9",
   "metadata": {},
   "outputs": [],
   "source": [
    "db_conf = db_conf.drop(index=na_ind)\n",
    "db_conf = db_conf.reset_index(drop=True)"
   ]
  },
  {
   "cell_type": "markdown",
   "id": "12cc550b-4d62-4f31-843d-87bdae9fab4a",
   "metadata": {},
   "source": [
    "# Labels Encoding"
   ]
  },
  {
   "cell_type": "code",
   "execution_count": 8,
   "id": "259bc015-397b-459a-9cb2-c72aa7bfdc95",
   "metadata": {},
   "outputs": [],
   "source": [
    "from sklearn import preprocessing"
   ]
  },
  {
   "cell_type": "code",
   "execution_count": 9,
   "id": "3043d737-acff-409b-8476-360b614b3a4c",
   "metadata": {},
   "outputs": [],
   "source": [
    "le = preprocessing.LabelEncoder()\n",
    "le.fit([\"nB\", \"B\"])\n",
    "db_conf[\"class_encoded\"] = le.transform(db_conf[\"Experimental BCF class\"])"
   ]
  },
  {
   "cell_type": "code",
   "execution_count": 10,
   "id": "4e811681-9153-4329-8eb5-4152dccef870",
   "metadata": {},
   "outputs": [],
   "source": [
    "db_conf[\"class_encoded\"] = db_conf[\"class_encoded\"].replace({1:0, 0:1})"
   ]
  },
  {
   "cell_type": "code",
   "execution_count": 11,
   "id": "a560818a-61a7-4bc9-b684-a47b7f744082",
   "metadata": {},
   "outputs": [
    {
     "data": {
      "text/html": [
       "<div>\n",
       "<style scoped>\n",
       "    .dataframe tbody tr th:only-of-type {\n",
       "        vertical-align: middle;\n",
       "    }\n",
       "\n",
       "    .dataframe tbody tr th {\n",
       "        vertical-align: top;\n",
       "    }\n",
       "\n",
       "    .dataframe thead th {\n",
       "        text-align: right;\n",
       "    }\n",
       "</style>\n",
       "<table border=\"1\" class=\"dataframe\">\n",
       "  <thead>\n",
       "    <tr style=\"text-align: right;\">\n",
       "      <th></th>\n",
       "      <th>smiles</th>\n",
       "      <th>Experimental logarithmic BCF</th>\n",
       "      <th>Experimental BCF class</th>\n",
       "      <th>FQD_2</th>\n",
       "      <th>FQD_3</th>\n",
       "      <th>FQD_4</th>\n",
       "      <th>FQD_5</th>\n",
       "      <th>FQD_6</th>\n",
       "      <th>FQD_7</th>\n",
       "      <th>FQD_8</th>\n",
       "      <th>FQD_9</th>\n",
       "      <th>mol</th>\n",
       "      <th>class_encoded</th>\n",
       "    </tr>\n",
       "  </thead>\n",
       "  <tbody>\n",
       "    <tr>\n",
       "      <th>0</th>\n",
       "      <td>CNc1cccc(C)c1</td>\n",
       "      <td>0.849</td>\n",
       "      <td>nB</td>\n",
       "      <td>[6]</td>\n",
       "      <td>None</td>\n",
       "      <td>None</td>\n",
       "      <td>None</td>\n",
       "      <td>[213]</td>\n",
       "      <td>[929, 939]</td>\n",
       "      <td>[4340, 5388]</td>\n",
       "      <td>[32107]</td>\n",
       "      <td>&lt;rdkit.Chem.rdchem.Mol object at 0x7f282fec6ce0&gt;</td>\n",
       "      <td>0</td>\n",
       "    </tr>\n",
       "    <tr>\n",
       "      <th>1</th>\n",
       "      <td>CC(COc1ccc(Oc2ccccc2)cc1)Oc1ccccn1</td>\n",
       "      <td>3.140</td>\n",
       "      <td>B</td>\n",
       "      <td>[6, 7]</td>\n",
       "      <td>[12, 13, 14]</td>\n",
       "      <td>[21, 39, 40, 41]</td>\n",
       "      <td>[81, 84, 134, 136]</td>\n",
       "      <td>[213, 214, 277, 395, 548]</td>\n",
       "      <td>[948, 953, 1578]</td>\n",
       "      <td>[4590, 5397, 5402]</td>\n",
       "      <td>[31844, 33001, 33006]</td>\n",
       "      <td>&lt;rdkit.Chem.rdchem.Mol object at 0x7f282fec72e0&gt;</td>\n",
       "      <td>1</td>\n",
       "    </tr>\n",
       "    <tr>\n",
       "      <th>2</th>\n",
       "      <td>CCCCCCCC/C=C\\CCCCCCCCCCCCC</td>\n",
       "      <td>1.176</td>\n",
       "      <td>nB</td>\n",
       "      <td>[6]</td>\n",
       "      <td>[12]</td>\n",
       "      <td>[38]</td>\n",
       "      <td>[132]</td>\n",
       "      <td>[542]</td>\n",
       "      <td>[2719]</td>\n",
       "      <td>[14787]</td>\n",
       "      <td>[123245]</td>\n",
       "      <td>&lt;rdkit.Chem.rdchem.Mol object at 0x7f28334f75e0&gt;</td>\n",
       "      <td>0</td>\n",
       "    </tr>\n",
       "    <tr>\n",
       "      <th>3</th>\n",
       "      <td>Clc1ccccc1Cl</td>\n",
       "      <td>2.500</td>\n",
       "      <td>nB</td>\n",
       "      <td>None</td>\n",
       "      <td>None</td>\n",
       "      <td>None</td>\n",
       "      <td>None</td>\n",
       "      <td>[213]</td>\n",
       "      <td>[134076]</td>\n",
       "      <td>[135441]</td>\n",
       "      <td>None</td>\n",
       "      <td>&lt;rdkit.Chem.rdchem.Mol object at 0x7f28334f74c0&gt;</td>\n",
       "      <td>0</td>\n",
       "    </tr>\n",
       "    <tr>\n",
       "      <th>4</th>\n",
       "      <td>Nc1cccc([N+](=O)[O-])c1</td>\n",
       "      <td>0.522</td>\n",
       "      <td>nB</td>\n",
       "      <td>None</td>\n",
       "      <td>None</td>\n",
       "      <td>None</td>\n",
       "      <td>None</td>\n",
       "      <td>[213]</td>\n",
       "      <td>[939]</td>\n",
       "      <td>[4360]</td>\n",
       "      <td>[131914]</td>\n",
       "      <td>&lt;rdkit.Chem.rdchem.Mol object at 0x7f28334f7460&gt;</td>\n",
       "      <td>0</td>\n",
       "    </tr>\n",
       "    <tr>\n",
       "      <th>...</th>\n",
       "      <td>...</td>\n",
       "      <td>...</td>\n",
       "      <td>...</td>\n",
       "      <td>...</td>\n",
       "      <td>...</td>\n",
       "      <td>...</td>\n",
       "      <td>...</td>\n",
       "      <td>...</td>\n",
       "      <td>...</td>\n",
       "      <td>...</td>\n",
       "      <td>...</td>\n",
       "      <td>...</td>\n",
       "      <td>...</td>\n",
       "    </tr>\n",
       "    <tr>\n",
       "      <th>834</th>\n",
       "      <td>CC1=C(C)S(=O)(=O)CCS1(=O)=O</td>\n",
       "      <td>0.633</td>\n",
       "      <td>nB</td>\n",
       "      <td>[6]</td>\n",
       "      <td>None</td>\n",
       "      <td>None</td>\n",
       "      <td>None</td>\n",
       "      <td>[133896, 133900]</td>\n",
       "      <td>[134043, 134044, 134066, 134068]</td>\n",
       "      <td>[135086, 135404, 135405]</td>\n",
       "      <td>[145115]</td>\n",
       "      <td>&lt;rdkit.Chem.rdchem.Mol object at 0x7f28334e3b20&gt;</td>\n",
       "      <td>0</td>\n",
       "    </tr>\n",
       "    <tr>\n",
       "      <th>835</th>\n",
       "      <td>FC(F)(F)c1ccc(Cl)c(Cl)c1</td>\n",
       "      <td>3.176</td>\n",
       "      <td>B</td>\n",
       "      <td>[6]</td>\n",
       "      <td>None</td>\n",
       "      <td>None</td>\n",
       "      <td>None</td>\n",
       "      <td>[213]</td>\n",
       "      <td>[929, 134076]</td>\n",
       "      <td>[134378, 134382, 135441]</td>\n",
       "      <td>[137748]</td>\n",
       "      <td>&lt;rdkit.Chem.rdchem.Mol object at 0x7f28334e3b80&gt;</td>\n",
       "      <td>1</td>\n",
       "    </tr>\n",
       "    <tr>\n",
       "      <th>836</th>\n",
       "      <td>CN(C)[C@@H]1C(=O)C(C(=N)O)=C(O)[C@@]2(O)C(=O)C...</td>\n",
       "      <td>-0.222</td>\n",
       "      <td>nB</td>\n",
       "      <td>[5, 6, 7]</td>\n",
       "      <td>[10, 12, 13]</td>\n",
       "      <td>[17, 20, 21, 34, 37, 38, 39, 41]</td>\n",
       "      <td>[54, 67, 68, 70, 71, 80, 81, 82, 83, 127, 131,...</td>\n",
       "      <td>[213, 224, 226, 228, 254, 258, 259, 260, 271, ...</td>\n",
       "      <td>[929, 948, 1092, 1094, 1099, 1104, 1119, 1129,...</td>\n",
       "      <td>[4341, 4957, 4959, 5378, 5407, 5809, 5841, 584...</td>\n",
       "      <td>[26263, 26273, 28867, 32083, 32170, 32193, 322...</td>\n",
       "      <td>&lt;rdkit.Chem.rdchem.Mol object at 0x7f28334e3be0&gt;</td>\n",
       "      <td>0</td>\n",
       "    </tr>\n",
       "    <tr>\n",
       "      <th>837</th>\n",
       "      <td>CC(C)N(C(=O)CCl)c1ccccc1</td>\n",
       "      <td>1.568</td>\n",
       "      <td>nB</td>\n",
       "      <td>[5, 6]</td>\n",
       "      <td>[10, 11, 12]</td>\n",
       "      <td>[18, 35]</td>\n",
       "      <td>[69, 73, 128]</td>\n",
       "      <td>[213, 255, 262, 288, 386]</td>\n",
       "      <td>[939, 1121, 1626, 1677]</td>\n",
       "      <td>[5388, 7443]</td>\n",
       "      <td>[25503, 26283, 32992]</td>\n",
       "      <td>&lt;rdkit.Chem.rdchem.Mol object at 0x7f28334e3c40&gt;</td>\n",
       "      <td>0</td>\n",
       "    </tr>\n",
       "    <tr>\n",
       "      <th>838</th>\n",
       "      <td>Cc1cc(Cc2cc(C)cc(C(C)(C)C)c2O)c(O)c(C(C)(C)C)c1</td>\n",
       "      <td>2.595</td>\n",
       "      <td>nB</td>\n",
       "      <td>[6, 7]</td>\n",
       "      <td>[12]</td>\n",
       "      <td>[20]</td>\n",
       "      <td>[53]</td>\n",
       "      <td>[213]</td>\n",
       "      <td>[929, 948]</td>\n",
       "      <td>[4335, 4564, 4959, 5378]</td>\n",
       "      <td>[26263, 27871, 28436, 28900, 32080, 32203]</td>\n",
       "      <td>&lt;rdkit.Chem.rdchem.Mol object at 0x7f28334e3ca0&gt;</td>\n",
       "      <td>0</td>\n",
       "    </tr>\n",
       "  </tbody>\n",
       "</table>\n",
       "<p>839 rows × 13 columns</p>\n",
       "</div>"
      ],
      "text/plain": [
       "                                                smiles  \\\n",
       "0                                        CNc1cccc(C)c1   \n",
       "1                   CC(COc1ccc(Oc2ccccc2)cc1)Oc1ccccn1   \n",
       "2                           CCCCCCCC/C=C\\CCCCCCCCCCCCC   \n",
       "3                                         Clc1ccccc1Cl   \n",
       "4                              Nc1cccc([N+](=O)[O-])c1   \n",
       "..                                                 ...   \n",
       "834                        CC1=C(C)S(=O)(=O)CCS1(=O)=O   \n",
       "835                           FC(F)(F)c1ccc(Cl)c(Cl)c1   \n",
       "836  CN(C)[C@@H]1C(=O)C(C(=N)O)=C(O)[C@@]2(O)C(=O)C...   \n",
       "837                           CC(C)N(C(=O)CCl)c1ccccc1   \n",
       "838    Cc1cc(Cc2cc(C)cc(C(C)(C)C)c2O)c(O)c(C(C)(C)C)c1   \n",
       "\n",
       "     Experimental logarithmic BCF Experimental BCF class      FQD_2  \\\n",
       "0                           0.849                     nB        [6]   \n",
       "1                           3.140                      B     [6, 7]   \n",
       "2                           1.176                     nB        [6]   \n",
       "3                           2.500                     nB       None   \n",
       "4                           0.522                     nB       None   \n",
       "..                            ...                    ...        ...   \n",
       "834                         0.633                     nB        [6]   \n",
       "835                         3.176                      B        [6]   \n",
       "836                        -0.222                     nB  [5, 6, 7]   \n",
       "837                         1.568                     nB     [5, 6]   \n",
       "838                         2.595                     nB     [6, 7]   \n",
       "\n",
       "            FQD_3                             FQD_4  \\\n",
       "0            None                              None   \n",
       "1    [12, 13, 14]                  [21, 39, 40, 41]   \n",
       "2            [12]                              [38]   \n",
       "3            None                              None   \n",
       "4            None                              None   \n",
       "..            ...                               ...   \n",
       "834          None                              None   \n",
       "835          None                              None   \n",
       "836  [10, 12, 13]  [17, 20, 21, 34, 37, 38, 39, 41]   \n",
       "837  [10, 11, 12]                          [18, 35]   \n",
       "838          [12]                              [20]   \n",
       "\n",
       "                                                 FQD_5  \\\n",
       "0                                                 None   \n",
       "1                                   [81, 84, 134, 136]   \n",
       "2                                                [132]   \n",
       "3                                                 None   \n",
       "4                                                 None   \n",
       "..                                                 ...   \n",
       "834                                               None   \n",
       "835                                               None   \n",
       "836  [54, 67, 68, 70, 71, 80, 81, 82, 83, 127, 131,...   \n",
       "837                                      [69, 73, 128]   \n",
       "838                                               [53]   \n",
       "\n",
       "                                                 FQD_6  \\\n",
       "0                                                [213]   \n",
       "1                            [213, 214, 277, 395, 548]   \n",
       "2                                                [542]   \n",
       "3                                                [213]   \n",
       "4                                                [213]   \n",
       "..                                                 ...   \n",
       "834                                   [133896, 133900]   \n",
       "835                                              [213]   \n",
       "836  [213, 224, 226, 228, 254, 258, 259, 260, 271, ...   \n",
       "837                          [213, 255, 262, 288, 386]   \n",
       "838                                              [213]   \n",
       "\n",
       "                                                 FQD_7  \\\n",
       "0                                           [929, 939]   \n",
       "1                                     [948, 953, 1578]   \n",
       "2                                               [2719]   \n",
       "3                                             [134076]   \n",
       "4                                                [939]   \n",
       "..                                                 ...   \n",
       "834                   [134043, 134044, 134066, 134068]   \n",
       "835                                      [929, 134076]   \n",
       "836  [929, 948, 1092, 1094, 1099, 1104, 1119, 1129,...   \n",
       "837                            [939, 1121, 1626, 1677]   \n",
       "838                                         [929, 948]   \n",
       "\n",
       "                                                 FQD_8  \\\n",
       "0                                         [4340, 5388]   \n",
       "1                                   [4590, 5397, 5402]   \n",
       "2                                              [14787]   \n",
       "3                                             [135441]   \n",
       "4                                               [4360]   \n",
       "..                                                 ...   \n",
       "834                           [135086, 135404, 135405]   \n",
       "835                           [134378, 134382, 135441]   \n",
       "836  [4341, 4957, 4959, 5378, 5407, 5809, 5841, 584...   \n",
       "837                                       [5388, 7443]   \n",
       "838                           [4335, 4564, 4959, 5378]   \n",
       "\n",
       "                                                 FQD_9  \\\n",
       "0                                              [32107]   \n",
       "1                                [31844, 33001, 33006]   \n",
       "2                                             [123245]   \n",
       "3                                                 None   \n",
       "4                                             [131914]   \n",
       "..                                                 ...   \n",
       "834                                           [145115]   \n",
       "835                                           [137748]   \n",
       "836  [26263, 26273, 28867, 32083, 32170, 32193, 322...   \n",
       "837                              [25503, 26283, 32992]   \n",
       "838         [26263, 27871, 28436, 28900, 32080, 32203]   \n",
       "\n",
       "                                                  mol  class_encoded  \n",
       "0    <rdkit.Chem.rdchem.Mol object at 0x7f282fec6ce0>              0  \n",
       "1    <rdkit.Chem.rdchem.Mol object at 0x7f282fec72e0>              1  \n",
       "2    <rdkit.Chem.rdchem.Mol object at 0x7f28334f75e0>              0  \n",
       "3    <rdkit.Chem.rdchem.Mol object at 0x7f28334f74c0>              0  \n",
       "4    <rdkit.Chem.rdchem.Mol object at 0x7f28334f7460>              0  \n",
       "..                                                ...            ...  \n",
       "834  <rdkit.Chem.rdchem.Mol object at 0x7f28334e3b20>              0  \n",
       "835  <rdkit.Chem.rdchem.Mol object at 0x7f28334e3b80>              1  \n",
       "836  <rdkit.Chem.rdchem.Mol object at 0x7f28334e3be0>              0  \n",
       "837  <rdkit.Chem.rdchem.Mol object at 0x7f28334e3c40>              0  \n",
       "838  <rdkit.Chem.rdchem.Mol object at 0x7f28334e3ca0>              0  \n",
       "\n",
       "[839 rows x 13 columns]"
      ]
     },
     "execution_count": 11,
     "metadata": {},
     "output_type": "execute_result"
    }
   ],
   "source": [
    "db_conf"
   ]
  },
  {
   "cell_type": "code",
   "execution_count": 12,
   "id": "2e15cbc0-bcee-4f66-964e-74645fde63a2",
   "metadata": {},
   "outputs": [],
   "source": [
    "db_conf[\"mol\"] = db_conf[\"smiles\"].apply(Chem.MolFromSmiles)\n",
    "db_conf[\"num_atoms\"] = db_conf[\"mol\"].apply(lambda x: x.GetNumAtoms())"
   ]
  },
  {
   "cell_type": "markdown",
   "id": "d77992ae-a714-4a09-86e9-a04aa703f37a",
   "metadata": {},
   "source": [
    "# Calculate FQDs"
   ]
  },
  {
   "cell_type": "code",
   "execution_count": 13,
   "id": "5affd9d9-25ce-49a5-90a4-2e6794cb51f9",
   "metadata": {},
   "outputs": [],
   "source": [
    "db_conf_filled = db_conf.copy()"
   ]
  },
  {
   "cell_type": "code",
   "execution_count": 14,
   "id": "884fc480-5123-4a99-abb9-5a6fa3c676bc",
   "metadata": {},
   "outputs": [],
   "source": [
    "qprops = \"mu,alpha,homo,lumo,gap,zpve,u0,u298,h298,g298,cv\".split(\",\")"
   ]
  },
  {
   "cell_type": "code",
   "execution_count": 15,
   "id": "1cffdcff-73fa-4628-8549-cc68576cb709",
   "metadata": {},
   "outputs": [],
   "source": [
    "import statistics\n",
    "def calculate_FQDs(indices, patterns_db, quantum_property):\n",
    "    if isinstance(indices, int) and indices == 0:\n",
    "        return np.NaN\n",
    "    if indices is None:\n",
    "        return np.NaN\n",
    "    ret = []\n",
    "    for i in indices:\n",
    "        ret.append(patterns_db[quantum_property][i])\n",
    "    return statistics.mean(ret)\n",
    "\n",
    "def calculate_FQDs_quant(mol, indices, patterns_db, quantum_property):\n",
    "    if isinstance(indices, int) and indices == 0:\n",
    "        return np.NaN\n",
    "    if indices is None:\n",
    "        return np.NaN\n",
    "    ret = []\n",
    "    for i in indices:\n",
    "        n_occurences = len(list(mol.GetSubstructMatch(patterns_db[\"mol\"][i])))\n",
    "        ret.append(patterns_db[quantum_property][i] * n_occurences)\n",
    "    return statistics.mean(ret)"
   ]
  },
  {
   "cell_type": "code",
   "execution_count": 16,
   "id": "752e47a2-1d84-4ccc-95a4-881b2ffadfbe",
   "metadata": {},
   "outputs": [],
   "source": [
    "# for prop in qprops:\n",
    "#     for num in range(2, 10):\n",
    "#         db_conf_filled[f\"FQD_{num}_{prop}\"] = db_conf_filled[f\"FQD_{num}\"].apply(calculate_FQDs, patterns_db=qm9, quantum_property=prop)"
   ]
  },
  {
   "cell_type": "code",
   "execution_count": 17,
   "id": "9148b920-4dc5-4bb6-8548-13b3db188905",
   "metadata": {
    "tags": []
   },
   "outputs": [],
   "source": [
    "# for prop in qprops:\n",
    "#     for num in range(2, 10):\n",
    "#         db_conf_filled[f\"FQD_{num}_{prop}_per_atom\"] = db_conf_filled[f\"FQD_{num}_{prop}\"] / db_conf_filled[\"num_atoms\"]"
   ]
  },
  {
   "cell_type": "markdown",
   "id": "17372345-9e6c-4beb-94c8-7e9fd9aaf8a9",
   "metadata": {},
   "source": [
    "# Quant FQDs"
   ]
  },
  {
   "cell_type": "code",
   "execution_count": 18,
   "id": "2578151c-6e06-4816-94ae-74922b9a86c4",
   "metadata": {},
   "outputs": [],
   "source": [
    "for prop in qprops:\n",
    "    for num in range(2, 10):\n",
    "        db_conf_filled[f\"quant_FQD_{num}_{prop}\"] = db_conf_filled[\"mol\"].apply(lambda x: calculate_FQDs_quant(x,\n",
    "                                                                          indices=db_conf_filled[db_conf_filled[\"mol\"]==x][f\"FQD_{num}\"].iloc[0],\n",
    "                                                                          patterns_db=qm9,\n",
    "                                                                          quantum_property=prop)\n",
    "                                                                         )"
   ]
  },
  {
   "cell_type": "code",
   "execution_count": 19,
   "id": "0769735f-14c6-4c2d-9928-e10cdc74c650",
   "metadata": {},
   "outputs": [],
   "source": [
    "for prop in qprops:\n",
    "    for num in range(2, 10):\n",
    "        db_conf_filled[f\"quant_FQD_{num}_{prop}_per_atom\"] = db_conf_filled[f\"quant_FQD_{num}_{prop}\"] / db_conf_filled[\"num_atoms\"]"
   ]
  },
  {
   "cell_type": "code",
   "execution_count": 20,
   "id": "cee89f57-00e7-4db4-a18c-dc567f04e035",
   "metadata": {},
   "outputs": [],
   "source": [
    "import itertools\n",
    "fqd_cols_qual = []\n",
    "for num, prop in itertools.product(range(2,10), qprops):\n",
    "    fqd_cols_qual.append(f\"FQD_{num}_{prop}\")\n",
    "fqd_cols_qual_per_atom = [f\"{x}_per_atom\" for x in fqd_cols_qual]\n",
    "quant_fqd_cols = [f\"quant_{x}\" for x in fqd_cols_qual]\n",
    "quant_fqd_cols_per_atom = [f\"quant_{x}\" for x in fqd_cols_qual_per_atom]"
   ]
  },
  {
   "cell_type": "code",
   "execution_count": 21,
   "id": "76d25f24-5022-478a-bc72-9a4897ae9c27",
   "metadata": {
    "tags": []
   },
   "outputs": [
    {
     "data": {
      "text/plain": [
       "Index(['quant_FQD_2_mu', 'quant_FQD_3_mu', 'quant_FQD_4_mu', 'quant_FQD_5_mu',\n",
       "       'quant_FQD_6_mu', 'quant_FQD_7_mu', 'quant_FQD_8_mu', 'quant_FQD_9_mu',\n",
       "       'quant_FQD_2_alpha', 'quant_FQD_3_alpha',\n",
       "       ...\n",
       "       'quant_FQD_8_g298_per_atom', 'quant_FQD_9_g298_per_atom',\n",
       "       'quant_FQD_2_cv_per_atom', 'quant_FQD_3_cv_per_atom',\n",
       "       'quant_FQD_4_cv_per_atom', 'quant_FQD_5_cv_per_atom',\n",
       "       'quant_FQD_6_cv_per_atom', 'quant_FQD_7_cv_per_atom',\n",
       "       'quant_FQD_8_cv_per_atom', 'quant_FQD_9_cv_per_atom'],\n",
       "      dtype='object', length=176)"
      ]
     },
     "execution_count": 21,
     "metadata": {},
     "output_type": "execute_result"
    }
   ],
   "source": [
    "db_conf_filled.columns[14:]"
   ]
  },
  {
   "cell_type": "code",
   "execution_count": 22,
   "id": "ed370073-4daf-465f-a272-cbd42e734f87",
   "metadata": {
    "tags": []
   },
   "outputs": [],
   "source": [
    "cols = db_conf_filled.columns[14:]"
   ]
  },
  {
   "cell_type": "markdown",
   "id": "68ec8520-5c31-463d-ba50-1d3224e94a5f",
   "metadata": {},
   "source": [
    "# Fill with zeros"
   ]
  },
  {
   "cell_type": "code",
   "execution_count": 23,
   "id": "93278a81-a5c6-4e3f-a16e-71317a988669",
   "metadata": {},
   "outputs": [],
   "source": [
    "nan_cols = db_conf.iloc[:,3:11].isna()"
   ]
  },
  {
   "cell_type": "code",
   "execution_count": 24,
   "id": "89870941-3e76-4b3b-9943-de0bfbfad8cd",
   "metadata": {},
   "outputs": [],
   "source": [
    "x = db_conf_filled[cols].fillna(0)\n",
    "y = db_conf_filled[\"class_encoded\"]"
   ]
  },
  {
   "cell_type": "code",
   "execution_count": 25,
   "id": "a5008514-332b-4078-8223-e868463f7251",
   "metadata": {},
   "outputs": [
    {
     "data": {
      "text/html": [
       "<div>\n",
       "<style scoped>\n",
       "    .dataframe tbody tr th:only-of-type {\n",
       "        vertical-align: middle;\n",
       "    }\n",
       "\n",
       "    .dataframe tbody tr th {\n",
       "        vertical-align: top;\n",
       "    }\n",
       "\n",
       "    .dataframe thead th {\n",
       "        text-align: right;\n",
       "    }\n",
       "</style>\n",
       "<table border=\"1\" class=\"dataframe\">\n",
       "  <thead>\n",
       "    <tr style=\"text-align: right;\">\n",
       "      <th></th>\n",
       "      <th>FQD_2_nan</th>\n",
       "      <th>FQD_3_nan</th>\n",
       "      <th>FQD_4_nan</th>\n",
       "      <th>FQD_5_nan</th>\n",
       "      <th>FQD_6_nan</th>\n",
       "      <th>FQD_7_nan</th>\n",
       "      <th>FQD_8_nan</th>\n",
       "      <th>FQD_9_nan</th>\n",
       "    </tr>\n",
       "  </thead>\n",
       "  <tbody>\n",
       "    <tr>\n",
       "      <th>0</th>\n",
       "      <td>False</td>\n",
       "      <td>True</td>\n",
       "      <td>True</td>\n",
       "      <td>True</td>\n",
       "      <td>False</td>\n",
       "      <td>False</td>\n",
       "      <td>False</td>\n",
       "      <td>False</td>\n",
       "    </tr>\n",
       "    <tr>\n",
       "      <th>1</th>\n",
       "      <td>False</td>\n",
       "      <td>False</td>\n",
       "      <td>False</td>\n",
       "      <td>False</td>\n",
       "      <td>False</td>\n",
       "      <td>False</td>\n",
       "      <td>False</td>\n",
       "      <td>False</td>\n",
       "    </tr>\n",
       "    <tr>\n",
       "      <th>2</th>\n",
       "      <td>False</td>\n",
       "      <td>False</td>\n",
       "      <td>False</td>\n",
       "      <td>False</td>\n",
       "      <td>False</td>\n",
       "      <td>False</td>\n",
       "      <td>False</td>\n",
       "      <td>False</td>\n",
       "    </tr>\n",
       "    <tr>\n",
       "      <th>3</th>\n",
       "      <td>True</td>\n",
       "      <td>True</td>\n",
       "      <td>True</td>\n",
       "      <td>True</td>\n",
       "      <td>False</td>\n",
       "      <td>False</td>\n",
       "      <td>False</td>\n",
       "      <td>True</td>\n",
       "    </tr>\n",
       "    <tr>\n",
       "      <th>4</th>\n",
       "      <td>True</td>\n",
       "      <td>True</td>\n",
       "      <td>True</td>\n",
       "      <td>True</td>\n",
       "      <td>False</td>\n",
       "      <td>False</td>\n",
       "      <td>False</td>\n",
       "      <td>False</td>\n",
       "    </tr>\n",
       "    <tr>\n",
       "      <th>...</th>\n",
       "      <td>...</td>\n",
       "      <td>...</td>\n",
       "      <td>...</td>\n",
       "      <td>...</td>\n",
       "      <td>...</td>\n",
       "      <td>...</td>\n",
       "      <td>...</td>\n",
       "      <td>...</td>\n",
       "    </tr>\n",
       "    <tr>\n",
       "      <th>834</th>\n",
       "      <td>False</td>\n",
       "      <td>True</td>\n",
       "      <td>True</td>\n",
       "      <td>True</td>\n",
       "      <td>False</td>\n",
       "      <td>False</td>\n",
       "      <td>False</td>\n",
       "      <td>False</td>\n",
       "    </tr>\n",
       "    <tr>\n",
       "      <th>835</th>\n",
       "      <td>False</td>\n",
       "      <td>True</td>\n",
       "      <td>True</td>\n",
       "      <td>True</td>\n",
       "      <td>False</td>\n",
       "      <td>False</td>\n",
       "      <td>False</td>\n",
       "      <td>False</td>\n",
       "    </tr>\n",
       "    <tr>\n",
       "      <th>836</th>\n",
       "      <td>False</td>\n",
       "      <td>False</td>\n",
       "      <td>False</td>\n",
       "      <td>False</td>\n",
       "      <td>False</td>\n",
       "      <td>False</td>\n",
       "      <td>False</td>\n",
       "      <td>False</td>\n",
       "    </tr>\n",
       "    <tr>\n",
       "      <th>837</th>\n",
       "      <td>False</td>\n",
       "      <td>False</td>\n",
       "      <td>False</td>\n",
       "      <td>False</td>\n",
       "      <td>False</td>\n",
       "      <td>False</td>\n",
       "      <td>False</td>\n",
       "      <td>False</td>\n",
       "    </tr>\n",
       "    <tr>\n",
       "      <th>838</th>\n",
       "      <td>False</td>\n",
       "      <td>False</td>\n",
       "      <td>False</td>\n",
       "      <td>False</td>\n",
       "      <td>False</td>\n",
       "      <td>False</td>\n",
       "      <td>False</td>\n",
       "      <td>False</td>\n",
       "    </tr>\n",
       "  </tbody>\n",
       "</table>\n",
       "<p>839 rows × 8 columns</p>\n",
       "</div>"
      ],
      "text/plain": [
       "     FQD_2_nan  FQD_3_nan  FQD_4_nan  FQD_5_nan  FQD_6_nan  FQD_7_nan  \\\n",
       "0        False       True       True       True      False      False   \n",
       "1        False      False      False      False      False      False   \n",
       "2        False      False      False      False      False      False   \n",
       "3         True       True       True       True      False      False   \n",
       "4         True       True       True       True      False      False   \n",
       "..         ...        ...        ...        ...        ...        ...   \n",
       "834      False       True       True       True      False      False   \n",
       "835      False       True       True       True      False      False   \n",
       "836      False      False      False      False      False      False   \n",
       "837      False      False      False      False      False      False   \n",
       "838      False      False      False      False      False      False   \n",
       "\n",
       "     FQD_8_nan  FQD_9_nan  \n",
       "0        False      False  \n",
       "1        False      False  \n",
       "2        False      False  \n",
       "3        False       True  \n",
       "4        False      False  \n",
       "..         ...        ...  \n",
       "834      False      False  \n",
       "835      False      False  \n",
       "836      False      False  \n",
       "837      False      False  \n",
       "838      False      False  \n",
       "\n",
       "[839 rows x 8 columns]"
      ]
     },
     "execution_count": 25,
     "metadata": {},
     "output_type": "execute_result"
    }
   ],
   "source": [
    "nan_cols_colnames = [f\"{x}_nan\" for x in nan_cols]\n",
    "nan_cols.columns = nan_cols_colnames\n",
    "nan_cols"
   ]
  },
  {
   "cell_type": "code",
   "execution_count": 26,
   "id": "824297cb-76c9-438b-9a29-a0bb78effc5c",
   "metadata": {
    "tags": []
   },
   "outputs": [
    {
     "data": {
      "text/html": [
       "<div>\n",
       "<style scoped>\n",
       "    .dataframe tbody tr th:only-of-type {\n",
       "        vertical-align: middle;\n",
       "    }\n",
       "\n",
       "    .dataframe tbody tr th {\n",
       "        vertical-align: top;\n",
       "    }\n",
       "\n",
       "    .dataframe thead th {\n",
       "        text-align: right;\n",
       "    }\n",
       "</style>\n",
       "<table border=\"1\" class=\"dataframe\">\n",
       "  <thead>\n",
       "    <tr style=\"text-align: right;\">\n",
       "      <th></th>\n",
       "      <th>quant_FQD_2_mu</th>\n",
       "      <th>quant_FQD_3_mu</th>\n",
       "      <th>quant_FQD_4_mu</th>\n",
       "      <th>quant_FQD_5_mu</th>\n",
       "      <th>quant_FQD_6_mu</th>\n",
       "      <th>quant_FQD_7_mu</th>\n",
       "      <th>quant_FQD_8_mu</th>\n",
       "      <th>quant_FQD_9_mu</th>\n",
       "      <th>quant_FQD_2_alpha</th>\n",
       "      <th>quant_FQD_3_alpha</th>\n",
       "      <th>...</th>\n",
       "      <th>quant_FQD_8_cv_per_atom</th>\n",
       "      <th>quant_FQD_9_cv_per_atom</th>\n",
       "      <th>FQD_2_nan</th>\n",
       "      <th>FQD_3_nan</th>\n",
       "      <th>FQD_4_nan</th>\n",
       "      <th>FQD_5_nan</th>\n",
       "      <th>FQD_6_nan</th>\n",
       "      <th>FQD_7_nan</th>\n",
       "      <th>FQD_8_nan</th>\n",
       "      <th>FQD_9_nan</th>\n",
       "    </tr>\n",
       "  </thead>\n",
       "  <tbody>\n",
       "    <tr>\n",
       "      <th>0</th>\n",
       "      <td>0.000000</td>\n",
       "      <td>0.0000</td>\n",
       "      <td>0.00000</td>\n",
       "      <td>0.000000</td>\n",
       "      <td>0.000000</td>\n",
       "      <td>6.848800</td>\n",
       "      <td>13.020800</td>\n",
       "      <td>14.40630</td>\n",
       "      <td>47.900000</td>\n",
       "      <td>0.00</td>\n",
       "      <td>...</td>\n",
       "      <td>25.429333</td>\n",
       "      <td>34.071000</td>\n",
       "      <td>False</td>\n",
       "      <td>True</td>\n",
       "      <td>True</td>\n",
       "      <td>True</td>\n",
       "      <td>False</td>\n",
       "      <td>False</td>\n",
       "      <td>False</td>\n",
       "      <td>False</td>\n",
       "    </tr>\n",
       "    <tr>\n",
       "      <th>1</th>\n",
       "      <td>1.525800</td>\n",
       "      <td>2.6230</td>\n",
       "      <td>3.80990</td>\n",
       "      <td>8.173250</td>\n",
       "      <td>7.871760</td>\n",
       "      <td>5.880933</td>\n",
       "      <td>4.931733</td>\n",
       "      <td>12.29910</td>\n",
       "      <td>40.920000</td>\n",
       "      <td>90.75</td>\n",
       "      <td>...</td>\n",
       "      <td>8.696556</td>\n",
       "      <td>11.601875</td>\n",
       "      <td>False</td>\n",
       "      <td>False</td>\n",
       "      <td>False</td>\n",
       "      <td>False</td>\n",
       "      <td>False</td>\n",
       "      <td>False</td>\n",
       "      <td>False</td>\n",
       "      <td>False</td>\n",
       "    </tr>\n",
       "    <tr>\n",
       "      <th>2</th>\n",
       "      <td>0.000000</td>\n",
       "      <td>0.1791</td>\n",
       "      <td>0.00000</td>\n",
       "      <td>0.301500</td>\n",
       "      <td>0.000000</td>\n",
       "      <td>0.422100</td>\n",
       "      <td>0.000000</td>\n",
       "      <td>0.54180</td>\n",
       "      <td>47.900000</td>\n",
       "      <td>104.25</td>\n",
       "      <td>...</td>\n",
       "      <td>13.616348</td>\n",
       "      <td>17.217000</td>\n",
       "      <td>False</td>\n",
       "      <td>False</td>\n",
       "      <td>False</td>\n",
       "      <td>False</td>\n",
       "      <td>False</td>\n",
       "      <td>False</td>\n",
       "      <td>False</td>\n",
       "      <td>False</td>\n",
       "    </tr>\n",
       "    <tr>\n",
       "      <th>3</th>\n",
       "      <td>0.000000</td>\n",
       "      <td>0.0000</td>\n",
       "      <td>0.00000</td>\n",
       "      <td>0.000000</td>\n",
       "      <td>0.000000</td>\n",
       "      <td>-0.000700</td>\n",
       "      <td>-21.363200</td>\n",
       "      <td>0.00000</td>\n",
       "      <td>0.000000</td>\n",
       "      <td>0.00</td>\n",
       "      <td>...</td>\n",
       "      <td>24.767000</td>\n",
       "      <td>0.000000</td>\n",
       "      <td>True</td>\n",
       "      <td>True</td>\n",
       "      <td>True</td>\n",
       "      <td>True</td>\n",
       "      <td>False</td>\n",
       "      <td>False</td>\n",
       "      <td>False</td>\n",
       "      <td>True</td>\n",
       "    </tr>\n",
       "    <tr>\n",
       "      <th>4</th>\n",
       "      <td>0.000000</td>\n",
       "      <td>0.0000</td>\n",
       "      <td>0.00000</td>\n",
       "      <td>0.000000</td>\n",
       "      <td>0.000000</td>\n",
       "      <td>11.422600</td>\n",
       "      <td>9.324000</td>\n",
       "      <td>39.49380</td>\n",
       "      <td>0.000000</td>\n",
       "      <td>0.00</td>\n",
       "      <td>...</td>\n",
       "      <td>23.248000</td>\n",
       "      <td>23.053500</td>\n",
       "      <td>True</td>\n",
       "      <td>True</td>\n",
       "      <td>True</td>\n",
       "      <td>True</td>\n",
       "      <td>False</td>\n",
       "      <td>False</td>\n",
       "      <td>False</td>\n",
       "      <td>False</td>\n",
       "    </tr>\n",
       "    <tr>\n",
       "      <th>...</th>\n",
       "      <td>...</td>\n",
       "      <td>...</td>\n",
       "      <td>...</td>\n",
       "      <td>...</td>\n",
       "      <td>...</td>\n",
       "      <td>...</td>\n",
       "      <td>...</td>\n",
       "      <td>...</td>\n",
       "      <td>...</td>\n",
       "      <td>...</td>\n",
       "      <td>...</td>\n",
       "      <td>...</td>\n",
       "      <td>...</td>\n",
       "      <td>...</td>\n",
       "      <td>...</td>\n",
       "      <td>...</td>\n",
       "      <td>...</td>\n",
       "      <td>...</td>\n",
       "      <td>...</td>\n",
       "      <td>...</td>\n",
       "      <td>...</td>\n",
       "    </tr>\n",
       "    <tr>\n",
       "      <th>834</th>\n",
       "      <td>0.000000</td>\n",
       "      <td>0.0000</td>\n",
       "      <td>0.00000</td>\n",
       "      <td>0.000000</td>\n",
       "      <td>-3.479100</td>\n",
       "      <td>-10.527475</td>\n",
       "      <td>-11.717333</td>\n",
       "      <td>16.39350</td>\n",
       "      <td>47.900000</td>\n",
       "      <td>0.00</td>\n",
       "      <td>...</td>\n",
       "      <td>23.407333</td>\n",
       "      <td>30.375750</td>\n",
       "      <td>False</td>\n",
       "      <td>True</td>\n",
       "      <td>True</td>\n",
       "      <td>True</td>\n",
       "      <td>False</td>\n",
       "      <td>False</td>\n",
       "      <td>False</td>\n",
       "      <td>False</td>\n",
       "    </tr>\n",
       "    <tr>\n",
       "      <th>835</th>\n",
       "      <td>0.000000</td>\n",
       "      <td>0.0000</td>\n",
       "      <td>0.00000</td>\n",
       "      <td>0.000000</td>\n",
       "      <td>0.000000</td>\n",
       "      <td>1.137150</td>\n",
       "      <td>-18.736800</td>\n",
       "      <td>-27.43740</td>\n",
       "      <td>47.900000</td>\n",
       "      <td>0.00</td>\n",
       "      <td>...</td>\n",
       "      <td>16.680667</td>\n",
       "      <td>21.668250</td>\n",
       "      <td>False</td>\n",
       "      <td>True</td>\n",
       "      <td>True</td>\n",
       "      <td>True</td>\n",
       "      <td>False</td>\n",
       "      <td>False</td>\n",
       "      <td>False</td>\n",
       "      <td>False</td>\n",
       "    </tr>\n",
       "    <tr>\n",
       "      <th>836</th>\n",
       "      <td>2.423133</td>\n",
       "      <td>4.0410</td>\n",
       "      <td>5.00385</td>\n",
       "      <td>9.239357</td>\n",
       "      <td>9.384406</td>\n",
       "      <td>12.560830</td>\n",
       "      <td>15.701759</td>\n",
       "      <td>18.30079</td>\n",
       "      <td>36.733333</td>\n",
       "      <td>87.73</td>\n",
       "      <td>...</td>\n",
       "      <td>8.633506</td>\n",
       "      <td>10.959239</td>\n",
       "      <td>False</td>\n",
       "      <td>False</td>\n",
       "      <td>False</td>\n",
       "      <td>False</td>\n",
       "      <td>False</td>\n",
       "      <td>False</td>\n",
       "      <td>False</td>\n",
       "      <td>False</td>\n",
       "    </tr>\n",
       "    <tr>\n",
       "      <th>837</th>\n",
       "      <td>2.108900</td>\n",
       "      <td>6.3565</td>\n",
       "      <td>14.68760</td>\n",
       "      <td>18.250833</td>\n",
       "      <td>17.415000</td>\n",
       "      <td>21.800975</td>\n",
       "      <td>20.810000</td>\n",
       "      <td>21.11280</td>\n",
       "      <td>38.130000</td>\n",
       "      <td>81.43</td>\n",
       "      <td>...</td>\n",
       "      <td>18.348571</td>\n",
       "      <td>20.109643</td>\n",
       "      <td>False</td>\n",
       "      <td>False</td>\n",
       "      <td>False</td>\n",
       "      <td>False</td>\n",
       "      <td>False</td>\n",
       "      <td>False</td>\n",
       "      <td>False</td>\n",
       "      <td>False</td>\n",
       "    </tr>\n",
       "    <tr>\n",
       "      <th>838</th>\n",
       "      <td>1.525800</td>\n",
       "      <td>0.1791</td>\n",
       "      <td>0.35880</td>\n",
       "      <td>0.001500</td>\n",
       "      <td>0.000000</td>\n",
       "      <td>5.530000</td>\n",
       "      <td>6.785800</td>\n",
       "      <td>7.66275</td>\n",
       "      <td>40.920000</td>\n",
       "      <td>104.25</td>\n",
       "      <td>...</td>\n",
       "      <td>9.052960</td>\n",
       "      <td>12.213000</td>\n",
       "      <td>False</td>\n",
       "      <td>False</td>\n",
       "      <td>False</td>\n",
       "      <td>False</td>\n",
       "      <td>False</td>\n",
       "      <td>False</td>\n",
       "      <td>False</td>\n",
       "      <td>False</td>\n",
       "    </tr>\n",
       "  </tbody>\n",
       "</table>\n",
       "<p>839 rows × 184 columns</p>\n",
       "</div>"
      ],
      "text/plain": [
       "     quant_FQD_2_mu  quant_FQD_3_mu  quant_FQD_4_mu  quant_FQD_5_mu  \\\n",
       "0          0.000000          0.0000         0.00000        0.000000   \n",
       "1          1.525800          2.6230         3.80990        8.173250   \n",
       "2          0.000000          0.1791         0.00000        0.301500   \n",
       "3          0.000000          0.0000         0.00000        0.000000   \n",
       "4          0.000000          0.0000         0.00000        0.000000   \n",
       "..              ...             ...             ...             ...   \n",
       "834        0.000000          0.0000         0.00000        0.000000   \n",
       "835        0.000000          0.0000         0.00000        0.000000   \n",
       "836        2.423133          4.0410         5.00385        9.239357   \n",
       "837        2.108900          6.3565        14.68760       18.250833   \n",
       "838        1.525800          0.1791         0.35880        0.001500   \n",
       "\n",
       "     quant_FQD_6_mu  quant_FQD_7_mu  quant_FQD_8_mu  quant_FQD_9_mu  \\\n",
       "0          0.000000        6.848800       13.020800        14.40630   \n",
       "1          7.871760        5.880933        4.931733        12.29910   \n",
       "2          0.000000        0.422100        0.000000         0.54180   \n",
       "3          0.000000       -0.000700      -21.363200         0.00000   \n",
       "4          0.000000       11.422600        9.324000        39.49380   \n",
       "..              ...             ...             ...             ...   \n",
       "834       -3.479100      -10.527475      -11.717333        16.39350   \n",
       "835        0.000000        1.137150      -18.736800       -27.43740   \n",
       "836        9.384406       12.560830       15.701759        18.30079   \n",
       "837       17.415000       21.800975       20.810000        21.11280   \n",
       "838        0.000000        5.530000        6.785800         7.66275   \n",
       "\n",
       "     quant_FQD_2_alpha  quant_FQD_3_alpha  ...  quant_FQD_8_cv_per_atom  \\\n",
       "0            47.900000               0.00  ...                25.429333   \n",
       "1            40.920000              90.75  ...                 8.696556   \n",
       "2            47.900000             104.25  ...                13.616348   \n",
       "3             0.000000               0.00  ...                24.767000   \n",
       "4             0.000000               0.00  ...                23.248000   \n",
       "..                 ...                ...  ...                      ...   \n",
       "834          47.900000               0.00  ...                23.407333   \n",
       "835          47.900000               0.00  ...                16.680667   \n",
       "836          36.733333              87.73  ...                 8.633506   \n",
       "837          38.130000              81.43  ...                18.348571   \n",
       "838          40.920000             104.25  ...                 9.052960   \n",
       "\n",
       "     quant_FQD_9_cv_per_atom  FQD_2_nan  FQD_3_nan  FQD_4_nan  FQD_5_nan  \\\n",
       "0                  34.071000      False       True       True       True   \n",
       "1                  11.601875      False      False      False      False   \n",
       "2                  17.217000      False      False      False      False   \n",
       "3                   0.000000       True       True       True       True   \n",
       "4                  23.053500       True       True       True       True   \n",
       "..                       ...        ...        ...        ...        ...   \n",
       "834                30.375750      False       True       True       True   \n",
       "835                21.668250      False       True       True       True   \n",
       "836                10.959239      False      False      False      False   \n",
       "837                20.109643      False      False      False      False   \n",
       "838                12.213000      False      False      False      False   \n",
       "\n",
       "     FQD_6_nan  FQD_7_nan  FQD_8_nan  FQD_9_nan  \n",
       "0        False      False      False      False  \n",
       "1        False      False      False      False  \n",
       "2        False      False      False      False  \n",
       "3        False      False      False       True  \n",
       "4        False      False      False      False  \n",
       "..         ...        ...        ...        ...  \n",
       "834      False      False      False      False  \n",
       "835      False      False      False      False  \n",
       "836      False      False      False      False  \n",
       "837      False      False      False      False  \n",
       "838      False      False      False      False  \n",
       "\n",
       "[839 rows x 184 columns]"
      ]
     },
     "execution_count": 26,
     "metadata": {},
     "output_type": "execute_result"
    }
   ],
   "source": [
    "x = pd.concat([x, nan_cols], axis=1)\n",
    "x"
   ]
  },
  {
   "cell_type": "markdown",
   "id": "2a6cf454-0177-4d0d-90b6-64793ef5a9e3",
   "metadata": {},
   "source": [
    "# OOB dataset creation"
   ]
  },
  {
   "cell_type": "code",
   "execution_count": 27,
   "id": "2652cea4-d4d0-44d1-8d44-cf0bd0ba3e6e",
   "metadata": {
    "tags": []
   },
   "outputs": [],
   "source": [
    "from sklearn.utils import resample"
   ]
  },
  {
   "cell_type": "code",
   "execution_count": 28,
   "id": "8b7493c9-baf9-4662-b176-d61c2bc2cfc3",
   "metadata": {
    "tags": []
   },
   "outputs": [],
   "source": [
    "res_x, res_y = resample(x.reset_index(drop=True), y.reset_index(drop=True), replace=False, n_samples=526, stratify=y, random_state=1)\n",
    "oob_idx = set(x.index).difference(set(res_x.index))"
   ]
  },
  {
   "cell_type": "code",
   "execution_count": 29,
   "id": "a1f9c903-f6e4-4a6e-9f2f-96d4123cadd0",
   "metadata": {
    "tags": []
   },
   "outputs": [
    {
     "data": {
      "text/plain": [
       "313"
      ]
     },
     "execution_count": 29,
     "metadata": {},
     "output_type": "execute_result"
    }
   ],
   "source": [
    "len(oob_idx)"
   ]
  },
  {
   "cell_type": "code",
   "execution_count": 30,
   "id": "d3554046-b608-4e98-86ee-53f1e2a62bcd",
   "metadata": {
    "tags": []
   },
   "outputs": [],
   "source": [
    "oob_x, oob_y = x.loc[list(oob_idx)], y.loc[list(oob_idx)]"
   ]
  },
  {
   "cell_type": "code",
   "execution_count": 31,
   "id": "99cce0c7-1372-4974-9245-1a92c3e8eeb5",
   "metadata": {},
   "outputs": [],
   "source": [
    "x, y = res_x, res_y"
   ]
  },
  {
   "cell_type": "code",
   "execution_count": 32,
   "id": "75f96167-71f2-4f52-ac39-997ef9b9dbed",
   "metadata": {},
   "outputs": [
    {
     "data": {
      "text/plain": [
       "0    409\n",
       "1    117\n",
       "Name: class_encoded, dtype: int64"
      ]
     },
     "execution_count": 32,
     "metadata": {},
     "output_type": "execute_result"
    }
   ],
   "source": [
    "y.value_counts()"
   ]
  },
  {
   "cell_type": "code",
   "execution_count": 33,
   "id": "fa93a4ec-d911-4bc4-861c-91fc202c7641",
   "metadata": {},
   "outputs": [
    {
     "data": {
      "text/plain": [
       "0    244\n",
       "1     69\n",
       "Name: class_encoded, dtype: int64"
      ]
     },
     "execution_count": 33,
     "metadata": {},
     "output_type": "execute_result"
    }
   ],
   "source": [
    "oob_y.value_counts()"
   ]
  },
  {
   "cell_type": "code",
   "execution_count": 34,
   "id": "b1e8cf5e-0ea9-4e07-92fd-676420dfcae1",
   "metadata": {
    "tags": []
   },
   "outputs": [],
   "source": [
    "np.savetxt(\"oob_idx\", np.array(list(oob_idx)))"
   ]
  },
  {
   "cell_type": "code",
   "execution_count": 35,
   "id": "66065851-5521-42bb-9b67-be5be7ae2653",
   "metadata": {
    "tags": []
   },
   "outputs": [],
   "source": [
    "np.savetxt(\"train_idx\", res_x.index)"
   ]
  },
  {
   "cell_type": "markdown",
   "id": "9c1eab12-38e1-4269-9bd8-5f332cc04143",
   "metadata": {},
   "source": [
    "# Modelling"
   ]
  },
  {
   "cell_type": "markdown",
   "id": "81538f8a-d493-45f9-9a5b-68d22bf2dbb0",
   "metadata": {},
   "source": [
    "# Pipeline creation"
   ]
  },
  {
   "cell_type": "code",
   "execution_count": 39,
   "id": "d2d89e82-6364-4f84-bba9-3f7986de8ed8",
   "metadata": {},
   "outputs": [],
   "source": [
    "from sklearn.preprocessing import StandardScaler\n",
    "from sklearn.pipeline import Pipeline\n",
    "from sklearn.decomposition import PCA\n",
    "from sklearn.compose import ColumnTransformer\n",
    "from imblearn.over_sampling import RandomOverSampler"
   ]
  },
  {
   "cell_type": "code",
   "execution_count": 43,
   "id": "65ea9b4a-036e-4bd5-9180-2381e8cc99b0",
   "metadata": {},
   "outputs": [],
   "source": [
    "from sklearn.linear_model import LogisticRegression\n",
    "from sklearn.model_selection import cross_val_score\n",
    "from sklearn.metrics import f1_score, balanced_accuracy_score\n",
    "from sklearn.ensemble import RandomForestClassifier, GradientBoostingClassifier, HistGradientBoostingClassifier\n",
    "from sklearn.svm import SVC\n",
    "from sklearn.neighbors import KNeighborsClassifier\n",
    "from sklearn.dummy import DummyClassifier\n",
    "import xgboost as xgb\n",
    "import lightgbm as lgb"
   ]
  },
  {
   "cell_type": "code",
   "execution_count": 44,
   "id": "1e3e683d-01bc-439a-9fbb-c8fccab2d20e",
   "metadata": {},
   "outputs": [],
   "source": [
    "scor_dict = {\"algorithm\": [],\n",
    "            \"balanced_accuracy\": [],\n",
    "            \"f1 score\": []}"
   ]
  },
  {
   "cell_type": "code",
   "execution_count": 45,
   "id": "767ed540-e039-4c16-bb1b-90a5645ed80b",
   "metadata": {},
   "outputs": [],
   "source": [
    "from sklearn.model_selection import StratifiedKFold\n",
    "\n",
    "def my_score(model, n_folds, scoring_callable, X, Y):\n",
    "    scores = [],[]\n",
    "    cv = StratifiedKFold(n_folds)\n",
    "    oversampler = RandomOverSampler(random_state=1)\n",
    "    preprocessor = ColumnTransformer(\n",
    "        [(\"prep\", Pipeline([\n",
    "            (\"scaler\", StandardScaler()),\n",
    "        ]),\n",
    "                                     cols)], remainder=\"passthrough\")\n",
    "\n",
    "    for train_index, validation_index in cv.split(X, Y):\n",
    "        # balancing, preprocessing, fitting and predicting\n",
    "        x, y = X.iloc[train_index], Y.iloc[train_index]\n",
    "        xx, yy = oversampler.fit_resample(x, y)\n",
    "        xx = preprocessor.fit_transform(xx)\n",
    "        model.fit(xx, yy)\n",
    "        x_val = X.iloc[validation_index]\n",
    "        x_val = preprocessor.transform(x_val)\n",
    "        score_bac = scoring_callable[0](Y.iloc[validation_index], model.predict(x_val))\n",
    "        score_f = scoring_callable[1](Y.iloc[validation_index], model.predict(x_val))\n",
    "        \n",
    "        print(f\"bac: {score_bac}, f1: {score_f}\")\n",
    "        scores[0].append(score_bac)\n",
    "        scores[1].append(score_f)\n",
    "    \n",
    "    return scores"
   ]
  },
  {
   "cell_type": "markdown",
   "id": "ccf23df9-084d-4392-b47f-6b0656912567",
   "metadata": {
    "tags": []
   },
   "source": [
    "### Baseline"
   ]
  },
  {
   "cell_type": "code",
   "execution_count": 46,
   "id": "7f90aaab-ddc5-4a20-b4bc-aee5013cc9cd",
   "metadata": {},
   "outputs": [],
   "source": [
    "scor_dict[\"algorithm\"].extend([\"Baseline\"]*5)"
   ]
  },
  {
   "cell_type": "code",
   "execution_count": 47,
   "id": "86c24b54-c779-4235-a22d-a14b9250435e",
   "metadata": {},
   "outputs": [],
   "source": [
    "dum = DummyClassifier(strategy=\"uniform\", random_state=1)"
   ]
  },
  {
   "cell_type": "code",
   "execution_count": 48,
   "id": "f3e4a952-8038-4140-9246-7ea164603950",
   "metadata": {},
   "outputs": [
    {
     "name": "stdout",
     "output_type": "stream",
     "text": [
      "bac: 0.41565040650406504, f1: 0.2439024390243903\n",
      "bac: 0.46604938271604934, f1: 0.2926829268292683\n",
      "bac: 0.5082184517497349, f1: 0.32098765432098764\n",
      "bac: 0.4247083775185578, f1: 0.24691358024691357\n",
      "bac: 0.591728525980912, f1: 0.3950617283950617\n"
     ]
    }
   ],
   "source": [
    "scores = my_score(dum, 5, [balanced_accuracy_score, f1_score], x, y)"
   ]
  },
  {
   "cell_type": "code",
   "execution_count": 49,
   "id": "ff37c967-94e0-4663-9c7d-db08e538aeb9",
   "metadata": {},
   "outputs": [],
   "source": [
    "scor_dict[\"balanced_accuracy\"].extend(list(scores[0]))"
   ]
  },
  {
   "cell_type": "code",
   "execution_count": 50,
   "id": "91b20f0b-3a8e-49ec-900e-c626edf7d305",
   "metadata": {},
   "outputs": [],
   "source": [
    "scor_dict[\"f1 score\"].extend(list(scores[1]))"
   ]
  },
  {
   "cell_type": "markdown",
   "id": "60123631-3aca-470c-8969-638e4a80b847",
   "metadata": {},
   "source": [
    "### LogClf"
   ]
  },
  {
   "cell_type": "code",
   "execution_count": 51,
   "id": "c41d3339-ff85-43ed-a599-69bf9d7c35d8",
   "metadata": {},
   "outputs": [],
   "source": [
    "scor_dict[\"algorithm\"].extend([\"Logistic Regression\"]*5)"
   ]
  },
  {
   "cell_type": "code",
   "execution_count": 52,
   "id": "e7184894-58d9-42a5-a1b3-cd9eab54718a",
   "metadata": {},
   "outputs": [],
   "source": [
    "reg = LogisticRegression(max_iter=100000)"
   ]
  },
  {
   "cell_type": "code",
   "execution_count": 53,
   "id": "ba6df831-9c43-4470-8578-7d1cb66f3ad6",
   "metadata": {},
   "outputs": [
    {
     "name": "stdout",
     "output_type": "stream",
     "text": [
      "bac: 0.8033536585365854, f1: 0.6268656716417911\n",
      "bac: 0.8449074074074074, f1: 0.7000000000000001\n",
      "bac: 0.7319724284199364, f1: 0.5517241379310345\n",
      "bac: 0.753711558854719, f1: 0.5762711864406781\n",
      "bac: 0.8024920466595971, f1: 0.6666666666666666\n"
     ]
    }
   ],
   "source": [
    "scores = my_score(reg, 5, [balanced_accuracy_score, f1_score], x, y)"
   ]
  },
  {
   "cell_type": "code",
   "execution_count": 54,
   "id": "6ff4657f-9fb0-4bfe-8ce2-48a537a19dc3",
   "metadata": {},
   "outputs": [],
   "source": [
    "scor_dict[\"balanced_accuracy\"].extend(list(scores[0]))"
   ]
  },
  {
   "cell_type": "code",
   "execution_count": 55,
   "id": "d1cc6c2a-940d-4132-9e07-44b68d4e934e",
   "metadata": {},
   "outputs": [],
   "source": [
    "scor_dict[\"f1 score\"].extend(list(scores[1]))"
   ]
  },
  {
   "cell_type": "markdown",
   "id": "c444bf5a-9163-4a9d-9ad4-c12ea6316be4",
   "metadata": {
    "tags": []
   },
   "source": [
    "### Rand Forest"
   ]
  },
  {
   "cell_type": "code",
   "execution_count": 56,
   "id": "b3dd0bd7-4e37-4744-a1fa-b7c09eaaafed",
   "metadata": {},
   "outputs": [],
   "source": [
    "scor_dict[\"algorithm\"].extend([\"Random Forest\"]*5)"
   ]
  },
  {
   "cell_type": "code",
   "execution_count": 57,
   "id": "c2dc7001-6dbb-4624-97ca-1acd13a86195",
   "metadata": {},
   "outputs": [],
   "source": [
    "clf = RandomForestClassifier(\n",
    "            n_estimators=1000,\n",
    "            max_features=0.3,\n",
    "            random_state=1\n",
    ")"
   ]
  },
  {
   "cell_type": "code",
   "execution_count": 58,
   "id": "e3a254dd-2b09-4227-b165-6e596dcf4d7e",
   "metadata": {},
   "outputs": [
    {
     "name": "stdout",
     "output_type": "stream",
     "text": [
      "bac: 0.8373983739837398, f1: 0.7017543859649124\n",
      "bac: 0.8024691358024691, f1: 0.7111111111111111\n",
      "bac: 0.7590137857900319, f1: 0.6122448979591837\n",
      "bac: 0.7303817603393425, f1: 0.6\n",
      "bac: 0.693001060445387, f1: 0.5405405405405405\n"
     ]
    }
   ],
   "source": [
    "scores = my_score(clf, 5, [balanced_accuracy_score, f1_score], x, y)"
   ]
  },
  {
   "cell_type": "code",
   "execution_count": 59,
   "id": "3f29b67c-e566-4e9b-a0e1-4b10f9abb0c1",
   "metadata": {},
   "outputs": [],
   "source": [
    "scor_dict[\"balanced_accuracy\"].extend(list(scores[0]))"
   ]
  },
  {
   "cell_type": "code",
   "execution_count": 60,
   "id": "62498af7-f598-4757-b2eb-da8bf60ee0b1",
   "metadata": {},
   "outputs": [],
   "source": [
    "scor_dict[\"f1 score\"].extend(list(scores[1]))"
   ]
  },
  {
   "cell_type": "markdown",
   "id": "a3abaa8b-6e36-4351-a2cc-37c06bac11df",
   "metadata": {
    "tags": []
   },
   "source": [
    "### Grad Boosting"
   ]
  },
  {
   "cell_type": "code",
   "execution_count": 61,
   "id": "560c00a0-304c-4c2c-a182-578cde904959",
   "metadata": {},
   "outputs": [],
   "source": [
    "scor_dict[\"algorithm\"].extend([\"Gradient Boosting\"]*5)"
   ]
  },
  {
   "cell_type": "code",
   "execution_count": 62,
   "id": "2d722a3d-b4e0-4e12-8ee6-f5cc3eace9eb",
   "metadata": {},
   "outputs": [],
   "source": [
    "gbc = GradientBoostingClassifier(\n",
    "            n_estimators=1000,\n",
    "            max_features=0.3,\n",
    "            random_state = 1,\n",
    ")"
   ]
  },
  {
   "cell_type": "code",
   "execution_count": 63,
   "id": "979356aa-edf0-4878-8406-4edc4dbdd8e2",
   "metadata": {},
   "outputs": [
    {
     "name": "stdout",
     "output_type": "stream",
     "text": [
      "bac: 0.7566056910569106, f1: 0.5964912280701754\n",
      "bac: 0.7816358024691358, f1: 0.6818181818181818\n",
      "bac: 0.7990455991516436, f1: 0.6808510638297872\n",
      "bac: 0.7460233297985154, f1: 0.6190476190476191\n",
      "bac: 0.6434252386002121, f1: 0.4444444444444444\n"
     ]
    }
   ],
   "source": [
    "scores = my_score(gbc, 5, [balanced_accuracy_score, f1_score], x, y)"
   ]
  },
  {
   "cell_type": "code",
   "execution_count": 64,
   "id": "1cdba6fa-79c4-402d-952d-e0153d7ecc86",
   "metadata": {},
   "outputs": [],
   "source": [
    "scor_dict[\"balanced_accuracy\"].extend(list(scores[0]))"
   ]
  },
  {
   "cell_type": "code",
   "execution_count": 65,
   "id": "d1a2d4a7-1211-4868-a7d2-dc798a1e0d54",
   "metadata": {
    "tags": []
   },
   "outputs": [],
   "source": [
    "scor_dict[\"f1 score\"].extend(list(scores[1]))"
   ]
  },
  {
   "cell_type": "markdown",
   "id": "b54ab2f5-2826-442d-9505-75e79b629103",
   "metadata": {},
   "source": [
    "### KNN"
   ]
  },
  {
   "cell_type": "code",
   "execution_count": 66,
   "id": "1535236c-02df-4026-8e77-8d54279c3e19",
   "metadata": {},
   "outputs": [],
   "source": [
    "scor_dict[\"algorithm\"].extend([\"KNN\"]*5)"
   ]
  },
  {
   "cell_type": "code",
   "execution_count": 67,
   "id": "0d92375c-dd81-4135-8365-5cecd52bb420",
   "metadata": {},
   "outputs": [],
   "source": [
    "from sklearn.neighbors import KNeighborsClassifier"
   ]
  },
  {
   "cell_type": "code",
   "execution_count": 68,
   "id": "1b406d0f-53e4-4db8-adab-3e520c91cfe2",
   "metadata": {},
   "outputs": [],
   "source": [
    "knc = KNeighborsClassifier()"
   ]
  },
  {
   "cell_type": "code",
   "execution_count": 69,
   "id": "d59c977a-bef7-486d-88fb-77e13f129909",
   "metadata": {},
   "outputs": [
    {
     "name": "stdout",
     "output_type": "stream",
     "text": [
      "bac: 0.7032520325203252, f1: 0.5063291139240507\n",
      "bac: 0.7662037037037037, f1: 0.5937499999999999\n",
      "bac: 0.6866383881230116, f1: 0.4857142857142858\n",
      "bac: 0.7049310710498409, f1: 0.5074626865671641\n",
      "bac: 0.6762990455991517, f1: 0.48275862068965525\n"
     ]
    }
   ],
   "source": [
    "scores = my_score(knc, 5, [balanced_accuracy_score, f1_score], x, y)"
   ]
  },
  {
   "cell_type": "code",
   "execution_count": 70,
   "id": "5d9fb77e-54df-4e28-8b19-d0ab7c8f7793",
   "metadata": {},
   "outputs": [],
   "source": [
    "scor_dict[\"balanced_accuracy\"].extend(list(scores[0]))"
   ]
  },
  {
   "cell_type": "code",
   "execution_count": 71,
   "id": "423fa279-4b4f-44b0-a76c-e39d0ed5581a",
   "metadata": {},
   "outputs": [],
   "source": [
    "scor_dict[\"f1 score\"].extend(list(scores[1]))"
   ]
  },
  {
   "cell_type": "markdown",
   "id": "fe869714-de60-4d45-9e6a-db1ec6e8de5b",
   "metadata": {},
   "source": [
    "### SVC"
   ]
  },
  {
   "cell_type": "code",
   "execution_count": 72,
   "id": "23b71bcc-45d1-4bab-91fd-d597276b92c7",
   "metadata": {},
   "outputs": [],
   "source": [
    "scor_dict[\"algorithm\"].extend([\"SVC\"]*5)"
   ]
  },
  {
   "cell_type": "code",
   "execution_count": 73,
   "id": "3fdd1795-81a4-406c-8761-ff430de66c55",
   "metadata": {},
   "outputs": [],
   "source": [
    "from sklearn.svm import SVC"
   ]
  },
  {
   "cell_type": "code",
   "execution_count": 74,
   "id": "6f31da82-135c-4e69-9b17-b26c2cb0c415",
   "metadata": {},
   "outputs": [],
   "source": [
    "svc = SVC(kernel=\"poly\", degree=4)"
   ]
  },
  {
   "cell_type": "code",
   "execution_count": 75,
   "id": "a485c151-f848-4963-8ca2-3b3ea403e32b",
   "metadata": {},
   "outputs": [
    {
     "name": "stdout",
     "output_type": "stream",
     "text": [
      "bac: 0.6951219512195121, f1: 0.5333333333333333\n",
      "bac: 0.742283950617284, f1: 0.6086956521739131\n",
      "bac: 0.7616648992576882, f1: 0.6363636363636365\n",
      "bac: 0.6407741251325557, f1: 0.4390243902439025\n",
      "bac: 0.6407741251325557, f1: 0.4390243902439025\n"
     ]
    }
   ],
   "source": [
    "scores = my_score(svc, 5, [balanced_accuracy_score, f1_score], x, y)"
   ]
  },
  {
   "cell_type": "code",
   "execution_count": 76,
   "id": "2e369911-c48e-4ea7-86cb-d12caac09b06",
   "metadata": {},
   "outputs": [],
   "source": [
    "scor_dict[\"balanced_accuracy\"].extend(list(scores[0]))"
   ]
  },
  {
   "cell_type": "code",
   "execution_count": 77,
   "id": "7f734a7c-0e36-48ec-97bc-bf7cfe4de579",
   "metadata": {},
   "outputs": [],
   "source": [
    "scor_dict[\"f1 score\"].extend(list(scores[1]))"
   ]
  },
  {
   "cell_type": "markdown",
   "id": "6b61ef29-60a8-4392-94a1-8212d078f57a",
   "metadata": {},
   "source": [
    "### XGBoost"
   ]
  },
  {
   "cell_type": "code",
   "execution_count": 78,
   "id": "a99bbb04-1616-4b58-8be4-647c4385670f",
   "metadata": {},
   "outputs": [],
   "source": [
    "scor_dict[\"algorithm\"].extend([\"XGBoost\"]*5)"
   ]
  },
  {
   "cell_type": "code",
   "execution_count": 79,
   "id": "54741e33-0d6b-4a54-9771-09179d5c6c06",
   "metadata": {},
   "outputs": [],
   "source": [
    "xgbc = xgb.XGBClassifier(n_estimators=1000, random_state=1)"
   ]
  },
  {
   "cell_type": "code",
   "execution_count": 80,
   "id": "b7cb1db4-cbe5-4617-9019-c30981ed9546",
   "metadata": {},
   "outputs": [
    {
     "name": "stdout",
     "output_type": "stream",
     "text": [
      "bac: 0.7713414634146342, f1: 0.6101694915254237\n",
      "bac: 0.8233024691358024, f1: 0.7391304347826088\n",
      "bac: 0.7616648992576882, f1: 0.6363636363636365\n",
      "bac: 0.718186638388123, f1: 0.5714285714285715\n",
      "bac: 0.6773594909862142, f1: 0.5142857142857143\n"
     ]
    }
   ],
   "source": [
    "scores = my_score(xgbc, 5, [balanced_accuracy_score, f1_score], x, y)"
   ]
  },
  {
   "cell_type": "code",
   "execution_count": 81,
   "id": "544dbe93-b2b5-41ca-a442-47b250876ddc",
   "metadata": {},
   "outputs": [],
   "source": [
    "scor_dict[\"balanced_accuracy\"].extend(list(scores[0]))"
   ]
  },
  {
   "cell_type": "code",
   "execution_count": 82,
   "id": "a8fe85c6-9dc5-41c9-a5f8-687c7de88131",
   "metadata": {},
   "outputs": [],
   "source": [
    "scor_dict[\"f1 score\"].extend(list(scores[1]))"
   ]
  },
  {
   "cell_type": "markdown",
   "id": "348fe327-505c-4b5c-8e1c-d875aebd2e9b",
   "metadata": {},
   "source": [
    "### Light GBM"
   ]
  },
  {
   "cell_type": "code",
   "execution_count": 83,
   "id": "c2e5df61-6151-44d8-956b-caf0a9befd87",
   "metadata": {},
   "outputs": [],
   "source": [
    "scor_dict[\"algorithm\"].extend([\"Light GBM\"]*5)"
   ]
  },
  {
   "cell_type": "code",
   "execution_count": 84,
   "id": "e299ba43-7f4f-49df-adc6-c98ff4738aeb",
   "metadata": {},
   "outputs": [],
   "source": [
    "lgbc = lgb.LGBMClassifier(n_estimators=1000, random_state=1)"
   ]
  },
  {
   "cell_type": "code",
   "execution_count": 85,
   "id": "b9d1df7a-8a90-4f25-9474-dec8cb54a873",
   "metadata": {},
   "outputs": [
    {
     "name": "stdout",
     "output_type": "stream",
     "text": [
      "bac: 0.7688008130081301, f1: 0.6181818181818182\n",
      "bac: 0.8024691358024691, f1: 0.7111111111111111\n",
      "bac: 0.8112407211028632, f1: 0.711111111111111\n",
      "bac: 0.7303817603393425, f1: 0.6\n",
      "bac: 0.6060445387062566, f1: 0.36363636363636365\n"
     ]
    }
   ],
   "source": [
    "scores = my_score(lgbc, 5, [balanced_accuracy_score, f1_score], x, y)"
   ]
  },
  {
   "cell_type": "code",
   "execution_count": 86,
   "id": "990f53bb-390f-4a17-90a4-4c568e4edadd",
   "metadata": {},
   "outputs": [],
   "source": [
    "scor_dict[\"balanced_accuracy\"].extend(list(scores[0]))"
   ]
  },
  {
   "cell_type": "code",
   "execution_count": 87,
   "id": "8f48bc6a-0cf2-44cf-a757-307f4ebb8e1f",
   "metadata": {},
   "outputs": [],
   "source": [
    "scor_dict[\"f1 score\"].extend(list(scores[1]))"
   ]
  },
  {
   "cell_type": "markdown",
   "id": "254cad9c-ac27-440f-91db-3d404ed6debb",
   "metadata": {},
   "source": [
    "### Scores vis"
   ]
  },
  {
   "cell_type": "code",
   "execution_count": 88,
   "id": "925c2c4e-6fd4-4f13-94db-e0f373ce4571",
   "metadata": {
    "tags": []
   },
   "outputs": [
    {
     "data": {
      "text/html": [
       "<div>\n",
       "<style scoped>\n",
       "    .dataframe tbody tr th:only-of-type {\n",
       "        vertical-align: middle;\n",
       "    }\n",
       "\n",
       "    .dataframe tbody tr th {\n",
       "        vertical-align: top;\n",
       "    }\n",
       "\n",
       "    .dataframe thead th {\n",
       "        text-align: right;\n",
       "    }\n",
       "</style>\n",
       "<table border=\"1\" class=\"dataframe\">\n",
       "  <thead>\n",
       "    <tr style=\"text-align: right;\">\n",
       "      <th></th>\n",
       "      <th>algorithm</th>\n",
       "      <th>balanced_accuracy</th>\n",
       "      <th>f1 score</th>\n",
       "    </tr>\n",
       "  </thead>\n",
       "  <tbody>\n",
       "    <tr>\n",
       "      <th>0</th>\n",
       "      <td>Baseline</td>\n",
       "      <td>0.415650</td>\n",
       "      <td>0.243902</td>\n",
       "    </tr>\n",
       "    <tr>\n",
       "      <th>1</th>\n",
       "      <td>Baseline</td>\n",
       "      <td>0.466049</td>\n",
       "      <td>0.292683</td>\n",
       "    </tr>\n",
       "    <tr>\n",
       "      <th>2</th>\n",
       "      <td>Baseline</td>\n",
       "      <td>0.508218</td>\n",
       "      <td>0.320988</td>\n",
       "    </tr>\n",
       "    <tr>\n",
       "      <th>3</th>\n",
       "      <td>Baseline</td>\n",
       "      <td>0.424708</td>\n",
       "      <td>0.246914</td>\n",
       "    </tr>\n",
       "    <tr>\n",
       "      <th>4</th>\n",
       "      <td>Baseline</td>\n",
       "      <td>0.591729</td>\n",
       "      <td>0.395062</td>\n",
       "    </tr>\n",
       "    <tr>\n",
       "      <th>5</th>\n",
       "      <td>Logistic Regression</td>\n",
       "      <td>0.803354</td>\n",
       "      <td>0.626866</td>\n",
       "    </tr>\n",
       "    <tr>\n",
       "      <th>6</th>\n",
       "      <td>Logistic Regression</td>\n",
       "      <td>0.844907</td>\n",
       "      <td>0.700000</td>\n",
       "    </tr>\n",
       "    <tr>\n",
       "      <th>7</th>\n",
       "      <td>Logistic Regression</td>\n",
       "      <td>0.731972</td>\n",
       "      <td>0.551724</td>\n",
       "    </tr>\n",
       "    <tr>\n",
       "      <th>8</th>\n",
       "      <td>Logistic Regression</td>\n",
       "      <td>0.753712</td>\n",
       "      <td>0.576271</td>\n",
       "    </tr>\n",
       "    <tr>\n",
       "      <th>9</th>\n",
       "      <td>Logistic Regression</td>\n",
       "      <td>0.802492</td>\n",
       "      <td>0.666667</td>\n",
       "    </tr>\n",
       "    <tr>\n",
       "      <th>10</th>\n",
       "      <td>Random Forest</td>\n",
       "      <td>0.837398</td>\n",
       "      <td>0.701754</td>\n",
       "    </tr>\n",
       "    <tr>\n",
       "      <th>11</th>\n",
       "      <td>Random Forest</td>\n",
       "      <td>0.802469</td>\n",
       "      <td>0.711111</td>\n",
       "    </tr>\n",
       "    <tr>\n",
       "      <th>12</th>\n",
       "      <td>Random Forest</td>\n",
       "      <td>0.759014</td>\n",
       "      <td>0.612245</td>\n",
       "    </tr>\n",
       "    <tr>\n",
       "      <th>13</th>\n",
       "      <td>Random Forest</td>\n",
       "      <td>0.730382</td>\n",
       "      <td>0.600000</td>\n",
       "    </tr>\n",
       "    <tr>\n",
       "      <th>14</th>\n",
       "      <td>Random Forest</td>\n",
       "      <td>0.693001</td>\n",
       "      <td>0.540541</td>\n",
       "    </tr>\n",
       "    <tr>\n",
       "      <th>15</th>\n",
       "      <td>Gradient Boosting</td>\n",
       "      <td>0.756606</td>\n",
       "      <td>0.596491</td>\n",
       "    </tr>\n",
       "    <tr>\n",
       "      <th>16</th>\n",
       "      <td>Gradient Boosting</td>\n",
       "      <td>0.781636</td>\n",
       "      <td>0.681818</td>\n",
       "    </tr>\n",
       "    <tr>\n",
       "      <th>17</th>\n",
       "      <td>Gradient Boosting</td>\n",
       "      <td>0.799046</td>\n",
       "      <td>0.680851</td>\n",
       "    </tr>\n",
       "    <tr>\n",
       "      <th>18</th>\n",
       "      <td>Gradient Boosting</td>\n",
       "      <td>0.746023</td>\n",
       "      <td>0.619048</td>\n",
       "    </tr>\n",
       "    <tr>\n",
       "      <th>19</th>\n",
       "      <td>Gradient Boosting</td>\n",
       "      <td>0.643425</td>\n",
       "      <td>0.444444</td>\n",
       "    </tr>\n",
       "    <tr>\n",
       "      <th>20</th>\n",
       "      <td>KNN</td>\n",
       "      <td>0.703252</td>\n",
       "      <td>0.506329</td>\n",
       "    </tr>\n",
       "    <tr>\n",
       "      <th>21</th>\n",
       "      <td>KNN</td>\n",
       "      <td>0.766204</td>\n",
       "      <td>0.593750</td>\n",
       "    </tr>\n",
       "    <tr>\n",
       "      <th>22</th>\n",
       "      <td>KNN</td>\n",
       "      <td>0.686638</td>\n",
       "      <td>0.485714</td>\n",
       "    </tr>\n",
       "    <tr>\n",
       "      <th>23</th>\n",
       "      <td>KNN</td>\n",
       "      <td>0.704931</td>\n",
       "      <td>0.507463</td>\n",
       "    </tr>\n",
       "    <tr>\n",
       "      <th>24</th>\n",
       "      <td>KNN</td>\n",
       "      <td>0.676299</td>\n",
       "      <td>0.482759</td>\n",
       "    </tr>\n",
       "    <tr>\n",
       "      <th>25</th>\n",
       "      <td>SVC</td>\n",
       "      <td>0.695122</td>\n",
       "      <td>0.533333</td>\n",
       "    </tr>\n",
       "    <tr>\n",
       "      <th>26</th>\n",
       "      <td>SVC</td>\n",
       "      <td>0.742284</td>\n",
       "      <td>0.608696</td>\n",
       "    </tr>\n",
       "    <tr>\n",
       "      <th>27</th>\n",
       "      <td>SVC</td>\n",
       "      <td>0.761665</td>\n",
       "      <td>0.636364</td>\n",
       "    </tr>\n",
       "    <tr>\n",
       "      <th>28</th>\n",
       "      <td>SVC</td>\n",
       "      <td>0.640774</td>\n",
       "      <td>0.439024</td>\n",
       "    </tr>\n",
       "    <tr>\n",
       "      <th>29</th>\n",
       "      <td>SVC</td>\n",
       "      <td>0.640774</td>\n",
       "      <td>0.439024</td>\n",
       "    </tr>\n",
       "    <tr>\n",
       "      <th>30</th>\n",
       "      <td>XGBoost</td>\n",
       "      <td>0.771341</td>\n",
       "      <td>0.610169</td>\n",
       "    </tr>\n",
       "    <tr>\n",
       "      <th>31</th>\n",
       "      <td>XGBoost</td>\n",
       "      <td>0.823302</td>\n",
       "      <td>0.739130</td>\n",
       "    </tr>\n",
       "    <tr>\n",
       "      <th>32</th>\n",
       "      <td>XGBoost</td>\n",
       "      <td>0.761665</td>\n",
       "      <td>0.636364</td>\n",
       "    </tr>\n",
       "    <tr>\n",
       "      <th>33</th>\n",
       "      <td>XGBoost</td>\n",
       "      <td>0.718187</td>\n",
       "      <td>0.571429</td>\n",
       "    </tr>\n",
       "    <tr>\n",
       "      <th>34</th>\n",
       "      <td>XGBoost</td>\n",
       "      <td>0.677359</td>\n",
       "      <td>0.514286</td>\n",
       "    </tr>\n",
       "    <tr>\n",
       "      <th>35</th>\n",
       "      <td>Light GBM</td>\n",
       "      <td>0.768801</td>\n",
       "      <td>0.618182</td>\n",
       "    </tr>\n",
       "    <tr>\n",
       "      <th>36</th>\n",
       "      <td>Light GBM</td>\n",
       "      <td>0.802469</td>\n",
       "      <td>0.711111</td>\n",
       "    </tr>\n",
       "    <tr>\n",
       "      <th>37</th>\n",
       "      <td>Light GBM</td>\n",
       "      <td>0.811241</td>\n",
       "      <td>0.711111</td>\n",
       "    </tr>\n",
       "    <tr>\n",
       "      <th>38</th>\n",
       "      <td>Light GBM</td>\n",
       "      <td>0.730382</td>\n",
       "      <td>0.600000</td>\n",
       "    </tr>\n",
       "    <tr>\n",
       "      <th>39</th>\n",
       "      <td>Light GBM</td>\n",
       "      <td>0.606045</td>\n",
       "      <td>0.363636</td>\n",
       "    </tr>\n",
       "  </tbody>\n",
       "</table>\n",
       "</div>"
      ],
      "text/plain": [
       "              algorithm  balanced_accuracy  f1 score\n",
       "0              Baseline           0.415650  0.243902\n",
       "1              Baseline           0.466049  0.292683\n",
       "2              Baseline           0.508218  0.320988\n",
       "3              Baseline           0.424708  0.246914\n",
       "4              Baseline           0.591729  0.395062\n",
       "5   Logistic Regression           0.803354  0.626866\n",
       "6   Logistic Regression           0.844907  0.700000\n",
       "7   Logistic Regression           0.731972  0.551724\n",
       "8   Logistic Regression           0.753712  0.576271\n",
       "9   Logistic Regression           0.802492  0.666667\n",
       "10        Random Forest           0.837398  0.701754\n",
       "11        Random Forest           0.802469  0.711111\n",
       "12        Random Forest           0.759014  0.612245\n",
       "13        Random Forest           0.730382  0.600000\n",
       "14        Random Forest           0.693001  0.540541\n",
       "15    Gradient Boosting           0.756606  0.596491\n",
       "16    Gradient Boosting           0.781636  0.681818\n",
       "17    Gradient Boosting           0.799046  0.680851\n",
       "18    Gradient Boosting           0.746023  0.619048\n",
       "19    Gradient Boosting           0.643425  0.444444\n",
       "20                  KNN           0.703252  0.506329\n",
       "21                  KNN           0.766204  0.593750\n",
       "22                  KNN           0.686638  0.485714\n",
       "23                  KNN           0.704931  0.507463\n",
       "24                  KNN           0.676299  0.482759\n",
       "25                  SVC           0.695122  0.533333\n",
       "26                  SVC           0.742284  0.608696\n",
       "27                  SVC           0.761665  0.636364\n",
       "28                  SVC           0.640774  0.439024\n",
       "29                  SVC           0.640774  0.439024\n",
       "30              XGBoost           0.771341  0.610169\n",
       "31              XGBoost           0.823302  0.739130\n",
       "32              XGBoost           0.761665  0.636364\n",
       "33              XGBoost           0.718187  0.571429\n",
       "34              XGBoost           0.677359  0.514286\n",
       "35            Light GBM           0.768801  0.618182\n",
       "36            Light GBM           0.802469  0.711111\n",
       "37            Light GBM           0.811241  0.711111\n",
       "38            Light GBM           0.730382  0.600000\n",
       "39            Light GBM           0.606045  0.363636"
      ]
     },
     "execution_count": 88,
     "metadata": {},
     "output_type": "execute_result"
    }
   ],
   "source": [
    "scors = pd.DataFrame(scor_dict)\n",
    "scors"
   ]
  },
  {
   "cell_type": "code",
   "execution_count": 89,
   "id": "b6221f99-82cb-421a-b695-1cea6a87d0f2",
   "metadata": {},
   "outputs": [],
   "source": [
    "scors.to_csv(\"scors_zeros_imp.csv\")"
   ]
  },
  {
   "cell_type": "code",
   "execution_count": 90,
   "id": "1ff2a28f-a455-46bf-94ca-8519110472b2",
   "metadata": {},
   "outputs": [],
   "source": [
    "scors.groupby([\"algorithm\"]).mean().to_csv(\"groupby_zeros_marked2.csv\")"
   ]
  },
  {
   "cell_type": "code",
   "execution_count": 91,
   "id": "92b50589-f073-420e-97d6-bfeab76395ad",
   "metadata": {},
   "outputs": [
    {
     "data": {
      "text/html": [
       "<div>\n",
       "<style scoped>\n",
       "    .dataframe tbody tr th:only-of-type {\n",
       "        vertical-align: middle;\n",
       "    }\n",
       "\n",
       "    .dataframe tbody tr th {\n",
       "        vertical-align: top;\n",
       "    }\n",
       "\n",
       "    .dataframe thead th {\n",
       "        text-align: right;\n",
       "    }\n",
       "</style>\n",
       "<table border=\"1\" class=\"dataframe\">\n",
       "  <thead>\n",
       "    <tr style=\"text-align: right;\">\n",
       "      <th></th>\n",
       "      <th>balanced_accuracy</th>\n",
       "      <th>f1 score</th>\n",
       "    </tr>\n",
       "    <tr>\n",
       "      <th>algorithm</th>\n",
       "      <th></th>\n",
       "      <th></th>\n",
       "    </tr>\n",
       "  </thead>\n",
       "  <tbody>\n",
       "    <tr>\n",
       "      <th>Baseline</th>\n",
       "      <td>0.481271</td>\n",
       "      <td>0.299910</td>\n",
       "    </tr>\n",
       "    <tr>\n",
       "      <th>Gradient Boosting</th>\n",
       "      <td>0.745347</td>\n",
       "      <td>0.604531</td>\n",
       "    </tr>\n",
       "    <tr>\n",
       "      <th>KNN</th>\n",
       "      <td>0.707465</td>\n",
       "      <td>0.515203</td>\n",
       "    </tr>\n",
       "    <tr>\n",
       "      <th>Light GBM</th>\n",
       "      <td>0.743787</td>\n",
       "      <td>0.600808</td>\n",
       "    </tr>\n",
       "    <tr>\n",
       "      <th>Logistic Regression</th>\n",
       "      <td>0.787287</td>\n",
       "      <td>0.624306</td>\n",
       "    </tr>\n",
       "    <tr>\n",
       "      <th>Random Forest</th>\n",
       "      <td>0.764453</td>\n",
       "      <td>0.633130</td>\n",
       "    </tr>\n",
       "    <tr>\n",
       "      <th>SVC</th>\n",
       "      <td>0.696124</td>\n",
       "      <td>0.531288</td>\n",
       "    </tr>\n",
       "    <tr>\n",
       "      <th>XGBoost</th>\n",
       "      <td>0.750371</td>\n",
       "      <td>0.614276</td>\n",
       "    </tr>\n",
       "  </tbody>\n",
       "</table>\n",
       "</div>"
      ],
      "text/plain": [
       "                     balanced_accuracy  f1 score\n",
       "algorithm                                       \n",
       "Baseline                      0.481271  0.299910\n",
       "Gradient Boosting             0.745347  0.604531\n",
       "KNN                           0.707465  0.515203\n",
       "Light GBM                     0.743787  0.600808\n",
       "Logistic Regression           0.787287  0.624306\n",
       "Random Forest                 0.764453  0.633130\n",
       "SVC                           0.696124  0.531288\n",
       "XGBoost                       0.750371  0.614276"
      ]
     },
     "execution_count": 91,
     "metadata": {},
     "output_type": "execute_result"
    }
   ],
   "source": [
    "scors.groupby([\"algorithm\"]).mean()"
   ]
  },
  {
   "cell_type": "code",
   "execution_count": 92,
   "id": "b5bbe1b2-364c-40db-9e78-6b93d59b0cd6",
   "metadata": {},
   "outputs": [
    {
     "data": {
      "text/html": [
       "<div>\n",
       "<style scoped>\n",
       "    .dataframe tbody tr th:only-of-type {\n",
       "        vertical-align: middle;\n",
       "    }\n",
       "\n",
       "    .dataframe tbody tr th {\n",
       "        vertical-align: top;\n",
       "    }\n",
       "\n",
       "    .dataframe thead th {\n",
       "        text-align: right;\n",
       "    }\n",
       "</style>\n",
       "<table border=\"1\" class=\"dataframe\">\n",
       "  <thead>\n",
       "    <tr style=\"text-align: right;\">\n",
       "      <th></th>\n",
       "      <th>balanced_accuracy</th>\n",
       "      <th>f1 score</th>\n",
       "    </tr>\n",
       "    <tr>\n",
       "      <th>algorithm</th>\n",
       "      <th></th>\n",
       "      <th></th>\n",
       "    </tr>\n",
       "  </thead>\n",
       "  <tbody>\n",
       "    <tr>\n",
       "      <th>Baseline</th>\n",
       "      <td>0.466049</td>\n",
       "      <td>0.292683</td>\n",
       "    </tr>\n",
       "    <tr>\n",
       "      <th>Gradient Boosting</th>\n",
       "      <td>0.756606</td>\n",
       "      <td>0.619048</td>\n",
       "    </tr>\n",
       "    <tr>\n",
       "      <th>KNN</th>\n",
       "      <td>0.703252</td>\n",
       "      <td>0.506329</td>\n",
       "    </tr>\n",
       "    <tr>\n",
       "      <th>Light GBM</th>\n",
       "      <td>0.768801</td>\n",
       "      <td>0.618182</td>\n",
       "    </tr>\n",
       "    <tr>\n",
       "      <th>Logistic Regression</th>\n",
       "      <td>0.802492</td>\n",
       "      <td>0.626866</td>\n",
       "    </tr>\n",
       "    <tr>\n",
       "      <th>Random Forest</th>\n",
       "      <td>0.759014</td>\n",
       "      <td>0.612245</td>\n",
       "    </tr>\n",
       "    <tr>\n",
       "      <th>SVC</th>\n",
       "      <td>0.695122</td>\n",
       "      <td>0.533333</td>\n",
       "    </tr>\n",
       "    <tr>\n",
       "      <th>XGBoost</th>\n",
       "      <td>0.761665</td>\n",
       "      <td>0.610169</td>\n",
       "    </tr>\n",
       "  </tbody>\n",
       "</table>\n",
       "</div>"
      ],
      "text/plain": [
       "                     balanced_accuracy  f1 score\n",
       "algorithm                                       \n",
       "Baseline                      0.466049  0.292683\n",
       "Gradient Boosting             0.756606  0.619048\n",
       "KNN                           0.703252  0.506329\n",
       "Light GBM                     0.768801  0.618182\n",
       "Logistic Regression           0.802492  0.626866\n",
       "Random Forest                 0.759014  0.612245\n",
       "SVC                           0.695122  0.533333\n",
       "XGBoost                       0.761665  0.610169"
      ]
     },
     "execution_count": 92,
     "metadata": {},
     "output_type": "execute_result"
    }
   ],
   "source": [
    "scors.groupby([\"algorithm\"]).median()"
   ]
  },
  {
   "cell_type": "code",
   "execution_count": 93,
   "id": "9803737c-4a98-493a-99e2-4f309ea68616",
   "metadata": {
    "tags": []
   },
   "outputs": [
    {
     "data": {
      "text/html": [
       "<div>\n",
       "<style scoped>\n",
       "    .dataframe tbody tr th:only-of-type {\n",
       "        vertical-align: middle;\n",
       "    }\n",
       "\n",
       "    .dataframe tbody tr th {\n",
       "        vertical-align: top;\n",
       "    }\n",
       "\n",
       "    .dataframe thead th {\n",
       "        text-align: right;\n",
       "    }\n",
       "</style>\n",
       "<table border=\"1\" class=\"dataframe\">\n",
       "  <thead>\n",
       "    <tr style=\"text-align: right;\">\n",
       "      <th></th>\n",
       "      <th>algorithm</th>\n",
       "      <th>metric</th>\n",
       "      <th>value</th>\n",
       "    </tr>\n",
       "  </thead>\n",
       "  <tbody>\n",
       "    <tr>\n",
       "      <th>0</th>\n",
       "      <td>Baseline</td>\n",
       "      <td>balanced_accuracy</td>\n",
       "      <td>0.415650</td>\n",
       "    </tr>\n",
       "    <tr>\n",
       "      <th>1</th>\n",
       "      <td>Baseline</td>\n",
       "      <td>balanced_accuracy</td>\n",
       "      <td>0.466049</td>\n",
       "    </tr>\n",
       "    <tr>\n",
       "      <th>2</th>\n",
       "      <td>Baseline</td>\n",
       "      <td>balanced_accuracy</td>\n",
       "      <td>0.508218</td>\n",
       "    </tr>\n",
       "    <tr>\n",
       "      <th>3</th>\n",
       "      <td>Baseline</td>\n",
       "      <td>balanced_accuracy</td>\n",
       "      <td>0.424708</td>\n",
       "    </tr>\n",
       "    <tr>\n",
       "      <th>4</th>\n",
       "      <td>Baseline</td>\n",
       "      <td>balanced_accuracy</td>\n",
       "      <td>0.591729</td>\n",
       "    </tr>\n",
       "    <tr>\n",
       "      <th>...</th>\n",
       "      <td>...</td>\n",
       "      <td>...</td>\n",
       "      <td>...</td>\n",
       "    </tr>\n",
       "    <tr>\n",
       "      <th>75</th>\n",
       "      <td>Light GBM</td>\n",
       "      <td>f1 score</td>\n",
       "      <td>0.618182</td>\n",
       "    </tr>\n",
       "    <tr>\n",
       "      <th>76</th>\n",
       "      <td>Light GBM</td>\n",
       "      <td>f1 score</td>\n",
       "      <td>0.711111</td>\n",
       "    </tr>\n",
       "    <tr>\n",
       "      <th>77</th>\n",
       "      <td>Light GBM</td>\n",
       "      <td>f1 score</td>\n",
       "      <td>0.711111</td>\n",
       "    </tr>\n",
       "    <tr>\n",
       "      <th>78</th>\n",
       "      <td>Light GBM</td>\n",
       "      <td>f1 score</td>\n",
       "      <td>0.600000</td>\n",
       "    </tr>\n",
       "    <tr>\n",
       "      <th>79</th>\n",
       "      <td>Light GBM</td>\n",
       "      <td>f1 score</td>\n",
       "      <td>0.363636</td>\n",
       "    </tr>\n",
       "  </tbody>\n",
       "</table>\n",
       "<p>80 rows × 3 columns</p>\n",
       "</div>"
      ],
      "text/plain": [
       "    algorithm             metric     value\n",
       "0    Baseline  balanced_accuracy  0.415650\n",
       "1    Baseline  balanced_accuracy  0.466049\n",
       "2    Baseline  balanced_accuracy  0.508218\n",
       "3    Baseline  balanced_accuracy  0.424708\n",
       "4    Baseline  balanced_accuracy  0.591729\n",
       "..        ...                ...       ...\n",
       "75  Light GBM           f1 score  0.618182\n",
       "76  Light GBM           f1 score  0.711111\n",
       "77  Light GBM           f1 score  0.711111\n",
       "78  Light GBM           f1 score  0.600000\n",
       "79  Light GBM           f1 score  0.363636\n",
       "\n",
       "[80 rows x 3 columns]"
      ]
     },
     "execution_count": 93,
     "metadata": {},
     "output_type": "execute_result"
    }
   ],
   "source": [
    "melted = scors.melt(id_vars=\"algorithm\", var_name=\"metric\")\n",
    "melted"
   ]
  },
  {
   "cell_type": "code",
   "execution_count": 94,
   "id": "21b78c6a-25e1-4707-b076-30e417f767c4",
   "metadata": {
    "tags": []
   },
   "outputs": [
    {
     "data": {
      "text/plain": [
       "algorithm            metric           \n",
       "Baseline             balanced_accuracy    0.466325\n",
       "                     f1 score             0.286861\n",
       "Gradient Boosting    balanced_accuracy    0.761422\n",
       "                     f1 score             0.632130\n",
       "KNN                  balanced_accuracy    0.698274\n",
       "                     f1 score             0.499835\n",
       "Light GBM            balanced_accuracy    0.767217\n",
       "                     f1 score             0.643098\n",
       "Logistic Regression  balanced_accuracy    0.786519\n",
       "                     f1 score             0.623268\n",
       "Random Forest        balanced_accuracy    0.763955\n",
       "                     f1 score             0.638000\n",
       "SVC                  balanced_accuracy    0.692727\n",
       "                     f1 score             0.527018\n",
       "XGBoost              balanced_accuracy    0.750398\n",
       "                     f1 score             0.605987\n",
       "dtype: float64"
      ]
     },
     "execution_count": 94,
     "metadata": {},
     "output_type": "execute_result"
    }
   ],
   "source": [
    "melted.groupby(by=[\"algorithm\",\"metric\"]).apply(lambda x: np.percentile(x, [75, 50, 25]).sum()/3)"
   ]
  },
  {
   "cell_type": "code",
   "execution_count": 95,
   "id": "2fc7eeb6-157b-4b7d-8094-8ec2e7837c37",
   "metadata": {},
   "outputs": [
    {
     "data": {
      "text/plain": [
       "<AxesSubplot:xlabel='algorithm', ylabel='value'>"
      ]
     },
     "execution_count": 95,
     "metadata": {},
     "output_type": "execute_result"
    },
    {
     "data": {
      "image/png": "[encoded data removed]",
      "text/plain": [
       "<Figure size 2500x1500 with 1 Axes>"
      ]
     },
     "metadata": {},
     "output_type": "display_data"
    }
   ],
   "source": [
    "fig, ax = plt.subplots(figsize=(25,15))\n",
    "sns.boxplot(x=\"algorithm\", y=\"value\", data=melted, hue=\"metric\", ax=ax, meanline=True)"
   ]
  },
  {
   "cell_type": "code",
   "execution_count": 96,
   "id": "bd65143a-4006-4a89-9d45-7aa9bf2cb2c5",
   "metadata": {},
   "outputs": [
    {
     "data": {
      "text/plain": [
       "Text(0, 0.5, '')"
      ]
     },
     "execution_count": 96,
     "metadata": {},
     "output_type": "execute_result"
    },
    {
     "data": {
      "image/png": "[encoded data removed]",
      "text/plain": [
       "<Figure size 2500x1500 with 1 Axes>"
      ]
     },
     "metadata": {},
     "output_type": "display_data"
    }
   ],
   "source": [
    "rcParams[\"font.size\"] = 30\n",
    "fig, ax = plt.subplots(figsize=(25,15))\n",
    "sns.boxplot(x=\"metric\", y=\"value\", data=melted, hue=\"algorithm\", ax=ax, palette=\"colorblind\")\n",
    "sns.swarmplot(x=\"metric\", y=\"value\", data=melted, hue=\"algorithm\", ax=ax, dodge=True, color=\"k\")\n",
    "handles, labels = ax.get_legend_handles_labels()\n",
    "ax.legend(handles[:8], labels[:8], fontsize=20)\n",
    "ax.set_ylabel(None)"
   ]
  },
  {
   "cell_type": "code",
   "execution_count": 97,
   "id": "2e9cd5c5-d9b3-4807-8ea6-c1a6d21aa5f8",
   "metadata": {},
   "outputs": [],
   "source": [
    "fig.savefig(\"cv_res_fqd.pdf\")"
   ]
  },
  {
   "cell_type": "markdown",
   "id": "6d6675e4-90b7-4e69-885f-50c4a7fe1ccb",
   "metadata": {
    "tags": []
   },
   "source": [
    "# PCA features analysis"
   ]
  },
  {
   "cell_type": "code",
   "execution_count": 99,
   "id": "31b5af5d-a652-482f-9773-06d245a21d29",
   "metadata": {},
   "outputs": [],
   "source": [
    "xx = x[cols]\n",
    "yy = y"
   ]
  },
  {
   "cell_type": "code",
   "execution_count": 100,
   "id": "9d6fbbca-8402-4a34-ba60-4558621c6ff7",
   "metadata": {},
   "outputs": [],
   "source": [
    "rcParams[\"font.size\"] = 40"
   ]
  },
  {
   "cell_type": "code",
   "execution_count": 101,
   "id": "bee7af96-59cf-456c-81b1-772f9cef176f",
   "metadata": {},
   "outputs": [],
   "source": [
    "scaler = StandardScaler()\n",
    "xx = scaler.fit_transform(xx)\n",
    "oob_x = scaler.transform(oob_x[cols])"
   ]
  },
  {
   "cell_type": "code",
   "execution_count": 102,
   "id": "1561e195-f5c3-44f4-992e-d666b0cd69e0",
   "metadata": {},
   "outputs": [],
   "source": [
    "xx = pca.fit_transform(xx)\n",
    "oob_x = pca.transform(oob_x)"
   ]
  },
  {
   "cell_type": "code",
   "execution_count": 103,
   "id": "ddc65727-b638-4b2a-94eb-8402f2afc7da",
   "metadata": {
    "tags": []
   },
   "outputs": [
    {
     "name": "stdout",
     "output_type": "stream",
     "text": [
      "quant_FQD_4_gap               0.129750\n",
      "quant_FQD_4_zpve              0.129245\n",
      "quant_FQD_4_alpha             0.129209\n",
      "quant_FQD_4_cv                0.129000\n",
      "quant_FQD_4_g298_per_atom     0.128967\n",
      "quant_FQD_4_u0_per_atom       0.128967\n",
      "quant_FQD_4_u298_per_atom     0.128967\n",
      "quant_FQD_4_h298_per_atom     0.128967\n",
      "quant_FQD_4_homo              0.128902\n",
      "quant_FQD_4_cv_per_atom       0.128383\n",
      "quant_FQD_4_homo_per_atom     0.128065\n",
      "quant_FQD_4_alpha_per_atom    0.127556\n",
      "quant_FQD_4_gap_per_atom      0.127343\n",
      "quant_FQD_4_zpve_per_atom     0.126045\n",
      "quant_FQD_4_lumo              0.124204\n",
      "quant_FQD_4_g298              0.123272\n",
      "quant_FQD_4_u0                0.123271\n",
      "quant_FQD_4_u298              0.123271\n",
      "quant_FQD_4_h298              0.123271\n",
      "quant_FQD_5_zpve              0.121819\n",
      "quant_FQD_3_cv                0.120632\n",
      "quant_FQD_3_alpha             0.120503\n",
      "quant_FQD_4_lumo_per_atom     0.120299\n",
      "quant_FQD_3_homo              0.120074\n",
      "quant_FQD_3_gap               0.119990\n",
      "quant_FQD_5_cv                0.119968\n",
      "quant_FQD_3_zpve              0.119729\n",
      "quant_FQD_5_gap               0.118557\n",
      "quant_FQD_5_lumo              0.118329\n",
      "quant_FQD_5_zpve_per_atom     0.118237\n",
      "quant_FQD_5_alpha             0.117016\n",
      "quant_FQD_5_cv_per_atom       0.116060\n",
      "quant_FQD_5_homo              0.115550\n",
      "quant_FQD_3_g298              0.112463\n",
      "quant_FQD_3_u0                0.112462\n",
      "quant_FQD_3_u298              0.112461\n",
      "quant_FQD_3_h298              0.112461\n",
      "quant_FQD_3_lumo              0.109597\n",
      "quant_FQD_5_alpha_per_atom    0.109331\n",
      "quant_FQD_5_lumo_per_atom     0.109020\n",
      "dtype: float64\n"
     ]
    }
   ],
   "source": [
    "loading_scores = pd.Series(pca.components_[0], index=cols)\n",
    "sorted_loading_scores = loading_scores.abs().sort_values(ascending=False)\n",
    "print(sorted_loading_scores[:40])"
   ]
  },
  {
   "cell_type": "code",
   "execution_count": 104,
   "id": "9f1fa390-c72f-4e4f-942b-96dff60d270b",
   "metadata": {
    "tags": []
   },
   "outputs": [
    {
     "name": "stdout",
     "output_type": "stream",
     "text": [
      "quant_FQD_8_homo_per_atom     0.150824\n",
      "quant_FQD_8_gap_per_atom      0.145281\n",
      "quant_FQD_8_alpha_per_atom    0.145278\n",
      "quant_FQD_8_cv_per_atom       0.142841\n",
      "quant_FQD_7_g298              0.135449\n",
      "quant_FQD_7_u0                0.135446\n",
      "quant_FQD_7_h298              0.135446\n",
      "quant_FQD_7_u298              0.135434\n",
      "quant_FQD_8_homo              0.135360\n",
      "quant_FQD_7_g298_per_atom     0.134771\n",
      "quant_FQD_7_u0_per_atom       0.134769\n",
      "quant_FQD_7_h298_per_atom     0.134769\n",
      "quant_FQD_7_u298_per_atom     0.134761\n",
      "quant_FQD_7_homo_per_atom     0.134062\n",
      "quant_FQD_7_homo              0.131274\n",
      "quant_FQD_8_gap               0.130308\n",
      "quant_FQD_8_alpha             0.130057\n",
      "quant_FQD_7_gap_per_atom      0.130029\n",
      "quant_FQD_8_g298              0.129476\n",
      "quant_FQD_8_u0                0.129474\n",
      "quant_FQD_8_h298              0.129473\n",
      "quant_FQD_8_u298              0.129462\n",
      "quant_FQD_9_homo_per_atom     0.127814\n",
      "quant_FQD_7_alpha_per_atom    0.126645\n",
      "quant_FQD_9_alpha_per_atom    0.126346\n",
      "quant_FQD_9_gap_per_atom      0.126277\n",
      "quant_FQD_8_g298_per_atom     0.126106\n",
      "quant_FQD_8_u0_per_atom       0.126104\n",
      "quant_FQD_8_h298_per_atom     0.126103\n",
      "quant_FQD_8_u298_per_atom     0.126076\n",
      "quant_FQD_7_alpha             0.125705\n",
      "quant_FQD_9_u298_per_atom     0.124348\n",
      "quant_FQD_9_g298_per_atom     0.124341\n",
      "quant_FQD_9_u0_per_atom       0.124340\n",
      "quant_FQD_9_h298_per_atom     0.124339\n",
      "quant_FQD_7_gap               0.124146\n",
      "quant_FQD_7_cv_per_atom       0.123266\n",
      "quant_FQD_9_cv_per_atom       0.122847\n",
      "quant_FQD_8_zpve_per_atom     0.122057\n",
      "quant_FQD_8_cv                0.121553\n",
      "dtype: float64\n"
     ]
    }
   ],
   "source": [
    "loading_scores = pd.Series(pca.components_[1], index=cols)\n",
    "sorted_loading_scores = loading_scores.abs().sort_values(ascending=False)\n",
    "print(sorted_loading_scores[:40])"
   ]
  },
  {
   "cell_type": "code",
   "execution_count": 105,
   "id": "c7f91957-6b59-42ab-8ab8-4f8b53851e59",
   "metadata": {
    "tags": []
   },
   "outputs": [
    {
     "name": "stdout",
     "output_type": "stream",
     "text": [
      "quant_FQD_2_gap_per_atom      0.198516\n",
      "quant_FQD_2_cv_per_atom       0.198030\n",
      "quant_FQD_2_zpve_per_atom     0.197706\n",
      "quant_FQD_2_lumo_per_atom     0.196865\n",
      "quant_FQD_2_alpha_per_atom    0.196634\n",
      "quant_FQD_2_homo_per_atom     0.195073\n",
      "quant_FQD_2_g298_per_atom     0.178868\n",
      "quant_FQD_2_u0_per_atom       0.178863\n",
      "quant_FQD_2_u298_per_atom     0.178862\n",
      "quant_FQD_2_h298_per_atom     0.178861\n",
      "quant_FQD_2_lumo              0.114464\n",
      "quant_FQD_6_homo_per_atom     0.112750\n",
      "quant_FQD_3_zpve_per_atom     0.112161\n",
      "quant_FQD_3_alpha_per_atom    0.110677\n",
      "quant_FQD_3_gap_per_atom      0.110603\n",
      "quant_FQD_3_homo_per_atom     0.109210\n",
      "quant_FQD_3_cv_per_atom       0.109011\n",
      "quant_FQD_6_alpha_per_atom    0.108815\n",
      "quant_FQD_6_gap_per_atom      0.107688\n",
      "quant_FQD_5_mu                0.107156\n",
      "quant_FQD_3_lumo_per_atom     0.106004\n",
      "quant_FQD_4_mu                0.102905\n",
      "quant_FQD_9_cv                0.101929\n",
      "quant_FQD_5_g298              0.100299\n",
      "quant_FQD_5_u0                0.100297\n",
      "quant_FQD_5_h298              0.100297\n",
      "quant_FQD_5_u298              0.100278\n",
      "quant_FQD_6_mu                0.098239\n",
      "quant_FQD_9_alpha             0.096314\n",
      "quant_FQD_3_g298_per_atom     0.095608\n",
      "quant_FQD_3_u0_per_atom       0.095605\n",
      "quant_FQD_3_u298_per_atom     0.095605\n",
      "quant_FQD_3_h298_per_atom     0.095605\n",
      "quant_FQD_9_zpve              0.095593\n",
      "quant_FQD_9_homo              0.095399\n",
      "quant_FQD_2_zpve              0.094998\n",
      "quant_FQD_9_gap               0.093633\n",
      "quant_FQD_6_cv_per_atom       0.093200\n",
      "quant_FQD_5_homo              0.093010\n",
      "quant_FQD_6_zpve_per_atom     0.089579\n",
      "dtype: float64\n"
     ]
    }
   ],
   "source": [
    "loading_scores = pd.Series(pca.components_[2], index=cols)\n",
    "sorted_loading_scores = loading_scores.abs().sort_values(ascending=False)\n",
    "print(sorted_loading_scores[:40])"
   ]
  },
  {
   "cell_type": "code",
   "execution_count": 106,
   "id": "bf3b826a-ff7b-4bf5-977f-d9c412ec0786",
   "metadata": {
    "tags": []
   },
   "outputs": [
    {
     "name": "stdout",
     "output_type": "stream",
     "text": [
      "quant_FQD_6_gap_per_atom      0.152787\n",
      "quant_FQD_6_cv_per_atom       0.149413\n",
      "quant_FQD_2_h298              0.148075\n",
      "quant_FQD_2_u298              0.148075\n",
      "quant_FQD_2_u0                0.148074\n",
      "quant_FQD_2_g298              0.148073\n",
      "quant_FQD_6_zpve_per_atom     0.145038\n",
      "quant_FQD_6_homo_per_atom     0.136692\n",
      "quant_FQD_6_alpha_per_atom    0.133761\n",
      "quant_FQD_6_lumo_per_atom     0.132863\n",
      "quant_FQD_7_lumo_per_atom     0.121223\n",
      "quant_FQD_2_homo              0.119506\n",
      "quant_FQD_2_mu                0.117034\n",
      "quant_FQD_2_cv                0.116495\n",
      "quant_FQD_3_h298              0.111452\n",
      "quant_FQD_3_u298              0.111452\n",
      "quant_FQD_3_u0                0.111452\n",
      "quant_FQD_3_g298              0.111450\n",
      "quant_FQD_6_gap               0.109623\n",
      "quant_FQD_3_mu                0.108227\n",
      "quant_FQD_6_g298_per_atom     0.108089\n",
      "quant_FQD_6_u0_per_atom       0.108084\n",
      "quant_FQD_6_h298_per_atom     0.108084\n",
      "quant_FQD_6_u298_per_atom     0.108043\n",
      "quant_FQD_5_gap_per_atom      0.108023\n",
      "quant_FQD_2_gap               0.107912\n",
      "quant_FQD_5_homo_per_atom     0.107523\n",
      "quant_FQD_6_lumo              0.106619\n",
      "quant_FQD_5_alpha_per_atom    0.104973\n",
      "quant_FQD_9_alpha             0.103846\n",
      "quant_FQD_2_alpha             0.103685\n",
      "quant_FQD_7_gap_per_atom      0.100156\n",
      "quant_FQD_7_lumo              0.099765\n",
      "quant_FQD_9_homo              0.099627\n",
      "quant_FQD_5_lumo_per_atom     0.099285\n",
      "quant_FQD_7_zpve_per_atom     0.097795\n",
      "quant_FQD_5_cv_per_atom       0.097709\n",
      "quant_FQD_6_zpve              0.096938\n",
      "quant_FQD_5_zpve_per_atom     0.095307\n",
      "quant_FQD_3_mu_per_atom       0.094051\n",
      "dtype: float64\n"
     ]
    }
   ],
   "source": [
    "loading_scores = pd.Series(pca.components_[3], index=cols)\n",
    "sorted_loading_scores = loading_scores.abs().sort_values(ascending=False)\n",
    "print(sorted_loading_scores[:40])"
   ]
  },
  {
   "cell_type": "markdown",
   "id": "2db208e4-8412-4d6a-b655-6b14d7722b93",
   "metadata": {},
   "source": [
    "## Check which fragments are most important by atoms count"
   ]
  },
  {
   "cell_type": "code",
   "execution_count": 107,
   "id": "da9ba6d6-482e-44ff-b7de-6233e1ecb6b5",
   "metadata": {},
   "outputs": [
    {
     "data": {
      "text/plain": [
       "{'PC1': Counter({'4': 20, '5': 10, '3': 10}),\n",
       " 'PC2': Counter({'8': 17, '7': 15, '9': 8}),\n",
       " 'PC3': Counter({'2': 12, '6': 6, '3': 10, '5': 6, '4': 1, '9': 5}),\n",
       " 'PC4': Counter({'6': 13, '2': 9, '7': 4, '3': 6, '5': 6, '9': 2}),\n",
       " 'PC5': Counter({'6': 9, '9': 8, '5': 6, '7': 5, '2': 7, '8': 5}),\n",
       " 'PC6': Counter({'6': 10,\n",
       "          '3': 3,\n",
       "          '9': 7,\n",
       "          '2': 3,\n",
       "          '8': 3,\n",
       "          '7': 10,\n",
       "          '5': 2,\n",
       "          '4': 2}),\n",
       " 'PC7': Counter({'7': 2,\n",
       "          '8': 5,\n",
       "          '9': 2,\n",
       "          '5': 10,\n",
       "          '2': 6,\n",
       "          '6': 2,\n",
       "          '3': 9,\n",
       "          '4': 4})}"
      ]
     },
     "execution_count": 107,
     "metadata": {},
     "output_type": "execute_result"
    }
   ],
   "source": [
    "import itertools\n",
    "from collections import Counter\n",
    "keys = [f\"PC{i}\" for i in range(1,8)]\n",
    "pc_dict = {k: None for k in keys}\n",
    "pc_props_whole = []\n",
    "for i in range(7):\n",
    "    loading_scores = pd.Series(pca.components_[i], index=cols)\n",
    "    sorted_loading_scores = loading_scores.abs().sort_values(ascending=False)\n",
    "    splitted_names = itertools.chain.from_iterable([x.split(\"_\") for x in sorted_loading_scores.index[:40]])\n",
    "    PC_props = [x for x in splitted_names if x in [f\"{j}\" for j in range(1,10)]]\n",
    "    pc_dict[f\"PC{i+1}\"] = Counter(PC_props)\n",
    "    pc_props_whole += PC_props\n",
    "\n",
    "pc_dict"
   ]
  },
  {
   "cell_type": "code",
   "execution_count": 108,
   "id": "e5dde7b1-4fab-45b4-bc11-08b385818a00",
   "metadata": {},
   "outputs": [
    {
     "data": {
      "text/plain": [
       "[('5', 40), ('6', 40), ('3', 38), ('2', 37), ('7', 36)]"
      ]
     },
     "execution_count": 108,
     "metadata": {},
     "output_type": "execute_result"
    }
   ],
   "source": [
    "Counter(pc_props_whole).most_common(5)"
   ]
  },
  {
   "cell_type": "markdown",
   "id": "b43b82da-3a73-49ed-93fe-70c76c8b056b",
   "metadata": {},
   "source": [
    "## Check which fragments are most important by quantum feature"
   ]
  },
  {
   "cell_type": "code",
   "execution_count": 109,
   "id": "9e3aeb39-1816-48fc-9ca5-bcad1d16ad30",
   "metadata": {
    "tags": []
   },
   "outputs": [
    {
     "data": {
      "text/plain": [
       "{'PC1': Counter({'gap': 4,\n",
       "          'zpve': 5,\n",
       "          'alpha': 5,\n",
       "          'cv': 5,\n",
       "          'g298': 3,\n",
       "          'u0': 3,\n",
       "          'u298': 3,\n",
       "          'h298': 3,\n",
       "          'homo': 4,\n",
       "          'lumo': 5}),\n",
       " 'PC2': Counter({'homo': 5,\n",
       "          'gap': 5,\n",
       "          'alpha': 5,\n",
       "          'cv': 4,\n",
       "          'g298': 5,\n",
       "          'u0': 5,\n",
       "          'h298': 5,\n",
       "          'u298': 5,\n",
       "          'zpve': 1}),\n",
       " 'PC3': Counter({'gap': 4,\n",
       "          'cv': 4,\n",
       "          'zpve': 5,\n",
       "          'lumo': 3,\n",
       "          'alpha': 4,\n",
       "          'homo': 5,\n",
       "          'g298': 3,\n",
       "          'u0': 3,\n",
       "          'u298': 3,\n",
       "          'h298': 3,\n",
       "          'mu': 3}),\n",
       " 'PC4': Counter({'gap': 5,\n",
       "          'cv': 3,\n",
       "          'h298': 3,\n",
       "          'u298': 3,\n",
       "          'u0': 3,\n",
       "          'g298': 3,\n",
       "          'zpve': 4,\n",
       "          'homo': 4,\n",
       "          'alpha': 4,\n",
       "          'lumo': 5,\n",
       "          'mu': 3}),\n",
       " 'PC5': Counter({'homo': 4,\n",
       "          'h298': 5,\n",
       "          'u0': 5,\n",
       "          'g298': 6,\n",
       "          'u298': 5,\n",
       "          'gap': 4,\n",
       "          'zpve': 3,\n",
       "          'cv': 3,\n",
       "          'alpha': 3,\n",
       "          'lumo': 1,\n",
       "          'mu': 1}),\n",
       " 'PC6': Counter({'u298': 4,\n",
       "          'h298': 5,\n",
       "          'u0': 4,\n",
       "          'g298': 4,\n",
       "          'mu': 10,\n",
       "          'zpve': 6,\n",
       "          'cv': 3,\n",
       "          'lumo': 1,\n",
       "          'gap': 1,\n",
       "          'alpha': 1,\n",
       "          'homo': 1}),\n",
       " 'PC7': Counter({'mu': 16,\n",
       "          'lumo': 4,\n",
       "          'h298': 3,\n",
       "          'u0': 3,\n",
       "          'g298': 3,\n",
       "          'u298': 4,\n",
       "          'zpve': 3,\n",
       "          'gap': 1,\n",
       "          'alpha': 1,\n",
       "          'cv': 2})}"
      ]
     },
     "execution_count": 109,
     "metadata": {},
     "output_type": "execute_result"
    }
   ],
   "source": [
    "pc_dict2 = {k: None for k in keys}\n",
    "pc_props_whole2 = []\n",
    "for i in range(7):\n",
    "    loading_scores = pd.Series(pca.components_[i], index=cols)\n",
    "    sorted_loading_scores = loading_scores.abs().sort_values(ascending=False)\n",
    "    splitted_names = itertools.chain.from_iterable([x.split(\"_\") for x in sorted_loading_scores.index[:40]])\n",
    "    PC_props = [x for x in splitted_names if x in qprops]\n",
    "    pc_dict2[f\"PC{i+1}\"] = Counter(PC_props)\n",
    "    pc_props_whole2 += PC_props\n",
    "\n",
    "\n",
    "pc_dict2"
   ]
  },
  {
   "cell_type": "code",
   "execution_count": 110,
   "id": "9e7ab695-bb11-45cd-897d-352605904da0",
   "metadata": {
    "tags": []
   },
   "outputs": [
    {
     "data": {
      "text/plain": [
       "[('mu', 33),\n",
       " ('zpve', 27),\n",
       " ('g298', 27),\n",
       " ('u298', 27),\n",
       " ('h298', 27),\n",
       " ('u0', 26),\n",
       " ('gap', 24),\n",
       " ('cv', 24),\n",
       " ('alpha', 23),\n",
       " ('homo', 23)]"
      ]
     },
     "execution_count": 110,
     "metadata": {},
     "output_type": "execute_result"
    }
   ],
   "source": [
    "Counter(pc_props_whole2).most_common(10)"
   ]
  },
  {
   "cell_type": "code",
   "execution_count": 111,
   "id": "01eb4165-0121-46a9-be54-cc489d1c5afc",
   "metadata": {},
   "outputs": [
    {
     "data": {
      "text/plain": [
       "(526, 18)"
      ]
     },
     "execution_count": 111,
     "metadata": {},
     "output_type": "execute_result"
    }
   ],
   "source": [
    "xx.shape"
   ]
  },
  {
   "cell_type": "code",
   "execution_count": 112,
   "id": "abb09431-15f0-4961-979b-4d36aa80faa4",
   "metadata": {},
   "outputs": [],
   "source": [
    "pca_df = pd.DataFrame(xx, columns=[f\"PC{n}\" for n in range(1, xx.shape[1]+1)])"
   ]
  },
  {
   "cell_type": "code",
   "execution_count": 113,
   "id": "f5fbbfaa-cedd-4fea-bc3a-c5f571d777f3",
   "metadata": {
    "tags": []
   },
   "outputs": [
    {
     "data": {
      "text/html": [
       "<div>\n",
       "<style scoped>\n",
       "    .dataframe tbody tr th:only-of-type {\n",
       "        vertical-align: middle;\n",
       "    }\n",
       "\n",
       "    .dataframe tbody tr th {\n",
       "        vertical-align: top;\n",
       "    }\n",
       "\n",
       "    .dataframe thead th {\n",
       "        text-align: right;\n",
       "    }\n",
       "</style>\n",
       "<table border=\"1\" class=\"dataframe\">\n",
       "  <thead>\n",
       "    <tr style=\"text-align: right;\">\n",
       "      <th></th>\n",
       "      <th>PC1</th>\n",
       "      <th>PC2</th>\n",
       "      <th>PC3</th>\n",
       "      <th>PC4</th>\n",
       "      <th>PC5</th>\n",
       "      <th>PC6</th>\n",
       "      <th>PC7</th>\n",
       "      <th>PC8</th>\n",
       "      <th>PC9</th>\n",
       "      <th>PC10</th>\n",
       "      <th>PC11</th>\n",
       "      <th>PC12</th>\n",
       "      <th>PC13</th>\n",
       "      <th>PC14</th>\n",
       "      <th>PC15</th>\n",
       "      <th>PC16</th>\n",
       "      <th>PC17</th>\n",
       "      <th>PC18</th>\n",
       "    </tr>\n",
       "  </thead>\n",
       "  <tbody>\n",
       "    <tr>\n",
       "      <th>0</th>\n",
       "      <td>4.284421</td>\n",
       "      <td>-1.872287</td>\n",
       "      <td>-4.796424</td>\n",
       "      <td>-0.626301</td>\n",
       "      <td>-1.359081</td>\n",
       "      <td>0.597452</td>\n",
       "      <td>-0.352307</td>\n",
       "      <td>0.429814</td>\n",
       "      <td>0.351305</td>\n",
       "      <td>-0.376277</td>\n",
       "      <td>-0.595309</td>\n",
       "      <td>-1.019267</td>\n",
       "      <td>-0.601788</td>\n",
       "      <td>0.429571</td>\n",
       "      <td>0.506501</td>\n",
       "      <td>-0.469198</td>\n",
       "      <td>0.618595</td>\n",
       "      <td>0.620515</td>\n",
       "    </tr>\n",
       "    <tr>\n",
       "      <th>1</th>\n",
       "      <td>-5.934656</td>\n",
       "      <td>4.200080</td>\n",
       "      <td>3.749729</td>\n",
       "      <td>-1.543506</td>\n",
       "      <td>-1.480642</td>\n",
       "      <td>-1.369324</td>\n",
       "      <td>6.436511</td>\n",
       "      <td>-0.565176</td>\n",
       "      <td>0.331875</td>\n",
       "      <td>-2.412641</td>\n",
       "      <td>1.059431</td>\n",
       "      <td>1.070739</td>\n",
       "      <td>-1.863934</td>\n",
       "      <td>1.144334</td>\n",
       "      <td>3.453451</td>\n",
       "      <td>-0.362942</td>\n",
       "      <td>2.399716</td>\n",
       "      <td>1.483245</td>\n",
       "    </tr>\n",
       "    <tr>\n",
       "      <th>2</th>\n",
       "      <td>4.931752</td>\n",
       "      <td>-1.607893</td>\n",
       "      <td>-2.490060</td>\n",
       "      <td>-1.036759</td>\n",
       "      <td>0.158460</td>\n",
       "      <td>-1.215622</td>\n",
       "      <td>-0.946162</td>\n",
       "      <td>0.653389</td>\n",
       "      <td>-0.087209</td>\n",
       "      <td>-0.263871</td>\n",
       "      <td>-0.519242</td>\n",
       "      <td>0.753271</td>\n",
       "      <td>-1.252579</td>\n",
       "      <td>1.017350</td>\n",
       "      <td>0.389626</td>\n",
       "      <td>-1.513313</td>\n",
       "      <td>-0.244670</td>\n",
       "      <td>-0.901949</td>\n",
       "    </tr>\n",
       "    <tr>\n",
       "      <th>3</th>\n",
       "      <td>5.241121</td>\n",
       "      <td>0.131047</td>\n",
       "      <td>-4.819501</td>\n",
       "      <td>-1.832958</td>\n",
       "      <td>-1.139428</td>\n",
       "      <td>2.351874</td>\n",
       "      <td>3.987138</td>\n",
       "      <td>-0.696143</td>\n",
       "      <td>-1.396787</td>\n",
       "      <td>-0.278453</td>\n",
       "      <td>1.484445</td>\n",
       "      <td>0.393015</td>\n",
       "      <td>1.381625</td>\n",
       "      <td>-1.675737</td>\n",
       "      <td>-0.777835</td>\n",
       "      <td>0.606899</td>\n",
       "      <td>-0.636689</td>\n",
       "      <td>0.559179</td>\n",
       "    </tr>\n",
       "    <tr>\n",
       "      <th>4</th>\n",
       "      <td>-2.459377</td>\n",
       "      <td>6.422610</td>\n",
       "      <td>4.054392</td>\n",
       "      <td>-4.615230</td>\n",
       "      <td>2.854621</td>\n",
       "      <td>1.751078</td>\n",
       "      <td>-0.100034</td>\n",
       "      <td>-1.549084</td>\n",
       "      <td>1.812420</td>\n",
       "      <td>1.629034</td>\n",
       "      <td>-2.920104</td>\n",
       "      <td>-2.169199</td>\n",
       "      <td>0.218244</td>\n",
       "      <td>0.588438</td>\n",
       "      <td>-0.092901</td>\n",
       "      <td>-0.384228</td>\n",
       "      <td>0.053616</td>\n",
       "      <td>0.100555</td>\n",
       "    </tr>\n",
       "    <tr>\n",
       "      <th>...</th>\n",
       "      <td>...</td>\n",
       "      <td>...</td>\n",
       "      <td>...</td>\n",
       "      <td>...</td>\n",
       "      <td>...</td>\n",
       "      <td>...</td>\n",
       "      <td>...</td>\n",
       "      <td>...</td>\n",
       "      <td>...</td>\n",
       "      <td>...</td>\n",
       "      <td>...</td>\n",
       "      <td>...</td>\n",
       "      <td>...</td>\n",
       "      <td>...</td>\n",
       "      <td>...</td>\n",
       "      <td>...</td>\n",
       "      <td>...</td>\n",
       "      <td>...</td>\n",
       "    </tr>\n",
       "    <tr>\n",
       "      <th>521</th>\n",
       "      <td>-0.785645</td>\n",
       "      <td>8.021462</td>\n",
       "      <td>7.295669</td>\n",
       "      <td>-4.493426</td>\n",
       "      <td>2.861271</td>\n",
       "      <td>0.856178</td>\n",
       "      <td>0.548230</td>\n",
       "      <td>-2.691541</td>\n",
       "      <td>1.847405</td>\n",
       "      <td>2.407315</td>\n",
       "      <td>-2.562164</td>\n",
       "      <td>-0.461806</td>\n",
       "      <td>0.215905</td>\n",
       "      <td>-0.048461</td>\n",
       "      <td>-0.947505</td>\n",
       "      <td>-1.607721</td>\n",
       "      <td>0.228696</td>\n",
       "      <td>1.036117</td>\n",
       "    </tr>\n",
       "    <tr>\n",
       "      <th>522</th>\n",
       "      <td>-6.484270</td>\n",
       "      <td>-0.847586</td>\n",
       "      <td>-0.595806</td>\n",
       "      <td>-0.721909</td>\n",
       "      <td>-3.273953</td>\n",
       "      <td>-3.538038</td>\n",
       "      <td>0.333427</td>\n",
       "      <td>1.399467</td>\n",
       "      <td>1.056271</td>\n",
       "      <td>-0.604382</td>\n",
       "      <td>1.912079</td>\n",
       "      <td>0.575568</td>\n",
       "      <td>0.807749</td>\n",
       "      <td>0.532406</td>\n",
       "      <td>-0.646239</td>\n",
       "      <td>0.655993</td>\n",
       "      <td>0.991255</td>\n",
       "      <td>-1.474448</td>\n",
       "    </tr>\n",
       "    <tr>\n",
       "      <th>523</th>\n",
       "      <td>5.236440</td>\n",
       "      <td>-0.123007</td>\n",
       "      <td>-3.886146</td>\n",
       "      <td>-0.969934</td>\n",
       "      <td>-0.305438</td>\n",
       "      <td>1.989422</td>\n",
       "      <td>3.365753</td>\n",
       "      <td>-0.745064</td>\n",
       "      <td>-1.512514</td>\n",
       "      <td>-0.776636</td>\n",
       "      <td>0.367656</td>\n",
       "      <td>-1.028963</td>\n",
       "      <td>0.835922</td>\n",
       "      <td>-0.358225</td>\n",
       "      <td>-1.902275</td>\n",
       "      <td>-0.122700</td>\n",
       "      <td>-0.099579</td>\n",
       "      <td>-0.302770</td>\n",
       "    </tr>\n",
       "    <tr>\n",
       "      <th>524</th>\n",
       "      <td>4.093970</td>\n",
       "      <td>-2.279732</td>\n",
       "      <td>-3.343239</td>\n",
       "      <td>-1.677733</td>\n",
       "      <td>-0.028353</td>\n",
       "      <td>-0.468242</td>\n",
       "      <td>-1.116615</td>\n",
       "      <td>0.920831</td>\n",
       "      <td>-0.295945</td>\n",
       "      <td>-0.483407</td>\n",
       "      <td>-0.310595</td>\n",
       "      <td>1.367286</td>\n",
       "      <td>-1.417990</td>\n",
       "      <td>0.464533</td>\n",
       "      <td>0.545493</td>\n",
       "      <td>-1.524802</td>\n",
       "      <td>-0.837315</td>\n",
       "      <td>-1.033522</td>\n",
       "    </tr>\n",
       "    <tr>\n",
       "      <th>525</th>\n",
       "      <td>-7.343037</td>\n",
       "      <td>10.610834</td>\n",
       "      <td>4.574086</td>\n",
       "      <td>-1.714691</td>\n",
       "      <td>4.577446</td>\n",
       "      <td>-0.255319</td>\n",
       "      <td>1.304854</td>\n",
       "      <td>3.781456</td>\n",
       "      <td>1.648772</td>\n",
       "      <td>-4.179260</td>\n",
       "      <td>-1.284394</td>\n",
       "      <td>-2.678695</td>\n",
       "      <td>-0.804431</td>\n",
       "      <td>0.558175</td>\n",
       "      <td>1.724525</td>\n",
       "      <td>-0.487093</td>\n",
       "      <td>-2.449179</td>\n",
       "      <td>0.780672</td>\n",
       "    </tr>\n",
       "  </tbody>\n",
       "</table>\n",
       "<p>526 rows × 18 columns</p>\n",
       "</div>"
      ],
      "text/plain": [
       "          PC1        PC2       PC3       PC4       PC5       PC6       PC7  \\\n",
       "0    4.284421  -1.872287 -4.796424 -0.626301 -1.359081  0.597452 -0.352307   \n",
       "1   -5.934656   4.200080  3.749729 -1.543506 -1.480642 -1.369324  6.436511   \n",
       "2    4.931752  -1.607893 -2.490060 -1.036759  0.158460 -1.215622 -0.946162   \n",
       "3    5.241121   0.131047 -4.819501 -1.832958 -1.139428  2.351874  3.987138   \n",
       "4   -2.459377   6.422610  4.054392 -4.615230  2.854621  1.751078 -0.100034   \n",
       "..        ...        ...       ...       ...       ...       ...       ...   \n",
       "521 -0.785645   8.021462  7.295669 -4.493426  2.861271  0.856178  0.548230   \n",
       "522 -6.484270  -0.847586 -0.595806 -0.721909 -3.273953 -3.538038  0.333427   \n",
       "523  5.236440  -0.123007 -3.886146 -0.969934 -0.305438  1.989422  3.365753   \n",
       "524  4.093970  -2.279732 -3.343239 -1.677733 -0.028353 -0.468242 -1.116615   \n",
       "525 -7.343037  10.610834  4.574086 -1.714691  4.577446 -0.255319  1.304854   \n",
       "\n",
       "          PC8       PC9      PC10      PC11      PC12      PC13      PC14  \\\n",
       "0    0.429814  0.351305 -0.376277 -0.595309 -1.019267 -0.601788  0.429571   \n",
       "1   -0.565176  0.331875 -2.412641  1.059431  1.070739 -1.863934  1.144334   \n",
       "2    0.653389 -0.087209 -0.263871 -0.519242  0.753271 -1.252579  1.017350   \n",
       "3   -0.696143 -1.396787 -0.278453  1.484445  0.393015  1.381625 -1.675737   \n",
       "4   -1.549084  1.812420  1.629034 -2.920104 -2.169199  0.218244  0.588438   \n",
       "..        ...       ...       ...       ...       ...       ...       ...   \n",
       "521 -2.691541  1.847405  2.407315 -2.562164 -0.461806  0.215905 -0.048461   \n",
       "522  1.399467  1.056271 -0.604382  1.912079  0.575568  0.807749  0.532406   \n",
       "523 -0.745064 -1.512514 -0.776636  0.367656 -1.028963  0.835922 -0.358225   \n",
       "524  0.920831 -0.295945 -0.483407 -0.310595  1.367286 -1.417990  0.464533   \n",
       "525  3.781456  1.648772 -4.179260 -1.284394 -2.678695 -0.804431  0.558175   \n",
       "\n",
       "         PC15      PC16      PC17      PC18  \n",
       "0    0.506501 -0.469198  0.618595  0.620515  \n",
       "1    3.453451 -0.362942  2.399716  1.483245  \n",
       "2    0.389626 -1.513313 -0.244670 -0.901949  \n",
       "3   -0.777835  0.606899 -0.636689  0.559179  \n",
       "4   -0.092901 -0.384228  0.053616  0.100555  \n",
       "..        ...       ...       ...       ...  \n",
       "521 -0.947505 -1.607721  0.228696  1.036117  \n",
       "522 -0.646239  0.655993  0.991255 -1.474448  \n",
       "523 -1.902275 -0.122700 -0.099579 -0.302770  \n",
       "524  0.545493 -1.524802 -0.837315 -1.033522  \n",
       "525  1.724525 -0.487093 -2.449179  0.780672  \n",
       "\n",
       "[526 rows x 18 columns]"
      ]
     },
     "execution_count": 113,
     "metadata": {},
     "output_type": "execute_result"
    }
   ],
   "source": [
    "pca_df"
   ]
  },
  {
   "cell_type": "markdown",
   "id": "f01db704-1a65-47b2-8e2d-be5d267dba11",
   "metadata": {},
   "source": [
    "### Visualize PCA"
   ]
  },
  {
   "cell_type": "code",
   "execution_count": 114,
   "id": "c8bdef80-9d9e-4100-bc72-9827722a531c",
   "metadata": {},
   "outputs": [],
   "source": [
    "rcParams[\"font.size\"] = 25"
   ]
  },
  {
   "cell_type": "code",
   "execution_count": 115,
   "id": "7f0f3309-1867-4674-96f0-6948cecb260a",
   "metadata": {},
   "outputs": [
    {
     "name": "stdout",
     "output_type": "stream",
     "text": [
      "0 25.9\n",
      "1 43.3\n",
      "2 54.1\n",
      "3 62.9\n",
      "4 68.6\n",
      "5 73.5\n",
      "6 77.4\n",
      "7 80.8\n",
      "8 83.4\n",
      "9 86.0\n",
      "10 88.3\n",
      "11 90.2\n",
      "12 91.5\n",
      "13 92.6\n",
      "14 93.5\n",
      "15 94.2\n",
      "16 94.8\n",
      "17 95.5\n"
     ]
    }
   ],
   "source": [
    "for i, v in enumerate((pca.explained_variance_ratio_*100).cumsum()):\n",
    "    print(i, f\"{v:.3}\")"
   ]
  },
  {
   "cell_type": "code",
   "execution_count": 116,
   "id": "2cac9a90-7725-4254-bee8-51b4928475cf",
   "metadata": {},
   "outputs": [
    {
     "data": {
      "text/plain": [
       "Text(0, 0.5, 'summary % variance explained')"
      ]
     },
     "execution_count": 116,
     "metadata": {},
     "output_type": "execute_result"
    },
    {
     "data": {
      "image/png": "[encoded data removed]",
      "text/plain": [
       "<Figure size 2500x1000 with 2 Axes>"
      ]
     },
     "metadata": {},
     "output_type": "display_data"
    }
   ],
   "source": [
    "pcs = [f\"PC{n}\" for n in range(1, xx.shape[1]+1)]\n",
    "fig, ax = plt.subplots(figsize=(25,10))\n",
    "ax.bar(pcs, pca.explained_variance_ratio_*100)\n",
    "ax2 = ax.twinx()\n",
    "ax2.plot(pcs, (pca.explained_variance_ratio_*100).cumsum(), c=\"r\")\n",
    "ax.set_ylabel(\"% variance explained\", color=\"b\")\n",
    "ax2.set_ylabel(\"summary % variance explained\", color=\"r\")"
   ]
  },
  {
   "cell_type": "code",
   "execution_count": 117,
   "id": "0602a856-f119-4952-b0eb-dd910c5b9b98",
   "metadata": {},
   "outputs": [],
   "source": [
    "fig.savefig(\"scree_plot_fqd.pdf\")"
   ]
  },
  {
   "cell_type": "markdown",
   "id": "fde64ac4-c39d-4812-a737-3bffced5cd96",
   "metadata": {},
   "source": [
    "### 2D"
   ]
  },
  {
   "cell_type": "code",
   "execution_count": 118,
   "id": "65aeac97-3a3a-4045-ab60-4dd36ed17178",
   "metadata": {},
   "outputs": [
    {
     "data": {
      "text/plain": [
       "<matplotlib.collections.PathCollection at 0x7f27d0124a00>"
      ]
     },
     "execution_count": 118,
     "metadata": {},
     "output_type": "execute_result"
    },
    {
     "data": {
      "image/png": "[encoded data removed]",
      "text/plain": [
       "<Figure size 640x480 with 1 Axes>"
      ]
     },
     "metadata": {},
     "output_type": "display_data"
    }
   ],
   "source": [
    "fig, ax = plt.subplots()\n",
    "pca_df_ones = pca_df[(yy==1).values]\n",
    "pca_df_zeros = pca_df[(yy==0).values]\n",
    "ax.scatter(pca_df_ones[\"PC1\"], pca_df_ones[\"PC2\"])\n",
    "ax.scatter(pca_df_zeros[\"PC1\"], pca_df_zeros[\"PC2\"], c=\"r\")"
   ]
  },
  {
   "cell_type": "markdown",
   "id": "04905493-2e5e-4b8e-ab1e-c02197ace364",
   "metadata": {},
   "source": [
    "### 3D"
   ]
  },
  {
   "cell_type": "code",
   "execution_count": 119,
   "id": "14d3124d-4ff7-494a-a71f-04f8d9317fe1",
   "metadata": {
    "tags": []
   },
   "outputs": [
    {
     "data": {
      "text/plain": [
       "<mpl_toolkits.mplot3d.art3d.Path3DCollection at 0x7f27d0160070>"
      ]
     },
     "execution_count": 119,
     "metadata": {},
     "output_type": "execute_result"
    },
    {
     "data": {
      "image/png": "[encoded data removed]",
      "text/plain": [
       "<Figure size 640x480 with 1 Axes>"
      ]
     },
     "metadata": {},
     "output_type": "display_data"
    }
   ],
   "source": [
    "from mpl_toolkits.mplot3d import Axes3D\n",
    "fig, ax = plt.subplots(subplot_kw={\"projection\":\"3d\"})\n",
    "ax.scatter(pca_df_ones[\"PC1\"], pca_df_ones[\"PC2\"], pca_df_ones[\"PC3\"], s=1)\n",
    "ax.scatter(pca_df_zeros[\"PC1\"], pca_df_zeros[\"PC2\"], pca_df_zeros[\"PC3\"], c=\"r\", s=1)"
   ]
  },
  {
   "cell_type": "code",
   "execution_count": 120,
   "id": "49776036-efa4-47e1-84e2-9d094426e7bf",
   "metadata": {
    "tags": []
   },
   "outputs": [
    {
     "data": {
      "text/html": [
       "<div>\n",
       "<style scoped>\n",
       "    .dataframe tbody tr th:only-of-type {\n",
       "        vertical-align: middle;\n",
       "    }\n",
       "\n",
       "    .dataframe tbody tr th {\n",
       "        vertical-align: top;\n",
       "    }\n",
       "\n",
       "    .dataframe thead th {\n",
       "        text-align: right;\n",
       "    }\n",
       "</style>\n",
       "<table border=\"1\" class=\"dataframe\">\n",
       "  <thead>\n",
       "    <tr style=\"text-align: right;\">\n",
       "      <th></th>\n",
       "      <th>PC1</th>\n",
       "      <th>PC2</th>\n",
       "      <th>PC3</th>\n",
       "      <th>PC4</th>\n",
       "      <th>PC5</th>\n",
       "      <th>PC6</th>\n",
       "      <th>PC7</th>\n",
       "      <th>PC8</th>\n",
       "      <th>PC9</th>\n",
       "      <th>PC10</th>\n",
       "      <th>PC11</th>\n",
       "      <th>PC12</th>\n",
       "      <th>PC13</th>\n",
       "      <th>PC14</th>\n",
       "      <th>PC15</th>\n",
       "      <th>PC16</th>\n",
       "      <th>PC17</th>\n",
       "      <th>PC18</th>\n",
       "    </tr>\n",
       "  </thead>\n",
       "  <tbody>\n",
       "    <tr>\n",
       "      <th>0</th>\n",
       "      <td>4.284421</td>\n",
       "      <td>-1.872287</td>\n",
       "      <td>-4.796424</td>\n",
       "      <td>-0.626301</td>\n",
       "      <td>-1.359081</td>\n",
       "      <td>0.597452</td>\n",
       "      <td>-0.352307</td>\n",
       "      <td>0.429814</td>\n",
       "      <td>0.351305</td>\n",
       "      <td>-0.376277</td>\n",
       "      <td>-0.595309</td>\n",
       "      <td>-1.019267</td>\n",
       "      <td>-0.601788</td>\n",
       "      <td>0.429571</td>\n",
       "      <td>0.506501</td>\n",
       "      <td>-0.469198</td>\n",
       "      <td>0.618595</td>\n",
       "      <td>0.620515</td>\n",
       "    </tr>\n",
       "    <tr>\n",
       "      <th>1</th>\n",
       "      <td>-5.934656</td>\n",
       "      <td>4.200080</td>\n",
       "      <td>3.749729</td>\n",
       "      <td>-1.543506</td>\n",
       "      <td>-1.480642</td>\n",
       "      <td>-1.369324</td>\n",
       "      <td>6.436511</td>\n",
       "      <td>-0.565176</td>\n",
       "      <td>0.331875</td>\n",
       "      <td>-2.412641</td>\n",
       "      <td>1.059431</td>\n",
       "      <td>1.070739</td>\n",
       "      <td>-1.863934</td>\n",
       "      <td>1.144334</td>\n",
       "      <td>3.453451</td>\n",
       "      <td>-0.362942</td>\n",
       "      <td>2.399716</td>\n",
       "      <td>1.483245</td>\n",
       "    </tr>\n",
       "    <tr>\n",
       "      <th>2</th>\n",
       "      <td>4.931752</td>\n",
       "      <td>-1.607893</td>\n",
       "      <td>-2.490060</td>\n",
       "      <td>-1.036759</td>\n",
       "      <td>0.158460</td>\n",
       "      <td>-1.215622</td>\n",
       "      <td>-0.946162</td>\n",
       "      <td>0.653389</td>\n",
       "      <td>-0.087209</td>\n",
       "      <td>-0.263871</td>\n",
       "      <td>-0.519242</td>\n",
       "      <td>0.753271</td>\n",
       "      <td>-1.252579</td>\n",
       "      <td>1.017350</td>\n",
       "      <td>0.389626</td>\n",
       "      <td>-1.513313</td>\n",
       "      <td>-0.244670</td>\n",
       "      <td>-0.901949</td>\n",
       "    </tr>\n",
       "    <tr>\n",
       "      <th>3</th>\n",
       "      <td>5.241121</td>\n",
       "      <td>0.131047</td>\n",
       "      <td>-4.819501</td>\n",
       "      <td>-1.832958</td>\n",
       "      <td>-1.139428</td>\n",
       "      <td>2.351874</td>\n",
       "      <td>3.987138</td>\n",
       "      <td>-0.696143</td>\n",
       "      <td>-1.396787</td>\n",
       "      <td>-0.278453</td>\n",
       "      <td>1.484445</td>\n",
       "      <td>0.393015</td>\n",
       "      <td>1.381625</td>\n",
       "      <td>-1.675737</td>\n",
       "      <td>-0.777835</td>\n",
       "      <td>0.606899</td>\n",
       "      <td>-0.636689</td>\n",
       "      <td>0.559179</td>\n",
       "    </tr>\n",
       "    <tr>\n",
       "      <th>4</th>\n",
       "      <td>-2.459377</td>\n",
       "      <td>6.422610</td>\n",
       "      <td>4.054392</td>\n",
       "      <td>-4.615230</td>\n",
       "      <td>2.854621</td>\n",
       "      <td>1.751078</td>\n",
       "      <td>-0.100034</td>\n",
       "      <td>-1.549084</td>\n",
       "      <td>1.812420</td>\n",
       "      <td>1.629034</td>\n",
       "      <td>-2.920104</td>\n",
       "      <td>-2.169199</td>\n",
       "      <td>0.218244</td>\n",
       "      <td>0.588438</td>\n",
       "      <td>-0.092901</td>\n",
       "      <td>-0.384228</td>\n",
       "      <td>0.053616</td>\n",
       "      <td>0.100555</td>\n",
       "    </tr>\n",
       "    <tr>\n",
       "      <th>...</th>\n",
       "      <td>...</td>\n",
       "      <td>...</td>\n",
       "      <td>...</td>\n",
       "      <td>...</td>\n",
       "      <td>...</td>\n",
       "      <td>...</td>\n",
       "      <td>...</td>\n",
       "      <td>...</td>\n",
       "      <td>...</td>\n",
       "      <td>...</td>\n",
       "      <td>...</td>\n",
       "      <td>...</td>\n",
       "      <td>...</td>\n",
       "      <td>...</td>\n",
       "      <td>...</td>\n",
       "      <td>...</td>\n",
       "      <td>...</td>\n",
       "      <td>...</td>\n",
       "    </tr>\n",
       "    <tr>\n",
       "      <th>521</th>\n",
       "      <td>-0.785645</td>\n",
       "      <td>8.021462</td>\n",
       "      <td>7.295669</td>\n",
       "      <td>-4.493426</td>\n",
       "      <td>2.861271</td>\n",
       "      <td>0.856178</td>\n",
       "      <td>0.548230</td>\n",
       "      <td>-2.691541</td>\n",
       "      <td>1.847405</td>\n",
       "      <td>2.407315</td>\n",
       "      <td>-2.562164</td>\n",
       "      <td>-0.461806</td>\n",
       "      <td>0.215905</td>\n",
       "      <td>-0.048461</td>\n",
       "      <td>-0.947505</td>\n",
       "      <td>-1.607721</td>\n",
       "      <td>0.228696</td>\n",
       "      <td>1.036117</td>\n",
       "    </tr>\n",
       "    <tr>\n",
       "      <th>522</th>\n",
       "      <td>-6.484270</td>\n",
       "      <td>-0.847586</td>\n",
       "      <td>-0.595806</td>\n",
       "      <td>-0.721909</td>\n",
       "      <td>-3.273953</td>\n",
       "      <td>-3.538038</td>\n",
       "      <td>0.333427</td>\n",
       "      <td>1.399467</td>\n",
       "      <td>1.056271</td>\n",
       "      <td>-0.604382</td>\n",
       "      <td>1.912079</td>\n",
       "      <td>0.575568</td>\n",
       "      <td>0.807749</td>\n",
       "      <td>0.532406</td>\n",
       "      <td>-0.646239</td>\n",
       "      <td>0.655993</td>\n",
       "      <td>0.991255</td>\n",
       "      <td>-1.474448</td>\n",
       "    </tr>\n",
       "    <tr>\n",
       "      <th>523</th>\n",
       "      <td>5.236440</td>\n",
       "      <td>-0.123007</td>\n",
       "      <td>-3.886146</td>\n",
       "      <td>-0.969934</td>\n",
       "      <td>-0.305438</td>\n",
       "      <td>1.989422</td>\n",
       "      <td>3.365753</td>\n",
       "      <td>-0.745064</td>\n",
       "      <td>-1.512514</td>\n",
       "      <td>-0.776636</td>\n",
       "      <td>0.367656</td>\n",
       "      <td>-1.028963</td>\n",
       "      <td>0.835922</td>\n",
       "      <td>-0.358225</td>\n",
       "      <td>-1.902275</td>\n",
       "      <td>-0.122700</td>\n",
       "      <td>-0.099579</td>\n",
       "      <td>-0.302770</td>\n",
       "    </tr>\n",
       "    <tr>\n",
       "      <th>524</th>\n",
       "      <td>4.093970</td>\n",
       "      <td>-2.279732</td>\n",
       "      <td>-3.343239</td>\n",
       "      <td>-1.677733</td>\n",
       "      <td>-0.028353</td>\n",
       "      <td>-0.468242</td>\n",
       "      <td>-1.116615</td>\n",
       "      <td>0.920831</td>\n",
       "      <td>-0.295945</td>\n",
       "      <td>-0.483407</td>\n",
       "      <td>-0.310595</td>\n",
       "      <td>1.367286</td>\n",
       "      <td>-1.417990</td>\n",
       "      <td>0.464533</td>\n",
       "      <td>0.545493</td>\n",
       "      <td>-1.524802</td>\n",
       "      <td>-0.837315</td>\n",
       "      <td>-1.033522</td>\n",
       "    </tr>\n",
       "    <tr>\n",
       "      <th>525</th>\n",
       "      <td>-7.343037</td>\n",
       "      <td>10.610834</td>\n",
       "      <td>4.574086</td>\n",
       "      <td>-1.714691</td>\n",
       "      <td>4.577446</td>\n",
       "      <td>-0.255319</td>\n",
       "      <td>1.304854</td>\n",
       "      <td>3.781456</td>\n",
       "      <td>1.648772</td>\n",
       "      <td>-4.179260</td>\n",
       "      <td>-1.284394</td>\n",
       "      <td>-2.678695</td>\n",
       "      <td>-0.804431</td>\n",
       "      <td>0.558175</td>\n",
       "      <td>1.724525</td>\n",
       "      <td>-0.487093</td>\n",
       "      <td>-2.449179</td>\n",
       "      <td>0.780672</td>\n",
       "    </tr>\n",
       "  </tbody>\n",
       "</table>\n",
       "<p>526 rows × 18 columns</p>\n",
       "</div>"
      ],
      "text/plain": [
       "          PC1        PC2       PC3       PC4       PC5       PC6       PC7  \\\n",
       "0    4.284421  -1.872287 -4.796424 -0.626301 -1.359081  0.597452 -0.352307   \n",
       "1   -5.934656   4.200080  3.749729 -1.543506 -1.480642 -1.369324  6.436511   \n",
       "2    4.931752  -1.607893 -2.490060 -1.036759  0.158460 -1.215622 -0.946162   \n",
       "3    5.241121   0.131047 -4.819501 -1.832958 -1.139428  2.351874  3.987138   \n",
       "4   -2.459377   6.422610  4.054392 -4.615230  2.854621  1.751078 -0.100034   \n",
       "..        ...        ...       ...       ...       ...       ...       ...   \n",
       "521 -0.785645   8.021462  7.295669 -4.493426  2.861271  0.856178  0.548230   \n",
       "522 -6.484270  -0.847586 -0.595806 -0.721909 -3.273953 -3.538038  0.333427   \n",
       "523  5.236440  -0.123007 -3.886146 -0.969934 -0.305438  1.989422  3.365753   \n",
       "524  4.093970  -2.279732 -3.343239 -1.677733 -0.028353 -0.468242 -1.116615   \n",
       "525 -7.343037  10.610834  4.574086 -1.714691  4.577446 -0.255319  1.304854   \n",
       "\n",
       "          PC8       PC9      PC10      PC11      PC12      PC13      PC14  \\\n",
       "0    0.429814  0.351305 -0.376277 -0.595309 -1.019267 -0.601788  0.429571   \n",
       "1   -0.565176  0.331875 -2.412641  1.059431  1.070739 -1.863934  1.144334   \n",
       "2    0.653389 -0.087209 -0.263871 -0.519242  0.753271 -1.252579  1.017350   \n",
       "3   -0.696143 -1.396787 -0.278453  1.484445  0.393015  1.381625 -1.675737   \n",
       "4   -1.549084  1.812420  1.629034 -2.920104 -2.169199  0.218244  0.588438   \n",
       "..        ...       ...       ...       ...       ...       ...       ...   \n",
       "521 -2.691541  1.847405  2.407315 -2.562164 -0.461806  0.215905 -0.048461   \n",
       "522  1.399467  1.056271 -0.604382  1.912079  0.575568  0.807749  0.532406   \n",
       "523 -0.745064 -1.512514 -0.776636  0.367656 -1.028963  0.835922 -0.358225   \n",
       "524  0.920831 -0.295945 -0.483407 -0.310595  1.367286 -1.417990  0.464533   \n",
       "525  3.781456  1.648772 -4.179260 -1.284394 -2.678695 -0.804431  0.558175   \n",
       "\n",
       "         PC15      PC16      PC17      PC18  \n",
       "0    0.506501 -0.469198  0.618595  0.620515  \n",
       "1    3.453451 -0.362942  2.399716  1.483245  \n",
       "2    0.389626 -1.513313 -0.244670 -0.901949  \n",
       "3   -0.777835  0.606899 -0.636689  0.559179  \n",
       "4   -0.092901 -0.384228  0.053616  0.100555  \n",
       "..        ...       ...       ...       ...  \n",
       "521 -0.947505 -1.607721  0.228696  1.036117  \n",
       "522 -0.646239  0.655993  0.991255 -1.474448  \n",
       "523 -1.902275 -0.122700 -0.099579 -0.302770  \n",
       "524  0.545493 -1.524802 -0.837315 -1.033522  \n",
       "525  1.724525 -0.487093 -2.449179  0.780672  \n",
       "\n",
       "[526 rows x 18 columns]"
      ]
     },
     "execution_count": 120,
     "metadata": {},
     "output_type": "execute_result"
    }
   ],
   "source": [
    "pca_df"
   ]
  },
  {
   "cell_type": "code",
   "execution_count": 121,
   "id": "b0c24812-169c-4e9d-9b59-a537247ef791",
   "metadata": {},
   "outputs": [
    {
     "data": {
      "text/plain": [
       "586    1\n",
       "579    0\n",
       "305    0\n",
       "383    0\n",
       "434    0\n",
       "      ..\n",
       "454    0\n",
       "115    1\n",
       "534    0\n",
       "817    0\n",
       "368    0\n",
       "Name: class_encoded, Length: 526, dtype: int64"
      ]
     },
     "execution_count": 121,
     "metadata": {},
     "output_type": "execute_result"
    }
   ],
   "source": [
    "yy"
   ]
  },
  {
   "cell_type": "code",
   "execution_count": 122,
   "id": "617e7482-cf75-4172-92a2-a1d3d5ca2f6b",
   "metadata": {
    "tags": []
   },
   "outputs": [],
   "source": [
    "pd.concat([pca_df, yy], axis=1).to_csv(\"pca_df.csv\")"
   ]
  }
 ],
 "metadata": {
  "kernelspec": {
   "display_name": "chemin_kernel",
   "language": "python",
   "name": "chemin_kernel"
  },
  "language_info": {
   "codemirror_mode": {
    "name": "ipython",
    "version": 3
   },
   "file_extension": ".py",
   "mimetype": "text/x-python",
   "name": "python",
   "nbconvert_exporter": "python",
   "pygments_lexer": "ipython3",
   "version": "3.10.6"
  },
  "toc-autonumbering": false,
  "toc-showtags": false
 },
 "nbformat": 4,
 "nbformat_minor": 5
}
