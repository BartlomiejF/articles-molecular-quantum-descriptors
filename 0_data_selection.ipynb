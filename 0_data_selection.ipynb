{
 "cells": [
  {
   "cell_type": "code",
   "execution_count": 21,
   "metadata": {},
   "outputs": [],
   "source": [
    "import numpy as np\n",
    "import pandas as pd\n",
    "import matplotlib.pyplot as plt\n",
    "import seaborn as sns\n",
    "import typing\n",
    "from rdkit import Chem\n",
    "from rdkit.Chem import Draw\n",
    "from rdkit.Chem import Descriptors\n",
    "from typing import Union, List, Tuple\n",
    "from rdkit.Chem import AllChem\n",
    "from rdkit.Chem import Descriptors3D\n",
    "from rdkit.Chem import GraphDescriptors\n",
    "from tqdm import tqdm"
   ]
  },
  {
   "cell_type": "markdown",
   "metadata": {},
   "source": [
    "### Helper functions"
   ]
  },
  {
   "cell_type": "code",
   "execution_count": 22,
   "metadata": {},
   "outputs": [],
   "source": [
    "def count_atoms(smils: Chem.Mol, atomic_value: int) -> int:\n",
    "    count = 0\n",
    "    smilsChromoChem = smils\n",
    "    for atom in smilsChromoChem.GetAtoms():\n",
    "        if atom.GetAtomicNum() == atomic_value:\n",
    "            count += 1\n",
    "    return count\n",
    "\n",
    "def find_pattern_indexes(molecule: Chem.Mol, patterns_dataframe: pd.DataFrame) -> List[int]:\n",
    "    ret = []\n",
    "    for index, row in patterns_dataframe.iterrows():\n",
    "        if len(list(molecule.GetSubstructMatch(row[\"RDKit_Mol_Class\"])))>0:\n",
    "            ret.append(index)\n",
    "    return ret"
   ]
  },
  {
   "cell_type": "markdown",
   "metadata": {},
   "source": [
    "## Read databases"
   ]
  },
  {
   "cell_type": "code",
   "execution_count": 23,
   "metadata": {},
   "outputs": [],
   "source": [
    "chromophore_database = pd.read_csv(\"DB for chromophore_Sci_Data_rev02.csv\")\n",
    "chromophore_database.drop(\"Tag\", inplace=True, axis=1)\n",
    "chromophore_database = chromophore_database.iloc[:, 0:4]\n",
    "chromophore_database.drop(columns=\"Absorption max (nm)\", inplace=True)\n",
    "only_solids = chromophore_database[chromophore_database[\"Chromophore\"]==chromophore_database[\"Solvent\"]].copy()\n",
    "only_solids[\"RDKit_Mol_Class\"] = only_solids[\"Chromophore\"].apply(lambda x: Chem.MolFromSmiles(x))\n",
    "qm9_database = pd.read_csv(\"qm9.csv\")"
   ]
  },
  {
   "cell_type": "markdown",
   "metadata": {},
   "source": [
    "### Find patterns from QM9 database\n",
    "Needs time."
   ]
  },
  {
   "cell_type": "code",
   "execution_count": 24,
   "metadata": {},
   "outputs": [],
   "source": [
    "qm9_database[\"RDKit_Mol_Class\"] = qm9_database[\"smiles\"].apply(lambda x: Chem.MolFromSmiles(x))\n",
    "only_solids[\"qm9_pattern_indexes\"] = only_solids[\"RDKit_Mol_Class\"].apply(find_pattern_indexes, patterns_dataframe = qm9_database)"
   ]
  },
  {
   "cell_type": "markdown",
   "metadata": {},
   "source": [
    "### Count number of each atoms of N, O, S, F, Cl, Br, I, Se, Te, Si, P, B, Sn, Ge"
   ]
  },
  {
   "cell_type": "code",
   "execution_count": 25,
   "metadata": {},
   "outputs": [
    {
     "name": "stderr",
     "output_type": "stream",
     "text": [
      "14it [00:01,  7.90it/s]\n"
     ]
    }
   ],
   "source": [
    "for atom, value in tqdm(zip(\n",
    "    [x.strip() for x in \"N, O, S, F, Cl, Br, I, Se, Te, Si, P, B, Sn, Ge\".split(\",\")],\n",
    "    [7, 8, 16, 9, 17, 35, 53, 34, 52, 14, 15, 5, 50, 32]\n",
    ")):\n",
    "    only_solids[f\"{atom}_count\"] = only_solids[\"RDKit_Mol_Class\"].apply(count_atoms, atomic_value=value)"
   ]
  },
  {
   "cell_type": "code",
   "execution_count": 26,
   "metadata": {},
   "outputs": [
    {
     "data": {
      "text/html": [
       "<div>\n",
       "<style scoped>\n",
       "    .dataframe tbody tr th:only-of-type {\n",
       "        vertical-align: middle;\n",
       "    }\n",
       "\n",
       "    .dataframe tbody tr th {\n",
       "        vertical-align: top;\n",
       "    }\n",
       "\n",
       "    .dataframe thead th {\n",
       "        text-align: right;\n",
       "    }\n",
       "</style>\n",
       "<table border=\"1\" class=\"dataframe\">\n",
       "  <thead>\n",
       "    <tr style=\"text-align: right;\">\n",
       "      <th></th>\n",
       "      <th>Chromophore</th>\n",
       "      <th>Solvent</th>\n",
       "      <th>Emission max (nm)</th>\n",
       "      <th>RDKit_Mol_Class</th>\n",
       "      <th>qm9_pattern_indexes</th>\n",
       "      <th>N_count</th>\n",
       "      <th>O_count</th>\n",
       "      <th>S_count</th>\n",
       "      <th>F_count</th>\n",
       "      <th>Cl_count</th>\n",
       "      <th>Br_count</th>\n",
       "      <th>I_count</th>\n",
       "      <th>Se_count</th>\n",
       "      <th>Te_count</th>\n",
       "      <th>Si_count</th>\n",
       "      <th>P_count</th>\n",
       "      <th>B_count</th>\n",
       "      <th>Sn_count</th>\n",
       "      <th>Ge_count</th>\n",
       "    </tr>\n",
       "  </thead>\n",
       "  <tbody>\n",
       "    <tr>\n",
       "      <th>1322</th>\n",
       "      <td>O=c1oc2ccccc2cc1-c1cn2ccccc2n1</td>\n",
       "      <td>O=c1oc2ccccc2cc1-c1cn2ccccc2n1</td>\n",
       "      <td>520.0</td>\n",
       "      <td>&lt;rdkit.Chem.rdchem.Mol object at 0x000001CF14F...</td>\n",
       "      <td>[0, 1, 2, 5, 6, 50, 201, 213, 214, 924, 4994, ...</td>\n",
       "      <td>2</td>\n",
       "      <td>2</td>\n",
       "      <td>0</td>\n",
       "      <td>0</td>\n",
       "      <td>0</td>\n",
       "      <td>0</td>\n",
       "      <td>0</td>\n",
       "      <td>0</td>\n",
       "      <td>0</td>\n",
       "      <td>0</td>\n",
       "      <td>0</td>\n",
       "      <td>0</td>\n",
       "      <td>0</td>\n",
       "      <td>0</td>\n",
       "    </tr>\n",
       "    <tr>\n",
       "      <th>1323</th>\n",
       "      <td>CCN(CC)c1ccc2cc(-c3cn4ccccc4n3)c(=O)oc2c1</td>\n",
       "      <td>CCN(CC)c1ccc2cc(-c3cn4ccccc4n3)c(=O)oc2c1</td>\n",
       "      <td>593.0</td>\n",
       "      <td>&lt;rdkit.Chem.rdchem.Mol object at 0x000001CF14F...</td>\n",
       "      <td>[0, 1, 2, 5, 6, 50, 201, 213, 214, 924, 939, 4...</td>\n",
       "      <td>3</td>\n",
       "      <td>2</td>\n",
       "      <td>0</td>\n",
       "      <td>0</td>\n",
       "      <td>0</td>\n",
       "      <td>0</td>\n",
       "      <td>0</td>\n",
       "      <td>0</td>\n",
       "      <td>0</td>\n",
       "      <td>0</td>\n",
       "      <td>0</td>\n",
       "      <td>0</td>\n",
       "      <td>0</td>\n",
       "      <td>0</td>\n",
       "    </tr>\n",
       "    <tr>\n",
       "      <th>1324</th>\n",
       "      <td>CCN(CC)c1ccc2cc(-c3cn4cc(C)ccc4n3)c(=O)oc2c1</td>\n",
       "      <td>CCN(CC)c1ccc2cc(-c3cn4cc(C)ccc4n3)c(=O)oc2c1</td>\n",
       "      <td>557.0</td>\n",
       "      <td>&lt;rdkit.Chem.rdchem.Mol object at 0x000001CF14F...</td>\n",
       "      <td>[0, 1, 2, 5, 6, 50, 201, 213, 214, 924, 931, 9...</td>\n",
       "      <td>3</td>\n",
       "      <td>2</td>\n",
       "      <td>0</td>\n",
       "      <td>0</td>\n",
       "      <td>0</td>\n",
       "      <td>0</td>\n",
       "      <td>0</td>\n",
       "      <td>0</td>\n",
       "      <td>0</td>\n",
       "      <td>0</td>\n",
       "      <td>0</td>\n",
       "      <td>0</td>\n",
       "      <td>0</td>\n",
       "      <td>0</td>\n",
       "    </tr>\n",
       "    <tr>\n",
       "      <th>1325</th>\n",
       "      <td>CCN(CC)c1ccc2cc(-c3cn4cc5ccccc5cc4n3)c(=O)oc2c1</td>\n",
       "      <td>CCN(CC)c1ccc2cc(-c3cn4cc5ccccc5cc4n3)c(=O)oc2c1</td>\n",
       "      <td>590.0</td>\n",
       "      <td>&lt;rdkit.Chem.rdchem.Mol object at 0x000001CF14F...</td>\n",
       "      <td>[0, 1, 2, 5, 6, 50, 201, 213, 214, 924, 939, 4...</td>\n",
       "      <td>3</td>\n",
       "      <td>2</td>\n",
       "      <td>0</td>\n",
       "      <td>0</td>\n",
       "      <td>0</td>\n",
       "      <td>0</td>\n",
       "      <td>0</td>\n",
       "      <td>0</td>\n",
       "      <td>0</td>\n",
       "      <td>0</td>\n",
       "      <td>0</td>\n",
       "      <td>0</td>\n",
       "      <td>0</td>\n",
       "      <td>0</td>\n",
       "    </tr>\n",
       "    <tr>\n",
       "      <th>1548</th>\n",
       "      <td>COc1ccc(/C=C(\\C#N)c2nc(-c3ccc(OC)cc3)cs2)cc1</td>\n",
       "      <td>COc1ccc(/C=C(\\C#N)c2nc(-c3ccc(OC)cc3)cs2)cc1</td>\n",
       "      <td>526.0</td>\n",
       "      <td>&lt;rdkit.Chem.rdchem.Mol object at 0x000001CF14F...</td>\n",
       "      <td>[0, 1, 2, 4, 6, 7, 9, 12, 14, 30, 213, 929, 94...</td>\n",
       "      <td>2</td>\n",
       "      <td>2</td>\n",
       "      <td>1</td>\n",
       "      <td>0</td>\n",
       "      <td>0</td>\n",
       "      <td>0</td>\n",
       "      <td>0</td>\n",
       "      <td>0</td>\n",
       "      <td>0</td>\n",
       "      <td>0</td>\n",
       "      <td>0</td>\n",
       "      <td>0</td>\n",
       "      <td>0</td>\n",
       "      <td>0</td>\n",
       "    </tr>\n",
       "  </tbody>\n",
       "</table>\n",
       "</div>"
      ],
      "text/plain": [
       "                                          Chromophore  \\\n",
       "1322                   O=c1oc2ccccc2cc1-c1cn2ccccc2n1   \n",
       "1323        CCN(CC)c1ccc2cc(-c3cn4ccccc4n3)c(=O)oc2c1   \n",
       "1324     CCN(CC)c1ccc2cc(-c3cn4cc(C)ccc4n3)c(=O)oc2c1   \n",
       "1325  CCN(CC)c1ccc2cc(-c3cn4cc5ccccc5cc4n3)c(=O)oc2c1   \n",
       "1548     COc1ccc(/C=C(\\C#N)c2nc(-c3ccc(OC)cc3)cs2)cc1   \n",
       "\n",
       "                                              Solvent  Emission max (nm)  \\\n",
       "1322                   O=c1oc2ccccc2cc1-c1cn2ccccc2n1              520.0   \n",
       "1323        CCN(CC)c1ccc2cc(-c3cn4ccccc4n3)c(=O)oc2c1              593.0   \n",
       "1324     CCN(CC)c1ccc2cc(-c3cn4cc(C)ccc4n3)c(=O)oc2c1              557.0   \n",
       "1325  CCN(CC)c1ccc2cc(-c3cn4cc5ccccc5cc4n3)c(=O)oc2c1              590.0   \n",
       "1548     COc1ccc(/C=C(\\C#N)c2nc(-c3ccc(OC)cc3)cs2)cc1              526.0   \n",
       "\n",
       "                                        RDKit_Mol_Class  \\\n",
       "1322  <rdkit.Chem.rdchem.Mol object at 0x000001CF14F...   \n",
       "1323  <rdkit.Chem.rdchem.Mol object at 0x000001CF14F...   \n",
       "1324  <rdkit.Chem.rdchem.Mol object at 0x000001CF14F...   \n",
       "1325  <rdkit.Chem.rdchem.Mol object at 0x000001CF14F...   \n",
       "1548  <rdkit.Chem.rdchem.Mol object at 0x000001CF14F...   \n",
       "\n",
       "                                    qm9_pattern_indexes  N_count  O_count  \\\n",
       "1322  [0, 1, 2, 5, 6, 50, 201, 213, 214, 924, 4994, ...        2        2   \n",
       "1323  [0, 1, 2, 5, 6, 50, 201, 213, 214, 924, 939, 4...        3        2   \n",
       "1324  [0, 1, 2, 5, 6, 50, 201, 213, 214, 924, 931, 9...        3        2   \n",
       "1325  [0, 1, 2, 5, 6, 50, 201, 213, 214, 924, 939, 4...        3        2   \n",
       "1548  [0, 1, 2, 4, 6, 7, 9, 12, 14, 30, 213, 929, 94...        2        2   \n",
       "\n",
       "      S_count  F_count  Cl_count  Br_count  I_count  Se_count  Te_count  \\\n",
       "1322        0        0         0         0        0         0         0   \n",
       "1323        0        0         0         0        0         0         0   \n",
       "1324        0        0         0         0        0         0         0   \n",
       "1325        0        0         0         0        0         0         0   \n",
       "1548        1        0         0         0        0         0         0   \n",
       "\n",
       "      Si_count  P_count  B_count  Sn_count  Ge_count  \n",
       "1322         0        0        0         0         0  \n",
       "1323         0        0        0         0         0  \n",
       "1324         0        0        0         0         0  \n",
       "1325         0        0        0         0         0  \n",
       "1548         0        0        0         0         0  "
      ]
     },
     "execution_count": 26,
     "metadata": {},
     "output_type": "execute_result"
    }
   ],
   "source": [
    "only_solids.head()"
   ]
  },
  {
   "cell_type": "code",
   "execution_count": 27,
   "metadata": {},
   "outputs": [
    {
     "name": "stdout",
     "output_type": "stream",
     "text": [
      "<class 'pandas.core.frame.DataFrame'>\n",
      "Int64Index: 956 entries, 1322 to 20213\n",
      "Data columns (total 19 columns):\n",
      " #   Column               Non-Null Count  Dtype  \n",
      "---  ------               --------------  -----  \n",
      " 0   Chromophore          956 non-null    object \n",
      " 1   Solvent              956 non-null    object \n",
      " 2   Emission max (nm)    897 non-null    float64\n",
      " 3   RDKit_Mol_Class      956 non-null    object \n",
      " 4   qm9_pattern_indexes  956 non-null    object \n",
      " 5   N_count              956 non-null    int64  \n",
      " 6   O_count              956 non-null    int64  \n",
      " 7   S_count              956 non-null    int64  \n",
      " 8   F_count              956 non-null    int64  \n",
      " 9   Cl_count             956 non-null    int64  \n",
      " 10  Br_count             956 non-null    int64  \n",
      " 11  I_count              956 non-null    int64  \n",
      " 12  Se_count             956 non-null    int64  \n",
      " 13  Te_count             956 non-null    int64  \n",
      " 14  Si_count             956 non-null    int64  \n",
      " 15  P_count              956 non-null    int64  \n",
      " 16  B_count              956 non-null    int64  \n",
      " 17  Sn_count             956 non-null    int64  \n",
      " 18  Ge_count             956 non-null    int64  \n",
      "dtypes: float64(1), int64(14), object(4)\n",
      "memory usage: 149.4+ KB\n"
     ]
    }
   ],
   "source": [
    "only_solids.info()"
   ]
  },
  {
   "cell_type": "markdown",
   "metadata": {},
   "source": [
    "### Create subset of chromophores consisting of C, O, N, F atoms"
   ]
  },
  {
   "cell_type": "code",
   "execution_count": 28,
   "metadata": {},
   "outputs": [
    {
     "name": "stderr",
     "output_type": "stream",
     "text": [
      "100%|██████████| 11/11 [00:00<00:00, 54.85it/s]\n"
     ]
    }
   ],
   "source": [
    "only_solids_conf = only_solids.copy()\n",
    "for atom in tqdm([x.strip() for x in \"S, Cl, Br, I, Se, Te, Si, P, B, Sn, Ge\".split(\",\")]):\n",
    "    only_solids_conf.drop(only_solids_conf[only_solids_conf[f\"{atom}_count\"]>0].index, inplace=True)\n",
    "    only_solids_conf.drop(columns=f\"{atom}_count\", inplace=True)"
   ]
  },
  {
   "cell_type": "code",
   "execution_count": 29,
   "metadata": {},
   "outputs": [
    {
     "data": {
      "text/html": [
       "<div>\n",
       "<style scoped>\n",
       "    .dataframe tbody tr th:only-of-type {\n",
       "        vertical-align: middle;\n",
       "    }\n",
       "\n",
       "    .dataframe tbody tr th {\n",
       "        vertical-align: top;\n",
       "    }\n",
       "\n",
       "    .dataframe thead th {\n",
       "        text-align: right;\n",
       "    }\n",
       "</style>\n",
       "<table border=\"1\" class=\"dataframe\">\n",
       "  <thead>\n",
       "    <tr style=\"text-align: right;\">\n",
       "      <th></th>\n",
       "      <th>Chromophore</th>\n",
       "      <th>Solvent</th>\n",
       "      <th>Emission max (nm)</th>\n",
       "      <th>RDKit_Mol_Class</th>\n",
       "      <th>qm9_pattern_indexes</th>\n",
       "      <th>N_count</th>\n",
       "      <th>O_count</th>\n",
       "      <th>F_count</th>\n",
       "    </tr>\n",
       "  </thead>\n",
       "  <tbody>\n",
       "    <tr>\n",
       "      <th>1322</th>\n",
       "      <td>O=c1oc2ccccc2cc1-c1cn2ccccc2n1</td>\n",
       "      <td>O=c1oc2ccccc2cc1-c1cn2ccccc2n1</td>\n",
       "      <td>520.0</td>\n",
       "      <td>&lt;rdkit.Chem.rdchem.Mol object at 0x000001CF14F...</td>\n",
       "      <td>[0, 1, 2, 5, 6, 50, 201, 213, 214, 924, 4994, ...</td>\n",
       "      <td>2</td>\n",
       "      <td>2</td>\n",
       "      <td>0</td>\n",
       "    </tr>\n",
       "    <tr>\n",
       "      <th>1323</th>\n",
       "      <td>CCN(CC)c1ccc2cc(-c3cn4ccccc4n3)c(=O)oc2c1</td>\n",
       "      <td>CCN(CC)c1ccc2cc(-c3cn4ccccc4n3)c(=O)oc2c1</td>\n",
       "      <td>593.0</td>\n",
       "      <td>&lt;rdkit.Chem.rdchem.Mol object at 0x000001CF14F...</td>\n",
       "      <td>[0, 1, 2, 5, 6, 50, 201, 213, 214, 924, 939, 4...</td>\n",
       "      <td>3</td>\n",
       "      <td>2</td>\n",
       "      <td>0</td>\n",
       "    </tr>\n",
       "    <tr>\n",
       "      <th>1324</th>\n",
       "      <td>CCN(CC)c1ccc2cc(-c3cn4cc(C)ccc4n3)c(=O)oc2c1</td>\n",
       "      <td>CCN(CC)c1ccc2cc(-c3cn4cc(C)ccc4n3)c(=O)oc2c1</td>\n",
       "      <td>557.0</td>\n",
       "      <td>&lt;rdkit.Chem.rdchem.Mol object at 0x000001CF14F...</td>\n",
       "      <td>[0, 1, 2, 5, 6, 50, 201, 213, 214, 924, 931, 9...</td>\n",
       "      <td>3</td>\n",
       "      <td>2</td>\n",
       "      <td>0</td>\n",
       "    </tr>\n",
       "    <tr>\n",
       "      <th>1325</th>\n",
       "      <td>CCN(CC)c1ccc2cc(-c3cn4cc5ccccc5cc4n3)c(=O)oc2c1</td>\n",
       "      <td>CCN(CC)c1ccc2cc(-c3cn4cc5ccccc5cc4n3)c(=O)oc2c1</td>\n",
       "      <td>590.0</td>\n",
       "      <td>&lt;rdkit.Chem.rdchem.Mol object at 0x000001CF14F...</td>\n",
       "      <td>[0, 1, 2, 5, 6, 50, 201, 213, 214, 924, 939, 4...</td>\n",
       "      <td>3</td>\n",
       "      <td>2</td>\n",
       "      <td>0</td>\n",
       "    </tr>\n",
       "    <tr>\n",
       "      <th>2412</th>\n",
       "      <td>COc1ccc(N(c2ccccc2)c2ccccc2)cc1</td>\n",
       "      <td>COc1ccc(N(c2ccccc2)c2ccccc2)cc1</td>\n",
       "      <td>373.0</td>\n",
       "      <td>&lt;rdkit.Chem.rdchem.Mol object at 0x000001CF14F...</td>\n",
       "      <td>[0, 1, 2, 7, 14, 213, 939, 948, 4581, 5388, 53...</td>\n",
       "      <td>1</td>\n",
       "      <td>1</td>\n",
       "      <td>0</td>\n",
       "    </tr>\n",
       "  </tbody>\n",
       "</table>\n",
       "</div>"
      ],
      "text/plain": [
       "                                          Chromophore  \\\n",
       "1322                   O=c1oc2ccccc2cc1-c1cn2ccccc2n1   \n",
       "1323        CCN(CC)c1ccc2cc(-c3cn4ccccc4n3)c(=O)oc2c1   \n",
       "1324     CCN(CC)c1ccc2cc(-c3cn4cc(C)ccc4n3)c(=O)oc2c1   \n",
       "1325  CCN(CC)c1ccc2cc(-c3cn4cc5ccccc5cc4n3)c(=O)oc2c1   \n",
       "2412                  COc1ccc(N(c2ccccc2)c2ccccc2)cc1   \n",
       "\n",
       "                                              Solvent  Emission max (nm)  \\\n",
       "1322                   O=c1oc2ccccc2cc1-c1cn2ccccc2n1              520.0   \n",
       "1323        CCN(CC)c1ccc2cc(-c3cn4ccccc4n3)c(=O)oc2c1              593.0   \n",
       "1324     CCN(CC)c1ccc2cc(-c3cn4cc(C)ccc4n3)c(=O)oc2c1              557.0   \n",
       "1325  CCN(CC)c1ccc2cc(-c3cn4cc5ccccc5cc4n3)c(=O)oc2c1              590.0   \n",
       "2412                  COc1ccc(N(c2ccccc2)c2ccccc2)cc1              373.0   \n",
       "\n",
       "                                        RDKit_Mol_Class  \\\n",
       "1322  <rdkit.Chem.rdchem.Mol object at 0x000001CF14F...   \n",
       "1323  <rdkit.Chem.rdchem.Mol object at 0x000001CF14F...   \n",
       "1324  <rdkit.Chem.rdchem.Mol object at 0x000001CF14F...   \n",
       "1325  <rdkit.Chem.rdchem.Mol object at 0x000001CF14F...   \n",
       "2412  <rdkit.Chem.rdchem.Mol object at 0x000001CF14F...   \n",
       "\n",
       "                                    qm9_pattern_indexes  N_count  O_count  \\\n",
       "1322  [0, 1, 2, 5, 6, 50, 201, 213, 214, 924, 4994, ...        2        2   \n",
       "1323  [0, 1, 2, 5, 6, 50, 201, 213, 214, 924, 939, 4...        3        2   \n",
       "1324  [0, 1, 2, 5, 6, 50, 201, 213, 214, 924, 931, 9...        3        2   \n",
       "1325  [0, 1, 2, 5, 6, 50, 201, 213, 214, 924, 939, 4...        3        2   \n",
       "2412  [0, 1, 2, 7, 14, 213, 939, 948, 4581, 5388, 53...        1        1   \n",
       "\n",
       "      F_count  \n",
       "1322        0  \n",
       "1323        0  \n",
       "1324        0  \n",
       "1325        0  \n",
       "2412        0  "
      ]
     },
     "execution_count": 29,
     "metadata": {},
     "output_type": "execute_result"
    }
   ],
   "source": [
    "only_solids_conf.head()"
   ]
  },
  {
   "cell_type": "code",
   "execution_count": 30,
   "metadata": {},
   "outputs": [
    {
     "name": "stdout",
     "output_type": "stream",
     "text": [
      "<class 'pandas.core.frame.DataFrame'>\n",
      "Int64Index: 558 entries, 1322 to 20213\n",
      "Data columns (total 8 columns):\n",
      " #   Column               Non-Null Count  Dtype  \n",
      "---  ------               --------------  -----  \n",
      " 0   Chromophore          558 non-null    object \n",
      " 1   Solvent              558 non-null    object \n",
      " 2   Emission max (nm)    523 non-null    float64\n",
      " 3   RDKit_Mol_Class      558 non-null    object \n",
      " 4   qm9_pattern_indexes  558 non-null    object \n",
      " 5   N_count              558 non-null    int64  \n",
      " 6   O_count              558 non-null    int64  \n",
      " 7   F_count              558 non-null    int64  \n",
      "dtypes: float64(1), int64(3), object(4)\n",
      "memory usage: 59.2+ KB\n"
     ]
    }
   ],
   "source": [
    "only_solids_conf.info()"
   ]
  },
  {
   "cell_type": "markdown",
   "metadata": {},
   "source": [
    "## Save databases"
   ]
  },
  {
   "cell_type": "code",
   "execution_count": 31,
   "metadata": {},
   "outputs": [],
   "source": [
    "only_solids.drop(columns=[\"RDKit_Mol_Class\", \"Solvent\"]).to_json(\"only_solids.json\")\n",
    "only_solids_conf.drop(columns=[\"RDKit_Mol_Class\", \"Solvent\"]).to_json(\"only_solids_conf.json\")"
   ]
  }
 ],
 "metadata": {
  "kernelspec": {
   "display_name": "Python 3",
   "language": "python",
   "name": "python3"
  },
  "language_info": {
   "codemirror_mode": {
    "name": "ipython",
    "version": 3
   },
   "file_extension": ".py",
   "mimetype": "text/x-python",
   "name": "python",
   "nbconvert_exporter": "python",
   "pygments_lexer": "ipython3",
   "version": "3.8.5"
  }
 },
 "nbformat": 4,
 "nbformat_minor": 4
}
